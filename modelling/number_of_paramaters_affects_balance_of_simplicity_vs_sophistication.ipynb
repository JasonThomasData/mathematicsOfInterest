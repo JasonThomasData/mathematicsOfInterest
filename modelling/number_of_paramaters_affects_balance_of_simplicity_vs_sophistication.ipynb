{
 "cells": [
  {
   "cell_type": "markdown",
   "id": "bf3a0e44",
   "metadata": {},
   "source": [
    "### Example of how more parameters can mean more assumptions"
   ]
  },
  {
   "cell_type": "markdown",
   "id": "faa2a496",
   "metadata": {},
   "source": [
    "There are two simple models (and perhaps more) for the spread of diseases.\n",
    "\n",
    "$ f(x) = mx + c $, where $ m $ is fit to some data. This might make sense for where people transmit an airborne virus and the outcome depends on how many people there are in an area.\n",
    "\n",
    "$ f(x) = c $, which implies that the rate of spread is constant regardless of parameters. This might make sense for sexually transmitted diseases where people don't have more sex when there are more people nearby, for example.\n"
   ]
  },
  {
   "cell_type": "code",
   "execution_count": 1,
   "id": "4159492c",
   "metadata": {},
   "outputs": [],
   "source": [
    "y_intercept = .1 #This will never actually be 0 for models 1+3\n",
    "gradient = .2 # eg fit to linear x space, in this case arbitrarily set for models 1+3\n",
    "\n",
    "def model_1(x):\n",
    "    if gradient < 0:\n",
    "        raise \"gradient must be larger than 0\"\n",
    "\n",
    "    return gradient*x + y_intercept\n",
    "    \n",
    "def model_2(x):\n",
    "    y_intercept = 1 # This doesn't seem intuitive and is one reason the model falls over when x=0\n",
    "    gradient = 0\n",
    "    return gradient*x + y_intercept"
   ]
  },
  {
   "cell_type": "code",
   "execution_count": 2,
   "id": "eb7575c5",
   "metadata": {},
   "outputs": [
    {
     "data": {
      "image/png": "[encoded data removed]",
      "text/plain": [
       "<Figure size 720x720 with 1 Axes>"
      ]
     },
     "metadata": {
      "needs_background": "light"
     },
     "output_type": "display_data"
    }
   ],
   "source": [
    "import numpy as np\n",
    "import matplotlib.pyplot as plt\n",
    "\n",
    "x_limits = (0, 10)\n",
    "x_count = x_limits[1] - x_limits[0] + 1 #+1 for 0\n",
    "y_limits = (0, 10)\n",
    "\n",
    "fig = plt.figure(figsize=(10,10))\n",
    "axes = plt.subplot()\n",
    "\n",
    "x = np.linspace(x_limits[0],x_limits[1], num=x_count)\n",
    "\n",
    "# Static\n",
    "axes.plot(x, model_1(x))\n",
    "axes.plot(x, model_2(x))\n",
    "\n",
    "\n",
    "axes.set_aspect( 1 )\n",
    "axes.set_xbound(x_limits)\n",
    "axes.set_ybound(y_limits)\n",
    "\n",
    "plt.legend([\"f(x) = mx + c\", \"f(x) = c\"])\n",
    "\n",
    "plt.show()"
   ]
  },
  {
   "cell_type": "markdown",
   "id": "b27e20bc",
   "metadata": {},
   "source": [
    "For a situation where you don't know how the population will behave or how a virus would spread, then you could use a model with another parameter.\n",
    "\n",
    "$ f(x, q) = m^q x + c^\\frac{1}{q} $"
   ]
  },
  {
   "cell_type": "code",
   "execution_count": 3,
   "id": "5f42bdc5",
   "metadata": {},
   "outputs": [],
   "source": [
    "def model_3(x, q):\n",
    "    # A gradient of 1 will not be affected by any value of q\n",
    "    if gradient < 0:\n",
    "        raise \"gradient must be larger than 0\"\n",
    "    elif gradient <= 1 and y_intercept <= 1:\n",
    "        return (gradient**q)*x + y_intercept**(1/q)\n",
    "    elif gradient <= 1 and y_intercept > 1:\n",
    "        return (gradient**q)*x + y_intercept**(1-(1/q))\n",
    "    elif gradient > 1 and y_intercept <= 1:\n",
    "        return (gradient**(1-q))*x + y_intercept**(1/q)\n",
    "    elif gradient > 1 and y_intercept > 1:\n",
    "        return (gradient**q)*x + y_intercept**(1-(1/q))"
   ]
  },
  {
   "cell_type": "code",
   "execution_count": 4,
   "id": "b0c65dd9",
   "metadata": {},
   "outputs": [
    {
     "data": {
      "image/png": "[encoded data removed]",
      "text/plain": [
       "<Figure size 720x720 with 1 Axes>"
      ]
     },
     "metadata": {
      "needs_background": "light"
     },
     "output_type": "display_data"
    }
   ],
   "source": [
    "x_limits = (0, 10)\n",
    "x_count = x_limits[1] - x_limits[0] + 1 #+1 for 0\n",
    "y_limits = (0, 10)\n",
    "\n",
    "fig = plt.figure(figsize=(10,10))\n",
    "axes = plt.subplot()\n",
    "\n",
    "x = np.linspace(x_limits[0],x_limits[1], num=x_count)\n",
    "q = None\n",
    "\n",
    "# To be updated during animation\n",
    "txt_title = axes.set_title('')\n",
    "model_1_line, = axes.plot([], [])\n",
    "model_2_line, = axes.plot([], [])\n",
    "model_3_line, = axes.plot([], [])\n",
    " \n",
    "axes.set_aspect( 1 )\n",
    "axes.set_xbound(x_limits)\n",
    "axes.set_ybound(y_limits)\n",
    "\n",
    "plt.title(\"Where the arbitrary q={}\".format(q))\n",
    "plt.legend([\"f(x) = mx + c\", \"f(x) = c\", \"f(x) = (m^q)*x + c^(1/q)\"])\n",
    "\n",
    "plt.show()"
   ]
  },
  {
   "cell_type": "code",
   "execution_count": 5,
   "id": "3dca90a1",
   "metadata": {},
   "outputs": [
    {
     "name": "stderr",
     "output_type": "stream",
     "text": [
      "ffmpeg version 4.2.4-1ubuntu0.1 Copyright (c) 2000-2020 the FFmpeg developers\n",
      "  built with gcc 9 (Ubuntu 9.3.0-10ubuntu2)\n",
      "  configuration: --prefix=/usr --extra-version=1ubuntu0.1 --toolchain=hardened --libdir=/usr/lib/x86_64-linux-gnu --incdir=/usr/include/x86_64-linux-gnu --arch=amd64 --enable-gpl --disable-stripping --enable-avresample --disable-filter=resample --enable-avisynth --enable-gnutls --enable-ladspa --enable-libaom --enable-libass --enable-libbluray --enable-libbs2b --enable-libcaca --enable-libcdio --enable-libcodec2 --enable-libflite --enable-libfontconfig --enable-libfreetype --enable-libfribidi --enable-libgme --enable-libgsm --enable-libjack --enable-libmp3lame --enable-libmysofa --enable-libopenjpeg --enable-libopenmpt --enable-libopus --enable-libpulse --enable-librsvg --enable-librubberband --enable-libshine --enable-libsnappy --enable-libsoxr --enable-libspeex --enable-libssh --enable-libtheora --enable-libtwolame --enable-libvidstab --enable-libvorbis --enable-libvpx --enable-libwavpack --enable-libwebp --enable-libx265 --enable-libxml2 --enable-libxvid --enable-libzmq --enable-libzvbi --enable-lv2 --enable-omx --enable-openal --enable-opencl --enable-opengl --enable-sdl2 --enable-libdc1394 --enable-libdrm --enable-libiec61883 --enable-nvenc --enable-chromaprint --enable-frei0r --enable-libx264 --enable-shared\n",
      "  libavutil      56. 31.100 / 56. 31.100\n",
      "  libavcodec     58. 54.100 / 58. 54.100\n",
      "  libavformat    58. 29.100 / 58. 29.100\n",
      "  libavdevice    58.  8.100 / 58.  8.100\n",
      "  libavfilter     7. 57.100 /  7. 57.100\n",
      "  libavresample   4.  0.  0 /  4.  0.  0\n",
      "  libswscale      5.  5.100 /  5.  5.100\n",
      "  libswresample   3.  5.100 /  3.  5.100\n",
      "  libpostproc    55.  5.100 / 55.  5.100\n",
      "Input #0, mov,mp4,m4a,3gp,3g2,mj2, from 'diseaseSpreadModels.mp4':\n",
      "  Metadata:\n",
      "    major_brand     : isom\n",
      "    minor_version   : 512\n",
      "    compatible_brands: isomiso2avc1mp41\n",
      "    encoder         : Lavf58.29.100\n",
      "  Duration: 00:00:12.50, start: 0.000000, bitrate: 14 kb/s\n",
      "    Stream #0:0(und): Video: h264 (High) (avc1 / 0x31637661), yuv420p, 720x720, 13 kb/s, 4 fps, 4 tbr, 16384 tbn, 8 tbc (default)\n",
      "    Metadata:\n",
      "      handler_name    : VideoHandler\n",
      "File 'diseaseSpreadModels.gif' already exists. Overwrite ? [y/N] Not overwriting - exiting\n"
     ]
    },
    {
     "data": {
      "text/plain": [
       "CompletedProcess(args=['ffmpeg', '-i', 'diseaseSpreadModels.mp4', 'diseaseSpreadModels.gif'], returncode=1)"
      ]
     },
     "execution_count": 5,
     "metadata": {},
     "output_type": "execute_result"
    }
   ],
   "source": [
    "from matplotlib import animation\n",
    "\n",
    "def drawframe(n, *fargs):\n",
    "    # TODO - skip n=0, because that's division by 0 and it isn't defined.\n",
    "    if n == 0 or n == 1:\n",
    "        q = 1\n",
    "    else:\n",
    "        q = n\n",
    "\n",
    "    # Note, python here is accessing the lines defined in previous scope level, yuk but come at me\n",
    "    model_1_line.set_data(x, model_1(x))\n",
    "    model_2_line.set_data(x, model_2(x))\n",
    "    model_3_line.set_data(x, model_3(x,q))\n",
    "    \n",
    "    txt_title.set_text(\"Where the arbitrary q={}\".format(q))\n",
    "    return (model_1_line, model_2_line, model_3_line)\n",
    "\n",
    "# blit=True re-draws only the parts that have changed.\n",
    "anim = animation.FuncAnimation(fig, drawframe, frames=50, interval=1, blit=True)\n",
    "\n",
    "from IPython.display import HTML \n",
    "import subprocess\n",
    "writervideo = animation.FFMpegWriter(fps=4)\n",
    "anim.save('diseaseSpreadModels.mp4', writer=writervideo)\n",
    "\n",
    "subprocess.run([\"ffmpeg\", \"-i\", \"diseaseSpreadModels.mp4\", \"diseaseSpreadModels.gif\"])\n",
    "                               "
   ]
  },
  {
   "cell_type": "markdown",
   "id": "a082820d",
   "metadata": {},
   "source": [
    "![models_compared](diseaseSpreadModels.gif)"
   ]
  },
  {
   "cell_type": "markdown",
   "id": "5c3093a1",
   "metadata": {},
   "source": [
    "Then, this gives us more flexibility to use this model but the added sophistication now requires an extra parameter. In making recommendations to stakeholders, you would need to ask them to make assumptions about the value of $ q $. This tradeoff between sophistication and simplicity is a constant in the practice of mathematical modelling."
   ]
  }
 ],
 "metadata": {
  "kernelspec": {
   "display_name": "Python 3 (ipykernel)",
   "language": "python",
   "name": "python3"
  },
  "language_info": {
   "codemirror_mode": {
    "name": "ipython",
    "version": 3
   },
   "file_extension": ".py",
   "mimetype": "text/x-python",
   "name": "python",
   "nbconvert_exporter": "python",
   "pygments_lexer": "ipython3",
   "version": "3.8.10"
  }
 },
 "nbformat": 4,
 "nbformat_minor": 5
}
