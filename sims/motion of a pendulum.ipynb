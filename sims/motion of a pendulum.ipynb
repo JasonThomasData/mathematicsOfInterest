{
 "cells": [
  {
   "cell_type": "markdown",
   "id": "c99fce3c",
   "metadata": {},
   "source": [
    "### Simulation of a pendulum\n",
    "\n",
    "$ \\theta'' + \\frac{g}{l} \\sin \\theta = 0 $\n",
    "\n",
    "$ x_1 = \\theta $\n",
    "\n",
    "$ x_1' = \\theta' = x_2 $\n",
    "\n",
    "$ x_2' = -\\frac{g}{l} \\sin x_1 $\n",
    "\n",
    "### Observations about below\n",
    "\n",
    "Let:\n",
    "\n",
    "$ m $ be the mass, which actually isn't needed here\n",
    "\n",
    "$ k $ be friction. If $ k = 0 $ there is no friction and the phase plot will be neither a spiral sink or spiral source.\n",
    "\n",
    "$ l $ be the length of the pendulum\n",
    "\n",
    "$ g $ be the gravitational constant\n",
    "\n",
    "$ t $ be time\n",
    "\n",
    "$ x0 $ be the initial condition. The first element can be $ pi $, and that effectively means the pendulum points directly upwards.\n",
    "\n",
    "$ x1, x2 $ be the solutions. There are 2 since this is a system of two equations.\n",
    "\n",
    "If you assume that "
   ]
  },
  {
   "cell_type": "code",
   "execution_count": 55,
   "id": "cb05afbc",
   "metadata": {},
   "outputs": [
    {
     "data": {
      "image/png": "[encoded data removed]",
      "text/plain": [
       "<IPython.core.display.Image object>"
      ]
     },
     "metadata": {},
     "output_type": "display_data"
    },
    {
     "data": {
      "image/png": "[encoded data removed]",
      "text/plain": [
       "<IPython.core.display.Image object>"
      ]
     },
     "metadata": {},
     "output_type": "display_data"
    }
   ],
   "source": [
    "function dx = dynamics_pendulum(t,x)\n",
    "    k = 1; \n",
    "    l=.5; \n",
    "    g=9.81; \n",
    "    dx=[x(2); -(g/l)*sin(x(1))-k*x(2)];\n",
    "end\n",
    "\n",
    "time_step=0.05;\n",
    "t=[0:time_step:10];\n",
    "\n",
    "x0=[1; 1];\n",
    "[t2,solution]=ode45(@dynamics_pendulum,t,x0);\n",
    "x1=solution(:,1);\n",
    "x2=solution(:,2);\n",
    "\n",
    "plot(t2,x1,'r');\n",
    "grid;\n",
    "hold on;\n",
    "plot(t2,x2,'k');\n",
    "legend(\"solution 1, x1\", \"solution 2, x2\")\n",
    "\n",
    "hold off;\n",
    "\n",
    "figure;\n",
    "plot(x1, x2);"
   ]
  },
  {
   "cell_type": "code",
   "execution_count": 27,
   "id": "db970f9b",
   "metadata": {},
   "outputs": [
    {
     "name": "stdout",
     "output_type": "stream",
     "text": [
      "error: x(2): out of bound 0 (dimensions are 0x0)\r\n",
      "error: called from\r\n",
      "    dynamics_pendulum at line 5 column 7\r\n",
      "    slope_field at line 55 column 32\r\n"
     ]
    }
   ],
   "source": [
    "addpath('../differential_equations')\n",
    "\n",
    "slope_field(@dynamics_pendulum, [2,-2,2,-2])"
   ]
  },
  {
   "cell_type": "code",
   "execution_count": null,
   "id": "4bf5a589",
   "metadata": {},
   "outputs": [],
   "source": []
  }
 ],
 "metadata": {
  "kernelspec": {
   "display_name": "Octave",
   "language": "octave",
   "name": "octave"
  },
  "language_info": {
   "file_extension": ".m",
   "help_links": [
    {
     "text": "GNU Octave",
     "url": "https://www.gnu.org/software/octave/support.html"
    },
    {
     "text": "Octave Kernel",
     "url": "https://github.com/Calysto/octave_kernel"
    },
    {
     "text": "MetaKernel Magics",
     "url": "https://metakernel.readthedocs.io/en/latest/source/README.html"
    }
   ],
   "mimetype": "text/x-octave",
   "name": "octave",
   "version": "6.4.0"
  }
 },
 "nbformat": 4,
 "nbformat_minor": 5
}
