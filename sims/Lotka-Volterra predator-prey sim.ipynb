{
 "cells": [
  {
   "cell_type": "markdown",
   "id": "07096d78",
   "metadata": {},
   "source": [
    "### Lotka-Volterra predator prey sim\n",
    "\n",
    "Predator prey models have the form:\n",
    "\n",
    "$ \\frac{dx}{dt} = \\alpha x - \\beta xy $\n",
    "\n",
    "$ \\frac{dy}{dt} = \\delta xy - \\gamma y $\n",
    "\n",
    "Then we can represent this as a matrix:\n",
    "\n",
    "$ \\left[ \\begin{matrix} 1 & 0 \\\\ 0 & 1 \\end{matrix} \\right]  \\left[\\begin{matrix} \\frac{dx}{dt} \\\\ \\frac{dy}{dt}  \\end{matrix} \\right] = \\left[ \\begin{matrix} \\alpha x - \\beta xy & 0 \\\\ 0 & \\delta xy - \\gamma y \\end{matrix} \\right] $\n",
    "\n",
    "So given the initial condition (current population of animals):\n",
    "\n",
    "$ p = \\left[ \\begin{matrix} x \\\\ y \\end{matrix} \\right] $\n",
    "\n",
    "Then this is the format that the Octave function must take:\n",
    "\n",
    "$ \\left[ \\begin{matrix} \\alpha - \\beta y & 0 \\\\ 0 & \\delta x - \\gamma \\end{matrix} \\right] \\left[ \\begin{matrix} x \\\\ y \\end{matrix} \\right]$\n",
    "\n",
    "We do this so that the matrix order is the same, so that the function `Lotka_Volterra_Model` receives and returns a $2*1$ matrix.\n"
   ]
  },
  {
   "cell_type": "code",
   "execution_count": 1,
   "id": "cf85efcc",
   "metadata": {},
   "outputs": [],
   "source": [
    "close all;\n",
    "clear all;\n",
    "\n",
    "function dp = Lotka_Volterra_Model(t,p)\n",
    "    alpha = 0.9; # Some made up parameters, \n",
    "    beta = 1;\n",
    "    delta = 0.3;\n",
    "    gamma = 0.2;\n",
    "    A = [alpha - beta*p(2), 0; 0, delta*p(1) - gamma];\n",
    "    dp = A*p; #same order matrix as function parameter p\n",
    "end\n",
    "\n",
    "t0 = 0;\n",
    "tfinal = 80;\n",
    "p0 = [8; 2]; # prey, predator initial conditions\n",
    "\n",
    "[t,p] = ode45(@Lotka_Volterra_Model,[t0, tfinal],p0);"
   ]
  },
  {
   "cell_type": "markdown",
   "id": "8f2752b0",
   "metadata": {},
   "source": [
    "The following plot shows the prey (blue) line grows, so the predators (red) catch up, the prey population collapses, so does the predator population, and the cycle repeats."
   ]
  },
  {
   "cell_type": "code",
   "execution_count": 2,
   "id": "b87a5b66",
   "metadata": {},
   "outputs": [
    {
     "data": {
      "image/png": "[encoded data removed]",
      "text/plain": [
       "<IPython.core.display.Image object>"
      ]
     },
     "metadata": {},
     "output_type": "display_data"
    }
   ],
   "source": [
    "figure;\n",
    "\n",
    "plot(t,p)\n",
    "legend(\"x population\", \"y population\")"
   ]
  },
  {
   "cell_type": "markdown",
   "id": "9002eab6",
   "metadata": {},
   "source": [
    "The following plot shows how the populations interact. It's the same situation as the previous plot but it's a phase plane. It shows as the prey grows so do the predators. As the predators grow then the prey shrink."
   ]
  },
  {
   "cell_type": "code",
   "execution_count": 3,
   "id": "4fd1f233",
   "metadata": {},
   "outputs": [
    {
     "data": {
      "image/png": "[encoded data removed]",
      "text/plain": [
       "<IPython.core.display.Image object>"
      ]
     },
     "metadata": {},
     "output_type": "display_data"
    }
   ],
   "source": [
    "figure;\n",
    "\n",
    "plot(p(:,1),p(:,2))\n",
    "xlabel(\"x population\");\n",
    "ylabel(\"y population\");"
   ]
  },
  {
   "cell_type": "code",
   "execution_count": null,
   "id": "7e92d026",
   "metadata": {},
   "outputs": [],
   "source": []
  }
 ],
 "metadata": {
  "kernelspec": {
   "display_name": "Octave",
   "language": "octave",
   "name": "octave"
  },
  "language_info": {
   "file_extension": ".m",
   "help_links": [
    {
     "text": "GNU Octave",
     "url": "https://www.gnu.org/software/octave/support.html"
    },
    {
     "text": "Octave Kernel",
     "url": "https://github.com/Calysto/octave_kernel"
    },
    {
     "text": "MetaKernel Magics",
     "url": "https://metakernel.readthedocs.io/en/latest/source/README.html"
    }
   ],
   "mimetype": "text/x-octave",
   "name": "octave",
   "version": "6.4.0"
  }
 },
 "nbformat": 4,
 "nbformat_minor": 5
}
