{
 "cells": [
  {
   "cell_type": "markdown",
   "id": "07096d78",
   "metadata": {},
   "source": [
    "### Lotka-Volterra predator prey sim\n",
    "\n",
    "Predator prey models have the form:\n",
    "\n",
    "$ \\frac{dx}{dt} = \\alpha x - \\beta xy $\n",
    "\n",
    "$ \\frac{dy}{dt} = \\delta xy - \\gamma y $\n",
    "\n",
    "The the below code uses the matrix:\n",
    "\n",
    "$ \\left[ \\begin{matrix} \\alpha x - \\beta xy & 0 \\\\ 0 & \\delta xy - \\gamma y \\end{matrix} \\right] $\n",
    "\n",
    "And this reflects: \n",
    "\n",
    "$ \\frac{dx}{dt} $ is proportional to $ \\alpha x $\n",
    "\n",
    "$ \\frac{dy}{dt} $ is proportional to $ -\\gamma y $\n",
    "\n",
    "So given the current population of animals:\n",
    "\n",
    "$ p = [x,y] $\n",
    "\n",
    "Then the next moment is:\n",
    "\n",
    "$ \\left[ \\begin{matrix} \\alpha x - \\beta xy & 0 \\\\ 0 & \\delta xy - \\gamma y \\end{matrix} \\right] $\n",
    "\n",
    "$ \\left[ \\begin{matrix} \\alpha - \\beta y & 0 \\\\ 0 & \\delta x - \\gamma \\end{matrix} \\right] \\left[ \\begin{matrix} x \\\\ y \\end{matrix} \\right]$\n",
    "\n",
    "The above line is how the code computes the next value of $ p $"
   ]
  },
  {
   "cell_type": "code",
   "execution_count": 3,
   "id": "cf85efcc",
   "metadata": {},
   "outputs": [],
   "source": [
    "close all;\n",
    "clear all;\n",
    "\n",
    "# I renamed y -> p for \"populations\" to avoid confusing myself\n",
    "\n",
    "function dp = Lotka_Volterra_Model(t,p)\n",
    "    # disp(t); disp(\"next t\"); \n",
    "    # shows that ode45 always passes next individla t\n",
    "    # disp(p); disp(\"next p\");\n",
    "    # shows that ode45 always passes next vector (current populations)\n",
    "    alpha = 0.9;\n",
    "    beta = 1;\n",
    "    delta = 0.3;\n",
    "    gamma = 0.2;\n",
    "    A = [alpha - beta*p(2), 0; 0, delta*p(1) - gamma];\n",
    "    dp = A*p;\n",
    "end\n",
    "\n",
    "t0 = 0;\n",
    "\n",
    "tfinal = 80;\n",
    "\n",
    "% We normalise the initial condition\n",
    "p0 = [10; 1]; # prey, predeator\n",
    "\n",
    "% Simulate the differential equation.\n",
    "[t,p] = ode45(@Lotka_Volterra_Model,[t0, tfinal],p0);"
   ]
  },
  {
   "cell_type": "markdown",
   "id": "8f2752b0",
   "metadata": {},
   "source": [
    "The following plot shows the prey (blue) line grows, so the predators (red) catch up, the prey population collapses, so does the predator population, and the cycle repeats.\n",
    "\n",
    "."
   ]
  },
  {
   "cell_type": "code",
   "execution_count": 4,
   "id": "b87a5b66",
   "metadata": {},
   "outputs": [
    {
     "data": {
      "image/png": "[encoded data removed]",
      "text/plain": [
       "<IPython.core.display.Image object>"
      ]
     },
     "metadata": {},
     "output_type": "display_data"
    }
   ],
   "source": [
    "figure;\n",
    "\n",
    "plot(t,p)"
   ]
  },
  {
   "cell_type": "markdown",
   "id": "9002eab6",
   "metadata": {},
   "source": [
    "The following plot shows how the populations interact. It's the same situation as the previous plot but it's a phase plane. It shows as the prey grows so do the predators. As the predators grow then the prey shrink.\n",
    "\n",
    "."
   ]
  },
  {
   "cell_type": "code",
   "execution_count": 5,
   "id": "4fd1f233",
   "metadata": {},
   "outputs": [
    {
     "data": {
      "image/png": "[encoded data removed]",
      "text/plain": [
       "<IPython.core.display.Image object>"
      ]
     },
     "metadata": {},
     "output_type": "display_data"
    }
   ],
   "source": [
    "figure;\n",
    "\n",
    "plot(p(:,1),p(:,2))"
   ]
  },
  {
   "cell_type": "code",
   "execution_count": null,
   "id": "e1c001a9",
   "metadata": {},
   "outputs": [],
   "source": []
  }
 ],
 "metadata": {
  "kernelspec": {
   "display_name": "Octave",
   "language": "octave",
   "name": "octave"
  },
  "language_info": {
   "file_extension": ".m",
   "help_links": [
    {
     "text": "GNU Octave",
     "url": "https://www.gnu.org/software/octave/support.html"
    },
    {
     "text": "Octave Kernel",
     "url": "https://github.com/Calysto/octave_kernel"
    },
    {
     "text": "MetaKernel Magics",
     "url": "https://metakernel.readthedocs.io/en/latest/source/README.html"
    }
   ],
   "mimetype": "text/x-octave",
   "name": "octave",
   "version": "6.4.0"
  }
 },
 "nbformat": 4,
 "nbformat_minor": 5
}
