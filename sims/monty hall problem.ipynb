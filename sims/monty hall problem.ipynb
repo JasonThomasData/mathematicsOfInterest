{
 "cells": [
  {
   "cell_type": "markdown",
   "id": "9b93b443",
   "metadata": {},
   "source": [
    "### Monty Hall Problem\n",
    "\n",
    "Given three doors, there's a car behind one.\n",
    "\n",
    "Choose a door and then you are shown a door that doesn't have the car behind it.\n",
    "\n",
    "You can then choose another door...\n",
    "\n",
    "---\n",
    "\n",
    "The best solution is to switch doors.\n",
    "\n",
    "- If your strategy is to pick a door and then keep that door, you have a 1/3 chance to succeed\n",
    "- If your strategy is to switch, you have a 2/3 chance to pick a first door with no car. Assuming you do pick a door without a car initially then when you are shown the other door that has no car, you switch. Then the next door has a car and there was a 2/3 chance for it to happen.\n",
    "\n",
    "---\n",
    "\n",
    "In my experience people have gotten upset with this explanation as it defies common sense."
   ]
  },
  {
   "cell_type": "code",
   "execution_count": 39,
   "id": "b81994ec",
   "metadata": {},
   "outputs": [],
   "source": [
    "function doorsRemaining = removeOneDoor(doorWithCar, doorPick)\n",
    "    doorsRemaining = [1 2 3];\n",
    "    for i=1:3;\n",
    "        if i!=doorWithCar && i!=doorPick\n",
    "            doorsRemaining(i) = [];\n",
    "            return\n",
    "        end\n",
    "    end\n",
    "end\n",
    "\n",
    "function newDoor = switchDoor(doorPick, doorsRemaining)\n",
    "    for i=1:2;\n",
    "        if i!=doorPick\n",
    "            newDoor = doorsRemaining(i);\n",
    "            return\n",
    "        end\n",
    "    end\n",
    "end\n",
    "\n",
    "trials=500;\n",
    "\n",
    "# Don't switch\n",
    "dontSwitchSuccess=0;\n",
    "for i=1:trials\n",
    "    doorWithCar = randi(3);\n",
    "    doorPick = randi(3);\n",
    "    \n",
    "    # This should be 1/3 or very close to it\n",
    "    if doorWithCar == doorPick\n",
    "        dontSwitchSuccess = dontSwitchSuccess + 1;\n",
    "    end\n",
    "    \n",
    "    # Removing a door doesn't change the chances if you keep the initial door\n",
    "end\n",
    "\n",
    "# Do switch\n",
    "switchSuccesses=0;\n",
    "for i=1:trials\n",
    "    doorWithCar = randi(3);\n",
    "    doorPick = randi(3);\n",
    "    \n",
    "    # The host reveals the door with no car that you haven't picked\n",
    "    \n",
    "    doorsRemaining = removeOneDoor(doorWithCar, doorPick);\n",
    "    newDoor = switchDoor(doorPick, doorsRemaining);\n",
    "    \n",
    "    if doorWithCar == newDoor\n",
    "        switchSuccesses = switchSuccesses + 1;\n",
    "    end\n",
    "    \n",
    "end\n"
   ]
  },
  {
   "cell_type": "code",
   "execution_count": 40,
   "id": "c52a2f0d",
   "metadata": {},
   "outputs": [
    {
     "name": "stdout",
     "output_type": "stream",
     "text": [
      "Don't switch win rate\n",
      "0.3120\n",
      "Switch win rate\n",
      "0.6520\n"
     ]
    }
   ],
   "source": [
    "# Note these are independent trials and we shouldn't expect these to add up to 1\n",
    "\n",
    "disp(\"Don't switch win rate\");\n",
    "disp(dontSwitchSuccess/trials);\n",
    "disp(\"Switch win rate\");\n",
    "disp(switchSuccesses/trials);"
   ]
  },
  {
   "cell_type": "code",
   "execution_count": null,
   "id": "629a03de",
   "metadata": {},
   "outputs": [],
   "source": []
  }
 ],
 "metadata": {
  "kernelspec": {
   "display_name": "Octave",
   "language": "octave",
   "name": "octave"
  },
  "language_info": {
   "file_extension": ".m",
   "help_links": [
    {
     "text": "GNU Octave",
     "url": "https://www.gnu.org/software/octave/support.html"
    },
    {
     "text": "Octave Kernel",
     "url": "https://github.com/Calysto/octave_kernel"
    },
    {
     "text": "MetaKernel Magics",
     "url": "https://metakernel.readthedocs.io/en/latest/source/README.html"
    }
   ],
   "mimetype": "text/x-octave",
   "name": "octave",
   "version": "6.4.0"
  }
 },
 "nbformat": 4,
 "nbformat_minor": 5
}
