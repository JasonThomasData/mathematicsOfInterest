{
 "cells": [
  {
   "cell_type": "markdown",
   "id": "7d121ebe",
   "metadata": {},
   "source": [
    "### Approximating pi\n",
    "\n",
    "Below, we can think about the first quadrant of the unit circle, for ease of computation\n",
    "\n",
    "![pic of thoughts](pi.png)\n",
    "\n",
    "The picture above shows that in the first quadrant of the unit circle, $ \\frac{4b}{a+b} $ will yield an approximation for $ \\pi $\n",
    "\n",
    "##### Let:\n",
    "\n",
    "The square that bounds the circle be a linear space over $ \\mathbb{R}^2 $\n",
    "\n",
    "$ x, y $ be equal-spaced points in the linear space\n",
    "\n",
    "$ r $ be the circle radius.\n",
    "\n",
    "$ b $ be the region where $ |(x, y)| < r $\n",
    "\n",
    "$ a $ be the region where $ |(x, y)| > r $\n",
    "\n",
    "Points the same distance as $ r $ can be ignored.\n"
   ]
  },
  {
   "cell_type": "code",
   "execution_count": 3,
   "id": "22e0cd24",
   "metadata": {},
   "outputs": [
    {
     "name": "stdout",
     "output_type": "stream",
     "text": [
      "   0   0\n",
      "   100     0\n",
      "   200     0\n",
      "   300     0\n",
      "   400     0\n",
      "   500     0\n",
      "   600     0\n",
      "   700     0\n",
      "   800     0\n",
      "   900     0\n",
      "   1000      0\n",
      "   1100      0\n",
      "   1200      0\n",
      "   1300      0\n",
      "   1400      0\n",
      "   1500      0\n",
      "   1600      0\n",
      "   1700      0\n",
      "   1800      0\n",
      "   1900      0\n",
      "   2000      0\n",
      "   2100      0\n",
      "   2200      0\n",
      "   2300      0\n",
      "   2400      0\n",
      "   2500      0\n",
      "   2600      0\n",
      "   2700      0\n",
      "   2800      0\n",
      "   2900      0\n",
      "   3000      0\n"
     ]
    }
   ],
   "source": [
    "clear;\n",
    "\n",
    "function length = get_length(x, y)\n",
    "    # the length here is the distance from the origin (0,0)\n",
    "    length = sqrt(x^2 + y^2);\n",
    "end\n",
    "\n",
    "function [a, b] = update_a_b(a, b, distance, r)\n",
    "    if (distance < r);\n",
    "        b = b + 1;\n",
    "    else (distance > r);\n",
    "        a = a + 1;\n",
    "    endif;\n",
    "end\n",
    "\n",
    "r = 3000;\n",
    "step = 1;\n",
    "\n",
    "a = 0;\n",
    "b = 0;\n",
    "\n",
    "# For performance reasons, loop over a range rather than having dedicated linspace() variables\n",
    "for x = 0:step:r\n",
    "    for y = 0:step:r\n",
    "        distance_origin = get_length(x, y);\n",
    "        [a, b] = update_a_b(a, b, distance_origin, r);\n",
    "        if (mod(x, 100) == 0 && y == 0);\n",
    "            disp([x,y]);\n",
    "        end\n",
    "    end\n",
    "end"
   ]
  },
  {
   "cell_type": "code",
   "execution_count": 4,
   "id": "0ed107c0",
   "metadata": {},
   "outputs": [
    {
     "name": "stdout",
     "output_type": "stream",
     "text": [
      "3.1408\r\n"
     ]
    }
   ],
   "source": [
    "approx_pi = (4*b)/(a+b);\n",
    "disp(approx_pi)"
   ]
  },
  {
   "cell_type": "code",
   "execution_count": null,
   "id": "3f14a1d8",
   "metadata": {},
   "outputs": [],
   "source": []
  }
 ],
 "metadata": {
  "kernelspec": {
   "display_name": "Octave",
   "language": "octave",
   "name": "octave"
  },
  "language_info": {
   "file_extension": ".m",
   "help_links": [
    {
     "text": "GNU Octave",
     "url": "https://www.gnu.org/software/octave/support.html"
    },
    {
     "text": "Octave Kernel",
     "url": "https://github.com/Calysto/octave_kernel"
    },
    {
     "text": "MetaKernel Magics",
     "url": "https://metakernel.readthedocs.io/en/latest/source/README.html"
    }
   ],
   "mimetype": "text/x-octave",
   "name": "octave",
   "version": "6.4.0"
  }
 },
 "nbformat": 4,
 "nbformat_minor": 5
}
