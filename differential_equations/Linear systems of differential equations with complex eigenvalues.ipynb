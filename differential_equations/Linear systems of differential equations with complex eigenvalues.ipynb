{
 "cells": [
  {
   "cell_type": "markdown",
   "id": "b44d6fd9",
   "metadata": {},
   "source": [
    "### Linear systems of differential equations with complex eigenvalues\n",
    "\n",
    "This follows from the notebook about linear systems of differential equations (eigenvectors)\n",
    "\n",
    "When you use the characteristic equation to substitute $ \\lambda $ into the matrix and then find the polynomial, the roots of the polynomial may turn out to be complex roots.\n",
    "\n",
    "They should always be complex conjugate roots. Given that fact then one eigenvalue defines the subsequent eigenvector, but also the other eigenvalue and eigenvector. That means that using one eigenvalue to find one eigenvector, and one solution to the differential equation, is all the information we should need.\n",
    "\n",
    "#### Finding a solution requires only one eigenvalue and eigenvector\n",
    "\n",
    "Let's say we have turned a pair of differential equations into this linear system:\n",
    "\n",
    "$ \\vec{x} = Ax = \\left[ \\begin{matrix} -2 & -3 \\\\ 3 & -2 \\end{matrix} \\right]x $\n",
    "\n",
    "Then if you use the characteristic equation then this becomes:\n",
    "\n",
    "$ \\det \\left( \\begin{matrix} -2-\\lambda & -3 \\\\ 3 & -2-\\lambda \\end{matrix} \\right) = (-2-\\lambda)(-2-\\lambda) - 3*(-3) = \\lambda^2 + 4\\lambda + 13 = 0 $\n",
    "\n",
    "Then you find the eigenvalues: $ -2 -3i, -2 + 3i $\n",
    "\n",
    "To find the eigenvalues we substitute these in as $ \\lambda $, which is the eigenvalue.\n",
    "\n",
    "$ \\left[ \\begin{matrix} -3i & -3 \\\\ 3 & -3i \\end{matrix} \\right] \\left[ \\begin{matrix} x \\\\ y \\end{matrix} \\right] = \\left[ \\begin{matrix} 0 \\\\ 0 \\end{matrix} \\right] $\n",
    "\n",
    "Then we get these two equations:\n",
    "\n",
    "$ -3ix - 3y = 0 $\n",
    "\n",
    "$ 3x - 3iy = 0 $\n",
    "\n",
    "These are scalar multiples of each other, and the multiple is $ i $. To see so, multiply the top equation by $ i $.\n",
    "\n",
    "$ i(-3ix - 3y) = 3x - 3iy $. Notice the RHS is now the second equation. This works because $ i^2 = -1 $\n",
    "\n",
    "Keep the first equation and now let $ x = i $\n",
    "\n",
    "$ -3ix - 3y = 0 $\n",
    "\n",
    "$ -3i^2 - 3y = 0 $\n",
    "\n",
    "$ 3 - 3y = 0 $, and for this to be true then $ y = 1 $. Notice we solved this without row operations or simultaneous equations.\n",
    "\n",
    "Then the eigenvector is $ \\left[ \\begin{matrix} i \\\\ 1 \\end{matrix} \\right] $\n",
    "\n",
    "So, we know that one solution to the equation is:\n",
    "\n",
    "$ x(t) = e^{(-2 +3i)t} \\left[ \\begin{matrix} i \\\\ 1 \\end{matrix} \\right] $\n",
    "\n",
    "#### Evaluation of an initial condition with a real value\n",
    "\n",
    "Recall that we got all the information we needed from a single eigenvalue and eigenvector.\n",
    "\n",
    "Then by using Euler's Identity:\n",
    "\n",
    "$ e^{i\\theta} = \\cos \\theta + i \\sin \\theta $\n",
    "\n",
    "$ e^{(-2 +3i)t} = e^{-2t} e^{3it} $\n",
    "\n",
    "$ e^{(-2 +3i)t} = e^{-2t} (\\cos(3t) + i\\sin(3t)) $\n",
    "\n",
    "Now let's substitute this result into the solution:\n",
    "\n",
    "$ x(t) = e^{-2t} (\\cos(3t) + i\\sin(3t)) \\left[ \\begin{matrix} i \\\\ 1 \\end{matrix} \\right] $\n",
    "\n",
    "$ x(t) = \\left[ \\begin{matrix} -e^{-2t} \\sin 3t \\\\ e^{-2t} \\cos 3t \\end{matrix} \\right] + i \\left[ \\begin{matrix} e^{-2t} \\cos 3t \\\\ e^{-2t} \\sin 3t \\end{matrix} \\right] $\n",
    "\n",
    "And above, we have the real parts on the LHS and the complex parts on the RHS.\n",
    "\n",
    "$ x(t) = x_\\text{real}(t) + i \\cdot x_\\text{imag}(t) $\n",
    "\n",
    "There is a theorem (Blanchard text p 301) that says we can express these as a linear combination and that will give us the general solution.\n",
    "\n",
    "$ x(t) = C_1 x_\\text{real}(t) + C_2 x_\\text{imag}(t) $\n",
    "\n",
    "Notice that when we substitute these in, we drop the $ i $.\n",
    "\n",
    "Note, I think this only works when the original coefficient matrix $ A $ has real values, no complex numbers.\n",
    "\n",
    "$ x(t) = C_1 \\left[ \\begin{matrix} -e^{-2t} \\sin 3t \\\\ e^{-2t} \\cos 3t \\end{matrix} \\right] + C_2 \\left[ \\begin{matrix} e^{-2t} \\cos 3t \\\\ e^{-2t} \\sin 3t \\end{matrix} \\right] $\n",
    "\n",
    "$ x(t) = C_1 e^{-2t} \\left[ \\begin{matrix} -\\sin 3t \\\\ \\cos 3t \\end{matrix} \\right] + C_2 e^{-2t} \\left[ \\begin{matrix} \\cos 3t \\\\ \\sin 3t \\end{matrix} \\right] $\n",
    "\n",
    "Generally we can know a lot already. The coefficient of $ t $ is either negative, positive, or 0. If it's negative (as in this example) then when you view the two differential equations on a slope chart then you will see they are a spiral sink.\n",
    "\n",
    "If the coefficient is positive it is a spiral source.\n",
    "\n",
    "If it's $ 0 $ then it should form a circle around the origing, which in this case would also be the equilibrium for the solution.\n",
    "\n",
    "##### TO DO - try and put a pair of differential equations, and a unique solution, on a slope field!\n",
    "\n"
   ]
  },
  {
   "cell_type": "code",
   "execution_count": 2,
   "id": "34c608da",
   "metadata": {},
   "outputs": [
    {
     "name": "stdout",
     "output_type": "stream",
     "text": [
      "ans = (sym) ⅈ⋅sin(y)\r\n"
     ]
    }
   ],
   "source": [
    "pkg load symbolic\n",
    "\n",
    "syms y\n",
    "\n",
    "simplify(i * sin(y))"
   ]
  },
  {
   "cell_type": "code",
   "execution_count": null,
   "id": "01e4cfad",
   "metadata": {},
   "outputs": [],
   "source": []
  }
 ],
 "metadata": {
  "kernelspec": {
   "display_name": "Octave",
   "language": "octave",
   "name": "octave"
  },
  "language_info": {
   "file_extension": ".m",
   "help_links": [
    {
     "text": "GNU Octave",
     "url": "https://www.gnu.org/software/octave/support.html"
    },
    {
     "text": "Octave Kernel",
     "url": "https://github.com/Calysto/octave_kernel"
    },
    {
     "text": "MetaKernel Magics",
     "url": "https://metakernel.readthedocs.io/en/latest/source/README.html"
    }
   ],
   "mimetype": "text/x-octave",
   "name": "octave",
   "version": "6.4.0"
  }
 },
 "nbformat": 4,
 "nbformat_minor": 5
}
