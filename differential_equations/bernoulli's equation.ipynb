{
 "cells": [
  {
   "cell_type": "markdown",
   "id": "1f46acf2",
   "metadata": {},
   "source": [
    "### Bernoulli's Differential Equation\n",
    "\n",
    "If you see this form of differential equation:\n",
    "\n",
    "$ y' + P(x)y = Q(x)y^n $\n",
    "\n",
    "Then this can be solved using the integrating method. But you need to make it look like a linear differential equation first.\n",
    "\n",
    "#### Derivation\n",
    "\n",
    "Take a look at the $ y^n $ part.\n",
    "\n",
    "Let:\n",
    "\n",
    "$ u = y^{1-n} $\n",
    "\n",
    "$ u' = (1 - n)y^{1-n-1} \\cdot y' $\n",
    "\n",
    "$ u' = (1 - n)y^{-n} \\cdot y' $\n",
    "\n",
    "Keep that result handy... and back to the original function:\n",
    "\n",
    "$ y' + P(x)y = Q(x)y^n $\n",
    "\n",
    "$ y^{-n}y' + P(x)y^{-n}y  = Q(x) $\n",
    "\n",
    "$ y^{-n}y' + P(x)y^{1-n}  = Q(x) $\n",
    "\n",
    "We can almost make the substitution, but:\n",
    "\n",
    "$ u' = (1 - n)y^{-n} \\cdot y' $\n",
    "\n",
    "$ \\frac{1}{(1-n)} u' = y^{-n} \\cdot y' $\n",
    "\n",
    "Then finally:\n",
    "\n",
    "$ \\frac{1}{(1-n)} u' + P(x)u  = Q(x) $\n",
    "\n",
    "Be sure to find the fraction and multiply all terms by the scalar constant that results, and it may flip signs.\n"
   ]
  },
  {
   "cell_type": "markdown",
   "id": "f0b45c11",
   "metadata": {},
   "source": [
    "#### How it differs from the integrating factor method\n",
    "\n",
    "Once the equation is in the standard linear form you can use the integrating factor method but it will be easier to unpack $ u $ first. See below.\n",
    "\n",
    "Usually by using the integrating factor method we could find the integrating factor $ I(x) $ and then jump straight to:\n",
    "\n",
    "$ y = \\frac{1}{I(x)} \\int I(x) Q(x) dx $\n",
    "\n",
    "But the reason the above shortcut works is because when we find $ I(x) $ we should multiply it everywhere:\n",
    "\n",
    "$ (\\frac{1}{1-n})I(x)u' + I(x)P(x)u = I(x)Q(x) $ \n",
    "\n",
    "Then this looks like the product rule for integration, but that would imply that $ \\frac{d}{dx} ( I(x) ) = I(x)P(x) $\n",
    "\n",
    "Since we want to integrate the LHS, then if the LHS was the chain rule then it would be (before the chain rule) $ uI(x) $\n",
    "\n",
    "This means:\n",
    "\n",
    "$ (\\frac{1}{1-n})u I(x) = \\int I(x) Q(x) dx $\n",
    "\n",
    "So, we no longer need to think about $ u' $\n",
    "\n",
    "You will need to unpack $ u $ to get it back in terms of $ y $. Don't forget the constant in terms of $ n $ and ideally do that first."
   ]
  },
  {
   "cell_type": "code",
   "execution_count": null,
   "id": "2263be8c",
   "metadata": {},
   "outputs": [],
   "source": []
  }
 ],
 "metadata": {
  "kernelspec": {
   "display_name": "Octave",
   "language": "octave",
   "name": "octave"
  },
  "language_info": {
   "file_extension": ".m",
   "help_links": [
    {
     "text": "GNU Octave",
     "url": "https://www.gnu.org/software/octave/support.html"
    },
    {
     "text": "Octave Kernel",
     "url": "https://github.com/Calysto/octave_kernel"
    },
    {
     "text": "MetaKernel Magics",
     "url": "https://metakernel.readthedocs.io/en/latest/source/README.html"
    }
   ],
   "mimetype": "text/x-octave",
   "name": "octave",
   "version": "6.4.0"
  }
 },
 "nbformat": 4,
 "nbformat_minor": 5
}
