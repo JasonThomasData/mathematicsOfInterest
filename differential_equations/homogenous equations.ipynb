{
 "cells": [
  {
   "cell_type": "markdown",
   "id": "1b8b569a",
   "metadata": {},
   "source": [
    "### Homogenous equations\n",
    "\n",
    "#### First order\n",
    "\n",
    "If a differential equation is not seperable and not solveable in a linear form then try this.\n",
    "\n",
    "$ \\frac{dy}{dx} = f(x,y) $\n",
    "\n",
    "Then make it look like\n",
    "\n",
    "$ \\frac{dy}{dx} = Q(\\frac{x}{y}) $\n",
    "\n",
    "This new function has a single term:\n",
    "\n",
    "$ v = \\frac{x}{y} $"
   ]
  },
  {
   "cell_type": "code",
   "execution_count": null,
   "id": "86bfba77",
   "metadata": {},
   "outputs": [],
   "source": []
  }
 ],
 "metadata": {
  "kernelspec": {
   "display_name": "Octave",
   "language": "octave",
   "name": "octave"
  },
  "language_info": {
   "file_extension": ".m",
   "help_links": [
    {
     "text": "GNU Octave",
     "url": "https://www.gnu.org/software/octave/support.html"
    },
    {
     "text": "Octave Kernel",
     "url": "https://github.com/Calysto/octave_kernel"
    },
    {
     "text": "MetaKernel Magics",
     "url": "https://metakernel.readthedocs.io/en/latest/source/README.html"
    }
   ],
   "mimetype": "text/x-octave",
   "name": "octave",
   "version": "6.4.0"
  }
 },
 "nbformat": 4,
 "nbformat_minor": 5
}
