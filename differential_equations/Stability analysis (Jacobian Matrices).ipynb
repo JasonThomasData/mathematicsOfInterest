{
 "cells": [
  {
   "cell_type": "markdown",
   "id": "fe025acd",
   "metadata": {},
   "source": [
    "### Jacobian matrix for linearisation (stability analysis)\n",
    "\n",
    "One way to analyse equilibria is to go through the process in the stability analysis notebook.\n",
    "\n",
    "Another way is to take a Jacobian Matrix of the system.\n",
    "\n",
    "Given a system of two differential equations:\n",
    "\n",
    "$ f(x,y) = \\frac{dx}{dt} = \\alpha x + \\beta y $\n",
    "\n",
    "$ g(x,y) = \\frac{dy}{dt} = \\gamma y - \\delta x $\n",
    "\n",
    "We could say the Jacobian Matrix for this sytem is:\n",
    "\n",
    "$ \\left[ \\begin{matrix} \\frac{\\partial f}{\\partial x} & \\frac{\\partial f}{\\partial y} \\\\ \\frac{\\partial g}{\\partial x} & \\frac{\\partial g}{\\partial y} \\end{matrix} \\right] = \\left[ \\begin{matrix} \\alpha & \\beta \\\\ \\gamma & \\delta \\end{matrix} \\right] $\n",
    "\n",
    "Notice in the above, that by differenting the partial then the part that is just constant terms disappears.\n",
    "\n",
    "#### Example - Lorenz Equations\n",
    "\n",
    "$ \\frac{dx}{dt} = -10x + 10y $\n",
    "\n",
    "$ \\frac{dy}{dt} = 28x -y - xz $\n",
    "\n",
    "$ \\frac{dz}{dt} = -8/3z + xy $\n",
    "\n",
    "Then the Jacobian Matrix will be:\n",
    "\n",
    "$ \\left[ \\begin{matrix} \\frac{\\partial f}{\\partial x} & \\frac{\\partial f}{\\partial y} & \\frac{\\partial f}{\\partial z} \\\\ \\frac{\\partial g}{\\partial x} & \\frac{\\partial g}{\\partial y} & \\frac{\\partial g}{\\partial z} \\\\\n",
    "\\frac{\\partial h}{\\partial x} & \\frac{\\partial h}{\\partial y} & \\frac{\\partial h}{\\partial z}\n",
    "\\end{matrix} \\right] $\n",
    "\n",
    "$ \\left[ \\begin{matrix} -10 & 10 & 0 \\\\ 28 - z & -1 & -x \\\\ y & x & -8/3\\end{matrix} \\right] $\n",
    "\n",
    "At the origin, $ (x,y,z) = (0,0,0) $\n",
    "\n",
    "$ \\left[ \\begin{matrix} -10 & 10 & 0 \\\\ 28 & -1 & 0 \\\\ 0 & 0 & -8/3\\end{matrix} \\right] $\n",
    "\n",
    "We can expand the matrix by multiplying it so:\n",
    "\n",
    "$ \\left[ \\begin{matrix} -10 & 10 & 0 \\\\ 28 & -1 & 0 \\\\ 0 & 0 & -8/3\\end{matrix} \\right] \\left[ \\begin{matrix} x \\\\ y \\\\ z \\end{matrix} \\right] $\n",
    "\n",
    "Then the system of equations becomes what is below. It is now _linearised at (around) the origin_\n",
    "\n",
    "$ \\frac{dx}{dt} = -10x + 10y $\n",
    "\n",
    "$ \\frac{dy}{dt} = 28x -y $\n",
    "\n",
    "$ \\frac{dz}{dt} = -8/3z $\n",
    "\n",
    "So, find the solution for $ z $ and then notice what happens: $ t \\to \\infty, z \\to 0 $ So then concerning the origin, you should be able to evaluate it as a regular two-dimensional plot. In this case it's a saddle."
   ]
  },
  {
   "cell_type": "code",
   "execution_count": null,
   "id": "4a55e926",
   "metadata": {},
   "outputs": [],
   "source": []
  }
 ],
 "metadata": {
  "kernelspec": {
   "display_name": "Octave",
   "language": "octave",
   "name": "octave"
  },
  "language_info": {
   "file_extension": ".m",
   "help_links": [
    {
     "text": "GNU Octave",
     "url": "https://www.gnu.org/software/octave/support.html"
    },
    {
     "text": "Octave Kernel",
     "url": "https://github.com/Calysto/octave_kernel"
    },
    {
     "text": "MetaKernel Magics",
     "url": "https://metakernel.readthedocs.io/en/latest/source/README.html"
    }
   ],
   "mimetype": "text/x-octave",
   "name": "octave",
   "version": "6.4.0"
  }
 },
 "nbformat": 4,
 "nbformat_minor": 5
}
