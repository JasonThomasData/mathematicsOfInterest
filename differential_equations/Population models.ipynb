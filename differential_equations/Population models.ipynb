{
 "cells": [
  {
   "cell_type": "markdown",
   "id": "22af7991",
   "metadata": {},
   "source": [
    "### Population models\n",
    "\n",
    "#### Exponential model\n",
    "\n",
    "If a population is only just starting to grow, we might observe that its growth rate is proportional to its population.\n",
    "\n",
    "$ \\frac{dP}{dt} = rP $\n",
    "\n",
    "Then we can integrate it to find:\n",
    "\n",
    "$ \\frac{1}{P} dP = r dt $\n",
    "\n",
    "$ \\ln P = rt + C_1 $\n",
    "\n",
    "$ P = e^{rt + C_1} $\n",
    "\n",
    "We now have the exponential growth model:\n",
    "\n",
    "$ P = C_2 e^{rt} $\n",
    "\n",
    "And this might be a good model at first. But, as a population grows then the growth rate might slow. We introduce the notion of a carrying capacity $ K $\n",
    "\n",
    "#### Logistic population model\n",
    "\n",
    "$ \\frac{dP}{dt} = rP\\left(1 - \\frac{P}{K}\\right) $\n",
    "\n",
    "And this implies that as $ P \\to K $ then $ \\frac{dP}{dt} \\to 0 $\n",
    "\n",
    "We can integrate this:\n",
    "\n",
    "$ \\frac{dP}{dt} = rP\\left(1 - \\frac{P}{K}\\right) $\n",
    "\n",
    "$ \\frac{1}{P\\left(1 - \\frac{P}{K}\\right)} \\frac{dP}{dt} = r $\n",
    "\n",
    "$ \\frac{K}{P\\left(K - P\\right)} \\frac{dP}{dt} = r $\n",
    "\n",
    "$ \\frac{K}{P\\left(K - P\\right)} dP = r \\cdot dt$\n",
    "\n",
    "Use partial fraction decomposition:\n",
    "\n",
    "$\\frac{1}{K}\\left(\\frac{1}{P} + \\frac{1}{K-P} \\right)  dP = r \\cdot dt$\n",
    "\n",
    "$ \\frac{1}{P} + \\frac{1}{K - P} dP = rK \\cdot dt$\n",
    "\n",
    "$ \\ln |P| -\\ln(|K - P|) = rKt + C_1 $\n",
    "\n",
    "$ \\ln(|\\frac{P}{K - P}|) = rKt + C_1 $\n",
    "\n",
    "$ \\frac{P}{K - P} = e^{rKt + C_1} $\n",
    "\n",
    "$ \\frac{P}{K - P} = C_2e^{rKt} $\n",
    "\n",
    "To find a particular solution, we should find $ C $\n",
    "\n",
    "Let $ P_0 $ be the initial point, which means that $ t = 0 $\n",
    "\n",
    "$ \\frac{P_0}{K - P_0} = C_2e^{rK(0)} $\n",
    "\n",
    "$ C = \\frac{P_0}{K - P_0} $\n",
    "\n",
    "$ \\frac{P}{K - P} = \\frac{P_0}{K - P_0}e^{rKt} $\n",
    "\n",
    "$ P(K - P_0) = P_0(K - P)e^{rKt} $\n",
    "\n",
    "$ PK - P_0P = P_0Ke^{rKt} - PP_0 e^{rKt} $\n",
    "\n",
    "$ PK - P_0P + PP_0 e^{rKt} = P_0Ke^{rKt} $\n",
    "\n",
    "$ K - P_0 + P_0 e^{rKt} = \\frac{P_0Ke^{rKt}}{P} $\n",
    "\n",
    "$ \\frac{1}{K - P_0 + P_0 e^{rKt}} = \\frac{P}{P_0Ke^{rKt}} $\n",
    "\n",
    "$ P = \\frac{P_0Ke^{rKt}}{K - P_0 + P_0 e^{rKt}}$\n",
    "\n",
    "$ P = \\frac{Ke^{rKt}}{\\frac{K - P_0}{P_0}+ e^{rKt}}$\n",
    "\n",
    "$ P = \\frac{K}{\\frac{K - P_0}{P_0}e^{-rKt} + 1} $\n"
   ]
  },
  {
   "cell_type": "code",
   "execution_count": 2,
   "id": "f479f4d1",
   "metadata": {},
   "outputs": [
    {
     "data": {
      "image/png": "[encoded data removed]",
      "text/plain": [
       "<IPython.core.display.Image object>"
      ]
     },
     "metadata": {},
     "output_type": "display_data"
    }
   ],
   "source": [
    "clear\n",
    "\n",
    "function dP_dt = fdash(t, P)\n",
    "    r = .5;\n",
    "    K = 5;\n",
    "    dP_dt = r.*P.*(1.-(P/K));\n",
    "end\n",
    "\n",
    "initial_condition = [0,0.5];\n",
    "\n",
    "plot_dimensions = [-11 11 -11 11];\n",
    "\n",
    "function solution = particular_solution(t, P)\n",
    "    r = .5;\n",
    "    K = 5;\n",
    "    P_0 = .5;\n",
    "    solution = K./((K.-P_0)./P_0 .* exp(-r.*K.*t) + 1);\n",
    "end\n",
    "slope_field(@fdash, plot_dimensions, @particular_solution, initial_condition);"
   ]
  },
  {
   "cell_type": "markdown",
   "id": "6160b151",
   "metadata": {},
   "source": [
    "### Theta-logistic model\n",
    "\n",
    "The straight line approximation of the logistic growth model, as a function that shows the model's growth rate, can be modified by adding a $ \\theta $, as in the diagram below.\n",
    "\n",
    "![different theta effect on DE](theta-logistic-model.png)\n",
    "\n"
   ]
  },
  {
   "cell_type": "markdown",
   "id": "1dffb055",
   "metadata": {},
   "source": [
    "### Allee effect\n",
    "\n",
    "To look at the phase plane of the Logistic model, it would seem that a population would grow the quickest the smaller the population is. The assumption would be that fewer animals would mean less competition for resources.\n",
    "\n",
    "Smaller populations are also at greater risk of extinction.\n",
    "\n",
    "Sometimes a population will have a critical lower threshold and if this is surpassed then the population might enter negative growth.\n",
    "\n",
    "Let's revisit the Logistic DE and account for negative growth.\n",
    "\n",
    "$ \\frac{dP}{dt} = rP\\left(1 - \\frac{P}{K}\\right) (\\text{something}) $\n",
    "\n",
    "Let:\n",
    "\n",
    "$ M $ be the critical threshold.\n",
    "\n",
    "\"Something\" should be negative when $ P < M $ and positive when $ P > M $.\n",
    "\n",
    "Then:\n",
    "\n",
    "\"Something\" = $ \\left( \\frac{P}{M} - 1 \\right) $\n",
    "\n",
    "$ \\frac{dP}{dt} = rP\\left(1 - \\frac{P}{K}\\right) \\left( \\frac{P}{M} - 1 \\right) $\n",
    "\n",
    "TODO - find some particular solutions and plot them below"
   ]
  },
  {
   "cell_type": "code",
   "execution_count": 15,
   "id": "23ddfee4",
   "metadata": {},
   "outputs": [
    {
     "data": {
      "image/png": "[encoded data removed]",
      "text/plain": [
       "<IPython.core.display.Image object>"
      ]
     },
     "metadata": {},
     "output_type": "display_data"
    }
   ],
   "source": [
    "clear\n",
    "\n",
    "function dP_dt = fdash(t, P)\n",
    "    r = .5;\n",
    "    K = 5;\n",
    "    M = 2;\n",
    "    dP_dt = r.*P.*(1.-(P./K)).*(P./M.-1);\n",
    "end\n",
    "\n",
    "plot_dimensions = [-6 6 -6 6];\n",
    "\n",
    "slope_field(@fdash, plot_dimensions);"
   ]
  },
  {
   "cell_type": "code",
   "execution_count": null,
   "id": "c73c6130",
   "metadata": {},
   "outputs": [],
   "source": []
  }
 ],
 "metadata": {
  "kernelspec": {
   "display_name": "Octave",
   "language": "octave",
   "name": "octave"
  },
  "language_info": {
   "file_extension": ".m",
   "help_links": [
    {
     "text": "GNU Octave",
     "url": "https://www.gnu.org/software/octave/support.html"
    },
    {
     "text": "Octave Kernel",
     "url": "https://github.com/Calysto/octave_kernel"
    },
    {
     "text": "MetaKernel Magics",
     "url": "https://metakernel.readthedocs.io/en/latest/source/README.html"
    }
   ],
   "mimetype": "text/x-octave",
   "name": "octave",
   "version": "6.4.0"
  }
 },
 "nbformat": 4,
 "nbformat_minor": 5
}
