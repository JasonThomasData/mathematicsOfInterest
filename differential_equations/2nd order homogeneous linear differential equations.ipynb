{
 "cells": [
  {
   "cell_type": "markdown",
   "id": "8c1e879f",
   "metadata": {},
   "source": [
    "#### Motivation\n",
    "\n",
    "Many real world systems take the form of 2nd order DEs. These are often harmonic oscillators and there is a notebook about this application.\n",
    "\n",
    "### 2nd order homogeneous differential equations, solve using exponentials\n",
    "\n",
    "Say you have some de like this:\n",
    "\n",
    "$ ay'' + by' + cy = 0 $\n",
    "\n",
    "Then it can be represented as:\n",
    "\n",
    "$ y'' + py' + qy = 0 $\n",
    "\n",
    "That's because $ a $ must be non-zero, otherwise $ y'' $ wouldn't be a term. That allows:\n",
    "\n",
    "$ p = \\frac{b}{a} $\n",
    "\n",
    "$ q = \\frac{c}{a} $\n",
    "\n",
    "To give us:\n",
    "\n",
    "$ y'' + py' + qy = 0 $\n",
    "\n",
    "Let's guess and say that the value of $ y $ is $ y = e^{\\lambda t} $\n",
    "\n",
    "Then $ y' = \\lambda e^{\\lambda t} , y'' = \\lambda^2 e^{\\lambda t} $\n",
    "\n",
    "Now, let's write the equation as:\n",
    "\n",
    "$ \\lambda^2 e^{\\lambda t} + p\\lambda e^{\\lambda t} + qe^{\\lambda t} = 0 $\n",
    "\n",
    "By factoring out $ e^{\\lambda t} $ we get:\n",
    "\n",
    "$ \\lambda^2 + p\\lambda + q = 0 $\n",
    "\n",
    "This is a quadratic and we can find the roots here to find the values of $ \\lambda $. Then we can use those to find the solution to the DE.\n",
    "\n",
    "Let:\n",
    "\n",
    "$ k_i $ be arbitrary constants.\n",
    "\n",
    "$ \\lambda_i $ be the roots of the function above:\n",
    "\n",
    "$ y(t) = k_1 e^{\\lambda_1 t} + k_2 e^{\\lambda_2 t} $\n",
    "\n",
    "$ y'(t) = \\lambda_1 k_1 e^{\\lambda_1 t} + \\lambda_2 k_2 e^{\\lambda_2 t} $\n",
    "\n",
    "#### Example of finding a general solution to a homogeneous 2nd order linear DE\n",
    "\n",
    "$ y'' + 7y' + 10y = 0 $\n",
    "\n",
    "Then suppose:\n",
    "\n",
    "$ y = e^{\\lambda t} $\n",
    "\n",
    "$ y' = \\lambda e^{\\lambda t} $\n",
    "\n",
    "$ y'' = \\lambda^2 e^{\\lambda t} $\n",
    "\n",
    "Then the equation becomes:\n",
    "\n",
    "$ \\lambda^2 e^{\\lambda t} + 7\\lambda e^{\\lambda t} + 10e^{\\lambda t} $\n",
    "\n",
    "$ \\lambda^2 + 7\\lambda + 10 $\n",
    "\n",
    "We find the roots to find the values of $ \\lambda $\n",
    "\n",
    "$ (\\lambda + 2)(\\lambda + 5) $\n",
    "\n",
    "So the roots are: $ (-2, -5) $\n",
    "\n",
    "Then the general solution is:\n",
    "\n",
    "$ y(t) = k_1 e^{-5 t} + k_2 e^{-2 t} $\n",
    "\n",
    "#### Example of finding a particular solution with two initial conditions\n",
    "\n",
    "Take the result from above:\n",
    "\n",
    "$ y(t) = k_1 e^{-5 t} + k_2 e^{-2 t} $\n",
    "\n",
    "$ y'(t) = -5k_1 e^{-5 t} - 2k_2 e^{-2 t} $\n",
    "\n",
    "And introduce initial conditions:\n",
    "\n",
    "$ y(0) = 2, y'(0) = -13 $\n",
    "\n",
    "The substituting these in:\n",
    "\n",
    "$ 2 = k_1 + k_2 $\n",
    "\n",
    "$ -13 = -5 k_1 - 2 k_2 $\n",
    "\n",
    "We can solve this system of equations with an augmented matrix:"
   ]
  },
  {
   "cell_type": "code",
   "execution_count": 5,
   "id": "c49eee14",
   "metadata": {},
   "outputs": [
    {
     "name": "stdout",
     "output_type": "stream",
     "text": [
      "M =\r\n",
      "\r\n",
      "    1    1    2\r\n",
      "   -5   -2  -13\r\n",
      "\r\n"
     ]
    }
   ],
   "source": [
    "M = [1 1 2; -5 -2 -13]"
   ]
  },
  {
   "cell_type": "code",
   "execution_count": 6,
   "id": "b4c4bf98",
   "metadata": {},
   "outputs": [],
   "source": [
    "M(2,:) = M(2,:) + M(1,:)*5;"
   ]
  },
  {
   "cell_type": "code",
   "execution_count": 7,
   "id": "e0ced33f",
   "metadata": {},
   "outputs": [],
   "source": [
    "M(2,:) = M(2,:) *(1/3);"
   ]
  },
  {
   "cell_type": "code",
   "execution_count": 8,
   "id": "afa6fa08",
   "metadata": {},
   "outputs": [
    {
     "name": "stdout",
     "output_type": "stream",
     "text": [
      "M =\r\n",
      "\r\n",
      "   1   0   3\r\n",
      "   0   1  -1\r\n",
      "\r\n"
     ]
    }
   ],
   "source": [
    "M(1,:) = M(1,:) + M(2,:)*-1"
   ]
  },
  {
   "cell_type": "markdown",
   "id": "794e30b1",
   "metadata": {},
   "source": [
    "So the particular solution is:\n",
    "\n",
    "$ y(t) = 3 e^{-5 t} - e^{-2 t} $"
   ]
  },
  {
   "cell_type": "markdown",
   "id": "36e38df1",
   "metadata": {},
   "source": [
    "#### Example of a solution with complex $ \\lambda $\n",
    "\n",
    "Suppose you get to see something like this:\n",
    "\n",
    "$ \\lambda^2 + 4 \\lambda +13 = 0 $\n",
    "\n",
    "Then you will find it has complex roots: $ \\lambda = -2 \\pm 3i $\n",
    "\n",
    "Then you can write down the solution as in the above examples.\n",
    "\n",
    "$ y(t) = k_1 e^{\\lambda t} + k_2 e^{\\lambda t} $\n",
    "\n",
    "$ y(t) = k_1 e^{(-2 + 3i) t} + k_2 e^{(-2 - 3i) t} $\n",
    "\n",
    "If you focus on the first term that includes $ (-2 + 3i) $ then you can split it up with exponent laws:\n",
    "\n",
    "$ e^{(-2 + 3i)t} = e^{2t} \\cdot e^{3it} $\n",
    "\n",
    "Then you can leverage the result of Euler's identity to say:\n",
    "\n",
    "$ e^{3it} = \\cos(3t) + i \\sin(3t) $\n",
    "\n",
    "So if we substitute that back in:\n",
    "\n",
    "$ e^{(-2 + 3i)t} = e^{-2t} (\\cos(3t) + i \\sin(3t)) $\n",
    "\n",
    "And then the general solution is:\n",
    "\n",
    "$ y = c_1 e^{-2t} \\cos(3t) + c_2 e^{-2t} \\sin(3t) $\n",
    "\n",
    "Note, that the $ i $ disappears due to a theorem in Blanchard et al. Also we only have to consider one complex eigenvalue because the other is a complex conjugate, so will yield the same result.\n"
   ]
  },
  {
   "cell_type": "code",
   "execution_count": null,
   "id": "0d5d7230",
   "metadata": {},
   "outputs": [],
   "source": []
  }
 ],
 "metadata": {
  "kernelspec": {
   "display_name": "Octave",
   "language": "octave",
   "name": "octave"
  },
  "language_info": {
   "file_extension": ".m",
   "help_links": [
    {
     "text": "GNU Octave",
     "url": "https://www.gnu.org/software/octave/support.html"
    },
    {
     "text": "Octave Kernel",
     "url": "https://github.com/Calysto/octave_kernel"
    },
    {
     "text": "MetaKernel Magics",
     "url": "https://metakernel.readthedocs.io/en/latest/source/README.html"
    }
   ],
   "mimetype": "text/x-octave",
   "name": "octave",
   "version": "6.4.0"
  }
 },
 "nbformat": 4,
 "nbformat_minor": 5
}
