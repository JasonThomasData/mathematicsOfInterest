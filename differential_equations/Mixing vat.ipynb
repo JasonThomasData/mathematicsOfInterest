{
 "cells": [
  {
   "cell_type": "markdown",
   "id": "47e863f7",
   "metadata": {},
   "source": [
    "Example from \"Differential Equations\", _Blanchard, Devaney, Hall_, p 31\n",
    "\n",
    "Note the book is from US and it uses the gal measurement\n",
    "\n",
    "---\n",
    "\n",
    "### State the problem and model it with a differential equation\n",
    "\n",
    "- There is a vat for mixing sugar water. The vat has a capacity of 100 gal.\n",
    "- There are input pipes A,B\n",
    "- There is an output pipe C\n",
    "- The sugar solution leaving via C is equal to the inputs A + B\n",
    "- A has 5 teaspoons of sugar per gal of water\n",
    "- Solution enters via A at 2 gallons per minute\n",
    "- B has 10 teaspoons of sugar per gal of water\n",
    "- Solution enters via B at 1 gallons per minute\n",
    "- Then solution must leave via C at 3 gallons per minute\n",
    "\n",
    "Based on the above, we can write the differential equation:\n",
    "\n",
    "$ \\frac{dS}{dt} = (5 tsp)(2 gal) + (10 tsp)(1 gal) - \\left(3 \\frac{S}{100}\\right) $\n",
    "\n",
    "This is the rate of change of $ S $ in terms of $ t $. This is how the concentration of sugar changes over time.\n",
    "\n",
    "The equation can be simplified:\n",
    "\n",
    "$ \\frac{dS}{dt} = (5)(2) + (10)(1) - \\left(3 \\frac{S}{100}\\right) $\n",
    "\n",
    "$ \\frac{dS}{dt} = 20 - \\frac{3S}{100} $\n",
    "\n",
    "$ \\frac{dS}{dt} = \\frac{2000 - 3S}{100} $\n",
    "\n",
    "### Find the general solution\n",
    "\n",
    "We can integrate it. It is a seperable equation:\n",
    "\n",
    "$ \\frac{1}{2000 - 3S} \\frac{dS}{dt} = \\frac{1}{100} $\n",
    "\n",
    "$ \\frac{1}{2000 - 3S} dS = \\frac{1}{100} dt $\n",
    "\n",
    "Through trial and error I figured out the integral is:\n",
    "\n",
    "$ \\frac{\\ln{(2000 -3S)}}{-3} = \\frac{t}{100} + c_1 $\n",
    "\n",
    "And now we should find the general solution:\n",
    "\n",
    "$ \\ln{(2000 -3S)} = \\frac{-3t}{100} + c_2 $\n",
    "\n",
    "$ 2000 -3S = e^{\\frac{-3t}{100} + c_2} $\n",
    "\n",
    "$ 2000 -3S = c_3 e^{\\frac{-3t}{100}} $\n",
    "\n",
    "$ -3S = c_3 e^{\\frac{-3t}{100}} - 2000 $\n",
    "\n",
    "$ S = c_4 e^{-.03t} + \\frac{2000}{3}  $\n",
    "\n",
    "Since the equation is a function of the dependent variable and not the independent, then it is an autonomous equation.\n",
    "\n",
    "Let's see the behaviour for the general solution:"
   ]
  },
  {
   "cell_type": "code",
   "execution_count": 1,
   "id": "6f010db3",
   "metadata": {},
   "outputs": [
    {
     "data": {
      "image/png": "[encoded data removed]",
      "text/plain": [
       "<IPython.core.display.Image object>"
      ]
     },
     "metadata": {},
     "output_type": "display_data"
    }
   ],
   "source": [
    "clear\n",
    "\n",
    "function dS_dt = fdash(t, S)\n",
    "    dS_dt = (2000 - 3*S)/100;\n",
    "end\n",
    "\n",
    "slope_field(@fdash, [0 300 500 800])"
   ]
  },
  {
   "cell_type": "markdown",
   "id": "1d5ad008",
   "metadata": {},
   "source": [
    "### Particular solutions\n",
    "\n",
    "Let's plot a few particular solutions, including the equilibrium, to see its behaviour further.\n",
    "\n",
    "The equilibrium for this general solution would be where the derivative is 0.\n",
    "\n",
    "$ \\frac{dS}{dt} = \\frac{2000 -3S}{100} $\n",
    "\n",
    "$ 0 = \\frac{2000 -3S}{100} $\n",
    "\n",
    "$ 0 = 2000 -3S $\n",
    "\n",
    "$ -2000 = -3S $\n",
    "\n",
    "$ \\frac{2000}{3} = S $\n",
    "\n",
    "$ S = \\frac{2000}{3} $\n",
    "\n",
    "This is the equilibrium solution."
   ]
  },
  {
   "cell_type": "markdown",
   "id": "a49e99b3",
   "metadata": {},
   "source": [
    "Let's have some initial conditions:\n",
    "\n",
    "$ \\{(0, 2000/3), (50,750), (200, 550)\\} $\n",
    "\n",
    "Then we need to solve for $ c $ in the derived equation:\n",
    "\n",
    "$ S = c_4 e^{-.03t} + \\frac{2000}{3}  $\n",
    "\n",
    "#### Initial condition of (0, 2000/3)\n",
    "\n",
    "$ \\frac{2000}{3} = c_4 e^{0} + \\frac{2000}{3} $\n",
    "\n",
    "$ c_4 = 0 $\n",
    "\n",
    "The solution that passes $ (0, 2000/3) $ is:\n",
    "\n",
    "$ S = 0 * e^{-.03t} + \\frac{2000}{3} $"
   ]
  },
  {
   "cell_type": "markdown",
   "id": "49631901",
   "metadata": {},
   "source": [
    "#### Initial condition of (50, 750)\n",
    "\n",
    "$ 750 = c_4 e^{-.03 * 50} + \\frac{2000}{3} $\n",
    "\n",
    "$ 750 - \\frac{2000}{3} = c_4 e^{-.03 * 50} $\n",
    "\n",
    "$ \\frac{250}{3} = c_4 e^{-.03 * 50} $\n",
    "\n",
    "$ c_4 = \\frac{250}{\\left(3e^{-.03 * 50}\\right)} $\n"
   ]
  },
  {
   "cell_type": "code",
   "execution_count": 2,
   "id": "1b61e0f4",
   "metadata": {},
   "outputs": [
    {
     "name": "stdout",
     "output_type": "stream",
     "text": [
      "c_4 = 194580/521\r\n"
     ]
    }
   ],
   "source": [
    "format rat\n",
    "c_4 = 250/(3*exp(-0.03 * 50))"
   ]
  },
  {
   "cell_type": "markdown",
   "id": "a9731387",
   "metadata": {},
   "source": [
    "The solution that passes $ (50, 750) $ is:\n",
    "\n",
    "$ S = \\frac{194580}{521} e^{-.03t} + \\frac{2000}{3} $"
   ]
  },
  {
   "cell_type": "markdown",
   "id": "245f5ba0",
   "metadata": {},
   "source": [
    "#### Initial condition of (200, 550)\n",
    "\n",
    "$ 550 = c_4 e^{-.03 * 200} + \\frac{2000}{3} $\n",
    "\n",
    "$ 550 - \\frac{2000}{3} = c_4 e^{-.03 * 200} $\n",
    "\n",
    "$ \\frac{-350}{3} = c_4 e^{-.03 * 200} $\n",
    "\n",
    "$ c_4 = \\frac{-350}{\\left(3e^{-.03 * 200}\\right)} $"
   ]
  },
  {
   "cell_type": "code",
   "execution_count": 3,
   "id": "d3bd6d58",
   "metadata": {},
   "outputs": [
    {
     "name": "stdout",
     "output_type": "stream",
     "text": [
      "c_4 = -611867/13\r\n"
     ]
    }
   ],
   "source": [
    "format rat\n",
    "c_4 = -350/(3*exp(-0.03 * 200))"
   ]
  },
  {
   "cell_type": "markdown",
   "id": "9e0a874e",
   "metadata": {},
   "source": [
    "The solution that passes $ (200, 550) $ is:\n",
    "\n",
    "$ S = \\frac{-611867}{13} e^{-.03t} + \\frac{2000}{3} $"
   ]
  },
  {
   "cell_type": "markdown",
   "id": "13c5fbf9",
   "metadata": {},
   "source": [
    "#### Visualisation of particular solutions"
   ]
  },
  {
   "cell_type": "code",
   "execution_count": 25,
   "id": "8d5d7633",
   "metadata": {},
   "outputs": [
    {
     "data": {
      "image/png": "[encoded data removed]",
      "text/plain": [
       "<IPython.core.display.Image object>"
      ]
     },
     "metadata": {},
     "output_type": "display_data"
    }
   ],
   "source": [
    "function dS_dt = fdash(t, S)\n",
    "    dS_dt = (2000 - 3.*S)/100;\n",
    "end\n",
    "\n",
    "### (0, 2000/3)\n",
    "\n",
    "function solution = particular_solution(t, S)\n",
    "    solution = 0 * exp(-.03*t) + 2000/3;\n",
    "end\n",
    "\n",
    "initial_condition = [0, 2000/3];\n",
    "\n",
    "slope_field(@fdash, [0 300 500 800], @particular_solution, initial_condition)\n",
    "\n",
    "### (50, 750)\n",
    "\n",
    "function solution = particular_solution(t, S)\n",
    "    solution = (194580/521) * exp(-0.03*t) + 2000/3;\n",
    "end\n",
    "\n",
    "initial_condition = [50, 750];\n",
    "\n",
    "slope_field(@fdash, [0 300 500 800], @particular_solution, initial_condition)\n",
    "\n",
    "### (200, 550)\n",
    "\n",
    "function solution = particular_solution(t, S)\n",
    "    solution = (-611867/13) * exp(-0.03*t) + 2000/3;\n",
    "end\n",
    "\n",
    "initial_condition = [200, 550];\n",
    "\n",
    "slope_field(@fdash, [0 300 500 800], @particular_solution, initial_condition)\n"
   ]
  },
  {
   "cell_type": "code",
   "execution_count": null,
   "id": "e37b58f7",
   "metadata": {},
   "outputs": [],
   "source": []
  }
 ],
 "metadata": {
  "kernelspec": {
   "display_name": "Octave",
   "language": "octave",
   "name": "octave"
  },
  "language_info": {
   "file_extension": ".m",
   "help_links": [
    {
     "text": "GNU Octave",
     "url": "https://www.gnu.org/software/octave/support.html"
    },
    {
     "text": "Octave Kernel",
     "url": "https://github.com/Calysto/octave_kernel"
    },
    {
     "text": "MetaKernel Magics",
     "url": "https://metakernel.readthedocs.io/en/latest/source/README.html"
    }
   ],
   "mimetype": "text/x-octave",
   "name": "octave",
   "version": "5.2.0"
  }
 },
 "nbformat": 4,
 "nbformat_minor": 5
}
