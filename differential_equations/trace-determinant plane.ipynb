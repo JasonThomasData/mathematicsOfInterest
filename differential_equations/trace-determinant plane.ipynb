{
 "cells": [
  {
   "cell_type": "markdown",
   "id": "17cb9405",
   "metadata": {},
   "source": [
    "### Trace-Determinant plane\n",
    "\n",
    "If you have two linear equations and then you configure them to be a system of linear equations:\n",
    "\n",
    "$ \\left( \\begin{matrix} x' \\\\ y' \\end{matrix} \\right) = \\left[ \\begin{matrix} ex + fy \\\\ gx + hy \\end{matrix} \\right] $\n",
    "\n",
    "$ \\left( \\begin{matrix} x' \\\\ y' \\end{matrix} \\right) = \\left[ \\begin{matrix} e & f \\\\ g & h \\end{matrix} \\right] \\left[ \\begin{matrix} x \\\\ y \\end{matrix} \\right] $\n",
    "\n",
    "Then we use the characteristic equation:\n",
    "\n",
    "$ \\det(A - \\lambda I) = \\vec{0} $\n",
    "\n",
    "$ \\det \\left(\\left[ \\begin{matrix} e - \\lambda & f \\\\ g & h - \\lambda \\end{matrix} \\right] \\right) = \\vec{0} $\n",
    "\n",
    "$ (e - \\lambda)(h - \\lambda) - fg = 0 $ \n",
    "\n",
    "$ eh - fg - e \\lambda - h \\lambda + \\lambda^2  = 0 $ \n",
    "\n",
    "$ eh - fg - (e + h) \\lambda + \\lambda^2  = 0 $ \n",
    "\n",
    "Then we can name the different parts of the above equation:\n",
    "\n",
    "$ \\Delta = eh - fg $\n",
    "\n",
    "$ \\tau = e + h $\n",
    "\n",
    "Then the determinant becomes:\n",
    "\n",
    "$ \\Delta - \\tau \\lambda + \\lambda^2  = 0 $ \n",
    "\n",
    "$ \\lambda^2 - \\tau \\lambda + \\Delta = 0 $\n",
    "\n",
    "Then if you consider a generic 2-dimensional polynomial $ a\\lambda^2 + b\\lambda + c $ then quadratic formula for this generic polynomial is:\n",
    "\n",
    "$ \\lambda_{1,2} = \\frac{-b \\pm \\sqrt{b^2 4ac}}{2a} $\n",
    "\n",
    "Then we can do the same again but $ a = 1,  b = - \\tau, c = \\Delta $\n",
    "\n",
    "$ \\lambda_{1,2} = \\frac{\\tau \\pm \\sqrt{(-\\tau)^2 4\\Delta}}{2} $\n",
    "\n",
    "Then we can explain all linear systems of differential equations by placing them on this plane.\n",
    "\n",
    "Note that anything below the $ \\mathbb{T} $ axis is a saddle. Anything on the line is an unstable or a stable saddle node, but it's not on the picture.\n",
    "\n",
    "![pic of plane](Screenshot_2023-04-05_10-04-25.png)\n",
    "\n",
    "This video on Youtube is particularly excellent. https://www.youtube.com/watch?v=BnY2c7s2e7I\n"
   ]
  },
  {
   "cell_type": "code",
   "execution_count": null,
   "id": "a9626d08",
   "metadata": {},
   "outputs": [],
   "source": []
  }
 ],
 "metadata": {
  "kernelspec": {
   "display_name": "Octave",
   "language": "octave",
   "name": "octave"
  },
  "language_info": {
   "file_extension": ".m",
   "help_links": [
    {
     "text": "GNU Octave",
     "url": "https://www.gnu.org/software/octave/support.html"
    },
    {
     "text": "Octave Kernel",
     "url": "https://github.com/Calysto/octave_kernel"
    },
    {
     "text": "MetaKernel Magics",
     "url": "https://metakernel.readthedocs.io/en/latest/source/README.html"
    }
   ],
   "mimetype": "text/x-octave",
   "name": "octave",
   "version": "6.4.0"
  }
 },
 "nbformat": 4,
 "nbformat_minor": 5
}
