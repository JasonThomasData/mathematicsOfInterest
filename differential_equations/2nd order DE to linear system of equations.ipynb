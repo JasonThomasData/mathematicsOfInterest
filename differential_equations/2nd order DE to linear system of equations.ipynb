{
 "cells": [
  {
   "cell_type": "markdown",
   "id": "84c71701",
   "metadata": {},
   "source": [
    "### 2nd order DE to linear system of 1st order DEs\n",
    "\n",
    "This should always be possible to convert a second order DE to a system of linear equations\n",
    "\n",
    "$ ay'' + by' + cy = 0 $\n",
    "\n",
    "First, solve for $ y'' $\n",
    "\n",
    "$ y'' = -\\frac{by'}{a} - \\frac{cy}{a} $\n",
    "\n",
    "Then introduce a new variable:\n",
    "\n",
    "$ v = y' $\n",
    "\n",
    "$ v' = y'' $\n",
    "\n",
    "And substituting:\n",
    "\n",
    "$ v' = -\\frac{bv}{a} - \\frac{cy}{a} $\n",
    "\n",
    "And then bring back the original definition of $ v $:\n",
    "\n",
    "$ y' = v $\n",
    "\n",
    "$ v' = -\\frac{bv}{a} - \\frac{cy}{a} $\n",
    "\n",
    "Then we have a system where one term on the top ($y'$) is missing.\n",
    "\n",
    "$ \\left[\\begin{matrix} y' \\\\ v' \\end{matrix} \\right] = \\left[\\begin{matrix} 1 & 0 \\\\ -\\frac{b}{a} & -\\frac{c}{a} \\end{matrix} \\right] \\left[\\begin{matrix} v \\\\ y \\end{matrix} \\right]$\n",
    "\n",
    "##### Now this can be solved as a linear system of differential equations and there is a notebook about this\n",
    "\n",
    "If you solve the system to find the Eigenvalues and then the Eigenvectors, then we can say the following:\n",
    "\n",
    "Let:\n",
    "\n",
    "$ Y $ be a solution but also a vector\n",
    "\n",
    "$ \\lambda_1, \\lambda_2 $ be the Eigenvalues.\n",
    "\n",
    "$ V_1 = \\left[ \\begin{matrix} 1 \\\\ \\lambda_1 \\end{matrix} \\right] $\n",
    "\n",
    "$ V_2 = \\left[ \\begin{matrix} 1 \\\\ \\lambda_2 \\end{matrix} \\right] $ be the Eigenvectors.\n",
    "\n",
    "$ Y = k_1 e^{\\lambda_1 t}V_1 + k_2 e^{\\lambda_2 t} V_2$\n",
    "\n",
    "$ Y = k_1 e^{\\lambda_1 t}\\left[\\begin{matrix} 1 \\\\ \\lambda_1 \\end{matrix} \\right] + k_2 e^{\\lambda_2 t}\\left[\\begin{matrix} 1 \\\\ \\lambda_2 \\end{matrix} \\right]$\n",
    "\n",
    "$ Y = k_1 e^{\\lambda_1 t}\\left[\\begin{matrix} 1 \\\\ \\lambda_1 \\end{matrix} \\right] + k_2 e^{\\lambda_2 t}\\left[\\begin{matrix} 1 \\\\ \\lambda_2 \\end{matrix} \\right]$\n",
    "\n",
    "Then the solutions are:\n",
    "\n",
    "$ y_1 = k_1 e^{\\lambda_1 t} + k_2 e^{\\lambda_2 t} $\n",
    "\n",
    "$ y_2 = \\lambda_1 k_1 e^{\\lambda_1 t} + \\lambda_2 k_2 e^{\\lambda_2 t} $\n",
    "\n",
    "The motivation for using $ e^{\\lambda t} $ is explained in the notebook concerning 2nd order homogeneous linear differential equations.\n",
    "\n",
    "#### What to expect\n",
    "\n",
    "The EigenVectors will always have this form, if you've done it correctly.\n",
    "\n",
    "If this is true then your work might be true, but if this is not true then your work is definitely wrong.\n",
    "\n",
    "You will need to expect Eigenvectors of the form:\n",
    "\n",
    "$ \\left[\\begin{matrix} 1 \\\\ \\lambda_i \\end{matrix} \\right] $\n",
    "\n",
    "Where the top component is always $ 1 $ and the bottom is the Eigenvalue $ \\lambda_i $\n"
   ]
  },
  {
   "cell_type": "code",
   "execution_count": null,
   "id": "86c4e838",
   "metadata": {},
   "outputs": [],
   "source": []
  }
 ],
 "metadata": {
  "kernelspec": {
   "display_name": "Octave",
   "language": "octave",
   "name": "octave"
  },
  "language_info": {
   "file_extension": ".m",
   "help_links": [
    {
     "text": "GNU Octave",
     "url": "https://www.gnu.org/software/octave/support.html"
    },
    {
     "text": "Octave Kernel",
     "url": "https://github.com/Calysto/octave_kernel"
    },
    {
     "text": "MetaKernel Magics",
     "url": "https://metakernel.readthedocs.io/en/latest/source/README.html"
    }
   ],
   "mimetype": "text/x-octave",
   "name": "octave",
   "version": "6.4.0"
  }
 },
 "nbformat": 4,
 "nbformat_minor": 5
}
