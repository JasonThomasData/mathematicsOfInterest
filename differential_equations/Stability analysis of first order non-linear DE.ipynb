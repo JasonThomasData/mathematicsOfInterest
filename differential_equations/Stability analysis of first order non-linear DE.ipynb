{
 "cells": [
  {
   "cell_type": "markdown",
   "id": "91d7989f",
   "metadata": {},
   "source": [
    "### Stability analysis of first order non-linear DE\n",
    "\n",
    "Given the standard Logistic model:\n",
    "\n",
    "$ \\frac{dP}{dt} = rP \\left(1 - \\frac{P}{K}\\right) $\n",
    "\n",
    "Let's set $ K = 1 $\n",
    "\n",
    "$ \\frac{dP}{dt} = rP \\left(1 - P\\right) $\n",
    "\n",
    "Then the equilibria are $ P^* = 0, 1 $\n",
    "\n",
    "What happens when we give it a nudge, $\\delta$ ?\n",
    "\n",
    "---\n",
    "\n",
    "Let's start with $ P^* = 1 $\n",
    "\n",
    "Suppose \n",
    "\n",
    "$ P = P^* + \\delta $\n",
    "\n",
    "as in, the function at some time $ t $ is the equilibrium $ P^* $ plus some small purturbation $ \\delta $\n",
    "\n",
    "Then, $ \\delta = P - P^* $\n",
    "\n",
    "_That means $ \\delta $ is very small._\n",
    "\n",
    "$ P(t) = P^* + \\delta = 1 + \\delta $\n",
    "\n",
    "$ \\frac{dP}{dt} = 0 + \\frac{d \\delta}{dt} $\n",
    "\n",
    "$ \\frac{d \\delta}{dt} = r(1 + \\delta) \\left(1 - (1 + \\delta)\\right) $\n",
    "\n",
    "$ \\frac{d \\delta}{dt} = (r + r\\delta) \\left(- \\delta\\right) $\n",
    "\n",
    "$ \\frac{d \\delta}{dt} = (-r\\delta - r\\delta^2) $\n",
    "\n",
    "Because $ \\delta $ is very small, then when it is squared, it becomes even smaller.\n",
    "\n",
    "$ \\frac{d \\delta}{dt} \\approx -r\\delta $\n",
    "\n",
    "We should recognise the solution to this:\n",
    "\n",
    "$ \\delta = Ce^{-rt} $ is the solution.\n",
    "\n",
    "As $ t \\to \\infty $, then $ \\delta \\to 0 $\n",
    "\n",
    "The way to interpret this result, in English, is \"we start with a small change but as time goes by the change shrinks towards $ 0 $. Then this means the equilibrium is stable.\n",
    "\n",
    "This result is what you would expect for the Logistic Model, with a stable equilibrium at the carrying capacity.\n",
    "\n",
    "---\n",
    "\n",
    "Let's start with $ P^* = 0 $\n",
    "\n",
    "...\n",
    "\n",
    "This leads to linearisation.\n",
    "\n",
    "_I can't understand how to do it with the 0 eq, lecture 2 week 7 ~26:00_\n",
    "\n",
    "---"
   ]
  },
  {
   "cell_type": "code",
   "execution_count": null,
   "id": "9e23d651",
   "metadata": {},
   "outputs": [],
   "source": []
  }
 ],
 "metadata": {
  "kernelspec": {
   "display_name": "Octave",
   "language": "octave",
   "name": "octave"
  },
  "language_info": {
   "file_extension": ".m",
   "help_links": [
    {
     "text": "GNU Octave",
     "url": "https://www.gnu.org/software/octave/support.html"
    },
    {
     "text": "Octave Kernel",
     "url": "https://github.com/Calysto/octave_kernel"
    },
    {
     "text": "MetaKernel Magics",
     "url": "https://metakernel.readthedocs.io/en/latest/source/README.html"
    }
   ],
   "mimetype": "text/x-octave",
   "name": "octave",
   "version": "6.4.0"
  }
 },
 "nbformat": 4,
 "nbformat_minor": 5
}
