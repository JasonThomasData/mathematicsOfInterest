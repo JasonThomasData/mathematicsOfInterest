{
 "cells": [
  {
   "cell_type": "markdown",
   "id": "2f3062fa",
   "metadata": {},
   "source": [
    "### Predator-prey model (Lotka-Volterra) non-linear system\n",
    "\n",
    "Let:\n",
    "\n",
    "$ x $ be the population of prey\n",
    "\n",
    "$ y $ be the population of predators\n",
    "\n",
    "Then the system that describes this relationship is:\n",
    "\n",
    "$ \\frac{dx}{dt} = \\alpha x - \\beta xy $\n",
    "\n",
    "$ \\frac{dy}{dt} = \\delta xy - \\gamma y $\n",
    "\n",
    "This assumes that there is no carrying capacity, that if there are no predators then the prey experience exponential growth, if there are no prey then the predators experience exponential decay, and predators can eat an infinite number of prey.\n",
    "\n",
    "I did a simulation of solving a system like this:\n",
    "\n",
    "[simulation](http://localhost:8888/notebooks/sims/Lotka-Volterra%20predator-prey%20sim.ipynb)\n",
    "\n",
    "Note, change of variables to find a solution is at Lecture 4 Week 7 ~21:00\n",
    "\n",
    "If you did change the variables then you would find that the system has just two equilibrium points, not 4 like the other competition models. I think this makes sense because if the prey goes extinct then the predators go extinct $ (0, 0) $\n"
   ]
  },
  {
   "cell_type": "code",
   "execution_count": null,
   "id": "f178ef63",
   "metadata": {},
   "outputs": [],
   "source": []
  }
 ],
 "metadata": {
  "kernelspec": {
   "display_name": "Octave",
   "language": "octave",
   "name": "octave"
  },
  "language_info": {
   "file_extension": ".m",
   "help_links": [
    {
     "text": "GNU Octave",
     "url": "https://www.gnu.org/software/octave/support.html"
    },
    {
     "text": "Octave Kernel",
     "url": "https://github.com/Calysto/octave_kernel"
    },
    {
     "text": "MetaKernel Magics",
     "url": "https://metakernel.readthedocs.io/en/latest/source/README.html"
    }
   ],
   "mimetype": "text/x-octave",
   "name": "octave",
   "version": "6.4.0"
  }
 },
 "nbformat": 4,
 "nbformat_minor": 5
}
