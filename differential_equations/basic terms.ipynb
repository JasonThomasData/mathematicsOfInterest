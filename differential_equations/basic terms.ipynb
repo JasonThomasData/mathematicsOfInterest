{
 "cells": [
  {
   "cell_type": "markdown",
   "id": "8db55289",
   "metadata": {},
   "source": [
    "### Terminology\n",
    "\n",
    "#### Dependent and independent variable\n",
    "\n",
    "Used when talking about functions generally. $ y = f(x) $ means $ y $ is dependent and $ x $ is independent.\n",
    "\n",
    "#### Parameter\n",
    "\n",
    "Those parts of a differential equation or solution that are not variables. The objective of finding a particular solution might be to find the values of parameters for an initial condition.\n",
    "\n",
    "#### Initial condition\n",
    "\n",
    "Given $ \\frac{dy}{dt} = f(x) $ then $ f(x=0) $ is an initial condition. From what I can tell, it is most useful to represent it as an ordered pair $ (x,y) $\n",
    "\n",
    "#### Solution\n",
    "\n",
    "Let a differential equation be $ \\frac{dy}{dx} $. Then the solution is the integral if using analytic method. You might use a numeric method to approximate the solution. You might also guess a solution and then check it is by differentiating that guessed solution. The qualitative method to understand solutions is by using a slope field.\n",
    "\n",
    "#### Methods to finding solutions\n",
    "- analytical - we use integration to find precise formulas for solutions. This includes making guesses and then differentiating those guesses to check if they are solutions\n",
    "- qualitative - we use a slope field to understand how a family of solutions would behave over the long term or with different intial conditions\n",
    "- numeric - we approximate a particular solution (but what about general solutions)? Do we need to approximate the general solution and then approximate an initial condition before we find the particular solution?\n",
    "\n",
    "#### General solution\n",
    "\n",
    "Otherwise called a family of solutions. It will have a $ c $ in it, since this should be an integral.\n",
    "\n",
    "#### Particular solution\n",
    "\n",
    "Given a general solution and an initial condition, then you can solve for $ c $. This will be the particular solution where the general solution passes through the initial condition.\n",
    "\n",
    "#### Equilibrium solution\n",
    "\n",
    "If a solution doesn't change with respect to a variable, then the graph should look constant along one axis. If you had a general solution with initial conditions on the equilibrium solution then to plot that specific solution on the slope field would show a flat line.\n",
    "\n",
    "#### Slope field\n",
    "\n",
    "This is a way to visualise a general solution as a family of solutions. You might pick a few initial conditions and visualise the same number of particular solutions, to get an idea of the general behaviour of the general solution.\n",
    "\n",
    "#### Non-linear\n",
    "\n",
    "Given $ \\frac{dy}{dx} = f(x) $, then if $ f(x) $ is no-linear, then the equation is also non-linear.\n",
    "\n",
    "#### First-order system\n",
    "\n",
    "Given two ODEs (AND CAN THERE BE MORE?) then each ODE will have a different dependent variable but will have the same indepedent variable. Both equations should be first-order differential equations.\n",
    "\n",
    "Eg, let $ \\alpha, \\beta, \\gamma, \\delta $ be parameters.\n",
    "\n",
    "$ \\frac{dA}{dt} = \\alpha A(t) - \\beta A(t)B(t) $\n",
    "\n",
    "$ \\frac{dB}{dt} = \\gamma B(t) + \\delta A(t)B(t) $\n",
    "\n",
    "\n",
    "#### Autonomous differential equation\n",
    "This is a differential equation where $ \\frac{dy}{dx} = f(y) $. The slope field for this will depict parallel gradients along any horizontal line you draw.\n",
    "\n",
    "It is automonomous in the sense that it is not in terms of the independent variable.\n",
    "\n",
    "These will have one or more equilibrium solutions, and are the only kinds of differential equations that can have equilibrium solutions.\n",
    "\n",
    "#### Non-autonomous differential equation\n",
    "This is a differential equation where $ \\frac{dy}{dx} = f(x) $. The slope field for this will depict parallel gradients along any vertical line you draw.\n",
    "\n",
    "It is non-automonomous in the sense that it is affected by the independent variable.\n",
    "\n"
   ]
  },
  {
   "cell_type": "code",
   "execution_count": null,
   "id": "08a76966",
   "metadata": {},
   "outputs": [],
   "source": []
  }
 ],
 "metadata": {
  "kernelspec": {
   "display_name": "Octave",
   "language": "octave",
   "name": "octave"
  },
  "language_info": {
   "file_extension": ".m",
   "help_links": [
    {
     "text": "GNU Octave",
     "url": "https://www.gnu.org/software/octave/support.html"
    },
    {
     "text": "Octave Kernel",
     "url": "https://github.com/Calysto/octave_kernel"
    },
    {
     "text": "MetaKernel Magics",
     "url": "https://metakernel.readthedocs.io/en/latest/source/README.html"
    }
   ],
   "mimetype": "text/x-octave",
   "name": "octave",
   "version": "5.2.0"
  }
 },
 "nbformat": 4,
 "nbformat_minor": 5
}
