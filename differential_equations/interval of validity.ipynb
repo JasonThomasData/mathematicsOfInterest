{
 "cells": [
  {
   "cell_type": "markdown",
   "id": "4b2bd309",
   "metadata": {},
   "source": [
    "### Interval of validity\n",
    "\n",
    "A good practice is when you find a particular solution, when given an initial value problem, then you can check what over which interval the solution is valid.\n",
    "\n",
    "Check the solution is:\n",
    "\n",
    "- continuous\n",
    "- differentiable\n",
    "\n",
    "If there is a break in continuity anywhere, then that side of the equation is your interval.\n",
    "\n",
    "#### Check the solution is continuous\n",
    "\n",
    "If you have a general solution like:\n",
    "\n",
    "$ y = \\frac{1}{x} + c $\n",
    "\n",
    "This solution is not continuous at $ x = 1 $.\n",
    "\n",
    "If you have an initial condition at $ (2, 3) $\n",
    "\n",
    "Then you could find c as usual:\n",
    "\n",
    "$ 3 = \\frac{1}{2} + c $\n",
    "\n",
    "Therefore:\n",
    "\n",
    "$ c = 2.5 $\n",
    "\n",
    "Therefore the particular solution $ \\frac{1}{x} + 2.5 $ is valid over then interval $ (1, \\infty] $\n",
    "\n",
    "#### Check the solution is differentiable\n",
    "\n",
    "To do..."
   ]
  },
  {
   "cell_type": "code",
   "execution_count": null,
   "id": "92b371ce",
   "metadata": {},
   "outputs": [],
   "source": []
  }
 ],
 "metadata": {
  "kernelspec": {
   "display_name": "Octave",
   "language": "octave",
   "name": "octave"
  },
  "language_info": {
   "file_extension": ".m",
   "help_links": [
    {
     "text": "GNU Octave",
     "url": "https://www.gnu.org/software/octave/support.html"
    },
    {
     "text": "Octave Kernel",
     "url": "https://github.com/Calysto/octave_kernel"
    },
    {
     "text": "MetaKernel Magics",
     "url": "https://metakernel.readthedocs.io/en/latest/source/README.html"
    }
   ],
   "mimetype": "text/x-octave",
   "name": "octave",
   "version": "6.4.0"
  }
 },
 "nbformat": 4,
 "nbformat_minor": 5
}
