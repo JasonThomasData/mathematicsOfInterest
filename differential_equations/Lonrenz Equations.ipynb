{
 "cells": [
  {
   "cell_type": "markdown",
   "id": "d420673e",
   "metadata": {},
   "source": [
    "### Lorenz Equations\n",
    "\n",
    "By using the Jacobian matrix method to analyse the stability of equilibria, we can determine if each of the equilibria are are saddles and sinks etc.\n",
    "\n",
    "There's a notebook about using a Jacobian Matrix. The same example is used here:\n",
    "\n",
    "$ \\frac{dx}{dt} = -10x + 10y $\n",
    "\n",
    "$ \\frac{dy}{dt} = 28x -y - xz $\n",
    "\n",
    "$ \\frac{dz}{dt} = -8/3z + xy $\n",
    "\n",
    "And in the phase plane this looks like:\n",
    "\n",
    "![lorenz plot](lorenz.png) \n",
    "\n",
    "If you focus on the origin you will see that $ z \\to 0 $, and the Jacobian notebook explains how to find that result.\n",
    "\n",
    "Then the eigenvectors that are plotted above are for a saddle node. The eigenvectors are not really horizontal and that's how they're able to go up and up.\n",
    "\n",
    "Each of the other two equilibria should be evaluated individually. \n",
    "\n",
    "Each equilibrium will have one negative real eigenvalue (a sink). This explains why the spirals become flat: along that eigenvector, the spiral is 0. \n",
    "\n",
    "Each equilibrium will also have two complex conjugate eigenvalues, with positive real parts. Since the third eigenvector goes to 0 then we can imagine each spiral as approximately 2-dimensional. The positive real parts determine that these will be spiral sources. "
   ]
  },
  {
   "cell_type": "code",
   "execution_count": null,
   "id": "e672d160",
   "metadata": {},
   "outputs": [],
   "source": []
  }
 ],
 "metadata": {
  "kernelspec": {
   "display_name": "Octave",
   "language": "octave",
   "name": "octave"
  },
  "language_info": {
   "file_extension": ".m",
   "help_links": [
    {
     "text": "GNU Octave",
     "url": "https://www.gnu.org/software/octave/support.html"
    },
    {
     "text": "Octave Kernel",
     "url": "https://github.com/Calysto/octave_kernel"
    },
    {
     "text": "MetaKernel Magics",
     "url": "https://metakernel.readthedocs.io/en/latest/source/README.html"
    }
   ],
   "mimetype": "text/x-octave",
   "name": "octave",
   "version": "6.4.0"
  }
 },
 "nbformat": 4,
 "nbformat_minor": 5
}
