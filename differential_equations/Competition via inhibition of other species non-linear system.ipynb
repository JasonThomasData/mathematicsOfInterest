{
 "cells": [
  {
   "cell_type": "markdown",
   "id": "d7b7460b",
   "metadata": {},
   "source": [
    "### Competition via inhibition of another species\n",
    "\n",
    "Species can interact:\n",
    "\n",
    "- Via exploitation - one species affects another by consuming a shared resource. This is an indirect effect.\n",
    "- Via interference - one species interferes with another's ability to use a resource.\n",
    "\n",
    "This notebook concentrates on the second but there is a separate notebook for the first\n",
    "\n",
    "We will study this system:\n",
    "\n",
    "![system where one species inhibits another](Screenshot_2023-04-17_16-26-48.png)\n",
    "\n",
    "This system is such that each species affects the rate of growth for the other population\n",
    "\n",
    "Set the DEs to zero ( like for the Lotka-Volterra models) and you will find 4 equilibria: \n",
    "\n",
    "- $ (0,0) $ (unstable equilibrium, otherwise stable source, both species extinct)\n",
    "- $ (1,1) $ (saddle where each species is not outdoing the other)\n",
    "- $ (0,3), (2,0) $ (each is a stable sink, one species has inhibited the other species to extinction)\n",
    "\n",
    "Both populations must be on a precise path to reach the unstable equilibrium in the middle otherwise the populations will tend towards the edges and one will eventually become extinct.\n",
    "\n",
    "#### Nuclines for this system\n",
    "\n",
    "As in the Lotka-Volterra model notebook, this uses the notion of a nullcline, where the rate of change for some population is $ 0 $.\n",
    "\n",
    "Then if the straight line combination of $ x + y $ is below the nullcline then $ \\frac{dx}{dt} > 0 $, if above the nullcline then $ \\frac{dx}{dt} < 0 $. This means that the nullcline itself represents an equilibrium of the equation.\n",
    "\n",
    "Note that there are vertical lines to represent that this has only vertical slopes in a slope field. Also there are two nullclines for this, in blue.\n",
    "\n",
    "![phase plane with nullcline](Screenshot_2023-04-17_16-37-52.png)\n",
    "\n",
    "This is similar to above, in that the population tends towards the nullcline.\n",
    "\n",
    "Note that there are horizontal lines to represent that this has only horizontal slopes in a slope field. Also there are two nullclines for this, in blue.\n",
    "\n",
    "![phase plane with nullcline](Screenshot_2023-04-17_16-41-49.png)\n",
    "\n",
    "Below we can see both nullclines included together, with both nullclines included\n",
    "\n",
    "Note that on the lines, the directions are either horizontal or vertical at the lines. You can imagine tracine lines like in the first image of this notebook.\n",
    "\n",
    "![phase plane with both nullclines](Screenshot_2023-04-17_16-44-39.png)\n",
    "\n",
    "#### Basins of attraction and the separatrix\n",
    "\n",
    "If you refer back to the original pic in this notebook, you will see there is a straight line pointing to the saddle from two directions. This is the separatrix. Depending on which side of this line a system starts (due to some initial conditions) then this system will tend towards 1 of 2 basins of attraction, which are the stable sinks in the diagram.\n",
    "\n",
    "So the Separatrix is a solution curve that tends towards the saddle.\n",
    "\n",
    "In the first diagram in this notebook there are two separatrix that lead to the saddle equilibrium.\n",
    "\n",
    "#### Q: DOES THIS KIND OF SYSTEM HAVE THE FOUR SCENARIOS LIKE THE LOTKA-VOLTERRA MODEL?"
   ]
  },
  {
   "cell_type": "code",
   "execution_count": null,
   "id": "17c4030d",
   "metadata": {},
   "outputs": [],
   "source": []
  }
 ],
 "metadata": {
  "kernelspec": {
   "display_name": "Octave",
   "language": "octave",
   "name": "octave"
  },
  "language_info": {
   "file_extension": ".m",
   "help_links": [
    {
     "text": "GNU Octave",
     "url": "https://www.gnu.org/software/octave/support.html"
    },
    {
     "text": "Octave Kernel",
     "url": "https://github.com/Calysto/octave_kernel"
    },
    {
     "text": "MetaKernel Magics",
     "url": "https://metakernel.readthedocs.io/en/latest/source/README.html"
    }
   ],
   "mimetype": "text/x-octave",
   "name": "octave",
   "version": "6.4.0"
  }
 },
 "nbformat": 4,
 "nbformat_minor": 5
}
