{
 "cells": [
  {
   "cell_type": "markdown",
   "id": "18367a04",
   "metadata": {},
   "source": [
    "### Bayes' Theorem\n",
    "\n",
    "This is given as \n",
    "\n",
    "$ P(A|B) = \\frac{P(B|A)P(A)}{P(B)} $\n",
    "\n",
    "Let's see a proof.\n",
    "\n",
    "Consider the definition of conditional probability (see the notebook for intuition):\n",
    "\n",
    "$ P(A|B) = \\frac{P(A \\cap B)}{P(B)} $\n",
    "\n",
    "And that same definition, reversed:\n",
    "\n",
    "$ P(B|A) = \\frac{P(B \\cap A)}{P(A)} $\n",
    "\n",
    "$ P(B|A) = \\frac{P(A \\cap B)}{P(A)} $\n",
    "\n",
    "$ P(A \\cap B) = P(B|A)P(A)  $\n",
    "\n",
    "We can now substitute this into the first equation:\n",
    "\n",
    "$ P(A|B) = \\frac{P(B|A)P(A)}{P(B)} $\n",
    "\n",
    "These can be interpreted as:\n",
    "\n",
    "$ P(A) $ : be the prior probability. If we know nothing about the situation then you might assume a uniform distribution.\n",
    "\n",
    "$ P(A|B) $ : be the propability that $ A $ is true given the evidence B. This is unknown and we want to find it\n",
    "\n",
    "$ P(B|A) $ : be the propability that we will observe the evidence if we assume the A is true. This is also known as the likelihood. This is also where you might introduce a model.\n",
    "\n",
    "$ P(B) $ : be the propability of the evidence across all hypotheses.\n",
    "\n",
    "### An application\n",
    "\n",
    "Say we have two coins and the fairness is assumed to be:\n",
    "\n",
    "$ C_1 = 5:5, (h:t) $, which is fair.\n",
    "\n",
    "$ C_2 = 2:8, (h:t) $, which is unfair.\n",
    "\n",
    "If we used a distribution, rather than events, then the parameters for that distribution would be changed as a result of this. See the Bayesian Analyses folder for this.\n",
    "\n",
    "And suppose it's a magician who gives us the coin.\n",
    "\n",
    "---\n",
    "\n",
    "We can now conduct an experiment:\n",
    "\n",
    "Choose a coin.\n",
    "\n",
    "$ H_1 $ : the coin chosen is $ C_1 $\n",
    "\n",
    "$ H_2 $ : the coin chosen is $ C_2 $\n",
    "\n",
    "$ E $ is \"the evidence\" of getting heads, $ h $\n",
    "\n",
    "And then collect some data with 10 coin flips:\n",
    "\n",
    "$ h,t,h,h,t,h,t,t,h,h $\n",
    "\n",
    "$ P(H_1) = 2/10 $, since the magician is very suspicious.\n",
    "\n",
    "$ P(E | H_1) = 5/5 $, or the probability of getting heads if we assume the coin chosen is $ C_1 $. Otherwise, the likelihood.\n",
    "\n",
    "$ P(E) = 6/10 $, or the probability of getting heads.\n",
    "\n",
    "Bayes' Theorem states:\n",
    "\n",
    "$ P(H_1 | E) = \\frac{P(E | H_1)P(H_1)}{P(E)} $\n",
    "\n",
    "So:\n",
    "\n",
    "$ P(H_1 | E) = \\frac{.5 * .2}{.6} $"
   ]
  },
  {
   "cell_type": "code",
   "execution_count": 2,
   "id": "b1434428",
   "metadata": {},
   "outputs": [
    {
     "name": "stdout",
     "output_type": "stream",
     "text": [
      "ans =  0.16667\r\n"
     ]
    }
   ],
   "source": [
    "(.5*.2)/.6"
   ]
  },
  {
   "cell_type": "code",
   "execution_count": null,
   "id": "911d7c4b",
   "metadata": {},
   "outputs": [],
   "source": []
  }
 ],
 "metadata": {
  "kernelspec": {
   "display_name": "Octave",
   "language": "octave",
   "name": "octave"
  },
  "language_info": {
   "file_extension": ".m",
   "help_links": [
    {
     "text": "GNU Octave",
     "url": "https://www.gnu.org/software/octave/support.html"
    },
    {
     "text": "Octave Kernel",
     "url": "https://github.com/Calysto/octave_kernel"
    },
    {
     "text": "MetaKernel Magics",
     "url": "https://metakernel.readthedocs.io/en/latest/source/README.html"
    }
   ],
   "mimetype": "text/x-octave",
   "name": "octave",
   "version": "5.2.0"
  }
 },
 "nbformat": 4,
 "nbformat_minor": 5
}
