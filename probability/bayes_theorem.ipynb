{
 "cells": [
  {
   "cell_type": "markdown",
   "id": "18367a04",
   "metadata": {},
   "source": [
    "### Bayes' Theorem\n",
    "\n",
    "This is given as \n",
    "\n",
    "$ P(A|B) = \\frac{P(B|A)P(A)}{P(B)} $\n",
    "\n",
    "Let's see a proof.\n",
    "\n",
    "Consider the definition of conditional probability (see the notebook for intuition):\n",
    "\n",
    "$ P(A|B) = \\frac{P(A \\cap B)}{P(B)} $\n",
    "\n",
    "And that same definition, reversed:\n",
    "\n",
    "$ P(B|A) = \\frac{P(B \\cap A)}{P(A)} $\n",
    "\n",
    "$ P(B|A) = \\frac{P(A \\cap B)}{P(A)} $\n",
    "\n",
    "$ P(A \\cap B) = P(B|A)P(A)  $\n",
    "\n",
    "We can now substitute this into the first equation:\n",
    "\n",
    "$ P(A|B) = \\frac{P(B|A)P(A)}{P(B)} $\n",
    "\n",
    "### An application\n",
    "\n",
    "Example from - https://www.youtube.com/watch?v=HZGCoVF3YvM\n",
    "\n",
    "The theorem is useful for updating estimate of probability based on new data.\n",
    "\n",
    "Consider the statement: \n",
    "\n",
    "\"Steve is meek and tidy. Is he more likely to be a librarian or a farmer?\"\n",
    "\n",
    "Let's be irrational and say that Steve is most likely to be a librarian because he meets the stereotype.\n",
    "\n",
    "Then:\n",
    "\n",
    "$ H $: Steve is a librarian\n",
    "\n",
    "$ \\lnot H $: Steve is a farmer\n",
    "\n",
    "$ E $: Steve is meek and tidy\n",
    "\n",
    "Then what is the probability of the $ H $ given the evidence, $ P(H|E) $?\n",
    "\n",
    "#### Step 1 - Prior (probability)\n",
    "\n",
    "We have no evidence or data so let's take a stab: $ P(H): .8 $\n",
    "\n",
    "This is a niave guess that we seek to adjust using data.\n",
    "\n",
    "#### Step 2 - Collect data\n",
    "\n",
    "We need to find:\n",
    "\n",
    "$ P(E|H) $, or from those people who meet the hypothesis, how many meet the evidence criteria?\n",
    "\n",
    "$ P(E|\\lnot H) $, or from those people who do not meet the hypothesis, how many people meet the evidence criteria?\n",
    "\n",
    "Let's say that there are:\n",
    "\n",
    "- 200 farmers, 10 are meek and tidy\n",
    "- 10 librarians, 4 are meek and tidy\n",
    "\n",
    "#### Step 3 - Find the posterior (probability)\n",
    "\n",
    "\n"
   ]
  },
  {
   "cell_type": "code",
   "execution_count": null,
   "id": "b1434428",
   "metadata": {},
   "outputs": [],
   "source": []
  },
  {
   "cell_type": "code",
   "execution_count": null,
   "id": "911d7c4b",
   "metadata": {},
   "outputs": [],
   "source": []
  }
 ],
 "metadata": {
  "kernelspec": {
   "display_name": "Octave",
   "language": "octave",
   "name": "octave"
  },
  "language_info": {
   "file_extension": ".m",
   "help_links": [
    {
     "text": "GNU Octave",
     "url": "https://www.gnu.org/software/octave/support.html"
    },
    {
     "text": "Octave Kernel",
     "url": "https://github.com/Calysto/octave_kernel"
    },
    {
     "text": "MetaKernel Magics",
     "url": "https://metakernel.readthedocs.io/en/latest/source/README.html"
    }
   ],
   "mimetype": "text/x-octave",
   "name": "octave",
   "version": "5.2.0"
  }
 },
 "nbformat": 4,
 "nbformat_minor": 5
}
