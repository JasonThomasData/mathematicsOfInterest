{
 "cells": [
  {
   "cell_type": "markdown",
   "id": "023cd274",
   "metadata": {},
   "source": [
    "### Independent events\n",
    "\n",
    "If $ P(A|B) = P(A) $ and $ P(B|A) = P(B) $\n",
    "\n",
    "Then the events $ A, B $ are independent. The knowledge that one has occured does not affect the other.\n",
    "\n",
    "#### Complements\n",
    "\n",
    "If the events $ A, B $ are independent then so are the pairs of those and their complements:\n",
    "\n",
    "$ \\{ (A, \\bar B), (\\bar A, B), (\\bar A, \\bar B) \\} $\n",
    "\n",
    "are all independent\n",
    "\n",
    "#### Effect on product rule\n",
    "\n",
    "This means that the product rule:\n",
    "\n",
    "$ P(A \\cap B) = P(A|B)P(B) = P(B|A)P(A) $\n",
    "\n",
    "Simplifies to:\n",
    "\n",
    "$ P(A \\cap B) = P(A)P(B) $\n",
    "\n",
    "And the generalisation is:\n",
    "\n",
    "$ P(A \\cap B \\cap C) = P(A)P(B)P(C) $\n"
   ]
  },
  {
   "cell_type": "code",
   "execution_count": null,
   "id": "6542f1e1",
   "metadata": {},
   "outputs": [],
   "source": []
  }
 ],
 "metadata": {
  "kernelspec": {
   "display_name": "Octave",
   "language": "octave",
   "name": "octave"
  },
  "language_info": {
   "file_extension": ".m",
   "help_links": [
    {
     "text": "GNU Octave",
     "url": "https://www.gnu.org/software/octave/support.html"
    },
    {
     "text": "Octave Kernel",
     "url": "https://github.com/Calysto/octave_kernel"
    },
    {
     "text": "MetaKernel Magics",
     "url": "https://metakernel.readthedocs.io/en/latest/source/README.html"
    }
   ],
   "mimetype": "text/x-octave",
   "name": "octave",
   "version": "6.4.0"
  }
 },
 "nbformat": 4,
 "nbformat_minor": 5
}
