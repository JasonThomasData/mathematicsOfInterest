{
 "cells": [
  {
   "cell_type": "markdown",
   "id": "30e72b68",
   "metadata": {},
   "source": [
    "### Matching problem\n",
    "\n",
    "This is an application of the generalised addition rule.\n",
    "\n",
    "#### An example - at least one match\n",
    "\n",
    "There are 7 letters placed in 7 envelopes.\n",
    "\n",
    "What is the probability that at least one envelope is in the right envelope?\n",
    "\n",
    "Let:\n",
    "\n",
    "$ A_i $ be the event that the ith letter is in the ith envelope.\n",
    "\n",
    "If the envelopes are arranged on a table, then the order that the letters are placed into the envelopes matters, so when thinking about the probability of letters we should think about permutations.\n",
    "\n",
    "The probability of all letters getting placed in any order is a function of the number of letters such that:\n",
    "\n",
    "$ n $ is the number of letters\n",
    "\n",
    "Then:\n",
    "\n",
    "$ P(A_i) = \\frac{(n-1)!}{n!} $\n",
    "\n",
    "This is because you must consider all permutations, but we stipulate that the first letter is placed in the correct envelope. So therefore you must consider every other letter iterating through every other envelope, except for that first correctly-placed letter.\n",
    "\n",
    "So, for any letter to be in the correct envelope:\n",
    "\n",
    "$ P(A_i) = \\frac{(7-1)!}{7!} = \\frac{6!}{7!} $\n",
    "\n",
    "$ P(A_i \\cap A_j) = \\frac{(7-2)!}{7!} = \\frac{6!}{7!}$\n",
    "\n",
    "$ P(A_i \\cap A_j \\cap A_k) = \\frac{(7-3)!}{7!} = \\frac{4!}{7!}$\n",
    "\n",
    "$ P(A_i \\cap A_j \\cap A_k \\cap A_l) = \\frac{(7-4)!}{7!} = \\frac{3!}{7!}$\n",
    "\n",
    "$ P(A_i \\cap A_j \\cap A_k \\cap A_l \\cap A_m) = \\frac{(7-5)!}{7!} = \\frac{2!}{7!}$\n",
    "\n",
    "$ P(A_i \\cap A_j \\cap A_k \\cap A_l \\cap A_m \\cap A_n) = \\frac{(7-6)!}{7!} = \\frac{1!}{7!}$\n",
    "\n",
    "$ P(A_i \\cap A_j \\cap A_k \\cap A_l \\cap A_m \\cap A_n \\cap A_o) = \\frac{(7-7)!}{7!} = \\frac{1}{7!}$\n",
    "\n",
    "Remember, $ 0! = 1 $\n",
    "\n",
    "But we actually care about the summations of probabilities.\n",
    "\n",
    "We can use the principle of Inclusion-Exclusion to find the total probability of at least one letter being in the right envelope. This happens by including and excluding unions of increasing numbers of sets to find the total union.\n",
    "\n",
    "$ S_1 = \\sum_i P(A_i) = {}_{7}C_{1} \\frac{(7-1)!}{7!} = 7 \\frac{6!}{7!}$\n",
    "\n",
    "$ S_2 = \\sum_{ij} P(A_i \\cap A_j) = {}_{7}C_{2} \\frac{(7-2)!}{7!} = 21 \\frac{5!}{7!}$\n",
    "\n",
    "$ S_3 = \\sum_{ijk} P(A_i \\cap A_j \\cap A_k) = {}_{7}C_{3} \\frac{(7-3)!}{7!} = 35 \\frac{4!}{7!}$\n",
    "\n",
    "$ S_4 = \\sum_{ijkl} P(A_i \\cap A_j \\cap A_k \\cap A_l) = {}_{7}C_{4} \\frac{(7-4)!}{7!} = 35 \\frac{3!}{7!}$\n",
    "\n",
    "$ S_5 = \\sum_{ijklm} P(A_i \\cap A_j \\cap A_k \\cap A_l \\cap A_m) = {}_{7}C_{5} \\frac{(7-5)!}{7!} = 21 \\frac{2!}{7!}$\n",
    "\n",
    "$ S_6 = \\sum_{ijklmn} P(A_i \\cap A_j \\cap A_k \\cap A_l \\cap A_m \\cap A_n) = {}_{7}C_{6} \\frac{(7-6)!}{7!} = 7 \\frac{1!}{7!}$\n",
    "\n",
    "$ S_7 = \\sum_{ijklmno} P(A_i \\cap A_j \\cap A_k \\cap A_l \\cap A_m \\cap A_n \\cap A_o) = {}_{7}C_{7} \\frac{(7-7)!}{7!} = 1 \\frac{1}{7!}$\n",
    "\n",
    "And if we use the inclusion-exclusion principle:\n",
    "\n",
    "$ P_1 = S_1 - S_2 + S_3 - S_4 + S_5 - S_6 + S_7 $\n",
    "\n",
    "$ P_1 = 7 \\frac{6!}{7!} - 21 \\frac{5!}{7!} + 35 \\frac{4!}{7!} - 35 \\frac{3!}{7!} + 21 \\frac{2!}{7!} - 7 \\frac{1!}{7!} + 1 \\frac{1}{7!} $"
   ]
  },
  {
   "cell_type": "code",
   "execution_count": 10,
   "id": "64506691",
   "metadata": {},
   "outputs": [
    {
     "name": "stdout",
     "output_type": "stream",
     "text": [
      "ans = 0.6321\r\n"
     ]
    }
   ],
   "source": [
    "addpath('../combinatronics/')\n",
    "\n",
    "n_choose_r(7,1)*(factorial(n-1)/factorial(7)) - ...\n",
    "n_choose_r(7,2)*(factorial(n-2)/factorial(7)) + ...\n",
    "n_choose_r(7,3)*(factorial(n-3)/factorial(7)) - ...\n",
    "n_choose_r(7,4)*(factorial(n-4)/factorial(7)) + ...\n",
    "n_choose_r(7,5)*(factorial(n-5)/factorial(7)) - ...\n",
    "n_choose_r(7,6)*(factorial(n-6)/factorial(7)) + ...\n",
    "n_choose_r(7,7)*(factorial(n-7)/factorial(7))"
   ]
  },
  {
   "cell_type": "markdown",
   "id": "268279fb",
   "metadata": {},
   "source": [
    "#### Example - at least four matches\n",
    "\n",
    "This is the same except:\n",
    "\n",
    "- we don't need to add the cases where fewer than 4 people match\n",
    "- we reconsider the summations of intersections in terms of the inclusion-exclusion principle\n",
    "\n",
    "Instead of:\n",
    "\n",
    "$ P_1 = S_1 - S_2 + S_3 - S_4 + S_5 - S_6 + S_7 $\n",
    "\n",
    "We do:\n",
    "\n",
    "$ P_4 = S_4 - S_5 + S_6 - S_7 $\n",
    "\n",
    "\n",
    "\n",
    "$ P(A_i \\cap A_j \\cap A_k \\cap A_l) = \\frac{(7-4)!}{7!} = \\frac{3!}{7!}$\n",
    "\n",
    "$ P(A_i \\cap A_j \\cap A_k \\cap A_l \\cap A_m) = \\frac{(7-5)!}{7!} = \\frac{2!}{7!}$\n",
    "\n",
    "$ P(A_i \\cap A_j \\cap A_k \\cap A_l \\cap A_m \\cap A_n) = \\frac{(7-6)!}{7!} = \\frac{1!}{7!}$\n",
    "\n",
    "$ P(A_i \\cap A_j \\cap A_k \\cap A_l \\cap A_m \\cap A_n \\cap A_o) = \\frac{(7-7)!}{7!} = \\frac{1}{7!}$\n",
    "\n",
    "Then:\n",
    "\n",
    "$ S_4 = \\sum_{ijkl} P(A_i \\cap A_j \\cap A_k \\cap A_l) = {}_{7}C_{4} \\frac{(7-4)!}{7!} = 35 \\frac{3!}{7!}$\n",
    "\n",
    "$ S_5 = \\sum_{ijklm} P(A_i \\cap A_j \\cap A_k \\cap A_l \\cap A_m) = {}_{7}C_{5} \\frac{(7-5)!}{7!} = 21 \\frac{2!}{7!}$\n",
    "\n",
    "$ S_6 = \\sum_{ijklmn} P(A_i \\cap A_j \\cap A_k \\cap A_l \\cap A_m \\cap A_n) = {}_{7}C_{6} \\frac{(7-6)!}{7!} = 7 \\frac{1!}{7!}$\n",
    "\n",
    "$ S_7 = \\sum_{ijklmno} P(A_i \\cap A_j \\cap A_k \\cap A_l \\cap A_m \\cap A_n \\cap A_o) = {}_{7}C_{7} \\frac{(7-7)!}{7!} = 1 \\frac{1}{7!}$\n",
    "\n",
    "$ P_4 = 35 \\frac{3!}{7!} - 21 \\frac{2!}{7!} + 7 \\frac{1!}{7!} - 1 \\frac{1}{7!} $"
   ]
  },
  {
   "cell_type": "code",
   "execution_count": 11,
   "id": "67b5af68",
   "metadata": {},
   "outputs": [
    {
     "name": "stdout",
     "output_type": "stream",
     "text": [
      "ans = 0.034524\r\n"
     ]
    }
   ],
   "source": [
    "n_choose_r(7,4)*(factorial(7-4)/factorial(7)) - ...\n",
    "n_choose_r(7,5)*(factorial(7-5)/factorial(7)) + ...\n",
    "n_choose_r(7,6)*(factorial(7-6)/factorial(7)) - ...\n",
    "n_choose_r(7,7)*(factorial(7-7)/factorial(7))"
   ]
  },
  {
   "cell_type": "markdown",
   "id": "c8cbdb3b",
   "metadata": {},
   "source": [
    "#### Example - exactly five matches\n",
    "\n",
    "The difference here is that when we add the summations for the intersections of many sets, instead of reducing the number of choices each time, we keep the choices static and increase the\n",
    "\n",
    "$ P_{[5]} = S_5 - S_6 + S_7 $\n",
    "\n",
    "$ P(A_i \\cap A_j \\cap A_k \\cap A_l \\cap A_m) = \\frac{(7-5)!}{7!} = \\frac{2!}{7!}$\n",
    "\n",
    "$ P(A_i \\cap A_j \\cap A_k \\cap A_l \\cap A_m \\cap A_n) = \\frac{(7-6)!}{7!} = \\frac{1!}{7!}$\n",
    "\n",
    "$ P(A_i \\cap A_j \\cap A_k \\cap A_l \\cap A_m \\cap A_n \\cap A_o) = \\frac{(7-7)!}{7!} = \\frac{0!}{7!}$\n",
    "\n",
    "Then:\n",
    "\n",
    "$ S_5 = \\sum_{ijklm} P(A_i \\cap A_j \\cap A_k \\cap A_l \\cap A_m) = {}_{5}C_{5} \\frac{(7-5)!}{7!} = \\frac{2!}{7!}$\n",
    "\n",
    "$ S_6 = \\sum_{ijklmn} P(A_i \\cap A_j \\cap A_k \\cap A_l \\cap A_m \\cap A_n) = {}_{6}C_{5} \\frac{(7-6)!}{7!} = 6 \\frac{1!}{7!}$\n",
    "\n",
    "$ S_7 = \\sum_{ijklmno} P(A_i \\cap A_j \\cap A_k \\cap A_l \\cap A_m \\cap A_n \\cap A_o) = {}_{7}C_{5} \\frac{(7-7)!}{7!} = 21 \\frac{0!}{7!}$\n",
    "\n",
    "$ P_{[5]} = \\frac{2!}{7!} - 6 \\frac{1!}{7!} + 21 \\frac{0!}{7!} $"
   ]
  },
  {
   "cell_type": "code",
   "execution_count": 13,
   "id": "e0c93978",
   "metadata": {},
   "outputs": [
    {
     "name": "stdout",
     "output_type": "stream",
     "text": [
      "ans = 3.3730e-03\r\n"
     ]
    }
   ],
   "source": [
    "n_choose_r(5,5) * (factorial(7-5)/factorial(7)) - ...\n",
    "n_choose_r(6,5) * (factorial(7-6)/factorial(7)) + ...\n",
    "n_choose_r(7,5) * (factorial(7-7)/factorial(7))"
   ]
  },
  {
   "cell_type": "markdown",
   "id": "05841817",
   "metadata": {},
   "source": [
    "While this last result might seem small, it is still larger than getting exactly $ 7 $ matches:\n",
    "\n",
    "$ S_7 = \\sum_{ijklmno} P(A_i \\cap A_j \\cap A_k \\cap A_l \\cap A_m \\cap A_n \\cap A_o) = {}_{7}C_{7} \\frac{(7-7)!}{7!} = \\frac{1}{7!}$\n",
    "\n",
    "$ P_{[7]} = S_7 $\n",
    "\n",
    "And this result is intuitive since if you consider every scenario, then there are $ 7! $ that all choices might be made. Then any particular arrangement has a $ \\frac{1}{7!} $ probability.\n"
   ]
  },
  {
   "cell_type": "code",
   "execution_count": 14,
   "id": "c9e9553d",
   "metadata": {},
   "outputs": [
    {
     "name": "stdout",
     "output_type": "stream",
     "text": [
      "ans = 1.9841e-04\r\n"
     ]
    }
   ],
   "source": [
    "1/factorial(7)"
   ]
  },
  {
   "cell_type": "code",
   "execution_count": null,
   "id": "9c59615f",
   "metadata": {},
   "outputs": [],
   "source": []
  }
 ],
 "metadata": {
  "kernelspec": {
   "display_name": "Octave",
   "language": "octave",
   "name": "octave"
  },
  "language_info": {
   "file_extension": ".m",
   "help_links": [
    {
     "text": "GNU Octave",
     "url": "https://www.gnu.org/software/octave/support.html"
    },
    {
     "text": "Octave Kernel",
     "url": "https://github.com/Calysto/octave_kernel"
    },
    {
     "text": "MetaKernel Magics",
     "url": "https://metakernel.readthedocs.io/en/latest/source/README.html"
    }
   ],
   "mimetype": "text/x-octave",
   "name": "octave",
   "version": "6.4.0"
  }
 },
 "nbformat": 4,
 "nbformat_minor": 5
}
