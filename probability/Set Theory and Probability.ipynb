{
 "cells": [
  {
   "cell_type": "markdown",
   "id": "f8454d86",
   "metadata": {},
   "source": [
    "### Set theory applied to probability\n",
    "\n",
    "Let:\n",
    "\n",
    "A _random experiment_ be one that is independent of anything that is outside the experiement.\n",
    "\n",
    "Let an _outcome_ be the result of a single _trial_, eg flipping two coins \n",
    "\n",
    "Flipping a single coin is an _occurence_\n",
    "\n",
    "$ \\Omega $ be a _sample space_ of all possible outcomes\n",
    "\n",
    "$ E $ be a subset of the $ \\Omega $ subject to some occurence\n",
    "\n",
    "EG:\n",
    "\n",
    "A random experiment is to flip two coins. The the experiment consists of one trial and two occurences where there are 4 possible outcomes.\n",
    "\n",
    "The sample space is:\n",
    "\n",
    "$ \\Omega = \\{TT, TH, HT, HH \\} $\n",
    "\n",
    "A single trial will give us two occurences.\n",
    "\n",
    "#### Union of events\n",
    "\n",
    "The event $ E_1 \\subset \\Omega $ is the set of all outcomes where the first occurance in each outcome is $ H $\n",
    "\n",
    "$ E_1 = \\{HH, HT \\} $\n",
    "\n",
    "The event $ E_2 \\subset \\Omega $ is the set of all outcomes where both occurences are the same\n",
    "\n",
    "$ E_2 = \\{HH, TT \\} $\n",
    "\n",
    "#### Intersection of events\n",
    "\n",
    "The intersection $ E_1 \\cap E_2 $ is a set of outcomes that are in both $ E_1 $ and $ E_2 $\n",
    "\n",
    "$ E_1 \\cap E_2 = \\{ HH \\} $\n",
    "\n",
    "This is a set of one outcome, and that outcome could be the result of two trials in a single random experiment.\n",
    "\n",
    "The union $ E_1 \\cup E_2 $ are those outcomes that are in either $ E_1 $ or $ E_2 $.\n",
    "\n",
    "$ E_1 \\cup E_2 = { HH, HT, TT } $\n",
    "\n",
    "#### Mutually exclusive\n",
    "\n",
    "Two events are mutually exclusive if:\n",
    "\n",
    "$ E_1 \\cap E_2 = \\emptyset $\n",
    "\n",
    "#### Complement\n",
    "\n",
    "If there is an event $ A $, then the set of all possible outcomes that are not in $ A $ is $ \\bar{A} $\n"
   ]
  },
  {
   "cell_type": "code",
   "execution_count": null,
   "id": "b8343874",
   "metadata": {},
   "outputs": [],
   "source": []
  }
 ],
 "metadata": {
  "kernelspec": {
   "display_name": "Octave",
   "language": "octave",
   "name": "octave"
  },
  "language_info": {
   "file_extension": ".m",
   "help_links": [
    {
     "text": "GNU Octave",
     "url": "https://www.gnu.org/software/octave/support.html"
    },
    {
     "text": "Octave Kernel",
     "url": "https://github.com/Calysto/octave_kernel"
    },
    {
     "text": "MetaKernel Magics",
     "url": "https://metakernel.readthedocs.io/en/latest/source/README.html"
    }
   ],
   "mimetype": "text/x-octave",
   "name": "octave",
   "version": "6.4.0"
  }
 },
 "nbformat": 4,
 "nbformat_minor": 5
}
