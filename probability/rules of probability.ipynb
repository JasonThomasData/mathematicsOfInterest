{
 "cells": [
  {
   "cell_type": "markdown",
   "id": "4b1a89ab",
   "metadata": {},
   "source": [
    "### Basic rules of probability\n",
    "\n",
    "Let:\n",
    "\n",
    "$ \\Omega $ be the sample space of all possible outcomes.\n",
    "\n",
    "$ \\bar{A} $ be the complement of $ A $\n",
    "\n",
    "---\n",
    "\n",
    "$ P(\\Omega) = 1 $, meaning that something from the sample space must occur\n",
    "\n",
    "$ P(\\emptyset) = 0 $, a consequence of above\n",
    "\n",
    "---\n",
    "\n",
    "For any event $ A $:\n",
    "\n",
    "$ \\emptyset \\subset P(A) \\subset \\Omega $\n",
    "\n",
    "$ 0 \\le P(A) \\le 1 $\n",
    "\n",
    "---\n",
    "\n",
    "Complementary rule\n",
    "\n",
    "$ P(\\bar{A}) = 1 - P(A) $\n",
    "\n",
    "---\n",
    "\n",
    "Addition rule:\n",
    "\n",
    "$ P(A \\cup B) = P(A) + P(B) - P(A \\cap B) $\n",
    "\n",
    "The above means there are three scenarious:\n",
    "\n",
    "- $ A, B $ are mutually exclusive then\n",
    "\n",
    "$ P(A \\cup B) = P(A) + P(B) $\n",
    "\n",
    "- $ A, B $ partially overlap then\n",
    "\n",
    "$ P(A \\cup B) < P(A) + P(B) $\n",
    "\n",
    "- $ A, B $ are the same then\n",
    "\n",
    "$ P(A \\cup B) = \\frac{P(A) + P(B)}{2} = P(A) = P(B) $\n",
    "\n",
    "---\n",
    "\n",
    "Generalised addition rule:\n",
    "\n",
    "$ P(A \\cup B \\cup C) = P(A) + P(B) + P(C) - P(A \\cap B) - P(B \\cap C) - P(C \\cap A) + P(A \\cap B \\cap C) $\n",
    "\n",
    "This is:\n",
    "\n",
    "- Include cardinalities of sets\n",
    "- Exclude cardinalities of pairwise intersections\n",
    "- Include cardinalities of three-way intersections\n",
    "- ...\n",
    "\n",
    "And written as"
   ]
  },
  {
   "cell_type": "code",
   "execution_count": null,
   "id": "c7a3c495",
   "metadata": {},
   "outputs": [],
   "source": []
  }
 ],
 "metadata": {
  "kernelspec": {
   "display_name": "Octave",
   "language": "octave",
   "name": "octave"
  },
  "language_info": {
   "file_extension": ".m",
   "help_links": [
    {
     "text": "GNU Octave",
     "url": "https://www.gnu.org/software/octave/support.html"
    },
    {
     "text": "Octave Kernel",
     "url": "https://github.com/Calysto/octave_kernel"
    },
    {
     "text": "MetaKernel Magics",
     "url": "https://metakernel.readthedocs.io/en/latest/source/README.html"
    }
   ],
   "mimetype": "text/x-octave",
   "name": "octave",
   "version": "6.4.0"
  }
 },
 "nbformat": 4,
 "nbformat_minor": 5
}
