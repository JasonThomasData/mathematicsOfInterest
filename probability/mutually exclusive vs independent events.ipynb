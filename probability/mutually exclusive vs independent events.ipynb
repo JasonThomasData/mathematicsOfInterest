{
 "cells": [
  {
   "cell_type": "markdown",
   "id": "556adc2d",
   "metadata": {},
   "source": [
    "### Difference between mutually exclusive events and independent events\n",
    "\n",
    "Events that are mutually exclusive are those that have no chance of occuring at the same moment.\n",
    "\n",
    "Eg: for a single trial of a random experiment where we flip a single fair coin.\n",
    "\n",
    "$ \\Omega = \\{ H, T \\} $\n",
    "\n",
    "Then if you draw a venn diagram for this single trial you will see that there is no overlap. The events circles will have no $ P(H \\cap T \\} $ part.\n",
    "\n",
    "Then:\n",
    "\n",
    "$ P(A \\cap B) = 0 $\n",
    "\n",
    "$ P(A|B) = \\frac{P(A \\cap B)}{P(B)} = 0 $\n",
    "\n",
    "And this means that mutually exclusive events can't be independent events.\n",
    "\n",
    "That's because an independent event is:\n",
    "\n",
    "$ P(A|B) = \\frac{P(A \\cap B)}{P(B)} $\n",
    "\n",
    "$ P(A|B) = \\frac{P(A)P(B)}{P(B)} = P(A) $\n"
   ]
  },
  {
   "cell_type": "code",
   "execution_count": null,
   "id": "96f1be4d",
   "metadata": {},
   "outputs": [],
   "source": []
  }
 ],
 "metadata": {
  "kernelspec": {
   "display_name": "Octave",
   "language": "octave",
   "name": "octave"
  },
  "language_info": {
   "file_extension": ".m",
   "help_links": [
    {
     "text": "GNU Octave",
     "url": "https://www.gnu.org/software/octave/support.html"
    },
    {
     "text": "Octave Kernel",
     "url": "https://github.com/Calysto/octave_kernel"
    },
    {
     "text": "MetaKernel Magics",
     "url": "https://metakernel.readthedocs.io/en/latest/source/README.html"
    }
   ],
   "mimetype": "text/x-octave",
   "name": "octave",
   "version": "6.4.0"
  }
 },
 "nbformat": 4,
 "nbformat_minor": 5
}
