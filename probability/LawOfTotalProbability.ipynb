{
 "cells": [
  {
   "cell_type": "markdown",
   "id": "a812c4a3",
   "metadata": {},
   "source": [
    "### Law of total probability\n",
    "\n",
    "If you have a sample space that is partitioned by events, that is to say that they are mutually exclusive. Let all of these be $ B_i $\n",
    "\n",
    "![pic of sample space](LawTotalProbability.png)\n",
    "\n",
    "Say there is some event that cuts across all of them, $ A $\n",
    "\n",
    "$ P(A) = \\sum_\\limits{i=1} P(A|B_i)P(B_i) $\n"
   ]
  },
  {
   "cell_type": "code",
   "execution_count": null,
   "id": "46674509",
   "metadata": {},
   "outputs": [],
   "source": []
  }
 ],
 "metadata": {
  "kernelspec": {
   "display_name": "Octave",
   "language": "octave",
   "name": "octave"
  },
  "language_info": {
   "file_extension": ".m",
   "help_links": [
    {
     "text": "GNU Octave",
     "url": "https://www.gnu.org/software/octave/support.html"
    },
    {
     "text": "Octave Kernel",
     "url": "https://github.com/Calysto/octave_kernel"
    },
    {
     "text": "MetaKernel Magics",
     "url": "https://metakernel.readthedocs.io/en/latest/source/README.html"
    }
   ],
   "mimetype": "text/x-octave",
   "name": "octave",
   "version": "6.4.0"
  }
 },
 "nbformat": 4,
 "nbformat_minor": 5
}
