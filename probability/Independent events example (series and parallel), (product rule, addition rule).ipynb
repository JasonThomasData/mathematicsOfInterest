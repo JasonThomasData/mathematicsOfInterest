{
 "cells": [
  {
   "cell_type": "markdown",
   "id": "33aa6d0a",
   "metadata": {},
   "source": [
    "### Example using independence, series and parallel, product rule and addition rule\n",
    "\n",
    "Consider the scenario where a circuit has these resistors:\n",
    "\n",
    "$ R_1, R_2 $ in series and $ R_3, R_4 $ in series, but the groups are in parallel.\n",
    "\n",
    "![pic of circuit](Screenshot_2023-03-09_13-57-54.png)\n",
    "\n",
    "Each resistor $ R_1, R_2 $ has the probability to fail of $ 0.005 $\n",
    "\n",
    "Each resistor $ R_3, R_4 $ has the probability to fail of $ 0.008 $\n",
    "\n",
    "The probability that the signal won't reach the circuit is:\n",
    "\n",
    "$ P(f) = P(R_1 \\cup R_2) \\cap P(R_3 \\cup R_4) $\n",
    "\n",
    "But because the paths are independent, we can apply the product rule for independent events:\n",
    "\n",
    "$ P(f) = P(R_1 \\cup R_2)\\cdot P(R_3 \\cup R_4) $\n",
    "\n",
    "We use the addition rule:\n",
    "\n",
    "$ P(R_1 \\cup R_2) = P(R_1) + P(R_2) - P(R_1 \\cap R_2) $\n",
    "\n",
    "$ P(R_3 \\cup R_4) = P(R_3) + P(R_4) - P(R_3 \\cap R_4) $\n",
    "\n",
    "$ P(f) = ( P(R_1) + P(R_2) - P(R_1 \\cap R_2) )\\cdot ( P(R_3) + P(R_4) - P(R_3 \\cap R_4) ) $\n",
    "\n",
    "But because these resistors are independent then we once again apply the product rule for independent events:\n",
    "\n",
    "$ P(R_1 \\cap R_2) = P(R_1)P(R_2) $\n",
    "\n",
    "$ P(R_3 \\cap R_4) = P(R_3)P(R_4) $\n",
    "\n",
    "$ P(f) = ( P(R_1) + P(R_2) - P(R_1)P(R_2) ) \\cdot ( P(R_3) + P(R_4) - P(R_3)P(R_4) ) $\n",
    "\n",
    "Now we have an expression that we can evaluate:\n",
    "\n",
    "$ P(f) = ( 0.005 + 0.005 - 0.005^2 ) \\cdot ( 0.008 + 0.008 - 0.008^2 ) $"
   ]
  },
  {
   "cell_type": "code",
   "execution_count": 2,
   "id": "674eeb94",
   "metadata": {},
   "outputs": [
    {
     "name": "stdout",
     "output_type": "stream",
     "text": [
      "ans = 1.5896e-04\r\n"
     ]
    }
   ],
   "source": [
    "( 0.005 + 0.005 - 0.005^2 ) * ( 0.008 + 0.008 - 0.008^2 )"
   ]
  },
  {
   "cell_type": "markdown",
   "id": "7907346b",
   "metadata": {},
   "source": [
    "### The reliability of this system\n",
    "\n",
    "There is a notebook that talks about system reliability.\n",
    "\n",
    "Each component can work or not, where $ r_i = 1 $ means it works.\n",
    "\n",
    "Consider that $ R_1, R_2 $ are in series, also for $ R_3, R_4 $\n",
    "\n",
    "Then the reliability for:\n",
    "\n",
    "$ R_{1,2} = r_1 r_2 $\n",
    "\n",
    "$ R_{3,4} = r_3 r_4 $\n",
    "\n",
    "Then since $ R_{1,2} $ and $ R_{3,4} $ are in parallel:\n",
    "\n",
    "$ R_s = 1 - (1 - r_1 r_2) (1 - r_3 r_4) $\n",
    "\n",
    "But we should consider the scenarios where the system works.\n",
    "\n",
    "Let $ (r_1, r_2, r_3, r_4) $ be the components.\n",
    "\n",
    "The system works when:\n",
    "\n",
    "$ (0,0,1,1), (0,1,1,1), (1,0,1,1), (1,1,1,1), (1,1,0,0), (1,1,0,1), (1,1,1,0) $\n",
    "\n",
    "Then the reliability is the summation of $ R_s $ for all combinations where the system works"
   ]
  },
  {
   "cell_type": "code",
   "execution_count": null,
   "id": "bfdd6fdd",
   "metadata": {},
   "outputs": [],
   "source": []
  }
 ],
 "metadata": {
  "kernelspec": {
   "display_name": "Octave",
   "language": "octave",
   "name": "octave"
  },
  "language_info": {
   "file_extension": ".m",
   "help_links": [
    {
     "text": "GNU Octave",
     "url": "https://www.gnu.org/software/octave/support.html"
    },
    {
     "text": "Octave Kernel",
     "url": "https://github.com/Calysto/octave_kernel"
    },
    {
     "text": "MetaKernel Magics",
     "url": "https://metakernel.readthedocs.io/en/latest/source/README.html"
    }
   ],
   "mimetype": "text/x-octave",
   "name": "octave",
   "version": "6.4.0"
  }
 },
 "nbformat": 4,
 "nbformat_minor": 5
}
