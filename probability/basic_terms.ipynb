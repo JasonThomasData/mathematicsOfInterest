{
 "cells": [
  {
   "cell_type": "markdown",
   "id": "99fdca4d",
   "metadata": {},
   "source": [
    "### Basic terms in probability\n",
    "\n",
    "#### Random experiment\n",
    "\n",
    "A single event that does not depend on any other experiments. For example, a coin flip. This experiment can involve a fair or loaded coin.\n",
    "\n",
    "#### Probability of x occuring, single random experiment\n",
    "\n",
    "The probability of something is the chance of that occuring divided by all possible outcomes.\n",
    "\n",
    "Eg.\n",
    "\n",
    "Probability of rolling a 5 with 1d6.\n",
    "\n",
    "$ \\frac{1}{6} $\n",
    "\n",
    "Probability of rolling a 5 or 6 with 1d6.\n",
    "\n",
    "$ \\frac{1}{6} + \\frac{1}{6} = \\frac{2}{6} = \\frac{1}{3} $\n",
    "\n",
    "Probability of drawing a heart from a deck of cards.\n",
    "\n",
    "$ \\frac{13}{52} = \\frac{1}{4} $\n",
    "\n",
    "#### Consecutive random experiments\n",
    "\n",
    "For example, what's the chances of rolling a 1 then a 2?\n",
    "\n",
    "$ \\frac{1}{6} * \\frac{1}{6} = \\frac{1}{36} $\n",
    "\n",
    "But, what's the probability of rolling 2 and 1, in any order\n",
    "\n",
    "The second roll, the probability reduces, because we can't have the same roll again.\n",
    "\n",
    "$ (\\frac{1}{6} + \\frac{1}{6}) * \\frac{1}{6} = \\frac{2}{6} * \\frac{1}{6} = \\frac{2}{36} = \\frac{1}{16} $\n",
    "\n",
    "#### Odds\n",
    "\n",
    "Consider a single random experiment.\n",
    "\n",
    "The odds is the probability of an event occuring divided by the probability of it not occuring.\n",
    "\n",
    "Eg: the odds of rolling a 6 with 1d6.\n",
    "\n",
    "$ \\frac{1}{6} $\n",
    "\n",
    "Or not:\n",
    "\n",
    "$ \\frac{5}{6} $\n",
    " \n",
    "The odds:\n",
    "\n",
    "$ \\frac{1/6}{5/6} = \\frac{1}{6} * \\frac{6}{5} = \\frac{6}{30} = 1:5 $\n",
    "\n",
    "#### Odds ratio\n",
    "\n",
    "Consider two random experiments, with different probabilities and therefore different odds also.\n",
    "\n",
    "Rolling a 1 with a fair 1d6:\n",
    "\n",
    "odds = $ 1/6 : 5/6 = 1:5 = 0.2 $\n",
    "\n",
    "Flipping a head with a loaded coin:\n",
    "\n",
    "odds = $ .7 : .3 = 2.\\dot 3 $\n",
    "\n",
    "odds ratio = $ \\frac{2. \\dot 3}{0.2} = 11.\\dot 6 $\n",
    "\n",
    "This means that flipping a head with the example loaded coin is $ 11. \\dot 6$ times greater than the odds of rolling 1 with a 1d6."
   ]
  },
  {
   "cell_type": "code",
   "execution_count": null,
   "id": "f5618a03",
   "metadata": {},
   "outputs": [],
   "source": []
  }
 ],
 "metadata": {
  "kernelspec": {
   "display_name": "Octave",
   "language": "octave",
   "name": "octave"
  },
  "language_info": {
   "file_extension": ".m",
   "help_links": [
    {
     "text": "GNU Octave",
     "url": "https://www.gnu.org/software/octave/support.html"
    },
    {
     "text": "Octave Kernel",
     "url": "https://github.com/Calysto/octave_kernel"
    },
    {
     "text": "MetaKernel Magics",
     "url": "https://metakernel.readthedocs.io/en/latest/source/README.html"
    }
   ],
   "mimetype": "text/x-octave",
   "name": "octave",
   "version": "5.2.0"
  }
 },
 "nbformat": 4,
 "nbformat_minor": 5
}
