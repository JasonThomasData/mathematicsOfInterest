{
 "cells": [
  {
   "cell_type": "markdown",
   "id": "63e8f2f5",
   "metadata": {},
   "source": [
    "### Probability concerning system reliability\n",
    "\n",
    "If you have some system and it has components that have a chance of failing, then you can describe the system reliability as a whole.\n",
    "\n",
    "Given a component with place $ i $ then you can describe its reliability as the probability of it working:\n",
    "\n",
    "$ r_i = \\left\\{ \\begin{matrix} 1: & \\text{Component works} \\\\ 0 & \\text{Not working} \\end{matrix} \\right\\}$\n",
    "\n",
    "If you have components in series, then the system reliability for that is:\n",
    "\n",
    "$ R_s = \\prod_\\limits{i=1}^n r_i = r_1 * r_2 * r_3 * ... * r_n $\n",
    "\n",
    "And intuitively, this means that if any component fails then the series system fails.\n",
    "\n",
    "If you have components in parallel then the system reliability is:\n",
    "\n",
    "$ R_s = 1 - \\prod_\\limits{i=1}^n (1 - r_i) = 1 - (1 - r_1) * (1 - r_2) * ... * (1 - r_n) $\n",
    "\n",
    "The system works if at least one parralel component works. \n",
    "\n",
    "#### Calculating the probability\n",
    "\n",
    "Check which conditions lead to the system working.\n",
    "\n",
    "Eg: if a system is like has two components in series and then another in parallel:\n",
    "\n",
    "![pic of circuit](Screenshot_2023-03-09_15-14-20.png) \n",
    "\n",
    "Then consider all circuits: $ (c_1, c_2, c_3) $\n",
    "\n",
    "And then count the combinations that lead to the circuit being on.\n",
    "\n",
    "$ (0,0,1), (0,1,1), (1,0,1), (1,1,1), (1,1,0) $\n",
    "\n",
    "Then the total number of combinations is: $ 2^3 = 8 $\n",
    "\n",
    "The you make an expression of the probabilities of these combinations:\n",
    "\n",
    "- Using the $ R_s $ equation from above for each combination\n",
    "- Adding all of those $ R_s $ expressions together.\n"
   ]
  },
  {
   "cell_type": "code",
   "execution_count": null,
   "id": "28c4ff6e",
   "metadata": {},
   "outputs": [],
   "source": []
  }
 ],
 "metadata": {
  "kernelspec": {
   "display_name": "Octave",
   "language": "octave",
   "name": "octave"
  },
  "language_info": {
   "file_extension": ".m",
   "help_links": [
    {
     "text": "GNU Octave",
     "url": "https://www.gnu.org/software/octave/support.html"
    },
    {
     "text": "Octave Kernel",
     "url": "https://github.com/Calysto/octave_kernel"
    },
    {
     "text": "MetaKernel Magics",
     "url": "https://metakernel.readthedocs.io/en/latest/source/README.html"
    }
   ],
   "mimetype": "text/x-octave",
   "name": "octave",
   "version": "6.4.0"
  }
 },
 "nbformat": 4,
 "nbformat_minor": 5
}
