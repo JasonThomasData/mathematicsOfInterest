{
 "cells": [
  {
   "cell_type": "markdown",
   "id": "85596943",
   "metadata": {},
   "source": [
    "### Conditional probability (definition)\n",
    "\n",
    "This is defined as:\n",
    "\n",
    "$ P(A|B) = \\frac{P(A \\cap B)}{P(B)} $\n",
    "\n",
    "Let's consider what that means using a diagram, where the numbers are exclusive to shapes.\n",
    "\n",
    "![venn diagram](Screenshot_2022-07-21_16-22-31.png)\n",
    "\n",
    "Let:\n",
    "\n",
    "$ 20+100+150 = 270 $ be the total.\n",
    "\n",
    "$ P(A \\cap B) = 20/270 $\n",
    "\n",
    "$ P(B) = 150/270 $\n",
    "\n",
    "Then:\n",
    "\n",
    "$ P(A|B) = \\frac{\\frac{20}{270}}{\\frac{150}{270}} $\n",
    "\n",
    "$ P(A|B) = \\frac{20}{270}\\frac{270}{150} $\n",
    "\n",
    "$ P(A|B) = \\frac{20}{150} $\n",
    "\n",
    "That is computed the same as $ \\frac{A \\cap B}{B} $\n"
   ]
  },
  {
   "cell_type": "code",
   "execution_count": null,
   "id": "cd56fb15",
   "metadata": {},
   "outputs": [],
   "source": []
  }
 ],
 "metadata": {
  "kernelspec": {
   "display_name": "Octave",
   "language": "octave",
   "name": "octave"
  },
  "language_info": {
   "file_extension": ".m",
   "help_links": [
    {
     "text": "GNU Octave",
     "url": "https://www.gnu.org/software/octave/support.html"
    },
    {
     "text": "Octave Kernel",
     "url": "https://github.com/Calysto/octave_kernel"
    },
    {
     "text": "MetaKernel Magics",
     "url": "https://metakernel.readthedocs.io/en/latest/source/README.html"
    }
   ],
   "mimetype": "text/x-octave",
   "name": "octave",
   "version": "5.2.0"
  }
 },
 "nbformat": 4,
 "nbformat_minor": 5
}
