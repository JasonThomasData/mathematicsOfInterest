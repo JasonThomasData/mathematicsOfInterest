{
 "cells": [
  {
   "cell_type": "markdown",
   "id": "316b10d0",
   "metadata": {},
   "source": [
    "### Principle of inclusion/exclusion\n",
    "\n",
    "This is a way to count elements, or events in probability.\n",
    "\n",
    "For two events it is:\n",
    "\n",
    "$ P(|A_1 \\cup A_2|) = P(|A_1|) + P(|A_2|) - P(|A_1 \\cap A_2|) $\n",
    "\n",
    "And then for 3:\n",
    "\n",
    "$ P(|A_1 \\cup A_2 \\cup A_3|) = P(|A_1|) + P(|A_2|) + P(|A_3|) - P(|A_1 \\cap A_2|) - P(|A_2 \\cap A_3|) - P(A_1 \\cap A_3|) + P(|A_1 \\cap A_2 \\cap A_3|) $\n",
    "\n",
    "And generally, the cardinality of the union of all events:\n",
    "\n",
    "![pic from wiki](https://wikimedia.org/api/rest_v1/media/math/render/svg/f933fbaa2a215037fcb255cf1892c2fa20809752)\n",
    "\n",
    "Notice at the end it has (-1)^{n-1}, this is so that the signs inclusion/exclusion continue until the end.\n",
    "\n",
    "Also note that the addition of probabilities of single events will be the addition of $ n $ terms, where $ n $ is the number of events.\n"
   ]
  },
  {
   "cell_type": "code",
   "execution_count": null,
   "id": "6cd72b13",
   "metadata": {},
   "outputs": [],
   "source": []
  }
 ],
 "metadata": {
  "kernelspec": {
   "display_name": "Octave",
   "language": "octave",
   "name": "octave"
  },
  "language_info": {
   "file_extension": ".m",
   "help_links": [
    {
     "text": "GNU Octave",
     "url": "https://www.gnu.org/software/octave/support.html"
    },
    {
     "text": "Octave Kernel",
     "url": "https://github.com/Calysto/octave_kernel"
    },
    {
     "text": "MetaKernel Magics",
     "url": "https://metakernel.readthedocs.io/en/latest/source/README.html"
    }
   ],
   "mimetype": "text/x-octave",
   "name": "octave",
   "version": "6.4.0"
  }
 },
 "nbformat": 4,
 "nbformat_minor": 5
}
