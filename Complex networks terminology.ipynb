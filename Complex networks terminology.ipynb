{
 "cells": [
  {
   "cell_type": "markdown",
   "id": "7a5f9873",
   "metadata": {},
   "source": [
    "### Complex Networks - terminology\n",
    "\n",
    "- Network - often this is a real world example of a graph. Eg. social networ.\n",
    "- Graph - this is more of an abstract notion\n",
    "- Links - what is known as an edge in Graph Theory. I prefer the term edge.\n",
    "- Nodes - what is known as a vertex in Graph Theory. Called \"nodes\" for future reference.\n",
    "\n",
    "Types of graphs, or networks\n",
    "- Directed - each edge has a direction. Eg links on the internet, citation networks\n",
    "- Undirected - each edge is directed both ways. Eg a sexual contact newtork, gene coexpression network\n",
    "- Weighted - useful for replacing several edges with a single edge that has a numerical measure\n",
    "- Simple - \n",
    "- Bipartite - the nodes are in two exclusive sets, but the graph only includes edges between the different types. There are no edges between the same type. Eg: a graph of directors who are linked to the actors in their movies.\n",
    "\n",
    "Other terms\n",
    "- Self loop - an edge that has the same tail and head\n",
    "- Multiple edges - where two nodes or vertices share more than one edge\n",
    "\n",
    "#### Weighted networks\n",
    "\n",
    "- Thresholding - a process by which we exclude some edges, based on their weight being sufficient or not.\n",
    "\n",
    "\n",
    "#### Bipartite Networks\n",
    "\n",
    "- One mode projection - where we get rid of one kind of node, but maintain the information about the links."
   ]
  }
 ],
 "metadata": {
  "kernelspec": {
   "display_name": "Octave",
   "language": "octave",
   "name": "octave"
  },
  "language_info": {
   "file_extension": ".m",
   "help_links": [
    {
     "text": "GNU Octave",
     "url": "https://www.gnu.org/software/octave/support.html"
    },
    {
     "text": "Octave Kernel",
     "url": "https://github.com/Calysto/octave_kernel"
    },
    {
     "text": "MetaKernel Magics",
     "url": "https://metakernel.readthedocs.io/en/latest/source/README.html"
    }
   ],
   "mimetype": "text/x-octave",
   "name": "octave",
   "version": "6.4.0"
  }
 },
 "nbformat": 4,
 "nbformat_minor": 5
}
