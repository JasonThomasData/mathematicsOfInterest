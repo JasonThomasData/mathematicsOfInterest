{
 "cells": [
  {
   "cell_type": "markdown",
   "id": "4c4b1768",
   "metadata": {},
   "source": [
    "### Implicit differentiation\n",
    "\n",
    "We can use this technique to solve find derivatives for relations. Relations are not functions.\n",
    "\n",
    "It's possible to find a derivative for a relation where $ x, y $ are on the same side of an equation. First observe that:\n",
    "\n",
    "$ y = f(x) $\n",
    "\n",
    "Then, when differentiating treat $ y $ as an unknown function $ f(x) $\n",
    "\n",
    "Because $ y $ is now a function of x, we can use the chain rule.\n",
    "\n",
    "Eg: $ y^2 $ is a function $ y(x)^2 $, which is a composition of functions.\n",
    "\n",
    "$ \\therefore \\frac{d}{dx} [y^2] = 2y \\cdot \\frac{dy}{dx} $\n",
    "\n",
    "In other words, the derivative of the $ exp$ is known by the derivative of $ y $, or $ y(x) $ is simply the derivative of $ y $ with respect to $ x $.\n",
    "\n",
    "### The unit circle example\n",
    "\n",
    "The relation that defines the Unit Circle is:\n",
    "\n",
    "$ x^2 + y^2 = 1 $\n",
    "\n",
    "To turn this into a function:\n",
    "\n",
    "$ x^2 + y^2 - 1 = 0 $\n",
    "\n",
    "$ f(x,y) = x^2 + y^2 - 1$\n",
    "\n",
    "Now we can differentiate:\n",
    "\n",
    "$ \\frac{d}{dx} \\left[f(x,y) \\right] = \\frac{d}{dx} \\left[x^2 + y^2 - 1\\right] = \\frac{d}{dx} \\left[0\\right] $\n",
    "\n",
    "Recall that $ y(x) $ is a function\n",
    "\n",
    "Differentiate by terms:\n",
    "\n",
    "$ \\frac{d}{dx} \\left[x^2\\right] + \\frac{d}{dx} \\left[y^2\\right] - \\frac{d}{dx} \\left[1\\right] = \\frac{d}{dx} \\left[0\\right]$\n",
    "\n",
    "$ 2x + 2y \\cdot \\frac{dy}{dx} - 0 = 0 $\n",
    "\n",
    "$ 2y \\cdot \\frac{dy}{dx} = -2x $\n",
    "\n",
    "$ \\frac{dy}{dx} = \\frac{-2x}{2y} $\n",
    "\n",
    "$ \\frac{dy}{dx} = -\\frac{x}{y} $\n",
    "\n",
    "\n"
   ]
  },
  {
   "cell_type": "code",
   "execution_count": null,
   "id": "99cae1ea",
   "metadata": {},
   "outputs": [],
   "source": []
  }
 ],
 "metadata": {
  "kernelspec": {
   "display_name": "Octave",
   "language": "octave",
   "name": "octave"
  },
  "language_info": {
   "file_extension": ".m",
   "help_links": [
    {
     "text": "GNU Octave",
     "url": "https://www.gnu.org/software/octave/support.html"
    },
    {
     "text": "Octave Kernel",
     "url": "https://github.com/Calysto/octave_kernel"
    },
    {
     "text": "MetaKernel Magics",
     "url": "https://metakernel.readthedocs.io/en/latest/source/README.html"
    }
   ],
   "mimetype": "text/x-octave",
   "name": "octave",
   "version": "6.4.0"
  }
 },
 "nbformat": 4,
 "nbformat_minor": 5
}
