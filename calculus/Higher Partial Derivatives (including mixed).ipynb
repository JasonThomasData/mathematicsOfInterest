{
 "cells": [
  {
   "cell_type": "markdown",
   "id": "797135c2",
   "metadata": {},
   "source": [
    "### Higher Order Partial Derivatives\n",
    "\n",
    "We can find the second, third etc derivatives of any function that has more than one variable.\n",
    "\n",
    "#### Example\n",
    "\n",
    "$ f(x,y) = x^2\\cos(y) $\n",
    "\n",
    "$ \\frac{\\partial f}{\\partial x} = 2x\\cos(y) $\n",
    "\n",
    "$ \\frac{\\partial^2 f}{\\partial x^2} = 2\\cos(y) $\n",
    "\n",
    "$ \\frac{\\partial f}{\\partial y} = -x^2\\sin(y) $\n",
    "\n",
    "$ \\frac{\\partial^2 f}{\\partial y^2} = -x^2\\cos(y) $\n",
    "\n",
    "### Mixed Higher Partial Derivatives\n",
    "\n",
    "This is where we differentiate a multi-variable function with respect to one variable, and then differentiate the first derivative with respect to another variable.\n",
    "\n",
    "The notation below expresses this:\n",
    "\n",
    "$ \\frac{\\partial^2 f}{\\partial x \\partial y} = \\frac{\\partial}{\\partial x}\\left( \\frac{\\partial f}{\\partial y} \\right) $\n",
    "\n",
    "If you read the LHS, the denominators are in order of right to left.\n",
    "\n",
    "#### Example\n",
    "\n",
    "$ f(x, y) = \\sin(x^2 y) $\n",
    "\n",
    "$ \\frac{\\partial f}{\\partial x} = 2xy \\cos(x^2 y) $\n",
    "\n",
    "$ \\frac{\\partial f}{\\partial y \\partial x} = \\frac{\\partial}{\\partial y}\\left( \\frac{\\partial f}{\\partial x} \\right) = u v' + u'v $\n",
    "\n",
    "$ u = 2xy $\n",
    "\n",
    "$ u' = 2x $\n",
    "\n",
    "$ v = \\cos(x^2 y) $\n",
    "\n",
    "$ v' = -x^2 \\sin(x^2 y) $\n",
    "\n",
    "$ \\frac{\\partial^2 f}{\\partial y \\partial x} = 2xy \\cdot -x^2 \\sin(x^2 y) + 2x \\cdot \\cos(x^2 y) $\n",
    "\n",
    "$ \\frac{\\partial^2 f}{\\partial y \\partial x} = 2x \\cos(x^2 y) - 2x^3y \\sin(x^2 y) $\n",
    "\n",
    "__An amazing result is that $ \\frac{\\partial^2 f}{\\partial x \\partial y} $ will be the same result.__"
   ]
  },
  {
   "cell_type": "markdown",
   "id": "6044632f",
   "metadata": {},
   "source": [
    "### $ \\large \\frac{\\partial^2 f}{\\partial x \\partial y} = \\frac{\\partial^2 f}{\\partial y \\partial x} $\n",
    "\n",
    "Where all second order partial derivatives are continuous functions.\n",
    "\n",
    "TODO: find a proof for this, this is super interesting."
   ]
  },
  {
   "cell_type": "code",
   "execution_count": null,
   "id": "2f003386",
   "metadata": {},
   "outputs": [],
   "source": []
  }
 ],
 "metadata": {
  "kernelspec": {
   "display_name": "Octave",
   "language": "octave",
   "name": "octave"
  },
  "language_info": {
   "file_extension": ".m",
   "help_links": [
    {
     "text": "GNU Octave",
     "url": "https://www.gnu.org/software/octave/support.html"
    },
    {
     "text": "Octave Kernel",
     "url": "https://github.com/Calysto/octave_kernel"
    },
    {
     "text": "MetaKernel Magics",
     "url": "https://metakernel.readthedocs.io/en/latest/source/README.html"
    }
   ],
   "mimetype": "text/x-octave",
   "name": "octave",
   "version": "6.4.0"
  }
 },
 "nbformat": 4,
 "nbformat_minor": 5
}
