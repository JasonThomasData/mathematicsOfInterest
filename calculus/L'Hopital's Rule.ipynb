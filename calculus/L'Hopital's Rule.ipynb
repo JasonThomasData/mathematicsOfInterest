{
 "cells": [
  {
   "cell_type": "markdown",
   "id": "515f4314",
   "metadata": {},
   "source": [
    "### L'Hopital's Rule\n",
    "\n",
    "This rule is useful for dealing with indeterminate forms\n",
    "\n",
    "Eg:\n",
    "\n",
    "$ \\lim_\\limits{x \\to \\inf} \\frac{x^2}{e^x} $\n",
    "\n",
    "This yields an indeterminate form. If you substitute $ x = \\inf $ then \n",
    "\n",
    "$ \\frac{\\inf^2}{e^\\inf} = \\frac{\\inf}{\\inf} $\n",
    "\n",
    "Indeterminite forms are like $ \\frac{0}{0} $, $ \\frac{0}{1} $, etc\n",
    "\n",
    "But this useful rule states:\n",
    "\n",
    "$ f(x), g(x) $ are functions\n",
    "\n",
    "$ \\frac{f(x)}{g(x)} = \\frac{f'(x)}{g'(x)} $\n",
    "\n",
    "Therefore, finding the nth derivative of a quotient is equivalent to evaluating the quotient itself.\n",
    "\n",
    "Eg:\n",
    "\n",
    "$ \\lim_\\limits{x \\to \\inf} \\frac{x^2}{e^x} $\n",
    "\n",
    "$ \\frac{f'(x)}{g'(x)} = \\frac{2x}{e^x} $\n",
    "\n",
    "$ \\frac{f''(x)}{g''(x)} = \\frac{2}{e^x} $\n",
    "\n",
    "Finally, we have something we can evaluate. Any finite number divided by infinity is infinite.\n",
    "\n",
    "In future I would like to attempt a proof, or I think I should read one at the least.\n",
    "\n",
    "#### Example where several iterations are required\n",
    "\n",
    "Much the same as the document in /Calculus, but we first show this is an indeterminant form with an analysis argument.\n",
    "\n",
    "$ \\lim_\\limits{x \\to 0} \\frac{1 - \\cos x^2}{x^2 \\sin x^2} $\n",
    "\n",
    "The numerator approaches $ 1 - 1 $ as $ x \\to 0 $\n",
    "\n",
    "The denominator approaches $ 0 \\cdot 0 $ as $ x \\to 0 $\n",
    "\n",
    "Then the form is $ \\frac{0}{0} $, and we use L'Hospital's Rule:\n",
    "\n",
    "$ \\lim_\\limits{x \\to 0} \\frac{f(x)}{g(x)} = \\lim_\\limits{x \\to 0} \\frac{f'(x)}{g'(x)} $\n",
    "\n",
    "$ \\frac{d}{dx} 1 - \\cos x^2 = 2x \\sin x^2 $\n",
    "\n",
    "$ \\frac{d}{dx} x^2 \\sin x^2 = 2x \\sin x^2 + x^2 2x \\cos x^2 $\n",
    "\n",
    "Check to see if it's indeterminant:\n",
    "\n",
    "$ \\lim_\\limits{x \\to 0} \\frac{f(x)}{g(x)} = \\frac{2x \\sin x^2}{2x \\sin x^2 + x^2 2x \\cos x^2 } $\n",
    "\n",
    "$ \\lim_\\limits{x \\to 0} \\frac{f(x)}{g(x)} = \\frac{\\sin x^2}{\\sin x^2 + x^2 \\cos x^2 } $\n",
    "\n",
    "But with $ \\sin x^2 $ and $ x^2 $, then these functions still go to an indeterminant form.\n",
    "\n",
    "$ \\frac{d}{dx} (\\sin x^2) = 2x \\cos x^2 $\n",
    "\n",
    "$ \\frac{d}{dx} (\\sin x^2 + x^2 \\cos x^2) = 2x \\cos x^2 + 2x \\cos x^2 + x^2 2x \\sin x^2 $\n",
    "\n",
    "Check again\n",
    "\n",
    "$ \\lim_\\limits{x \\to 0} \\frac{f(x)}{g(x)} = \\frac{2x \\cos x^2}{2x \\cos x^2 + 2x \\cos x^2 + x^2 2x \\sin x^2} $\n",
    "\n",
    "$ \\lim_\\limits{x \\to 0} \\frac{f(x)}{g(x)} = \\frac{\\cos x^2}{\\cos x^2 + \\cos x^2 + x^2 \\sin x^2} $\n",
    "\n",
    "Then as $ x \\to 0 $, the $x^2 $ and $ \\sin x^2 $ terms in the denominator go to 0, and the $ \\cos x^2 $ terms go to 1.\n",
    "\n",
    "$ \\lim_\\limits{x \\to 0} \\frac{f(x)}{g(x)} = \\frac{1}{1 + 1 + 0 } = \\frac{1}{2} $"
   ]
  },
  {
   "cell_type": "code",
   "execution_count": null,
   "id": "a664ddfa",
   "metadata": {},
   "outputs": [],
   "source": []
  }
 ],
 "metadata": {
  "kernelspec": {
   "display_name": "Octave",
   "language": "octave",
   "name": "octave"
  },
  "language_info": {
   "file_extension": ".m",
   "help_links": [
    {
     "text": "GNU Octave",
     "url": "https://www.gnu.org/software/octave/support.html"
    },
    {
     "text": "Octave Kernel",
     "url": "https://github.com/Calysto/octave_kernel"
    },
    {
     "text": "MetaKernel Magics",
     "url": "https://metakernel.readthedocs.io/en/latest/source/README.html"
    }
   ],
   "mimetype": "text/x-octave",
   "name": "octave",
   "version": "6.4.0"
  }
 },
 "nbformat": 4,
 "nbformat_minor": 5
}
