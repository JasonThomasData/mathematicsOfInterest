{
 "cells": [
  {
   "cell_type": "markdown",
   "id": "9627380e",
   "metadata": {},
   "source": [
    "### Basic rules for Differential Calculus\n"
   ]
  },
  {
   "cell_type": "markdown",
   "id": "ff78df9a",
   "metadata": {},
   "source": [
    "First learn Calculus from first principles\n",
    "\n",
    "Note, these notations are the same and all mean derivative:\n",
    "\n",
    "$ y' \\\\ \\frac{dy}{dx} \\\\ \\frac{d}{dx} \\\\ \\frac{df}{dx} $"
   ]
  },
  {
   "cell_type": "markdown",
   "id": "a357afe6",
   "metadata": {},
   "source": [
    "### Power rule\n",
    "\n",
    "To find the derivative of any function, you can copy down the powers of the polynomial to the coefficient and subtract the power by -1.\n",
    "\n",
    "eg:\n",
    "\n",
    "$ y = x^2 + 4x + 3, \\frac{dy}{dx} = 2x + 4 $, note 3 is a constant so it has no \"rate of change\"\n",
    "\n",
    "$ f(x) = \\frac{1}{x} = x^{-1}, \\frac{d}{dx} = -1x^{-2} = \\frac{-1}{x^2} $\n",
    "\n",
    "$ y = \\sqrt x = x^{1/2}, y' = \\frac{1}{2}x^{-1/2} = \\frac{1}{2 \\sqrt x} $"
   ]
  },
  {
   "cell_type": "code",
   "execution_count": 10,
   "id": "6ba5ffa9",
   "metadata": {},
   "outputs": [
    {
     "name": "stdout",
     "output_type": "stream",
     "text": [
      "ans = (sym)\r\n",
      "\r\n",
      "     cos(x)   \r\n",
      "  ────────────\r\n",
      "      ________\r\n",
      "  2⋅╲╱ sin(x) \r\n",
      "\r\n"
     ]
    }
   ],
   "source": [
    "# Using octave, it's possible to check calculus statements with the symbolic package\n",
    "\n",
    "pkg load symbolic\n",
    "syms x\n",
    "diff(sqrt(sin(x)))"
   ]
  },
  {
   "cell_type": "markdown",
   "id": "266bc19f",
   "metadata": {},
   "source": [
    "### Special derivatives\n",
    "\n",
    "This cycle describes derivatives $ f \\to f' $\n",
    "\n",
    "$ (\\sin) \\to (\\cos) \\to (-\\sin) \\to (-\\cos) $\n",
    "\n",
    "This is special:\n",
    "\n",
    "$ y = e^x, \\\\ y' = e^x $ and it's the only known example.\n",
    "\n",
    "Logarithms:\n",
    "\n",
    "$ f(x) = \\ln x \\\\ \\frac{dy}{dx} = \\frac{1}{x} $"
   ]
  },
  {
   "cell_type": "markdown",
   "id": "6242a745",
   "metadata": {},
   "source": [
    "### Product rule\n",
    "\n",
    "This is when a statement contains two terms that are multiplied together\n",
    "\n",
    "$ y = uv \\\\ \\frac{dy}{dx} = \\frac{du}{dx}v + u\\frac{dv}{dx} $\n",
    "\n",
    "eg:\n",
    "\n",
    "$ y = (2x^2)(3x) \\\\ \\frac{dy}{dx} = 4x 3x + 2x^2 3 = 12x^2 + 6x^2 = 18x^2 $\n"
   ]
  },
  {
   "cell_type": "markdown",
   "id": "d572d8d9",
   "metadata": {},
   "source": [
    "### Quotient rule\n",
    "\n",
    "This is when a statement contains two terms that are expressed as a ratio\n",
    "\n",
    "$ y = \\frac{u}{v} \\\\ y' = \\frac{u' \\cdot v - u \\cdot v'}{v^2} $\n",
    "\n",
    "eg:\n",
    "\n",
    "$ f(x) = \\frac{2x^2}{x^3} \\\\ \\frac{d}{dx} = \\frac{4x \\cdot x^3 - 2x^2 \\cdot 3x^2}{x^6} = \\frac{4x^4 - 6x^4}{x^6} = \\frac{-2x^4}{x^6} = \\frac{-2}{x^2} $ "
   ]
  },
  {
   "cell_type": "markdown",
   "id": "470a91ba",
   "metadata": {},
   "source": [
    "### Chain rule\n",
    "\n",
    "This is used when one function is passed with its paramater as the parameter of another function.\n",
    "\n",
    "$ y = f(g(x)) \\\\ \\frac{dy}{dx} = \\frac{dy}{df} \\cdot \\frac{dy}{dg} $\n",
    "\n",
    "Below, note, that $\\sqrt x, \\sin(x) $ are functions that take x as a parameter.\n",
    "\n",
    "eg:\n",
    "\n",
    "$ y = \\sqrt{\\sin x} \\\\ \\frac{dy}{dx} = (\\sin x)^{1/2} = \\frac{1}{2}(\\sin x)^{-1/2}(\\cos x) = \\frac{\\cos x}{2 \\sqrt{\\sin x}} $"
   ]
  },
  {
   "cell_type": "code",
   "execution_count": null,
   "id": "752aca9a",
   "metadata": {},
   "outputs": [],
   "source": []
  }
 ],
 "metadata": {
  "kernelspec": {
   "display_name": "Octave",
   "language": "octave",
   "name": "octave"
  },
  "language_info": {
   "file_extension": ".m",
   "help_links": [
    {
     "text": "GNU Octave",
     "url": "https://www.gnu.org/software/octave/support.html"
    },
    {
     "text": "Octave Kernel",
     "url": "https://github.com/Calysto/octave_kernel"
    },
    {
     "text": "MetaKernel Magics",
     "url": "https://metakernel.readthedocs.io/en/latest/source/README.html"
    }
   ],
   "mimetype": "text/x-octave",
   "name": "octave",
   "version": "5.2.0"
  }
 },
 "nbformat": 4,
 "nbformat_minor": 5
}
