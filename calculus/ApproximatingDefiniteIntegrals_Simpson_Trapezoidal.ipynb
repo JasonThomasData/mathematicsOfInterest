{
 "cells": [
  {
   "cell_type": "markdown",
   "id": "f3df2212",
   "metadata": {},
   "source": [
    "### Approximating definite integrals with Trapezoidal and Simpson Composite\n"
   ]
  },
  {
   "cell_type": "code",
   "execution_count": 1,
   "id": "2b2acb53",
   "metadata": {},
   "outputs": [
    {
     "data": {
      "image/png": "[encoded data removed]",
      "text/plain": [
       "<IPython.core.display.Image object>"
      ]
     },
     "metadata": {},
     "output_type": "display_data"
    }
   ],
   "source": [
    "# The function to approximate:\n",
    "\n",
    "function y = f(x)\n",
    "    y = x.^2 .* e.^(-3.*x.^3);\n",
    "end\n",
    "\n",
    "definiteIntegralBounds = [0, 1];\n",
    "X = linspace(definiteIntegralBounds(1),definiteIntegralBounds(2));\n",
    "plot(X, f(X));"
   ]
  },
  {
   "cell_type": "markdown",
   "id": "c7b79547",
   "metadata": {},
   "source": [
    "#### Simpson Composite\n",
    "\n",
    "Let:\n",
    "\n",
    "$ h $ be the width of some interval, familiar from the fundamental theorem of Calculus\n",
    "\n",
    "$ n $ be the number of intervals to use in the approximation\n",
    "\n",
    "$ i $ be an ordered sequence of odd numbers, starting at $ 1 $ and ending with $ n-1 $, eg $ 1,3,5... $\n",
    "\n",
    "Let there be two intervals, each $ I $\n",
    "\n",
    "$ f $ be some function to approximate the area of, within a chosen interval (the composition of all $ I $)\n",
    "\n",
    "$ I_{i-1} $ be the lower end of the first interval\n",
    "\n",
    "$ I_{i} $ be the middle between the two intervals\n",
    "\n",
    "$ I_{i+1} $ be the upper end of the second interval\n",
    "\n",
    "$ A = \\sum{\\frac{h}{3}(f(I_{i-1}) + 4f(I_i) + f(I_{i+1}))} $, be the approximate area"
   ]
  },
  {
   "cell_type": "code",
   "execution_count": 2,
   "id": "84087eeb",
   "metadata": {},
   "outputs": [],
   "source": [
    "function A = simpsonCompositeApproximation(f, n, definiteIntegralBounds)\n",
    "    h = abs(definiteIntegralBounds(2) - definiteIntegralBounds(1))/n;\n",
    "    A = 0;\n",
    "\n",
    "    for i =1:2:n-1\n",
    "        I_lower = (i-1)*h;\n",
    "        I = (i)*h;\n",
    "        I_upper = (i+1)*h;\n",
    "        A = A + (h/3)*(f(I_lower)+(4*f(I))+f(I_upper));\n",
    "    end\n",
    "end"
   ]
  },
  {
   "cell_type": "markdown",
   "id": "b1ea2d16",
   "metadata": {},
   "source": [
    "### Trapezoidal rule\n",
    "\n",
    "This is more intuitive. Given some interval, its two sides are the sides of a trapezoid.\n",
    "\n",
    "Let:\n",
    "\n",
    "$ h $ be the width of some interval, familiar from the fundamental theorem of Calculus\n",
    "\n",
    "$ n $ be the number of intervals to use in the approximation\n",
    "\n",
    "$ i $ be an ordered sequence of numbers, 1:n\n",
    "\n",
    "$ f $ be some function to approximate the area of, within a chosen interval (the composition of all $ I $)\n",
    "\n",
    "$ I_{i-1} $ be the lower end of the interval\n",
    "\n",
    "$ I_{i+1} $ be the upper end of the interval\n",
    "\n",
    "$ A = \\sum{h\\frac{f(I_{i-1}) + f(I_i)}{2}} $, be the approximate area"
   ]
  },
  {
   "cell_type": "code",
   "execution_count": 3,
   "id": "8b7a997c",
   "metadata": {},
   "outputs": [],
   "source": [
    "function A = trapezoidalApproximation(f, n, definiteIntegralBounds)\n",
    "    h = abs(definiteIntegralBounds(2) - definiteIntegralBounds(1))/n;\n",
    "    A = 0;\n",
    "\n",
    "    for i =1:n\n",
    "        I_lower = (i-1)*h;\n",
    "        I_upper = i*h;\n",
    "        A = A + h *(f(I_lower)+f(I_upper))/2;\n",
    "    end\n",
    "end"
   ]
  },
  {
   "cell_type": "code",
   "execution_count": 4,
   "id": "5f548d87",
   "metadata": {},
   "outputs": [
    {
     "name": "stdout",
     "output_type": "stream",
     "text": [
      "Simpson Composite\n",
      "ans = Area is approx 0.105480 after computing with 503 intervals\n",
      "Trapezoidal\n",
      "ans = Area is approx 0.105220 after computing with 9 intervals\n"
     ]
    }
   ],
   "source": [
    "### we can get a reasonably good approximation by definint accuracy against the \n",
    "### diminishing difference between consecutive estimates\n",
    "\n",
    "accuracy = 4;\n",
    "\n",
    "i = 2;\n",
    "approxArea_i =  simpsonCompositeApproximation(@f, i, definiteIntegralBounds);\n",
    "i = i + 1;\n",
    "approxArea_ip1 =  simpsonCompositeApproximation(@f, i, definiteIntegralBounds);\n",
    "\n",
    "while abs(approxArea_ip1 - approxArea_i) > 10^(-accuracy)\n",
    "    approxArea_i =  approxArea_ip1;\n",
    "    i = i + 1;\n",
    "    approxArea_ip1 = simpsonCompositeApproximation(@f, i, definiteIntegralBounds);\n",
    "end\n",
    "\n",
    "disp(\"Simpson Composite\")\n",
    "sprintf(\"Area is approx %f after computing with %d intervals\", approxArea_ip1, i)\n",
    "\n",
    "i = 2;\n",
    "approxArea_i =  trapezoidalApproximation(@f, i, definiteIntegralBounds);\n",
    "i = i + 1;\n",
    "approxArea_ip1 =  trapezoidalApproximation(@f, i, definiteIntegralBounds);\n",
    "\n",
    "while abs(approxArea_ip1 - approxArea_i) > 10^(-accuracy)\n",
    "    approxArea_i =  approxArea_ip1;\n",
    "    i = i + 1;\n",
    "    approxArea_ip1 = trapezoidalApproximation(@f, i, definiteIntegralBounds);\n",
    "end\n",
    "\n",
    "disp(\"Trapezoidal\")\n",
    "sprintf(\"Area is approx %f after computing with %d intervals\", approxArea_ip1, i)"
   ]
  },
  {
   "cell_type": "code",
   "execution_count": 5,
   "id": "bb3b5ace",
   "metadata": {},
   "outputs": [
    {
     "name": "stdout",
     "output_type": "stream",
     "text": [
      "ans =  0.10558\r\n"
     ]
    }
   ],
   "source": [
    "trapezoidalApproximation(@f, 100, definiteIntegralBounds)"
   ]
  },
  {
   "cell_type": "code",
   "execution_count": null,
   "id": "ec5d02c2",
   "metadata": {},
   "outputs": [],
   "source": []
  }
 ],
 "metadata": {
  "kernelspec": {
   "display_name": "Octave",
   "language": "octave",
   "name": "octave"
  },
  "language_info": {
   "file_extension": ".m",
   "help_links": [
    {
     "text": "GNU Octave",
     "url": "https://www.gnu.org/software/octave/support.html"
    },
    {
     "text": "Octave Kernel",
     "url": "https://github.com/Calysto/octave_kernel"
    },
    {
     "text": "MetaKernel Magics",
     "url": "https://metakernel.readthedocs.io/en/latest/source/README.html"
    }
   ],
   "mimetype": "text/x-octave",
   "name": "octave",
   "version": "5.2.0"
  }
 },
 "nbformat": 4,
 "nbformat_minor": 5
}
