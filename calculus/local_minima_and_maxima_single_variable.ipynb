{
 "cells": [
  {
   "cell_type": "markdown",
   "id": "7d557054",
   "metadata": {},
   "source": [
    "### Local minima and maxima, functions of 1 variable\n",
    "\n",
    "#### Second derivative test\n",
    "\n",
    "Let:\n",
    "\n",
    "$ f(x) $ be some function\n",
    "\n",
    "$ c = \\{f'(x) = 0\\} $ be a point of inflection\n",
    "\n",
    "Then:\n",
    "\n",
    "$ f''(c) > 0 $ then this point is a local minima\n",
    "\n",
    "$ f''(c) < 0 $ then this point is a local maxima\n",
    "\n",
    "#### Quadratic function of 1 variable\n",
    "\n",
    "$ f(x) = 2x^2 - 20x + 10 $\n",
    "\n",
    "$ f'(x) = 4x - 20 $\n",
    "\n",
    "Where is its minima and maxima?\n",
    "\n",
    "The point of inflection $ c $ is:\n",
    "\n",
    "$ 4x - 20 = 0 $\n",
    "\n",
    "$ 4x = 20 $\n",
    "\n",
    "$ x = 5 $\n",
    "\n",
    "$ f''(5) = 4 $, which is larger than 0, so this is a local minimum "
   ]
  },
  {
   "cell_type": "markdown",
   "id": "158069d3",
   "metadata": {},
   "source": [
    "#### Cubic function of 1 variable\n",
    "\n",
    "$ f(x) = 2x^3 -7x^2 -5x +4 $\n",
    "\n",
    "$ f'(x) = 6x^2 - 14x - 5 $\n",
    "\n",
    "You could use the quadratic formula to find the roots, but here they are:"
   ]
  },
  {
   "cell_type": "code",
   "execution_count": 12,
   "id": "a87140cb",
   "metadata": {},
   "outputs": [
    {
     "name": "stdout",
     "output_type": "stream",
     "text": [
      "ans =\r\n",
      "\r\n",
      "   2.64803\r\n",
      "  -0.31470\r\n",
      "\r\n"
     ]
    }
   ],
   "source": [
    "format short\n",
    "roots([6,-14,-5])"
   ]
  },
  {
   "cell_type": "markdown",
   "id": "ef2684cd",
   "metadata": {},
   "source": [
    "$ f''(x) = 12x - 14 $"
   ]
  },
  {
   "cell_type": "code",
   "execution_count": 13,
   "id": "1f9c6d16",
   "metadata": {},
   "outputs": [
    {
     "name": "stdout",
     "output_type": "stream",
     "text": [
      "ans =  17.776\n",
      "ans = -17.776\n"
     ]
    }
   ],
   "source": [
    "12 * 2.64803 - 14\n",
    "\n",
    "12 * -0.31470 - 14"
   ]
  },
  {
   "cell_type": "markdown",
   "id": "62c534d5",
   "metadata": {},
   "source": [
    "The point $ x = -0.31470 $ is a local maximum and the point $ x = 2.64803 $ is a local miminum."
   ]
  }
 ],
 "metadata": {
  "kernelspec": {
   "display_name": "Octave",
   "language": "octave",
   "name": "octave"
  },
  "language_info": {
   "file_extension": ".m",
   "help_links": [
    {
     "text": "GNU Octave",
     "url": "https://www.gnu.org/software/octave/support.html"
    },
    {
     "text": "Octave Kernel",
     "url": "https://github.com/Calysto/octave_kernel"
    },
    {
     "text": "MetaKernel Magics",
     "url": "https://metakernel.readthedocs.io/en/latest/source/README.html"
    }
   ],
   "mimetype": "text/x-octave",
   "name": "octave",
   "version": "5.2.0"
  }
 },
 "nbformat": 4,
 "nbformat_minor": 5
}
