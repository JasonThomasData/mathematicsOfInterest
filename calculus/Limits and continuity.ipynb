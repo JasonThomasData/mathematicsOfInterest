{
 "cells": [
  {
   "cell_type": "markdown",
   "id": "1a865e63",
   "metadata": {},
   "source": [
    "\n"
   ]
  },
  {
   "cell_type": "markdown",
   "id": "849033b5",
   "metadata": {},
   "source": [
    "### Limits\n",
    "\n",
    "In calculus we think about limits. An example of notation:\n",
    "\n",
    "Let:\n",
    "\n",
    "$ f(x) $ be a function f that takes x as a parameter\n",
    "\n",
    "$ c $ is some arbitrary constant\n",
    "\n",
    "$ L $ is the value of the limit\n",
    "\n",
    "$ \\lim\\limits_{x \\to c} f(x) = L $\n",
    "\n",
    "The statement reads \"the limit of f(x) as x approaches c\"\n",
    "\n",
    "### Continuity\n",
    "\n",
    "Consider this seemingly trivial example:\n",
    "\n",
    "$ f(x) = \\frac{1-x}{1-x} $"
   ]
  },
  {
   "cell_type": "code",
   "execution_count": 1,
   "id": "e0f6babc",
   "metadata": {},
   "outputs": [
    {
     "name": "stdout",
     "output_type": "stream",
     "text": [
      "1.0\n",
      "1.0\n",
      "1.0\n",
      "1.0\n"
     ]
    }
   ],
   "source": [
    "def f(x):\n",
    "    return (1-x)/(1-x)\n",
    "\n",
    "# Using x=1 throws an error\n",
    "print(f(0))\n",
    "print(f(0.9999999999))\n",
    "print(f(1.0000000001))\n",
    "print(f(2))\n"
   ]
  },
  {
   "cell_type": "markdown",
   "id": "5bf70c25",
   "metadata": {},
   "source": [
    "Intuitively, $ f(x) = 1 $, but this is not true for all $ x $. If $ x = 1 $, then the equation evaluates as $ 0/0 $, which is undefined. Therefore, this function is not continuous. We would draw it as below"
   ]
  },
  {
   "cell_type": "code",
   "execution_count": 26,
   "id": "b1a135d6",
   "metadata": {},
   "outputs": [
    {
     "data": {
      "image/png": "[encoded data removed]",
      "text/plain": [
       "<Figure size 432x288 with 1 Axes>"
      ]
     },
     "metadata": {
      "needs_background": "light"
     },
     "output_type": "display_data"
    }
   ],
   "source": [
    "import numpy as np\n",
    "import matplotlib.pyplot as plt\n",
    "\n",
    "x_limits = (-3, 3)\n",
    "x_count = x_limits[1] - x_limits[0] + 1 #+1 for 0\n",
    "y_limits = (-3, 3)\n",
    "\n",
    "axes = plt.subplot()\n",
    "\n",
    "x = np.linspace(x_limits[0],x_limits[1], num=x_count)\n",
    "x = np.delete(x, np.where(x == 1)) #leaving out 1\n",
    "y = f(x)\n",
    "\n",
    "plt.plot(x, y, zorder=1)\n",
    "limit = plt.Circle(( 1 , 1 ), 0.1, fill=True, alpha=1, facecolor=\"white\", edgecolor=\"blue\", zorder=2)\n",
    " \n",
    "axes.set_aspect( 1 )\n",
    "axes.add_artist( limit )\n",
    "axes.set_xbound(x_limits)\n",
    "\n",
    "axes.set_ybound(y_limits)\n",
    "\n",
    "plt.title( 'The limit of 1, which is undefined, is a circle' )\n",
    "plt.show()"
   ]
  },
  {
   "cell_type": "markdown",
   "id": "18550308",
   "metadata": {},
   "source": [
    "This indicates that the value at 1 is undefined. \n",
    "\n",
    "It doesn't make sense to talk about $ f(1) $ but it would be useful to talk about the limit, $ \\lim\\limits_{x \\to 1} f(x) = L $"
   ]
  },
  {
   "cell_type": "markdown",
   "id": "ff6ebc85",
   "metadata": {},
   "source": [
    "For an example of a limit in a continuous function, consider:\n",
    "    \n",
    "$ f(x) = |x| $, aka abs() in Python. It returns the absolute value. This would look like:"
   ]
  },
  {
   "cell_type": "code",
   "execution_count": 27,
   "id": "477e153f",
   "metadata": {},
   "outputs": [
    {
     "data": {
      "image/png": "[encoded data removed]",
      "text/plain": [
       "<Figure size 432x288 with 1 Axes>"
      ]
     },
     "metadata": {
      "needs_background": "light"
     },
     "output_type": "display_data"
    }
   ],
   "source": [
    "x_limits = (-3, 3)\n",
    "x_count = x_limits[1] - x_limits[0] + 1 #+1 for 0\n",
    "y_limits = (-3, 3)\n",
    "\n",
    "axes = plt.subplot()\n",
    "\n",
    "x = np.linspace(x_limits[0],x_limits[1], num=x_count)\n",
    "y = abs(x)\n",
    "\n",
    "plt.plot(x, y)\n",
    " \n",
    "axes.set_aspect( 1 )\n",
    "axes.set_xbound(x_limits)\n",
    "axes.set_ybound(y_limits)\n",
    "\n",
    "plt.title(\"This continuous function needs no circle\")\n",
    "plt.show()"
   ]
  },
  {
   "cell_type": "markdown",
   "id": "1e794050",
   "metadata": {},
   "source": [
    "### A rigourous definition of limits\n",
    "\n"
   ]
  },
  {
   "cell_type": "code",
   "execution_count": null,
   "id": "2ab13c79",
   "metadata": {},
   "outputs": [],
   "source": []
  }
 ],
 "metadata": {
  "kernelspec": {
   "display_name": "Python 3 (ipykernel)",
   "language": "python",
   "name": "python3"
  },
  "language_info": {
   "codemirror_mode": {
    "name": "ipython",
    "version": 3
   },
   "file_extension": ".py",
   "mimetype": "text/x-python",
   "name": "python",
   "nbconvert_exporter": "python",
   "pygments_lexer": "ipython3",
   "version": "3.10.6"
  }
 },
 "nbformat": 4,
 "nbformat_minor": 5
}
