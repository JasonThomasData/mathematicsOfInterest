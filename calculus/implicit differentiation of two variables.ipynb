{
 "cells": [
  {
   "attachments": {},
   "cell_type": "markdown",
   "id": "d6bb30d6",
   "metadata": {},
   "source": [
    "### Implicit differentiation of two variables\n",
    "\n",
    "#### Using tha Jacobian\n",
    "\n",
    "Consider some function:\n",
    "\n",
    "$ f(x, y) = (f_1(x_1, x_2), f_2(x_1, x_2)) $ \n",
    "\n",
    "Then we can apply the Jacobian matrix:\n",
    "\n",
    "$ J_f = \\left[ \\begin{matrix} \\frac{\\partial f_1}{\\partial x_1} & \\frac{\\partial f_1}{\\partial x_2} \\\\ \\frac{\\partial f_2}{\\partial x_1} & \\frac{\\partial f_2}{\\partial x_2} \\end{matrix} \\right] $\n",
    "\n",
    "Alternatively, $ J = D_f $ or just $ f' $\n",
    "\n",
    "The Jacobian must be invertable for this to work, so we find the Jacobian determinant.\n",
    "\n",
    "$ | J_f | $ is the Jacobian determinant.\n",
    "\n",
    "_The Jacobian matrix generalises the derivative and the gradient_\n",
    "\n",
    "#### Applied to equations of several $ x $, several $ y $\n",
    "\n",
    "Then consider the system of equations:\n",
    "\n",
    "$ \\left\\{ \\begin{matrix} F_1(x_1, x_2, y_1, y_2) = 0 \\\\ F_2(x_1, x_2, y_1, y_2) = 0 \\end{matrix} \\right. $\n",
    "\n",
    "Then:\n",
    "\n",
    "$ \\left\\{ \\begin{matrix} y_1 = f_1(x_1, x_2) \\\\ y_2 = f_2(x_1, x_2) \\end{matrix} \\right. $\n",
    "\n",
    "But now group those:\n",
    "\n",
    "$ x = (x_1, x_2) $\n",
    "\n",
    "$ y = (y_1, y_2) $\n",
    "\n",
    "$ y = (f_1(x_1, x_2), f_2(x_1, x_2)) $\n",
    "\n",
    "_Now we can use that result_\n",
    "\n",
    "Let's say we have an implicit function:\n",
    "\n",
    "$ F(x_1, x_2, y_1, y_2) = (F_1(x_1, x_2, y_1, y_2), F_2(x_1, x_2, y_1, y_2)) $\n",
    "\n",
    "For $ x = (x_1, x_2), y = (y_1, y_2) $\n",
    "\n",
    "Then you can create a Jacobian of partials for each of them.\n",
    "\n",
    "$ F'_y $ is invertible iff it's determinant is non-zero."
   ]
  },
  {
   "cell_type": "code",
   "execution_count": null,
   "id": "7d9861bc",
   "metadata": {},
   "outputs": [],
   "source": []
  }
 ],
 "metadata": {
  "kernelspec": {
   "display_name": "Octave",
   "language": "octave",
   "name": "octave"
  },
  "language_info": {
   "file_extension": ".m",
   "help_links": [
    {
     "text": "GNU Octave",
     "url": "https://www.gnu.org/software/octave/support.html"
    },
    {
     "text": "Octave Kernel",
     "url": "https://github.com/Calysto/octave_kernel"
    },
    {
     "text": "MetaKernel Magics",
     "url": "https://metakernel.readthedocs.io/en/latest/source/README.html"
    }
   ],
   "mimetype": "text/x-octave",
   "name": "octave",
   "version": "6.4.0"
  }
 },
 "nbformat": 4,
 "nbformat_minor": 5
}
