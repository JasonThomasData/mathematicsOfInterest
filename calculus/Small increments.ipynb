{
 "cells": [
  {
   "cell_type": "markdown",
   "id": "c0afbe7e",
   "metadata": {},
   "source": [
    "### Small changes\n",
    "\n",
    "If you have a function, and for this let's have just any example:\n",
    "\n",
    "$ f(x) = x^2 -2x - 2 $"
   ]
  },
  {
   "cell_type": "markdown",
   "id": "83c91137",
   "metadata": {},
   "source": [
    "Let:\n",
    "\n",
    "$ \\Delta f(x) = f(x + \\Delta x) - f(x) $\n",
    "\n",
    "$ \\Delta f(x) = \\frac{f(x + \\Delta x) - f(x)}{\\Delta x} \\Delta x $\n",
    "\n",
    "And this left term is the very definition of a derivative:\n",
    "\n",
    "$ \\frac{dy}{dx} = \\lim\\limits_{\\Delta x \\to 0} \\left[ \\frac{f(x + \\Delta x) - f(x)}{\\Delta x} \\right]$\n",
    "\n",
    "$ \\Delta f(x) \\approx f'(x) \\Delta x $\n",
    "\n",
    "In other words, the change in the function is equal to the derivative times the change in x. This seems sensible."
   ]
  },
  {
   "cell_type": "markdown",
   "id": "89263856",
   "metadata": {},
   "source": [
    "### Total increment formula\n",
    "\n",
    "This is the same concept above but now in 3 dimensions. This has an interesting derivation.\n",
    "\n",
    "$ \\Delta z \\approx \\frac{\\delta z}{d x} \\Delta x + \\frac{\\delta z}{d y} \\Delta y$\n",
    "\n",
    "If you keep one of $ x, y $ fixed then this is just the full derivative as before."
   ]
  },
  {
   "cell_type": "code",
   "execution_count": null,
   "id": "f9850f4a",
   "metadata": {},
   "outputs": [],
   "source": []
  }
 ],
 "metadata": {
  "kernelspec": {
   "display_name": "Octave",
   "language": "octave",
   "name": "octave"
  },
  "language_info": {
   "file_extension": ".m",
   "help_links": [
    {
     "text": "GNU Octave",
     "url": "https://www.gnu.org/software/octave/support.html"
    },
    {
     "text": "Octave Kernel",
     "url": "https://github.com/Calysto/octave_kernel"
    },
    {
     "text": "MetaKernel Magics",
     "url": "https://metakernel.readthedocs.io/en/latest/source/README.html"
    }
   ],
   "mimetype": "text/x-octave",
   "name": "octave",
   "version": "6.4.0"
  }
 },
 "nbformat": 4,
 "nbformat_minor": 5
}
