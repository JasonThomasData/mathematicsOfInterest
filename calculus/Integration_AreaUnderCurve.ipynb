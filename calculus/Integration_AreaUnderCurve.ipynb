{
 "cells": [
  {
   "cell_type": "markdown",
   "id": "ae820398",
   "metadata": {},
   "source": [
    "### Integration\n",
    "\n",
    "This is the opposite process to differentiation. Integrals are often called antiderivatives.\n",
    "\n",
    "All of the rules for differentiation apply, but in the opposite direction.\n",
    "\n",
    "#### Indefinite integrals\n",
    "\n",
    "These do not have upper or lower limits.\n",
    "\n",
    "Because we cannot know what a given function had as its constants before the derivative was found, then we must add $ + C $ to all integrals. \n",
    "\n",
    "Eg: try differentiating $ x^2 + 2 $, this will be $ 2x $. If you integrate $ 2x $, you will get $ x^2 + C $, where $ C $ is some unknown constant.\n",
    "\n",
    "Because the $ C $ can have any value, then we have an infinite number of integrals.\n",
    "\n",
    "Let this be the language:\n",
    "\n",
    "$ \\begin{matrix}\n",
    "\\int (x) dx & = & f(x) + C \\\\ \n",
    "\\text{Indefinite antiderivative} & & \\text{ The set of all antiderivatives of f(x) } \\\\\n",
    "\\text{Intergrand} & & \\text{The family of antiderivatives} \n",
    "\\end{matrix} $\n",
    "\n",
    "#### Common indefinite integrals\n",
    "\n",
    "$ \\int ( \\cos x ) dx = \\sin (x) + C $\n",
    "\n",
    "$ \\int ( \\sin x ) dx = -\\cos (x) + C$\n",
    "\n",
    "$ \\int ( \\frac{1}{x} ) dx = \\ln (x) + C$\n",
    "\n",
    "$ \\int ( e^x ) dx = e^x + C$\n"
   ]
  },
  {
   "cell_type": "markdown",
   "id": "2acbc6f2",
   "metadata": {},
   "source": [
    "#### Definite integrals, and area under the curve\n",
    "\n",
    "These ones have limits, which we can call $ a $ and $ b $\n",
    "\n",
    "Given some function, whether that's f(x) or f'(x), you can find the area under the curve:\n",
    "\n",
    "You can include the $ + C $ here, but they cancel out when you find the difference\n",
    "\n",
    "$ [\\int f(x) dx]_a^b + C$\n",
    "\n",
    "$ ([\\int f(b) dx] + C) - ([\\int f(a) dx]  + C) $\n",
    "\n",
    "$ [\\int f(b) dx] - [\\int f(a) dx] $\n",
    "\n",
    "This will return the area under the curve, and you can see that we can ignore $ C $.\n",
    "\n",
    "#### Example\n",
    "\n",
    "$ \\int_{0.2}^{0.5} (\\frac{1}{x}) dx $"
   ]
  },
  {
   "cell_type": "code",
   "execution_count": 1,
   "id": "10071462",
   "metadata": {},
   "outputs": [
    {
     "data": {
      "image/png": "[encoded data removed]",
      "text/plain": [
       "<IPython.core.display.Image object>"
      ]
     },
     "metadata": {},
     "output_type": "display_data"
    }
   ],
   "source": [
    "X = linspace(0, 2);\n",
    "Y = 1./X;\n",
    "\n",
    "X_interval = linspace(0.2, 0.5);\n",
    "Y_interval = 1./X_interval;\n",
    "\n",
    "plot(X, Y)\n",
    "hold on\n",
    "area(X_interval, Y_interval, \"FaceColor\", \"Red\");\n",
    "line([0,2],[0,0])\n",
    "\n",
    "xlim([0 2])\n",
    "ylim([-10 10])\n",
    "#line([0.5,0.5],[-10,50])\n",
    "#line([0.2,0.2],[-10,50])"
   ]
  },
  {
   "cell_type": "markdown",
   "id": "9b971351",
   "metadata": {},
   "source": [
    "To find this definite integral (which is the area below the function and on the same side of the x axis, and also between the interval) first integrate the symbolic function. Remember we don't need $ +C $.\n",
    "\n",
    "$ [ \\ln(x) ]_{0.2}^{0.5} $\n",
    "\n",
    "$ [ \\ln(0.5) ] - [ \\ln(0.2) ] $, which is:"
   ]
  },
  {
   "cell_type": "code",
   "execution_count": 2,
   "id": "f77d0d35",
   "metadata": {},
   "outputs": [
    {
     "name": "stdout",
     "output_type": "stream",
     "text": [
      "ans =  0.91629\r\n"
     ]
    }
   ],
   "source": [
    "log(0.5) - log(0.2)"
   ]
  },
  {
   "cell_type": "markdown",
   "id": "c809ee22",
   "metadata": {},
   "source": [
    "The same process applies for finding the area between functions.\n",
    "\n",
    "Consider the function:\n",
    "\n",
    "$ g(x) = x^2 - 2x - 2 $\n",
    "\n",
    "To find the area under the curve, recognise that part of that area is positve and part is negative."
   ]
  },
  {
   "cell_type": "code",
   "execution_count": 3,
   "id": "a5eec202",
   "metadata": {},
   "outputs": [
    {
     "data": {
      "image/png": "[encoded data removed]",
      "text/plain": [
       "<IPython.core.display.Image object>"
      ]
     },
     "metadata": {},
     "output_type": "display_data"
    }
   ],
   "source": [
    "X = linspace(0,1.2);\n",
    "g_x = X.^2 + 2.*X - 2;\n",
    "\n",
    "X_interval = linspace(0.2, 1);\n",
    "g_x_interval = X_interval.^2 + 2.*X_interval - 2;\n",
    "\n",
    "plot(X, g_x)\n",
    "hold on\n",
    "area(X_interval, g_x_interval, \"FaceColor\", \"Red\");\n",
    "xlim([0 1.2])\n",
    "ylim([-5 5])\n",
    "\n",
    "line([0,2],[0,0])\n"
   ]
  },
  {
   "cell_type": "markdown",
   "id": "74e9bc7e",
   "metadata": {},
   "source": [
    "You would first need to find where $ g(x) = 0 $\n",
    "\n",
    "This won't be easy with standard methods to find roots, but you can use Newton's Method to get it pretty close."
   ]
  },
  {
   "cell_type": "code",
   "execution_count": 4,
   "id": "fa8ad7bd",
   "metadata": {},
   "outputs": [
    {
     "name": "stdout",
     "output_type": "stream",
     "text": [
      "accuracy =  0.00000010000\n",
      "x_i =  0.80000\n",
      "x_ip1 =  1.1214\n",
      "x_i =  1.1214\n",
      "x_ip1 =  3.7722\n",
      "x_i =  3.7722\n",
      "x_ip1 =  2.0419\n"
     ]
    }
   ],
   "source": [
    "function y = f(x)\n",
    "    y = x^2 + 2*x - 2;\n",
    "end\n",
    "\n",
    "function y = f_prime(x)\n",
    "    y = (1/3)*x^2 + x^2 - 2*x;\n",
    "end\n",
    "\n",
    "x_i = 0.8;\n",
    "x_ip1 = 0.8;\n",
    "accuracy = 0.0000001\n",
    "while x_i - x_ip1 < accuracy\n",
    "    x_i = x_ip1\n",
    "    x_ip1 = x_i - f(x_i)/f_prime(x_i)\n",
    "end"
   ]
  },
  {
   "cell_type": "markdown",
   "id": "1645e0eb",
   "metadata": {},
   "source": [
    "The area = $ \\int_{0.732}^1 g(x) dx + \\int_{0.2}^{0.732} g(x) dx $"
   ]
  },
  {
   "cell_type": "markdown",
   "id": "2fe2dae5",
   "metadata": {},
   "source": [
    "$ \\int_{0.732}^1 (x^2 + 2x - 2) dx $\n",
    "\n",
    "$ area = [\\frac{1}{3}x^3 + x^2 - 2x]_{0.732}^1 + [\\frac{1}{3}x^3 + x^2 - 2x]_{0.2}^{0.732}$\n",
    "\n",
    "$ [\\frac{1}{3}(1)^3 + (1)^2 - 2(1)] + [\\frac{1}{3}(0.732)^3 + (0.732)^2 - 2(0.732)] = $"
   ]
  },
  {
   "cell_type": "code",
   "execution_count": 5,
   "id": "4712f127",
   "metadata": {},
   "outputs": [
    {
     "name": "stdout",
     "output_type": "stream",
     "text": [
      "upperArea =  0.13077\r\n"
     ]
    }
   ],
   "source": [
    "upperArea = ((1/3)*(1)^3 + (1)^2 - 2*(1)) - ((1/3)*(0.732)^3 + (0.732)^2 - 2*(0.732))"
   ]
  },
  {
   "cell_type": "markdown",
   "id": "11f4bbb5",
   "metadata": {},
   "source": [
    "$ [\\frac{1}{3}(0.732)^3 + (0.732)^2 - 2(0.732)] - [\\frac{1}{3}(0.2)^3 + (0.2)^2 - 2(0.2)] = $"
   ]
  },
  {
   "cell_type": "code",
   "execution_count": 6,
   "id": "1409163f",
   "metadata": {},
   "outputs": [
    {
     "name": "stdout",
     "output_type": "stream",
     "text": [
      "lowerArea = -0.44010\r\n"
     ]
    }
   ],
   "source": [
    "lowerArea = ((1/3)*(0.732)^3 + (0.732)^2 - 2*(0.732)) - ((1/3)*(0.2)^3 + (0.2)^2 - 2*(0.2)) "
   ]
  },
  {
   "cell_type": "code",
   "execution_count": 7,
   "id": "fb1434fb",
   "metadata": {},
   "outputs": [
    {
     "name": "stdout",
     "output_type": "stream",
     "text": [
      "ans = -0.30933\r\n"
     ]
    }
   ],
   "source": [
    "# The total area is equal to these two areas combined\n",
    "upperArea + lowerArea"
   ]
  },
  {
   "cell_type": "markdown",
   "id": "0cb52db1",
   "metadata": {},
   "source": [
    "#### Not the physical area\n",
    "\n",
    "If you have an odd function (which passes the origin and is the same if you rotate it) then the area below the curve on the positive side and above the curve on the negative side will be equal. These cancel. \n",
    "\n",
    "This is not the case with physical area. To find the physical area for an odd function, compute the absolute values of all areas and then add those."
   ]
  },
  {
   "cell_type": "code",
   "execution_count": null,
   "id": "fdeceeff",
   "metadata": {},
   "outputs": [],
   "source": []
  }
 ],
 "metadata": {
  "kernelspec": {
   "display_name": "Octave",
   "language": "octave",
   "name": "octave"
  },
  "language_info": {
   "file_extension": ".m",
   "help_links": [
    {
     "text": "GNU Octave",
     "url": "https://www.gnu.org/software/octave/support.html"
    },
    {
     "text": "Octave Kernel",
     "url": "https://github.com/Calysto/octave_kernel"
    },
    {
     "text": "MetaKernel Magics",
     "url": "https://metakernel.readthedocs.io/en/latest/source/README.html"
    }
   ],
   "mimetype": "text/x-octave",
   "name": "octave",
   "version": "5.2.0"
  }
 },
 "nbformat": 4,
 "nbformat_minor": 5
}
