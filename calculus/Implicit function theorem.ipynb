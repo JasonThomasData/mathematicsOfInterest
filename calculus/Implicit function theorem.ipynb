{
 "cells": [
  {
   "cell_type": "markdown",
   "id": "acfd2f53",
   "metadata": {},
   "source": [
    "### Implicit function theorem\n",
    "\n",
    "The guts of it is this:\n",
    "\n",
    "_An implicit function, at some point in the relation, behaves very similarly to its linearisation at that point. If it's a function of three variables then the linearisation is a plane. If it's a function of two variables then the linearisation is a line._\n",
    "\n",
    "This is related to the notebook on implicit differentiation.\n",
    "\n",
    "If a relation exists, like the unit circle:\n",
    "\n",
    "$ x^2 + y^2 = 1 $\n",
    "\n",
    "Then in this form it can't be differentiated as normal.\n",
    "\n",
    "Remember, $ y = f(x) $ is your standard function and $ F(x, y) = 0 $ is the implicit function.\n",
    "\n",
    "#### Conditions for the theorem:\n",
    "\n",
    "$ F : D \\to \\mathbb{R}^2 $\n",
    "\n",
    "$ F(\\bar x, \\bar y) = 0 $\n",
    "\n",
    "$ F_y'(\\bar x, \\bar y) \\ne 0 $\n",
    "\n",
    "Then there exists a sufficiently small box around part of the relation such that the relation doesn't loop back around on itself. $ ( \\bar x, \\bar y ) $ is any point on the curve such that a small box only includes unique $ x $ values. Then in this box the relation is equivalent to a function:\n",
    "\n",
    "$ F(x, y) = 0 \\Leftrightarrow y = f(x) $\n",
    "\n",
    "#### The implication\n",
    "\n",
    "$ f'(x) = -\\large \\frac{F'_x(x, f(x))}{F'_y(x, f(x))} $\n",
    "\n",
    "This is the theory that leads to the notebook on implicit differentiation.\n",
    "\n",
    "### Proof (without rigour)\n",
    "\n",
    "$ F(x, y) = 0 $\n",
    "\n",
    "$ F(x, f(x) ) = 0 $\n",
    "\n",
    "Then take the derivative, using the chain rule:\n",
    "\n",
    "$ \\frac{d}{dx} [F(x, f(x))] = 0 $\n",
    "\n",
    "We denote $ F_x, F_y $ as the partial derivatives.\n",
    "\n",
    "$ F_x'(x, f(x)) \\frac{dx}{dx} + F_y'(x, f(y)) \\frac{dy}{dx} = 0 $\n",
    "\n",
    "$ F_x'(x, f(x)) + F_y'(x, f(y)) \\frac{dy}{dx} = 0 $\n",
    "\n",
    "$ \\frac{dy}{dx} = - \\large \\frac{F_x'(x, f(x))}{F_y(x, f(y))} $"
   ]
  },
  {
   "cell_type": "code",
   "execution_count": null,
   "id": "2da80ff8",
   "metadata": {},
   "outputs": [],
   "source": []
  }
 ],
 "metadata": {
  "kernelspec": {
   "display_name": "Octave",
   "language": "octave",
   "name": "octave"
  },
  "language_info": {
   "file_extension": ".m",
   "help_links": [
    {
     "text": "GNU Octave",
     "url": "https://www.gnu.org/software/octave/support.html"
    },
    {
     "text": "Octave Kernel",
     "url": "https://github.com/Calysto/octave_kernel"
    },
    {
     "text": "MetaKernel Magics",
     "url": "https://metakernel.readthedocs.io/en/latest/source/README.html"
    }
   ],
   "mimetype": "text/x-octave",
   "name": "octave",
   "version": "6.4.0"
  }
 },
 "nbformat": 4,
 "nbformat_minor": 5
}
