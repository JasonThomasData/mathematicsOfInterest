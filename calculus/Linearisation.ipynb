{
 "cells": [
  {
   "cell_type": "markdown",
   "id": "f53e2d62",
   "metadata": {},
   "source": [
    "### Linearisation\n",
    "\n"
   ]
  },
  {
   "cell_type": "markdown",
   "id": "d6befe18",
   "metadata": {},
   "source": [
    "This is a useful method for approximating a function.\n",
    "\n",
    "let:\n",
    "\n",
    "$x$ : be some independent variable\n",
    "\n",
    "$a$ : be some single value of $x$\n",
    "\n",
    "$f(x)$ : be the function to approximate\n",
    "\n",
    "$f'(a)$ : be the gradient of the tanget line with respect to $a$\n",
    "\n",
    "$L(x, a) \\approx f'(a)x + c$ : be the tanget on the point of our chosen $a$. It is approximate within a given range around $x$."
   ]
  },
  {
   "cell_type": "markdown",
   "id": "5664c7e3",
   "metadata": {},
   "source": [
    "The function to approximate is this, and we want to imagine we need to approximate it.\n",
    "\n",
    "$ f(x) = x^2 + 2x + 1 $"
   ]
  },
  {
   "cell_type": "code",
   "execution_count": 16,
   "id": "d0f445bd",
   "metadata": {},
   "outputs": [],
   "source": [
    "X_ticks = 100;\n",
    "X_min = 0;\n",
    "X_max = 10;\n",
    "\n",
    "X = linspace(X_min,X_max,X_ticks);\n",
    "\n",
    "function y = f(x)\n",
    "    y = x.^2 + 2*x + 1;\n",
    "end\n",
    "\n",
    "Y = f(X);"
   ]
  },
  {
   "cell_type": "code",
   "execution_count": 8,
   "id": "65d901ba",
   "metadata": {},
   "outputs": [],
   "source": [
    "#Choose a point to focus on\n",
    "a = 4;\n",
    "\n",
    "#Find the derivative (which is 2x + 2) and substite x\n",
    "function y = f_prime(a)\n",
    "    y = 2*a + 2;\n",
    "end"
   ]
  },
  {
   "cell_type": "markdown",
   "id": "c943decd",
   "metadata": {},
   "source": [
    "Now we know the gradient of $L(a)$ but we don't know the y intercept $c$.\n",
    "\n",
    "$f(x) \\approx L(a)$, at some interval close to $a$.\n",
    "\n",
    "$f(a) = L(x, a) \\rightarrow f(a) = f'(a)a + c $, in other words, $f = L$ at the point $a$, which is also the tangent.\n",
    "\n",
    "What is $c$? We rearrange the above result to find:\n",
    "\n",
    "$c = f(a) - f'(a)a$\n",
    "\n",
    "What does this mean in terms of $L$, defined above?\n",
    "\n",
    "$L(x, a) = f'(a)x + c$\n",
    "\n",
    "$L(x, a) = f'(a)x + f(a) - f'(a)a$\n",
    "\n",
    "$L(x, a) = f(a) + f'(a)x - f'(a)a$\n",
    "\n",
    "$L(x, a) = f(a) + f'(a)(x - a)$"
   ]
  },
  {
   "cell_type": "markdown",
   "id": "fa3b8d4d",
   "metadata": {},
   "source": [
    "Now let's say, we want to approximate $f(x)$ close to $a$."
   ]
  },
  {
   "cell_type": "code",
   "execution_count": 26,
   "id": "5ba8553c",
   "metadata": {},
   "outputs": [],
   "source": [
    "ticks_per_x = X_ticks/(X_max - X_min);\n",
    "interval_width = 3;\n",
    "interval_ticks = ticks_per_x*interval_width;\n",
    "\n",
    "interval_min = a-(interval_width/2);\n",
    "interval_max = a+(interval_width/2);\n",
    "\n",
    "interval_space = linspace(interval_min, interval_max, interval_ticks);\n",
    "\n",
    "# Now, the X variable is replaced with interval space\n",
    "\n",
    "L = f(a) + f_prime(a)*(interval_space - a);"
   ]
  },
  {
   "cell_type": "code",
   "execution_count": 27,
   "id": "3af381b8",
   "metadata": {},
   "outputs": [
    {
     "data": {
      "image/png": "[encoded data removed]",
      "text/plain": [
       "<IPython.core.display.Image object>"
      ]
     },
     "metadata": {},
     "output_type": "display_data"
    }
   ],
   "source": [
    "#The function\n",
    "plot(X,Y);\n",
    "hold on;\n",
    "\n",
    "#The chosen a\n",
    "plot([a,a],[0,f(a)]);\n",
    "\n",
    "#f(a)\n",
    "plot([0,4],[f(a),f(a)]);\n",
    "\n",
    "#The approximation, L\n",
    "line(interval_space,L);\n",
    "\n",
    "legend (\"f\",\"a\",\"f(a)\",\"L\");"
   ]
  },
  {
   "cell_type": "markdown",
   "id": "7a94daf6",
   "metadata": {},
   "source": [
    "I think this can be extended to understand Taylor Polynomials."
   ]
  },
  {
   "cell_type": "code",
   "execution_count": null,
   "id": "cfd75f16",
   "metadata": {},
   "outputs": [],
   "source": []
  }
 ],
 "metadata": {
  "kernelspec": {
   "display_name": "Octave",
   "language": "octave",
   "name": "octave"
  },
  "language_info": {
   "file_extension": ".m",
   "help_links": [
    {
     "text": "GNU Octave",
     "url": "https://www.gnu.org/software/octave/support.html"
    },
    {
     "text": "Octave Kernel",
     "url": "https://github.com/Calysto/octave_kernel"
    },
    {
     "text": "MetaKernel Magics",
     "url": "https://metakernel.readthedocs.io/en/latest/source/README.html"
    }
   ],
   "mimetype": "text/x-octave",
   "name": "octave",
   "version": "5.2.0"
  }
 },
 "nbformat": 4,
 "nbformat_minor": 5
}
