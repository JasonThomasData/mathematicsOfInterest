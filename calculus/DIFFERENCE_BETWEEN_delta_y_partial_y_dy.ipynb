{
 "cells": [
  {
   "cell_type": "markdown",
   "id": "0eb468be",
   "metadata": {},
   "source": [
    "## $ \\Delta y $, $\\partial y $ and $ dy $ (and also $x$)"
   ]
  },
  {
   "cell_type": "markdown",
   "id": "b71d59a5",
   "metadata": {},
   "source": [
    "These appear to be similar.\n",
    "\n",
    "These are known as:\n",
    "\n",
    "$ \\Delta $ : delta\n",
    "\n",
    "$ \\partial $ : appears to be the lower case `delta`, but is known as `partial`\n",
    "\n",
    "$ d $ : just d\n",
    "\n",
    "They have the following meanings:\n",
    "\n",
    "$ \\Delta $ : the distance between two points. Think $ h - a $ in calculus.\n",
    "\n",
    "$ \\partial $ represents a derivative with reference to one variable only.\n",
    "\n",
    "$ d $ : represents the infentesimally small difference of $ h - a $ as $ a = \\lim\\limits_{a \\rightarrow 0} $\n",
    "\n",
    "### Algebraic treatment of $\\frac{dy}{dx}, dy, dx $, etc"
   ]
  },
  {
   "cell_type": "markdown",
   "id": "bd521b15",
   "metadata": {},
   "source": [
    "Given that $ y = f(x) $:\n",
    "\n",
    "$ \\frac{dy}{dx} $ can be read as \"the derivative of $y$ with respect to the variable $x$\". If it was a word, it would be a noun.\n",
    "\n",
    "$ \\frac{d}{dx} $ can be read as \"differentiate with respect to $ x $. It would be a verb.  \n",
    "\n",
    "#### Example 1:\n",
    "\n",
    "$ \\frac{dy}{dx} = \\frac{d}{dx} ( x^2 ) = 2x $\n",
    "\n",
    "When handling differential equations, we can treat $ dy $ and $ dx $ as terms:\n",
    "\n",
    "$ \\frac{dy}{dx} = \\frac{-x}{y} $\n",
    "\n",
    "This is seperable:\n",
    "\n",
    "$ dy = \\frac{-x}{y}dx $\n",
    "\n",
    "$ y \\cdot dy = -x \\cdot dx $\n",
    "\n",
    "And then you can integrate both sides:\n",
    "\n",
    "$ \\int y \\cdot dy = \\int -x \\cdot dx $\n",
    "\n",
    "#### Example 2:\n",
    "\n",
    "Consider:\n",
    "\n",
    "$ \\frac{dy}{y} = 2x \\cdot dx $\n",
    "\n",
    "This can be rearranged:\n",
    "\n",
    "$ dy = 2x \\cdot dx \\cdot y $\n",
    "\n",
    "$ \\frac{dy}{dx} = 2x \\cdot y $\n",
    "\n",
    "$ y' = 2x \\cdot y $\n"
   ]
  },
  {
   "cell_type": "code",
   "execution_count": null,
   "id": "ae9475f8",
   "metadata": {},
   "outputs": [],
   "source": []
  }
 ],
 "metadata": {
  "kernelspec": {
   "display_name": "Octave",
   "language": "octave",
   "name": "octave"
  },
  "language_info": {
   "file_extension": ".m",
   "help_links": [
    {
     "text": "GNU Octave",
     "url": "https://www.gnu.org/software/octave/support.html"
    },
    {
     "text": "Octave Kernel",
     "url": "https://github.com/Calysto/octave_kernel"
    },
    {
     "text": "MetaKernel Magics",
     "url": "https://metakernel.readthedocs.io/en/latest/source/README.html"
    }
   ],
   "mimetype": "text/x-octave",
   "name": "octave",
   "version": "5.2.0"
  }
 },
 "nbformat": 4,
 "nbformat_minor": 5
}
