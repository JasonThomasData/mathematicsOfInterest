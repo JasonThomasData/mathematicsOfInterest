{
 "cells": [
  {
   "cell_type": "markdown",
   "id": "8b518a8c",
   "metadata": {},
   "source": [
    "### Exponential function as a differential equation\n",
    "\n",
    "The function for exponential decay or growth is described by\n",
    "\n",
    "$ \\frac{dA}{dt} \\propto A \\rightarrow \\frac{dA}{dt} = kA $ where k is some growth factor, use diff. to show this\n"
   ]
  },
  {
   "cell_type": "markdown",
   "id": "34044dfe",
   "metadata": {},
   "source": [
    "A consequence is that $ 2^x $ and others is can be differentiated. $ 2^x $ is an exponential function\n",
    "\n",
    "$ \\frac{d}{dx} [2^x] = e^\\ln(2)x $ = "
   ]
  },
  {
   "cell_type": "markdown",
   "id": "30889855",
   "metadata": {},
   "source": [
    "### Definining $ e^x $ in terms of sinh and cosh\n",
    "\n",
    "$ e^x = \\frac{e^x + e^{-x}}{2} + \\frac{e^x - e^{-x}}{2} $\n",
    "\n",
    "This has a definition related to the unit circle. WRITE IT DOWN"
   ]
  },
  {
   "cell_type": "code",
   "execution_count": null,
   "id": "30fb6432",
   "metadata": {},
   "outputs": [],
   "source": []
  }
 ],
 "metadata": {
  "kernelspec": {
   "display_name": "Octave",
   "language": "octave",
   "name": "octave"
  },
  "language_info": {
   "file_extension": ".m",
   "help_links": [
    {
     "text": "GNU Octave",
     "url": "https://www.gnu.org/software/octave/support.html"
    },
    {
     "text": "Octave Kernel",
     "url": "https://github.com/Calysto/octave_kernel"
    },
    {
     "text": "MetaKernel Magics",
     "url": "https://metakernel.readthedocs.io/en/latest/source/README.html"
    }
   ],
   "mimetype": "text/x-octave",
   "name": "octave",
   "version": "5.2.0"
  }
 },
 "nbformat": 4,
 "nbformat_minor": 5
}
