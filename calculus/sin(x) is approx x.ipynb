{
 "cells": [
  {
   "cell_type": "markdown",
   "id": "3d13d321",
   "metadata": {},
   "source": [
    "### Sin(x) ~ x \n",
    "\n",
    "I'm writing this down as it seems important.\n",
    "\n",
    "These videos explain the geometric proof:\n",
    "https://www.youtube.com/watch?v=mZiPdyHyUvE\n",
    "https://www.youtube.com/watch?v=f2PRu5QPa3o\n",
    "\n",
    "These produce the identity:\n",
    "\n",
    "$ \\lim \\limits_{x\\to 0} \\frac{\\sin(x)}{x} = 1 $\n",
    "\n",
    "$ \\lim \\limits_{x\\to 0} \\sin(x) = x $\n",
    "\n",
    "For the purposes of approximation,\n",
    "\n",
    "$ \\sin(x) \\approx x $ for small angles"
   ]
  },
  {
   "cell_type": "code",
   "execution_count": null,
   "id": "ca5266f5",
   "metadata": {},
   "outputs": [],
   "source": []
  }
 ],
 "metadata": {
  "kernelspec": {
   "display_name": "Octave",
   "language": "octave",
   "name": "octave"
  },
  "language_info": {
   "file_extension": ".m",
   "help_links": [
    {
     "text": "GNU Octave",
     "url": "https://www.gnu.org/software/octave/support.html"
    },
    {
     "text": "Octave Kernel",
     "url": "https://github.com/Calysto/octave_kernel"
    },
    {
     "text": "MetaKernel Magics",
     "url": "https://metakernel.readthedocs.io/en/latest/source/README.html"
    }
   ],
   "mimetype": "text/x-octave",
   "name": "octave",
   "version": "6.4.0"
  }
 },
 "nbformat": 4,
 "nbformat_minor": 5
}
