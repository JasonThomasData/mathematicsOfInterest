{
 "cells": [
  {
   "cell_type": "markdown",
   "id": "f90f3013",
   "metadata": {},
   "source": [
    "### Rectangular to polar coordinates, using Jacobian\n",
    "\n",
    "Say you've got rectangular coordinates, and you wish to convert those to polar coordinates:\n",
    "\n",
    "PIC\n",
    "\n",
    "Then if you describe each point in terms of $ x, y $ then you can pin-point each with these trignonometric functions:\n",
    "\n",
    "$ x = r\\cos \\theta $\n",
    "\n",
    "$ y = r\\sin \\theta $\n",
    "\n",
    "Then assuming you know $ x, y $ coordinates, you can solve for $ \\theta $\n",
    "\n",
    "$ \\theta = \\tan^{-1} \\frac{y}{x} $\n",
    "\n",
    "In the unit circle, $ r = 1 $ but scales as needed.\n",
    "\n",
    "Then we have a system of two functions and we can take the Jacobian of these.\n",
    "\n",
    "$ J_f = \\large \\left[ \\begin{matrix} \\frac{\\partial x}{\\partial r} & \\frac{\\partial x}{\\partial \\theta} \\\\ \\frac{\\partial y}{\\partial r} & \\frac{\\partial y}{\\partial \\theta} \\end{matrix} \\right] $\n",
    "\n",
    "$ J_f = \\left[ \\begin{matrix} \\cos \\theta & - r \\sin \\theta \\\\ \\sin \\theta & r \\cos \\theta \\end{matrix} \\right] $\n",
    "\n",
    "When $ r > 0 $, the jacobian is invertible:\n",
    "\n",
    "$ \\det(J_f) = (\\cos \\theta \\cdot r \\cos \\theta) - (-r \\sin \\theta * \\sin \\theta) $\n",
    "\n",
    "$ \\det(J_f) = r \\cos^2 \\theta + r \\sin^2 \\theta $\n",
    "\n",
    "Recall the Pythagorean Identity:\n",
    "\n",
    "$ \\cos^2 \\theta + \\sin^2 \\theta = 1 $\n",
    "\n",
    "So therefore:\n",
    "\n",
    "$ \\det(J_f) = r (\\cos^2 \\theta + \\sin^2 \\theta) = r $"
   ]
  },
  {
   "cell_type": "code",
   "execution_count": 53,
   "id": "6d8a6d80",
   "metadata": {},
   "outputs": [
    {
     "name": "stdout",
     "output_type": "stream",
     "text": [
      "theta = 0.7854\n",
      "r = 2.8284\n",
      "ans =\n",
      "\n",
      "   2.8284e+00\n",
      "   1.1102e-16\n",
      "\n"
     ]
    }
   ],
   "source": [
    "### Example\n",
    "\n",
    "x = 2;\n",
    "y = 2;\n",
    "\n",
    "theta = atan(y/x) #SOH CAH TOA -> opp/adj\n",
    "r = sqrt(x^2 + y^2)\n",
    "\n",
    "# At this point you've found the polar coordinates\n",
    "\n",
    "J = [cos(theta), -r*sin(theta);\n",
    "     sin(theta),  r*cos(theta)];\n",
    "\n",
    "# To rectangular\n",
    "\n",
    "J^(-1)"
   ]
  },
  {
   "cell_type": "code",
   "execution_count": 72,
   "id": "706e36d9",
   "metadata": {},
   "outputs": [
    {
     "name": "stdout",
     "output_type": "stream",
     "text": [
      "basis1 =\n",
      "\n",
      "   1   0\n",
      "   0   1\n",
      "\n",
      "ans = 1\n",
      "ans =\n",
      "\n",
      "   1\n",
      "   1\n",
      "\n",
      "basis2 =\n",
      "\n",
      "   3   0\n",
      "   0   2\n",
      "\n",
      "ans = 6\n"
     ]
    }
   ],
   "source": [
    "basis1 = [1 0; 0 1] #this has an area of 1\n",
    "det(basis)\n",
    "basis*[1;1]\n",
    "\n",
    "basis2 = [3 0; 0 2]\n",
    "det(basis2)\n"
   ]
  },
  {
   "cell_type": "code",
   "execution_count": null,
   "id": "083457bf",
   "metadata": {},
   "outputs": [],
   "source": []
  },
  {
   "cell_type": "code",
   "execution_count": null,
   "id": "1195c37f",
   "metadata": {},
   "outputs": [],
   "source": []
  }
 ],
 "metadata": {
  "kernelspec": {
   "display_name": "Octave",
   "language": "octave",
   "name": "octave"
  },
  "language_info": {
   "file_extension": ".m",
   "help_links": [
    {
     "text": "GNU Octave",
     "url": "https://www.gnu.org/software/octave/support.html"
    },
    {
     "text": "Octave Kernel",
     "url": "https://github.com/Calysto/octave_kernel"
    },
    {
     "text": "MetaKernel Magics",
     "url": "https://metakernel.readthedocs.io/en/latest/source/README.html"
    }
   ],
   "mimetype": "text/x-octave",
   "name": "octave",
   "version": "6.4.0"
  }
 },
 "nbformat": 4,
 "nbformat_minor": 5
}
