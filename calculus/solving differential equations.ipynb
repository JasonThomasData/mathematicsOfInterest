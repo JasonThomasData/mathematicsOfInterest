{
 "cells": [
  {
   "cell_type": "markdown",
   "id": "4df52d97",
   "metadata": {},
   "source": [
    "### Solving differential equations\n",
    "\n",
    "The strategy should be:\n",
    "\n",
    "- Is the DE seperable?\n",
    "    - Then solve it\n",
    "- Is the DE a linear DE?\n",
    "    - Then solve it by using the integrating factor\n",
    "- Otherwise\n",
    "    - I don't know how to do this yet"
   ]
  },
  {
   "cell_type": "markdown",
   "id": "62f0a0cb",
   "metadata": {},
   "source": [
    "### Seperable DE\n",
    "\n",
    "These can be arranged to have only one type of symbol on each side.\n",
    "\n",
    "Eg:\n",
    "\n",
    "Solve $ \\frac{dy}{dx} = xy $, consider $ 3 = y(2) $\n",
    "\n",
    "Can be separated like:\n",
    "\n",
    "$ \\frac{1}{y}\\cdot dx = x\\cdot dx $\n",
    "\n",
    "So as long as you can get both sides with the same symbols in terms of $dy, dx$ then it's seperable. Then proceed to solve\n",
    "\n",
    "$ \\int \\frac{1}{y}\\cdot dx = \\int x\\cdot dx $\n",
    "\n",
    "$ \\ln y = \\frac{x^2}{2} + C$\n",
    "\n",
    "Be sure to remember the $ +C $ because it is often paramount.\n",
    "\n",
    "$ y = e^{(x^2/2) + C}$\n",
    "\n",
    "$ y = e^{(x^2/2)} e^C$\n",
    "\n",
    "Since $ C $ is constant then $e^C$ will also be constant. Let:\n",
    "\n",
    "$ A = e^C $\n",
    "\n",
    "$ y = Ae^{(x^2/2)} $\n",
    "\n",
    "This is the general solution but what about the initial condition?\n",
    "\n",
    "$ 3 = Ae^{(2^2/2)} $\n",
    "\n",
    "$ 3 = Ae^{2} $\n",
    "\n",
    "$ A = \\frac{3}{e^{2}} $"
   ]
  },
  {
   "cell_type": "markdown",
   "id": "715c3b12",
   "metadata": {},
   "source": [
    "### Non-seperable linear DE, solve using integrating factorG\n",
    "\n",
    "When a DE is not seperable, if you can get it into the form:\n",
    "\n",
    "$ \\frac{dy}{dx} + P(x)y = Q(x) $\n",
    "\n",
    "Then it can be solved using the \"Integrating Factor\".\n",
    "\n",
    "Consider: _one from problem sheet_\n",
    "\n"
   ]
  }
 ],
 "metadata": {
  "kernelspec": {
   "display_name": "Octave",
   "language": "octave",
   "name": "octave"
  },
  "language_info": {
   "file_extension": ".m",
   "help_links": [
    {
     "text": "GNU Octave",
     "url": "https://www.gnu.org/software/octave/support.html"
    },
    {
     "text": "Octave Kernel",
     "url": "https://github.com/Calysto/octave_kernel"
    },
    {
     "text": "MetaKernel Magics",
     "url": "https://metakernel.readthedocs.io/en/latest/source/README.html"
    }
   ],
   "mimetype": "text/x-octave",
   "name": "octave",
   "version": "5.2.0"
  }
 },
 "nbformat": 4,
 "nbformat_minor": 5
}
