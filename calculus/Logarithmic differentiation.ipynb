{
 "cells": [
  {
   "cell_type": "markdown",
   "id": "eb418ca5",
   "metadata": {},
   "source": [
    "### Logirithmic differentiation\n",
    "\n",
    "Sometimes it's easier to break a problem down into logarithms and then differentiate those.\n",
    "\n",
    "Eg:\n",
    "$ y = \\frac{x^2 - 1}{x^8 \\sqrt{x^5 + 1}} $ \n",
    "\n",
    "You can use the quotient and chain rules to solve this, but you can do it also using logarithms and implicit differentiation. Logirithms often have derivatives that are simpler to find.\n",
    "\n",
    "$ \\ln y = \\ln\\left[\\frac{x^2 - 1}{x^8 \\sqrt{x^5 + 1}}\\right] $ \n",
    "\n",
    "We can use the log law of $ \\ln\\left(\\frac{a}{b}\\right) = \\ln{a} - \\ln{b} $\n",
    "\n",
    "$ \\ln y = \\ln{\\left(x^2 - 1\\right)} - \\ln{\\left(x^8 \\sqrt{x^5 + 1}\\right)} $ \n",
    "\n",
    "Another log law is $ \\ln(ab) = \\ln{a} + \\ln{b} $, which we can use.\n",
    "\n",
    "$ \\ln y = \\ln{\\left(x^2 - 1\\right)} - \\ln{x^8} + \\ln{\\left(\\sqrt{x^5 + 1}\\right)} $\n",
    "\n",
    "$ \\ln y = \\ln{\\left(x^2 - 1\\right)} - \\ln{x^8} + \\ln{(x^5 + 1)}^{1/2} $\n",
    "\n",
    "$ \\ln y = \\ln{\\left(x^2 - 1\\right)} - \\ln{x^8} + \\frac{1}{2} \\ln{(x^5 + 1)} $\n",
    "\n",
    "That's about as simple as it can be, let's use implicit differentiation:\n",
    "\n",
    "$ \\frac{d}{dx}(\\ln y) = \\frac{d}{dx}\\left[\\ln{\\left(x^2 - 1\\right)} - \\ln{x^8} + \\frac{1}{2} \\ln{(x^5 + 1)}\\right] $\n",
    "\n",
    "$ \\frac{1}{y} \\frac{dy}{dx} = \\frac{2x}{x^2-1} - \\frac{8}{x} + \\frac{1}{2} \\frac{5x}{x^5 + 1} $\n",
    "\n",
    "$ \\frac{dy}{dx} = y\\left(\\frac{2x}{x^2-1} - \\frac{8}{x} + \\frac{5x}{2(x^5 + 1)}\\right) $\n",
    "\n",
    "$ \\frac{dy}{dx} = \\frac{x^2 - 1}{x^8 \\sqrt{x^5 + 1}}\\left(\\frac{2x}{x^2-1} - \\frac{8}{x} + \\frac{5x}{2(x^5 + 1)}\\right) $"
   ]
  },
  {
   "cell_type": "code",
   "execution_count": null,
   "id": "11e9901f",
   "metadata": {},
   "outputs": [],
   "source": []
  }
 ],
 "metadata": {
  "kernelspec": {
   "display_name": "Octave",
   "language": "octave",
   "name": "octave"
  },
  "language_info": {
   "file_extension": ".m",
   "help_links": [
    {
     "text": "GNU Octave",
     "url": "https://www.gnu.org/software/octave/support.html"
    },
    {
     "text": "Octave Kernel",
     "url": "https://github.com/Calysto/octave_kernel"
    },
    {
     "text": "MetaKernel Magics",
     "url": "https://metakernel.readthedocs.io/en/latest/source/README.html"
    }
   ],
   "mimetype": "text/x-octave",
   "name": "octave",
   "version": "5.2.0"
  }
 },
 "nbformat": 4,
 "nbformat_minor": 5
}
