{
 "cells": [
  {
   "cell_type": "markdown",
   "id": "ef225867",
   "metadata": {},
   "source": [
    "### Multivariate calculus and partial derivatives"
   ]
  },
  {
   "cell_type": "markdown",
   "id": "1826fc93",
   "metadata": {},
   "source": [
    "The intuition is to remember that single variable calculus concerns a function with a single independent variable and a single dependent variable. The function is effectively a line. The derivative is the rate of change for that line.\n",
    "\n",
    "With multivariate calculus (using 3 dimensions as an example) this is achieved by holding one variable constant while differentiating the other. A 3d surface might have 2 independent variables and a single dependent variable.\n",
    "\n",
    "If you have $ z = f(x,y) $ and you keep $ x $ constant then finding the partial derivative with respect to $ y $ is a function along the $ y $ axis. This is intuitively a plane through the 3d space at some value of $ x $.\n",
    "\n",
    "#### Partial derivatives\n",
    "\n",
    "Let:\n",
    "\n",
    "$ f(x,y) = x^2y $ \n",
    "\n",
    "The derivative with respect to $ x $ is:\n",
    "\n",
    "$ \\frac{\\partial f}{\\partial x} = \\frac{\\partial}{\\partial x}(x^2y) = 2xy $\n",
    "\n",
    "Since we treated $ y $ as a constant.\n",
    "\n",
    "$ \\frac{\\partial f}{\\partial y} = \\frac{\\partial}{\\partial y}(x^2y) = x^2 $"
   ]
  },
  {
   "cell_type": "markdown",
   "id": "09491b4a",
   "metadata": {},
   "source": [
    "### Chain rule of two function parameters, each function has one variable\n",
    "\n",
    "Recall the single variable definition:\n",
    "\n",
    "$ z = u(v(t)) $\n",
    "\n",
    "$ \\frac{dz}{dt} = \\frac{dv}{dt}\\frac{du}{dv} = v(t)'u(v)' $\n",
    "\n",
    "Now look at the multiple function as parameter definition:\n",
    "\n",
    "$ v(t) = x(t)y(t) $\n",
    "\n",
    "$ z(t) = u(v(t)) = u(x(t)y(t)) $\n",
    "\n",
    "$ \\frac{dz}{dt} = \\frac{\\partial z}{\\partial x} \\frac{dx}{dt} + \\frac{\\partial z}{\\partial y} \\frac{dy}{dt} $\n",
    "\n",
    "***\n",
    "\n",
    "Consider:\n",
    "\n",
    "$ x, y $ each have a parameter $ t $, TODO: is this an arbitrary value and does it have a value that we can assign?\n",
    "\n",
    "$ v(t) = x^2y $\n",
    "\n",
    "$ z(t) = u(v(t)) = cos(x^2y) $\n",
    "\n",
    "$ \\frac{d x}{d t} = 2xy $\n",
    "\n",
    "Notice, the above isn't a partial because the function $ x $ has just one parameter, but we still keep $ y $ as a constant.\n",
    "\n",
    "$ \\frac{\\partial z}{\\partial x} = -\\sin(x^2y) $\n",
    "\n",
    "$ \\frac{\\partial z}{\\partial x} \\frac{d x}{d t} = -2xy \\sin(x^2y) $\n",
    "\n",
    "***\n",
    "\n",
    "$ \\frac{d y}{d t} = x^2 $\n",
    "\n",
    "$ \\frac{\\partial z}{\\partial y} = -\\sin(x^2y) $\n",
    "\n",
    "$ \\frac{\\partial z}{\\partial y} \\frac{d y}{d t} = -x^2 \\sin(x^2y) $\n",
    "\n",
    "$ \\frac{dz}{dt} = \\frac{\\partial u}{\\partial x} \\frac{d x}{d t} + \\frac{\\partial u}{\\partial y} \\frac{d y}{d t} $\n",
    "\n",
    "$ \\frac{dz}{dt} = -2xy \\sin(x^2y) - x^2 \\sin(x^2y)$"
   ]
  },
  {
   "cell_type": "code",
   "execution_count": 1,
   "id": "0951890d",
   "metadata": {},
   "outputs": [
    {
     "name": "stdout",
     "output_type": "stream",
     "text": [
      "error: 'f' undefined near line 2 column 19\n",
      "ans = (sym 1×2 matrix)\n",
      "\n",
      "  ⎡          ⎛ 2  ⎞    2    ⎛ 2  ⎞⎤\n",
      "  ⎣-2⋅x⋅y⋅sin⎝x ⋅y⎠  -x ⋅sin⎝x ⋅y⎠⎦\n",
      "\n"
     ]
    }
   ],
   "source": [
    "pkg load symbolic\n",
    "syms x y\n",
    "z = cos(x^2 * y);\n",
    "\n",
    "# Easily computed with:\n",
    "diff(z, x) + diff(f, y)\n",
    "# or\n",
    "diff(z, [x y])"
   ]
  },
  {
   "cell_type": "markdown",
   "id": "6cb04832",
   "metadata": {},
   "source": [
    "### Some visual intuition\n",
    "\n",
    "Our lecturer presented this as an explanation\n",
    "\n",
    "Let:\n",
    "\n",
    "$ Z(x,y) $ be some function. In this case it's a surface.\n",
    "\n",
    "$ C(x,y) $ be some curve in the $ X, Y $ plane. That is, it has no component in $ Z $.\n",
    "\n",
    "![visual of chain rule](chainRule2Variables.png)\n",
    "\n",
    "How could we find the derivative of the path $ C $ projected onto $ Z $? In this context, calculate:\n",
    "\n",
    "$ \\frac{d}{dt}[Z(C(x(t),y(t))] $\n",
    "\n",
    "In other words, recognise that X and Y are actually functions of $ t $, and use the chain rule."
   ]
  },
  {
   "cell_type": "markdown",
   "id": "8b1e4b9e",
   "metadata": {},
   "source": [
    "### Chain rule of two function parameters, each function has two variables\n",
    "\n",
    "Now look at the multiple variable definition:\n",
    "\n",
    "$ v = x(s,t)y(s,t) $\n",
    "\n",
    "$ z(t) = u(v(t)) = u(x(s,t)y(s,t)) $\n",
    "\n",
    "Now that $x, y $ are functions with two variables each then the full derivatives are gone\n",
    "\n",
    "$ \\frac{\\partial z}{\\partial s} = \\frac{\\partial z}{\\partial x} \\frac{\\partial x}{\\partial s} + \\frac{\\partial z}{\\partial y} \\frac{\\partial y}{\\partial s} $\n",
    "\n",
    "$ \\frac{\\partial z}{\\partial t} = \\frac{\\partial z}{\\partial x} \\frac{\\partial x}{\\partial t} + \\frac{\\partial z}{\\partial y} \\frac{\\partial y}{\\partial t} $\n",
    "\n",
    "When you find each term and then expand them, substitute in the function for $ x $ (whatever you named $ x $), and the same for $ y $, in each case of each of the partial terms."
   ]
  },
  {
   "cell_type": "markdown",
   "id": "29e17684",
   "metadata": {},
   "source": [
    "### Product rule\n",
    "\n",
    "The definition:\n",
    "\n",
    "$ \\frac{d}{dx} (u(x)v(x)) = u(x)v(x)' + u(x)'v(x) $\n",
    "\n",
    "Consider:\n",
    "\n",
    "$ f(x, y) = e^{2xy} \\sin(x^2) $\n",
    "\n",
    "$ \\frac{\\partial u}{\\partial x} = 2y e^{2xy} $\n",
    "\n",
    "$ \\frac{\\partial v}{\\partial x} = 2x \\cos(x^2) $\n",
    "\n",
    "$ \\frac{\\partial f}{\\partial x} = e^{2xy} 2x \\cos(x^2) + 2y e^{2xy} \\sin(x^2)$\n",
    "\n",
    "$ \\frac{\\partial u}{\\partial y} = 2x e^{2xy} $\n",
    "\n",
    "$ \\frac{\\partial v}{\\partial y} = 0 \\cos(x^2) = 0 $\n",
    "\n",
    "$ \\frac{\\partial f}{\\partial y} = e^{2xy} 2x \\cdot 0 + 2x e^{2xy} \\sin(x^2) = 2x e^{2xy} \\sin(x^2) $"
   ]
  },
  {
   "cell_type": "code",
   "execution_count": null,
   "id": "0d2c5324",
   "metadata": {},
   "outputs": [],
   "source": []
  }
 ],
 "metadata": {
  "kernelspec": {
   "display_name": "Octave",
   "language": "octave",
   "name": "octave"
  },
  "language_info": {
   "file_extension": ".m",
   "help_links": [
    {
     "text": "GNU Octave",
     "url": "https://www.gnu.org/software/octave/support.html"
    },
    {
     "text": "Octave Kernel",
     "url": "https://github.com/Calysto/octave_kernel"
    },
    {
     "text": "MetaKernel Magics",
     "url": "https://metakernel.readthedocs.io/en/latest/source/README.html"
    }
   ],
   "mimetype": "text/x-octave",
   "name": "octave",
   "version": "6.4.0"
  }
 },
 "nbformat": 4,
 "nbformat_minor": 5
}
