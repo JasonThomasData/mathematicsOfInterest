{
 "cells": [
  {
   "cell_type": "markdown",
   "id": "3ca388e4",
   "metadata": {},
   "source": [
    "### Fermat's Theorem\n",
    "\n",
    "Suppose a function $ f $ on the interval $ (a, b) $ achieves its maximum at $ c \\in (a, b) $.\n",
    "\n",
    "Then $ f'(c) = 0 $\n",
    "\n",
    "---\n",
    "\n",
    "Note that the function is on the reals.\n",
    "\n",
    "Suppose that the function reaches its max at $ c $.\n",
    "\n",
    "Then the possibilities are these:\n",
    "\n",
    "case $ f'(c) > 0 $\n",
    "\n",
    "case $ f'(c) < 0 $\n",
    "\n",
    "$ f'(c) = 0 $\n",
    "\n",
    "---\n",
    "\n",
    "Suppose $ f'(c) > 0 $ (the function is growing at the point $ c $).\n",
    "\n",
    "Then $ f(x) > f(c) $ where $ x > c $, where $ x $ is close to $ c $. But we already said that $ f(c) $ is the maximum, so this case is false.\n",
    "\n",
    "---\n",
    "\n",
    "Suppose $ f'(c) < 0 $\n",
    "\n",
    "Then $ f(x) > f(c) $ where $ x < c $, where $ x $ is close to $ c $. But again, $ f(c) $ is the maximum.\n",
    "\n",
    "---\n",
    "\n",
    "The only remaining option is $ f'(c) = 0 $."
   ]
  },
  {
   "cell_type": "code",
   "execution_count": null,
   "id": "325360f5",
   "metadata": {},
   "outputs": [],
   "source": []
  }
 ],
 "metadata": {
  "kernelspec": {
   "display_name": "Octave",
   "language": "octave",
   "name": "octave"
  },
  "language_info": {
   "file_extension": ".m",
   "help_links": [
    {
     "text": "GNU Octave",
     "url": "https://www.gnu.org/software/octave/support.html"
    },
    {
     "text": "Octave Kernel",
     "url": "https://github.com/Calysto/octave_kernel"
    },
    {
     "text": "MetaKernel Magics",
     "url": "https://metakernel.readthedocs.io/en/latest/source/README.html"
    }
   ],
   "mimetype": "text/x-octave",
   "name": "octave",
   "version": "6.4.0"
  }
 },
 "nbformat": 4,
 "nbformat_minor": 5
}
