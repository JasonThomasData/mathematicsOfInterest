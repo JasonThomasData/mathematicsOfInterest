{
 "cells": [
  {
   "cell_type": "markdown",
   "id": "20fb5a2f",
   "metadata": {},
   "source": [
    "### Finding functions that pass through specific points\n",
    "\n",
    "Given two functions $ p_1(x,y) = p_2(x,y) = 0 $\n",
    "\n",
    "And given that they pass through these points $ (0,2), (-1,3) $\n",
    "\n",
    "Then we can reimagine this as complex numbers: $ (0 + 2i), (-1 + 3i) $\n",
    "\n",
    "And now consider: $ p_1(x, y) = ip_2(x, y) $\n",
    "\n",
    "And then multiply them:\n",
    "\n",
    "$ (z - 2i)(z - (-1 + 3i)) $\n",
    "\n",
    "$ z $ is an imagninary number, so\n",
    "\n",
    "$ z = x + iy $\n",
    "\n",
    "So we replace $ z $:\n",
    "\n",
    "$ ((x + iy) - 2i)((x + iy) - (-1 + 3i)) $\n",
    "\n",
    "Expand it out:\n",
    "\n",
    "$ (x + iy - 2i)(x + iy + 1 - 3i) $\n",
    "\n",
    "$ x^2 +xiy + x - 3ix + xiy +i^2y^2 +iy -3i^2y - 2ix -2i^2y -2i +6i^2 $\n",
    "\n",
    "Make the $ i^2 $ flip signs:\n",
    "\n",
    "$ x^2 +xiy + x - 3ix + xiy -y^2 +iy +3y - 2ix +2y -2i -6 $\n",
    "\n",
    "Collect $i$ terms:\n",
    "\n",
    "$ x^2 + x -y^2 +3y +2y -6 + xiy - 3ix + xiy +iy - 2ix -2i $\n",
    "\n",
    "$ (x^2 + x -y^2 +3y +2y -6) + i(xy - 3x + xy + y - 2x - 2) $\n",
    "\n",
    "Simplify:\n",
    "\n",
    "$ (x^2 + x -y^2 + 5y -6) + i(2xy - 5x + y - 2) $\n",
    "\n",
    "Then recall that $ p_1(x, y) = ip_2(x, y) $\n",
    "\n",
    "Then:\n",
    "\n",
    "$ p_1 = x^2 + x - y^2 + 5y - 6 $\n",
    "\n",
    "$ p_2 = 2xy -5x + y -2 $\n",
    "\n",
    "And the result is to have two functions that when set to equal each other, they pass through the points as desired.\n",
    "\n",
    "![plots](Screenshot_2023-09-06_11-01-34.png)\n"
   ]
  },
  {
   "cell_type": "code",
   "execution_count": null,
   "id": "3baab043",
   "metadata": {},
   "outputs": [],
   "source": []
  }
 ],
 "metadata": {
  "kernelspec": {
   "display_name": "Octave",
   "language": "octave",
   "name": "octave"
  },
  "language_info": {
   "file_extension": ".m",
   "help_links": [
    {
     "text": "GNU Octave",
     "url": "https://www.gnu.org/software/octave/support.html"
    },
    {
     "text": "Octave Kernel",
     "url": "https://github.com/Calysto/octave_kernel"
    },
    {
     "text": "MetaKernel Magics",
     "url": "https://metakernel.readthedocs.io/en/latest/source/README.html"
    }
   ],
   "mimetype": "text/x-octave",
   "name": "octave",
   "version": "6.4.0"
  }
 },
 "nbformat": 4,
 "nbformat_minor": 5
}
