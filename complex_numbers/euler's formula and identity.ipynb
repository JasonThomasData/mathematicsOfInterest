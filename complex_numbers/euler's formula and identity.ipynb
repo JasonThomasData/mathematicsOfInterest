{
 "cells": [
  {
   "cell_type": "markdown",
   "id": "1c94751f",
   "metadata": {},
   "source": [
    "### Euler's formula - a proof\n",
    "\n",
    "Consider the Taylor Expansion of $ e^x $\n",
    "\n",
    "$ e^x = 1 + x + \\frac{x^2}{2!} + \\frac{x^3}{3!} + \\frac{x^4}{4!} + \\frac{x^5}{5!} + ...$\n",
    "\n",
    "But substitute $ i\\theta $ for $ x $\n",
    "\n",
    "$ e^{i\\theta} = 1 + i\\theta + \\frac{i^2\\theta^2}{2!} + \\frac{i^3\\theta^3}{3!} + \\frac{i^4\\theta^4}{4!} + \\frac{i^5\\theta^5}{5!} + \\frac{i^6\\theta^6}{6!} + \\frac{i^7\\theta^7}{7!} + ...$\n",
    "\n",
    "Because of the pattern obtained from the powers of $ i $, we can substitute:\n",
    "\n",
    "$ e^{i\\theta} = 1 + i\\theta + \\frac{(-1)\\theta^2}{2!} + \\frac{(-i)\\theta^3}{3!} + \\frac{(1)\\theta^4}{4!} + \\frac{(i)\\theta^5}{5!} + \\frac{(-1)\\theta^6}{6!} + \\frac{(-i)\\theta^7}{7!} + ...$\n",
    "\n",
    "$ e^{i\\theta} = 1 + i\\theta - \\frac{\\theta^2}{2!} - \\frac{i\\theta^3}{3!} + \\frac{\\theta^4}{4!} + \\frac{i\\theta^5}{5!} - \\frac{\\theta^6}{6!} - \\frac{i\\theta^7}{7!} + ...$\n",
    "\n",
    "Now, collect the real and imaginary parts:\n",
    "\n",
    "$ e^{i\\theta} = (1 - \\frac{\\theta^2}{2!} + \\frac{\\theta^4}{4!} - \\frac{\\theta^6}{6!} + ...) + (i\\theta - \\frac{i\\theta^3}{3!} + \\frac{i\\theta^5}{5!} - \\frac{i\\theta^7}{7!} + ...) $\n",
    "\n",
    "Factor out the $ i $\n",
    "\n",
    "$ e^{i\\theta} = (1 - \\frac{\\theta^2}{2!} + \\frac{\\theta^4}{4!} - \\frac{\\theta^6}{6!} + ...) + i(\\theta - \\frac{\\theta^3}{3!} + \\frac{\\theta^5}{5!} - \\frac{\\theta^7}{7!} + ...) $\n",
    "\n",
    "You can notice here that these two collected parts are the Taylor Expansions for $ \\cos $ and $ \\sin $:\n",
    "\n",
    "$ \\cos \\theta = 1 - \\frac{\\theta^2}{2!} + \\frac{\\theta^4}{4!} - \\frac{\\theta^6}{6!} + ... $\n",
    "\n",
    "$ \\sin \\theta = \\theta - \\frac{\\theta^3}{3!} + \\frac{\\theta^5}{5!} - \\frac{\\theta^7}{7!} + ... $\n",
    "\n",
    "Then that leads to the deduction:\n",
    "\n",
    "$ e^{i\\theta} = \\cos \\theta + i\\sin \\theta $\n",
    "\n",
    "### Euler's identity\n",
    "\n",
    "Consider now that we set $ \\theta = \\pi $\n",
    "\n",
    "$ e^{i\\pi} = \\cos \\pi + i\\sin \\pi $\n",
    "\n",
    "We know that:\n",
    "\n",
    "$ \\cos \\pi = -1 $\n",
    "\n",
    "$ \\sin \\pi = 0 $\n",
    "\n",
    "$ \\therefore $\n",
    "\n",
    "$ e^{i\\pi} = -1 + i0 $\n",
    "\n",
    "$ e^{i\\pi} + 1 = 0 $"
   ]
  },
  {
   "cell_type": "code",
   "execution_count": null,
   "id": "80baee92",
   "metadata": {},
   "outputs": [],
   "source": []
  }
 ],
 "metadata": {
  "kernelspec": {
   "display_name": "Octave",
   "language": "octave",
   "name": "octave"
  },
  "language_info": {
   "file_extension": ".m",
   "help_links": [
    {
     "text": "GNU Octave",
     "url": "https://www.gnu.org/software/octave/support.html"
    },
    {
     "text": "Octave Kernel",
     "url": "https://github.com/Calysto/octave_kernel"
    },
    {
     "text": "MetaKernel Magics",
     "url": "https://metakernel.readthedocs.io/en/latest/source/README.html"
    }
   ],
   "mimetype": "text/x-octave",
   "name": "octave",
   "version": "6.4.0"
  }
 },
 "nbformat": 4,
 "nbformat_minor": 5
}
