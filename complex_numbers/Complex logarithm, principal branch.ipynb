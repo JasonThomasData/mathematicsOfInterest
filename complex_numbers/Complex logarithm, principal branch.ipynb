{
 "cells": [
  {
   "cell_type": "markdown",
   "id": "e3bf26d8",
   "metadata": {},
   "source": [
    "### Complex logarithms and the principal branch\n",
    "\n",
    "Generally:\n",
    "\n",
    "$ Ln(z) = \\ln(|z|) + i Arg(z) $\n",
    "\n",
    "The capital natural log means we're using the principle branch of the complex logarithm.\n",
    "\n",
    "#### The complex branch\n",
    "\n",
    "Given that we know Euler's formula:\n",
    "\n",
    "$ e^{i \\theta} = \\cos \\theta + i \\sin \\theta $\n",
    "\n",
    "Then unlike $ e $ of the reals, $ e $ of a complex number is cyclical. Its cycle is $ k \\in \\mathbb{Z}: 2\\pi k $ \n",
    "\n",
    "If it's cyclical then we can't just take the inverse without first restricting the domain of that inverse.\n",
    "\n",
    "To take a full cycle between $ (-\\pi, \\pi] $ and then find the logarithm in that interval is to find the principal branch of the complex logarithm.\n",
    "\n",
    "And so the principal branch is:\n",
    "\n",
    "$ \\ln_{(-\\pi, \\pi]}(z) $\n",
    "\n",
    "And other branches can be found $ \\forall \\alpha \\in \\mathbb{R} $:\n",
    "\n",
    "$ \\ln_{(\\alpha, \\alpha + 2\\pi]}(z) $\n",
    "\n",
    "An example:\n",
    "\n",
    "![example of finding complex logarithm](Screenshot_2023-09-06_23-23-34.png)\n",
    "\n",
    "#### Better example\n",
    "\n",
    "$ Ln(2+2i) $\n",
    "\n",
    "Recall that a complex number on the plane looks like:\n",
    "\n",
    "![complex plane](mahima-graphing-complex-numbers-us-02-1609156105-2814522657.png)\n",
    "\n",
    "We can convert the rectangular coordinates to polar coordinates.\n",
    "\n",
    "Polar coordinates are expressed with $ r, \\theta $\n",
    "\n",
    "We can express the components in terms of $ \\theta $:\n",
    "\n",
    "$ 2 = \\cos \\theta $, on the real axis.\n",
    "\n",
    "$ 2 = i \\sin \\theta $\n",
    "\n",
    "Usually you would need to find $ \\theta $, but we can see it's $ \\frac{\\pi}{4} $\n",
    "\n",
    "And the radius is the magnitude of the complex number's parts:\n",
    "\n",
    "$ r = \\sqrt{2^2 + 2^2} = \\sqrt{8} $\n",
    "\n",
    "So:\n",
    "\n",
    "$ (2 + 2i) = r(\\cos \\frac{\\pi}{4} + i \\sin \\frac{\\pi}{4}) $\n",
    "\n",
    "And by Euler's Identity:\n",
    "\n",
    "$ (2 + 2i) = r e^{i \\pi/4} $\n",
    "\n",
    "Finally, to solve this:\n",
    "\n",
    "$ \\ln(r e^{i \\pi/4} )$\n",
    "\n",
    "$ \\ln(r) + \\ln(e^{i \\pi/4} )$\n",
    "\n",
    "$ \\ln(r) + {i \\pi/4} $\n",
    "\n",
    "Usually, you could do this:\n",
    "\n",
    "$ \\ln(|z|) + i Arg(z) $, where $ Arg(z) = \\theta $"
   ]
  }
 ],
 "metadata": {
  "kernelspec": {
   "display_name": "Octave",
   "language": "octave",
   "name": "octave"
  },
  "language_info": {
   "file_extension": ".m",
   "help_links": [
    {
     "text": "GNU Octave",
     "url": "https://www.gnu.org/software/octave/support.html"
    },
    {
     "text": "Octave Kernel",
     "url": "https://github.com/Calysto/octave_kernel"
    },
    {
     "text": "MetaKernel Magics",
     "url": "https://metakernel.readthedocs.io/en/latest/source/README.html"
    }
   ],
   "mimetype": "text/x-octave",
   "name": "octave",
   "version": "6.4.0"
  }
 },
 "nbformat": 4,
 "nbformat_minor": 5
}
