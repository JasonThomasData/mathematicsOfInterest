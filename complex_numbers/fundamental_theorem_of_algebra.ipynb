{
 "cells": [
  {
   "cell_type": "markdown",
   "id": "43fbd470",
   "metadata": {},
   "source": [
    "### Fundamental theorem of algebra\n",
    "\n",
    "_This entry goes under Complex Numbers in the sense that most roots to most poynomial functions will have complex solutions (and I have not proved that, it's just an article of faith)._\n",
    "\n",
    "The theorem says:\n",
    "\n",
    "$ n \\in N^* $\n",
    "\n",
    "For any polynomial $ P(x) $ of degree $ n $, the polynomial has precisly $ n $ roots. Then that means if $ P(x) = 0$, then there will be $ n $ solutions. This is even true for functions that don't have an x-intercept and the roots to those functions will have complex roots.\n",
    "\n",
    "Example:\n",
    "\n",
    "$ P(x) = x^2 + 4x -12 $ is a polynomial of degree 2.\n",
    "\n",
    "Then this will look like:"
   ]
  },
  {
   "cell_type": "code",
   "execution_count": 1,
   "id": "82df2d57",
   "metadata": {},
   "outputs": [
    {
     "data": {
      "image/png": "[encoded data removed]",
      "text/plain": [
       "<IPython.core.display.Image object>"
      ]
     },
     "metadata": {},
     "output_type": "display_data"
    }
   ],
   "source": [
    "X = linspace(-10,5);\n",
    "Y = X.^2 +4.*X - 12;\n",
    "plot(X, Y)\n",
    "line([-10,5], [0, 0])\n",
    "line([0,0], [-20, 20])\n",
    "axis([-10 5 -20 20])"
   ]
  },
  {
   "cell_type": "markdown",
   "id": "3f9c5f99",
   "metadata": {},
   "source": [
    "Then $ P(x) = 0 $ to find that this function has roots:\n",
    "\n",
    "$ x^2 +4x - 12 = 0 $\n",
    "\n",
    "$ (x - 6)(x + 2) = 0 $  \n"
   ]
  },
  {
   "cell_type": "code",
   "execution_count": 2,
   "id": "3e1240ca",
   "metadata": {},
   "outputs": [
    {
     "name": "stdout",
     "output_type": "stream",
     "text": [
      "Symbolic pkg v2.9.0: Python communication link active, SymPy v1.4.\n",
      "ans = (sym)\n",
      "\n",
      "   2           \n",
      "  x  + 4⋅x - 12\n",
      "\n"
     ]
    }
   ],
   "source": [
    "# Let's show the polynomial by using the roots\n",
    "pkg load symbolic\n",
    "syms x\n",
    "expand((x+6)*(x-2))"
   ]
  },
  {
   "cell_type": "markdown",
   "id": "221d3c9b",
   "metadata": {},
   "source": [
    "You could easily show the following polynomial has just one solution.\n",
    "\n",
    "$ x^2 +4x + 4 = 0 $\n",
    "\n",
    "What about finding the roots for this:\n",
    "\n",
    "$ x^2 +4x + 8 = 0 $\n"
   ]
  },
  {
   "cell_type": "code",
   "execution_count": 3,
   "id": "e2ac7404",
   "metadata": {},
   "outputs": [
    {
     "data": {
      "image/png": "[encoded data removed]",
      "text/plain": [
       "<IPython.core.display.Image object>"
      ]
     },
     "metadata": {},
     "output_type": "display_data"
    }
   ],
   "source": [
    "X = linspace(-10,5);\n",
    "Y = X.^2 +4.*X +8;\n",
    "plot(X, Y)\n",
    "line([-10,5], [0, 0])\n",
    "line([0,0], [-20, 20])\n",
    "axis([-10 5 -20 20])"
   ]
  },
  {
   "cell_type": "markdown",
   "id": "c8d5078b",
   "metadata": {},
   "source": [
    "Then you could take the common approach, which is to use the quadratic formula.\n",
    "\n",
    "$ x = \\frac{-b \\pm \\sqrt{b^2 - 4ac}}{2a} $\n",
    "\n",
    "$ x = \\frac{-4 \\pm \\sqrt{4^2 - 4 \\cdot1 \\cdot 8}}{2 \\cdot 1} $\n",
    "\n",
    "$ x = \\frac{-4 \\pm \\sqrt{16 - 32}}{2} $\n",
    "\n",
    "$ x = \\frac{-4 \\pm \\sqrt{-16}}{2} $\n",
    "\n",
    "$ x = \\frac{-4 \\pm \\sqrt{-1}\\cdot 4}{2} $\n",
    "\n",
    "$ x = -2 \\pm i\\cdot 2 $\n",
    "\n",
    "We can demonstrate that those are the roots by expanding the polynomial:"
   ]
  },
  {
   "cell_type": "code",
   "execution_count": 4,
   "id": "8b1d751b",
   "metadata": {},
   "outputs": [
    {
     "name": "stdout",
     "output_type": "stream",
     "text": [
      "ans = (sym)\r\n",
      "\r\n",
      "   2          \r\n",
      "  x  + 4⋅x + 8\r\n",
      "\r\n"
     ]
    }
   ],
   "source": [
    "syms x\n",
    "expand((x-(-2+2*i))*(x-(-2-2*i)))"
   ]
  },
  {
   "cell_type": "code",
   "execution_count": null,
   "id": "51442fcc",
   "metadata": {},
   "outputs": [],
   "source": []
  }
 ],
 "metadata": {
  "kernelspec": {
   "display_name": "Octave",
   "language": "octave",
   "name": "octave"
  },
  "language_info": {
   "file_extension": ".m",
   "help_links": [
    {
     "text": "GNU Octave",
     "url": "https://www.gnu.org/software/octave/support.html"
    },
    {
     "text": "Octave Kernel",
     "url": "https://github.com/Calysto/octave_kernel"
    },
    {
     "text": "MetaKernel Magics",
     "url": "https://metakernel.readthedocs.io/en/latest/source/README.html"
    }
   ],
   "mimetype": "text/x-octave",
   "name": "octave",
   "version": "5.2.0"
  }
 },
 "nbformat": 4,
 "nbformat_minor": 5
}
