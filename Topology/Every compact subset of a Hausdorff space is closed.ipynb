{
 "cells": [
  {
   "cell_type": "markdown",
   "id": "0cf6d3db",
   "metadata": {},
   "source": [
    "### Every compact subset of a Hausdorff space is closed\n",
    "\n",
    "![proof](Screenshot_2023-05-30_17-12-38.png)\n",
    "\n",
    "![proof](Screenshot_2023-05-30_17-13-47.png)\n"
   ]
  },
  {
   "cell_type": "code",
   "execution_count": null,
   "id": "6887ff16",
   "metadata": {},
   "outputs": [],
   "source": []
  }
 ],
 "metadata": {
  "kernelspec": {
   "display_name": "Octave",
   "language": "octave",
   "name": "octave"
  },
  "language_info": {
   "file_extension": ".m",
   "help_links": [
    {
     "text": "GNU Octave",
     "url": "https://www.gnu.org/software/octave/support.html"
    },
    {
     "text": "Octave Kernel",
     "url": "https://github.com/Calysto/octave_kernel"
    },
    {
     "text": "MetaKernel Magics",
     "url": "https://metakernel.readthedocs.io/en/latest/source/README.html"
    }
   ],
   "mimetype": "text/x-octave",
   "name": "octave",
   "version": "6.4.0"
  }
 },
 "nbformat": 4,
 "nbformat_minor": 5
}
