{
 "cells": [
  {
   "cell_type": "markdown",
   "id": "a0ce55db",
   "metadata": {},
   "source": [
    "### $ X \\times Y $ is connected iff $ X, Y $ are each connected\n",
    "\n",
    "![problem and LtR logic](Screenshot_2023-05-30_10-41-41.png)\n",
    "\n",
    "![RtL logic](Screenshot_2023-05-30_11-38-04.png)\n",
    "\n"
   ]
  },
  {
   "cell_type": "code",
   "execution_count": null,
   "id": "68f11fb9",
   "metadata": {},
   "outputs": [],
   "source": []
  }
 ],
 "metadata": {
  "kernelspec": {
   "display_name": "Octave",
   "language": "octave",
   "name": "octave"
  },
  "language_info": {
   "file_extension": ".m",
   "help_links": [
    {
     "text": "GNU Octave",
     "url": "https://www.gnu.org/software/octave/support.html"
    },
    {
     "text": "Octave Kernel",
     "url": "https://github.com/Calysto/octave_kernel"
    },
    {
     "text": "MetaKernel Magics",
     "url": "https://metakernel.readthedocs.io/en/latest/source/README.html"
    }
   ],
   "mimetype": "text/x-octave",
   "name": "octave",
   "version": "6.4.0"
  }
 },
 "nbformat": 4,
 "nbformat_minor": 5
}
