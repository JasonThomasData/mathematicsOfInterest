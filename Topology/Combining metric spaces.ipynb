{
 "cells": [
  {
   "cell_type": "markdown",
   "id": "1f1ae736",
   "metadata": {},
   "source": [
    "### Combining metric spaces\n",
    "\n",
    "Let $ (X, \\rho), (Y, \\sigma) $ be metric spaces.\n",
    "\n",
    "The lecturer has said not to think too much about the dimensionality of metric spaces.\n",
    "\n",
    "Below, we can combine any two metrics to yield the results below.\n",
    "\n",
    "For any $ \\rho, \\sigma $:\n",
    "\n",
    "#### Euclidian Metric\n",
    "\n",
    "$ \\rho \\times \\sigma = (X \\times Y, \\rho) = \\sqrt{(x_1 - y_1)^2 + (x_2 - y_2)^2} $\n",
    "\n",
    "Imagine an open ball around some point in the codomain\n",
    "\n",
    "#### Maximum distance metric\n",
    "\n",
    "$ \\rho_{X \\times Y} = (X \\times Y, \\rho) = \\max \\{(x_1 - y_1), (x_2 - y_2)\\} $\n",
    "\n",
    "Imagine a square around some point in the codomain. Then we consider the distance in $ X $ and the distance in $ Y $, and we keep the maximum of those.\n",
    "\n",
    "#### TaxiCab Metric\n",
    "\n",
    "$ \\rho + \\sigma $ Yields the taxi metric.\n",
    "\n"
   ]
  },
  {
   "cell_type": "code",
   "execution_count": null,
   "id": "643f60f5",
   "metadata": {},
   "outputs": [],
   "source": []
  }
 ],
 "metadata": {
  "kernelspec": {
   "display_name": "Octave",
   "language": "octave",
   "name": "octave"
  },
  "language_info": {
   "file_extension": ".m",
   "help_links": [
    {
     "text": "GNU Octave",
     "url": "https://www.gnu.org/software/octave/support.html"
    },
    {
     "text": "Octave Kernel",
     "url": "https://github.com/Calysto/octave_kernel"
    },
    {
     "text": "MetaKernel Magics",
     "url": "https://metakernel.readthedocs.io/en/latest/source/README.html"
    }
   ],
   "mimetype": "text/x-octave",
   "name": "octave",
   "version": "6.4.0"
  }
 },
 "nbformat": 4,
 "nbformat_minor": 5
}
