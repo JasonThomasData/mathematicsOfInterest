{
 "cells": [
  {
   "cell_type": "markdown",
   "id": "bd38925b",
   "metadata": {},
   "source": [
    "### Continuity between metric spaces\n",
    "\n",
    "For there to be a continuous function between two metric spaces, we should apply the Epsilon Delta logic for continuous functions.\n",
    "\n",
    "![diagram between metric spaces](continuity_between_metric_spaces.png)"
   ]
  },
  {
   "cell_type": "markdown",
   "id": "2a447ddc",
   "metadata": {},
   "source": [
    "### Example\n",
    "\n",
    "This video - https://www.youtube.com/watch?v=ihsBYGrgclU - spells out how to approach doing this:\n",
    "\n",
    "- Think of each space as having a concept of distance determined by the metric\n",
    "- The function might increase or decrease the dimensions in the codomain\n",
    "- Consider the definition of continuity between metric spaces\n",
    "- Substitute in your metric space definitions\n",
    "- Then, concentrate on the part that has $ \\epsilon $ defined\n",
    "- ..."
   ]
  },
  {
   "cell_type": "markdown",
   "id": "759ce9e1",
   "metadata": {},
   "source": [
    "### Equivalence of continuity\n",
    "\n",
    "#### Below we see an equivalence of continuity ... continuity between one means continuity between the other\n",
    "\n",
    "Let these be metric spaces:\n",
    "\n",
    "$ (X, \\rho) $\n",
    "\n",
    "$ (Y, \\sigma) $\n",
    "\n",
    "$ (Z, \\tau) $\n",
    "\n",
    "$ (W, \\omega) $\n",
    "\n",
    "$ f: W \\to X \\times Y $\n",
    "\n",
    "$ g: X \\times Y \\to Z $\n",
    "\n",
    "Then concerning the derivation of new metrics (subspaces and cartesian products)\n",
    "\n",
    "For the generic metrics $ a, b $ and two sets $ A, B $\n",
    "\n",
    "The following 3 are equivalent to each other\n",
    "\n",
    "$ f $ is continuous WRT $ a \\times b $\n",
    "\n",
    "$ f $ is continuous WRT $ a_{A\\times B} $\n",
    "\n",
    "$ f $ is continuous WRT $ a + b $\n",
    "\n",
    "The following 3 are equivalent to each other\n",
    "\n",
    "$ g $ is continuous WRT $ a \\times b $\n",
    "\n",
    "$ g $ is continuous WRT $ a_{A\\times B} $\n",
    "\n",
    "$ g $ is continuous WRT $ a + b $\n",
    "\n",
    "To see that this is true, recall that we think of:\n",
    "\n",
    "$ a \\times b $ as a circle\n",
    "\n",
    "$ a_{A \\times B} $ as a square\n",
    "\n",
    "$ a + b $ as a diamond\n",
    "\n",
    "Start with any of these shapes with $ \\epsilon > 0 $ The other shapes, no matter how small, will fit inside each other, as $ \\epsilon > 0 $ for all of them\n",
    "\n",
    "\n",
    "\n",
    "\n"
   ]
  },
  {
   "cell_type": "code",
   "execution_count": null,
   "id": "3e52aed0",
   "metadata": {},
   "outputs": [],
   "source": []
  }
 ],
 "metadata": {
  "kernelspec": {
   "display_name": "Octave",
   "language": "octave",
   "name": "octave"
  },
  "language_info": {
   "file_extension": ".m",
   "help_links": [
    {
     "text": "GNU Octave",
     "url": "https://www.gnu.org/software/octave/support.html"
    },
    {
     "text": "Octave Kernel",
     "url": "https://github.com/Calysto/octave_kernel"
    },
    {
     "text": "MetaKernel Magics",
     "url": "https://metakernel.readthedocs.io/en/latest/source/README.html"
    }
   ],
   "mimetype": "text/x-octave",
   "name": "octave",
   "version": "6.4.0"
  }
 },
 "nbformat": 4,
 "nbformat_minor": 5
}
