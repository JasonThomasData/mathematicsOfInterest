{
 "cells": [
  {
   "cell_type": "markdown",
   "id": "50c3a430",
   "metadata": {},
   "source": [
    "### Basis for a topology\n",
    "\n",
    "Let $ B \\subseteq P(X) $ is a basis/base for a topology $ \\mathcal{T} $, which is a topology on $ \\mathcal{T} $, if every element of $\\mathcal{T} $ is a union of elements in $ B $. \n",
    "\n",
    "So we're saying that $ B $ contains the elements that you need to generate a topology $ \\mathcal{T} $, and bearing in mind that the union of topologies is always itself a topology. Q: does this mean that $ B $ is a topology?\n",
    "\n",
    "We might also have a subbasis $ S \\subseteq P(X) $\n",
    "\n",
    "#### Example - the real number line\n",
    "\n",
    "$ B = \\{(a, b) : a,b \\in \\mathbb{R}, a<b \\} $ is a basis for the Euclidean Metric on $\\mathbb{R} $, or the Topology induced from the Euclidean Metric.\n",
    "\n",
    "#### Open balls in a metric space\n",
    "\n",
    "These form the basis for a metric topology. I don't understand it but seemed important enough to write down."
   ]
  },
  {
   "cell_type": "code",
   "execution_count": null,
   "id": "1ba5d6db",
   "metadata": {},
   "outputs": [],
   "source": []
  }
 ],
 "metadata": {
  "kernelspec": {
   "display_name": "Octave",
   "language": "octave",
   "name": "octave"
  },
  "language_info": {
   "file_extension": ".m",
   "help_links": [
    {
     "text": "GNU Octave",
     "url": "https://www.gnu.org/software/octave/support.html"
    },
    {
     "text": "Octave Kernel",
     "url": "https://github.com/Calysto/octave_kernel"
    },
    {
     "text": "MetaKernel Magics",
     "url": "https://metakernel.readthedocs.io/en/latest/source/README.html"
    }
   ],
   "mimetype": "text/x-octave",
   "name": "octave",
   "version": "6.4.0"
  }
 },
 "nbformat": 4,
 "nbformat_minor": 5
}
