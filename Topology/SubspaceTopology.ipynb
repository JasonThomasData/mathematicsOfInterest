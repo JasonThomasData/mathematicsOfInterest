{
 "cells": [
  {
   "cell_type": "markdown",
   "id": "9135796b",
   "metadata": {},
   "source": [
    "### Subspace Topology\n",
    "\n",
    "Let $ A \\subseteq X $\n",
    "\n",
    "$ (X, \\mathcal{T}) $ is a topological space.\n",
    "\n",
    "Find a topology on $ A $ that is compatible with $ \\mathcal{T} $. Let's call this unknown topology $ \\mathcal{U} $\n",
    "\n",
    "$ \\mathcal{U} $ must have open sets such that $ \\mathcal{U} \\subseteq \\mathcal{T} $ \n",
    "\n",
    "Ideally the $\\mathcal{U}$ should be related to $\\mathcal{T} $\n",
    "\n",
    "Let $ \\hookrightarrow $, but also $ i $, be the inclusion function. It takes an element in $ A $ and represents it in $ X $.\n",
    "\n",
    "Suppose there is some other set $ Y $\n",
    "\n",
    "$ A \\hookrightarrow X \\to Y $\n",
    "\n",
    "Is equivalent to:\n",
    "\n",
    "$ A \\to Y $\n",
    "\n",
    "And this is because the function from $ X \\to Y $ only uses those elements of $ X $ that are also in $ A $.\n",
    "\n",
    "If the functions $ A \\hookrightarrow X, X \\to Y $ are continuous and that means $ A \\to Y $ is continuous.\n",
    "\n",
    "Suppose there is an open set $ B $ that is a subset of $ X $. It may or may not partially or completely overlap with $ A $ .\n",
    "\n",
    "$ B \\subseteq X $\n",
    "\n",
    "Then the preimage of $ B $ in terms of the inclusion $ i $ is:\n",
    "\n",
    "$ i^{-1}(B) = B \\cap A $\n",
    "\n",
    "Because $ i: A \\hookrightarrow X $ is continous, then the only way that $ i^{-1}(B) $ can exist is if the preimage is the intersection of $ B \\cap A $\n",
    "\n",
    "For $ i $ to be continuous, then $ B \\cap A $ must be an open set (recall the definition of continuous in relation to open sets).\n",
    "\n",
    "Then $ \\{ B \\cap A : B \\text{is open in} X \\} \\subseteq \\mathcal{U} $ (recall that $ B $ was defined to be open)\n",
    "\n",
    "You probably want to include as few sets in $ \\mathcal{U} $ as possible. To include the discrete topology (as many open sets as possible) might not be desirable.\n",
    "\n",
    "A very useful result is that $ \\{ B \\cap A : B \\text{is open in} X \\} $ is already a topology.\n",
    "\n",
    "Therefore the smallest topology on $ A $ is:\n",
    "\n",
    "$ \\{ B \\cap A : B \\text{is open in} X \\} = \\mathcal{U} $\n",
    "\n",
    "Check this video for more: https://www.youtube.com/watch?v=0rzhjbh4ows\n"
   ]
  },
  {
   "cell_type": "code",
   "execution_count": null,
   "id": "0f782104",
   "metadata": {},
   "outputs": [],
   "source": []
  }
 ],
 "metadata": {
  "kernelspec": {
   "display_name": "Octave",
   "language": "octave",
   "name": "octave"
  },
  "language_info": {
   "file_extension": ".m",
   "help_links": [
    {
     "text": "GNU Octave",
     "url": "https://www.gnu.org/software/octave/support.html"
    },
    {
     "text": "Octave Kernel",
     "url": "https://github.com/Calysto/octave_kernel"
    },
    {
     "text": "MetaKernel Magics",
     "url": "https://metakernel.readthedocs.io/en/latest/source/README.html"
    }
   ],
   "mimetype": "text/x-octave",
   "name": "octave",
   "version": "6.4.0"
  }
 },
 "nbformat": 4,
 "nbformat_minor": 5
}
