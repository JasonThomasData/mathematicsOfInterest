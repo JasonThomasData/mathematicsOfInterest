{
 "cells": [
  {
   "cell_type": "markdown",
   "id": "d1b672c3",
   "metadata": {},
   "source": [
    "### Metric spaces\n",
    "\n",
    "A Metric Space is a pair:\n",
    "\n",
    "$ (X, g) $\n",
    "\n",
    "where $ X $ is a set and $ g $ is a function.\n",
    "\n",
    "$ g(x, y) $ is a function that returns the distance between two points.\n",
    "\n",
    "The return value is a member of the reals:\n",
    "\n",
    "$ g: X \\times X \\to \\mathbb{R} $\n",
    "\n",
    "This means that the domain with the pattern $ (x,y) $ are pairs from the set $ X $.\n",
    "\n",
    "It's like saying, given a set, return all of the lengths between every pair in the set.\n",
    "\n",
    "The only time that magnitude between points can be $ 0 $ is when the elements are the same.\n",
    "\n",
    "#### Conditions for the function to satisfy\n",
    "\n",
    "- $ g(x, y) \\le 0 \\wedge g(x, y) = 0 \\iff x = y $\n",
    "\n",
    "This condition stipulates the conditions under which the function returns $ 0 $. This can only happen when the elements are the same, because the distance between them is $ 0 $.\n",
    "\n",
    "- $ g(x, y) = g(y, x) $\n",
    "\n",
    "This is symmetry. This condition means that the distance between two points is an absolute value.\n",
    "\n",
    "- $ \\forall x, y, z \\in X: g(x, y) \\le g(x, z) + g(y, z) $\n",
    "\n",
    "This means that given three points in the set then there are three lines connecting them. There must be one side that is the longest or is the same length as the others and yet it must be smaller than the other two combined. This is a consequence of the triangle inequality theorem. It would be very interesting to find a space that doesn't support this condition given the distance between two points."
   ]
  },
  {
   "cell_type": "markdown",
   "id": "04db59f7",
   "metadata": {},
   "source": [
    "#### Effectiveness of a metric\n",
    "\n",
    "Given a metric, to think about its usefulness, we can think about what does it mean for two points to be close with respect to that metric."
   ]
  },
  {
   "cell_type": "markdown",
   "id": "c0242cec",
   "metadata": {},
   "source": [
    "#### The Euclidian Metric satisfies the axioms\n",
    "\n",
    "This one is what we think of as the basic metric. It finds the distance between two points using Pythagorus' Theorem. More generally, it finds the magnitude of a vector between two points.\n",
    "\n",
    "$ d : R^n \\times R^n \\to R $\n",
    "\n",
    "$ x = (x_1, x_2, ..., x_n) $ \n",
    "\n",
    "$ y = (y_1, y_2, ..., y_n) $\n",
    "\n",
    "$ d(x, y) = \\sqrt{(x_1 - y_1)^2 + (x_2 - y_2)^2 + ... + (x_n - y_n)^2} $\n",
    "\n",
    "For example, for $ R \\times R $ is a 2-dim vector space.\n",
    "\n",
    "Then let there be two vectors:\n",
    "\n",
    "$ x = (x_1, x_2) $\n",
    "\n",
    "$ y = (y_1, y_2) $\n",
    "\n",
    "$ d(x, y) = \\sqrt{(x_1 - y_1)^2 + (x_2 - y_2)^2 } $\n",
    "\n",
    "##### Test 1: d() = 0\n",
    "\n",
    "For any vectors $ x, y \\in R^n $\n",
    "\n",
    "$ d(x, y) = \\sqrt{(x_1 - y_1)^2 + (x_2 - y_2)^2 + ... + (x_n - y_n)^2} $\n",
    "\n",
    "Where every vector component is the same, IOW the vectors are the same, then \n",
    "\n",
    "$ d(x, y) = \\sqrt{0^2 + 0^2 + ... + 0^2} = 0 $\n",
    "\n",
    "This includes when $ x, y $ are zero vectors.\n",
    "\n",
    "_NOTE: I just remembered, this needs to be proven as $ iff $, left-to-right then right-to-left_\n",
    "\n",
    "##### Test 2: \n",
    "\n",
    "$ d(x, y) = \\sqrt{(x_1 - y_1)^2 + (x_2 - y_2)^2 + ... + (x_n - y_n)^2} $\n",
    "\n",
    "$ d(y, x) = \\sqrt{(y_1 - x_1)^2 + (y_2 - x_2)^2 + ... + (y_n - x_n)^2} $\n",
    "\n",
    "The function is known as the sum of squares, which is known to produce only positive values.\n",
    "\n",
    "##### Test 3:\n",
    "\n",
    "$ x, y, z \\in R \\times R \\times R $\n",
    "\n",
    "We wish to show:\n",
    "\n",
    "$ d(x, y) \\le d(x, z) + d(y, z) $\n",
    "\n",
    "Let's take the obvious case where $ d(x, y) $ is the longest side. If it is still shorter then it's true for all shorter sides too.\n",
    "\n",
    "$ \\sqrt{\\sum_\\limits{i=1}^n (x_i - y_i)^2 } \\le \\sqrt{\\sum_\\limits{i=1}^n (x_i - z_i)^2 } + \\sqrt{\\sum_\\limits{i=1}^n (y_i - z_i)^2 } $\n",
    "\n",
    "TODO - FIGURE THIS OUT, VERY IMPORTANT\n"
   ]
  },
  {
   "cell_type": "markdown",
   "id": "e92ab3a8",
   "metadata": {},
   "source": [
    "#### The Absolute Difference metric satisfies the axioms\n",
    "\n",
    "perhaps the simplest of all"
   ]
  },
  {
   "cell_type": "markdown",
   "id": "5f6be1e6",
   "metadata": {},
   "source": [
    "\n",
    "#### The Discrete Metric satisfies the axioms\n",
    "\n",
    "This will be a good example to run through so that I can definitely understand."
   ]
  },
  {
   "cell_type": "markdown",
   "id": "4d1bad75",
   "metadata": {},
   "source": [
    "#### The shortest path in a graph metric (what's its name) satisfies the axioms\n",
    "\n",
    "This one is particularly interesting"
   ]
  },
  {
   "cell_type": "code",
   "execution_count": null,
   "id": "6a3469a1",
   "metadata": {},
   "outputs": [],
   "source": []
  }
 ],
 "metadata": {
  "kernelspec": {
   "display_name": "Octave",
   "language": "octave",
   "name": "octave"
  },
  "language_info": {
   "file_extension": ".m",
   "help_links": [
    {
     "text": "GNU Octave",
     "url": "https://www.gnu.org/software/octave/support.html"
    },
    {
     "text": "Octave Kernel",
     "url": "https://github.com/Calysto/octave_kernel"
    },
    {
     "text": "MetaKernel Magics",
     "url": "https://metakernel.readthedocs.io/en/latest/source/README.html"
    }
   ],
   "mimetype": "text/x-octave",
   "name": "octave",
   "version": "6.4.0"
  }
 },
 "nbformat": 4,
 "nbformat_minor": 5
}
