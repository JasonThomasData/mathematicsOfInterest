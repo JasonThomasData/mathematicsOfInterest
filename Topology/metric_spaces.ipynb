{
 "cells": [
  {
   "cell_type": "markdown",
   "id": "d1b672c3",
   "metadata": {},
   "source": [
    "### Metric spaces\n",
    "\n",
    "A Metric Space is a pair:\n",
    "\n",
    "$ (X, g) $\n",
    "\n",
    "where $ X $ is a set and $ g $ is a function.\n",
    "\n",
    "$ g(x, y) $ is a function that returns the distance between two points.\n",
    "\n",
    "The return value is a member of the reals:\n",
    "\n",
    "$ g: X \\times X \\to \\mathbb{R} $\n",
    "\n",
    "This means that the domain with the pattern $ (x,y) $ are pairs from the set $ X $.\n",
    "\n",
    "It's like saying, given a set, return all of the lengths between every pair in the set.\n",
    "\n",
    "The only time that magnitude between points can be $ 0 $ is when the elements are the same.\n",
    "\n",
    "#### Conditions for the function to satisfy\n",
    "\n",
    "- $ g(x, y) \\le 0 \\wedge g(x, y) = 0 \\iff x = y $\n",
    "\n",
    "This condition stipulates the conditions under which the function returns $ 0 $. This can only happen when the elements are the same, because the distance between them is $ 0 $.\n",
    "\n",
    "- $ g(x, y) = g(y, x) $\n",
    "\n",
    "This condition means that the distance between two points is an absolute value.\n",
    "\n",
    "- $ \\forall x, y, z \\in X: g(x, y) \\le g(x, z) + g(y, z) $\n",
    "\n",
    "This means that given three points in the set then there are three lines connecting them. There must be one side that is the longest or is the same length as the others and yet it must be smaller than the other two combined. This is a consequence of the triangle inequality theorem. It would be very interesting to find a space that doesn't support this condition given the distance between two points.\n"
   ]
  },
  {
   "cell_type": "code",
   "execution_count": null,
   "id": "2d9e7109",
   "metadata": {},
   "outputs": [],
   "source": []
  }
 ],
 "metadata": {
  "kernelspec": {
   "display_name": "Octave",
   "language": "octave",
   "name": "octave"
  },
  "language_info": {
   "file_extension": ".m",
   "help_links": [
    {
     "text": "GNU Octave",
     "url": "https://www.gnu.org/software/octave/support.html"
    },
    {
     "text": "Octave Kernel",
     "url": "https://github.com/Calysto/octave_kernel"
    },
    {
     "text": "MetaKernel Magics",
     "url": "https://metakernel.readthedocs.io/en/latest/source/README.html"
    }
   ],
   "mimetype": "text/x-octave",
   "name": "octave",
   "version": "6.4.0"
  }
 },
 "nbformat": 4,
 "nbformat_minor": 5
}
