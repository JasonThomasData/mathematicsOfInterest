{
 "cells": [
  {
   "cell_type": "markdown",
   "id": "74e324bb",
   "metadata": {},
   "source": [
    "### Subspaces\n",
    "\n",
    "Let:\n",
    "\n",
    "$ (X, d) $ be some metric space\n",
    "\n",
    "$ A \\subset X $\n",
    "\n",
    "$ d|_A : A \\times A $, because it measures distance only between points in $ A $.\n",
    "\n",
    "This is called the induced metric.\n",
    "\n",
    "### Cartesian product of two metric spaces\n",
    "\n",
    "Let $ d, \\hat d $ be metrics\n",
    "\n",
    "$ d_{x,y} = (X\\times Y) \\times (X \\times Y) \\to [0, \\infty) $\n",
    "\n",
    "$ d_{x,y}((x_1, y_1), (x_1, y_1)) = \\max \\left\\{ d(x_1, y_1), \\hat d(x_2, y_2) \\right\\}  $\n",
    "\n",
    "Note, there is also a way to do it by taking the cartesian product of the sets $ X, Y $."
   ]
  },
  {
   "cell_type": "code",
   "execution_count": null,
   "id": "5fc38f16",
   "metadata": {},
   "outputs": [],
   "source": []
  }
 ],
 "metadata": {
  "kernelspec": {
   "display_name": "Octave",
   "language": "octave",
   "name": "octave"
  },
  "language_info": {
   "file_extension": ".m",
   "help_links": [
    {
     "text": "GNU Octave",
     "url": "https://www.gnu.org/software/octave/support.html"
    },
    {
     "text": "Octave Kernel",
     "url": "https://github.com/Calysto/octave_kernel"
    },
    {
     "text": "MetaKernel Magics",
     "url": "https://metakernel.readthedocs.io/en/latest/source/README.html"
    }
   ],
   "mimetype": "text/x-octave",
   "name": "octave",
   "version": "6.4.0"
  }
 },
 "nbformat": 4,
 "nbformat_minor": 5
}
