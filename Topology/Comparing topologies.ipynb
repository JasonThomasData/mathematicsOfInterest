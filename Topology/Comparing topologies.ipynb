{
 "cells": [
  {
   "cell_type": "markdown",
   "id": "6b3482c4",
   "metadata": {},
   "source": [
    "### Coarseness\n",
    "\n",
    "Given two topologies $ \\mathcal{T}, \\mathcal{U} $ we can say $ \\mathcal{T} $ is coarser than $ \\mathcal{U} $ if $ \\mathcal{T} \\subseteq \\mathcal{U} $\n",
    "\n",
    "$ \\mathcal{U} $ is finer than $ \\mathcal{T} $\n",
    "\n",
    "This means: open wrt $ \\mathcal{T} $ implies open wrt $ \\mathcal{U} $\n",
    "\n",
    "### The most coarse topology\n",
    "\n",
    "The Indiscrete Topology is the most coarse.\n",
    "\n",
    "This is the one where $ \\mathcal{T} = \\{\\emptyset, X\\} $\n",
    "\n",
    "### The most fine topology\n",
    "\n",
    "The Discrete Topology is the most fine.\n",
    "\n",
    "This is the one where the topology is essentially the power set of X:\n",
    "\n",
    "$ \\mathcal{D} = P(X) $\n",
    "\n",
    "### Not coarser or finer\n",
    "\n",
    "$ \\mathcal{T} \\not \\subseteq \\mathcal{U} $ and $ \\mathcal{U} \\not \\subseteq \\mathcal{T} $\n",
    "\n",
    "### Continuity and coarseness\n",
    "\n",
    "$ \\mathcal{T, U} $ are two topologies on $ X $ \n",
    "\n",
    "Then these are equivalent:\n",
    "\n",
    "i) $ \\mathcal{T} \\subseteq \\mathcal{U} $\n",
    "\n",
    "ii) Given a topological space $ (Y, \\mathcal{V}) $, $ f: X \\to Y $ is continuous wrt $ \\mathcal{T} $ implies $ f $ is continuous wrt $ \\mathcal{U} $\n",
    "\n",
    "iii) Given a topological space $ (Y, \\mathcal{V}) $, $ g: Y \\to X $ is continuous wrt $ \\mathcal{U} $ implies $ f $ is continuous wrt $ \\mathcal{T} $"
   ]
  },
  {
   "cell_type": "code",
   "execution_count": null,
   "id": "1b922a77",
   "metadata": {},
   "outputs": [],
   "source": []
  }
 ],
 "metadata": {
  "kernelspec": {
   "display_name": "Octave",
   "language": "octave",
   "name": "octave"
  },
  "language_info": {
   "file_extension": ".m",
   "help_links": [
    {
     "text": "GNU Octave",
     "url": "https://www.gnu.org/software/octave/support.html"
    },
    {
     "text": "Octave Kernel",
     "url": "https://github.com/Calysto/octave_kernel"
    },
    {
     "text": "MetaKernel Magics",
     "url": "https://metakernel.readthedocs.io/en/latest/source/README.html"
    }
   ],
   "mimetype": "text/x-octave",
   "name": "octave",
   "version": "6.4.0"
  }
 },
 "nbformat": 4,
 "nbformat_minor": 5
}
