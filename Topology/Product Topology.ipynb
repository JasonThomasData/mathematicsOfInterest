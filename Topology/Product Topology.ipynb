{
 "cells": [
  {
   "cell_type": "markdown",
   "id": "41f65f45",
   "metadata": {},
   "source": [
    "### Product Topology\n",
    "\n",
    "Given two topological spaces:\n",
    "\n",
    "$ (X, \\mathcal{T}), (Y, \\mathcal{U}) $\n",
    "\n",
    "Then the product topology is the product of these topologies.\n",
    "\n",
    "Let: $ B_1 $ be the basis for $ \\mathcal{T} $ and $ B_2 $ be the basis for $ \\mathcal{U} $\n",
    "\n",
    "Then the bases for $ X \\times Y $ is $ \\{ u \\times v : u \\in B_1, v \\in B_2 \\} $\n",
    "\n",
    "That is, we iterate through the bases for each topology and cross them.\n",
    "\n",
    "#### Example \n",
    "\n",
    "Say $ (\\mathbb{R}, \\epsilon) $ is a basis for the Euclidean Topology on $ \\mathbb{R} $ This is the topology induced from the Euclidean Metric.\n",
    "\n",
    "Then the basis for the topology above is $ B = \\{ (a, b) \\in R : a < b\\} $ for as many pairs of $ a,b $ as you like. If you want a courser topology then you would have fewer pairs of $ (a, b) $. This is like some open interval on the real line.\n",
    "\n",
    "Then the topology will be a set of open sets, and you will have as many open sets as pairs of $ a, b $, in addition to the entire set $ \\mathbb{R} $ and $ \\emptyset $\n",
    "\n",
    "Then the product topology on $ R^2 $ $ (\\mathbb{R}, \\epsilon) $ has a basis that is the product of $ B_1 \\times B_2 $\n",
    "\n",
    "Then for each pair $ (a, b) \\in B_1 $ and $ (c, d) \\in B_2 $ you will get an open set like this:\n",
    "\n",
    "![pic of open set](prod_top_basis.png)\n",
    "\n",
    "But if you defined finer bases for the 1-dimensional $ \\mathbb{R} $ then you would have more sets in the product topology.\n",
    "\n"
   ]
  },
  {
   "cell_type": "code",
   "execution_count": null,
   "id": "acab3c60",
   "metadata": {},
   "outputs": [],
   "source": []
  }
 ],
 "metadata": {
  "kernelspec": {
   "display_name": "Octave",
   "language": "octave",
   "name": "octave"
  },
  "language_info": {
   "file_extension": ".m",
   "help_links": [
    {
     "text": "GNU Octave",
     "url": "https://www.gnu.org/software/octave/support.html"
    },
    {
     "text": "Octave Kernel",
     "url": "https://github.com/Calysto/octave_kernel"
    },
    {
     "text": "MetaKernel Magics",
     "url": "https://metakernel.readthedocs.io/en/latest/source/README.html"
    }
   ],
   "mimetype": "text/x-octave",
   "name": "octave",
   "version": "6.4.0"
  }
 },
 "nbformat": 4,
 "nbformat_minor": 5
}
