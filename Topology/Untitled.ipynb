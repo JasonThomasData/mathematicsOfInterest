{
 "cells": [
  {
   "cell_type": "markdown",
   "id": "f4d86a3b",
   "metadata": {},
   "source": [
    "### Prove that a metric, with some fixed point, is continuous\n",
    "\n",
    "![question](Screenshot_2023-05-30_13-33-14.png)\n",
    "\n",
    "Although $ a $ is fixed, we need another number that we can fix, which is $ b $\n",
    "\n",
    "This proof uses the reverse triangle inequality, and we can say \"we proved the reverse triangle inequality in assignment 1\".\n",
    "\n",
    "![proof](Screenshot_2023-05-30_13-33-42.png)"
   ]
  },
  {
   "cell_type": "code",
   "execution_count": null,
   "id": "d0d48b5e",
   "metadata": {},
   "outputs": [],
   "source": []
  }
 ],
 "metadata": {
  "kernelspec": {
   "display_name": "Octave",
   "language": "octave",
   "name": "octave"
  },
  "language_info": {
   "file_extension": ".m",
   "help_links": [
    {
     "text": "GNU Octave",
     "url": "https://www.gnu.org/software/octave/support.html"
    },
    {
     "text": "Octave Kernel",
     "url": "https://github.com/Calysto/octave_kernel"
    },
    {
     "text": "MetaKernel Magics",
     "url": "https://metakernel.readthedocs.io/en/latest/source/README.html"
    }
   ],
   "mimetype": "text/x-octave",
   "name": "octave",
   "version": "6.4.0"
  }
 },
 "nbformat": 4,
 "nbformat_minor": 5
}
