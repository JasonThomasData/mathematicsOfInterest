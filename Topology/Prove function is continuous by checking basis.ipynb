{
 "cells": [
  {
   "cell_type": "markdown",
   "id": "e2311aa1",
   "metadata": {},
   "source": [
    "### Prove a function is continuous by checking elements of a basis\n",
    "\n",
    "The lecturer says this is \"an extremely important theorem\".\n",
    "\n",
    "Let $ (X, \\mathcal{T}), (Y, \\mathcal{U}) $ be topological spaces and let $ B $ be a bases for the topology on $ Y $. A function $ f: X \\to Y $ is continuous iff $ f^{-i}(G) \\in \\mathcal{T} $ whenever $ G \\in B $.\n",
    "\n",
    "Note above, $ B $ could be replaced with $ S $, meaning instead of a basis we could consider a sub-basis.\n",
    "\n",
    "In the example the lecturer used a metric topology as an example.\n",
    "\n",
    "#### Example\n",
    "\n",
    "Let $ X = \\prod_\\limits{n=1}^\\infty \\{0, 1\\} $\n",
    "\n",
    "In other words \"every element is an infinite sequence of 0s and 1s. $ \\rho(x,y) $ is the metric.\n",
    "\n",
    "In the metric, $ x = x_1, x_2, ... $, and similar for $ y $\n",
    "\n",
    "$ \\rho(x, y) = 0 $ if $ x = y $\n",
    "\n",
    "Otherwise:\n",
    "\n",
    "$ \\rho(x, y) = 2^{-n} n = \\min \\{x_n \\ne y_n \\} $\n",
    "\n",
    "So intuitively this means that it iterates over sequences $ x_i, y_i $ and as soon as the digits don't match, then this $ i $ is used to find $ 2^{-i} $\n",
    "\n",
    "Now, let $ (X, \\mathcal{T}) $ be a topology induced from the metric defined above.\n",
    "\n",
    "There is a function:\n",
    "\n",
    "$ f : X \\to X $\n",
    "\n",
    "$ f : x_1, x_2, x_3, ... x_n \\to x_2, x_3, x_4, ... x_n $\n",
    "\n",
    "So it just chops off the first digit. Is this function continuous?\n",
    "\n",
    "The lecturer says to use the theorem listed above because a _metric topology will have a basis of open balls_.\n",
    "\n",
    "These balls:\n",
    "\n",
    "$ B = \\{B(x; 2^{-n}), x \\in X, n \\le 1 \\} $\n",
    "\n",
    "$ f^{-1}(B(x; 2^{-n})) = \\{y : f(y) \\in B(x; 2^{-n}) \\} $\n",
    "\n",
    "$ f^{-1}(B(x; 2^{-n})) = \\{y : \\rho(f(y), x) < 2^{-n} \\} $\n",
    "\n",
    "$ f^{-1}(B(x; 2^{-n})) = \\{y : f(y), x \\text{ are the same up until } n \\} $\n",
    "\n",
    "$ f^{-1}(B(x; 2^{-n})) = \\{y : y_2,y_3,...y_{n+1} = x_1,x_2,...x_n \\} $\n",
    "\n",
    "$ f^{-1}(B(x; 2^{-n})) = B(X_0, 2^{-n+1}) \\cup B(X_1, 2^{-n+1}) $\n",
    "\n",
    "And by the definition of continuity between topological spaces, if a preimage can be written as a union of open balls then the function is continuous. That concludes proving this."
   ]
  },
  {
   "cell_type": "code",
   "execution_count": null,
   "id": "6b167119",
   "metadata": {},
   "outputs": [],
   "source": []
  }
 ],
 "metadata": {
  "kernelspec": {
   "display_name": "Octave",
   "language": "octave",
   "name": "octave"
  },
  "language_info": {
   "file_extension": ".m",
   "help_links": [
    {
     "text": "GNU Octave",
     "url": "https://www.gnu.org/software/octave/support.html"
    },
    {
     "text": "Octave Kernel",
     "url": "https://github.com/Calysto/octave_kernel"
    },
    {
     "text": "MetaKernel Magics",
     "url": "https://metakernel.readthedocs.io/en/latest/source/README.html"
    }
   ],
   "mimetype": "text/x-octave",
   "name": "octave",
   "version": "6.4.0"
  }
 },
 "nbformat": 4,
 "nbformat_minor": 5
}
