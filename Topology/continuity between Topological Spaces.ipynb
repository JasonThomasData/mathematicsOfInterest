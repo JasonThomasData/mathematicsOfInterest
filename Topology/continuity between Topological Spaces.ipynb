{
 "cells": [
  {
   "cell_type": "markdown",
   "id": "e63d34c6",
   "metadata": {},
   "source": [
    "### Continuity of functions between Topological Spaces\n",
    "\n",
    "Given topological spaces $ (X, \\mathcal{T}), (Y, \\mathcal{U}) $\n",
    "\n",
    "#### Continuous \n",
    "\n",
    "A function $ f: X \\to Y $ is continuous if, given open set $ G \\in \\mathcal{U} $ then the primage $ f^{-1}(G) \\in \\mathcal{T} $\n",
    "\n",
    "In other words, the preimage of an open set is open.\n",
    "\n",
    "#### Unsure if this is the same as above\n",
    "\n",
    "Given the topological spaces defined above, a function $ f: X \\to Y $ is continuous iff $ f $ is continuous for all $ x \\in X $ (proof at 25:30 in lecture 9)\n",
    "\n",
    "#### Continuous at a point\n",
    "\n",
    "A function $ f $ is continuous at $ x \\in X $ if whenever $ G \\in \\mathcal{U} $ and $ f(x) \\in G $, then there exists an open set $ H \\in \\mathcal{T} $ such that $ x \\in H $ and $ f(H) \\subseteq G $\n",
    "\n",
    "#### The identity function on a topology is continuous\n",
    "\n",
    "$ id_x : X \\to X, x \\to x $ is continuous\n",
    "\n",
    "Let:\n",
    "\n",
    "$ \\mathcal{T} $ be a topology on $ X $\n",
    "\n",
    "$ G \\in \\mathcal{T} $\n",
    "\n",
    "---\n",
    "Proof\n",
    "\n",
    "$ id_x^{-1}(G) = G $ is open, because the function doesn't do anything.\n",
    "\n",
    "The pre-image is the same open set, so this is continuous.\n",
    "\n",
    "#### The composition of two topologies is continuous\n",
    "\n",
    "This is analogous to the notion of transitive.\n",
    "\n",
    "Let:\n",
    "\n",
    "$ (X, \\mathcal{T}), (Y, \\mathcal{U}), (Z, \\mathcal{V}) $ be topological spaces.\n",
    "\n",
    "$ g: X \\to Y $\n",
    "\n",
    "$ f: Y \\to Z $\n",
    "\n",
    "Then $ f \\cdot g : X \\to Z $ is continous\n",
    "\n",
    "---\n",
    "Proof\n",
    "\n",
    "Fix $ G \\in \\mathcal{V} $ open in $ Z $.\n",
    "\n",
    "We know that $ f $ is continuous so $ f^{-1}(G) \\in \\mathcal{U} $ is open in $ Y $\n",
    "\n",
    "We know that $ g $ is continuous so $ g^{-1}(f^{-1}(G)) \\in \\mathcal{T} $ is open in $ X $\n",
    "\n",
    "$ (f \\cdot g)^{-1}(G) = \\{ x \\in X: (f-g)(x) \\in G\\} $\n",
    "\n",
    "$ (f \\cdot g)^{-1}(G) = \\{ x \\in X: (f(g(x)) \\in G\\} $\n",
    "\n",
    "That's the same as: $ g^{-1}(f^{-1}(G) $\n",
    "\n",
    "This is sufficient to show the chain of continuity.\n",
    "\n",
    "### Continuity and the Discrete Topology\n",
    "\n",
    "Let $ (X, \\mathcal{T}) $ be a topology. $ \\mathcal{T} $ is the discrete topology iff for any topological space $ (Y, \n",
    "\\mathcal{V}) $ $ f: X \\to Y $ is continuous. In other words, every function out of $ X $ is continuous.\n",
    "\n",
    "### Continuity and the Indiscrete Topology\n",
    "\n",
    "Let $ (X, \\mathcal{T}) $ be a topology. $ \\mathcal{T} $ is the indiscrete topology iff for any topological space $ (Y, \n",
    "\\mathcal{V}) $ $ f: Y \\to X $ is continuous. In other words, every function into $ X $ is continuous.\n",
    "\n",
    "\n"
   ]
  },
  {
   "cell_type": "code",
   "execution_count": null,
   "id": "975b6e9b",
   "metadata": {},
   "outputs": [],
   "source": []
  }
 ],
 "metadata": {
  "kernelspec": {
   "display_name": "Octave",
   "language": "octave",
   "name": "octave"
  },
  "language_info": {
   "file_extension": ".m",
   "help_links": [
    {
     "text": "GNU Octave",
     "url": "https://www.gnu.org/software/octave/support.html"
    },
    {
     "text": "Octave Kernel",
     "url": "https://github.com/Calysto/octave_kernel"
    },
    {
     "text": "MetaKernel Magics",
     "url": "https://metakernel.readthedocs.io/en/latest/source/README.html"
    }
   ],
   "mimetype": "text/x-octave",
   "name": "octave",
   "version": "6.4.0"
  }
 },
 "nbformat": 4,
 "nbformat_minor": 5
}
