{
 "cells": [
  {
   "cell_type": "markdown",
   "id": "d7681fb8",
   "metadata": {},
   "source": [
    "### Open functions between toplogical spaces\n",
    "\n",
    "An open function is similar in definition to a continuous function.\n",
    "\n",
    "Given topological spaces $ (X, \\mathcal{T}), (Y, \\mathcal{U}) $\n",
    "\n",
    "A function $ f: X \\to Y $ is open if, given open set $ G \\in \\mathcal{T} $, then $ f(G) \\in \\mathcal{U} $\n",
    "\n",
    "The end of lecture 10 has a great example of contiunity not being the same as open"
   ]
  },
  {
   "cell_type": "code",
   "execution_count": null,
   "id": "723bb501",
   "metadata": {},
   "outputs": [],
   "source": []
  }
 ],
 "metadata": {
  "kernelspec": {
   "display_name": "Octave",
   "language": "octave",
   "name": "octave"
  },
  "language_info": {
   "file_extension": ".m",
   "help_links": [
    {
     "text": "GNU Octave",
     "url": "https://www.gnu.org/software/octave/support.html"
    },
    {
     "text": "Octave Kernel",
     "url": "https://github.com/Calysto/octave_kernel"
    },
    {
     "text": "MetaKernel Magics",
     "url": "https://metakernel.readthedocs.io/en/latest/source/README.html"
    }
   ],
   "mimetype": "text/x-octave",
   "name": "octave",
   "version": "6.4.0"
  }
 },
 "nbformat": 4,
 "nbformat_minor": 5
}
