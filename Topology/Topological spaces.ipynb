{
 "cells": [
  {
   "cell_type": "markdown",
   "id": "c47c8b4f",
   "metadata": {},
   "source": [
    "### Topological spaces\n",
    "\n",
    "We need to stop thinking about metric spaces if we are going to achieve an abstract notion of continuity.\n",
    "\n",
    "#### A topology\n",
    "\n",
    "Let X be a set. A topology $ \\mathcal{T} $ on $ X $ is is a collection of subsets of $ X $: $ \\mathcal{T} \\subseteq P(X) $\n",
    "\n",
    "This must satisfy some axioms:\n",
    "\n",
    "##### ax 1) \n",
    "\n",
    "$ \\emptyset , X \\in \\mathcal{T} $\n",
    "\n",
    "##### ax 2)\n",
    "\n",
    "if $ \\{ A_\\lambda: \\lambda \\in \\Lambda \\} \\subseteq \\mathcal{T} $ then $ \\bigcup\\limits_{\\lambda \\in \\Lambda} A_\\lambda \\in \\mathcal{T} $\n",
    "\n",
    "I read this as \"If there are sets A-sub-lambda in the Topology, then the union of those sets is also in the topology.\n",
    "\n",
    "In other words, $ \\mathcal{T} $ is closed under arbitrary unions.\n",
    "\n",
    "##### ax 3)\n",
    "\n",
    "if $ \\{ A_i : 1 \\le i \\le n \\} \\subseteq \\mathcal{T} $ then $ \\bigcap_{i=1}^n \\in \\mathcal{T} $\n",
    "\n",
    "And I think this means that if there's a finite number of sets we want to focus on in the $ \\mathcal{T} $ then the union of those finite sets is also in the $ \\mathcal{T} $\n",
    "\n",
    "In other words, $ \\mathcal{T} $ is closed under finite intersections.\n",
    "\n",
    "#### A Topological space\n",
    "\n",
    "$ (X, \\mathcal{T} ) $\n",
    "\n",
    "#### Induced Topology\n",
    "\n",
    "If a topology applies to a metric space to create a topological space, then it is \"induced\" or a \"metric topology\".\n",
    "\n",
    "For example, let's suppose that $ (X, \\rho) $ is verified as a metric space.\n",
    "\n",
    "$ \\mathcal{T} = \\{U \\in X: U\\space \\text{is open with respect to}\\space \\rho \\} $\n",
    "\n",
    "In other words, $ \\mathcal{T} $ is a topology on $ X $, if $ U \\in X $ \n",
    "\n",
    "If one metric induces a topology, then we should expect many metrics to induce the same topology.\n",
    "\n",
    "Starting with a metric gives a unique topology, but starting with a metrisable topology doesn't give you a unique metric.\n",
    "\n",
    "#### Euclidean Topology\n",
    "\n",
    "If $ X = R^n $ and $ \\rho $ is the Eucldian Metric, then the induced topology is the Euclidean Topology.\n",
    "\n",
    "If you have a topology induced from the Euclidian Metric, then if it is finite, then the interior $ A^o = \\emptyset $. This is because an open ball in the real number line is an open interval, which has an uncountably infinite number of elements.\n",
    "\n",
    "#### The Indiscrete Topology\n",
    "\n",
    "The smallest topology (fewest open sets) is $ \\mathcal{T} = \\{ \\emptyset, X \\} $\n",
    "\n",
    "#### The Discrete Topology\n",
    "\n",
    "The largest topology (most open sets) is $ \\mathcal{T} = P(X) $\n",
    "\n",
    "#### Partial topology\n",
    "\n",
    "A partial order is something like $ \\le $. It is not an equivalence relation because it is not symmetric. But it is reflexive and it is transitive.\n",
    "\n",
    "Let there be a topology $ (X, \\mathcal{T}) $. Let there be a set $ A $, $ A \\subseteq X $. Then $ \\mathcal{T} $ is partialy ordered.\n",
    "\n",
    "#### Interior of partial topology\n",
    "\n",
    "Let there be a topology $ (X, \\mathcal{T}) $. Let there be a set $ A $, $ A \\subseteq X $. Let $ A^o $ be the largest open subset of $ X $ wrt the partial order $ \\subseteq $.\n",
    "\n",
    "$ A^o \\in \\mathcal{T} $\n",
    "\n",
    "$ A^o \\subseteq A $\n",
    "\n",
    "Then the below observation holds:\n",
    "\n",
    "If $ G \\in \\mathcal{T} $ and $ G \\subseteq A $ then $ G \\subseteq A^o $\n",
    "\n",
    "There is a theorem: every $ A \\subseteq X $ has a unique interior."
   ]
  },
  {
   "cell_type": "code",
   "execution_count": null,
   "id": "900e1c74",
   "metadata": {},
   "outputs": [],
   "source": []
  }
 ],
 "metadata": {
  "kernelspec": {
   "display_name": "Octave",
   "language": "octave",
   "name": "octave"
  },
  "language_info": {
   "file_extension": ".m",
   "help_links": [
    {
     "text": "GNU Octave",
     "url": "https://www.gnu.org/software/octave/support.html"
    },
    {
     "text": "Octave Kernel",
     "url": "https://github.com/Calysto/octave_kernel"
    },
    {
     "text": "MetaKernel Magics",
     "url": "https://metakernel.readthedocs.io/en/latest/source/README.html"
    }
   ],
   "mimetype": "text/x-octave",
   "name": "octave",
   "version": "6.4.0"
  }
 },
 "nbformat": 4,
 "nbformat_minor": 5
}
