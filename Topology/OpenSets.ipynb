{
 "cells": [
  {
   "cell_type": "markdown",
   "id": "0bfe2044",
   "metadata": {},
   "source": [
    "### Open sets\n",
    "\n",
    "Recall the Epsilon-Delta notion of continuity. Regarding the codomain, where g is a metric then $ g(X, a) \\le \\delta $\n",
    "\n",
    "We can represent this as an open interval $ (a - \\delta, a + \\delta) $\n",
    "\n",
    "$ (X, g) $ is a metric space.\n",
    "\n",
    "$ a \\in X $\n",
    "\n",
    "$ r > 0 $\n",
    "\n",
    "$ B(a;r) = \\{x \\in X: g(x, a) < r \\}$\n",
    "\n",
    "Then above we defined an open ball. It's open because the inequality is strictly less than $ r $.\n",
    "\n",
    "The nice thing about an open ball is that $ \\forall x \\in B(a;r) $, there is a radius $ s > 0 $ where $ B(x;s) \\subset B(a;r) $.\n",
    "\n",
    "I have seen a nice proof on this subject but didn't have time to write it down. It involves the triangle equality and would be a great proof to learn so I can think about it on the train :D\n",
    "\n",
    "##### A subsetc $ A \\subset X $ is open if it can be written as a union of open balls\n",
    "\n",
    "This is a theorem and I believe it's a consequence of the proof mentioned above.\n"
   ]
  },
  {
   "cell_type": "code",
   "execution_count": null,
   "id": "60f21894",
   "metadata": {},
   "outputs": [],
   "source": []
  }
 ],
 "metadata": {
  "kernelspec": {
   "display_name": "Octave",
   "language": "octave",
   "name": "octave"
  },
  "language_info": {
   "file_extension": ".m",
   "help_links": [
    {
     "text": "GNU Octave",
     "url": "https://www.gnu.org/software/octave/support.html"
    },
    {
     "text": "Octave Kernel",
     "url": "https://github.com/Calysto/octave_kernel"
    },
    {
     "text": "MetaKernel Magics",
     "url": "https://metakernel.readthedocs.io/en/latest/source/README.html"
    }
   ],
   "mimetype": "text/x-octave",
   "name": "octave",
   "version": "6.4.0"
  }
 },
 "nbformat": 4,
 "nbformat_minor": 5
}
