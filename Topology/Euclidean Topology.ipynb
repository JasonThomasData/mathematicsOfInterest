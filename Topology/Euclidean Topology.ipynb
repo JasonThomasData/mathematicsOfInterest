{
 "cells": [
  {
   "cell_type": "markdown",
   "id": "e6fdc041",
   "metadata": {},
   "source": [
    "### Euclidean Topology\n",
    "\n",
    "Given $ S \\subseteq \\mathbb{R} $\n",
    "\n",
    "$ S $ is open when $ \\forall x \\in S $, $ \\exists a, b \\in \\mathbb{R}: x \\in (a, b) \\subset S $\n",
    "\n",
    "What this means is that given the real numbers, a subset of the real number line is open if every point in that subset can be bounded by an open interval $ (a, b) $"
   ]
  },
  {
   "cell_type": "code",
   "execution_count": null,
   "id": "c916623c",
   "metadata": {},
   "outputs": [],
   "source": []
  }
 ],
 "metadata": {
  "kernelspec": {
   "display_name": "Octave",
   "language": "octave",
   "name": "octave"
  },
  "language_info": {
   "file_extension": ".m",
   "help_links": [
    {
     "text": "GNU Octave",
     "url": "https://www.gnu.org/software/octave/support.html"
    },
    {
     "text": "Octave Kernel",
     "url": "https://github.com/Calysto/octave_kernel"
    },
    {
     "text": "MetaKernel Magics",
     "url": "https://metakernel.readthedocs.io/en/latest/source/README.html"
    }
   ],
   "mimetype": "text/x-octave",
   "name": "octave",
   "version": "6.4.0"
  }
 },
 "nbformat": 4,
 "nbformat_minor": 5
}
