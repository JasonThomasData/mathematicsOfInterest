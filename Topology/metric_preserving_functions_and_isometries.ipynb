{
 "cells": [
  {
   "cell_type": "markdown",
   "id": "3f1a6b5b",
   "metadata": {},
   "source": [
    "### Metric preserving functions\n",
    "\n",
    "Let:\n",
    "\n",
    "$ (X, d), (Y, \\hat d) $ be metric spaces.\n",
    "\n",
    "$ f : X \\to Y $ be a function between them.\n",
    "\n",
    "$ x, y $ be two points in $ X $.\n",
    "\n",
    "A function between the two metric spaces is said to preserve the function if\n",
    "\n",
    "$ \\hat d(f(x), f(y)) = d(x, y) $\n",
    "\n",
    "Forall $ x, y \\in X $\n",
    "\n",
    "If this is true then the function is continuous and injective (one-to-one).\n",
    "\n",
    "#### Isometries\n",
    "\n",
    "These are stronger than metric preserving functions, because they are also surjective.\n",
    "\n",
    "Then this means that there would be a bijection between the two metric spaces.\n",
    "\n",
    "Recall that surjective means every member of the codomain is reached by some element in the domain.\n",
    "\n",
    "If two spaces are isometric then we can treat them as the same.\n",
    "\n",
    "_NOTE - The lecturer showed that if you take the Euclidian Metric between two metrics, and if it's the same result, then it is an isometry. Show this when you get time..._\n",
    "\n",
    "#### Example of metric preserving\n",
    "\n",
    "Rotation on $ R^2 $ is metric preserving. It should be clear that a linear transformation that rotates $ R^2 $ is metric preserving.\n",
    "\n",
    "Let:\n",
    "\n",
    "$ (R^2, d) $ be the Euclidian Metric over $ R^2 $\n",
    "\n",
    "$ f: R^2 \\to R^2, f(x, y, \\theta) $ be the function\n",
    "\n",
    "$ \\left[ \\begin{matrix} \\cos \\theta & -\\sin \\theta \\\\ \\sin \\theta & \\cos \\theta \\end{matrix} \\right] $ be the rotation matrix. This is a linear transformation.\n",
    "\n",
    "$ f(x, y, \\theta) = \\left[ \\begin{matrix} \\cos \\theta & -\\sin \\theta \\\\ \\sin \\theta & \\cos \\theta \\end{matrix} \\right] \\left[ \\begin{matrix} x \\\\ y \\end{matrix} \\right] $ be a function that rotates a space by $ \\theta $\n",
    "\n",
    "Notice that since we've rotated the space, then the absolute distances between points remain the same. This means that $ f $ is a metric preserving function.\n",
    "\n",
    "This is also an isometry but I am unable to prove this currently.\n",
    "\n"
   ]
  },
  {
   "cell_type": "code",
   "execution_count": null,
   "id": "c7b85fba",
   "metadata": {},
   "outputs": [],
   "source": []
  }
 ],
 "metadata": {
  "kernelspec": {
   "display_name": "Octave",
   "language": "octave",
   "name": "octave"
  },
  "language_info": {
   "file_extension": ".m",
   "help_links": [
    {
     "text": "GNU Octave",
     "url": "https://www.gnu.org/software/octave/support.html"
    },
    {
     "text": "Octave Kernel",
     "url": "https://github.com/Calysto/octave_kernel"
    },
    {
     "text": "MetaKernel Magics",
     "url": "https://metakernel.readthedocs.io/en/latest/source/README.html"
    }
   ],
   "mimetype": "text/x-octave",
   "name": "octave",
   "version": "6.4.0"
  }
 },
 "nbformat": 4,
 "nbformat_minor": 5
}
