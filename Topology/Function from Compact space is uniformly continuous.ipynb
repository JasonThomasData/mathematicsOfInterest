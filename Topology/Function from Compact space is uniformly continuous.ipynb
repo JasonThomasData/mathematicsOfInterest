{
 "cells": [
  {
   "cell_type": "markdown",
   "id": "4ee4c01d",
   "metadata": {},
   "source": [
    "### Function from a compact space is uniformly continuous\n",
    "\n",
    "Let: \n",
    "\n",
    "$ (X, \\rho), (Y, \\sigma) $ be metric spaces\n",
    "\n",
    "$ X $ is compact\n",
    "\n",
    "$ f: X \\to Y $ be a continuous function\n",
    "\n",
    "Then we can show that $ f $ is uniformly continuous.\n",
    "\n",
    "### Notes\n",
    "\n",
    "Recall that a set is compact if it can be covered by finitely many coverings.\n",
    "\n",
    "And also recall the definition of uniform continuity and observe that it is different from standard continuity. In standard continuity, the size of $ \\delta $ depends on $ \\epsilon $ but also possibly some point in $ X $. If we can show that the $ \\delta $ only depends on $ \\epsilon $ and no point of $ X $ then the continuity is uniform continuity.\n",
    "\n",
    "I wrote a notebook on the differences.\n",
    "\n",
    "### Proof\n",
    "\n",
    "Suppose $ f: X \\to Y $ is continuous.\n",
    "\n",
    "The strategy is to show that the continuity doesn't depend on $ x $\n",
    "\n",
    "Fix $ \\epsilon > 0 $\n",
    "\n",
    "We're allowed to choose any $ \\epsilon $:\n",
    "\n",
    "$ \\rho(x, y) < \\delta \\to \\sigma(f(x), f(y)) < \\epsilon $\n",
    "\n",
    "Then in the space $ X $, every $ y $ can be found inside a ball with centre at $ x $, such that $ B(x, \\frac{\\delta(x)}{2}) = U_x $\n",
    "\n",
    "Notice that $\\delta $ here does depend on $ x $ but this isn't the value of $ \\delta $ we ultimately want to find. Also notice it is over $ 2 $. This is important later because we will employ the triangle inequality (NOTE I didn't end up doing that).\n",
    "\n",
    "Also we set each ball to be $ U_x $ because every point is in some $ U_x $, so that means:\n",
    "\n",
    "$ U_{x \\in X} = B \\left(x, \\frac{\\delta(x)}{2}\\right) $ \n",
    "\n",
    "And because $ X $ is compact then the coverings are finite. Then $ X $ is a subset of the union.\n",
    "\n",
    "$ X \\subseteq \\{ \\bigcup_\\limits{i=1} U_{x_i} \\} $\n",
    "\n",
    "$ X \\subseteq \\left\\{ \\bigcup_\\limits{i=1} B \\left(x_i, \\frac{\\delta(x_i)}{2}\\right) \\right\\} $\n",
    "\n",
    "Thanks to the well-ordering principle, then set $ \\delta $ to be the smallest delta from the open balls that cover $ X $ (the union of balls covers $ X $).\n",
    "\n",
    "$ \\delta = \\min \\left\\{ \\frac{\\delta(x_1)}{2}, \\frac{\\delta(x_1)}{2}, ... , \\frac{\\delta(x_n)}{2} \\right\\} > 0 $\n",
    "\n",
    "It is very important that $ \\delta $ must be larger than $ 0 $. To get to that point it was important to make sure that the indexing set of $ x $ was finite. Consider if the number of balls was infinite. It might be possible for one of them to have a radius of $ \\frac{\\delta(x)}{2} $. It's important because we want $ \\delta $ to be positive.\n",
    "\n",
    "Since we've found the smallest ball that covers one part of the compact set, we can use the same ball to cover all of the compact set. We don't need $ x $ to determine $ \\delta $, so we say the function is uniformly continuous.\n",
    "\n",
    "So we fixed $ \\epsilon $ originally and have now found $ \\delta $. (this essentially takes care of the first part of what it means to be uniformly continuous).\n",
    "\n",
    "$ \\forall x, y \\in X: $ \n",
    "\n",
    "$ \\rho(x, y) < \\delta \\to \\sigma(f(x), f(y)) < \\epsilon $\n",
    "\n",
    "NOTE: this prove may end up being not quite rigourous enough, in which case you'll need to use the fact that $ \\delta/2 $"
   ]
  },
  {
   "cell_type": "code",
   "execution_count": null,
   "id": "6d8b956a",
   "metadata": {},
   "outputs": [],
   "source": []
  }
 ],
 "metadata": {
  "kernelspec": {
   "display_name": "Octave",
   "language": "octave",
   "name": "octave"
  },
  "language_info": {
   "file_extension": ".m",
   "help_links": [
    {
     "text": "GNU Octave",
     "url": "https://www.gnu.org/software/octave/support.html"
    },
    {
     "text": "Octave Kernel",
     "url": "https://github.com/Calysto/octave_kernel"
    },
    {
     "text": "MetaKernel Magics",
     "url": "https://metakernel.readthedocs.io/en/latest/source/README.html"
    }
   ],
   "mimetype": "text/x-octave",
   "name": "octave",
   "version": "6.4.0"
  }
 },
 "nbformat": 4,
 "nbformat_minor": 5
}
