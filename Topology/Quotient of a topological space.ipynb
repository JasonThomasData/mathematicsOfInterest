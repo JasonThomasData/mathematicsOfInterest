{
 "cells": [
  {
   "cell_type": "markdown",
   "id": "da760b3a",
   "metadata": {},
   "source": [
    "### Quotient of a topological space\n",
    "\n",
    "Recall these familiar concepts:\n",
    "\n",
    "$ (X, \\mathcal{T}) $ be a topological space.\n",
    "\n",
    "$ \\sim $ be an equivalence relation on $ X $.\n",
    "\n",
    "$ X/\\sim \\space= \\{[x] : x \\in X \\} $, be the quotient on $ X $. Recall this is the set of all equivalence classes.\n",
    "\n",
    "$ \\eta: X \\to X/\\sim $ be the natural projection $ x \\to [x] $\n",
    "\n",
    "Now we can define the Quotient Topology $ \\mathcal{T}_\\eta $.\n",
    "\n",
    "$ \\mathcal{T}_\\eta $ is the finest (closest to the discrete) topology that $ \\eta $ is continuous.\n",
    "\n",
    "$ \\mathcal{T}_\\eta = \\{G \\subseteq (X/\\sim): \\eta^{-1} (G) \\in \\mathcal{T} \\} $\n",
    "\n",
    "This means that $ G \\subseteq (X/\\sim) $ is open if $ \\{ x \\in X: [x] \\in G \\} $ is open.\n",
    "\n",
    "Then what this is talking about is the notion of continuity using open balls.\n",
    "\n",
    "#### Example - line to ball\n",
    "\n",
    "Let:\n",
    "\n",
    "$ X = [0,1] $ be a closed interval.\n",
    "\n",
    "$ \\sim $ be an equivalence relation\n",
    "\n",
    "$ 0 \\sim 1 $ but $ t \\sim t, 0 < t < 1 $\n",
    "\n",
    "Then the equivalence classes are:\n",
    "\n",
    "$ [1] = \\{0, 1\\} $\n",
    "\n",
    "$ [t] = \\{t: 0 < t < 1 \\} $, so each real value $ t $ is a class by itself.\n",
    "\n",
    "Then every $ x $ maps to itself in a sense, but $ 0 \\to 1 $, because I defined $ [1] $ as the equivalence class representative. I could equally have chosen $[0]$ and then $1 \\to 0$ would be the map.\n",
    "\n",
    "Since $ \\mathcal{T}_\\eta $ must be the finest topology, it is the entire interval but since it must be open, it is $ (0, 1) $ not $ [0,1]$\n",
    "\n",
    "Then imagine the line between $ 0, 1 $. But also imagine how $ 0 \\sim 1 $. Then wrap the line around to be a circle.\n",
    "\n"
   ]
  },
  {
   "cell_type": "markdown",
   "id": "df6d8438",
   "metadata": {},
   "source": [
    "$ \\{\\emptyset, \\{ t : 0 < t < 1 \\} \\} $"
   ]
  },
  {
   "cell_type": "code",
   "execution_count": null,
   "id": "ada58602",
   "metadata": {},
   "outputs": [],
   "source": []
  }
 ],
 "metadata": {
  "kernelspec": {
   "display_name": "Octave",
   "language": "octave",
   "name": "octave"
  },
  "language_info": {
   "file_extension": ".m",
   "help_links": [
    {
     "text": "GNU Octave",
     "url": "https://www.gnu.org/software/octave/support.html"
    },
    {
     "text": "Octave Kernel",
     "url": "https://github.com/Calysto/octave_kernel"
    },
    {
     "text": "MetaKernel Magics",
     "url": "https://metakernel.readthedocs.io/en/latest/source/README.html"
    }
   ],
   "mimetype": "text/x-octave",
   "name": "octave",
   "version": "6.4.0"
  }
 },
 "nbformat": 4,
 "nbformat_minor": 5
}
