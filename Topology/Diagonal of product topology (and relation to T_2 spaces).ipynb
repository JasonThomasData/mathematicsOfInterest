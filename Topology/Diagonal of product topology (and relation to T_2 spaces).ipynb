{
 "cells": [
  {
   "cell_type": "markdown",
   "id": "b45724dd",
   "metadata": {},
   "source": [
    "### Diagonal of Product Topology and $ T_2 $ spaces\n",
    "\n",
    "This is to show that a topological space $ (X, \\mathcal{T}) $ is $ T_2 $ iff the diagonal $ \\Delta = \\{ (x, x) \\in X \\times X: x \\in X \\} $ is closed in the Cartesian product $ X \\times X $ equipped with the product topology.\n",
    "\n",
    "#### Proof\n",
    "\n",
    "LtR:\n",
    "\n",
    "Suppose $ (X, \\mathcal{T}) $ is $ T_2 $\n",
    "\n",
    "Notice that a point falls on the line when the two values $ x, y $ are equal.\n",
    "\n",
    "Let $ (x, y) \\in X \\times X $ \\ $ \\Delta(x) $, aka point not on diagonal\n",
    "\n",
    "There exists disjoint open sets $ A, B $ such that $ x \\in A, y \\in B $ and $ A \\cap B = \\emptyset $. This is due to the space being $ T_2 $.\n",
    "\n",
    "Then:\n",
    "\n",
    "$ A \\times B \\subseteq (X \\times X) $ \\ $ \\Delta(x) $\n",
    "\n",
    "Since the cartesian product of two open sets is open, then we know that $ A \\times B \\subseteq (X \\times X) $ is open and that means:\n",
    "\n",
    "$ (X \\times X) $ \\ $ \\Delta(x) $ is open, because an open set with elements removed doesn't become closed.\n",
    "\n",
    "Then the complement of that is $ \\Delta(x) $, which is closed because it is the complement of an open set.\n",
    "\n",
    "RtL:\n",
    "\n",
    "Suppose $ \\Delta(x) $ is closed. \n",
    "\n",
    "Let $ x \\ne y $.\n",
    "\n",
    "Then $ (x, y) \\in (X \\times X) $ \\ $ \\Delta(x) $ must be open, because it's the complement of a closed set.\n",
    "\n",
    "There exists an open set $ G $, with $ (x, y) \\in G $ and $ G \\subseteq (X \\times X) $ \\ $ \\Delta(x) $\n",
    "\n",
    "The basis that would give us this set $ G $ would include open sets $ A, B $.\n",
    "\n",
    "$ (x, y) \\in A \\times B $\n",
    "\n",
    "$ A \\times B \\subseteq G \\subseteq (X \\times X) $ \\ $ \\Delta(x) $\n",
    "\n",
    "Then $ A \\cap B = \\emptyset $\n",
    "\n",
    "Then $ (X, \\mathcal{T}) $ is $ T_2 $\n",
    "\n"
   ]
  },
  {
   "cell_type": "code",
   "execution_count": null,
   "id": "69183c1b",
   "metadata": {},
   "outputs": [],
   "source": []
  }
 ],
 "metadata": {
  "kernelspec": {
   "display_name": "Octave",
   "language": "octave",
   "name": "octave"
  },
  "language_info": {
   "file_extension": ".m",
   "help_links": [
    {
     "text": "GNU Octave",
     "url": "https://www.gnu.org/software/octave/support.html"
    },
    {
     "text": "Octave Kernel",
     "url": "https://github.com/Calysto/octave_kernel"
    },
    {
     "text": "MetaKernel Magics",
     "url": "https://metakernel.readthedocs.io/en/latest/source/README.html"
    }
   ],
   "mimetype": "text/x-octave",
   "name": "octave",
   "version": "6.4.0"
  }
 },
 "nbformat": 4,
 "nbformat_minor": 5
}
