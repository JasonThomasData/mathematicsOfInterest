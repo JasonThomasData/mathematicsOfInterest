{
 "cells": [
  {
   "cell_type": "markdown",
   "id": "a5592567",
   "metadata": {},
   "source": [
    "### Injective, surjective and bijective functions\n",
    "\n",
    "A function is injective if all elements in the codomain are mapped to by at most 1 element in the domain.\n",
    "\n",
    "$ f(u_1) = f(u_2) \\rightarrow u_1 = u_2 $\n",
    "\n",
    "A function is surjective if all elements in the codomain are mapped to by any element in the domain.\n",
    "\n",
    "$ \\forall v \\in V \\rightarrow \\exists u \\in U : f(u) = v $\n",
    "\n",
    "A function is bijective if it is both injective and surjective."
   ]
  },
  {
   "cell_type": "code",
   "execution_count": null,
   "id": "a046c76a",
   "metadata": {},
   "outputs": [],
   "source": []
  }
 ],
 "metadata": {
  "kernelspec": {
   "display_name": "Octave",
   "language": "octave",
   "name": "octave"
  },
  "language_info": {
   "file_extension": ".m",
   "help_links": [
    {
     "text": "GNU Octave",
     "url": "https://www.gnu.org/software/octave/support.html"
    },
    {
     "text": "Octave Kernel",
     "url": "https://github.com/Calysto/octave_kernel"
    },
    {
     "text": "MetaKernel Magics",
     "url": "https://metakernel.readthedocs.io/en/latest/source/README.html"
    }
   ],
   "mimetype": "text/x-octave",
   "name": "octave",
   "version": "5.2.0"
  }
 },
 "nbformat": 4,
 "nbformat_minor": 5
}
