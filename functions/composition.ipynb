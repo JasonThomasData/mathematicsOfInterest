{
 "cells": [
  {
   "cell_type": "markdown",
   "id": "1ea74f97",
   "metadata": {},
   "source": [
    "### Composition\n",
    "\n",
    "Let:\n",
    "\n",
    "$ f(x) : A \\to B $\n",
    "\n",
    "$ g(x) : B \\to C $\n",
    "\n",
    "Then:\n",
    "\n",
    "$ h(x) = (g \\cdot f)(x) = g(f(x)) $\n",
    "\n",
    "$ h(x) : A \\to C $"
   ]
  },
  {
   "cell_type": "code",
   "execution_count": null,
   "id": "17c9bc87",
   "metadata": {},
   "outputs": [],
   "source": []
  }
 ],
 "metadata": {
  "kernelspec": {
   "display_name": "Octave",
   "language": "octave",
   "name": "octave"
  },
  "language_info": {
   "file_extension": ".m",
   "help_links": [
    {
     "text": "GNU Octave",
     "url": "https://www.gnu.org/software/octave/support.html"
    },
    {
     "text": "Octave Kernel",
     "url": "https://github.com/Calysto/octave_kernel"
    },
    {
     "text": "MetaKernel Magics",
     "url": "https://metakernel.readthedocs.io/en/latest/source/README.html"
    }
   ],
   "mimetype": "text/x-octave",
   "name": "octave",
   "version": "6.4.0"
  }
 },
 "nbformat": 4,
 "nbformat_minor": 5
}
