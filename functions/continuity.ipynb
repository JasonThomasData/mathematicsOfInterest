{
 "cells": [
  {
   "cell_type": "markdown",
   "id": "997f7d7d",
   "metadata": {},
   "source": [
    "### Continuity using $ \\delta $ and $ \\epsilon $\n",
    "\n",
    "#### In terms of limits and calculus\n",
    "\n",
    "If you have a function, then it's useful to know if it's continuous.\n",
    "\n",
    "Let:\n",
    "\n",
    "$ y = f(x) : \\mathbb{R} \\to \\mathbb{R} $\n",
    "\n",
    "The function is continuous at the point $ x_0 $ if:\n",
    "\n",
    "$ \\lim_\\limits{x \\to x_0^{-}} f(x) = \\lim_\\limits{x \\to x_0} f(x) = f(x_0) $\n",
    "\n",
    "An example of a function that is not continuous is $ \\frac{x^2}{x} $\n",
    "\n",
    "You can't divide by $ 0 $ so therefore approaching the limit of $ 0 $ from either side will never get you to that point.\n",
    "\n",
    "Eddie Woo explains this as not being able to draw the function without lifting your pen."
   ]
  },
  {
   "cell_type": "code",
   "execution_count": 9,
   "id": "5843abdc",
   "metadata": {},
   "outputs": [
    {
     "data": {
      "image/png": "[encoded data removed]",
      "text/plain": [
       "<IPython.core.display.Image object>"
      ]
     },
     "metadata": {},
     "output_type": "display_data"
    }
   ],
   "source": [
    "function y = f(x)\n",
    "    y = (x.^2)./x;\n",
    "end\n",
    "\n",
    "x_1 = linspace(0.05, 10);\n",
    "y_1 = f(x_1);\n",
    "\n",
    "plot(x_1, y_1);\n",
    "hold on;\n",
    "\n",
    "x_2 = linspace(-10, -0.05);\n",
    "y_2 = f(x_2);\n",
    "\n",
    "plot(x_2, y_2);\n",
    "\n",
    "plot([0],[0], \"o\")\n",
    "\n"
   ]
  },
  {
   "cell_type": "markdown",
   "id": "fd78d23a",
   "metadata": {},
   "source": [
    "In the above chart, notice the circle at the point. This is not continuous because the $ f(x_0) $ simply isn't defined.\n",
    "\n",
    "To say this another way:\n",
    "\n",
    "$ y = f(x) : \\mathbb{R} \\to \\mathbb{R} $\n",
    "\n",
    "$ f(x) $ continuous at the point $ f(x_0) $ if:\n",
    "\n",
    "$ \\delta, \\epsilon \\in \\mathbb{R} $\n",
    "\n",
    "$ (\\forall \\epsilon > 0) \\to (\\exists \\delta > 0): $\n",
    "\n",
    "$ (|x_0 - x| < \\delta) \\to (|f(x_0) - f(x)| < \\epsilon) $\n",
    "\n",
    "And this means that for all $ x $:\n",
    "\n",
    "$ (f(x_0 - \\delta) = f(x_0) - \\epsilon) \\wedge (f(x_0 + \\delta) = f(x_0) + \\epsilon) $\n",
    "\n",
    "Note, that this will only make sense where $ f(x_0) $ is actually defined. If $ f(x_0) $ is undefined then the function cannot be continuous at that point.\n",
    "\n",
    "$ \\epsilon $ and $ \\delta $ can be as small as we want, and we could imagine these two values approaching $ 0 $. For this to be true for incrementally small $ \\delta $ then $ x $ would approach $ x_0 $.\n",
    "\n",
    "To approach $ x_0 $ is what is meant by $ \\lim_\\limits{x \\to x_0} $ where $ x $ is some independent variable.\n",
    "\n",
    "But since the $ \\delta $ is implied to aproach the limit for the entire interval where $ { |x_0 - x| < \\delta } $ then this of course approaches the limit from both sides. \n",
    "\n",
    "To approach from both sides, where the function is defined at $ f(x_0) $, implies the first definition of continuity:\n",
    "\n",
    "$ \\lim_\\limits{x \\to x_0^{-}} f(x) = \\lim_\\limits{x \\to x_0} f(x) = f(x_0) $\n"
   ]
  },
  {
   "cell_type": "markdown",
   "id": "200f3813",
   "metadata": {},
   "source": [
    "#### Continuity for higher dimensions\n",
    "\n",
    "The previous definitions deal with functions of 1 variable.\n",
    "\n",
    "So instead of $ x $ being the only independent variable, let's consider then independent variables $ x, y $.\n",
    "\n",
    "Functions of more than one variable can be handled too but you must consider more deeply the distance between points.\n",
    "\n",
    "You can't just talk about $ x_0 - x $.\n",
    "\n",
    "For each pair of point, you need to find its magnitude, the same way as you find the magnitude of a vector:\n",
    "\n",
    "Then the function $ d $ descrinbes the length of each point from the origin of the n-dimensional linear system.\n",
    "\n",
    "$ d(x, y) = \\sqrt{(x_1 - y_1)^2 + (x_2 - y_2)^2 + ... + (x_n - y_n)^2 } $\n",
    "\n",
    "Then this leads to the representation below:\n",
    "\n",
    "![continuity in n dimensions](n-dimensional-continuity.png)\n",
    "\n",
    "This pic is from\n"
   ]
  },
  {
   "cell_type": "code",
   "execution_count": null,
   "id": "3325f2a0",
   "metadata": {},
   "outputs": [],
   "source": []
  }
 ],
 "metadata": {
  "kernelspec": {
   "display_name": "Octave",
   "language": "octave",
   "name": "octave"
  },
  "language_info": {
   "file_extension": ".m",
   "help_links": [
    {
     "text": "GNU Octave",
     "url": "https://www.gnu.org/software/octave/support.html"
    },
    {
     "text": "Octave Kernel",
     "url": "https://github.com/Calysto/octave_kernel"
    },
    {
     "text": "MetaKernel Magics",
     "url": "https://metakernel.readthedocs.io/en/latest/source/README.html"
    }
   ],
   "mimetype": "text/x-octave",
   "name": "octave",
   "version": "6.4.0"
  }
 },
 "nbformat": 4,
 "nbformat_minor": 5
}
