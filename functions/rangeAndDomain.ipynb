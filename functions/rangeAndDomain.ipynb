{
 "cells": [
  {
   "cell_type": "markdown",
   "id": "fc08e8d0",
   "metadata": {},
   "source": [
    "### Domain and Range\n",
    "\n",
    "_Domain:_ The limits of values that a function can accept.\n",
    "\n",
    "_Range:_ The limits of values that a function can return.\n",
    "\n",
    "Both of these expressed with $ [] $ means the function includes those limits.\n",
    "\n",
    "When expressed with $ () $ this means Domain or Range does not include these limits.\n",
    "\n",
    "A function definition in formal terms would be something like:\n",
    "\n",
    "$ \\begin{matrix} {R \\in [-\\infty,\\infty]} & {\\rightarrow} & {R \\in [-1, \\infty]} \\\\ {f(x)} & {=} & {e^x - 1} \\end{matrix} $\n",
    "\n",
    "This can be read as: $ f(x) $ can accept real numbers within the limits of inclusive negative and inclusive postive infinity. It returns real numbers equal to or larger than $ -1 $ and up to and including positive infinity.\n"
   ]
  },
  {
   "cell_type": "markdown",
   "id": "abe1929b",
   "metadata": {},
   "source": [
    "### Inverses, swapping Range and Domain\n",
    "\n",
    "When you find the inverse of a function, the domain and range are swapped.\n",
    "\n",
    "Given the above example, its inverse would be:\n",
    "\n",
    "$ \\begin{matrix} {R \\in [-1,\\infty]} & {\\rightarrow} & {R \\in [-\\infty, \\infty]} \\\\ {f(x)^{-1}} & {=} & {ln(x + 1)} \\end{matrix} $"
   ]
  },
  {
   "cell_type": "code",
   "execution_count": null,
   "id": "7d74673c",
   "metadata": {},
   "outputs": [],
   "source": []
  }
 ],
 "metadata": {
  "kernelspec": {
   "display_name": "Octave",
   "language": "octave",
   "name": "octave"
  },
  "language_info": {
   "file_extension": ".m",
   "help_links": [
    {
     "text": "GNU Octave",
     "url": "https://www.gnu.org/software/octave/support.html"
    },
    {
     "text": "Octave Kernel",
     "url": "https://github.com/Calysto/octave_kernel"
    },
    {
     "text": "MetaKernel Magics",
     "url": "https://metakernel.readthedocs.io/en/latest/source/README.html"
    }
   ],
   "mimetype": "text/x-octave",
   "name": "octave",
   "version": "5.2.0"
  }
 },
 "nbformat": 4,
 "nbformat_minor": 5
}
