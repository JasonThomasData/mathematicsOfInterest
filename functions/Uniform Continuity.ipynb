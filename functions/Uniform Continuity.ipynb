{
 "cells": [
  {
   "cell_type": "markdown",
   "id": "9422ffb6",
   "metadata": {},
   "source": [
    "### Uniform continuity\n",
    "\n",
    "This is a very clear and awesome video about the difference between continuity and uniform continuity.\n",
    "\n",
    "https://www.youtube.com/watch?v=nquj643mU1o&list=PLO1y6V1SXjjMu0dEubQsJFtQqayOyXgOt"
   ]
  },
  {
   "cell_type": "code",
   "execution_count": null,
   "id": "be0cb4c3",
   "metadata": {},
   "outputs": [],
   "source": []
  }
 ],
 "metadata": {
  "kernelspec": {
   "display_name": "Octave",
   "language": "octave",
   "name": "octave"
  },
  "language_info": {
   "file_extension": ".m",
   "help_links": [
    {
     "text": "GNU Octave",
     "url": "https://www.gnu.org/software/octave/support.html"
    },
    {
     "text": "Octave Kernel",
     "url": "https://github.com/Calysto/octave_kernel"
    },
    {
     "text": "MetaKernel Magics",
     "url": "https://metakernel.readthedocs.io/en/latest/source/README.html"
    }
   ],
   "mimetype": "text/x-octave",
   "name": "octave",
   "version": "6.4.0"
  }
 },
 "nbformat": 4,
 "nbformat_minor": 5
}
