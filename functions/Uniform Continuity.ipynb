{
 "cells": [
  {
   "cell_type": "markdown",
   "id": "9422ffb6",
   "metadata": {},
   "source": [
    "### Uniform continuity (how it's different to continuity)\n",
    "\n",
    "This is a very clear and awesome video about the difference between continuity and uniform continuity.\n",
    "\n",
    "https://www.youtube.com/watch?v=nquj643mU1o&list=PLO1y6V1SXjjMu0dEubQsJFtQqayOyXgOt\n",
    "\n",
    "### Uniform Continuity\n",
    "\n",
    "A function:\n",
    "\n",
    "$ f: X\\to Y $\n",
    "\n",
    "is uniformly continuous if\n",
    "\n",
    "$ \\forall \\epsilon > 0, \\exists \\delta > 0 : \\forall x,y \\in X, |x - y| < \\delta \\to |f(x) - f(y)| < \\epsilon $\n",
    "\n",
    "And notice that here, $ \\delta $ depends only on $ \\epsilon $, and no other values\n",
    "\n",
    "### Continuity\n",
    "\n",
    "The same function is continuous if:\n",
    "\n",
    "$ \\forall c \\in X, \\forall \\epsilon > 0, \\exists \\delta > 0 : \\forall x \\in X, |x - c| < \\delta \\to |f(x) - f(c)| < \\epsilon $\n",
    "\n",
    "### Difference\n",
    "\n",
    "And that means that $ \\delta $ depends on $ c, \\epsilon $. So the value of $ \\delta $ also depends on where $ c $ is on the number line.\n",
    "\n",
    "However, uniform continuity doesn't express $ \\delta $ as depending on some value $ c $. That means that everywhere on the line, $ \\delta $ is the same assuming that $ \\epsilon $ is constant.\n",
    "\n",
    "A very neat video describes this notion of uniform vs standard continuity:\n",
    "\n",
    "### Examples - linear vs not linear\n",
    "\n",
    "![examples](Screenshot_2023-05-26_16-32-20.png)\n",
    "\n",
    "Which is from here - https://youtu.be/xiWizwjpt8o?t=1178\n",
    "\n"
   ]
  },
  {
   "cell_type": "code",
   "execution_count": null,
   "id": "be0cb4c3",
   "metadata": {},
   "outputs": [],
   "source": []
  },
  {
   "cell_type": "code",
   "execution_count": null,
   "id": "30059739",
   "metadata": {},
   "outputs": [],
   "source": []
  }
 ],
 "metadata": {
  "kernelspec": {
   "display_name": "Octave",
   "language": "octave",
   "name": "octave"
  },
  "language_info": {
   "file_extension": ".m",
   "help_links": [
    {
     "text": "GNU Octave",
     "url": "https://www.gnu.org/software/octave/support.html"
    },
    {
     "text": "Octave Kernel",
     "url": "https://github.com/Calysto/octave_kernel"
    },
    {
     "text": "MetaKernel Magics",
     "url": "https://metakernel.readthedocs.io/en/latest/source/README.html"
    }
   ],
   "mimetype": "text/x-octave",
   "name": "octave",
   "version": "6.4.0"
  }
 },
 "nbformat": 4,
 "nbformat_minor": 5
}
