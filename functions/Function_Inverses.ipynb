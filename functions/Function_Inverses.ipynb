{
 "cells": [
  {
   "cell_type": "markdown",
   "id": "f2fa6d81",
   "metadata": {},
   "source": [
    "### Function inverses\n",
    "\n",
    "A function inverse takes a function:\n",
    "\n",
    "$ y = f(x) $\n",
    "\n",
    "And rearranges the terms:\n",
    "\n",
    "$ y = f(x)^{-1} $\n",
    "\n",
    "Eg:\n",
    "\n",
    "$ f(x) = 2x+1 $\n",
    "\n",
    "The inverse is:\n",
    "\n",
    "$ x = 2f(x)^{-1}+1 $\n",
    "\n",
    "$ f(x)^{-1} = \\frac{x-1}{2} $\n",
    "\n",
    "Despite that the function takes $ y $ as a parameter it is useful to express the inverse as a function of $ x $.\n",
    "\n",
    "For a function to have an inverse it must be injective. That is, one-to-one. In other words, each element in the codomain must have at most one element in the domain mapped to it. This seems intuitive, because a requirement for a function is that every element in the domain maps to at most one element of the codomain. An inverse reverses that relationship.\n"
   ]
  },
  {
   "cell_type": "markdown",
   "id": "5b65b5b5",
   "metadata": {},
   "source": [
    "### Domain a range\n",
    "\n",
    "The domain and range will be switched after finding the inverse of $ f(x) $. It's a good habit to write those down before and after.\n",
    "\n",
    "Try graphing to see this swap."
   ]
  },
  {
   "cell_type": "markdown",
   "id": "d51e83d9",
   "metadata": {},
   "source": [
    "### Test for invertibility\n",
    "\n",
    "$f(x)$ is invertible if\n",
    "\n",
    "$ x = f(f(x))^{-1} $\n",
    "\n",
    "$ x = f(f(x)^{-1}) $\n",
    "\n",
    "Eg:\n",
    "\n",
    "If:\n",
    "\n",
    "$ f(x) = 3x + 2 $\n",
    "\n",
    "Then:\n",
    "\n",
    "$ x = 3f(x)^{-1} + 2 $\n",
    "\n",
    "$ f(x)^{-1} = \\frac{x-2}{3} $\n",
    "\n",
    "Test:\n",
    "\n",
    "$ f(f(x)^{-1}) = 3(\\frac{x-2}{3}) + 2 = x-2+2 = x $\n",
    "\n",
    "$ f(f(x))^{-1} = \\frac{(3x + 2)-2}{3} = \\frac{3x}{3} = x $"
   ]
  },
  {
   "cell_type": "markdown",
   "id": "0982e90a",
   "metadata": {},
   "source": [
    "### A graphical interpretation\n",
    "\n",
    "Below are two functions:\n",
    "\n",
    "$ f(x) = 2x + 2 $\n",
    "\n",
    "$ g(x) = x^2 $\n",
    "\n",
    "If you draw a horizontal line at 1, then you will find that the second function has the same y value for two different $ x $"
   ]
  },
  {
   "cell_type": "code",
   "execution_count": 1,
   "id": "1ff4f9b7",
   "metadata": {},
   "outputs": [
    {
     "data": {
      "image/png": "[encoded data removed]",
      "text/plain": [
       "<IPython.core.display.Image object>"
      ]
     },
     "metadata": {},
     "output_type": "display_data"
    }
   ],
   "source": [
    "X = linspace(-2,2);\n",
    "f_x = 2*X + 2;\n",
    "g_x = X.^2;\n",
    "\n",
    "plot(X, f_x);\n",
    "hold on;\n",
    "plot(X, g_x);\n",
    "hold on;\n",
    "plot([-2,2],[1,1], \"--\");\n",
    "plot([-1,1],[1,1], \"go\");\n",
    "plot([-0.5],[1], \"go\");\n",
    "legend(\"2x+2\",\"x^2\",\"1\");"
   ]
  },
  {
   "cell_type": "markdown",
   "id": "fa2b29a8",
   "metadata": {},
   "source": [
    "$ f(x) = 2x + 2 $\n",
    "\n",
    "$ f(x)^{-1} = \\frac{x-2}{2} $\n",
    "\n",
    "But,\n",
    "\n",
    "$ g(x) = x^2 $\n",
    "\n",
    "$ g(y)^{-1} = \\pm \\sqrt{x} $"
   ]
  },
  {
   "cell_type": "code",
   "execution_count": 2,
   "id": "c016fcd0",
   "metadata": {},
   "outputs": [
    {
     "data": {
      "image/png": "[encoded data removed]",
      "text/plain": [
       "<IPython.core.display.Image object>"
      ]
     },
     "metadata": {},
     "output_type": "display_data"
    }
   ],
   "source": [
    "X = linspace(0,2);\n",
    "f_inv = (X-2)/2;\n",
    "\n",
    "# I couldn't find a nice way to plot +-sqrt(X) without splitting into two functions\n",
    "plot(X, +sqrt(X), \"-r\");\n",
    "hold on;\n",
    "plot(X, -sqrt(X), \"-r\");\n",
    "hold on;\n",
    "\n",
    "plot(X, f_inv);\n",
    "hold on;\n",
    "plot([1,1],[-1.5,1.5],\"--\");\n",
    "hold on;\n",
    "plot([1,1,1],[1,-0.5,-1],\"go\");\n",
    "legend(\"(x-2)/2\",\"+- sqrt(x)\",\"x=1\");"
   ]
  },
  {
   "cell_type": "markdown",
   "id": "561ee05e",
   "metadata": {},
   "source": [
    "Above, the inverse of the quadratic is not a function, because it has two $ y $ values for any $ x > 0 $"
   ]
  },
  {
   "cell_type": "markdown",
   "id": "f1ad75c7",
   "metadata": {},
   "source": [
    "### Mirror image\n",
    "\n",
    "Another graphical interpretation is that an inverse is a relfection of a function where the fold is $ y = x $\n",
    "\n",
    "Eg:\n",
    "\n",
    "$ 0 <= x <= \\inf $\n",
    "\n",
    "$ f(x) = x^2 - 2 $\n",
    "\n",
    "To find the inverse:\n",
    "\n",
    "$ x = (f(x)^{-1})^2 -2 $\n",
    "\n",
    "$ f(x)^{-1} = \\sqrt[+] {x+2} $\n",
    "\n",
    "Now, let's see that this is a mirror image:"
   ]
  },
  {
   "cell_type": "code",
   "execution_count": 3,
   "id": "e7850f05",
   "metadata": {},
   "outputs": [
    {
     "data": {
      "image/png": "[encoded data removed]",
      "text/plain": [
       "<IPython.core.display.Image object>"
      ]
     },
     "metadata": {},
     "output_type": "display_data"
    }
   ],
   "source": [
    "X = linspace(0,3);\n",
    "f = X.^2 - 2;\n",
    "f_inv = sqrt(X + 2);\n",
    "\n",
    "plot(X, f);\n",
    "hold on;\n",
    "axis([0, 3, 0, 3]);\n",
    "plot(X, f_inv);\n",
    "plot(X,X,\"--\");\n",
    "\n",
    "legend(\"f\", \"f^-1\");"
   ]
  },
  {
   "cell_type": "markdown",
   "id": "46afa0ab",
   "metadata": {},
   "source": [
    "### What it doesn't mean\n",
    "\n",
    "The inverse of a function with its $ x^{-1} $ cannot be handled as a multiplicative inverse: $ x^{-1} = \\frac{1}{x} $. It will return a different result. A function's inverse is not the same as the inverse of any term in the function"
   ]
  }
 ],
 "metadata": {
  "kernelspec": {
   "display_name": "Octave",
   "language": "octave",
   "name": "octave"
  },
  "language_info": {
   "file_extension": ".m",
   "help_links": [
    {
     "text": "GNU Octave",
     "url": "https://www.gnu.org/software/octave/support.html"
    },
    {
     "text": "Octave Kernel",
     "url": "https://github.com/Calysto/octave_kernel"
    },
    {
     "text": "MetaKernel Magics",
     "url": "https://metakernel.readthedocs.io/en/latest/source/README.html"
    }
   ],
   "mimetype": "text/x-octave",
   "name": "octave",
   "version": "6.4.0"
  }
 },
 "nbformat": 4,
 "nbformat_minor": 5
}
