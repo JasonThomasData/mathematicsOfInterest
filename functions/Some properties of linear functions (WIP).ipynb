{
 "cells": [
  {
   "cell_type": "markdown",
   "id": "ef632887",
   "metadata": {},
   "source": [
    "### Linear functions"
   ]
  },
  {
   "cell_type": "markdown",
   "id": "9fdc3a9a",
   "metadata": {},
   "source": [
    "If a function is linear, then the following must be true:\n",
    "\n",
    "$ f(a) * f(b) = f(a + b) $\n",
    "\n",
    "There is a proof for this involving infinite series, here\n",
    "\n",
    "MAKE PROOF\n",
    "\n",
    "#### This then implies the following consequences\n",
    "\n",
    "1. \n",
    "    $ f(n) = f(1)^n $\n",
    "\n",
    "    Because:\n",
    "\n",
    "    $ f(1)^n = \\prod^n f(1) = f(1)_1 * f(1)_2 ... f(1)_n = f(n) $\n",
    "\n",
    "\n",
    "2. \n",
    "    $ f(\\frac{1}{2}) = \\sqrt{f(1)} $\n",
    "\n",
    "    Because:\n",
    "\n",
    "    $ x^{1/2} = \\sqrt{x} $\n",
    "   \n",
    "    And from 1:\n",
    "   \n",
    "    $ f(1)^n = f(n) $\n",
    "    \n",
    "    Then:\n",
    "    \n",
    "    $ \\sqrt{f(1)} = f(1)^{1/2} = f(\\frac{1}{2}) $\n",
    "\n",
    "\n",
    "3. \n",
    "    $ f(-1) = \\frac{1}{f(1)} $\n",
    "    \n",
    "    Because:\n",
    "    \n",
    "    $ x^{-1} = \\frac{1}{x} $\n",
    "    \n",
    "    And from 1:\n",
    "   \n",
    "    $ f(1)^n = f(n) $\n",
    "    \n",
    "    Then:\n",
    "    \n",
    "    $ f(-1) = f(1)^{-1} = \\frac{1}{f(1)} $\n",
    "    "
   ]
  },
  {
   "cell_type": "markdown",
   "id": "933646f1",
   "metadata": {},
   "source": []
  },
  {
   "cell_type": "code",
   "execution_count": null,
   "id": "63e3b5a3",
   "metadata": {},
   "outputs": [],
   "source": []
  }
 ],
 "metadata": {
  "kernelspec": {
   "display_name": "Octave",
   "language": "octave",
   "name": "octave"
  },
  "language_info": {
   "file_extension": ".m",
   "help_links": [
    {
     "text": "GNU Octave",
     "url": "https://www.gnu.org/software/octave/support.html"
    },
    {
     "text": "Octave Kernel",
     "url": "https://github.com/Calysto/octave_kernel"
    },
    {
     "text": "MetaKernel Magics",
     "url": "https://metakernel.readthedocs.io/en/latest/source/README.html"
    }
   ],
   "mimetype": "text/x-octave",
   "name": "octave",
   "version": "5.2.0"
  }
 },
 "nbformat": 4,
 "nbformat_minor": 5
}
