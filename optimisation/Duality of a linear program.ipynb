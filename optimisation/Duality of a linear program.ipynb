{
 "cells": [
  {
   "cell_type": "markdown",
   "id": "37b1d96b",
   "metadata": {},
   "source": [
    "### Duality of a linear program\n",
    "\n",
    "See the notebook on standard forms (and canonical forms) for linear programs.\n",
    "\n",
    "Let:\n",
    "\n",
    "- $ c $ be a vector of coefficients for the objective function (single column matrix).\n",
    "\n",
    "- $ x $ be a vector of decision variables, of length $ n_x $ (single column matrix).\n",
    "\n",
    "- $ b $ be a vector of values that are the RHS of constraint functions, of length $ n_b $ (single column matrix).\n",
    "\n",
    "- $ A $ be a matrix of constraints (LHS, WHAT IS IT CALLED)? Its order should be $ n_b \\times n_x $\n",
    "\n",
    "Given a standard form for either a min or max program, called _opt_ for now:\n",
    "\n",
    "__LP__\n",
    "\n",
    "$ \\left\\{ \\begin{matrix} opt & c^T x \\\\ & Ax & = & b \\\\ & x & \\ge & 0 \\end{matrix} \\right. $\n",
    "\n",
    "Then it's dual is like the inverse.\n",
    "\n",
    "I think a solution being the optimum, according to an analysis argument, depends on the dual.\n",
    "\n",
    "_If the objective function of the dual, with optimal decision variables substituted, has the same vale as the objective function for the $ LP $ then we can say that optimal decision variables found in the LP are in fact the optimal_.\n",
    "\n",
    "__D__\n",
    "\n",
    "To find the Dual, take this approach:\n",
    "\n",
    "- Swap $ c \\leftrightarrow b $\n",
    "- The objective coefficients $ x \\to \\lambda $\n",
    "- $ \\mu $ is some slack variable, so that you can express the function as an equality.\n",
    "\n",
    "Then the Dual in terms of $ \\mu $ is:\n",
    "\n",
    "$ \\left\\{ \\begin{matrix} opt^{-1} & b^T \\lambda \\\\ & A^T\\lambda + \\mu & = & c \\\\ & \\mu & \\ge & 0 \\end{matrix} \\right.$\n",
    "\n",
    "And this is the same as:\n",
    "\n",
    "$ \\left\\{ \\begin{matrix} opt^{-1} & b^T \\lambda \\\\ & A^T\\lambda & \\le & c \\end{matrix} \\right.$\n",
    "\n",
    "__The Dual of a Dual is the original program_\n",
    "\n",
    "To validate that our optimum is the optimum, we should check that the total value for the objective function evaluates to the same value in each program.\n",
    "\n",
    "#### In Matlab, Gnu Octave etc\n",
    "\n",
    "In these programs it's possible to use a solver that will find the optimal values for you.\n",
    "\n",
    "They should also return $ \\lambda $ values. Check that:\n",
    "\n",
    "$ obj c^T x = obj^{-1} b^T \\lambda $\n",
    "\n",
    "Because, the optimisation function for the $ LP $ and the \n",
    "\n",
    "#### Example"
   ]
  },
  {
   "cell_type": "code",
   "execution_count": null,
   "id": "6a110486",
   "metadata": {},
   "outputs": [],
   "source": []
  }
 ],
 "metadata": {
  "kernelspec": {
   "display_name": "Octave",
   "language": "octave",
   "name": "octave"
  },
  "language_info": {
   "file_extension": ".m",
   "help_links": [
    {
     "text": "GNU Octave",
     "url": "https://www.gnu.org/software/octave/support.html"
    },
    {
     "text": "Octave Kernel",
     "url": "https://github.com/Calysto/octave_kernel"
    },
    {
     "text": "MetaKernel Magics",
     "url": "https://metakernel.readthedocs.io/en/latest/source/README.html"
    }
   ],
   "mimetype": "text/x-octave",
   "name": "octave",
   "version": "6.4.0"
  }
 },
 "nbformat": 4,
 "nbformat_minor": 5
}
