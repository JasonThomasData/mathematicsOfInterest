{
 "cells": [
  {
   "cell_type": "markdown",
   "id": "f8e273f7",
   "metadata": {},
   "source": [
    "### To think about before using descent methods\n",
    "\n",
    "#### Proofs to increase confidence in using descent methods\n",
    "\n",
    "Before implementing the method, think about\n",
    "\n",
    "- The conditions under which you want the method to stop, so, when it reaches the local optimum\n",
    "- Identify the conditions that lead to failure. You might formulate the problem to avoid known issues\n",
    "\n",
    "What can help are proofs for convergence. If search space converges then we can be sure that an optimum will be attained.\n",
    "    \n",
    "![proofs of convergence](Screenshot_2023-08-13_19-03-23.png)\n",
    "\n",
    "Q: If we can proof a search space converges at a point then wouldn't that be the optimum.\n",
    "\n",
    "#### Defining when to stop\n",
    "\n"
   ]
  },
  {
   "cell_type": "code",
   "execution_count": null,
   "id": "258dbb5f",
   "metadata": {},
   "outputs": [],
   "source": []
  }
 ],
 "metadata": {
  "kernelspec": {
   "display_name": "Octave",
   "language": "octave",
   "name": "octave"
  },
  "language_info": {
   "file_extension": ".m",
   "help_links": [
    {
     "text": "GNU Octave",
     "url": "https://www.gnu.org/software/octave/support.html"
    },
    {
     "text": "Octave Kernel",
     "url": "https://github.com/Calysto/octave_kernel"
    },
    {
     "text": "MetaKernel Magics",
     "url": "https://metakernel.readthedocs.io/en/latest/source/README.html"
    }
   ],
   "mimetype": "text/x-octave",
   "name": "octave",
   "version": "6.4.0"
  }
 },
 "nbformat": 4,
 "nbformat_minor": 5
}
