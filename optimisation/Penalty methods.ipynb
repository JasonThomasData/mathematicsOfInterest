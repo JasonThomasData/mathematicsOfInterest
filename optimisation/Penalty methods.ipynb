{
 "cells": [
  {
   "cell_type": "markdown",
   "id": "ed21c860",
   "metadata": {},
   "source": [
    "### Penalty methods\n",
    "\n",
    "To as in linear programming, we can apply constraints to non-linear optimisation.\n",
    "\n",
    "We can design a linear program to have constraints, and then turn the constrained problem into an unconstrained one. Then we can use unconstrained algorithms (like descent).\n",
    "\n",
    "A trivial example will help:\n",
    "\n",
    "![trivial example](Screenshot_2023-09-04_09-56-14.png)\n",
    "\n",
    "The solution below it follows this method:\n",
    "\n",
    "- $ x = 1 \\to x - 1 = 0 $\n",
    "- Square the new function: $ (x-1)^2 $\n",
    "- add a penalty parameter $ \\sigma $ so that we can decrease \n",
    "- divide it by 2\n",
    "- the above forms a term that we add to $ x $. Now we can set $ \\sigma $ to be a large number and then descend $ x $\n",
    "\n",
    "![different values of sigma](Screenshot_2023-09-04_10-19-54.png)\n",
    "\n",
    "Above, this shows that this gets closer to the feasible value. Never actually gets there. We _shift_ the penalty so that it becomes an augmented lagrangian.\n",
    "\n",
    "#### Basic method\n",
    "\n",
    "- Choose a sequence of $ \\sigma_k \\to \\infty $ as $ k \\to \\infty$ . $ \\{ 10_k \\} $ will do the job.\n",
    "- For every $ \\sigma_k $\n",
    "- Find the minimum of each, $ x_k = x(\\sigma_k )$\n",
    "- Stop finding $ x_k $ when the difference between the the difference between $ x_k $ and the feasible region (originally given as $ x=1 $ are almost the same point.\n",
    "\n",
    "#### Instability\n",
    "\n",
    "In the above example $ \\sigma_k \\to \\infty $, so this hints at instability. \n",
    "\n",
    "We can introduce another parameter to help stabilise this method.\n",
    "\n",
    "Let $ \\sigma $ be a shift parameter.\n",
    "\n",
    "![shift param](Screenshot_2023-09-04_10-58-44.png)\n",
    "\n",
    "To summarise what happened above:\n",
    "\n",
    "- The shift param $ \\theta $ reduces the stability effects as $ k \\to \\infty $\n",
    "- Take the derivative of the new function with respect to $ x $\n",
    "- Solve for the new param, $ \\theta $\n",
    "\n",
    "#### Agumented lagrangian\n",
    "\n",
    "The shifted penalty method corresponds to the augmented lagrangian. This is way too much for me to write down at the moment.\n",
    "\n"
   ]
  },
  {
   "cell_type": "code",
   "execution_count": null,
   "id": "7235aef4",
   "metadata": {},
   "outputs": [],
   "source": []
  }
 ],
 "metadata": {
  "kernelspec": {
   "display_name": "Octave",
   "language": "octave",
   "name": "octave"
  },
  "language_info": {
   "file_extension": ".m",
   "help_links": [
    {
     "text": "GNU Octave",
     "url": "https://www.gnu.org/software/octave/support.html"
    },
    {
     "text": "Octave Kernel",
     "url": "https://github.com/Calysto/octave_kernel"
    },
    {
     "text": "MetaKernel Magics",
     "url": "https://metakernel.readthedocs.io/en/latest/source/README.html"
    }
   ],
   "mimetype": "text/x-octave",
   "name": "octave",
   "version": "6.4.0"
  }
 },
 "nbformat": 4,
 "nbformat_minor": 5
}
