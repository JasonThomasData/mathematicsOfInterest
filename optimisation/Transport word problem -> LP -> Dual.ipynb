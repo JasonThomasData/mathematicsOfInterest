{
 "cells": [
  {
   "cell_type": "markdown",
   "id": "ce281b8b",
   "metadata": {},
   "source": [
    "### Transport word problem -> LP -> Dual\n",
    "\n",
    "![original problem](Screenshot_2023-08-17_13-49-14.png)\n",
    "\n",
    "![details](Screenshot_2023-08-17_13-55-38.png)\n",
    "\n",
    "Note that the matrices that describe the inequality isn't 3x4. It's 3x12. You need to think of representing every decision variable in the inequality. Same for the equality, which will be 4x12.\n",
    "\n",
    "Let's say we model the problem and are also given some updated values for the cost matrix.\n",
    "\n",
    "![updated_details](Screenshot_2023-08-17_14-45-10.png)"
   ]
  },
  {
   "cell_type": "code",
   "execution_count": 19,
   "id": "f1a52558",
   "metadata": {},
   "outputs": [
    {
     "name": "stdout",
     "output_type": "stream",
     "text": [
      "fmin = 3530\n",
      "ans =\n",
      "\n",
      "   -5\n",
      "    0\n",
      "    0\n",
      "   10\n",
      "   11\n",
      "   19\n",
      "    8\n",
      "\n",
      "x =\n",
      "\n",
      "     0\n",
      "     0\n",
      "    60\n",
      "     0\n",
      "    75\n",
      "     0\n",
      "    20\n",
      "    30\n",
      "     0\n",
      "   120\n",
      "     0\n",
      "     0\n",
      "\n"
     ]
    }
   ],
   "source": [
    "### LP\n",
    "\n",
    "stock = [60,150,190];\n",
    "demand = [75,120,80,30]; % from the notes: [30,80,120,75]\n",
    "\n",
    "C = [20,28,14,25,\n",
    "     10,12,19,8;\n",
    "     17,11,23,14];\n",
    "% A simple reshape will not do the job, because matrices are read down rows first, but we need it rows first\n",
    "C = reshape(C', 12,1);\n",
    "\n",
    "AI = zeros(3,12);\n",
    "% i is for depo, j is for store\n",
    "% supply is the inequality\n",
    "for i=1:3\n",
    "    for j=1:4\n",
    "        AI(i,j+(i-1)*4)=1;\n",
    "    end\n",
    "end\n",
    "\n",
    "AE = zeros(4,12);\n",
    "% demand is the equality\n",
    "for i=1:4\n",
    "    for j=1:3\n",
    "        AE(i,(j-1)*4+i)=1;\n",
    "    end\n",
    "end\n",
    "\n",
    "lb = zeros(1,12);\n",
    "\n",
    "A = [AI;AE];\n",
    "b = [stock, demand];\n",
    "\n",
    "param.dual = 3; # dual simplex\n",
    "\n",
    "ctype = \"UUUSSSS\"; # all upper bounds\n",
    "vartype = \"CCCCCCCCCCCC\"; # continuous variable, usually you don't want an integer variable\n",
    "sense = 1; # -1 is for maximimsation\n",
    "\n",
    "[x, fmin, status, extra] = glpk(C, A, b, lb, [], ctype, vartype, sense, param);\n",
    "\n",
    "fmin\n",
    "extra.lambda\n",
    "x\n"
   ]
  },
  {
   "cell_type": "markdown",
   "id": "36686e53",
   "metadata": {},
   "source": [
    "![LP to Dual](Screenshot_2023-08-17_16-28-59.png)"
   ]
  },
  {
   "cell_type": "code",
   "execution_count": 30,
   "id": "b54d47b0",
   "metadata": {},
   "outputs": [
    {
     "name": "stdout",
     "output_type": "stream",
     "text": [
      "ans =\n",
      "\n",
      "     0\n",
      "     0\n",
      "    60\n",
      "     0\n",
      "    75\n",
      "     0\n",
      "    20\n",
      "    30\n",
      "     0\n",
      "   120\n",
      "     0\n",
      "     0\n",
      "\n",
      "Dual_x =\n",
      "\n",
      "    5\n",
      "    0\n",
      "    0\n",
      "   10\n",
      "   11\n",
      "   19\n",
      "    8\n",
      "\n"
     ]
    }
   ],
   "source": [
    "### Dual\n",
    "\n",
    "Dual_f = [-stock,demand];\n",
    "\n",
    "Dual_ineq_LHS = [-AI; AE]; #Apply reverse sign to inequalities\n",
    "\n",
    "\n",
    "lb = [0,0,0,-inf,-inf,-inf,-inf];\n",
    "ub = [inf,inf,inf,inf,inf,inf,inf];\n",
    "\n",
    "param.dual = 3; # dual simplex\n",
    "\n",
    "ctype = \"UUUUUUUUUUUU\"; # all upper bounds\n",
    "vartype = \"CCCCCCC\"; # continuous variable, usually you don't want an integer variable\n",
    "sense = -1; # -1 is for maximimsation\n",
    "\n",
    "[Dual_x, Dual_fmin, Dual_status, Dual_extra] = glpk(Dual_f', Dual_ineq_LHS', C', lb, ub, ctype, vartype, sense, param);\n",
    "\n",
    "Dual_extra.lambda\n",
    "Dual_x"
   ]
  },
  {
   "cell_type": "markdown",
   "id": "b9a614ae",
   "metadata": {},
   "source": [
    "The nature of this is that the Dual and the original program should have the same fmin.\n",
    "\n",
    "The lambda of the original LP should be the objective values of the Dual, and vice-versa."
   ]
  },
  {
   "cell_type": "code",
   "execution_count": 28,
   "id": "c1486486",
   "metadata": {},
   "outputs": [
    {
     "name": "stdout",
     "output_type": "stream",
     "text": [
      "ans =\r\n",
      "\r\n",
      "  0\r\n",
      "  1\r\n",
      "  1\r\n",
      "  1\r\n",
      "  1\r\n",
      "  1\r\n",
      "  1\r\n",
      "\r\n"
     ]
    }
   ],
   "source": [
    "assert(fmin == Dual_fmin);\n",
    "assert(Dual_extra.lambda == x);\n",
    "\n",
    "# This one assertion fails, why is there one element that's positive and one negative.\n",
    "\n",
    "extra.lambda == Dual_x"
   ]
  },
  {
   "cell_type": "code",
   "execution_count": null,
   "id": "0906166e",
   "metadata": {},
   "outputs": [],
   "source": []
  }
 ],
 "metadata": {
  "kernelspec": {
   "display_name": "Octave",
   "language": "octave",
   "name": "octave"
  },
  "language_info": {
   "file_extension": ".m",
   "help_links": [
    {
     "text": "GNU Octave",
     "url": "https://www.gnu.org/software/octave/support.html"
    },
    {
     "text": "Octave Kernel",
     "url": "https://github.com/Calysto/octave_kernel"
    },
    {
     "text": "MetaKernel Magics",
     "url": "https://metakernel.readthedocs.io/en/latest/source/README.html"
    }
   ],
   "mimetype": "text/x-octave",
   "name": "octave",
   "version": "6.4.0"
  }
 },
 "nbformat": 4,
 "nbformat_minor": 5
}
