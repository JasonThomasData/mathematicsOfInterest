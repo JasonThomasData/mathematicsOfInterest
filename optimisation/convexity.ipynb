{
 "cells": [
  {
   "cell_type": "markdown",
   "id": "07f7431b",
   "metadata": {},
   "source": [
    "### Convexity\n",
    "\n",
    "Suppose there are two points on a function and we propose that the function is convex between the points.\n",
    "\n",
    "Then it might be like this:"
   ]
  },
  {
   "cell_type": "code",
   "execution_count": 21,
   "id": "ede165e4",
   "metadata": {},
   "outputs": [
    {
     "data": {
      "image/png": "[encoded data removed]",
      "text/plain": [
       "<IPython.core.display.Image object>"
      ]
     },
     "metadata": {},
     "output_type": "display_data"
    }
   ],
   "source": [
    "function y = lineToPlot(x)\n",
    "    y = x.^2;\n",
    "end\n",
    "\n",
    "x = linspace(-2, 2);\n",
    "y = lineToPlot(x);\n",
    "\n",
    "x1 = -0.9;\n",
    "x2 = 0.9;\n",
    "\n",
    "p1 = [x1 lineToPlot(x1)];\n",
    "p2 = [x2 lineToPlot(x2)];\n",
    "\n",
    "plot(x,y);\n",
    "hold on;\n",
    "plot(p1(1), p1(2), \"mo\");\n",
    "plot(p2(1), p2(2), \"mo\");"
   ]
  },
  {
   "cell_type": "markdown",
   "id": "10098215",
   "metadata": {},
   "source": [
    "We can draw a straight line between the two points, aka straight line interpolation.\n",
    "\n",
    "We can formulate the straight line's $ x, y $ components individually, by choosing a $ \\lambda: $\n",
    "\n",
    "$ \\lambda = [0,1] $, and let it vary $ 1 \\to 0 $\n",
    "\n",
    "Then the straight line is made of points, and it is:\n",
    "\n",
    "$ (x, y) = \\lambda(x_1, y_1) + (1 - \\lambda)(x_2, y_2) $\n",
    "\n",
    "Then we can split that into the $ x, y $ components:\n",
    "\n",
    "$ x = \\lambda x_1 + (1 - \\lambda)x_2 $\n",
    "\n",
    "$ f(x) = \\lambda f(x_1) + (1 - \\lambda)f(x_2) $\n",
    "\n",
    "$ y = \\lambda y_1 + (1 - \\lambda)y_2 $"
   ]
  },
  {
   "cell_type": "code",
   "execution_count": 22,
   "id": "b4472ab6",
   "metadata": {},
   "outputs": [
    {
     "data": {
      "image/png": "[encoded data removed]",
      "text/plain": [
       "<IPython.core.display.Image object>"
      ]
     },
     "metadata": {},
     "output_type": "display_data"
    }
   ],
   "source": [
    "lambda = linspace(1,0);\n",
    "straightLine_x = lambda.*p1(1) .+ (1 .- lambda).*p2(1);\n",
    "straightLine_y = lambda.*p1(2) .+ (1 .- lambda).*p2(2);\n",
    "\n",
    "plot(x,y);\n",
    "hold on;\n",
    "plot(p1(1), p1(2), \"mo\");\n",
    "plot(p2(1), p2(2), \"mo\");\n",
    "hold on;\n",
    "plot(straightLine_x, straightLine_y);"
   ]
  },
  {
   "cell_type": "markdown",
   "id": "b9fab05f",
   "metadata": {},
   "source": [
    "We can say a function is convex on the interval $ [a, b] $, where $ x_1, x_2 \\in [a, b] $ if:\n",
    "\n",
    "$ \\lambda x_1 + (1 - \\lambda)x_2 \\le \\lambda f(x_1) + (1 - \\lambda)f(x_2) $\n",
    "\n",
    "\n"
   ]
  },
  {
   "cell_type": "markdown",
   "id": "c8e23a54",
   "metadata": {},
   "source": [
    "### Strictly convex\n",
    "\n",
    "A function is strictly convex if it is convex everywhere.\n",
    "\n",
    "### A useful result\n",
    "\n",
    "This defines convexity:\n",
    "\n",
    "![convexOrStrictlyConvex](Screenshot_2023-08-07_14-29-49.png)\n",
    "\n",
    "For strictly convex, we replace the inequalities with strict inequalities.\n",
    "\n",
    "Given this then a definition for a function that is convex but not strictly convex is a function with a flat line in it. It's possible for a straight line between two points on the function to be precisely equal to the flat part of the function, so it's convex but not strictly convex.\n",
    "\n"
   ]
  },
  {
   "cell_type": "code",
   "execution_count": null,
   "id": "33b7bd56",
   "metadata": {},
   "outputs": [],
   "source": []
  }
 ],
 "metadata": {
  "kernelspec": {
   "display_name": "Octave",
   "language": "octave",
   "name": "octave"
  },
  "language_info": {
   "file_extension": ".m",
   "help_links": [
    {
     "text": "GNU Octave",
     "url": "https://www.gnu.org/software/octave/support.html"
    },
    {
     "text": "Octave Kernel",
     "url": "https://github.com/Calysto/octave_kernel"
    },
    {
     "text": "MetaKernel Magics",
     "url": "https://metakernel.readthedocs.io/en/latest/source/README.html"
    }
   ],
   "mimetype": "text/x-octave",
   "name": "octave",
   "version": "6.4.0"
  }
 },
 "nbformat": 4,
 "nbformat_minor": 5
}
