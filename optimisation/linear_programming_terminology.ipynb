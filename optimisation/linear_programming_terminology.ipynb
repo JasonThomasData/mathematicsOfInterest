{
 "cells": [
  {
   "cell_type": "markdown",
   "id": "808570de",
   "metadata": {},
   "source": [
    "### Terminology\n",
    "\n",
    "- Objective function - the function that we must either maximise or minimise, or optimise in some other way\n",
    "- Decision variables - the variables that we must decide on how much of each to use\n",
    "- Constraint functions - the functions that limit the problem\n",
    "\n",
    "#### Example\n",
    "\n",
    "A toy factory makes soldiers and trains. The toys sell for different prices and make different profits. Trains take $ 3 $ hours to make and soldiers take $ 1 $ hour to make. The machine to make them in one week is available for 200 hours.\n",
    "\n",
    "__decision variables__\n",
    "\n",
    "Let $ X, Y $ be trains and soldiers respectively.\n",
    "\n",
    "__objective function__\n",
    "\n",
    "Soldiers make $ \\$ 5 $ profit and the trains make $ \\$ 3 $ profit.\n",
    "\n",
    "$ \\max \\{ 5X + 3Y \\} $ is the objective function\n",
    "\n",
    "__constraints__\n",
    "\n",
    "$ 3X + 1Y \\le 200 $\n"
   ]
  },
  {
   "cell_type": "code",
   "execution_count": null,
   "id": "54251553",
   "metadata": {},
   "outputs": [],
   "source": []
  }
 ],
 "metadata": {
  "kernelspec": {
   "display_name": "Octave",
   "language": "octave",
   "name": "octave"
  },
  "language_info": {
   "file_extension": ".m",
   "help_links": [
    {
     "text": "GNU Octave",
     "url": "https://www.gnu.org/software/octave/support.html"
    },
    {
     "text": "Octave Kernel",
     "url": "https://github.com/Calysto/octave_kernel"
    },
    {
     "text": "MetaKernel Magics",
     "url": "https://metakernel.readthedocs.io/en/latest/source/README.html"
    }
   ],
   "mimetype": "text/x-octave",
   "name": "octave",
   "version": "6.4.0"
  }
 },
 "nbformat": 4,
 "nbformat_minor": 5
}
