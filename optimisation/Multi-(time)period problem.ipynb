{
 "cells": [
  {
   "cell_type": "markdown",
   "id": "ad385c41",
   "metadata": {},
   "source": [
    "### Multi-(time)period problem\n",
    "\n",
    "Consider this problem:\n",
    "\n",
    "![Air Freedom word problem](Screenshot_2023-07-31_09-27-34.png)\n",
    "\n",
    "We may use this notation to talk about the periods occuring:\n",
    "\n",
    "![Period problem notation](Screenshot_2023-07-31_09-28-27.png)\n",
    "\n",
    "![model](Screenshot_2023-07-31_09-41-26.png)"
   ]
  },
  {
   "cell_type": "code",
   "execution_count": null,
   "id": "fbe318a0",
   "metadata": {},
   "outputs": [],
   "source": []
  }
 ],
 "metadata": {
  "kernelspec": {
   "display_name": "Octave",
   "language": "octave",
   "name": "octave"
  },
  "language_info": {
   "file_extension": ".m",
   "help_links": [
    {
     "text": "GNU Octave",
     "url": "https://www.gnu.org/software/octave/support.html"
    },
    {
     "text": "Octave Kernel",
     "url": "https://github.com/Calysto/octave_kernel"
    },
    {
     "text": "MetaKernel Magics",
     "url": "https://metakernel.readthedocs.io/en/latest/source/README.html"
    }
   ],
   "mimetype": "text/x-octave",
   "name": "octave",
   "version": "6.4.0"
  }
 },
 "nbformat": 4,
 "nbformat_minor": 5
}
