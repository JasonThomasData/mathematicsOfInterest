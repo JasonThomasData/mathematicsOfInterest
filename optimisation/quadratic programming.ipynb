{
 "cells": [
  {
   "cell_type": "markdown",
   "id": "9daea92a",
   "metadata": {},
   "source": [
    "### Quadratic programming\n",
    "\n",
    "Note that linear programming is a special case of quadratic programming.\n",
    "\n",
    "Usually in linear programming we try:\n",
    "\n",
    "$ min c^T x $ as an objective function\n",
    "\n",
    "In quadratic programming we try (with constraints):\n",
    "\n",
    "$ min c^T x + \\frac{1}{2} x^T Q x $\n",
    "\n",
    "$ Ax \\le b $\n",
    "\n",
    "$ Bx = d $\n",
    "\n",
    "$ x \\ge 0 $\n",
    "\n",
    "So now we can write this as a Lagrangian:\n",
    "\n",
    "$ \\mathcal{L}(x, \\lambda) = c^T x + \\frac{1}{2} x^T Q x + \\lambda_1^T(Ax - b) + \\lambda_2^T(Bx - d) + \\mu(-x) $\n",
    "\n",
    "Rearrange it so every term has $ x^T $:\n",
    "\n",
    "$ \\mathcal{L}(x, \\lambda) = c x^T + \\frac{1}{2} x^T Q x + (A^Tx^T \\lambda_1 - b^T \\lambda_1 ) + ( B^Tx^T \\lambda_2-  d^T \\lambda_2) + x^T \\mu $\n",
    "\n",
    "Now find the gradient:\n",
    "\n",
    "$ \\nabla f_x = c + Q x + A^T \\lambda_1  + B^T \\lambda_2 + \\mu = 0 $\n",
    "\n",
    "QUESTION: GET THE THEORY FOR WHY THE $ \\mu(-x) $ appears. lso how\n",
    "\n",
    "If we relable:\n",
    "\n",
    "$ Aeq = B $\n",
    "\n",
    "$ beq = d $\n",
    "\n",
    "Then these terms that appear in the $ \\nabla \\mathcal{L} $ are what we can pass to either Gnu Octave or Matlab.\n",
    "\n",
    "$ Q, c, A, b, Aeq, beq, LB, UB $\n",
    "\n",
    "#### Example\n",
    "\n",
    "$ \\begin{matrix} min & 5x_1^2 + 6 x_1 x_2 + 5^2 x_2^2 \\\\\n",
    "s.t. & 5x_1 + 6x_2 = 16 \\\\\n",
    " & 10x_1 + 5x_2 = 16 \\end{matrix} $"
   ]
  },
  {
   "cell_type": "code",
   "execution_count": 21,
   "id": "3c9e3466",
   "metadata": {},
   "outputs": [
    {
     "name": "stdout",
     "output_type": "stream",
     "text": [
      "x =\r\n",
      "\r\n",
      "   0.4571\r\n",
      "   2.2857\r\n",
      "\r\n"
     ]
    }
   ],
   "source": [
    "% Aside from loading the package, this looks identical to MATLAB\n",
    "\n",
    "pkg load optim\n",
    "\n",
    "Q = [5, 3;\n",
    "     3, 5];\n",
    "c = zeros(2,1); % no linear terms of x\n",
    "A = []; % no inequality constraints\n",
    "b = [];\n",
    "Aeq = [5, 6; \n",
    "     10, 5];\n",
    "beq = [16;16];\n",
    "\n",
    "LB = [0;0];\n",
    "UB = [];\n",
    "\n",
    "x = quadprog(Q,c,A,b,Aeq,beq,LB,UB);\n",
    "x"
   ]
  },
  {
   "cell_type": "code",
   "execution_count": 23,
   "id": "7f2062af",
   "metadata": {},
   "outputs": [
    {
     "name": "stdout",
     "output_type": "stream",
     "text": [
      "x =\r\n",
      "\r\n",
      "   0.4571\r\n",
      "   2.2857\r\n",
      "  -2.3510\r\n",
      "   0.2612\r\n",
      "\r\n"
     ]
    }
   ],
   "source": [
    "% Check complementarity conditions\n",
    "\n",
    "B = [Q, Aeq'; Aeq, zeros(2,2)];\n",
    "x = B\\[-c; beq];\n",
    "x"
   ]
  },
  {
   "cell_type": "code",
   "execution_count": null,
   "id": "db07de73",
   "metadata": {},
   "outputs": [],
   "source": []
  }
 ],
 "metadata": {
  "kernelspec": {
   "display_name": "Octave",
   "language": "octave",
   "name": "octave"
  },
  "language_info": {
   "file_extension": ".m",
   "help_links": [
    {
     "text": "GNU Octave",
     "url": "https://www.gnu.org/software/octave/support.html"
    },
    {
     "text": "Octave Kernel",
     "url": "https://github.com/Calysto/octave_kernel"
    },
    {
     "text": "MetaKernel Magics",
     "url": "https://metakernel.readthedocs.io/en/latest/source/README.html"
    }
   ],
   "mimetype": "text/x-octave",
   "name": "octave",
   "version": "6.4.0"
  }
 },
 "nbformat": 4,
 "nbformat_minor": 5
}
