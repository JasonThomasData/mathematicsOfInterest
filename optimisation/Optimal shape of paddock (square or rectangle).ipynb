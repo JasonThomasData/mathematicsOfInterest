{
 "cells": [
  {
   "cell_type": "markdown",
   "id": "b615467e",
   "metadata": {},
   "source": [
    "### Optimal shape of paddock (square or rectangle)\n",
    "\n",
    "You are given a fixed length electric fence and asked to set it up in a flat field to ensure your\n",
    "sheep will have the maximum possible area.\n",
    "\n",
    "---\n",
    "\n",
    "I propose that a circular field might be the most efficient, but I haven't figured out how to compare circles to other shapes (other than ellipses).\n",
    "\n",
    "This solution shows that a square is more optimal than a rectangle.\n",
    "\n",
    "Let:\n",
    "\n",
    "$ l $ be a fixed length of fence.\n",
    "\n",
    "$ x, y $ be two sides of a square or rectangle.\n",
    "\n",
    "Rectangles and squares share the same formulas:\n",
    "\n",
    "Area: $ A = xy $\n",
    "\n",
    "Perimeter: $ l = 2x + 2y $\n",
    "\n",
    "Since we know the value of $ l $ then let's express $ A $ in terms of $ l $:\n",
    "\n",
    "$ l = 2x + 2y $\n",
    "\n",
    "$ l -2x = 2y $\n",
    "\n",
    "$ y = \\frac{l}{2} -x $\n",
    "\n",
    "$ A = x \\left(\\frac{l}{2} -x \\right) $\n",
    "\n",
    "$ A = \\frac{l}{2}x - x^2 $\n",
    "\n",
    "As an objective function, it's non-linear.\n",
    "\n",
    "So let's find the first derivative.\n",
    "\n",
    "$\\frac{d}{dx}(A) = \\frac{l}{2} - 2x $\n",
    "\n",
    "The optimum area given the known $ l $ is where the derivative is $ 0 $\n",
    "\n",
    "$ 0 = \\frac{l}{2} - 2x $\n",
    "\n",
    "$ x = \\frac{l}{4} $\n",
    "\n",
    "And this means that the point where $ A $ is maximised is where $ x $ is a quarter of the fence length, which is a square."
   ]
  },
  {
   "cell_type": "code",
   "execution_count": 4,
   "id": "a7467b98",
   "metadata": {},
   "outputs": [
    {
     "data": {
      "image/png": "[encoded data removed]",
      "text/plain": [
       "<IPython.core.display.Image object>"
      ]
     },
     "metadata": {},
     "output_type": "display_data"
    }
   ],
   "source": [
    "l = 10;\n",
    "x = linspace(0.00001,5);\n",
    "A = l/2 .* x .- x.^2;\n",
    "\n",
    "plot(x, A);\n",
    "hold on;\n",
    "line([2.5,2.5],[0,7])"
   ]
  },
  {
   "cell_type": "code",
   "execution_count": null,
   "id": "028f9807",
   "metadata": {},
   "outputs": [],
   "source": []
  }
 ],
 "metadata": {
  "kernelspec": {
   "display_name": "Octave",
   "language": "octave",
   "name": "octave"
  },
  "language_info": {
   "file_extension": ".m",
   "help_links": [
    {
     "text": "GNU Octave",
     "url": "https://www.gnu.org/software/octave/support.html"
    },
    {
     "text": "Octave Kernel",
     "url": "https://github.com/Calysto/octave_kernel"
    },
    {
     "text": "MetaKernel Magics",
     "url": "https://metakernel.readthedocs.io/en/latest/source/README.html"
    }
   ],
   "mimetype": "text/x-octave",
   "name": "octave",
   "version": "6.4.0"
  }
 },
 "nbformat": 4,
 "nbformat_minor": 5
}
