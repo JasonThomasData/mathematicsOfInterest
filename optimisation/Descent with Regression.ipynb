{
 "cells": [
  {
   "cell_type": "markdown",
   "id": "f31d0c90",
   "metadata": {},
   "source": [
    "### Regressian descent\n",
    "\n",
    "In the first models from the lecture, an extra term got a better result\n",
    "\n",
    "In the second examples, adding anoher term didn't help much. More effective was optimising the step length $ t $.\n",
    "\n",
    "WATCH AND SUMMARISE 1st and 2nd videos week 5"
   ]
  },
  {
   "cell_type": "code",
   "execution_count": null,
   "id": "4f9c7ec1",
   "metadata": {},
   "outputs": [],
   "source": []
  }
 ],
 "metadata": {
  "kernelspec": {
   "display_name": "Octave",
   "language": "octave",
   "name": "octave"
  },
  "language_info": {
   "file_extension": ".m",
   "help_links": [
    {
     "text": "GNU Octave",
     "url": "https://www.gnu.org/software/octave/support.html"
    },
    {
     "text": "Octave Kernel",
     "url": "https://github.com/Calysto/octave_kernel"
    },
    {
     "text": "MetaKernel Magics",
     "url": "https://metakernel.readthedocs.io/en/latest/source/README.html"
    }
   ],
   "mimetype": "text/x-octave",
   "name": "octave",
   "version": "6.4.0"
  }
 },
 "nbformat": 4,
 "nbformat_minor": 5
}
