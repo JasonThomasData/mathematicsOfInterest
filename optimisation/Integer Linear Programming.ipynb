{
 "cells": [
  {
   "attachments": {},
   "cell_type": "markdown",
   "id": "e99df0ed",
   "metadata": {},
   "source": [
    "### Integer Linear Programming\n",
    "\n",
    "This is similar to linear programming, but with the added complexity of requiring integer variables.\n",
    "\n",
    "To compare all pairs of integers would be too much work. We can instead use the branch and bound method.\n",
    "\n",
    "#### Example\n",
    "\n",
    "![Screenshot_2023-09-25_13-48-54.png](Screenshot_2023-09-25_13-48-54.png)\n",
    "\n",
    "And so we take the normal LP problem (non-integer) and find the \"relaxed\" version of the problem.\n",
    "\n",
    "We then use this optmial relaxed solution to find a bound for the integer LP. The integer LP cannot possibly be more optimal than the solution for the relaxed program. We also use the optimal values for the LP as a starting place for the branch and bound method, below.\n",
    "\n",
    "Since the problem is a minimisation problem where the objective coefficinents are negative then this is actually a max problem and the above coefficients, $ \\frac{9}{2}, \\frac{7}{2} $. The relaxed optimal solution is where the two in-use constraint functions intersect.\n",
    "\n",
    "![max problem](Screenshot_2023-09-25_14-05-46.png)\n",
    "\n",
    "The above image is for the moment straight after the first iteration of branch and bound.\n",
    "\n",
    "#### Branch and bound\n",
    "\n",
    "When choosing a variable to branch, take:\n",
    "- The one that is not an integer, OR\n",
    "- The one that has the largest decimal part, OR\n",
    "- Random\n",
    "\n",
    "The first one is obvious, but the second two are equivalent. Taking that variable that has the largest decimal part is a convention only.\n",
    "\n",
    "With branching, each level of the branching represents the set of feasible solutions, where if you take the union of two then you get the feasible set. So if you took the union of all leaf nodes then that would be the set of feasible solutions for the full.\n",
    "\n",
    "The branching methodology is like this: take any of the variables that do not have integer values and then round it to the closes integer value. This could be the closest integer above and below the variable. There should be a branch above and a branch belong.\n",
    "\n",
    "![tree](Screenshot_2023-09-25_14-15-41.png)\n",
    "\n",
    "Then each node represents a set of solutions. Each leaf node is a single pair of integers. Each node that has children is a set of solutions with cardinality $ > 1 $. The union of all leaf nodes are all of the possible solutions for the integer problem.\n",
    "\n",
    "At this point, we can see that the incombent (bottom left leaf node) is optimal compared to the value on its right. \n",
    "\n",
    "Below is the second moment, which represents the third row of the tree (picture above).\n",
    "\n",
    "![second moment](Screenshot_2023-09-25_14-20-44.png)\n",
    "\n",
    "Suppose the leaf node at the bottom-middle was a set of solutions instead of a single solution. If the incombent was more optimal than the set of solutions on the right hand side then there would be no point in running the algorithm for that branch, so we instead prune that branch and accept the incombent as the optimum. If, the left-hand leaf node was less optimal than the RHS then we would instead proceed with trying to find the optimal pair of integers in that branch.\n"
   ]
  },
  {
   "cell_type": "code",
   "execution_count": null,
   "id": "ecb94436",
   "metadata": {},
   "outputs": [],
   "source": []
  }
 ],
 "metadata": {
  "kernelspec": {
   "display_name": "Octave",
   "language": "octave",
   "name": "octave"
  },
  "language_info": {
   "file_extension": ".m",
   "help_links": [
    {
     "text": "GNU Octave",
     "url": "https://www.gnu.org/software/octave/support.html"
    },
    {
     "text": "Octave Kernel",
     "url": "https://github.com/Calysto/octave_kernel"
    },
    {
     "text": "MetaKernel Magics",
     "url": "https://metakernel.readthedocs.io/en/latest/source/README.html"
    }
   ],
   "mimetype": "text/x-octave",
   "name": "octave",
   "version": "6.4.0"
  }
 },
 "nbformat": 4,
 "nbformat_minor": 5
}
