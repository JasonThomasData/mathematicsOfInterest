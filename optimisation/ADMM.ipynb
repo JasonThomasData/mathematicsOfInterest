{
 "cells": [
  {
   "cell_type": "markdown",
   "id": "92760fa6",
   "metadata": {},
   "source": [
    "### ADMM (alternating distance method of multipliers)\n",
    "\n",
    "This is a template for writing optimisation problems in the form:\n",
    "\n",
    "$ p^* = \\left\\{ \\begin{matrix} min f(x) + g(y) \\\\ s.t. Ax + By = c \\end{matrix} \\right. $\n",
    "\n",
    "Where $ A, B $ are matrices made to be the appropriate order and $ x, y $ are vectors of real numbers.\n",
    "\n",
    "This is a version of the Augmented Lagrangian method.\n",
    "\n",
    "_This doesn't require the functions to be differentiable but they must be convex_.\n",
    "\n",
    "The functions being convex means we can employ the concept of a subgradient, meaning that even functions that aren't differentiable can be minimised.\n",
    "\n",
    "#### Convexity and the subderivative\n",
    "\n",
    "_The subderivative is the set of all functions that satisfy the subgradient inequality_\n",
    "\n",
    "The standard definition of convexity is that you should be able to draw a chord between any two points of a function and find that it is always above the function, for all pairs of points within an interval.\n",
    "\n",
    "The subgradient method merely states that for any single point in a function you should be able to draw the tangent to the function at a point and find that the line is strictly equal to or below the function.\n",
    "\n",
    "The subderivative is denoted $ \\partial f(x) $\n",
    "\n",
    "##### Characterise the subderivative as a convex hull\n",
    "\n",
    "For example if you take the absolute value function of a single variable:\n",
    "\n",
    "$ f(x) = |x| $ \n",
    "\n",
    "Then the range of subderivative that can exist are the interval $ [-1, 1] $\n",
    "\n",
    "Another example is the function\n",
    "\n",
    "$ f(x) = \\left\\{ \\begin{matrix} -x & if x < 0 \\\\ x^{3/2} & if x \\ge 0 \\end{matrix} \\right. $\n",
    "\n",
    "![pic of piecewise function](Screenshot_2023-09-20_08-48-11.png)\n",
    "\n",
    "This is continuous but it's not differentiable. However its individual parts are differentiable.\n",
    "\n",
    "$ \\frac{d}{dx} f(x<0) = -1 $\n",
    "\n",
    "$ \\frac{d}{dx} f(x\\ge0) = \\frac{3}{2} x^{1/2} = \\frac{3}{2}\\sqrt{x} $\n",
    "\n",
    "Then we look to see what happens as $ x \\to 0 $.\n",
    "\n",
    "$ \\frac{d}{dx} f(x\\ge0) = \\frac{3}{2} 0 = 0 $\n",
    "\n",
    "So when $ x < 0 $:\n",
    "\n",
    "$ \\partial f(x) = [-1, 0] $\n",
    "\n",
    "##### A sum of functions that have a single variable\n",
    "\n",
    "If a function is a sum of two functions that each have a single variable then the subdifferential can be written:\n",
    "\n",
    "![summation of single functions](Screenshot_2023-09-20_09-10-29.png)\n",
    "\n",
    "This is directly relevant to the subdifferential. We take the cross-product.\n",
    "\n",
    "### ADMM - process\n",
    "\n",
    "Given a constrained problem, write it down as an augmented Lagrangian.\n",
    "\n",
    "Augmented meaning it has a penalty component.\n",
    "\n",
    "![algorithm for ADMM](Screenshot_2023-09-20_12-01-17.png)\n",
    "\n",
    "The reason is that if you have two functions that are independent then you might like to optimise over each but one at a time.\n",
    "\n",
    "Notice that for each, we fix the other variables and then vary over the variable of interest.\n",
    "\n"
   ]
  },
  {
   "cell_type": "code",
   "execution_count": null,
   "id": "31722910",
   "metadata": {},
   "outputs": [],
   "source": []
  }
 ],
 "metadata": {
  "kernelspec": {
   "display_name": "Octave",
   "language": "octave",
   "name": "octave"
  },
  "language_info": {
   "file_extension": ".m",
   "help_links": [
    {
     "text": "GNU Octave",
     "url": "https://www.gnu.org/software/octave/support.html"
    },
    {
     "text": "Octave Kernel",
     "url": "https://github.com/Calysto/octave_kernel"
    },
    {
     "text": "MetaKernel Magics",
     "url": "https://metakernel.readthedocs.io/en/latest/source/README.html"
    }
   ],
   "mimetype": "text/x-octave",
   "name": "octave",
   "version": "6.4.0"
  }
 },
 "nbformat": 4,
 "nbformat_minor": 5
}
