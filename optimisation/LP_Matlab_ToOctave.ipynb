{
 "cells": [
  {
   "cell_type": "markdown",
   "id": "be5af422",
   "metadata": {},
   "source": [
    "### A linear program - implemented using Matrices and solved with Gnu Octave, Matlab\n",
    "\n",
    "![pic of word problem](Screenshot_2023-07-26_17-19-16.png)\n"
   ]
  },
  {
   "cell_type": "markdown",
   "id": "e6802941",
   "metadata": {},
   "source": [
    "Let:\n",
    "\n",
    "$ x_1 $ be a table\n",
    "\n",
    "$ x_2 $ be a set of four chairs\n",
    "\n",
    "Carpentry hours:\n",
    "\n",
    "$ (8 * 7 + 1 * 4) * 20 = 60*20 = 1200 $ hrs\n",
    "\n",
    "Painting hours:\n",
    "\n",
    "$ 1 * 5 * 20 =100 $ hrs\n",
    "\n",
    "Wood constraints:\n",
    "\n",
    "$ 5 x_1 + 2 x_2 \\le 1700 $\n",
    "\n",
    "$ 2 x_1 + 6 x_2 \\le 1700 $\n",
    "\n",
    "Labour constraints:\n",
    "\n",
    "$ 3 x_1 + 3 x_2 \\le 1200 $\n",
    "\n",
    "$ \\frac{10}{60} x_1 + \\frac{20}{60} x_2 \\le 100 $, and it seems that this is not bounded, so any large number will do. So therefore leave it out?\n",
    "\n",
    "---\n",
    "\n",
    "#### As a linear program\n",
    "\n",
    "\n",
    "$ \\left\\{ \\begin{matrix} \\max 200 x_1 + 160 x_2 : \\\\\n",
    "5x_1 + 2x_2 \\le 1700 \\\\\n",
    "2x_1 + 6x_2 \\le 1700 \\\\\n",
    "3x_1 + 3x_2 \\le 1200 \\\\\n",
    "\\frac{10}{60}x_1 + \\frac{20}{60}x_2 \\le 100 \\\\\n",
    "x_1, x_2 \\ge 0 \\end{matrix} \\right. $\n",
    "\n",
    "And so we should make that fit:\n",
    "\n",
    "![LP structure for Matlab, Octave](Screenshot_2023-07-26_20-46-38.png)\n",
    "\n",
    "Where $ x = [x_1, x_2] $\n"
   ]
  },
  {
   "cell_type": "code",
   "execution_count": 4,
   "id": "8d3131f9",
   "metadata": {},
   "outputs": [
    {
     "name": "stdout",
     "output_type": "stream",
     "text": [
      "   300.000\r\n",
      "   100.000\r\n"
     ]
    }
   ],
   "source": [
    "clear;\n",
    "\n",
    "f=[200, 160];\n",
    "A=[5,2;\n",
    "   2,6;\n",
    "   3,3;\n",
    "   1/6, 1/3];\n",
    "b = [1700;\n",
    "     1700;\n",
    "     1200;\n",
    "     100]; # this is not defined in the word problem, so we could leave it out.\n",
    "lb = [0,0]; # These are the lower bounds\n",
    "\n",
    "param.dual = 3; # dual simplex\n",
    "\n",
    "ctype = \"UUUU\"; # all upper bounds\n",
    "vartype = \"CC\"; # continuous variable, usually you don't want an integer variable\n",
    "sense = -1; # -1 is for maximimsation\n",
    "\n",
    "[x, fmin, status, extra] = glpk(f, A, b, lb, [], ctype, vartype, sense, param);\n",
    "\n",
    "% To check duality, do\n",
    "acceptableError = 10^(-4);\n",
    "objFunctionDifference = transpose(extra.lambda)*b - f*x;\n",
    "try\n",
    "    assert(abs(objFunctionDifference) <= acceptableError);\n",
    "catch\n",
    "    error(\"difference of LP and Dual objective functions outside acceptable error\");\n",
    "end\n",
    "\n",
    "# Optimal decision values are:\n",
    "disp(x)\n"
   ]
  },
  {
   "cell_type": "code",
   "execution_count": 3,
   "id": "6b89d9d2",
   "metadata": {},
   "outputs": [
    {
     "name": "stdout",
     "output_type": "stream",
     "text": [
      "error: 'optimoptions' undefined near line 1, column 1\n",
      "\n",
      "The 'optimoptions' function belongs to the optim package from Octave\n",
      "Forge which you have installed but not loaded.  To load the package, run\n",
      "'pkg load optim' from the Octave prompt.\n",
      "\n",
      "Please read <https://www.octave.org/missing.html> to learn how you can\n",
      "contribute missing functionality.\n",
      "error: 'options' undefined near line 1, column 1\n",
      "error: 'lambda' undefined near line 1, column 1\n",
      "error: difference of LP and Dual objective functions outside acceptable error\n"
     ]
    }
   ],
   "source": [
    "# This is the equivalent code in Matlab:\n",
    "\n",
    "clear;\n",
    "\n",
    "options=optimoptions(@linprog, \"Algorithm\", \"dual-simplex\");\n",
    "\n",
    "% The objective function is to maximise (conceptual)\n",
    "% The matlab solver only provides a mimise function\n",
    "% To achieve what you want, just invert the objective function coefficients\n",
    "% EG: f=[100] becomes f=[-100];\n",
    "\n",
    "% In the program, all matrices will have two columns. These are implici for x_1, x_2\n",
    "\n",
    "% A, b should have the same number of rows, but b has one column\n",
    "\n",
    "f=[-200, -160];\n",
    "A=[5,2;\n",
    "   2,6;\n",
    "   3,3;\n",
    "   1/6, 1/3];\n",
    "b = [1700;\n",
    "     1700;\n",
    "     1200;\n",
    "     100];\n",
    "lb = [0,0]; % These are the lower bounds\n",
    "\n",
    "[x, fval, exitflag, output, lambda] = linprog(f,A,b,[],[],lb,[],options);\n",
    "\n",
    "% To check duality, do\n",
    "% Note, that since LP is a max problem and the Dual is a min problem, take\n",
    "% the oposite of one of them\n",
    "acceptableError = 10^(-4);\n",
    "objFunctionDifference = -transpose(lambda.ineqlin)*b - f*x;\n",
    "try\n",
    "    assert(abs(objFunctionDifference) <= acceptableError);\n",
    "catch\n",
    "    error(\"difference of LP and Dual objective functions outside acceptable error\");\n",
    "end\n",
    "\n",
    "# Optimal decision values are:\n",
    "disp(x)"
   ]
  },
  {
   "cell_type": "code",
   "execution_count": null,
   "id": "d853a76e",
   "metadata": {},
   "outputs": [],
   "source": []
  }
 ],
 "metadata": {
  "kernelspec": {
   "display_name": "Octave",
   "language": "octave",
   "name": "octave"
  },
  "language_info": {
   "file_extension": ".m",
   "help_links": [
    {
     "text": "GNU Octave",
     "url": "https://www.gnu.org/software/octave/support.html"
    },
    {
     "text": "Octave Kernel",
     "url": "https://github.com/Calysto/octave_kernel"
    },
    {
     "text": "MetaKernel Magics",
     "url": "https://metakernel.readthedocs.io/en/latest/source/README.html"
    }
   ],
   "mimetype": "text/x-octave",
   "name": "octave",
   "version": "6.4.0"
  }
 },
 "nbformat": 4,
 "nbformat_minor": 5
}
