{
 "cells": [
  {
   "cell_type": "markdown",
   "id": "4d6bfb8d",
   "metadata": {},
   "source": [
    "### Inexact line search algorithm\n",
    "\n",
    "Continuing from the content in the notebook about descent methods, let's say you have a gradient determined and have found direction vector.\n",
    "\n",
    "You need to take a step in the direction that is not too long or short, according to the Amijo rule and Wolfe Conditions.\n",
    "\n",
    "#### Amijo Rule\n",
    "\n",
    "#### First Wolfe Condition\n",
    "\n",
    "We would like each step in the descent to be proportional to the amount that that step optimises. We can accept large steps if the benefit is proportionally large. Small increases require small steps.\n",
    "\n",
    "To codify this we can express that as an equation:\n",
    "\n",
    "Take $ \\nabla f(x) d < 0 $, in other words, the gradient multiplied by the direction vector should be negative.\n",
    "\n",
    "Then let $ \\mu > 0 $ be a constant of propotion.\n",
    "\n",
    "Then:\n",
    "\n",
    "$ f(x_k) - f(x_k + t_k d_k) \\ge \\mu t_k $\n",
    "\n",
    "So this inequality means that $ t_k $ must deliver a result that is a benefit,\n",
    "\n",
    "Below, imagine $ \\alpha $ is $ t_k $ and $ \\gamma $ is $ \\mu $, and we can see that any step that lands below the dotted line, which is the inequality, is a benefit.\n",
    "\n",
    "![wolfe rule](Screenshot_2023-08-13_19-38-55.png)\n",
    "\n",
    "In the graph, x=1 is a small step and would be less of an increase than x=4, but x=4 isn't a good enough considering how long the step is. This is easy to detect since the step lands above the dotted line.\n",
    "\n",
    "#### Second Wolfe Condition\n",
    "\n",
    "Below, $ \\alpha $ is some step length (read as $ t_k $). $ \\gamma $ is the proportion (read as $ \\mu $) and the same concepts apply.\n",
    "\n",
    "The function that is being searched is quadratic and its derivative is therefore linear. It's also increasing.\n",
    "\n",
    "The step length could go all the way to where the derivative is $ 0 $, since that would be where the optimum is found. But we can also make it smaller. We just require it's big enough, like this:\n",
    "\n",
    "$ \\frac{\\nabla f(x_k + t_k d_k)^T d_k}{\\nabla f(x_k)^T d_k} \\le \\beta $\n",
    "\n",
    "Where: $ 0 < \\beta <  1 $\n",
    "\n",
    "Then what this means is the user chooses $ \\beta $ to be a measure of the step being long enough. If a point determined by the numerator is much smaller than the current point determined by the denominator then the quotient will be lower than the user-defined threshold of $ \\beta $\n",
    "\n",
    "If $ \\beta $ is closer to 1 then we are not as demanding, and small steps are allowable.\n",
    "\n",
    "![second wolfe cond](Screenshot_2023-08-13_19-59-35.png)\n",
    "\n",
    "#### The algorithm:\n",
    "\n",
    "![when the conditions fail](Screenshot_2023-08-13_20-10-28.png)\n",
    "\n",
    "### Exact line search by hand\n",
    "\n",
    "Usually a computer would do inexact linesearch but it's easier for us to use calculus to do exact linesearch:\n",
    "\n",
    "![line search](Screenshot_2023-08-13_22-04-39.png)\n",
    "\n",
    "![line serarch](Screenshot_2023-08-13_22-07-44.png)\n",
    "\n",
    "![line serach](Screenshot_2023-08-13_22-10-54.png)\n",
    "\n",
    "But, really not something you want to do with a computer."
   ]
  },
  {
   "cell_type": "code",
   "execution_count": null,
   "id": "876a6216",
   "metadata": {},
   "outputs": [],
   "source": []
  }
 ],
 "metadata": {
  "kernelspec": {
   "display_name": "Octave",
   "language": "octave",
   "name": "octave"
  },
  "language_info": {
   "file_extension": ".m",
   "help_links": [
    {
     "text": "GNU Octave",
     "url": "https://www.gnu.org/software/octave/support.html"
    },
    {
     "text": "Octave Kernel",
     "url": "https://github.com/Calysto/octave_kernel"
    },
    {
     "text": "MetaKernel Magics",
     "url": "https://metakernel.readthedocs.io/en/latest/source/README.html"
    }
   ],
   "mimetype": "text/x-octave",
   "name": "octave",
   "version": "6.4.0"
  }
 },
 "nbformat": 4,
 "nbformat_minor": 5
}
