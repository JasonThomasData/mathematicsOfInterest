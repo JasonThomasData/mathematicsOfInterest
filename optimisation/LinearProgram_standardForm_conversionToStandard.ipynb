{
 "cells": [
  {
   "cell_type": "markdown",
   "id": "18303198",
   "metadata": {},
   "source": [
    "### Linear program -> standard form -> canonical form\n",
    "\n",
    "Consider the following linear program\n",
    "\n",
    "![linear program](Screenshot_2023-07-24_09-24-25.png)\n",
    "\n",
    "---\n",
    "\n",
    "#### To standard form\n",
    "\n",
    "![more compact](Screenshot_2023-07-24_09-24-50.png)\n",
    "\n",
    "The above program is in standard form. A program in standard form can be expressed as matrices and vectors, so this is the ideal.\n",
    "\n",
    "The below program is not in standard form:\n",
    "\n",
    "![not standard](Screenshot_2023-07-24_09-28-39.png)\n",
    "\n",
    "But we can convert it:\n",
    "\n",
    "![converted to standard](Screenshot_2023-07-24_09-29-09.png)\n",
    "\n",
    "$ u_1, u_2 $ are slack variables, so that we can convert the inequalities to equalities.\n",
    "\n",
    "The standard for of the LP is not unique in the sense that there are an infinite number of ways to write $ x_2 = x_2^+ - x_2^- , x_2^+ > 0, x_2^- > 0 $\n",
    "\n",
    "I DON\"T UNDERSTAND $ x^+ - x^- $\n",
    "\n",
    "#### To canonical form\n",
    "\n",
    "By using the notion of slack variables, we can do:\n",
    "\n",
    "![canonical form](Screenshot_2023-07-24_11-05-28.png)\n"
   ]
  },
  {
   "cell_type": "code",
   "execution_count": null,
   "id": "cbe8acd1",
   "metadata": {},
   "outputs": [],
   "source": []
  }
 ],
 "metadata": {
  "kernelspec": {
   "display_name": "Octave",
   "language": "octave",
   "name": "octave"
  },
  "language_info": {
   "file_extension": ".m",
   "help_links": [
    {
     "text": "GNU Octave",
     "url": "https://www.gnu.org/software/octave/support.html"
    },
    {
     "text": "Octave Kernel",
     "url": "https://github.com/Calysto/octave_kernel"
    },
    {
     "text": "MetaKernel Magics",
     "url": "https://metakernel.readthedocs.io/en/latest/source/README.html"
    }
   ],
   "mimetype": "text/x-octave",
   "name": "octave",
   "version": "6.4.0"
  }
 },
 "nbformat": 4,
 "nbformat_minor": 5
}
