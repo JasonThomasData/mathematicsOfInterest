{
 "cells": [
  {
   "cell_type": "markdown",
   "id": "a402e972",
   "metadata": {},
   "source": [
    "### Simple example of a graphical technique\n",
    "\n",
    "A company makes chairs and tables:\n",
    "\n",
    "The profit per item is:\n",
    "\n",
    "$ P_t = 30 $\n",
    "\n",
    "$ P_c = 20 $\n",
    "\n",
    "The wood required per item is:\n",
    "\n",
    "$ W_t = 6 $\n",
    "\n",
    "$ W_c = 1 $\n",
    "\n",
    "The labour required is:\n",
    "\n",
    "$ L_t = 1 $ \n",
    "\n",
    "$ L_c = 3 $\n",
    "\n",
    "There are limits:\n",
    "\n",
    "The machines can process $ 288 $ units of wood per day, max\n",
    " \n",
    "The staff can commit $ 99 $ hours per day of work.\n",
    "\n",
    "#### A simple LP\n",
    "\n",
    "_Assume that chairs and tables can be continuous variables. Linear Integer programming requires a different process. We can justify it by saying that each item (chair/table) can be half finished_\n",
    "\n",
    "$ \\max 30 T + 20 C $\n",
    "\n",
    "Constraints:\n",
    "\n",
    "$ 6T + 1C \\le 288 $\n",
    "\n",
    "$ 1T + 3C \\le 99 $\n",
    "\n",
    "$ T \\le 0 $\n",
    "\n",
    "$ C \\le 0 $\n",
    "\n",
    "So the first constraint is this:\n",
    "\n",
    "![first constraint](Screenshot_2023-07-24_11-47-16.png)\n",
    "\n",
    "Notice, that the variable coefficients are equivalent to the vector normal, and this is the rate of change for that linear constraint.\n",
    "\n",
    "The below diagram has the feasible region shaded, since the second constraint is introduced:\n",
    "\n",
    "![both constraints](Screenshot_2023-07-24_11-50-14.png)\n",
    "\n",
    "Now, evaluate each point in the feasible region, and find that the pair $ (18, 45) $ is the optimum.\n",
    "\n",
    "Note that if the objective function fell on a constraint function line, then you would have a segment of solutions.\n",
    "\n",
    "Another way to think about that is to look at the pic below. The same scenario occurs when the objective function's vector normal is the same as the constraint function's vector normal. In between those two constraint function vector normals, the objective function could take any other vector normal that stays in the cone and the optimal solution identified would still be the optimal solution.\n",
    "\n",
    "![optimal solution](Screenshot_2023-07-24_22-00-15.png)"
   ]
  },
  {
   "cell_type": "code",
   "execution_count": null,
   "id": "e4d4dcdd",
   "metadata": {},
   "outputs": [],
   "source": []
  }
 ],
 "metadata": {
  "kernelspec": {
   "display_name": "Octave",
   "language": "octave",
   "name": "octave"
  },
  "language_info": {
   "file_extension": ".m",
   "help_links": [
    {
     "text": "GNU Octave",
     "url": "https://www.gnu.org/software/octave/support.html"
    },
    {
     "text": "Octave Kernel",
     "url": "https://github.com/Calysto/octave_kernel"
    },
    {
     "text": "MetaKernel Magics",
     "url": "https://metakernel.readthedocs.io/en/latest/source/README.html"
    }
   ],
   "mimetype": "text/x-octave",
   "name": "octave",
   "version": "6.4.0"
  }
 },
 "nbformat": 4,
 "nbformat_minor": 5
}
