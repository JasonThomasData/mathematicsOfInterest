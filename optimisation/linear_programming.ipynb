{
 "cells": [
  {
   "cell_type": "code",
   "execution_count": 1,
   "id": "7bf0796c",
   "metadata": {},
   "outputs": [
    {
     "name": "stderr",
     "output_type": "stream",
     "text": [
      "Loading required package: nortest\n",
      "\n",
      "Loading required package: tidyr\n",
      "\n",
      "Loading required package: jsonlite\n",
      "\n",
      "Loading required package: car\n",
      "\n",
      "Warning message in library(package, lib.loc = lib.loc, character.only = TRUE, logical.return = TRUE, :\n",
      "“there is no package called ‘car’”\n",
      "Installing package into ‘/usr/local/lib/R/site-library’\n",
      "(as ‘lib’ is unspecified)\n",
      "\n",
      "Warning message in install.packages(package, dependencies = TRUE):\n",
      "“'lib = \"/usr/local/lib/R/site-library\"' is not writable”\n"
     ]
    },
    {
     "ename": "ERROR",
     "evalue": "Error in install.packages(package, dependencies = TRUE): unable to install packages\n",
     "output_type": "error",
     "traceback": [
      "Error in install.packages(package, dependencies = TRUE): unable to install packages\nTraceback:\n",
      "1. source(\"../data_science_helpers/R_helpers.R\")",
      "2. withVisible(eval(ei, envir))",
      "3. eval(ei, envir)",
      "4. eval(ei, envir)",
      "5. install.packages(package, dependencies = TRUE)",
      "6. stop(\"unable to install packages\")"
     ]
    }
   ],
   "source": [
    "source(\"../data_science_helpers/R_helpers.R\")"
   ]
  },
  {
   "cell_type": "markdown",
   "id": "d834ee51",
   "metadata": {},
   "source": [
    "# Linear programming example using the graphical method\n",
    "\n",
    "_Joanne wants to buy x oranges and y peaches from the store. She must buy at least 5 oranges and the number of oranges must be less than twice the number of peaches. An orange weighs 150 grams and a peach weighs 100 grams. Joanne can carry not more than 3.6 kg of fruits home.\n",
    "https://www.onlinemathlearning.com/linear-programming-example.html_\n",
    "\n",
    "### Identify variables\n",
    "Those are oranges($o$) and peaches($p$)\n",
    "\n",
    "### Identify constraints\n",
    "\n",
    "Always solve for the $y$ axis, whatever that is, in this case it's p\n",
    "- $o \\ge 5$\n",
    "- $o < 2p \\to p > o2 $ \n",
    "- $o150 + p100 \\le 3600 \\to o1.5 + p \\le 36 \\to p \\le 36 - o1.5 $\n",
    "\n",
    "### Identify an objective function\n",
    "\n",
    "$ \\max(o + p) $, for all combinations of $ o, p $"
   ]
  },
  {
   "cell_type": "code",
   "execution_count": null,
   "id": "13bb024d",
   "metadata": {},
   "outputs": [],
   "source": [
    "feasible_points = data.frame()\n",
    "point_1 = get_linear_intersection(y_int_1=36, gradient_1=-1.5, y_int_2=0, gradient_2=2)\n",
    "feasible_points = rbind(feasible_points, point_1);\n",
    "point_2 = get_linear_intersection(y_int_1=36, gradient_1=-1.5, y_int_2=NULL, gradient_2=NULL, x_int_2=5)\n",
    "feasible_points = rbind(feasible_points, point_2);\n",
    "point_3 = get_linear_intersection(y_int_1=0, gradient_1=2, y_int_2=NULL, gradient_2=NULL, x_int_2=5)\n",
    "feasible_points = rbind(feasible_points, point_3);\n",
    "\n",
    "print(feasible_points)"
   ]
  },
  {
   "cell_type": "code",
   "execution_count": null,
   "id": "cbcaf955",
   "metadata": {},
   "outputs": [],
   "source": [
    "o = c(1,100)\n",
    "p = c(1,100)\n",
    "plot(o, p, type='n')\n",
    "abline(v=0, lty=1) # o>=0\n",
    "abline(h=0, lty=1) # p>=0\n",
    "abline(v=5, lty=2) # o>=6\n",
    "abline(0, 2, lty=2) #o<2p\n",
    "abline(36, -1.5, lty=2) #p<=36-o*1.5\n",
    "points(feasible_points[,1], feasible_points[,2])"
   ]
  },
  {
   "cell_type": "code",
   "execution_count": null,
   "id": "1252ee52",
   "metadata": {},
   "outputs": [],
   "source": [
    "\"\n",
    "The chart appears to have intersections at:\n",
    "    (5,28)\n",
    "    (10,20)\n",
    "    (5,10)\n",
    "Where points are in the form (o,p)\n",
    "Max o + p, substitute in these points of the feasible region\n",
    "Because 5 + 28 > 10 + 20 > 5 + 10, then the optimum is:\n",
    "5 oranges, 28 peaches\n",
    "\""
   ]
  },
  {
   "cell_type": "code",
   "execution_count": null,
   "id": "dbc04708",
   "metadata": {},
   "outputs": [],
   "source": []
  }
 ],
 "metadata": {
  "kernelspec": {
   "display_name": "R",
   "language": "R",
   "name": "ir"
  },
  "language_info": {
   "codemirror_mode": "r",
   "file_extension": ".r",
   "mimetype": "text/x-r-source",
   "name": "R",
   "pygments_lexer": "r",
   "version": "4.1.2"
  }
 },
 "nbformat": 4,
 "nbformat_minor": 5
}
