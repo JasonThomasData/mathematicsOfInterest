{
 "cells": [
  {
   "cell_type": "code",
   "execution_count": 1,
   "id": "7bf0796c",
   "metadata": {},
   "outputs": [],
   "source": [
    "source(\"../data_science_helpers/R_helpers.R\")"
   ]
  },
  {
   "cell_type": "code",
   "execution_count": 2,
   "id": "b9a9ac48",
   "metadata": {},
   "outputs": [],
   "source": [
    "# Linear programming example using the graphical method\n",
    "\n",
    "#Joanne wants to buy x oranges and y peaches from the store. She must buy at least 5 oranges and the number of oranges must be less than twice the number of peaches. An orange weighs 150 grams and a peach weighs 100 grams. Joanne can carry not more than 3.6 kg of fruits home.\n",
    "#https://www.onlinemathlearning.com/linear-programming-example.html\n",
    "\n",
    "# Identify variables\n",
    "# Those are oranges(o) and peaches(p)\n",
    "\n",
    "# Identify constraints\n",
    "# Always solve for the y axis, whatever that is, in this case it's p\n",
    "# o >= 5 (constraint)\n",
    "# o < 2p (constraint) -> p > o2\n",
    "# o150 + p100 <= 3600 (constraint) -> o1.5 + p <= 36 -> p <= 36 - o1.5\n",
    "\n",
    "# Identify and objective function\n",
    "# max fruit = o + p (objective function)"
   ]
  },
  {
   "cell_type": "code",
   "execution_count": 26,
   "id": "13bb024d",
   "metadata": {},
   "outputs": [
    {
     "name": "stdout",
     "output_type": "stream",
     "text": [
      "  X10.2857142857143 X20.5714285714286\n",
      "1          10.28571          20.57143\n",
      "2           5.00000          28.50000\n",
      "3           5.00000          10.00000\n"
     ]
    }
   ],
   "source": [
    "feasible_points = data.frame()\n",
    "point_1 = get_linear_intersection(y_int_1=36, gradient_1=-1.5, y_int_2=0, gradient_2=2)\n",
    "feasible_points = rbind(feasible_points, point_1)\n",
    "point_2 = get_linear_intersection(y_int_1=36, gradient_1=-1.5, y_int_2=NULL, gradient_2=NULL, x_int_2=5)\n",
    "feasible_points = rbind(feasible_points, point_2)\n",
    "point_3 = get_linear_intersection(y_int_1=0, gradient_1=2, y_int_2=NULL, gradient_2=NULL, x_int_2=5)\n",
    "feasible_points = rbind(feasible_points, point_3)\n",
    "\n",
    "print(feasible_points)"
   ]
  },
  {
   "cell_type": "code",
   "execution_count": 27,
   "id": "cbcaf955",
   "metadata": {},
   "outputs": [
    {
     "data": {
      "image/png": "[encoded data removed]",
      "text/plain": [
       "plot without title"
      ]
     },
     "metadata": {
      "image/png": {
       "height": 420,
       "width": 420
      }
     },
     "output_type": "display_data"
    }
   ],
   "source": [
    "o = c(1,100)\n",
    "p = c(1,100)\n",
    "plot(o, p, type='n')\n",
    "abline(v=0, lty=1) # o>=0\n",
    "abline(h=0, lty=1) # p>=0\n",
    "abline(v=5, lty=2) # o>=6\n",
    "abline(0, 2, lty=2) #o<2p\n",
    "abline(36, -1.5, lty=2) #p<=36-o*1.5\n",
    "points(feasible_points[,1], feasible_points[,2])"
   ]
  },
  {
   "cell_type": "code",
   "execution_count": 29,
   "id": "1252ee52",
   "metadata": {},
   "outputs": [
    {
     "ename": "ERROR",
     "evalue": "Error in parse(text = x, srcfile = src): <text>:1:5: unexpected symbol\n1: The graph\n        ^\n",
     "output_type": "error",
     "traceback": [
      "Error in parse(text = x, srcfile = src): <text>:1:5: unexpected symbol\n1: The graph\n        ^\nTraceback:\n"
     ]
    }
   ],
   "source": [
    "\"\n",
    "The chart appears to have intersections at:\n",
    "    (5,28)\n",
    "    (10,20)\n",
    "    (5,10)\n",
    "Where points are in the form (o,p)\n",
    "Max o + p, substitute in these points of the feasible region\n",
    "Because 5 + 28 > 10 + 20 > 5 + 10, then the optimum is:\n",
    "5 oranges, 28 peaches\n",
    "\""
   ]
  },
  {
   "cell_type": "code",
   "execution_count": null,
   "id": "dbc04708",
   "metadata": {},
   "outputs": [],
   "source": []
  }
 ],
 "metadata": {
  "kernelspec": {
   "display_name": "R",
   "language": "R",
   "name": "ir"
  },
  "language_info": {
   "codemirror_mode": "r",
   "file_extension": ".r",
   "mimetype": "text/x-r-source",
   "name": "R",
   "pygments_lexer": "r",
   "version": "3.6.3"
  }
 },
 "nbformat": 4,
 "nbformat_minor": 5
}
