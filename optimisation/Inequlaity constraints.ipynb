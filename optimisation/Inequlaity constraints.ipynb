{
 "cells": [
  {
   "cell_type": "markdown",
   "id": "5623fda8",
   "metadata": {},
   "source": [
    "### Inequality constraints in non-linear optimisation\n",
    "\n",
    "This notebook follows on from the one about \"Lagrange multipliers, lagrangia\"\n",
    "\n",
    "![inequality constraints](Screenshot_2023-09-05_13-25-28.png)\n",
    "\n",
    "![visualised](Screenshot_2023-09-05_13-28-43.png)\n",
    "\n",
    "What this picture shows is that $ \\epsilon $ varies. If you move $ \\epsilon $ positive then the otimal condition would be where the dotted line is, meaning the $ x_1 = \\epsilon $ constraint would become inactive.\n",
    "\n",
    "The difference between this and the content in the \"Lagrange multipliers, lagrangia\" notebook is that each constraint $ g_i $ will have its own $ \\lambda_i $\n",
    "\n"
   ]
  },
  {
   "cell_type": "code",
   "execution_count": null,
   "id": "ee25cc21",
   "metadata": {},
   "outputs": [],
   "source": []
  }
 ],
 "metadata": {
  "kernelspec": {
   "display_name": "Octave",
   "language": "octave",
   "name": "octave"
  },
  "language_info": {
   "file_extension": ".m",
   "help_links": [
    {
     "text": "GNU Octave",
     "url": "https://www.gnu.org/software/octave/support.html"
    },
    {
     "text": "Octave Kernel",
     "url": "https://github.com/Calysto/octave_kernel"
    },
    {
     "text": "MetaKernel Magics",
     "url": "https://metakernel.readthedocs.io/en/latest/source/README.html"
    }
   ],
   "mimetype": "text/x-octave",
   "name": "octave",
   "version": "6.4.0"
  }
 },
 "nbformat": 4,
 "nbformat_minor": 5
}
