{
 "cells": [
  {
   "cell_type": "markdown",
   "id": "f11da19e",
   "metadata": {},
   "source": [
    "### Constrained optimisation, non-linear problems\n",
    "\n",
    "The trick is, generally, to turn constrained problems into unconstrained problems. Then we can use descent methods etc.\n",
    "\n",
    "These constraints have the basic form:\n",
    "\n",
    "![constraints](Screenshot_2023-09-04_14-08-00.png)\n",
    "\n",
    "Consider the equality problem.\n",
    "\n",
    "A point $ x^* $ is a minimum if any feasible change leads to an increase.\n",
    "\n",
    "In other words, we want to find $ x $ where any small feasible change leads to no overall change.\n",
    "\n",
    "$ h(x^* + d) = 0 $\n",
    "\n",
    "So then we will want to determine what $ d $ is. This is what we mean with constraint; it restricts the way in which we can move away from the point.\n",
    "\n",
    "Similarly for the program in the screenshot above, the inequality constraint would be:\n",
    "\n",
    "$ g(x^* + d) \\le 0 $\n",
    "\n",
    "Back to $ h(x^*) $, if we want to ___ then we use the first order Taylor Expansion. The first order is another name for linearisation. The linearisation at the point $ x^* $ is also just the gradient times the direction.\n",
    "\n",
    "$ h(x^* + d) = h_i(x^*) + \\nabla h_i(x^*)^T d + o(||d||) $\n",
    "\n",
    "Where $ o $ is all of the terms that are of an order that we wish not to think about.\n",
    "\n",
    "Since we demand that $ h(x^* + d) = 0 $ then $ h(x^*) $\n",
    "\n",
    "We can also divide everything by $ ||d|| $\n",
    "\n",
    "$ h(x^* + d) = \\nabla h_i(x^*)^T \\frac{d}{||d||} + \\frac{o(||d||)}{||d||} $\n",
    "\n",
    "Let $ \\hat d = \\frac{d}{||d||} $\n",
    "\n",
    "As $ ||d|| \\to 0 $ then $ \\frac{o(||d||)}{||d||} \\to 0 $ \n",
    "\n",
    "So:\n",
    "\n",
    "$ h(x^* + d) = \\nabla h_i(x^*)^T \\hat d = 0 $\n",
    "\n",
    "It's true for all $ i $. This set of first-order variations is known as the linearised cone.\n",
    "\n",
    "$ LC_S(x^*) = \\{ d | \\nabla h_i(x^*)^T \\hat d = 0, \\forall i \\in I \\} $\n",
    "\n",
    "For the inequality constraint it's similar:\n",
    "\n",
    "$ LC_S(x^*) = \\{ d | \\nabla g_i(x^*)^T \\hat d \\le 0, \\forall i \\in A(x^*) \\} $\n",
    "\n",
    "Where $A $ is:\n",
    "\n",
    "$ A = \\{i \\in I | g_i(x^*) = 0 \\} $\n",
    "\n",
    "Above, $ A $ is the set of active constraints. If $ g_i(x^*) = 0 $ then the constraint at $ i $ is active.\n",
    "\n",
    "\n"
   ]
  },
  {
   "cell_type": "code",
   "execution_count": null,
   "id": "1fc76ff0",
   "metadata": {},
   "outputs": [],
   "source": []
  }
 ],
 "metadata": {
  "kernelspec": {
   "display_name": "Octave",
   "language": "octave",
   "name": "octave"
  },
  "language_info": {
   "file_extension": ".m",
   "help_links": [
    {
     "text": "GNU Octave",
     "url": "https://www.gnu.org/software/octave/support.html"
    },
    {
     "text": "Octave Kernel",
     "url": "https://github.com/Calysto/octave_kernel"
    },
    {
     "text": "MetaKernel Magics",
     "url": "https://metakernel.readthedocs.io/en/latest/source/README.html"
    }
   ],
   "mimetype": "text/x-octave",
   "name": "octave",
   "version": "6.4.0"
  }
 },
 "nbformat": 4,
 "nbformat_minor": 5
}
