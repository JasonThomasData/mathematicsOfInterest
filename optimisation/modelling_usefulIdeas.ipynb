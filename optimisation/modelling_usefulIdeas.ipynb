{
 "cells": [
  {
   "cell_type": "markdown",
   "id": "68363f53",
   "metadata": {},
   "source": [
    "### Modelling process and useful ideas\n",
    "\n",
    "Concerning LP, the lecturer said:\n",
    "\n",
    "![tips and useful ideas](Screenshot_2023-07-24_12-17-47.png)\n",
    "\n",
    "![on adding variables](Screenshot_2023-07-31_09-10-39.png)\n",
    "\n",
    "Regarding \"multi-period\", I think this means that there are several moments to be considered.\n"
   ]
  },
  {
   "cell_type": "code",
   "execution_count": null,
   "id": "3855ff58",
   "metadata": {},
   "outputs": [],
   "source": []
  }
 ],
 "metadata": {
  "kernelspec": {
   "display_name": "Octave",
   "language": "octave",
   "name": "octave"
  },
  "language_info": {
   "file_extension": ".m",
   "help_links": [
    {
     "text": "GNU Octave",
     "url": "https://www.gnu.org/software/octave/support.html"
    },
    {
     "text": "Octave Kernel",
     "url": "https://github.com/Calysto/octave_kernel"
    },
    {
     "text": "MetaKernel Magics",
     "url": "https://metakernel.readthedocs.io/en/latest/source/README.html"
    }
   ],
   "mimetype": "text/x-octave",
   "name": "octave",
   "version": "6.4.0"
  }
 },
 "nbformat": 4,
 "nbformat_minor": 5
}
