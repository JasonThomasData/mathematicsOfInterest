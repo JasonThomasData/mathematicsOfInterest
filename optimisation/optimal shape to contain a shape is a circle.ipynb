{
 "cells": [
  {
   "cell_type": "markdown",
   "id": "cf9f4aeb",
   "metadata": {},
   "source": [
    "### Optimal circumference of a round shape to contain area\n",
    "\n",
    "Given a fixed area, which can be squished etc, then what is the shape that has the lowest surface area? Is it better to use an ellipse or a circle?\n",
    "\n",
    "---\n",
    "\n",
    "The circumference of a circle is $ 2 \\pi r $\n",
    "\n",
    "Then the circumference of a quarter circle is $ \\frac{\\pi r}{2} $. This is a convenient shape because it has $ x, y $ along its straight edges.\n",
    "\n",
    "It is known that the circumference of an ellipse isn't known precisely, but this is pretty good:\n",
    "\n",
    "$ 2 \\pi \\sqrt{\\frac{x^2 + y^2}{2}} $\n",
    "\n",
    "I haven't figured out why this is but I think we can use it for an objective function for the quarter ellipse:\n",
    "\n",
    "$ \\frac{1}{2} \\pi \\sqrt{\\frac{x^2 + y^2}{2}} $\n",
    "\n",
    "So, if we're going to vary $ x, y $ then we need to keep the area the same.\n",
    "\n",
    "The area of a quarter circle is $\\frac{\\pi r^2}{4}$\n",
    "\n",
    "But for an ellipse, the single $ r $ becomes two values, $ x, y $:\n",
    "\n",
    "$\\frac{\\pi xy}{4}$\n",
    "\n",
    "We need to define a constraint that says the area remains the same as the quarter circle as we vary $ x, y $.\n",
    "\n",
    "$\\frac{\\pi xy}{4} = \\frac{\\pi r^2}{4} $\n",
    "\n",
    "Then:\n",
    "\n",
    "$ y = \\frac{r^2}{x} $ is a \"constraint\" function.\n"
   ]
  },
  {
   "cell_type": "code",
   "execution_count": 6,
   "id": "f32ea917",
   "metadata": {},
   "outputs": [
    {
     "data": {
      "image/png": "[encoded data removed]",
      "text/plain": [
       "<IPython.core.display.Image object>"
      ]
     },
     "metadata": {},
     "output_type": "display_data"
    }
   ],
   "source": [
    "r = 10;\n",
    "\n",
    "x = linspace(5,20);\n",
    "y = r^2./x;\n",
    "\n",
    "plot(x, y);\n",
    "title(\"Relationship between ellipse x, y if area is fixed\")\n",
    "axis square;\n",
    "axis([0 20 0 20])"
   ]
  },
  {
   "cell_type": "markdown",
   "id": "d9ef47de",
   "metadata": {},
   "source": [
    "We add our \"constraint\" to the objective function. \n",
    "\n",
    "$ \\frac{1}{2} \\pi \\sqrt{\\frac{x^2 + \\left( \\frac{r^2}{x} \\right)^2}{2}} $\n",
    "\n",
    "$ \\frac{1}{2} \\pi \\sqrt{\\frac{x^4 + r^4}{2x^2}} $"
   ]
  },
  {
   "cell_type": "code",
   "execution_count": 23,
   "id": "d233d9ba",
   "metadata": {
    "scrolled": false
   },
   "outputs": [
    {
     "data": {
      "image/png": "[encoded data removed]",
      "text/plain": [
       "<IPython.core.display.Image object>"
      ]
     },
     "metadata": {},
     "output_type": "display_data"
    }
   ],
   "source": [
    "z = 1/2 * pi * sqrt((x.^4 + r.^4)./(2.*x.^2));\n",
    "plot(x, z);\n",
    "hold on;\n",
    "axis square;\n",
    "axis([0 25 0 25]);\n",
    "plot([10,1], [0,25], \"o\")"
   ]
  },
  {
   "cell_type": "markdown",
   "id": "c54332b2",
   "metadata": {},
   "source": [
    "Given that $ r $ is fixed and $ y $ depends on $ x $, then we can minimise the circumference of the shape by finding the minimum for $ z $. The minimum of the objective function is where $ x = 10 $, which happens to be $ r $.\n",
    "\n",
    "Since the function is differentiable then we can find the minimum with the first derivative.\n",
    "\n",
    "$ \\frac{1}{2} \\pi (\\frac{1}{2}x^4 + r^4x^{-2})^{1/2} $\n",
    "\n",
    "But $ r^4 $ is a constant, so we can calculate this using a simple chain rule.\n",
    "\n",
    "DO THE CHAIN RULE\n",
    "\n",
    "Since this is the optimal shape of a quarter circle, then a circle is a scalar multiple of our solution, so then a constant radius is also the most optimal in that case also."
   ]
  },
  {
   "cell_type": "code",
   "execution_count": null,
   "id": "a5c90420",
   "metadata": {},
   "outputs": [],
   "source": []
  }
 ],
 "metadata": {
  "kernelspec": {
   "display_name": "Octave",
   "language": "octave",
   "name": "octave"
  },
  "language_info": {
   "file_extension": ".m",
   "help_links": [
    {
     "text": "GNU Octave",
     "url": "https://www.gnu.org/software/octave/support.html"
    },
    {
     "text": "Octave Kernel",
     "url": "https://github.com/Calysto/octave_kernel"
    },
    {
     "text": "MetaKernel Magics",
     "url": "https://metakernel.readthedocs.io/en/latest/source/README.html"
    }
   ],
   "mimetype": "text/x-octave",
   "name": "octave",
   "version": "6.4.0"
  }
 },
 "nbformat": 4,
 "nbformat_minor": 5
}
