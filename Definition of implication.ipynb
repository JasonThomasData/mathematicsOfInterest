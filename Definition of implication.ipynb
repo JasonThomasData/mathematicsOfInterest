{
 "cells": [
  {
   "cell_type": "markdown",
   "id": "9cda4b81",
   "metadata": {},
   "source": [
    "### Definition of implication\n",
    "\n",
    "If you wanted to define implication as a logical statement, you could apply this.\n",
    "\n",
    "$ P \\to Q $ is defined with the truth table \n",
    "\n",
    "$\\begin{matrix} P & Q & P\\to Q \\\\ T & T & T \\\\ T & F & F \\\\ F & T & T \\\\ F & F & T \\end{matrix} $\n",
    "\n",
    "But what are its internal parts?\n",
    "\n",
    "Let's define where the implication is wrong using $ \\neg, \\vee, \\wedge $\n",
    "\n",
    "$ \\neg (P \\to Q) \\Longleftrightarrow (P \\wedge \\neg Q) $\n",
    "\n",
    "And so its negation is, using DeMorgan's law:\n",
    "\n",
    "$ (P \\to Q) \\Longleftrightarrow (\\neg P \\vee Q) $\n",
    "\n",
    "Now compare the LHS to the RHS and find the tautology:\n",
    "\n",
    "$\\begin{matrix} P & Q & P\\to Q & \\neg P & \\neg P \\vee Q \\\\ T & T & T & F & T \\\\ T & F & F & F & F \\\\ F & T & T & T & T \\\\ F & F & T & T & T \\end{matrix} $\n",
    "\n",
    "So clearly, $ (P \\to Q) \\Longleftrightarrow (\\neg P \\vee Q) $"
   ]
  },
  {
   "cell_type": "code",
   "execution_count": null,
   "id": "4705a715",
   "metadata": {},
   "outputs": [],
   "source": []
  }
 ],
 "metadata": {
  "kernelspec": {
   "display_name": "Octave",
   "language": "octave",
   "name": "octave"
  },
  "language_info": {
   "file_extension": ".m",
   "help_links": [
    {
     "text": "GNU Octave",
     "url": "https://www.gnu.org/software/octave/support.html"
    },
    {
     "text": "Octave Kernel",
     "url": "https://github.com/Calysto/octave_kernel"
    },
    {
     "text": "MetaKernel Magics",
     "url": "https://metakernel.readthedocs.io/en/latest/source/README.html"
    }
   ],
   "mimetype": "text/x-octave",
   "name": "octave",
   "version": "6.4.0"
  }
 },
 "nbformat": 4,
 "nbformat_minor": 5
}
