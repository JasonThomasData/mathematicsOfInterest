{
 "cells": [
  {
   "cell_type": "markdown",
   "id": "6b166b41",
   "metadata": {},
   "source": [
    "Thanks to Bayes' Theorem we know this:\n",
    "\n",
    "Let:\n",
    "\n",
    "$ H $ be the hypothesis\n",
    "\n",
    "$ E $ be the evidence\n",
    "\n",
    "$ P(H|E) \\propto P(E|H) P(H) $\n",
    "\n",
    "In other words:\n",
    "\n",
    "Posterior $ \\propto $ Likelihood * Prior\n",
    "\n",
    "What happens when the posterior is very difficult or impossible to find?\n",
    "\n",
    "We can find a sample from the posterior using the Markov Chain Monte Carlo method. Specifically, we will use the Metropolis-Hastings algorithm.\n",
    "\n",
    "#### Monte Carlo\n",
    "\n",
    "Implies that this process is stochastic, or, will use randomness.\n",
    "\n",
    "#### Markov Chain\n",
    "\n",
    "Implies that some part of this uses the results of previous tries.\n",
    "\n"
   ]
  },
  {
   "cell_type": "markdown",
   "id": "47a6b05c",
   "metadata": {},
   "source": [
    "#### Metropolis-Hastings algorithm\n",
    "\n",
    "We need a method to accept new values into the posterior distribution.\n",
    "\n",
    "$ p $ is a candidate from the proposal distribution.\n",
    "\n",
    "$ l $ is the last added to posterior distribution.\n",
    "\n",
    "$ a = \\frac{\\textrm{Likelihood(p)}*\\textrm{Prior(p)}}{\\textrm{Likelihood(l)}*\\textrm{Prior(l)}} $\n",
    "\n",
    "If $ a >= 1$, then we accept the new state. It becomes part of our bag of data that we know is from the posterior distribution.\n",
    "\n",
    "If $a < 1$ then we use this logic: draw from a uniform distribution between 0 and 1. Call it $ U $.\n",
    "\n",
    "If $U < a$ then accept the $ p $. Add it to the posterior distribution and mark it as $ l $.\n"
   ]
  },
  {
   "cell_type": "markdown",
   "id": "4e02a654",
   "metadata": {},
   "source": [
    "Ah I think this is wrong in parts but it is good enough to give an idea for how it should work."
   ]
  },
  {
   "cell_type": "code",
   "execution_count": 105,
   "id": "5f29125f",
   "metadata": {},
   "outputs": [],
   "source": [
    "# Decide whether the proposed Mean is accepted or not\n",
    "metropolisHastingsDecision = function(likelihoodProposed, priorProposed, likelihoodMeanLast, priorMeanLast) {\n",
    "    proposedPosteriorDatum = (likelihoodProposed * priorProposed)\n",
    "    lastPosteriorDatum = (likelihoodMeanLast * priorMeanLast)\n",
    "    acceptanceProbability = proposedPosteriorDatum/lastPosteriorDatum\n",
    "\n",
    "    if (acceptanceProbability >= 1) {\n",
    "        return(TRUE)\n",
    "    }\n",
    "    randomUniform = runif(1, 0, 1)\n",
    "    if (randomUniform < acceptanceProbability) {\n",
    "        return(TRUE)\n",
    "    }\n",
    "    return(FALSE)\n",
    "}"
   ]
  },
  {
   "cell_type": "code",
   "execution_count": 132,
   "id": "6031e29a",
   "metadata": {},
   "outputs": [
    {
     "name": "stdout",
     "output_type": "stream",
     "text": [
      "[1] 82.50968\n"
     ]
    },
    {
     "data": {
      "image/png": "[encoded data removed]",
      "text/plain": [
       "Plot with title “Histogram of posteriorSample”"
      ]
     },
     "metadata": {
      "image/png": {
       "height": 420,
       "width": 420
      }
     },
     "output_type": "display_data"
    }
   ],
   "source": [
    "posteriorSample = c() # the posterior is (assumed) hard to know but we can get a sample from it using this MCMC method\n",
    "\n",
    "# This is what we have control over, spend time defining this\n",
    "priorDistribution = function(p) {\n",
    "    mean = 81\n",
    "    STD = sqrt(100)\n",
    "    (dnorm(p, mean, STD))\n",
    "}\n",
    "\n",
    "# This is the model\n",
    "likelihoodDistribution = function(p) {\n",
    "    mean = 85\n",
    "    STD = sqrt(110)\n",
    "    (dnorm(p, mean, STD))\n",
    "}\n",
    "\n",
    "# This is arbitrary and acts as a discovery method, but these will be accepted or rejected later.\n",
    "proposalDistribution = function(mean, STD) {\n",
    "    (rnorm(n=1, mean, STD))\n",
    "}\n",
    "\n",
    "iterations = 2000\n",
    "burnIn = 100 # Throw away this many first iterations, as they might depend too much on initial parameters\n",
    "meanSeed = 80 # The meanSeed is effectively not important, if burnIn is used\n",
    "STDSeed = 2\n",
    "\n",
    "meanLast = meanSeed\n",
    "STDLast= STDSeed # In this example, the STD won't change\n",
    "\n",
    "for (i in 1:iterations) {\n",
    "    meanProposed = proposalDistribution(meanLast, STDLast)\n",
    "\n",
    "    likelihoodProposed = likelihoodDistribution(meanProposed)\n",
    "    priorProposed = priorDistribution(meanProposed)\n",
    "    likelihoodMeanLast = likelihoodDistribution(meanLast)\n",
    "    priorMeanLast = priorDistribution(meanLast)\n",
    "\n",
    "    if (metropolisHastingsDecision(likelihoodProposed, priorProposed, likelihoodMeanLast, priorMeanLast)) {\n",
    "        posteriorSample = c(posteriorSample, meanProposed)\n",
    "        meanLast = meanProposed\n",
    "    } else {\n",
    "        posteriorSample = c(posteriorSample, meanLast)\n",
    "    }\n",
    "}\n",
    "\n",
    "if (burnIn > 0) {\n",
    "    posteriorSample = posteriorSample[-c(1:burnIn)]\n",
    "}\n",
    "\n",
    "hist(posteriorSample)\n",
    "print(mean(posteriorSample))\n"
   ]
  },
  {
   "cell_type": "code",
   "execution_count": null,
   "id": "47cbc73d",
   "metadata": {},
   "outputs": [],
   "source": []
  },
  {
   "cell_type": "code",
   "execution_count": null,
   "id": "98dae327",
   "metadata": {},
   "outputs": [],
   "source": []
  }
 ],
 "metadata": {
  "kernelspec": {
   "display_name": "Python 3 (ipykernel)",
   "language": "python",
   "name": "python3"
  },
  "language_info": {
   "codemirror_mode": {
    "name": "ipython",
    "version": 3
   },
   "file_extension": ".py",
   "mimetype": "text/x-python",
   "name": "python",
   "nbconvert_exporter": "python",
   "pygments_lexer": "ipython3",
   "version": "3.10.12"
  }
 },
 "nbformat": 4,
 "nbformat_minor": 5
}
