{
 "cells": [
  {
   "cell_type": "markdown",
   "id": "a79a2692",
   "metadata": {},
   "source": [
    "### Things to consider before doing analyses\n",
    "\n",
    "#### What is the prior distribution?\n",
    "\n",
    "- Perhaps the most important step in the analysis\n",
    "- How confident are you with the prior?\n",
    "\n",
    "Steps:\n",
    "- Identify the appropriate distribution\n",
    "- Identify the parameters to make that happen\n",
    "\n",
    "These parameters are the things that we will tweak as a result of the analysis\n",
    "\n",
    "#### Is the parameter continuous or discrete?\n",
    "\n",
    "The parameter of interest and the prior distribution need to match in this regard.\n",
    "\n",
    "#### What is the domain of the parameter of interest?\n",
    "\n",
    "The parameter of interest and the prior distribution need to match in this regard.\n",
    "\n",
    "#### How many parameters do we need?\n",
    "\n",
    "Most prior distributions need two. Eg. The normal distribution has: mean and standard deviation.\n",
    "\n",
    "The way to interpret those:\n",
    "- Mean: expert information\n",
    "- Variance/std: degree of belief\n",
    "\n",
    "Some distributions need just one parameter, eg. exponential distribution.\n",
    "\n",
    "#### Is the prior distribution a conjugate prior?\n",
    "\n",
    "We should try and choose a prior distribution that is the same type as the liklihood's distribution. The likelihood is the part of $ P(A|B) = P(B|A) $ on the RHS. The intuition here, I think, is that the posterior is proportional to the likelihood * prior:\n",
    "\n",
    "$ P(A|B) \\propto P(B|A)P(A) $\n",
    "\n",
    "The main consideration is to make the calculation of posterior feasible."
   ]
  },
  {
   "cell_type": "code",
   "execution_count": null,
   "id": "9c6e1e23",
   "metadata": {},
   "outputs": [],
   "source": []
  }
 ],
 "metadata": {
  "kernelspec": {
   "display_name": "Octave",
   "language": "octave",
   "name": "octave"
  },
  "language_info": {
   "file_extension": ".m",
   "help_links": [
    {
     "text": "GNU Octave",
     "url": "https://www.gnu.org/software/octave/support.html"
    },
    {
     "text": "Octave Kernel",
     "url": "https://github.com/Calysto/octave_kernel"
    },
    {
     "text": "MetaKernel Magics",
     "url": "https://metakernel.readthedocs.io/en/latest/source/README.html"
    }
   ],
   "mimetype": "text/x-octave",
   "name": "octave",
   "version": "5.2.0"
  }
 },
 "nbformat": 4,
 "nbformat_minor": 5
}
