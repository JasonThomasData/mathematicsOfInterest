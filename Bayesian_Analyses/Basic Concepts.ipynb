{
 "cells": [
  {
   "cell_type": "markdown",
   "id": "dbda8dd0",
   "metadata": {},
   "source": [
    "### Basic Concepts\n",
    "\n",
    "- Classical Statistics allows you to predict the likelihood of an event based on known causes\n",
    "- Bayesian Statistics allows you to predict a cause of an event based on an iterative process of updating the credibility of each cause.\n",
    "\n",
    "This typically uses less data, but, requires more computation.\n",
    "\n",
    "This is a good explanation: https://www.youtube.com/watch?v=3OJEae7Qb_o and is also the source of the pics here\n",
    "\n",
    "![bayes vs classical analysis](differenceClassicalVsBayes.png)\n",
    "\n",
    "If you used the classical statistical approach then you would need:\n",
    "- parameters\n",
    "- a generative model\n",
    "This model would produce simulated data and you'd use the residuals to evaluate the model and change the parameters if needed.\n",
    "With the Bayesian approach, we have the data. The process needs:\n",
    "- parameters\n",
    "- a generative model\n",
    "- prior information for the model, pre-data\n",
    "\n",
    "It's good to grash Bayes' Theorem before doing any of this (see notebook).\n",
    "\n",
    "The same video referenced earlier provides this insight into how Bayes Theorem relates to Bayesian Data Analytics:\n",
    "\n",
    "![theorem relation to process](Screenshot_2022-07-31_17-34-59.png)\n",
    "\n"
   ]
  },
  {
   "cell_type": "markdown",
   "id": "36c63f8a",
   "metadata": {},
   "source": [
    "In real world problems, Bayesian Analyses focus on the estimation of parameters that define the probability distribution that is used to define the prior (probably word this better)"
   ]
  },
  {
   "cell_type": "code",
   "execution_count": null,
   "id": "9ee0adee",
   "metadata": {},
   "outputs": [],
   "source": []
  }
 ],
 "metadata": {
  "kernelspec": {
   "display_name": "R",
   "language": "R",
   "name": "ir"
  },
  "language_info": {
   "codemirror_mode": "r",
   "file_extension": ".r",
   "mimetype": "text/x-r-source",
   "name": "R",
   "pygments_lexer": "r",
   "version": "3.6.3"
  }
 },
 "nbformat": 4,
 "nbformat_minor": 5
}
