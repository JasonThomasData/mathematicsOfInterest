{
 "cells": [
  {
   "cell_type": "markdown",
   "id": "4a5123b5",
   "metadata": {},
   "source": [
    "### Video 2 - exercise on decision analysis\n",
    "\n",
    "From video - https://www.youtube.com/watch?v=mAUwjSo5TJE\n",
    "\n",
    "This follows from the exercise on XY or AB testing.\n",
    "\n",
    "Suppose that in addition to X, Y, there are different profits\n",
    "\n",
    "Again, we have:\n",
    "\n",
    "X: 6/16 via pamphlet in post\n",
    "\n",
    "Y: 10/16 via salmon and pamphlet in post\n",
    "\n",
    "This time, we learn:\n",
    "\n",
    "X: costs $30\n",
    "\n",
    "Y: costs $300\n",
    "\n",
    "a subscription means we earn $1000"
   ]
  },
  {
   "cell_type": "code",
   "execution_count": 5,
   "id": "f1aff08d",
   "metadata": {},
   "outputs": [],
   "source": [
    "n_draw <- 1000000\n",
    "\n",
    "# We need two different priors\n",
    "priorX <- runif(n_draw, 0, 1)\n",
    "priorY <- runif(n_draw, 0, 1)"
   ]
  },
  {
   "cell_type": "code",
   "execution_count": 6,
   "id": "ca7e8bfe",
   "metadata": {},
   "outputs": [],
   "source": [
    "# The process is unchanged until we interpret the posterior distributions\n",
    "\n",
    "gen_model <- function(rate) {\n",
    "  subscribers = rbinom(n = 1, size = 16, prob = rate)\n",
    "  (subscribers)\n",
    "}\n",
    "\n",
    "subscribersX <- rep(NA, n_draw)\n",
    "for(i in 1:n_draw) {\n",
    "  subscribersX[i] <- gen_model(priorX[i])\n",
    "}\n",
    "subscribersY <- rep(NA, n_draw)\n",
    "for(i in 1:n_draw) {\n",
    "  subscribersY[i] <- gen_model(priorY[i])\n",
    "}\n",
    "\n",
    "# Now, we only keep both priors if both match the observed data\n",
    "observedX <- 6\n",
    "observedY <- 10\n",
    "posteriorX <- c()\n",
    "posteriorY <- c()\n",
    "for (i in 1:n_draw) {\n",
    "    if(subscribersX[i] == observedX &&\n",
    "       subscribersY[i] == observedY) {\n",
    "        posteriorX <- c(posteriorX, priorX[i])\n",
    "        posteriorY <- c(posteriorY, priorY[i])\n",
    "    }\n",
    "}"
   ]
  },
  {
   "cell_type": "markdown",
   "id": "c498aa2f",
   "metadata": {},
   "source": [
    "Now we introduce the costs to each posterior"
   ]
  },
  {
   "cell_type": "code",
   "execution_count": 3,
   "id": "25f8e8c2",
   "metadata": {},
   "outputs": [],
   "source": [
    "profitDistX = posteriorX * 1000 - 30\n",
    "profitDistY = posteriorY * 1000 - 300"
   ]
  },
  {
   "cell_type": "markdown",
   "id": "6d31c9aa",
   "metadata": {},
   "source": [
    "Now, the difference should give us an idea about which method is better."
   ]
  },
  {
   "cell_type": "code",
   "execution_count": 4,
   "id": "5a554538",
   "metadata": {},
   "outputs": [
    {
     "data": {
      "image/png": "[encoded data removed]",
      "text/plain": [
       "Plot with title “Histogram of diff”"
      ]
     },
     "metadata": {
      "image/png": {
       "height": 420,
       "width": 420
      }
     },
     "output_type": "display_data"
    }
   ],
   "source": [
    "diff = profitDistY - profitDistX\n",
    "hist(diff)"
   ]
  },
  {
   "cell_type": "markdown",
   "id": "b90075c6",
   "metadata": {},
   "source": [
    "This reveals that we expect to lose money from the second method, because of the costs of sending a salmon. But there is a lot of uncertainty in the distribution. More data would assist in making the decision."
   ]
  },
  {
   "cell_type": "code",
   "execution_count": null,
   "id": "b7efe18e",
   "metadata": {},
   "outputs": [],
   "source": []
  }
 ],
 "metadata": {
  "kernelspec": {
   "display_name": "R",
   "language": "R",
   "name": "ir"
  },
  "language_info": {
   "codemirror_mode": "r",
   "file_extension": ".r",
   "mimetype": "text/x-r-source",
   "name": "R",
   "pygments_lexer": "r",
   "version": "4.1.2"
  }
 },
 "nbformat": 4,
 "nbformat_minor": 5
}
