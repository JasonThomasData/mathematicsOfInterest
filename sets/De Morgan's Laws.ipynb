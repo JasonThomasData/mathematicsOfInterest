{
 "cells": [
  {
   "cell_type": "markdown",
   "id": "dc8717f0",
   "metadata": {},
   "source": [
    "### DeMorgan's Laws\n",
    "\n",
    "$ A \\diagdown (B \\cup C) \\iff (A \\diagdown B) \\cap (A \\diagdown C) $\n",
    "\n",
    "$ A \\diagdown (B \\cap C) \\iff (A \\diagdown B) \\cup (A \\diagdown C) $\n",
    "\n",
    "#### Direct proof of the first case\n",
    "\n",
    "$ (B \\cup C) \\iff \\{x \\in B \\vee x \\in C\\} $\n",
    "\n",
    "$ A \\diagdown (B \\cup C) \\iff \\{x \\in A \\wedge x \\not \\in \\{x \\in B \\vee x \\in C\\} \\} $\n",
    "\n",
    "$ x \\not \\in \\{x \\in B \\vee x \\in C\\} \\iff \\{ x \\not \\in B \\wedge x \\not \\in C \\} $\n",
    "\n",
    "$ A \\diagdown (B \\cup C) \\iff \\{x \\in A \\wedge \\{ x \\not \\in B \\wedge x \\not \\in C \\} \\} $\n",
    "\n",
    "By distribution:\n",
    "\n",
    "$ A \\diagdown (B \\cup C) \\iff \\{ \\{x \\in A \\wedge x \\not \\in B\\} \\wedge \\{ x \\in A \\wedge x \\not \\in C \\} \\} $\n",
    "\n",
    "$ (A \\diagdown B) \\cap (A \\diagdown C) \\iff \\{ \\{x \\in A \\wedge x \\not \\in B\\} \\wedge \\{ x \\in A \\wedge x \\not \\in C \\} \\} $\n",
    "\n",
    "$ \\therefore A \\diagdown (B \\cup C) \\iff (A \\diagdown B) \\cap (A \\diagdown C) $"
   ]
  },
  {
   "cell_type": "code",
   "execution_count": null,
   "id": "4d355a9b",
   "metadata": {},
   "outputs": [],
   "source": []
  }
 ],
 "metadata": {
  "kernelspec": {
   "display_name": "Octave",
   "language": "octave",
   "name": "octave"
  },
  "language_info": {
   "file_extension": ".m",
   "help_links": [
    {
     "text": "GNU Octave",
     "url": "https://www.gnu.org/software/octave/support.html"
    },
    {
     "text": "Octave Kernel",
     "url": "https://github.com/Calysto/octave_kernel"
    },
    {
     "text": "MetaKernel Magics",
     "url": "https://metakernel.readthedocs.io/en/latest/source/README.html"
    }
   ],
   "mimetype": "text/x-octave",
   "name": "octave",
   "version": "6.4.0"
  }
 },
 "nbformat": 4,
 "nbformat_minor": 5
}
