{
 "cells": [
  {
   "cell_type": "markdown",
   "id": "8af7caae",
   "metadata": {},
   "source": [
    "#### Indexed families of sets\n",
    "\n",
    "Let $ I $ be any set, such that\n",
    "\n",
    "$ \\forall i \\in I \\to A_i = \\{a_1, a_2, ... a_n \\} $, where $ n $ is the cardinality of $ A_i $\n",
    "\n",
    "Using the natural numbers for the indexes would be an obvious choice.\n",
    "\n",
    "Then this is expressed as:\n",
    "\n",
    "$ \\{A_i\\}_{i\\in N} $\n",
    "\n",
    "#### A family of sets with a finite index\n",
    "\n",
    "An example might look like:\n",
    "\n",
    "$ S = \\{s_1, s_2, s_3, s_4, s_5\\} $\n",
    "\n",
    "$ I = \\{1,2,3,4\\} $\n",
    "\n",
    "$ F = \\{A_1, A_2, A_3, A_4\\} $ is a multiset, allowing multiple identical elements\n",
    "\n",
    "$ A_1 = \\{s_1, s_3\\} $\n",
    "\n",
    "$ A_2 = \\{s_3, s_4\\} $\n",
    "\n",
    "$ A_3 = \\{s_3, s_4\\} $\n",
    "\n",
    "$ A_5 = \\{s_3, s_5\\} $\n",
    "\n",
    "#### Union of a family of sets\n",
    "\n",
    "To use the above example of a finite set:\n",
    "\n",
    "$\\bigcup\\limits_{i=1}^5 A_i$\n",
    "\n",
    "Then over the family of sets, this is:\n",
    "\n",
    "$ \\{s_1, s_3, s_4, s_5 \\} $\n",
    "\n",
    "Notice that the element $ s_2 $ didn't appear in any index set, so it's not in the union.\n",
    "\n",
    "#### Intersection of a family of sets\n",
    "\n",
    "To use the above example of a finite set:\n",
    "\n",
    "$\\bigcap\\limits_{i=1}^5 A_i$\n",
    "\n",
    "Then over the family of sets, this is:\n",
    "\n",
    "$ \\{s_3\\} $\n",
    "\n",
    "The element appears in every set in the family of sets."
   ]
  },
  {
   "cell_type": "code",
   "execution_count": null,
   "id": "8fa622c5",
   "metadata": {},
   "outputs": [],
   "source": []
  }
 ],
 "metadata": {
  "kernelspec": {
   "display_name": "Octave",
   "language": "octave",
   "name": "octave"
  },
  "language_info": {
   "file_extension": ".m",
   "help_links": [
    {
     "text": "GNU Octave",
     "url": "https://www.gnu.org/software/octave/support.html"
    },
    {
     "text": "Octave Kernel",
     "url": "https://github.com/Calysto/octave_kernel"
    },
    {
     "text": "MetaKernel Magics",
     "url": "https://metakernel.readthedocs.io/en/latest/source/README.html"
    }
   ],
   "mimetype": "text/x-octave",
   "name": "octave",
   "version": "6.4.0"
  }
 },
 "nbformat": 4,
 "nbformat_minor": 5
}
