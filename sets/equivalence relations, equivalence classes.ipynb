{
 "cells": [
  {
   "cell_type": "markdown",
   "id": "e202d334",
   "metadata": {},
   "source": [
    "### Relation\n",
    "\n",
    "A binary relation is a relation that associates elements of one set with another set. These are called the domain and co-domain.\n",
    "\n",
    "$ R: X \\to Y $\n",
    "\n",
    "$ xRy \\subseteq X \\times Y $\n",
    "\n",
    "#### Equivalence relation\n",
    "\n",
    "Let:\n",
    "\n",
    "$ (x, y, z) \\in X \\times X \\times X $\n",
    "\n",
    "$ R $ be some relation on set $ X $\n",
    "\n",
    "$ R $ is an equivalence relation if it satisfies these conditions:\n",
    "\n",
    "- R is Reflexive\n",
    "\n",
    "$ x R x \\space\\space \\forall x$\n",
    "\n",
    "In other words, every element of $ X $ relates to itself.\n",
    "\n",
    "- R is symmetric\n",
    "\n",
    "$ x R y = y R x \\space\\space \\forall (x, y)$\n",
    "\n",
    "Then this relation has the intuitive property of commutation.\n",
    "\n",
    "- R is transitive\n",
    "\n",
    "If $ x R y $ and $ y R z $ then $ x R z $\n",
    "\n",
    "This is similar to the functional notion of composition.\n",
    "\n",
    "_Given a set and a relation, you should check that the relation on the set meets the conditions before you say it's an equivalence relation on the set._\n",
    "\n",
    "#### Equivalence class\n",
    "\n",
    "Take some element in the set. It is a representative of its equivalence class. Its equivalence class is the set of all elements that are equivalent:\n",
    "\n",
    "$ [x] = \\{(x, y) \\in X\\times X: x R y \\} $ \n",
    "\n",
    "Note this is expressed as the cross product because the equivalence class includes the representative element for the class.\n",
    "\n",
    "Two equivalence classes are either equal or are disjoint and have elements in common.\n",
    "\n",
    "#### Quotient by ~\n",
    "\n",
    "$ \\frac{X}{\\sim} = \\{[x] : x \\in X \\} $\n",
    "\n",
    "In other words, the quotient is the set of all equivalence classes.\n",
    "\n",
    "#### Example of an equivalence relation\n",
    "\n",
    "TO DO"
   ]
  },
  {
   "cell_type": "code",
   "execution_count": null,
   "id": "2ac01554",
   "metadata": {},
   "outputs": [],
   "source": []
  }
 ],
 "metadata": {
  "kernelspec": {
   "display_name": "Octave",
   "language": "octave",
   "name": "octave"
  },
  "language_info": {
   "file_extension": ".m",
   "help_links": [
    {
     "text": "GNU Octave",
     "url": "https://www.gnu.org/software/octave/support.html"
    },
    {
     "text": "Octave Kernel",
     "url": "https://github.com/Calysto/octave_kernel"
    },
    {
     "text": "MetaKernel Magics",
     "url": "https://metakernel.readthedocs.io/en/latest/source/README.html"
    }
   ],
   "mimetype": "text/x-octave",
   "name": "octave",
   "version": "6.4.0"
  }
 },
 "nbformat": 4,
 "nbformat_minor": 5
}
