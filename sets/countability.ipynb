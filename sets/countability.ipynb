{
 "cells": [
  {
   "cell_type": "markdown",
   "id": "7d06465a",
   "metadata": {},
   "source": [
    "### Infinite sets and countability\n",
    "\n",
    "Sets may be finite, countably infinite and uncountable\n",
    "\n",
    "#### Finite\n",
    "\n",
    "This is a set with a cardinality $ < \\infty $\n",
    "\n",
    "#### Countably infinite\n",
    "\n",
    "_To prove this, you need to show there is a bijection, or a 1:1 correspondence, with the natural numbers_\n",
    "\n",
    "If you have a set of values $ S_1 = \\{ 1,2,3,4,...,\\infty \\} $ then they can be refered to with a position function:\n",
    "\n",
    "$ f(1) = 1 \\\\ f(2) = 2 \\\\ f(3) = 3 \\\\ ... \\\\ f(n) = n $\n",
    "\n",
    "Then this set has a correspondence with the natural numbers. It doesn't matter if every member of a set is larger than the natural numbers:\n",
    "\n",
    "$ S_2 = \\{ 2, 4, 6, 8, ..., \\infty \\} $\n",
    "\n",
    "Then clearly a set like this is $ 2S_1 $, elementwise.\n",
    "\n",
    "It is still countable:\n",
    "\n",
    "$ f(1) = 2 \\\\ f(2) = 4 \\\\ f(3) = 6 \\\\ ... \\\\ f(n) = \\infty $\n",
    "\n",
    "#### Uncountably infinite\n",
    "\n",
    "If you have a set of irrational values:\n",
    "\n",
    "$ S_3 = \\{ 0.1111..., 0.1112..., 0.1113..., 0.1114..., ..., \\infty \\} $\n",
    "\n",
    "Then if you were to refer to these with a correspondence to the natural numbers:\n",
    "\n",
    "$ f(1) = 0.1111... \\\\ f(2) = 0.1112... \\\\ f(3) = 0.1113... \\\\ ... \\\\ f(n) = \\infty $\n",
    "\n",
    "Then there will be a number between any two elements of the set that aren't currently referred to by $ f(n) $. You could create new notation to refer to these numbers in between, but there is an infinite number of these numbers in between. There is no useful way to have a correspondence between these irrational values and the natural numbers.\n",
    "\n",
    "You could create a more rigorous way to create numbers that are not represented here, using Cantor's diagonal argument.\n",
    "\n",
    "### Countability of sets of numbers\n",
    "\n",
    "__Natural__: countable\n",
    "\n",
    "__Integers__: countable\n",
    "\n",
    "__Rational__: countable (see this https://youtu.be/Q6xe0IPMFeM)\n",
    "\n",
    "Note that decimals with infinite repeating patterns are actually rational; you can use an analytical argument to show that each repeating decimal is a geometric series that converges to a finite value, and is therefore a rational value. TODO - ARE THERE SOME REPEATING DECIMALS THAT EXPLODE TO INF?\n",
    "\n",
    "__Irrational__: uncountable\n",
    "\n",
    "__Reals__: uncountable (it includesa irrationals)"
   ]
  },
  {
   "cell_type": "code",
   "execution_count": null,
   "id": "c489cdc1",
   "metadata": {},
   "outputs": [],
   "source": []
  },
  {
   "cell_type": "code",
   "execution_count": null,
   "id": "e3a8f809",
   "metadata": {},
   "outputs": [],
   "source": []
  }
 ],
 "metadata": {
  "kernelspec": {
   "display_name": "Octave",
   "language": "octave",
   "name": "octave"
  },
  "language_info": {
   "file_extension": ".m",
   "help_links": [
    {
     "text": "GNU Octave",
     "url": "https://www.gnu.org/software/octave/support.html"
    },
    {
     "text": "Octave Kernel",
     "url": "https://github.com/Calysto/octave_kernel"
    },
    {
     "text": "MetaKernel Magics",
     "url": "https://metakernel.readthedocs.io/en/latest/source/README.html"
    }
   ],
   "mimetype": "text/x-octave",
   "name": "octave",
   "version": "6.4.0"
  }
 },
 "nbformat": 4,
 "nbformat_minor": 5
}
