{
 "cells": [
  {
   "cell_type": "markdown",
   "id": "937e1c3c",
   "metadata": {},
   "source": [
    "### Cartesian products of sets\n",
    "\n",
    "If you have two sets then the cartesian product of those is a new set, but each element is a tuple.\n",
    "\n",
    "EG:\n",
    "\n",
    "$ S_1 = \\{a_1, a_2, a_3\\} $\n",
    "\n",
    "$ S_2 = \\{b_1, b_2 \\} $\n",
    "\n",
    "$ S_1 \\times S_2 = \\{ (a_1, b_1), (a_1, b_2), (a_2, b_1), (a_2, b_2), (a_3, b_1), (a_3, b_2) \\} $\n",
    "\n",
    "Generally, the length of tuples is equal to the number of sets.\n",
    "\n",
    "#### A finite product of an infinitely long set\n",
    "\n",
    "$ A = \\{a_1, a_2, ..., a_n \\}, n = \\infty $\n",
    "\n",
    "$ A_1 \\times A_2 = \\prod_{i=1}^{2} A_i $ \n",
    "\n",
    "This yields a infinitely long single set of 2 tuples.\n",
    "\n",
    "#### An infinite product of a finite set\n",
    "\n",
    "$ A = \\{a_1, a_2, a_3 \\} $\n",
    "\n",
    "$ A_1 \\times A_2 \\times ... \\times A_n = \\prod_{i=1}^{n} A_i $\n",
    "\n",
    "This yields a set of three elements and each element is an infinitely long tuple.\n"
   ]
  },
  {
   "cell_type": "code",
   "execution_count": null,
   "id": "75832a8f",
   "metadata": {},
   "outputs": [],
   "source": []
  }
 ],
 "metadata": {
  "kernelspec": {
   "display_name": "Octave",
   "language": "octave",
   "name": "octave"
  },
  "language_info": {
   "file_extension": ".m",
   "help_links": [
    {
     "text": "GNU Octave",
     "url": "https://www.gnu.org/software/octave/support.html"
    },
    {
     "text": "Octave Kernel",
     "url": "https://github.com/Calysto/octave_kernel"
    },
    {
     "text": "MetaKernel Magics",
     "url": "https://metakernel.readthedocs.io/en/latest/source/README.html"
    }
   ],
   "mimetype": "text/x-octave",
   "name": "octave",
   "version": "6.4.0"
  }
 },
 "nbformat": 4,
 "nbformat_minor": 5
}
