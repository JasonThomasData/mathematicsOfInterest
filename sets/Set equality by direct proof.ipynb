{
 "cells": [
  {
   "cell_type": "markdown",
   "id": "71215b16",
   "metadata": {},
   "source": [
    "### Set equality by direct proof\n",
    "\n",
    "This one is noteworthy because of its simplicity and for the way in which it uses definitions.\n",
    "\n",
    "This video is good: https://www.youtube.com/watch?v=oSV4qwO_kNY\n",
    "\n",
    "If we were asked to proove the commutative property of $ \\cup $:\n",
    "\n",
    "$ A \\cup B = B \\cup A $\n",
    "\n",
    "Then we could go back to definitions:\n",
    "\n",
    "$ A \\cup B $ means that for the generic element $ x $: \n",
    "\n",
    "$ x \\in A \\vee x \\in B$\n",
    "\n",
    "We can recall that $ \\vee $ is a commutative operator. You could also write these two as truth tables:\n",
    "\n",
    "$ x \\in A \\vee x \\in B$\n",
    "\n",
    "$ x \\in B \\vee x \\in A$\n",
    "\n",
    "They would show a tautology, which confirms the commutative property of $ \\vee $\n",
    "\n",
    "Then we re-introduce $ \\cup $:\n",
    "\n",
    "$ x \\in B \\vee x \\in A$ means that for the generic element $ x $:\n",
    "\n",
    "$ B \\cup A $\n",
    "\n",
    "Via direct proof, we have shown that:\n",
    "\n",
    "$ A \\cup B = B \\cup A $\n",
    "\n",
    "__I think the point is: try breaking set statements into logical statements, rearrange the logic according to what forms a tautology, and then reintroduce set logic__"
   ]
  },
  {
   "cell_type": "code",
   "execution_count": null,
   "id": "8ee929bf",
   "metadata": {},
   "outputs": [],
   "source": []
  }
 ],
 "metadata": {
  "kernelspec": {
   "display_name": "Octave",
   "language": "octave",
   "name": "octave"
  },
  "language_info": {
   "file_extension": ".m",
   "help_links": [
    {
     "text": "GNU Octave",
     "url": "https://www.gnu.org/software/octave/support.html"
    },
    {
     "text": "Octave Kernel",
     "url": "https://github.com/Calysto/octave_kernel"
    },
    {
     "text": "MetaKernel Magics",
     "url": "https://metakernel.readthedocs.io/en/latest/source/README.html"
    }
   ],
   "mimetype": "text/x-octave",
   "name": "octave",
   "version": "6.4.0"
  }
 },
 "nbformat": 4,
 "nbformat_minor": 5
}
