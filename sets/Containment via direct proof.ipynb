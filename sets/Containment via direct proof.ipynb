{
 "cells": [
  {
   "cell_type": "markdown",
   "id": "079cf2a1",
   "metadata": {},
   "source": [
    "### Containment via direct proof\n",
    "\n",
    "This is a good video: https://www.youtube.com/watch?v=ARZqP6CkCHU\n",
    "\n",
    "#### Step 1: does the statement make sense?\n",
    "\n",
    "$ (A \\cap B) \\subset (A \\cup B) $\n",
    "\n",
    "This makes sense, since the set of things that overlap is necessarily the smallest.\n",
    "\n",
    "It can help to draw the statement:\n",
    "\n",
    "![A and B](A_B.png) \n",
    "\n",
    "So this makes sense, so let's continue to try and prove it\n",
    "\n",
    "#### Step 2: if you don't have a plan to use induction or contradiction (this means we proceed via direct proof)\n",
    "\n",
    "Without a plan to do anything else, it's good to write things as an implication:\n",
    "\n",
    "$ \\forall x : x \\in (A \\cap B) \\rightarrow x \\in (A \\cup B) $\n",
    "\n",
    "#### Step 3: which part do we assume to be true?\n",
    "\n",
    "This is referred to as the hypothesis\n",
    "\n",
    "Let's take this for granted:\n",
    "\n",
    "$ x \\in (A \\cap B) $\n",
    "\n",
    "Then we wish to show:\n",
    "\n",
    "$ x \\in (A \\cup B) $\n",
    "\n",
    "#### Step 4: Decompose the hypothesis into definitions\n",
    "\n",
    "$ x \\in (A \\cap B) $ means:\n",
    "\n",
    "$ (x \\in A) \\wedge (x \\in B) $\n",
    "\n",
    "This yields a useful result.\n",
    "\n",
    "#### Step 5: Decompose what we want to show into definitions\n",
    "\n",
    "$ x \\in (A \\cup B) $ means:\n",
    "\n",
    "$ (x \\in A) \\vee (x \\in B) $\n",
    "\n",
    "#### Step 6: Use direct proof to link the hypothesis to the unknown\n",
    "\n",
    "$ x \\in (A \\cap B) $ means $ x \\in A \\wedge x \\in B $\n",
    "\n",
    "Then this means that $ x \\in A \\vee x \\in B $\n",
    "\n",
    "Then this implies the statement in step 2:\n",
    "\n",
    "$ \\forall x : x \\in (A \\cap B) \\rightarrow x \\in (A \\cup B) $\n",
    "\n",
    "So by direct proof, the statement:\n",
    "\n",
    "$ (A \\cap B) \\subset (A \\cup B) $\n",
    "\n",
    "is correct."
   ]
  },
  {
   "cell_type": "code",
   "execution_count": null,
   "id": "a88d7dad",
   "metadata": {},
   "outputs": [],
   "source": []
  }
 ],
 "metadata": {
  "kernelspec": {
   "display_name": "Octave",
   "language": "octave",
   "name": "octave"
  },
  "language_info": {
   "file_extension": ".m",
   "help_links": [
    {
     "text": "GNU Octave",
     "url": "https://www.gnu.org/software/octave/support.html"
    },
    {
     "text": "Octave Kernel",
     "url": "https://github.com/Calysto/octave_kernel"
    },
    {
     "text": "MetaKernel Magics",
     "url": "https://metakernel.readthedocs.io/en/latest/source/README.html"
    }
   ],
   "mimetype": "text/x-octave",
   "name": "octave",
   "version": "6.4.0"
  }
 },
 "nbformat": 4,
 "nbformat_minor": 5
}
