{
 "cells": [
  {
   "cell_type": "markdown",
   "id": "e6a4b3ab",
   "metadata": {},
   "source": [
    "### Boundedness, Infima and Suprema\n",
    "\n",
    "#### A set that is bounded\n",
    "\n",
    "$ let: A \\subseteq \\mathbb{R} $\n",
    "\n",
    "$ A $ is bounded below iff:\n",
    "\n",
    "$ \\exists b, \\forall x \\in A : b \\le x $\n",
    "\n",
    "$ A $ is bounded above iff:\n",
    "\n",
    "$ \\exists c, \\forall x \\in A : c \\ge x $\n",
    "\n",
    "![pic of bounded set](bounded_set.png)\n",
    "\n",
    "#### Examples\n",
    "\n",
    "The natural numbers $ \\mathbb{N} $ is bounded below by any negative number. It is not bounded above because the reals and the naturals go to $ \\infty $\n",
    "\n",
    "The integers $ \\mathbb{Z} $ are not bounded above or below.\n",
    "\n",
    "### Infima\n",
    "\n",
    "For reasons that I don't understand, an Infima may be a member of a set or it may be outside (smaller than) the set. This has to do with closed and opened intervals but I need to research it better.\n",
    "\n",
    "$ let: A \\subseteq \\mathbb{R} $\n",
    "\n",
    "$ \\exists a_0, \\forall x \\in A : a_0 \\le x $\n",
    "\n",
    "$ \\exists b, \\forall x \\in A: b \\le x \\to b \\le a_0 $\n",
    "\n",
    "Then we can write:\n",
    "\n",
    "$ \\inf A = a_0 $\n",
    "\n",
    "But if the set is not bounded below we write:\n",
    "\n",
    "$ \\inf A = -\\infty $\n",
    "\n",
    "### Suprema\n",
    "\n",
    "This is the logical opposite of the Infima.\n",
    "\n",
    "$ let: A \\subseteq \\mathbb{R} $\n",
    "\n",
    "$ \\exists a_0, \\forall x \\in A : a_0 \\ge x $\n",
    "\n",
    "$ \\exists b, \\forall x \\in A: b \\ge x \\to b \\ge a_0 $\n",
    "\n",
    "$ \\sup A = a_0 $\n",
    "\n",
    "If the set isn't bounded above then we write:\n",
    "\n",
    "$ \\sup A = \\infty $\n",
    "\n",
    "#### Example\n",
    "\n",
    "Let $ \\mathbb{N}^{*} $ be the natural numbers larger than 0.\n",
    "\n",
    "$ \\inf \\mathbb{N}^{*} = 1 $\n",
    "\n",
    "$ \\sup \\mathbb{N}^{*} = \\infty$\n",
    "\n",
    "### Existence of Infima and Suprema\n",
    "\n",
    "If a set is bounded above then it has a suprema that is a number.\n",
    "\n",
    "If a set is bounded below then it has an infima that is a number.\n",
    "\n",
    "If the set isn't bounded then its infima and suprema are $ \\pm \\infty $"
   ]
  },
  {
   "cell_type": "code",
   "execution_count": null,
   "id": "7ad3af50",
   "metadata": {},
   "outputs": [],
   "source": []
  }
 ],
 "metadata": {
  "kernelspec": {
   "display_name": "Octave",
   "language": "octave",
   "name": "octave"
  },
  "language_info": {
   "file_extension": ".m",
   "help_links": [
    {
     "text": "GNU Octave",
     "url": "https://www.gnu.org/software/octave/support.html"
    },
    {
     "text": "Octave Kernel",
     "url": "https://github.com/Calysto/octave_kernel"
    },
    {
     "text": "MetaKernel Magics",
     "url": "https://metakernel.readthedocs.io/en/latest/source/README.html"
    }
   ],
   "mimetype": "text/x-octave",
   "name": "octave",
   "version": "6.4.0"
  }
 },
 "nbformat": 4,
 "nbformat_minor": 5
}
