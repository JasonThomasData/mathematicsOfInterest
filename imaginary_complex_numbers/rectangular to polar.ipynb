{
 "cells": [
  {
   "cell_type": "markdown",
   "id": "536c917f",
   "metadata": {},
   "source": [
    "### Converting from rectangular to polar complex forms, and back again\n",
    "\n",
    "If you have a number on the complex plane, then you can visualise its real and imaginary parts and also its magnitude:\n",
    "\n",
    "The rectangular form is $ z = (a + bi) $\n",
    "\n",
    "The magnitude of z, or $ \\| z \\| $ will be;\n",
    "\n",
    "$ \\| z \\| = |\\sqrt{a^2 + b^2}|$\n",
    "\n",
    "Let's consider some other definitions:\n",
    "\n",
    "$ r = \\| z \\| $\n",
    "\n",
    "$ a = r \\cos \\theta $\n",
    "\n",
    "$ b = r \\sin \\theta $\n",
    "\n",
    "$ \\theta = \\arctan \\frac{b}{a} $\n",
    "\n",
    "Therefore, the above re-written using polar form:\n",
    "\n",
    "$ z = a + bi $\n",
    "\n",
    "$ z = r \\cos \\theta + r \\sin \\theta i $\n",
    "\n",
    "$ z = r(\\cos \\theta + i\\sin \\theta) $\n",
    "\n",
    "But, we can write this as the abbreviation $ cis = (\\cos i \\sin) $\n",
    "\n",
    "$ z = r \\cdot cis(\\theta) $\n",
    "\n",
    "But be careful, because the $\\arctan$ function will work in the 1st and 4th quadrants. That's because for $ \\tan $ to have an inverse its domain must be restricted. It usually is restricted to the useful domain of $ -\\frac{\\pi}{2} < \\tan(\\theta) < \\frac{\\pi}{2} $. Then $ \\arctan(\\theta) $ will have the range $ -\\frac{\\pi}{2} < \\tan(\\theta) < \\frac{\\pi}{2} $, which if you check on the unit circle is the entire positive $ x $ side of the circle AKA the 1st and 4th quadrants.\n",
    "\n",
    "What this means is you should always plot your complex numbers first to see which quadrant they will land in. If they land in the 2nd or 3rd quadrants then you are going to need to add $ \\pi $ to get it on the right side before using $ \\arctan $.\n",
    "\n",
    "If you do have a complex number that would fall in the 2nd or 3rd quadrant, then you have to add $ \\pi $ before using $ \\arctan $. If you think about the unit circle, then each semi-circle is equal to $ \\pi $. Therefore, adding $ \\pi $ to the answer would put the coordinate back into the 1st or 4th quadrants.\n",
    "\n",
    "#### Example of rectangular to polar\n",
    "\n",
    "$ z = (2 + 2i) $\n",
    "\n",
    "The magnitude is:\n",
    "\n",
    "$ \\| z \\| = |\\sqrt{2^2 + 2^2}| $\n",
    "\n",
    "$ \\| z \\| = |2\\sqrt{2}| $\n",
    "\n",
    "The theta part is\n",
    "\n",
    "$ \\arctan \\left( \\frac{2}{2} \\right) = \\frac{\\pi}{4} $\n",
    "\n",
    "This is permissable because the coordinate is in the first quadrant.\n",
    "\n",
    "The total polar form is:\n",
    "\n",
    "$ z = |2\\sqrt{2}|\\left(\\cos \\frac{\\pi}{4} + i \\sin \\frac{\\pi}{4}\\right)$\n",
    "\n",
    "#### Example of polar to rectangular\n",
    "\n"
   ]
  },
  {
   "cell_type": "code",
   "execution_count": null,
   "id": "f33760e7",
   "metadata": {},
   "outputs": [],
   "source": []
  }
 ],
 "metadata": {
  "kernelspec": {
   "display_name": "Octave",
   "language": "octave",
   "name": "octave"
  },
  "language_info": {
   "file_extension": ".m",
   "help_links": [
    {
     "text": "GNU Octave",
     "url": "https://www.gnu.org/software/octave/support.html"
    },
    {
     "text": "Octave Kernel",
     "url": "https://github.com/Calysto/octave_kernel"
    },
    {
     "text": "MetaKernel Magics",
     "url": "https://metakernel.readthedocs.io/en/latest/source/README.html"
    }
   ],
   "mimetype": "text/x-octave",
   "name": "octave",
   "version": "5.2.0"
  }
 },
 "nbformat": 4,
 "nbformat_minor": 5
}
