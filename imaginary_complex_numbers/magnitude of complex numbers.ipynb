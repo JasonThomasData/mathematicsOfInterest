{
 "cells": [
  {
   "cell_type": "markdown",
   "id": "ec8b12e4",
   "metadata": {},
   "source": [
    "### Magnitude of complex numbers\n",
    "\n",
    "This is an analogous concept to the length of vectors. If you consider a complex number to be a vector of real and imaginary parts, then this is just the length of that vector.\n",
    "\n",
    "---\n",
    "\n",
    "What does it mean to say that one complex number is larger than another?\n",
    "\n",
    "For example:\n",
    "\n",
    "$ (10 + 2i) > (5 + 15i) $\n",
    "\n",
    "If you consider the real parts then the statement is true, but that's not what we're talking about.\n",
    "\n",
    "Let:\n",
    "\n",
    "$ u = (10 + 2i) $\n",
    "\n",
    "$ a = 10 $\n",
    "\n",
    "$ b = 2 $\n",
    "\n",
    "$ u = (a + bi) $\n",
    "\n",
    "$ \\| u \\| = \\sqrt{a^2 + b^2} = \\sqrt{102} $\n",
    "\n",
    "Similarly:\n",
    "\n",
    "$ v = (5 + 15i) $\n",
    "\n",
    "$ \\| v \\| = \\sqrt{c^2 + d^2} = \\sqrt{250} $\n",
    "\n",
    "Then:\n"
   ]
  },
  {
   "cell_type": "code",
   "execution_count": 3,
   "id": "cbb369b1",
   "metadata": {},
   "outputs": [
    {
     "name": "stdout",
     "output_type": "stream",
     "text": [
      "a =  10\n",
      "b =  2\n",
      "ans =  10.198\n"
     ]
    }
   ],
   "source": [
    "a = 10\n",
    "b = 2\n",
    "sqrt(a^2 + b^2)"
   ]
  },
  {
   "cell_type": "code",
   "execution_count": 2,
   "id": "3ff04a13",
   "metadata": {},
   "outputs": [
    {
     "name": "stdout",
     "output_type": "stream",
     "text": [
      "c =  5\n",
      "d =  15\n",
      "ans =  15.811\n"
     ]
    }
   ],
   "source": [
    "c = 5\n",
    "d = 15\n",
    "sqrt(c^2 + d^2)"
   ]
  }
 ],
 "metadata": {
  "kernelspec": {
   "display_name": "Octave",
   "language": "octave",
   "name": "octave"
  },
  "language_info": {
   "file_extension": ".m",
   "help_links": [
    {
     "text": "GNU Octave",
     "url": "https://www.gnu.org/software/octave/support.html"
    },
    {
     "text": "Octave Kernel",
     "url": "https://github.com/Calysto/octave_kernel"
    },
    {
     "text": "MetaKernel Magics",
     "url": "https://metakernel.readthedocs.io/en/latest/source/README.html"
    }
   ],
   "mimetype": "text/x-octave",
   "name": "octave",
   "version": "5.2.0"
  }
 },
 "nbformat": 4,
 "nbformat_minor": 5
}
