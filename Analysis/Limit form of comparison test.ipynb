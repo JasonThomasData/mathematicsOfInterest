{
 "cells": [
  {
   "cell_type": "markdown",
   "id": "51000891",
   "metadata": {},
   "source": [
    "### Limit form of comparison test\n",
    "\n",
    "Sometimes a series is not Geometric or P-series. Say $ a_n $ is neither. If we compare it to $ b_n $, then:\n",
    "\n",
    "$ A = \\sum\\limits_{n=1}^\\infty a_n $\n",
    "\n",
    "$ B = \\sum\\limits_{n=1}^\\infty b_n $\n",
    "\n",
    "Where we know that $ B $ is either divergent or convergent.\n",
    "\n",
    "$ a_n \\approx b_n, n \\to \\infty \\implies \n",
    "\\left\\{ \n",
    "\\begin{matrix}\n",
    "B \\text{ is cgt} \\implies A \\text{ is cgt} \\\\ \n",
    "B \\text{ is dgt} \\implies A \\text{ is dgt} \n",
    "\\end{matrix}\n",
    "\\right\\} $\n",
    "\n",
    "IOW: if the nth element of A is approx the nth element of B as n approaches infinity, then if the series B is convergent then so is A, if B is divergent then so is A.\n",
    "\n"
   ]
  },
  {
   "cell_type": "markdown",
   "id": "d6285b13",
   "metadata": {},
   "source": [
    "#### Example\n",
    "\n",
    "$ A = \\sum\\limits_{n=1}^\\infty \\frac{n}{n+1} \\frac{1}{n^2} $\n",
    "\n",
    "This looks somewhat like a P-series, but the left part is clearly not.\n",
    "\n",
    "$ \\frac{n}{n+1} = \\frac{1}{1+1/n} $\n",
    "\n",
    "$ \\lim \\limits_{n \\to \\infty} \\left( 1/n \\right) = 0 $\n",
    "\n",
    "$ \\lim \\limits_{n \\to \\infty} \\left( \\frac{1}{1 + 1/n} \\right) = 1 $\n",
    "\n",
    "$ \\lim \\limits_{n \\to \\infty} \\left( \\frac{n}{n+1} \\frac{1}{n^2} \\right) \\approx 1\\frac{1}{n^2} $\n",
    "\n",
    "Then let:\n",
    "\n",
    "$ B = \\frac{1}{n^2} $, be the comparison series\n",
    "\n",
    "We know that the P-series with $ 1 > p > \\infty $ means that $ B_n $ is convergent, then so is $ A_n $"
   ]
  },
  {
   "cell_type": "markdown",
   "id": "2f0f074e",
   "metadata": {},
   "source": [
    "#### Choosing a term to factor out\n",
    "\n",
    "You want to choose a term to factor that dominates the other term.\n",
    "\n",
    "$ A = \\sum\\limits_{n=1}^\\infty \\frac{n^2}{n^5 + \\ln(n)} $\n",
    "\n",
    "$ a_n = \\frac{n^2}{n^5 + \\ln(n)} $\n",
    "\n",
    "$ \\ln(x)$ will always be dominated by $x^\\alpha$, where $ \\alpha > 0 $ (would be nice to have a proof for that, perhaps try an inductive proof?)\n",
    "\n",
    "So, factor out the $n^2$\n",
    "\n",
    "$ a_n = \\frac{1}{n^3 + \\ln(n)/n^2 } $\n",
    "\n",
    "$ \\lim \\limits_{n \\to \\infty} \\ln(n)/n^2 = 0 $\n",
    "\n",
    "$ \\lim \\limits_{n \\to \\infty} a_n = \\frac{1}{n^3} $\n",
    "\n",
    "Then let the comparison series be:\n",
    "\n",
    "$ B = \\frac{1}{n^3} $\n",
    "\n",
    "We know that a p-series with an exponent $ > 1 $ will converge.\n",
    "\n",
    "So, as $ n \\to \\infty $, then A is convergent."
   ]
  },
  {
   "cell_type": "code",
   "execution_count": null,
   "id": "059debd3",
   "metadata": {},
   "outputs": [],
   "source": []
  }
 ],
 "metadata": {
  "kernelspec": {
   "display_name": "Octave",
   "language": "octave",
   "name": "octave"
  },
  "language_info": {
   "file_extension": ".m",
   "help_links": [
    {
     "text": "GNU Octave",
     "url": "https://www.gnu.org/software/octave/support.html"
    },
    {
     "text": "Octave Kernel",
     "url": "https://github.com/Calysto/octave_kernel"
    },
    {
     "text": "MetaKernel Magics",
     "url": "https://metakernel.readthedocs.io/en/latest/source/README.html"
    }
   ],
   "mimetype": "text/x-octave",
   "name": "octave",
   "version": "5.2.0"
  }
 },
 "nbformat": 4,
 "nbformat_minor": 5
}
