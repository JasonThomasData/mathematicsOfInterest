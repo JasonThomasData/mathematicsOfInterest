{
 "cells": [
  {
   "cell_type": "markdown",
   "id": "b45f2482",
   "metadata": {},
   "source": [
    "### Absolute Value Theorem\n",
    "\n",
    "When evaluating the convergence of a sequence it is often easier to consider the absolute value of a sequence, see \n",
    "\n",
    "![Absolute value intuition](Screenshot_2023-07-21_13-23-18.png)\n",
    "\n",
    "In depth:\n",
    "https://youtu.be/kH5Zqg5j-3M?t=316\n"
   ]
  },
  {
   "cell_type": "code",
   "execution_count": null,
   "id": "3a9b6832",
   "metadata": {},
   "outputs": [],
   "source": []
  }
 ],
 "metadata": {
  "kernelspec": {
   "display_name": "Octave",
   "language": "octave",
   "name": "octave"
  },
  "language_info": {
   "file_extension": ".m",
   "help_links": [
    {
     "text": "GNU Octave",
     "url": "https://www.gnu.org/software/octave/support.html"
    },
    {
     "text": "Octave Kernel",
     "url": "https://github.com/Calysto/octave_kernel"
    },
    {
     "text": "MetaKernel Magics",
     "url": "https://metakernel.readthedocs.io/en/latest/source/README.html"
    }
   ],
   "mimetype": "text/x-octave",
   "name": "octave",
   "version": "6.4.0"
  }
 },
 "nbformat": 4,
 "nbformat_minor": 5
}
