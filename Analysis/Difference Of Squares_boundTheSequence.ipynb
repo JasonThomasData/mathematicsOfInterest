{
 "cells": [
  {
   "cell_type": "markdown",
   "id": "b1b806b9",
   "metadata": {},
   "source": [
    "### Using the Difference Of Squares, to bound the sequence\n",
    "\n",
    "Consider the sequence:\n",
    "\n",
    "$ \\{x_k\\} = \\sqrt{k^2 + 1} - k , \\forall k \\in \\mathbb{N} $\n",
    "\n",
    "The same kind of thing is this:\n",
    "\n",
    "$ a^2 - b^2 = (a + b)(a - b) $\n",
    "\n",
    "$ a - b = \\frac{a^2 - b^2}{a + b} $\n",
    "\n",
    "Then this looks like our problem, where:\n",
    "\n",
    "$ a = \\sqrt{k^2 + 1} $\n",
    "\n",
    "$ b = k $\n",
    "\n",
    "Then:\n",
    "\n",
    "$ \\sqrt{k^2 + 1} - k = \\frac{\\left(\\sqrt{k^2 + 1}\\right)^2 - k^2)}{\\sqrt{k^2 + 1} + k} $\n",
    "\n",
    "$ \\sqrt{k^2 + 1} - k = \\frac{k^2 + 1 - k^2}{\\sqrt{k^2 + 1} + k} $\n",
    "\n",
    "$ \\sqrt{k^2 + 1} - k = \\frac{1}{\\sqrt{k^2 + 1} + k} $\n",
    "\n",
    "Then this clearly does approach $ 0 $, but we can still bound the terms to get something simpler.\n",
    "\n",
    "$ \\frac{1}{\\sqrt{k^2 + 1} + k} < \\frac{1}{k} $\n",
    "\n",
    "And that effectively sets a bound on the sequence.\n"
   ]
  },
  {
   "cell_type": "code",
   "execution_count": null,
   "id": "407dcba4",
   "metadata": {},
   "outputs": [],
   "source": []
  }
 ],
 "metadata": {
  "kernelspec": {
   "display_name": "Octave",
   "language": "octave",
   "name": "octave"
  },
  "language_info": {
   "file_extension": ".m",
   "help_links": [
    {
     "text": "GNU Octave",
     "url": "https://www.gnu.org/software/octave/support.html"
    },
    {
     "text": "Octave Kernel",
     "url": "https://github.com/Calysto/octave_kernel"
    },
    {
     "text": "MetaKernel Magics",
     "url": "https://metakernel.readthedocs.io/en/latest/source/README.html"
    }
   ],
   "mimetype": "text/x-octave",
   "name": "octave",
   "version": "6.4.0"
  }
 },
 "nbformat": 4,
 "nbformat_minor": 5
}
