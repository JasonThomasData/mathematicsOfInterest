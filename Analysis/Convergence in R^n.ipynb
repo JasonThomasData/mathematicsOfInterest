{
 "cells": [
  {
   "cell_type": "markdown",
   "id": "31d1734d",
   "metadata": {},
   "source": [
    "### Convergence in $ \\mathbb{R}^n $\n",
    "\n",
    "This notebook talks about metric spaces, see [metric spaces](/notebooks/Topology/metric_spaces.ipynb)\n",
    "\n",
    "#### In $ R^1 $\n",
    "\n",
    "Recall the standard definition of a limit:\n",
    "\n",
    "$ \\bar x $ be whatever we propose is the limit\n",
    "\n",
    "$ \\epsilon $ be the a distance either side of the proposed limit.\n",
    "\n",
    "$ k \\in \\mathbb{N} $ \n",
    "\n",
    "The sequence $ \\{x_k\\} $ converges iff:\n",
    "\n",
    "$ \\forall \\epsilon > 0, \\exists K(\\epsilon) \\in \\mathbb{N}, \\forall k \\ge K(\\epsilon) : | x_k - \\bar x | < \\epsilon $\n",
    "\n",
    "---\n",
    "\n",
    "It's clear that in $ \\mathbb{R}^1 $ this is true, since it's just a sequence. We can also think about $ \\mathbb{R}^n $\n",
    "\n",
    "We could also think about a different notion of distance. So, for different $ \\mathbb{R}^n $ we can think of distance with the Euclidean Metric:\n",
    "\n",
    "$ \\rho(x, y) = \\sqrt{\\sum_{i}^{n=1} (x_1 - y_1)^2 } $\n",
    "\n",
    "$ \\rho(x, y) = \\sqrt{\\sum_{i}^{n=2} (x_1 - y_1)^2 + (x_2 - y_2)^2} $ \n",
    "\n",
    "And more generally\n",
    "\n",
    "$ \\rho(x, y) = \\sqrt{\\sum_{i}^{n} (x_1 - y_1)^2 + (x_2 - y_2)^2 + ... + (x_n - y_n)^2 } $ \n",
    "\n",
    "#### In $ R^n $\n",
    "\n",
    "Then we can generalise the original definition.\n",
    "\n",
    "Let:\n",
    "\n",
    "$ \\{x_k\\} = \\left(x_k^1, x_k^2, x_k^3, ... , x_k^n \\right) $ be a sequence of $ k $ elements, where each element is a vector of $ n $ components according to $ \\mathbb{R}^n $\n",
    "\n",
    "$ \\bar x = \\left((\\bar x)^1, (\\bar x)^2, (\\bar x)^3, ... , (\\bar x)^n \\right) $ is a vector comprised of the limits for the $ n $ components.\n",
    "\n",
    "$ \\forall i \\in \\{1,2,3,...,n\\} $\n",
    "\n",
    "The theorem states:\n",
    "\n",
    "$ \\lim_\\limits{k \\to \\infty} x_k = \\bar x \\Leftrightarrow \\lim_\\limits{k \\to \\infty} x_k^i = (\\bar x)^i $\n",
    "\n",
    "To proove __iff__ we take the forward implication:\n",
    "\n",
    "Suppose $ \\lim_\\limits{k \\to \\infty} x_k = \\bar x $\n",
    "\n",
    "Then if it's true, let's introduce the definition of the limit:\n",
    "\n",
    "$ \\forall \\epsilon > 0, \\exists K(\\epsilon) \\in \\mathbb{N}, \\forall k \\ge K(\\epsilon) : | x_k - \\bar x | < \\epsilon $\n",
    "\n",
    "I RAN OUT OF TIME TO COMPLETE THE PROOF, CONTINUE AT https://rmit.instructure.com/courses/107296/pages/week-1-learning-activities?module_item_id=5301665\n",
    "~ 13:00\n",
    "\n"
   ]
  },
  {
   "cell_type": "code",
   "execution_count": null,
   "id": "dcfdd9a6",
   "metadata": {},
   "outputs": [],
   "source": []
  },
  {
   "cell_type": "code",
   "execution_count": null,
   "id": "48622f74",
   "metadata": {},
   "outputs": [],
   "source": []
  }
 ],
 "metadata": {
  "kernelspec": {
   "display_name": "Octave",
   "language": "octave",
   "name": "octave"
  },
  "language_info": {
   "file_extension": ".m",
   "help_links": [
    {
     "text": "GNU Octave",
     "url": "https://www.gnu.org/software/octave/support.html"
    },
    {
     "text": "Octave Kernel",
     "url": "https://github.com/Calysto/octave_kernel"
    },
    {
     "text": "MetaKernel Magics",
     "url": "https://metakernel.readthedocs.io/en/latest/source/README.html"
    }
   ],
   "mimetype": "text/x-octave",
   "name": "octave",
   "version": "6.4.0"
  }
 },
 "nbformat": 4,
 "nbformat_minor": 5
}
