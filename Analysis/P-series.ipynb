{
 "cells": [
  {
   "cell_type": "markdown",
   "id": "a76c438b",
   "metadata": {},
   "source": [
    "### P-series\n",
    "\n",
    "$ a_n = \\frac{1}{n^p} $\n",
    "\n",
    "$ S = \\sum \\limits_{n=1}^\\infty \\frac{1}{n^p} $\n",
    "\n",
    "#### Diverrgent: $ p = 1 $\n",
    "\n",
    "The Harmonic series is a special case of P-series where $ p = 1 $. That series diverges\n",
    "\n",
    "#### Divergent: $ 0 < p < 1 $\n",
    "\n",
    "These series are divergent. See the blocks above the function, geometric intuition (Add this when you can).\n",
    "\n",
    "#### Convergent: $ 1 < p < \\infty $\n",
    "\n",
    "These series are convergent. See the blocks below the function, geometric intuition (Add this when you can).\n",
    "\n"
   ]
  },
  {
   "cell_type": "code",
   "execution_count": null,
   "id": "56e3fc99",
   "metadata": {},
   "outputs": [],
   "source": []
  }
 ],
 "metadata": {
  "kernelspec": {
   "display_name": "Octave",
   "language": "octave",
   "name": "octave"
  },
  "language_info": {
   "file_extension": ".m",
   "help_links": [
    {
     "text": "GNU Octave",
     "url": "https://www.gnu.org/software/octave/support.html"
    },
    {
     "text": "Octave Kernel",
     "url": "https://github.com/Calysto/octave_kernel"
    },
    {
     "text": "MetaKernel Magics",
     "url": "https://metakernel.readthedocs.io/en/latest/source/README.html"
    }
   ],
   "mimetype": "text/x-octave",
   "name": "octave",
   "version": "5.2.0"
  }
 },
 "nbformat": 4,
 "nbformat_minor": 5
}
