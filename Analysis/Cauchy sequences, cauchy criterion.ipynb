{
 "cells": [
  {
   "cell_type": "markdown",
   "id": "8e5be64d",
   "metadata": {},
   "source": [
    "#### Cauchy sequence\n",
    "\n",
    "$ \\forall \\epsilon > 0, \\exists K \\in \\mathbb{N}, \\forall k, m \\ge K: ||x_k - x_m || < \\epsilon $\n",
    "\n",
    "My intepretation is that after a certain point in the sequence, the difference of any two elements is within $ \\epsilon $.\n",
    "\n",
    "---\n",
    "\n",
    "#### Cauchy Criterion\n",
    "\n",
    "This is powerful because you can prove convergence without having to guess what the limit is.\n",
    "\n",
    "The theorem states:\n",
    "\n",
    "In $ R^n $, a sequence converges _iff_ it is a Cauchy Sequence.\n",
    "\n",
    "$ (\\Rightarrow) $\n",
    "\n",
    "$ \\forall \\epsilon > 0, \\exists K(\\epsilon) \\in \\mathbb{N}, \\forall k \\ge K(\\epsilon) : |x_k - \\bar x| < \\epsilon $\n",
    "\n",
    "Fix: $ || x_k - \\bar x || < \\frac{\\epsilon}{2}, \\forall k \\ge K(\\epsilon) $\n",
    "\n",
    "Consider:\n",
    "\n",
    "$ || x_m - x_k || = || x_m - \\bar x + \\bar x - x_k || $\n",
    "\n",
    "$ || x_m - x_k || \\le || x_m - \\bar x || + || \\bar x - x_k || < \\epsilon,\\space\\space\\space\\space \\forall k, m \\ge K(\\epsilon) $\n",
    "\n",
    "Notice that this doesn't say anything about the distance from $ x_m $ to $ \\bar x $, but it doesn't need to, since if $ k $ is the lowest possible index such that $\\forall k \\ge K(\\epsilon)$, then $ m $ is at least a larger index. \n",
    "\n",
    "Then:\n",
    "\n",
    "$ || x_m - x_k || < \\epsilon $\n",
    "\n",
    "$ (\\Leftarrow) $\n",
    "\n",
    "![Cauchy Criterion](Screenshot_2023-07-30_12-16-03.png)\n",
    "\n",
    "#### Example - use Cauchy Criterion to prove convergence\n",
    "\n",
    "Consider:\n",
    "\n",
    "$ \\{x_k\\} = \\frac{\\cos 2}{2} + \\frac{\\cos 2(2)}{2^2} + \\frac{\\cos 2(3)}{2^3} + ... $\n",
    "\n",
    "$ \\{x_k\\} = \\sum_k=1 \\frac{\\cos 2k}{2^k} $\n",
    "\n",
    "Then does it converge? The numerator is cyclical, but the denominator is increasing. It does seem to converge.\n",
    "\n",
    "Because the numerator oscillates then it is hard to guess what the limit is.\n",
    "\n",
    "We can instead use Cauchy Criterion.\n",
    "\n",
    "First let's convince ourselves that it's true:"
   ]
  },
  {
   "cell_type": "code",
   "execution_count": 5,
   "id": "a69d36a8",
   "metadata": {},
   "outputs": [
    {
     "data": {
      "image/png": "[encoded data removed]",
      "text/plain": [
       "<IPython.core.display.Image object>"
      ]
     },
     "metadata": {},
     "output_type": "display_data"
    }
   ],
   "source": [
    "k = 1:20;\n",
    "x_k = cos(2.*k)./2.^k;\n",
    "\n",
    "plot(k, x_k);"
   ]
  },
  {
   "cell_type": "markdown",
   "id": "8a212d48",
   "metadata": {},
   "source": [
    "This is convincing, that there will be some $ \\epsilon $ such that $ K(\\epsilon) > 0 $ will be sufficiently large that $ k, m > K(\\epsilon) $ are the indices of elements $ x_k, x_m $ where the Euclidean distance between those will always be $ < \\epsilon $.\n",
    "\n",
    "So first, choose $ \\epsilon $\n",
    "\n",
    "Let's fix $ || x_k - x_m || < \\frac{\\epsilon}{2} $\n",
    "\n",
    "We can use the triangle inequality:\n",
    "\n",
    "$ || x_k - x_m || \\le || x_k || + || x_m || $\n",
    "\n",
    "And because of the choice for $ \\epsilon $:\n",
    "\n",
    "$ || x_k - x_m || \\le || x_k || + || x_m || < \\epsilon $"
   ]
  },
  {
   "cell_type": "code",
   "execution_count": 8,
   "id": "6160070f",
   "metadata": {},
   "outputs": [
    {
     "name": "stdout",
     "output_type": "stream",
     "text": [
      "Symbolic pkg v3.0.1: Python communication link active, SymPy v1.4.\n",
      "ans = (sym)\n",
      "\n",
      "     ⎛ x⎞\n",
      "  log⎝2 ⎠\n",
      "  ───────\n",
      "   log(2)\n",
      "\n"
     ]
    }
   ],
   "source": [
    "pkg load symbolic;\n",
    "syms x;\n",
    "log2(2^x)"
   ]
  },
  {
   "cell_type": "code",
   "execution_count": null,
   "id": "f5a90923",
   "metadata": {},
   "outputs": [],
   "source": []
  }
 ],
 "metadata": {
  "kernelspec": {
   "display_name": "Octave",
   "language": "octave",
   "name": "octave"
  },
  "language_info": {
   "file_extension": ".m",
   "help_links": [
    {
     "text": "GNU Octave",
     "url": "https://www.gnu.org/software/octave/support.html"
    },
    {
     "text": "Octave Kernel",
     "url": "https://github.com/Calysto/octave_kernel"
    },
    {
     "text": "MetaKernel Magics",
     "url": "https://metakernel.readthedocs.io/en/latest/source/README.html"
    }
   ],
   "mimetype": "text/x-octave",
   "name": "octave",
   "version": "6.4.0"
  }
 },
 "nbformat": 4,
 "nbformat_minor": 5
}
