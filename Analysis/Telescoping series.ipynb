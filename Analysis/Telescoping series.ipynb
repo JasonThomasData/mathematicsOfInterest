{
 "cells": [
  {
   "cell_type": "markdown",
   "id": "776fc3e8",
   "metadata": {},
   "source": [
    "### Telescoping series\n",
    "\n",
    "These can be addressed with telescoping sums.\n",
    "\n",
    "#### For the sequence $ \\large \\frac{1}{n(n+1)}$\n",
    "\n",
    "$ a_n = \\frac{1}{n(n+1)} $\n",
    "\n",
    "$S_n =  \\sum_\\limits{n=1}^\\infty \\frac{1}{n(n+1)} $\n",
    "\n",
    "To determine if the series converges or not, treat $ a_n $ as a partial fraction:\n",
    "\n",
    "$ \\frac{1}{n(n + 1)} = \\frac{1}{n} - \\frac{1}{n + 1} $\n",
    "\n",
    "Then complete the sum to find the partial sum for $ N $ (see telescoping sums) :\n",
    "\n",
    "$ \\sum\\limits_{n=1}^N \\frac{1}{n(n+1)} = \\frac{1}{n} - \\frac{1}{N+1} $\n",
    "\n",
    "$ \\lim \\limits_{N \\to \\infty} \\left(\\frac{1}{N + 1} \\right) = 0 $\n",
    "\n",
    "$ \\lim \\limits_{N \\to \\infty} \\left(1 - \\frac{1}{N + 1} \\right) = 1 $\n",
    "\n",
    "$\\lim \\limits_{n \\to \\infty} S_n = \\lim \\limits_{n \\to \\infty} \\left(\\frac{1}{n(n + 1)} \\right) = 1 $\n"
   ]
  },
  {
   "cell_type": "code",
   "execution_count": null,
   "id": "b6a43628",
   "metadata": {},
   "outputs": [],
   "source": []
  }
 ],
 "metadata": {
  "kernelspec": {
   "display_name": "Octave",
   "language": "octave",
   "name": "octave"
  },
  "language_info": {
   "file_extension": ".m",
   "help_links": [
    {
     "text": "GNU Octave",
     "url": "https://www.gnu.org/software/octave/support.html"
    },
    {
     "text": "Octave Kernel",
     "url": "https://github.com/Calysto/octave_kernel"
    },
    {
     "text": "MetaKernel Magics",
     "url": "https://metakernel.readthedocs.io/en/latest/source/README.html"
    }
   ],
   "mimetype": "text/x-octave",
   "name": "octave",
   "version": "5.2.0"
  }
 },
 "nbformat": 4,
 "nbformat_minor": 5
}
