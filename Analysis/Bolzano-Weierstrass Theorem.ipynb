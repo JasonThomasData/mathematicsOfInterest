{
 "cells": [
  {
   "cell_type": "markdown",
   "id": "c538a61b",
   "metadata": {},
   "source": [
    "### Bolzano-Weierstrass Theorem\n",
    "\n",
    "![definition of a sequence](Screenshot_2023-07-25_22-19-38.png)\n",
    "\n",
    "If you have the sequence:\n",
    "\n",
    "$ \\{ x_k \\} = \\{ x_1, x_2, x_3, x_4, x_5, x_6, x_7, ..., x_n \\} $\n",
    "\n",
    "And you delete the even ones:\n",
    "\n",
    "$ \\{ y_k \\} = \\{ x_1, \\space\\space\\space\\space, x_3, \\space\\space\\space\\space, x_5, \\space\\space\\space\\space, x_7, ..., y_n \\} $\n",
    "\n",
    "Then $ y_k \\subset x_k $\n",
    "\n",
    "Since $ y_k $ is a new sequence, then it now has its own index. For example $ y_2 = x_3, y_3 = x_5 $\n",
    "\n",
    "Because deleting elements of $ \\{x_k \\} $ happens in a procedural way then there will still be an infinite number of elements near the limit of both sequences. Both sequences converge to the same limit.\n",
    "\n",
    "#### Proof for the Real Line\n",
    "\n",
    "For the infinity interval $ a, b \\in \\mathbb{R} : [a,b] $\n",
    "\n",
    "Divide it in half, keep note of which half contains $ \\infty $. Keep choosing halves and keep the ones that contain $ \\infty $\n",
    "\n",
    "Then the length of these halves that you keep will have lengths approaching $ 0 $.\n",
    "\n",
    "Every time you choose a new interval, you assign a new $ a, b $ for that interval.\n",
    "\n",
    "![pic of BW theorem](Screenshot_2023-08-01_09-51-07.png)\n",
    "\n",
    "And you will see, after three intervals, that $ a_1 \\le a_2 \\le a_3 \\le x_k \\le b_1 \\le b_2 \\le b3 $, where $ x_k $ has an infinite number of elements.\n",
    "\n",
    "So then, the widths of these intervals approach $ 0 $. Then by the sandwich theorem, we can see that $ x_m_k $ also approaches $ 0 $, because it is bounded above and below by convergent sequences.\n",
    "\n",
    "$ a_{m_k} \\le x_{m_k} \\le b_{m_k} $\n",
    "\n",
    "And now we can invoke the definition of the subsequence:\n",
    "\n",
    "$ a_{m_k} \\le x_{m_k} = y_k \\le b_{m_k} $\n",
    "\n",
    "Then this means that $ y_k $ must converge.\n",
    "\n",
    "My interpretation here is that $ m $ is the $m$th interval.\n",
    "\n",
    "#### Proof for vectors \n",
    "\n",
    "Consider a sequence in $ \\mathbb{R}^n $, then it looks like: \n",
    "\n",
    "$ \\{ x_k \\} = \\left(x_k^1, x_k^2, ..., x_k^n \\right) $\n",
    "\n",
    "We can fix $ i $ and consider only that dimension of the sequence. Then we can apply the theorem on $ \\mathbb{R} $, above, to show that the sequence for that vector component has a convergent subsequence.\n",
    "\n",
    "$ \\{ y_{m_k} \\} = \\left(x_{m_k}^1, x_{m_k}^2, ..., x_{m_k}^n \\right) $\n",
    "\n",
    "AND I DON'T REALLY GET IT"
   ]
  },
  {
   "cell_type": "code",
   "execution_count": null,
   "id": "303932b1",
   "metadata": {},
   "outputs": [],
   "source": []
  }
 ],
 "metadata": {
  "kernelspec": {
   "display_name": "Octave",
   "language": "octave",
   "name": "octave"
  },
  "language_info": {
   "file_extension": ".m",
   "help_links": [
    {
     "text": "GNU Octave",
     "url": "https://www.gnu.org/software/octave/support.html"
    },
    {
     "text": "Octave Kernel",
     "url": "https://github.com/Calysto/octave_kernel"
    },
    {
     "text": "MetaKernel Magics",
     "url": "https://metakernel.readthedocs.io/en/latest/source/README.html"
    }
   ],
   "mimetype": "text/x-octave",
   "name": "octave",
   "version": "6.4.0"
  }
 },
 "nbformat": 4,
 "nbformat_minor": 5
}
