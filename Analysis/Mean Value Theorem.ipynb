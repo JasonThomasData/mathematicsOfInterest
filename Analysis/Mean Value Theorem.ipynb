{
 "cells": [
  {
   "cell_type": "markdown",
   "id": "4957403d",
   "metadata": {},
   "source": [
    "### Mean Value Theorem, Cauchy's Mean Value Theorem\n",
    "\n",
    "This is an extension of the Mean Value Theorem. Recall that the mean value theorem is this:\n",
    "\n",
    "$ \\exists c \\in (a, b) $\n",
    "\n",
    "$ f'(c) = \\frac{f(b) - f(a)}{b - a} $\n",
    "\n",
    "And it means that given two points $ a, b $ in a function then the gradient that is the secant between these two points is to be found at $ c $ \n",
    "\n",
    "![pic of mean value result](Screenshot_2023-08-15_19-19-03.png)\n",
    "\n",
    "### Cauchy's Mean Value Theorem\n",
    "\n",
    "Given functions $ f, g $ are continuous on $ [a,b] $\n",
    "\n",
    "$ \\frac{f'(c)}{g'(c)} = \\frac{f(b) - f(a)}{g(b) - g(a)} $\n",
    "\n",
    "#### Proof\n",
    "\n",
    "Let:\n",
    "\n",
    "$ h(x) = f(x) - f(a) - \\frac{f(b) - f(a)}{g(b) - g(a)}(g(x) - g(a)) $\n",
    "\n",
    "Substitute $ x=a $ and find:\n",
    "\n",
    "$ h(a) = 0 $\n",
    "\n",
    "And $ x=b $\n",
    "\n",
    "$ h(b) = 0 $\n",
    "\n",
    "$ h(a) = h(b) = 0 $\n",
    "\n",
    "$ \\frac{d}{dx} h(x) = f'(x) - \\frac{f(b) - f(a)}{g(b) - g(a)}g'(x) $\n",
    "\n",
    "$ \\frac{d}{dx} h(x) = \\frac{f'(x)}{g'(x)} - \\frac{f(b) - f(a)}{g(b) - g(a)} $\n",
    "\n",
    "Recall the mean value theorem implies:\n",
    "\n",
    "$ \\exists c \\in (a, b): h'(c) = 0 $\n",
    "\n",
    "So therefore:\n",
    "\n",
    "$ 0 = \\frac{f'(x)}{g'(x)} - \\frac{f(b) - f(a)}{g(b) - g(a)} $\n",
    "\n",
    "$ \\frac{f'(x)}{g'(x)} = \\frac{f(b) - f(a)}{g(b) - g(a)} $\n"
   ]
  },
  {
   "cell_type": "code",
   "execution_count": null,
   "id": "551ea528",
   "metadata": {},
   "outputs": [],
   "source": []
  }
 ],
 "metadata": {
  "kernelspec": {
   "display_name": "Octave",
   "language": "octave",
   "name": "octave"
  },
  "language_info": {
   "file_extension": ".m",
   "help_links": [
    {
     "text": "GNU Octave",
     "url": "https://www.gnu.org/software/octave/support.html"
    },
    {
     "text": "Octave Kernel",
     "url": "https://github.com/Calysto/octave_kernel"
    },
    {
     "text": "MetaKernel Magics",
     "url": "https://metakernel.readthedocs.io/en/latest/source/README.html"
    }
   ],
   "mimetype": "text/x-octave",
   "name": "octave",
   "version": "6.4.0"
  }
 },
 "nbformat": 4,
 "nbformat_minor": 5
}
