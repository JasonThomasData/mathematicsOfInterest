{
 "cells": [
  {
   "cell_type": "markdown",
   "id": "4663abe9",
   "metadata": {},
   "source": [
    "### Taylor (geometric) series converges, prove by defining a metric, use of telescoping sums\n",
    "\n",
    "We take the Taylor Series. We can prove it converges.\n",
    "\n",
    "![pic of Taylor series first terms](Screenshot_2023-07-30_12-43-20.png)\n",
    "\n",
    "Since it is a geometric series, then it will end up looking like:\n",
    "\n",
    "$ \\frac{1}{t-1} $, at its limit. (Read $ t $ as $ r $, in the notebook for a geometric series converging).\n",
    "\n",
    "Then in the pic above, we can see there is a metric involving the functions $ f(t), g(t) $\n",
    "\n",
    "Then let the limit be $ f(t) = \\frac{1}{t - 1} $\n",
    "\n",
    "And let the series be $ g(t) = p_k(t) $\n",
    "\n",
    "Then we can use these in the metric, but we can consider it without the root for now.\n",
    "\n",
    "$ \\int_0^{1/2} \\left( f(t) - g(t) \\right)^2 dt $\n",
    "\n",
    "$ \\int_0^{1/2} \\left( \\frac{1}{t-1} - \\left(-\\sum_{i=0}^{k-1} t^i \\right) \\right)^2 dt $\n",
    "\n",
    "$ \\int_0^{1/2} \\left( \\frac{1}{t-1} - (-1-t-t^2-t^3-...-t^{k-1}) \\right)^2 dt $\n",
    "\n",
    "These next few parts are in a matrix so that it's really clear what's going on. It's a telescoping sum.\n",
    "\n",
    "$ \\begin{matrix} \\int_0^{1/2} & & \\large( & \\frac{1}{t-1} & + & 1 & + & t & + & t^2 & + & t^3 & + & ... & + & t^{k-1} & \\large)^2 & dt \\\\\n",
    "\\int_0^{1/2} & \\frac{1}{(t-1)^2} & \\large( & 1 & + & (t-1) & + & t(t-1) & + & t^2(t-1) & + & t^3(t-1) & + & ... & + & t^{k-1}(t-1) & \\large)^2 & dt \\\\\n",
    "\\int_0^{1/2} & \\frac{1}{(t-1)^2} & \\large( & 1 & + & t-1 & + & t^2-t & + & t^3-t^2 & + & t^4-t^3 & + & ... & + & t^{k}-t^{k-1} & \\large)^2 & dt  \\end{matrix} $\n",
    "\n",
    "We collapse all of these down, in the same fashion as all telescoping sums, and get:\n",
    "\n",
    "$ \\int_0^{1/2} \\frac{1}{(t-1)^2} ( t^{k} )^2 dt  $\n",
    "\n",
    "$ \\int_0^{1/2} \\frac{t^{2k}}{(t-1)^2} dt  $\n",
    "\n",
    "Bound it above: $ 1/2 $ will do:\n",
    "\n",
    "$ \\int_0^{1/2} \\frac{\\left(\\frac{1}{2}\\right)^{2k}}{\\left(\\frac{1}{2}\\right)-1)^2} dt  $\n",
    "\n",
    "$ \\int_0^{1/2} \\frac{2^{-2k-1}}{2^{-2}} dt  $\n",
    "\n",
    "$ \\int_0^{1/2} \\frac{1}{2^{2k-1}} dt  $\n",
    "\n",
    "This is $ f(x) $, and now you need to compare that to $ \\epsilon $ to find $ K(\\epsilon) $\n",
    "\n",
    "I ran out of energy, it's continued after 10:00 at https://rmit.instructure.com/courses/107296/pages/week-3-learning-activities?module_item_id=5301669\n"
   ]
  },
  {
   "cell_type": "code",
   "execution_count": null,
   "id": "14c4ffe0",
   "metadata": {},
   "outputs": [],
   "source": []
  }
 ],
 "metadata": {
  "kernelspec": {
   "display_name": "Octave",
   "language": "octave",
   "name": "octave"
  },
  "language_info": {
   "file_extension": ".m",
   "help_links": [
    {
     "text": "GNU Octave",
     "url": "https://www.gnu.org/software/octave/support.html"
    },
    {
     "text": "Octave Kernel",
     "url": "https://github.com/Calysto/octave_kernel"
    },
    {
     "text": "MetaKernel Magics",
     "url": "https://metakernel.readthedocs.io/en/latest/source/README.html"
    }
   ],
   "mimetype": "text/x-octave",
   "name": "octave",
   "version": "6.4.0"
  }
 },
 "nbformat": 4,
 "nbformat_minor": 5
}
