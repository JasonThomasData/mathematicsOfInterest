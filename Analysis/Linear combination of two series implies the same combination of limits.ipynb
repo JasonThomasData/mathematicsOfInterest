{
 "cells": [
  {
   "cell_type": "markdown",
   "id": "e4e9c73e",
   "metadata": {},
   "source": [
    "### Linear combination of two series implies the same combination of limits\n",
    "\n",
    "$ x_k \\to \\bar x, y_k \\to \\bar y $\n",
    "\n",
    "$ \\exists \\alpha, \\beta \\in \\mathbb{R} $\n",
    "\n",
    "A theorem states:\n",
    "\n",
    "If:\n",
    "\n",
    "(1): $ \\lim_\\limits{k \\to \\infty}(\\alpha x_k) = \\alpha \\bar x $\n",
    "\n",
    "(2): $ \\lim_\\limits{k \\to \\infty}(\\beta y_k) = \\beta \\bar y $\n",
    "\n",
    "Then:\n",
    "\n",
    "(3): $ \\lim_\\limits{k \\to \\infty}(\\alpha x_k + \\beta y_k) = \\alpha \\bar x + \\beta \\bar y $\n",
    "\n",
    "Examples of this are:\n",
    "\n",
    "$ \\lim_\\limits{k\\to \\infty} \\alpha x_k = \\alpha \\bar x $\n",
    "\n",
    "$ \\lim_\\limits{k\\to \\infty} (x_k + y_k) = \\bar x + \\bar y $\n",
    "\n",
    "#### Proof where $ \\alpha, \\beta = 1 $\n",
    "\n",
    "Recall the definition of a limit:\n",
    "\n",
    "$ \\forall \\epsilon > 0, \\exists K(\\epsilon) \\in \\mathbb{N}, \\forall k \\ge K(\\epsilon) : |x_k - \\bar x| < \\epsilon $\n",
    "\n",
    "Fix $ \\epsilon > 0 $\n",
    "\n",
    "$ \\exists K(\\epsilon) \\in \\mathbb{N}, \\forall k \\ge K_x(\\epsilon) : |x_k - \\bar x| < \\frac{\\epsilon}{2} $, and can be likened to (1)\n",
    "\n",
    "$ \\exists K(\\epsilon) \\in \\mathbb{N}, \\forall k \\ge K_y(\\epsilon) : |y_k - \\bar y| < \\frac{\\epsilon}{2} $, and can be likened to (2)\n",
    "\n",
    "$ K(\\epsilon) := \\max \\{K_x(\\epsilon), K_y(\\epsilon) \\} $\n",
    "\n",
    "Since $ K $ is larger than both then we can invoke both:\n",
    "\n",
    "$ |(x_k + y_k) - (\\bar x + \\bar y)| < \\frac{\\epsilon}{2} + \\frac{\\epsilon}{2} $\n",
    "\n",
    "$ |(x_k + y_k) - (\\bar x + \\bar y)| = |(x_k - \\bar x) + (y_k - \\bar y)| < \\epsilon $\n",
    "\n",
    "$ |(x_k + y_k) - (\\bar x + \\bar y)| \\le |(x_k - \\bar x)|+ |(y_k - \\bar y)| < \\epsilon $\n",
    "\n",
    "The LHS, and RHS above is what's implied by the proposition (3), respectively."
   ]
  },
  {
   "cell_type": "code",
   "execution_count": null,
   "id": "d73fc163",
   "metadata": {},
   "outputs": [],
   "source": []
  }
 ],
 "metadata": {
  "kernelspec": {
   "display_name": "Octave",
   "language": "octave",
   "name": "octave"
  },
  "language_info": {
   "file_extension": ".m",
   "help_links": [
    {
     "text": "GNU Octave",
     "url": "https://www.gnu.org/software/octave/support.html"
    },
    {
     "text": "Octave Kernel",
     "url": "https://github.com/Calysto/octave_kernel"
    },
    {
     "text": "MetaKernel Magics",
     "url": "https://metakernel.readthedocs.io/en/latest/source/README.html"
    }
   ],
   "mimetype": "text/x-octave",
   "name": "octave",
   "version": "6.4.0"
  }
 },
 "nbformat": 4,
 "nbformat_minor": 5
}
