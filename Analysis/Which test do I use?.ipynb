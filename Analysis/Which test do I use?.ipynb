{
 "cells": [
  {
   "cell_type": "markdown",
   "id": "59a5570b",
   "metadata": {},
   "source": [
    "### Which test to use?\n",
    "\n",
    "This video is very useful: https://www.youtube.com/watch?v=0wefqjpQyKM These notes started as a summary of that video but I will add to these as I learn more.\n",
    "\n",
    "#### Is the series a p-series or geometric series?\n",
    "\n",
    "These are the two kinds of series that we know how to deal with well.\n",
    "\n",
    "These are the simplest to check and the simplest to solve.\n",
    "\n",
    "p-series:\n",
    "\n",
    "$ \\sum \\limits_{n=0}^\\infty \\frac{1}{n^p} $\n",
    "\n",
    "geometric series:\n",
    "\n",
    "$ \\sum \\limits_{n=0}^\\infty r^n $\n",
    "\n",
    "#### Does the series appear to have a fixed ratio?\n",
    "\n",
    "It might be possible to factor the series to reveal itself as a geometric series.\n",
    "\n",
    "The geometric series is one where the difference between any two terms is the same.\n",
    "\n",
    "If something appears to have a fixed ratio, or very close to that, then we can apply the convergence test for the geometric series.\n",
    "\n",
    "$ \\sum \\limits_{n=1}^\\infty \\frac{2^{n-1}}{5^{n+1}} $\n",
    "\n",
    "$ \\frac{2^{n-1}}{5^{n+1}} = \\frac{2^{n-1}}{5^{n-1}5^2} = \\frac{1}{25}\\left(\\frac{2}{5}\\right)^{n-1} $\n",
    "\n",
    "Now it looks like a typical geometric series:\n",
    "\n",
    "$ \\frac{1}{25}\\sum \\limits_{n=1}^\\infty \\left(\\frac{2}{5}\\right)^{n-1} $\n",
    "\n",
    "#### Does the series have $ (-1)^n $ in it, or can it be factored that way?\n",
    "\n",
    "If so then apply the alternating series test.\n",
    "\n",
    "$ \\sum \\limits_{n=1}^\\infty \\frac{1}{(-3)^n} $\n",
    "\n",
    "Can be rearranged:\n",
    "\n",
    "$ \\sum \\limits_{n=1}^\\infty (-1)^n \\frac{1}{(3)^n} $\n",
    "\n",
    "#### Does the second condition of the alternating convergence test fail?\n",
    "\n",
    "The second condition is:\n",
    "\n",
    "$ \\lim\\limits_{n \\to \\infty} a_n = 0 $\n",
    "\n",
    "If that fails then remember this is required for the divergence test:\n",
    "\n",
    "$ \\lim\\limits_{n \\to \\infty} a_n \\ne 0 $\n",
    "\n",
    "So, use the divergence test.\n",
    "\n",
    "#### Does the series look like either the p-series or the geometric series?\n",
    "\n",
    "If the series couldn't be factored to reveal itself as either a p-series or geometric series, then it might be possible to treat the series as if it was one of those.\n",
    "\n",
    "Consider using the limit form of the comparison test, to try and see if the limit of the series in question behaves like the limit of either a p-series or geometric series.\n",
    "\n",
    "#### Is the series essentially a mess to the power of $ n $?\n",
    "\n",
    "Like this one:\n",
    "\n",
    "$ \\sum \\limits_{n=1}^\\infty \\left(\\frac{3n+1}{2n}\\right)^n $\n",
    "\n",
    "Then apply the root test.\n",
    "\n",
    "#### Does the series have a factorial as the denominator?\n",
    "\n",
    "The ratio test could help here. It could relate the series to the geometric series.\n",
    "\n",
    "#### If no other test works, then can $ a_n $ be integrated?\n",
    "\n",
    "Then use the integral test"
   ]
  }
 ],
 "metadata": {
  "kernelspec": {
   "display_name": "Octave",
   "language": "octave",
   "name": "octave"
  },
  "language_info": {
   "file_extension": ".m",
   "help_links": [
    {
     "text": "GNU Octave",
     "url": "https://www.gnu.org/software/octave/support.html"
    },
    {
     "text": "Octave Kernel",
     "url": "https://github.com/Calysto/octave_kernel"
    },
    {
     "text": "MetaKernel Magics",
     "url": "https://metakernel.readthedocs.io/en/latest/source/README.html"
    }
   ],
   "mimetype": "text/x-octave",
   "name": "octave",
   "version": "5.2.0"
  }
 },
 "nbformat": 4,
 "nbformat_minor": 5
}
