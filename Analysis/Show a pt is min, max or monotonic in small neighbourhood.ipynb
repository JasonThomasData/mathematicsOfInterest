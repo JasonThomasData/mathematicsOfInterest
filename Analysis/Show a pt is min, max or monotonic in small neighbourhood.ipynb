{
 "cells": [
  {
   "cell_type": "markdown",
   "id": "8254d7d2",
   "metadata": {},
   "source": [
    "### Is a function a mimumum, maximum, or monotonic at a point?\n",
    "\n",
    "Given:\n",
    "\n",
    "$ x > x_0 \\to f(x) > f(x_0) $\n",
    "\n",
    "$ x < x_0 \\to f(x) < f(x_0) $\n",
    "\n",
    "Then we can use this information to show:\n",
    "\n",
    "$ f(x) $ is increasing at point $ x_0 $\n",
    "\n",
    "---\n",
    "\n",
    "Recall \n",
    "\n",
    "$ x > x_0 \\to f(x) > f(x_0) $\n",
    "\n",
    "Let's suppose:\n",
    "\n",
    "$ \\lim_\\limits{h \\to 0} \\frac{f(x_0 + h) - f(x_0)}{h} > 0 $\n",
    "\n",
    "$ h > 0 $ is some small interval around $ 0 $.\n",
    "\n",
    "Then there exists $ \\delta : h \\in (0, \\delta) $\n",
    "\n",
    "Since $ h $ isn't 0 then we can multiply it through\n",
    "\n",
    "$ \\lim_\\limits{h \\to 0} \\frac{f(x_0 + h) - f(x_0)}{h} > 0 $\n",
    "\n",
    "$ \\lim_\\limits{h \\to 0} f(x_0 + h) - f(x_0) > 0 $\n",
    "\n",
    "$ \\lim_\\limits{h \\to 0} f(x_0 + h) > f(x_0) $\n",
    "\n",
    "--- \n",
    "\n",
    "Recall \n",
    "\n",
    "$ x < x_0 \\to f(x) < f(x_0) $\n",
    "\n",
    "Let's suppose:\n",
    "\n",
    "$ \\lim_\\limits{h \\to 0} \\frac{f(x_0 + h) - f(x_0)}{h} > 0 $\n",
    "\n",
    "$ h < 0 $ is some small interval around $ 0 $.\n",
    "\n",
    "Then there exists $ \\delta : h \\in (\\delta, 0) $\n",
    "\n",
    "Since $ h $ isn't 0 then we can multiply it through, but since $ h $ is negative, when we multiply it through the sign switches:\n",
    "\n",
    "$ \\lim_\\limits{h \\to 0} \\frac{f(x_0 + h) - f(x_0)}{h} < 0 $\n",
    "\n",
    "$ \\lim_\\limits{h \\to 0} f(x_0 + h) - f(x_0) < 0 $\n",
    "\n",
    "$ \\lim_\\limits{h \\to 0} f(x_0 + h) < f(x_0) $\n",
    "\n",
    "---\n",
    "\n",
    "Take these two results together and we see: to the function's right it increases, to the left it decreases. It is monotonic for small values of $ h $.\n"
   ]
  },
  {
   "cell_type": "code",
   "execution_count": null,
   "id": "be29066d",
   "metadata": {},
   "outputs": [],
   "source": [
    "\n"
   ]
  }
 ],
 "metadata": {
  "kernelspec": {
   "display_name": "Octave",
   "language": "octave",
   "name": "octave"
  },
  "language_info": {
   "file_extension": ".m",
   "help_links": [
    {
     "text": "GNU Octave",
     "url": "https://www.gnu.org/software/octave/support.html"
    },
    {
     "text": "Octave Kernel",
     "url": "https://github.com/Calysto/octave_kernel"
    },
    {
     "text": "MetaKernel Magics",
     "url": "https://metakernel.readthedocs.io/en/latest/source/README.html"
    }
   ],
   "mimetype": "text/x-octave",
   "name": "octave",
   "version": "6.4.0"
  }
 },
 "nbformat": 4,
 "nbformat_minor": 5
}
