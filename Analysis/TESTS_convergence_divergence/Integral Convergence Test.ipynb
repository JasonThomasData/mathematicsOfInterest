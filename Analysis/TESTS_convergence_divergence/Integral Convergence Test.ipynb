{
 "cells": [
  {
   "cell_type": "markdown",
   "id": "c53bb78a",
   "metadata": {},
   "source": [
    "### Integral convergence test\n",
    "\n",
    "Given:\n",
    "\n",
    "$ \\sum \\limits_{n=1}^\\infty a_n $\n",
    "\n",
    "Let there be:\n",
    "\n",
    "$ f(x) = a_n $\n",
    "\n",
    "$ \\int_{1}^\\infty f(x) dx $\n",
    "\n",
    "If the integral converges, then so does the series. If the integral diverges, then so does the series.\n",
    "\n",
    "There are these requirements:\n",
    "\n",
    "- All terms in the series are positive\n",
    "- a_{n+1} < a_n\n",
    "- The series is continuous for its entire domain\n"
   ]
  },
  {
   "cell_type": "code",
   "execution_count": null,
   "id": "4a9af84f",
   "metadata": {},
   "outputs": [],
   "source": []
  }
 ],
 "metadata": {
  "kernelspec": {
   "display_name": "Octave",
   "language": "octave",
   "name": "octave"
  },
  "language_info": {
   "file_extension": ".m",
   "help_links": [
    {
     "text": "GNU Octave",
     "url": "https://www.gnu.org/software/octave/support.html"
    },
    {
     "text": "Octave Kernel",
     "url": "https://github.com/Calysto/octave_kernel"
    },
    {
     "text": "MetaKernel Magics",
     "url": "https://metakernel.readthedocs.io/en/latest/source/README.html"
    }
   ],
   "mimetype": "text/x-octave",
   "name": "octave",
   "version": "5.2.0"
  }
 },
 "nbformat": 4,
 "nbformat_minor": 5
}
