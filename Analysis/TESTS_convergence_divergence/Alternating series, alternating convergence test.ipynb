{
 "cells": [
  {
   "cell_type": "markdown",
   "id": "f15e9c22",
   "metadata": {},
   "source": [
    "### Alternating series, alternating convergence test\n",
    "\n",
    "#### Alternating series\n",
    "\n",
    "This is a series in the form:\n",
    "\n",
    "$ \\sum \\limits_{n=0}^\\infty (-1)^n a_n, a_n \\ge 0$\n",
    "\n",
    "$ a_n $should always become positive by factoring any negative values out.\n",
    "\n",
    "There's the familiar $ a_n $ component, but also the $ (-1)^n $ component that flips sign as $ n \\to \\infty $"
   ]
  },
  {
   "cell_type": "markdown",
   "id": "1dff955e",
   "metadata": {},
   "source": [
    "#### Example of an infinite series\n",
    "\n",
    "This is an alternating series:\n",
    "\n",
    "$ \\sum \\limits_{n=1}^\\infty \\frac{(-1)^n}{n!} = \\sum \\limits_{n=1}^\\infty (-1)^n\\frac{1}{n!} $"
   ]
  },
  {
   "cell_type": "markdown",
   "id": "f29ef6a0",
   "metadata": {},
   "source": [
    "#### Alternating series test\n",
    "\n",
    "The series __converges__ if:\n",
    "\n",
    "- $ a_n > 0 $\n",
    "- $ \\lim\\limits_{n \\to \\infty} a_n = 0 $\n",
    "- $ a_{n+1} \\le a_n $\n",
    "\n",
    "Note: if the second condition fails then try the Divergence Test, because that test is only inconclusive for that circumstance.\n",
    "\n",
    "The third condition might fail because at the limit the series might equal 0, \n",
    "\n",
    "#### Example of using the test\n",
    "\n",
    "$ S_n = \\sum \\limits_{n=1}^\\infty \\frac{(-1)^{n+1}}{n} $\n",
    "\n",
    "$ S_n = (-1)^{n+1} \\cdot \\frac{1}{n} $\n",
    "\n",
    "$ a_n = \\frac{1}{n} $\n",
    "\n",
    "- Is $ a_n > 0 $ ?\n",
    "\n",
    "For all values of $ n > 0 $ then yes, this is true\n",
    "\n",
    "- Does $ \\lim\\limits_{n \\to \\infty} a_n = 0 $ ?\n",
    "\n",
    "If $ n = \\infty $ then $ \\frac{1}{n} $, so yes this is true.\n",
    "\n",
    "- Is $ a_{n+1} \\le a_n $ ?\n",
    "\n",
    "Yes, this is a consequence of the limit approaching 0 so yes that's clearly true.\n",
    "\n",
    "TODO - if we have shown the second requirement is met, then why do we need the third?\n"
   ]
  },
  {
   "cell_type": "code",
   "execution_count": null,
   "id": "8b3d9f8b",
   "metadata": {},
   "outputs": [],
   "source": []
  }
 ],
 "metadata": {
  "kernelspec": {
   "display_name": "Octave",
   "language": "octave",
   "name": "octave"
  },
  "language_info": {
   "file_extension": ".m",
   "help_links": [
    {
     "text": "GNU Octave",
     "url": "https://www.gnu.org/software/octave/support.html"
    },
    {
     "text": "Octave Kernel",
     "url": "https://github.com/Calysto/octave_kernel"
    },
    {
     "text": "MetaKernel Magics",
     "url": "https://metakernel.readthedocs.io/en/latest/source/README.html"
    }
   ],
   "mimetype": "text/x-octave",
   "name": "octave",
   "version": "5.2.0"
  }
 },
 "nbformat": 4,
 "nbformat_minor": 5
}
