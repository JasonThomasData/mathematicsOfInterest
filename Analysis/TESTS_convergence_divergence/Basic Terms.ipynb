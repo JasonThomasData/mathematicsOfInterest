{
 "cells": [
  {
   "cell_type": "markdown",
   "id": "27e089e6",
   "metadata": {},
   "source": [
    "### Basic terms\n",
    "\n",
    "Analysis is the study of infinite processes. For example, does the harmonic series equal a finite number? We can show that it doesn't via analysis.\n",
    "\n",
    "#### Sequence vs series\n",
    "\n",
    "In analysis, a sequence is a set of numbers that have some order and may have duplicates.\n",
    "\n",
    "A series is the sum of a sequence.\n",
    "\n",
    "#### Infinite series\n",
    "\n",
    "This is a sum of an infinite number of terms, AKA an infinite sequence:\n",
    "\n",
    "$ \\displaystyle \\sum_{n=1}^\\infty a_n = a_1 + a_2 + a_3 + ... + a_n $\n",
    "\n",
    "#### Partial sum\n",
    "\n",
    "This is a sum of a sequence up until some index:\n",
    "\n",
    "$ \\displaystyle \\sum_{n=1}^N a_n = a_1 + a_2 + a_3 + ... + a_N $\n",
    "\n",
    "It's like a running total ending at $ N $\n",
    "\n",
    "#### Convergence\n",
    "\n",
    "Where an infinite series of any $ a_n $ adds up to a finite number.\n",
    "\n",
    "$ S = \\sum \\limits_{n=1}^N a_n, N \\to \\infty $\n",
    "\n",
    "That is, the partial sum adds up to a finite number as the largest index tends to infinity. I mean the value of the index not the value of the sequence element at that index.\n",
    "\n",
    "#### Divergence\n",
    "\n",
    "This is where the partial sum described for convergence doesn't converge, and tends to infinity."
   ]
  },
  {
   "cell_type": "code",
   "execution_count": null,
   "id": "b330d426",
   "metadata": {},
   "outputs": [],
   "source": []
  }
 ],
 "metadata": {
  "kernelspec": {
   "display_name": "Octave",
   "language": "octave",
   "name": "octave"
  },
  "language_info": {
   "file_extension": ".m",
   "help_links": [
    {
     "text": "GNU Octave",
     "url": "https://www.gnu.org/software/octave/support.html"
    },
    {
     "text": "Octave Kernel",
     "url": "https://github.com/Calysto/octave_kernel"
    },
    {
     "text": "MetaKernel Magics",
     "url": "https://metakernel.readthedocs.io/en/latest/source/README.html"
    }
   ],
   "mimetype": "text/x-octave",
   "name": "octave",
   "version": "6.4.0"
  }
 },
 "nbformat": 4,
 "nbformat_minor": 5
}
