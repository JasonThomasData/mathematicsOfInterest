{
 "cells": [
  {
   "cell_type": "markdown",
   "id": "feaa2d48",
   "metadata": {},
   "source": [
    "### Cauchy Sequences\n",
    "\n",
    "Any infinite series that is convergent approaches a limit. How could you characteris an infinite series without involving the limit?\n",
    "\n",
    "If a series a converges then as it approaches the limit then the difference between each term and its successor gets smaller and smaller.\n",
    "\n",
    "More formally:\n",
    "\n",
    "A sequence $ a_n $ is Cauchy _iff_ for all $ \\epsilon > 0 $, there exists some $ N $ such that $ |a_m - a_n | < \\delta $ for all $ m,n > N $\n",
    "\n",
    "In other words, there is some point in the sequence after which , no matter how small $ \\epsilon $, the difference between elements in the sequence are smaller than $ \\epsilon $\n",
    "\n",
    "This means:\n",
    "\n",
    "A sequence convergess iff it is Cauchy.\n"
   ]
  },
  {
   "cell_type": "code",
   "execution_count": null,
   "id": "5a4ae236",
   "metadata": {},
   "outputs": [],
   "source": []
  }
 ],
 "metadata": {
  "kernelspec": {
   "display_name": "Octave",
   "language": "octave",
   "name": "octave"
  },
  "language_info": {
   "file_extension": ".m",
   "help_links": [
    {
     "text": "GNU Octave",
     "url": "https://www.gnu.org/software/octave/support.html"
    },
    {
     "text": "Octave Kernel",
     "url": "https://github.com/Calysto/octave_kernel"
    },
    {
     "text": "MetaKernel Magics",
     "url": "https://metakernel.readthedocs.io/en/latest/source/README.html"
    }
   ],
   "mimetype": "text/x-octave",
   "name": "octave",
   "version": "6.4.0"
  }
 },
 "nbformat": 4,
 "nbformat_minor": 5
}
