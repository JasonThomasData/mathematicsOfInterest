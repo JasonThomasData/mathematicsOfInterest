{
 "cells": [
  {
   "cell_type": "markdown",
   "id": "4374e2c1",
   "metadata": {},
   "source": [
    "### Proof for convergence - a simple example (template for other problems)\n",
    "\n",
    "$ \\{x_k\\} = \\frac{k - 1}{k} = \\{ \\frac{1}{2}, \\frac{2}{3}, \\frac{3}{4}, ... \\} $\n",
    "\n",
    "If it converges then there is some $ \\epsilon $ where every point after some index is within $ \\pm \\epsilon $ of the limit $ \\bar x $. We must define a function $ K(\\epsilon) $ that returns an index of one of these elements, but it doesn't have to be the lowest index.\n",
    "\n",
    "---\n",
    "\n",
    "#### General strategy\n",
    "\n",
    "Given:\n",
    "\n",
    "$ \\epsilon > 0 $\n",
    "\n",
    "$ k \\in \\mathbb{N} $\n",
    "\n",
    "$ \\bar x $ is the limit for the sequence as $ k \\to \\infty $\n",
    "\n",
    "Then we must define:\n",
    "\n",
    "$ \\exists K(\\epsilon) \\in \\mathbb{N} $\n",
    "\n",
    "And then show:\n",
    "\n",
    "$ \\forall k \\ge K(\\epsilon) $\n",
    "\n",
    "$ |x_k - \\bar x| < \\epsilon $\n",
    "\n",
    "---\n",
    "\n",
    "#### Concerning $ \\frac{k - 1}{k} $\n",
    "\n",
    "Recall: $ \\{x_k\\} = \\frac{k - 1}{k} $\n",
    "\n",
    "Then this is true:\n",
    "\n",
    "$ |x_k - \\bar x | = |\\frac{k - 1}{k} - \\bar x | $\n",
    "\n",
    "Let's take a guess for $ \\bar x $. It seems to converge to $ 1 $\n",
    " \n",
    "$ |x_k - 1| = |\\frac{k - 1}{k} - 1| $\n",
    "\n",
    "Then simplify if possible:\n",
    "\n",
    "$ |x_k - 1| = |\\frac{k - 1}{k} - \\frac{k}{k} | $\n",
    "\n",
    "$ |x_k - 1| = |\\frac{- 1}{k} | $\n",
    "\n",
    "$ |x_k - 1| = \\frac{1}{k} $\n",
    "\n",
    "Recall, we need to show: $ |x_k - 1| < \\epsilon $\n",
    "\n",
    "$ \\frac{1}{k} < \\epsilon $\n",
    "\n",
    "$ k > \\epsilon^{-1} $\n",
    "\n",
    "But this inequality tells us what we already knew; we need to find an integer value. We need the next one along, and \n",
    "this is what we needed to define $ K(\\epsilon) \\in \\mathbb{N} $\n",
    "\n",
    "Note that $ \\epsilon^{-1} $ is any real number. We need to find the function $ K(\\epsilon) $ so that \n",
    "\n",
    "$ K(\\epsilon) := \\text{ceil}(\\epsilon^{-1}) $\n",
    "\n",
    "But, you could use:\n",
    "\n",
    "$ K(\\epsilon) := \\text{ceil}(\\epsilon^{-1}) + 1 $\n",
    "\n",
    "$ K(\\epsilon) := \\text{ceil}(\\epsilon^{-1}) + 10 $\n",
    "\n",
    "And so on...\n",
    "\n",
    "Since this is true for all $ k $, then the sequence converges to the guess of $ \\bar x = 1 $\n"
   ]
  },
  {
   "cell_type": "code",
   "execution_count": 10,
   "id": "1aa8bb91",
   "metadata": {},
   "outputs": [
    {
     "data": {
      "image/png": "[encoded data removed]",
      "text/plain": [
       "<IPython.core.display.Image object>"
      ]
     },
     "metadata": {},
     "output_type": "display_data"
    }
   ],
   "source": [
    "n = 20;\n",
    "\n",
    "k = linspace(1,n,n);\n",
    "x_k = (k .- 1)./k;\n",
    "\n",
    "plot(k, x_k);"
   ]
  },
  {
   "cell_type": "code",
   "execution_count": null,
   "id": "7bdf2edf",
   "metadata": {},
   "outputs": [],
   "source": []
  }
 ],
 "metadata": {
  "kernelspec": {
   "display_name": "Octave",
   "language": "octave",
   "name": "octave"
  },
  "language_info": {
   "file_extension": ".m",
   "help_links": [
    {
     "text": "GNU Octave",
     "url": "https://www.gnu.org/software/octave/support.html"
    },
    {
     "text": "Octave Kernel",
     "url": "https://github.com/Calysto/octave_kernel"
    },
    {
     "text": "MetaKernel Magics",
     "url": "https://metakernel.readthedocs.io/en/latest/source/README.html"
    }
   ],
   "mimetype": "text/x-octave",
   "name": "octave",
   "version": "6.4.0"
  }
 },
 "nbformat": 4,
 "nbformat_minor": 5
}
