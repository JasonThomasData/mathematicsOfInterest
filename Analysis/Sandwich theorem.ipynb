{
 "cells": [
  {
   "cell_type": "markdown",
   "id": "ef57b5c8",
   "metadata": {},
   "source": [
    "### Sandwich theorem\n",
    "\n",
    "Given three sequences: $ \\{a_k\\}, \\{b_k\\},\\{c_k\\} $\n",
    "\n",
    "$ a_k \\le b_k \\le c_k, k = 1,2,...,n $\n",
    "\n",
    "If:\n",
    "\n",
    "$ \\lim_\\limits{k \\to \\infty} a_k = \\lim_\\limits{k \\to \\infty} c_k = \\lambda $\n",
    "\n",
    "Then:\n",
    "\n",
    "$ \\lim_\\limits{k \\to \\infty} b_k = \\lambda $\n",
    "\n",
    "---\n",
    "\n",
    "#### Proof\n",
    "\n",
    "We start with the definitions of limits for $ a_k, c_k $\n",
    "\n",
    "Instead of the familiar $ |a_k - \\bar a| < \\epsilon $, we can write $ \\bar a - \\epsilon \\le a_k \\le \\bar a + \\epsilon $\n",
    "\n",
    "The limit of $ a_k $ is:\n",
    "\n",
    "(1): $ \\forall \\epsilon > 0, \\exists K_a(\\epsilon) \\in \\mathbb{N}, \\forall k > K(\\epsilon): \\bar a - \\epsilon \\le a_k \\le \\bar a + \\epsilon $\n",
    "\n",
    "The limit of $ c_k $ is:\n",
    "\n",
    "(2): $ \\forall \\epsilon > 0, \\exists K_c(\\epsilon) \\in \\mathbb{N}, \\forall k > K(\\epsilon): \\bar c - \\epsilon \\le c_k \\le \\bar c + \\epsilon $\n",
    "\n",
    "Since $ c_k > a_k $, then we can reduce those limit definitions further.\n",
    "\n",
    "(3): $ \\forall \\epsilon > 0, \\exists K(\\epsilon) \\in \\mathbb{N}, \\forall k > K(\\epsilon): \\bar a - \\epsilon \\le a_k $\n",
    "\n",
    "(4): $ \\forall \\epsilon > 0, \\exists K(\\epsilon) \\in \\mathbb{N}, \\forall k > K(\\epsilon): c_k \\le \\bar c + \\epsilon $\n",
    "\n",
    "Then altogether:\n",
    "\n",
    "(5): $ \\bar a - \\epsilon \\le a_k \\le b_k \\le c_k \\le \\bar c + \\epsilon $\n",
    "\n",
    "Take out the rest:\n",
    "\n",
    "(6): $ \\bar a - \\epsilon \\le b_k \\le \\bar c + \\epsilon $\n",
    "\n",
    "We need to update $ K(\\epsilon) $ to be meaningful still:\n",
    "\n",
    "(7): $ K_b(\\epsilon) = \\max \\{K_a(\\epsilon), K_c(\\epsilon)\\} $\n",
    "\n",
    "Remember the propsotion: if $ (\\bar a = \\bar c = \\lambda) \\to (\\bar b = \\lambda) $.\n",
    "\n",
    "So if $ \\bar a = \\bar c $ then we can rewrite the result in (6):\n",
    "\n",
    "$ \\bar b - \\epsilon \\le b_k \\le \\bar b + \\epsilon $\n",
    "\n",
    "And this is what we need to show it's a limit."
   ]
  },
  {
   "cell_type": "code",
   "execution_count": null,
   "id": "baccc8fb",
   "metadata": {},
   "outputs": [],
   "source": []
  }
 ],
 "metadata": {
  "kernelspec": {
   "display_name": "Octave",
   "language": "octave",
   "name": "octave"
  },
  "language_info": {
   "file_extension": ".m",
   "help_links": [
    {
     "text": "GNU Octave",
     "url": "https://www.gnu.org/software/octave/support.html"
    },
    {
     "text": "Octave Kernel",
     "url": "https://github.com/Calysto/octave_kernel"
    },
    {
     "text": "MetaKernel Magics",
     "url": "https://metakernel.readthedocs.io/en/latest/source/README.html"
    }
   ],
   "mimetype": "text/x-octave",
   "name": "octave",
   "version": "6.4.0"
  }
 },
 "nbformat": 4,
 "nbformat_minor": 5
}
