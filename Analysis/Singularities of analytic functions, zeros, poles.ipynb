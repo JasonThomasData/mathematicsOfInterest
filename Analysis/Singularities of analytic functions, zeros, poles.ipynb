{
 "cells": [
  {
   "cell_type": "markdown",
   "id": "36ac0dc4",
   "metadata": {},
   "source": [
    "### Singularities of analytic functions, zeros, poles\n",
    "\n",
    "If $ f(z) $ is analytic then if $ f(z) $ is not analytic at the point $ z_0 $, then that point is a singularity.\n",
    "\n",
    "For example suppose $ \\frac{1}{z-3} $ is analytic. It can't be analytic where it's undefined so $ z = 3 $ is a singularity.\n",
    "\n",
    "![types of singularities](Screenshot_2023-10-02_10-12-20.png)\n",
    "\n",
    "Also, a way to characterise removeable poles is that there limit approaching $ a $ is defined and is finite:\n",
    "\n",
    "$ \\lim_\\limits{z\\to a} f(z) $ is finite, then $ a $ is removeable.\n",
    "\n",
    "The most important for complex analysis is a pole:\n",
    "\n",
    "![pole](Screenshot_2023-10-01_14-24-36.png)\n",
    "\n",
    "If $ g(z) $ is a removeable singularity, then we are interested in the smallest power $ m $ that makes it possible. This is called the order of the pole.\n",
    "\n",
    "A pole of order 1 is a simple pole.\n",
    "\n",
    "#### Classifying singularities\n",
    "\n",
    "$ f: D \\to \\mathbb{C} $\n",
    "\n",
    "If a singularity is a pole then for $ z \\in D $, $ \\lim_\\limits{z \\to a} |f(z)| = \\infty $. It diverges, in the sense we learned about with Real Analysis.\n",
    "\n",
    "Once $ a $ is confirmed to be a pole in the function $ f(z) $ then you get $ h(z) = (z-a)^m f(z) $\n",
    "\n",
    "Then $ h(z) $ now has a removeable singularity.\n",
    "\n",
    "Also, $ f(z) = (z-a)^{-m}h(z) $\n",
    "\n",
    "$ h(z) \\ne 0 $\n",
    "\n",
    "#### Casorati-Weierstrass Theorem\n",
    "\n",
    "Let $ a $ is an essential singularity of an analytic function $ f: D \\to \\mathbb{C} $, and $ D \\subset \\mathbb{C} $ is an open set. If $ U^* = U \\backslash \\{a\\} $ is an arbitrary punctured neighbourhood of $ a $ then the image $ f(U^* \\cap D) $ is dense in $ \\mathbb{C} $ then for any $ b \\in \\mathbb{C} $ and $ \\epsilon > 0 $:\n",
    "\n",
    "$ f(U^* \\cap D) \\cap U_{\\epsilon}(b) \\ne \\emptyset $\n",
    "\n",
    "And this means that since it's dense for any number $ b $ in $ \\mathbb{C} $, we can find an arbitrarily small set that will serve as a decent approximation if we let $ \\epsilon $ get small enough.\n",
    "\n",
    "#### Big theorem of Pickard\n",
    "\n",
    "Note there is also a little theorem, related.\n",
    "\n",
    "If $ a $ is an essential singularity of an analytic function $ f: D \\to \\mathbb{C} $ then for a punctured neighbourhood $ U^* \\subset D $, there are two possible cases:\n",
    "\n",
    "$ f(U^*) = \\mathbb{C} $\n",
    "\n",
    "$ f(U^*) = \\mathbb{C} \\backslash \\{c\\} $, for some suitable $ c $\n"
   ]
  },
  {
   "cell_type": "code",
   "execution_count": null,
   "id": "d0985eef",
   "metadata": {},
   "outputs": [],
   "source": []
  }
 ],
 "metadata": {
  "kernelspec": {
   "display_name": "Octave",
   "language": "octave",
   "name": "octave"
  },
  "language_info": {
   "file_extension": ".m",
   "help_links": [
    {
     "text": "GNU Octave",
     "url": "https://www.gnu.org/software/octave/support.html"
    },
    {
     "text": "Octave Kernel",
     "url": "https://github.com/Calysto/octave_kernel"
    },
    {
     "text": "MetaKernel Magics",
     "url": "https://metakernel.readthedocs.io/en/latest/source/README.html"
    }
   ],
   "mimetype": "text/x-octave",
   "name": "octave",
   "version": "6.4.0"
  }
 },
 "nbformat": 4,
 "nbformat_minor": 5
}
