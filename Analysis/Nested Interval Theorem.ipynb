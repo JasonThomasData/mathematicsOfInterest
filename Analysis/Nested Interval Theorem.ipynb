{
 "cells": [
  {
   "cell_type": "markdown",
   "id": "ae255819",
   "metadata": {},
   "source": [
    "### Nested Interval Theorem\n",
    "\n",
    "$ \\{x_k \\} $ is non-decreasing.\n",
    "\n",
    "$ \\{y_k \\} $ is non-increasing.\n",
    "\n",
    "If: \n",
    "\n",
    "$ x_k \\le y_k \\wedge \\lim_\\limits{k \\to \\infty} (x_k - y_k) = 0 $\n",
    "\n",
    "Then:\n",
    "\n",
    "$ x_k, y_k $ converge $ \\wedge \\lim_\\limits{k \\to \\infty} x_k = \\lim_\\limits{k \\to \\infty} y_k $\n",
    "\n",
    "#### Proof\n",
    "\n",
    "Suppose the negation: $\\lim_\\limits{k \\to \\infty} (x_k - y_k) \\ne 0 $, or more concisely, $ \\bar x \\ne \\bar y $\n",
    "\n",
    "Then suppose that $ \\epsilon := \\frac{|\\bar x - \\bar y|}{3} $\n",
    "\n",
    "Then:\n",
    "\n",
    "$ 3\\epsilon = |\\bar x - \\bar y| $\n",
    "\n",
    "Then let's write out the limits with these:\n",
    "\n",
    "(1) $ | x_k - \\bar x| < \\frac{|\\bar x - \\bar y|}{3} $\n",
    "\n",
    "(2) $ | y_k - \\bar y| < \\frac{|\\bar x - \\bar y|}{3} $\n",
    "\n",
    "But also there's some $ K(\\epsilon) \\in \\mathbb{N}, k > K(\\epsilon) $ such that all $ x_k, y_k < \\pm \\epsilon $\n",
    "\n",
    "(3) Then this is certainly true:\n",
    "\n",
    "$ | x_k - y_k | < \\frac{|\\bar x - \\bar y|}{3} $\n",
    "\n",
    "Then altogether (1), (2), (3):\n",
    "\n",
    "(4) $ | x_k - \\bar x| + | y_k - \\bar y| + |x_k - y_k| < \\epsilon + \\epsilon + \\epsilon = | \\bar x - \\bar y | $\n",
    "\n",
    "The first three terms above can be obtained by thinking about the triangle inequality:\n",
    "\n",
    "$ | \\bar x - \\bar y | = | \\bar x - x_k + x_k - y_k + y_k - \\bar y | $\n",
    "\n",
    "(5) $ | \\bar x - \\bar y | \\le | \\bar x - x_k | + | x_k - y_k| + |y_k - \\bar y | $\n",
    "\n",
    "Then we augment (4) with (5) \n",
    "\n",
    "$ |\\bar x + \\bar y| \\le | x_k - \\bar x| + | y_k - \\bar y| + |x_y - y_k | < 3\\epsilon = | \\bar x - \\bar y | $\n",
    "\n",
    "And since that says $ |\\bar x - \\bar y | < |\\bar x - \\bar y | $ then that is a contradiction.\n"
   ]
  },
  {
   "cell_type": "code",
   "execution_count": null,
   "id": "db1f6421",
   "metadata": {},
   "outputs": [],
   "source": []
  }
 ],
 "metadata": {
  "kernelspec": {
   "display_name": "Octave",
   "language": "octave",
   "name": "octave"
  },
  "language_info": {
   "file_extension": ".m",
   "help_links": [
    {
     "text": "GNU Octave",
     "url": "https://www.gnu.org/software/octave/support.html"
    },
    {
     "text": "Octave Kernel",
     "url": "https://github.com/Calysto/octave_kernel"
    },
    {
     "text": "MetaKernel Magics",
     "url": "https://metakernel.readthedocs.io/en/latest/source/README.html"
    }
   ],
   "mimetype": "text/x-octave",
   "name": "octave",
   "version": "6.4.0"
  }
 },
 "nbformat": 4,
 "nbformat_minor": 5
}
