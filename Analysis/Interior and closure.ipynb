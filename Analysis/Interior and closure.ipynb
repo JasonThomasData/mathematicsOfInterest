{
 "cells": [
  {
   "cell_type": "markdown",
   "id": "3b69ce2e",
   "metadata": {},
   "source": [
    "### Interior, closure\n",
    "\n",
    "These are dual notions\n",
    "\n",
    "![definitions for interior and closure](Screenshot_2023-08-01_14-16-31.png)\n",
    "\n",
    "For our notes:\n",
    "\n",
    "$ A $ is a set\n",
    "\n",
    "$ A^o $ is the interior of $ A $\n",
    "\n",
    "$ A^c $ is the complement of $ A $\n",
    "\n",
    "### Relevant theorem\n",
    "\n",
    "$ A $ is closed $ \\Leftrightarrow A^c $ is open.\n",
    "\n",
    "$ A $ is open $ \\Leftrightarrow A^c $ is closed.\n",
    "\n",
    "### Relationship between interior and closure\n",
    "\n",
    "#### The relationship is...\n",
    "\n",
    "$ (A^o)^c = \\overline{A^c} $\n",
    "\n",
    "To prove it we must show\n",
    "\n",
    "$ (A^o)^c \\subseteq \\overline{A^c} $\n",
    "\n",
    "$\\overline{A^c} \\subseteq  (A^o)^c $\n",
    "\n",
    "---\n",
    "\n",
    "Convert the first inclusion statement be this logical form:\n",
    "\n",
    "$ x \\in (A^o)^c \\to x \\in \\overline{(A^c)} $\n",
    "\n",
    "We assume the LHS is true\n",
    "\n",
    "Since $ A^o $ is the interior points of $ A $, then $ (A^o)^c $ are all of the points of $ S $ such that:\n",
    "\n",
    "$ x $ is either in $ A^c $ OR in the set of limit points of $ A $. (And perhaps both are true if $ A $ is an open set).\n",
    "\n",
    "Then this statement is equivalent to $ \\overline{(A^c)} $\n",
    "\n",
    "----\n",
    "\n",
    "Convert the second inclusion statement to be this logical form:\n",
    "\n",
    "$ x \\in \\overline{(A^c)} \\to x \\in (A^o)^c $\n",
    "\n",
    "This is trivially a reversal of the first argument.\n"
   ]
  },
  {
   "cell_type": "code",
   "execution_count": 16,
   "id": "4be18cfc",
   "metadata": {},
   "outputs": [],
   "source": [
    "pkg load symbolic\n"
   ]
  },
  {
   "cell_type": "code",
   "execution_count": 18,
   "id": "30178da0",
   "metadata": {},
   "outputs": [
    {
     "name": "stdout",
     "output_type": "stream",
     "text": [
      "ans = (sym)\r\n",
      "\r\n",
      "  2\r\n",
      "  ─\r\n",
      "  x\r\n",
      "\r\n"
     ]
    }
   ],
   "source": [
    "syms x\n",
    "\n",
    "(x + 2/x) - x"
   ]
  },
  {
   "cell_type": "code",
   "execution_count": null,
   "id": "f6f0385a",
   "metadata": {},
   "outputs": [],
   "source": []
  }
 ],
 "metadata": {
  "kernelspec": {
   "display_name": "Octave",
   "language": "octave",
   "name": "octave"
  },
  "language_info": {
   "file_extension": ".m",
   "help_links": [
    {
     "text": "GNU Octave",
     "url": "https://www.gnu.org/software/octave/support.html"
    },
    {
     "text": "Octave Kernel",
     "url": "https://github.com/Calysto/octave_kernel"
    },
    {
     "text": "MetaKernel Magics",
     "url": "https://metakernel.readthedocs.io/en/latest/source/README.html"
    }
   ],
   "mimetype": "text/x-octave",
   "name": "octave",
   "version": "6.4.0"
  }
 },
 "nbformat": 4,
 "nbformat_minor": 5
}
