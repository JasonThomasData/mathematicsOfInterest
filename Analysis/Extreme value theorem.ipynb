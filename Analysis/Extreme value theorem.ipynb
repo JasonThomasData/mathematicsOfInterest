{
 "cells": [
  {
   "cell_type": "markdown",
   "id": "f97add84",
   "metadata": {},
   "source": [
    "### Extreme value theorem\n",
    "\n",
    "This is used to prove Rolle's Theorem.\n",
    "\n",
    "---\n",
    "\n",
    "Theorem: if $ f : [a, b] \\to \\mathbb{R} $ is continuous then $ f $ has a maximum and a minimum.\n",
    "\n",
    "---\n",
    "\n",
    "Useful lemma: if $ S \\subset \\mathbb{R} , S \\ne \\emptyset $ then if the $ \\sup(S) = M < \\infty $\n",
    "\n",
    "Then there exists a sequence $ S_k \\subset S, S_k \\to M $\n",
    "\n",
    "And what this means is we can take a sequence of elements in $ S $ that get closer and closer to the supremum.\n",
    "\n",
    "Proof for the lemma:\n",
    "\n",
    "Forall $ k $: \n",
    "\n",
    "$ M - \\frac{1}{k} < M = \\sup(M) $\n",
    "\n",
    "But there will always be some value of $ S_k $ that is larger than $ M - \\frac{1}{k} $\n",
    "\n",
    "So: \n",
    "\n",
    "$ M - \\frac{1}{k} < S_k \\le M $\n",
    "\n",
    "Since $ k \\to \\infty $, then by the sandwich theorem, $ s_k \\to M $\n",
    "\n",
    "---\n",
    "\n",
    "Back to the theorem's proof:\n",
    "\n",
    "We were given that $ f $ is continuous.\n",
    "\n",
    "Then we know from the definition of continuity that $ f $ must have a limit. So:\n",
    "\n",
    "$ |f(x)| < \\epsilon $\n",
    "\n",
    "Then let $ S_k $ be the set of all $ f(x) $, also known as the range of $ f(x) $\n",
    "\n",
    "![function pic of S](Screenshot_2023-08-30_13-02-34.png)\n",
    "\n",
    "_This last part is not rigorous but it captures the idea_\n",
    "\n",
    "Since the domain is bounded and since the function doesn't go to infinity, then the range is closed and bounded also (compact).\n",
    "\n",
    "Then by the lemma we showed earlier, $ S_k \\to M $ and that means the maximim of the function is in the range.\n",
    "\n",
    "This is good - https://www.youtube.com/watch?v=-cCWT8nUTv0\n"
   ]
  },
  {
   "cell_type": "code",
   "execution_count": null,
   "id": "d944cda9",
   "metadata": {},
   "outputs": [],
   "source": []
  }
 ],
 "metadata": {
  "kernelspec": {
   "display_name": "Octave",
   "language": "octave",
   "name": "octave"
  },
  "language_info": {
   "file_extension": ".m",
   "help_links": [
    {
     "text": "GNU Octave",
     "url": "https://www.gnu.org/software/octave/support.html"
    },
    {
     "text": "Octave Kernel",
     "url": "https://github.com/Calysto/octave_kernel"
    },
    {
     "text": "MetaKernel Magics",
     "url": "https://metakernel.readthedocs.io/en/latest/source/README.html"
    }
   ],
   "mimetype": "text/x-octave",
   "name": "octave",
   "version": "6.4.0"
  }
 },
 "nbformat": 4,
 "nbformat_minor": 5
}
