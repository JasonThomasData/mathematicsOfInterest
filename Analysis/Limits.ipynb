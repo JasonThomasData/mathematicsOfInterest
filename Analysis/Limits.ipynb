{
 "cells": [
  {
   "cell_type": "markdown",
   "id": "f2724c35",
   "metadata": {},
   "source": [
    "In this course, the limit is defined as:\n",
    "\n",
    "$ \\lim_\\limits{k \\to \\infty} x_k = \\bar x $ as notation\n",
    "\n",
    "The actual definition is $ \\bar x $:\n",
    "\n",
    "$ \\forall \\epsilon > 0, \\exists K(\\epsilon) \\in \\mathbb{N}, \\forall k \\ge K(\\epsilon) : |x_k - \\bar x| < \\epsilon $\n",
    "\n",
    "And this definition is useful for proving convergence. For proving divergence we can take the negation.\n",
    "\n",
    "#### Properties of limits\n",
    "\n",
    "The lecturer has said that all of these, below, are directly based on the definition of a limit.\n",
    "\n",
    "![properties of limits](Screenshot_2023-07-23_14-04-08.png)\n",
    "\n",
    "#### Uniqueness of a limit\n",
    "\n",
    "Below, $ \\epsilon $ is chosen to be over $ 2 $ so that the triangle inequality works. The triangle inequality itself is made to work with the $ - x + x $ trick.\n",
    "\n",
    "![proof by contradiction](Screenshot_2023-07-23_14-49-54.png)"
   ]
  },
  {
   "cell_type": "code",
   "execution_count": null,
   "id": "048be866",
   "metadata": {},
   "outputs": [],
   "source": []
  }
 ],
 "metadata": {
  "kernelspec": {
   "display_name": "Octave",
   "language": "octave",
   "name": "octave"
  },
  "language_info": {
   "file_extension": ".m",
   "help_links": [
    {
     "text": "GNU Octave",
     "url": "https://www.gnu.org/software/octave/support.html"
    },
    {
     "text": "Octave Kernel",
     "url": "https://github.com/Calysto/octave_kernel"
    },
    {
     "text": "MetaKernel Magics",
     "url": "https://metakernel.readthedocs.io/en/latest/source/README.html"
    }
   ],
   "mimetype": "text/x-octave",
   "name": "octave",
   "version": "6.4.0"
  }
 },
 "nbformat": 4,
 "nbformat_minor": 5
}
