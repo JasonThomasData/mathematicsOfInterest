{
 "cells": [
  {
   "cell_type": "markdown",
   "id": "c4402132",
   "metadata": {},
   "source": [
    "### Boundedness\n",
    "\n",
    "The lecturer says this one is all about Compactness and Boundedness.\n",
    "\n",
    "![definition for boundedness](Screenshot_2023-07-25_13-42-49.png)\n",
    "\n",
    "Consider $ \\mathbb{R}^2 $\n",
    "\n",
    "Then if you have an ball at the origin, $ B(o, r) $ then if the magnitude of a point (the Euclidean distance from the origin) is $ < r $ then the point is bounded.\n",
    "\n",
    "___\n",
    "\n",
    "The sequence $ \\{x_k\\} $ in $ \\mathbb{R}^n $ is bounded iff:\n",
    "\n",
    "$ \\exists M > 0, \\forall i \\in \\{1,2,...,n\\}, \\forall k \\in \\mathbb{N} : | x_k^i | \\le M $\n",
    "\n",
    "In otherwords, if you consider a point, and you cycle through the dimensions in $ |x_k^i| $ individually, then you should see the absolute value of each dimension for the point be less than $ M $, and that means the point is bounded. If it's true for every point in the sequence then the sequence is bounded.\n",
    "\n",
    "#### Proof\n",
    "\n",
    "$ (\\Rightarrow) $\n",
    "\n",
    "$ ||x_k|| = \\sqrt{\\sum_{i=1}^n{| x_k^i |^2}} < r $\n",
    "\n",
    "Fix $ i $:\n",
    "\n",
    "$ ||x_k|| \\ge \\sqrt{| x_k^i |^2} $\n",
    "\n",
    "$ ||x_k|| \\ge | x_k^i | $\n",
    "\n",
    "_Then the modulus for the entire sequence is greater than a single $ x_k^i $ with fixed $ i $ where we vary $ k $._\n",
    "\n",
    "Recall, the sequence is bounded so: $ || x_k || < r $\n",
    "\n",
    "If we say that $ r = M $, then:\n",
    "\n",
    "$ |x_k^i| \\le ||x_k|| \\le M, r $\n",
    "\n",
    "$ (\\Leftarrow) $\n",
    "\n",
    "We assume:\n",
    "\n",
    "$ \\exists M > 0, \\forall i \\in \\{1,2,...,n\\}, \\forall k \\in \\mathbb{N} : | x_k^i | \\le M $\n",
    "\n",
    "Then consider:\n",
    "\n",
    "$ \\sqrt{ \\sum_\\limits{i=1}^n M^2 } = \\sqrt{nM^2} $\n",
    "\n",
    "And we know that $ |x_k^i| \\le M $, so that means:\n",
    "\n",
    "$ || x_k || = \\sqrt{ \\sum_\\limits{i=1}^n |x_k^i|^2 } \\le \\sqrt{n}M $\n",
    "\n",
    "And that implies that:\n",
    "\n",
    "$ || x_k || \\le M $, which is the definition of boundedness.\n"
   ]
  },
  {
   "cell_type": "code",
   "execution_count": null,
   "id": "fe3a2c83",
   "metadata": {},
   "outputs": [],
   "source": []
  }
 ],
 "metadata": {
  "kernelspec": {
   "display_name": "Octave",
   "language": "octave",
   "name": "octave"
  },
  "language_info": {
   "file_extension": ".m",
   "help_links": [
    {
     "text": "GNU Octave",
     "url": "https://www.gnu.org/software/octave/support.html"
    },
    {
     "text": "Octave Kernel",
     "url": "https://github.com/Calysto/octave_kernel"
    },
    {
     "text": "MetaKernel Magics",
     "url": "https://metakernel.readthedocs.io/en/latest/source/README.html"
    }
   ],
   "mimetype": "text/x-octave",
   "name": "octave",
   "version": "6.4.0"
  }
 },
 "nbformat": 4,
 "nbformat_minor": 5
}
