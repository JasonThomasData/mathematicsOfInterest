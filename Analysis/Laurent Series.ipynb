{
 "cells": [
  {
   "cell_type": "markdown",
   "id": "86759ada",
   "metadata": {},
   "source": [
    "### Laurent series\n",
    "\n",
    "This follows from the notebook about singularities.\n",
    "\n",
    "Consider two analytic functions:\n",
    "\n",
    "$ g: D_R(0) \\to \\mathbb{C}, h: D_{1/r}(0) \\to \\mathbb{C} $\n",
    "\n",
    "Both are open disks at the origin, $ g $ has radius $ R $ and $ h $ has radius $ \\frac{1}{r} $\n",
    "\n",
    "Then define an annulus:\n",
    "\n",
    "$ A = \\{ z: 0 < r < | z - a | < R \\} $\n",
    "\n",
    "PIC OF ANULUS.\n",
    "\n",
    "The function $ f(z) = g(z) + h(1/z) $ is analytic in the annulus that is between $ g, h $\n",
    "\n",
    "That is to say that the $ f $: \n",
    "\n",
    "#### Using a Laurent series to find the order of a pole\n",
    "\n",
    "\n"
   ]
  },
  {
   "cell_type": "code",
   "execution_count": null,
   "id": "6304abfe",
   "metadata": {},
   "outputs": [],
   "source": []
  }
 ],
 "metadata": {
  "kernelspec": {
   "display_name": "Octave",
   "language": "octave",
   "name": "octave"
  },
  "language_info": {
   "file_extension": ".m",
   "help_links": [
    {
     "text": "GNU Octave",
     "url": "https://www.gnu.org/software/octave/support.html"
    },
    {
     "text": "Octave Kernel",
     "url": "https://github.com/Calysto/octave_kernel"
    },
    {
     "text": "MetaKernel Magics",
     "url": "https://metakernel.readthedocs.io/en/latest/source/README.html"
    }
   ],
   "mimetype": "text/x-octave",
   "name": "octave",
   "version": "6.4.0"
  }
 },
 "nbformat": 4,
 "nbformat_minor": 5
}
