{
 "cells": [
  {
   "cell_type": "markdown",
   "id": "f3cc48f7",
   "metadata": {},
   "source": [
    "### Sequences\n",
    "\n",
    "A sequence $ \\{x_k \\} $ in some set $ X $ is an infinite ordered list of some elements of $ X $.\n",
    "\n",
    "Note that $ \\{x_k \\} $ can also be finite but those are necessarily convergent, so we're only interested in the infinite series.\n",
    "\n",
    "Given a set $ X $, there is a sequence $ X_k $ if $ k \\in \\mathbb{N} $, with a continuity between the index and the set. If the cardinality of the sequence is infinite, then this will be interesting for analysis.\n",
    "\n",
    "### Convergence (of a sequence)\n",
    "\n",
    "If a sequence converges then \n",
    "\n",
    "$ \\bar x \\in \\{ x_k \\} $ if for any $ \\epsilon > 0 $ then there is some $ K = K(\\epsilon) \\in N $:\n",
    "\n",
    "![convergence with k](Screenshot_2023-07-17_15-33-16.png)\n",
    "\n",
    "$ K(\\epsilon) $ returns an index of an element, which may or may not be the smallest, but will certainly be within Epsilon. We essentially just have to guess epsilon.\n",
    "\n"
   ]
  },
  {
   "cell_type": "code",
   "execution_count": null,
   "id": "3cfec174",
   "metadata": {},
   "outputs": [],
   "source": []
  }
 ],
 "metadata": {
  "kernelspec": {
   "display_name": "Octave",
   "language": "octave",
   "name": "octave"
  },
  "language_info": {
   "file_extension": ".m",
   "help_links": [
    {
     "text": "GNU Octave",
     "url": "https://www.gnu.org/software/octave/support.html"
    },
    {
     "text": "Octave Kernel",
     "url": "https://github.com/Calysto/octave_kernel"
    },
    {
     "text": "MetaKernel Magics",
     "url": "https://metakernel.readthedocs.io/en/latest/source/README.html"
    }
   ],
   "mimetype": "text/x-octave",
   "name": "octave",
   "version": "6.4.0"
  }
 },
 "nbformat": 4,
 "nbformat_minor": 5
}
