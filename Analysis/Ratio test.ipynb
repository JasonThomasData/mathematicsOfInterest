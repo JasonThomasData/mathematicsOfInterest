{
 "cells": [
  {
   "cell_type": "markdown",
   "id": "6ae7717d",
   "metadata": {},
   "source": [
    "### Ratio test\n",
    "\n",
    "I think the proof for this is based on comparing known series.\n",
    "\n",
    "You can use this to \n",
    "\n",
    "Given some infinite series:\n",
    "\n",
    "$ S = \\sum \\limits_{n=1}^\\infty a_n $\n",
    "\n",
    "We focus on the last and second last terms:\n",
    "\n",
    "$ \\lim \\limits_{n \\to \\infty} \\left( \\frac{a_{n+1}}{a_n} \\right) = L $\n",
    "\n",
    "$ \\begin{matrix} 0 < L < 1 & \\implies & S \\text{ converges} \\\\ 1 < L < \\infty & \\implies & S \\text{ diverges} \\\\ L = 1 & \\implies & \\text{test inconclusive} \\end{matrix} $"
   ]
  },
  {
   "cell_type": "markdown",
   "id": "d2ff72ab",
   "metadata": {},
   "source": [
    "#### Example\n",
    "\n",
    "$ S = \\sum \\limits_{n=1}^\\infty \\frac{n^2}{3^{2n-1}} $\n",
    "\n",
    "$ a_n = \\frac{n^2}{3^{2n-1}} $\n",
    "\n",
    "$ a_{n+1} = \\frac{(n+1)^2}{3^{2(n+1)-1}} $\n",
    "\n",
    "$ \\frac{a_{n+1}}{a_n} = \\frac{(n+1)^2}{3^{2n+1}} / \\frac{n^2}{3^{2n-1}} $\n",
    "\n",
    "$ \\frac{a_{n+1}}{a_n} = \\frac{(n+1)^2}{3^{2n+1}} \\frac{3^{2n-1}}{n^2} $\n",
    "\n",
    "$ \\frac{a_{n+1}}{a_n} = \\frac{(n+1)^2}{n^2} \\frac{3^{2n-1}}{3^{2n+1}} $\n",
    "\n",
    "$ \\frac{a_{n+1}}{a_n} = \\left(\\frac{n+1}{n}\\right)^2 3^{-2} $\n",
    "\n",
    "$ \\frac{a_{n+1}}{a_n} = \\left(1+\\frac{1}{n}\\right)^2 \\frac{1}{3^{2}} $\n",
    "\n",
    "$ \\lim \\limits_{n \\to \\infty} \\frac{1}{n} = 0 $\n",
    "\n",
    "$ \\frac{a_{n+1}}{a_n} = \\left(1\\right)^2 \\frac{1}{3^{2}} $\n",
    "\n",
    "$ \\frac{a_{n+1}}{a_n} = \\frac{1}{9} $\n",
    "\n",
    "Since the ratio is less than 1, then we can deduce this series is convergent."
   ]
  },
  {
   "cell_type": "code",
   "execution_count": null,
   "id": "07ca18f2",
   "metadata": {},
   "outputs": [],
   "source": []
  }
 ],
 "metadata": {
  "kernelspec": {
   "display_name": "Octave",
   "language": "octave",
   "name": "octave"
  },
  "language_info": {
   "file_extension": ".m",
   "help_links": [
    {
     "text": "GNU Octave",
     "url": "https://www.gnu.org/software/octave/support.html"
    },
    {
     "text": "Octave Kernel",
     "url": "https://github.com/Calysto/octave_kernel"
    },
    {
     "text": "MetaKernel Magics",
     "url": "https://metakernel.readthedocs.io/en/latest/source/README.html"
    }
   ],
   "mimetype": "text/x-octave",
   "name": "octave",
   "version": "5.2.0"
  }
 },
 "nbformat": 4,
 "nbformat_minor": 5
}
