{
 "cells": [
  {
   "cell_type": "markdown",
   "id": "46a2a293",
   "metadata": {},
   "source": [
    "### Convergence and absolute convergence\n",
    "\n",
    "When a sequence converges, then a sequence: $ \\{ x_k \\} $ will be a finite number as $ k \\to \\infty $. Imagine the last element in this infinite sequence: is it finite? If so, then this sequence converges.\n",
    "\n",
    "When a sequence converges absolutely, then a sequence $ \\{ x_k \\} = x_1 + x_2 + x_3 + ... + x_k $ is finite.\n",
    "\n",
    "Examples of absolute convergence is a Taylor Expansion.\n"
   ]
  },
  {
   "cell_type": "code",
   "execution_count": null,
   "id": "0562002f",
   "metadata": {},
   "outputs": [],
   "source": []
  }
 ],
 "metadata": {
  "kernelspec": {
   "display_name": "Octave",
   "language": "octave",
   "name": "octave"
  },
  "language_info": {
   "file_extension": ".m",
   "help_links": [
    {
     "text": "GNU Octave",
     "url": "https://www.gnu.org/software/octave/support.html"
    },
    {
     "text": "Octave Kernel",
     "url": "https://github.com/Calysto/octave_kernel"
    },
    {
     "text": "MetaKernel Magics",
     "url": "https://metakernel.readthedocs.io/en/latest/source/README.html"
    }
   ],
   "mimetype": "text/x-octave",
   "name": "octave",
   "version": "6.4.0"
  }
 },
 "nbformat": 4,
 "nbformat_minor": 5
}
