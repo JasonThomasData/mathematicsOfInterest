{
 "cells": [
  {
   "cell_type": "code",
   "execution_count": 21,
   "id": "e10fdcc1",
   "metadata": {},
   "outputs": [
    {
     "name": "stdout",
     "output_type": "stream",
     "text": [
      "seqb =\n",
      "\n",
      " Columns 1 through 7:\n",
      "\n",
      "   0.166667   0.166667   0.131579   0.106061   0.088235   0.075342   0.065657\n",
      "\n",
      " Columns 8 through 14:\n",
      "\n",
      "   0.058140   0.052147   0.047264   0.043210   0.039792   0.036873   0.034351\n",
      "\n",
      " Column 15:\n",
      "\n",
      "   0.032151\n",
      "\n",
      "seqc =\n",
      "\n",
      " Columns 1 through 7:\n",
      "\n",
      "   1.000000   0.500000   0.333333   0.250000   0.200000   0.166667   0.142857\n",
      "\n",
      " Columns 8 through 14:\n",
      "\n",
      "   0.125000   0.111111   0.100000   0.090909   0.083333   0.076923   0.071429\n",
      "\n",
      " Column 15:\n",
      "\n",
      "   0.066667\n",
      "\n",
      "ans =\n",
      "\n",
      "  1  1  1  1  1  1  1  1  1  1  1  1  1  1  1\n",
      "\n"
     ]
    },
    {
     "data": {
      "image/png": "[encoded data removed]",
      "text/plain": [
       "<IPython.core.display.Image object>"
      ]
     },
     "metadata": {},
     "output_type": "display_data"
    }
   ],
   "source": [
    "### Scratchy\n",
    "\n",
    "k = 1:15;\n",
    "\n",
    "seqa = (2.*(k.^2 .+ k) .- (2.*k.^2 .+ 1))./(4.*k.^2 .+ 2);\n",
    "\n",
    "seqb = (2.*k .- 1)./(4.*k.^2 .+ 2)\n",
    "\n",
    "seqc = 1./k\n",
    "\n",
    "seqa == seqb\n",
    "\n",
    "plot(k, seqb, \"b-\")\n",
    "hold on;\n",
    "plot(k, seqc, \"g-\")\n"
   ]
  },
  {
   "cell_type": "code",
   "execution_count": 24,
   "id": "664d3e1d",
   "metadata": {},
   "outputs": [
    {
     "name": "stdout",
     "output_type": "stream",
     "text": [
      "k = 5\n",
      "ans = 3.7500\n"
     ]
    }
   ],
   "source": [
    "k = 5\n",
    "\n",
    "factorial(k)/(2^k)"
   ]
  },
  {
   "cell_type": "code",
   "execution_count": 25,
   "id": "c89eb066",
   "metadata": {},
   "outputs": [
    {
     "name": "stdout",
     "output_type": "stream",
     "text": [
      "ans = 3.7500\r\n"
     ]
    }
   ],
   "source": [
    "(k/2) * (k-1)/2 * (k-2)/2 * (k-3)/2 * (k-4)/2"
   ]
  },
  {
   "cell_type": "code",
   "execution_count": 33,
   "id": "8a41e652",
   "metadata": {},
   "outputs": [
    {
     "name": "stdout",
     "output_type": "stream",
     "text": [
      "ans = 3.7500\r\n"
     ]
    }
   ],
   "source": [
    "k/2 * (k/2 - 1/2) * (k/2 - 1) * (k/2 - 3/2) * (k/2 - 2)"
   ]
  },
  {
   "cell_type": "code",
   "execution_count": 35,
   "id": "9974fef1",
   "metadata": {},
   "outputs": [
    {
     "name": "stdout",
     "output_type": "stream",
     "text": [
      "ans = 3.7500\r\n"
     ]
    }
   ],
   "source": [
    "(1/2)*(k - 0) * (1/2)*(k - 1) * (1/2)*(k - 2) * (1/2)*(k - 3) * (1/2)*(k - 4)"
   ]
  },
  {
   "cell_type": "code",
   "execution_count": 36,
   "id": "7aed51d9",
   "metadata": {},
   "outputs": [
    {
     "name": "stdout",
     "output_type": "stream",
     "text": [
      "ans = 3.7500\r\n"
     ]
    }
   ],
   "source": [
    "(1/2)^k * (k-0)*(k-1)*(k-2)*(k-3)*(k-4)"
   ]
  },
  {
   "cell_type": "code",
   "execution_count": 49,
   "id": "ad254a39",
   "metadata": {},
   "outputs": [
    {
     "name": "stdout",
     "output_type": "stream",
     "text": [
      "k = 8\n",
      "ans = 157.50\n",
      "ans = 256\n"
     ]
    }
   ],
   "source": [
    "k=8\n",
    "\n",
    "factorial(k)/2^k\n",
    "\n",
    "2^k \n"
   ]
  },
  {
   "cell_type": "code",
   "execution_count": 65,
   "id": "5842fe7b",
   "metadata": {},
   "outputs": [
    {
     "name": "stdout",
     "output_type": "stream",
     "text": [
      "n = 6\n",
      "ans = 27\n",
      "ans = 27\n",
      "ans = 27\n",
      "ans = 35\n"
     ]
    }
   ],
   "source": [
    "n = 6\n",
    "i = [1,2,3,4,5];\n",
    "\n",
    "sum((n-i).*(n/2 - abs(n/2 - i)))\n",
    "sum((n-i).*n/2 - (n-i).*abs(n/2 - i))\n",
    "\n",
    "sum((n-i).*n/2 - abs((n-i).*n/2 - (n-i).*i))\n",
    "\n",
    "sum(abs((n-i).*i))\n"
   ]
  },
  {
   "cell_type": "code",
   "execution_count": 55,
   "id": "b803726a",
   "metadata": {},
   "outputs": [
    {
     "name": "stdout",
     "output_type": "stream",
     "text": [
      "ans = 27\r\n"
     ]
    }
   ],
   "source": [
    "1+4+9+8+5\n"
   ]
  },
  {
   "cell_type": "code",
   "execution_count": null,
   "id": "dad6107a",
   "metadata": {},
   "outputs": [],
   "source": []
  }
 ],
 "metadata": {
  "kernelspec": {
   "display_name": "Octave",
   "language": "octave",
   "name": "octave"
  },
  "language_info": {
   "file_extension": ".m",
   "help_links": [
    {
     "text": "GNU Octave",
     "url": "https://www.gnu.org/software/octave/support.html"
    },
    {
     "text": "Octave Kernel",
     "url": "https://github.com/Calysto/octave_kernel"
    },
    {
     "text": "MetaKernel Magics",
     "url": "https://metakernel.readthedocs.io/en/latest/source/README.html"
    }
   ],
   "mimetype": "text/x-octave",
   "name": "octave",
   "version": "6.4.0"
  }
 },
 "nbformat": 4,
 "nbformat_minor": 5
}
