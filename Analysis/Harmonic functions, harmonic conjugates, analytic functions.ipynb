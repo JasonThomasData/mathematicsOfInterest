{
 "cells": [
  {
   "cell_type": "markdown",
   "id": "9dac6037",
   "metadata": {},
   "source": [
    "### Harmonic functions, harmonic conjugates, Analytic functions\n",
    "\n",
    "#### Analytic functions\n",
    "\n",
    "Are constantly differentiable. If you can find a first order derivative then you can find all the orders of derivatives. Obvious examples are $ e^x, \\cos, \\sin $ etc.\n",
    "\n",
    "### Harmonic functions\n",
    "\n",
    "Say you have some function of two variables.\n",
    "\n",
    "If you can write down their second non-mixed partials and equate them to zero:\n",
    "\n",
    "$ \\frac{\\partial^2 u}{\\partial x^2} + \\frac{\\partial^2 u}{\\partial y^2} = 0 $\n",
    "\n",
    "Then this is a harmonic function.\n",
    "\n",
    "A useful result is that this must be one part of an analytic function.\n",
    "\n",
    "We can find the other part (the harmonic conjugate) to find the other part of the analytic function and that will complete the analytic function.\n",
    "\n",
    "#### The Cauchy-Reimann equations\n",
    "\n",
    "When dealing with complex differentiable functions, remember:\n",
    "\n",
    "$ f(x, y) = (u + iv) $\n",
    "\n",
    "$ \\frac{\\partial u}{\\partial x} = \\frac{\\partial v}{\\partial y} $\n",
    "\n",
    "$ \\frac{\\partial u}{\\partial y} = -\\frac{\\partial v}{\\partial x} $\n",
    "\n",
    "#### Example\n",
    "\n",
    "$ u(x, y) = 3x^2y - y^3 - 8xy $ \n",
    "\n",
    "$ \\frac{\\partial u}{\\partial x} = 6xy - 8y $\n",
    "\n",
    "$ \\frac{\\partial u}{\\partial y} = 3x^2 - 3y^2 - 8x $\n",
    "\n",
    "$ \\frac{\\partial^2 u}{\\partial x^2} = 6y $\n",
    "\n",
    "$ \\frac{\\partial^2 u}{\\partial y^2} = - 6y $\n",
    "\n",
    "$ \\frac{\\partial^2 u}{\\partial x^2} + \\frac{\\partial^2 u}{\\partial y^2} = 6y - 6y = 0 $\n",
    "\n",
    "Then $ u $ is a harmonic function, and is one part of an analytic function. \n",
    "\n",
    "Then we need to find $ v $ to find the complete analytic function $ u + iv $\n",
    "\n",
    "We can utilise\n",
    "\n",
    "$ \\frac{\\partial u}{\\partial x} = \\frac{\\partial v}{\\partial y} $\n",
    "\n",
    "Since we already know  $ \\frac{\\partial u}{\\partial x} $\n",
    "\n",
    "$ \\frac{\\partial v}{\\partial y} = 6xy - 8y $\n",
    "\n",
    "We integrate that:\n",
    "\n",
    "$ v = 3xy^2 - 4y^2 + c(x) $\n",
    "\n",
    "And we should note that $ c(x) $ might be a constant or might be a function of $ x $. We find $ \\frac{\\partial v}{\\partial x} $ based on the integral above:\n",
    "\n",
    "$ \\frac{\\partial v}{\\partial x} = 3y^2 + c'(x) $ \n",
    "\n",
    "But also we can find $ \\frac{\\partial v}{\\partial x} $ using the Cauchy Reimann equations, since we found $ \\frac{\\partial u}{\\partial y} $ much earlier.\n",
    "\n",
    "$ \\frac{\\partial v}{\\partial x} = -\\frac{\\partial u}{\\partial y} $\n",
    "\n",
    "$ \\frac{\\partial v}{\\partial x} = -(3x^2 - 3y^2 - 8x) = -3x^2 + 3y^2 + 8x $\n",
    "\n",
    "So then we equate the two $ \\frac{\\partial v}{\\partial x} $:\n",
    "\n",
    "$ 3y^2 + c'(x) = -3x^2 + 3y^2 + 8x $\n",
    "\n",
    "$ c'(x) = -3x^2 + 8x $\n",
    "\n",
    "Then we can integrate this to find the actual constant.\n",
    "\n",
    "$ c(x) = -x^3 + 4x^2 + c $\n",
    "\n",
    "Then the final form of $ v $, which is the Harmonic Conjugate, is:\n",
    "\n",
    "$ v = 3xy^2 - 4y^2 - x^3 + 4x^2 + c $\n",
    "\n",
    "And the analytic function is:\n",
    "\n",
    "$ f(x, y) = 3x^2y - y^3 - 8xy + i(3xy^2 - 4y^2 - x^3 + 4x^2 + c) $\n",
    "\n"
   ]
  },
  {
   "cell_type": "code",
   "execution_count": null,
   "id": "5782e915",
   "metadata": {},
   "outputs": [],
   "source": [
    "WRITE DOWN THE EXAMPLE f(x,y) not differentiable despite the partials existing."
   ]
  },
  {
   "cell_type": "code",
   "execution_count": null,
   "id": "e9567f0e",
   "metadata": {},
   "outputs": [],
   "source": []
  }
 ],
 "metadata": {
  "kernelspec": {
   "display_name": "Octave",
   "language": "octave",
   "name": "octave"
  },
  "language_info": {
   "file_extension": ".m",
   "help_links": [
    {
     "text": "GNU Octave",
     "url": "https://www.gnu.org/software/octave/support.html"
    },
    {
     "text": "Octave Kernel",
     "url": "https://github.com/Calysto/octave_kernel"
    },
    {
     "text": "MetaKernel Magics",
     "url": "https://metakernel.readthedocs.io/en/latest/source/README.html"
    }
   ],
   "mimetype": "text/x-octave",
   "name": "octave",
   "version": "6.4.0"
  }
 },
 "nbformat": 4,
 "nbformat_minor": 5
}
