{
 "cells": [
  {
   "cell_type": "markdown",
   "id": "7a45ce0e",
   "metadata": {},
   "source": [
    "### Convergence and divergence in metric spaces\n",
    "\n",
    "Consider the familar notion of convergence involving a sequence.\n",
    "\n",
    "$ \\exists \\bar x, \\forall \\epsilon > 0, \\exists K(\\epsilon) \\in \\mathbb{N}, \\forall k \\ge K(\\epsilon) : | x_k - \\bar x | < \\epsilon $\n",
    "\n",
    "But if we have a metric space $ (X, \\rho) $\n",
    "\n",
    "Then this will also work\n",
    "\n",
    "$ \\exists \\bar x, \\forall \\epsilon > 0, \\exists K(\\epsilon) \\in \\mathbb{N}, \\forall k \\ge K(\\epsilon) : \\rho(x_k,\\bar x) < \\epsilon $\n",
    "\n",
    "And so, with this more abstract notion of distance (or whichever metric a metric space has), you can the use the same method as just a sequence to find a metric's limit.\n",
    "\n",
    "#### Divergence in metric spaces\n",
    "\n",
    "This is the same as the statement for convergence, but negated:\n",
    "\n",
    "$ \\forall \\bar x, \\exists \\epsilon > 0, \\forall K(\\epsilon) \\in \\mathbb{N}, \\exists k \\ge K(\\epsilon) : \\rho(x_k,\\bar x) \\ge \\epsilon $\n",
    "\n",
    "To get the above, just take the negation like normal: all of the $ \\forall $ become $ \\exists $, all of the $ \\exists $ become $ \\forall $. And the term that comes after \"such that\" has its equalities negated, and inequalities reversed.\n",
    "\n",
    "#### Example of divergence\n",
    "\n",
    "![diverges to infinty](Screenshot_2023-08-17_21-07-21.png)\n",
    "\n",
    "#### Divergence because lack of convergence\n",
    "\n",
    "_Hint for choosing $\\epsilon$: if the sequence diverges because it doesn't converge to a finite value, eg if the sequence $ \\{x_k \\} $ bounces between two finite values, then if you choose $ \\epsilon \\le \\frac{x_1 + x_2}{2} $ then there is no way that $ \\pm \\epsilon $ could ever reach both points._\n",
    "\n",
    "![divergence](Screenshot_2023-07-23_20-47-11.png)\n",
    "\n",
    "So, put the limit anywhere, and choose a small epsilon, then there just is never a moment where all points fall within $ \\pm \\epsilon $\n",
    "\n",
    "$ x_k - \\bar x $\n"
   ]
  },
  {
   "cell_type": "code",
   "execution_count": null,
   "id": "c096f40c",
   "metadata": {},
   "outputs": [],
   "source": []
  }
 ],
 "metadata": {
  "kernelspec": {
   "display_name": "Octave",
   "language": "octave",
   "name": "octave"
  },
  "language_info": {
   "file_extension": ".m",
   "help_links": [
    {
     "text": "GNU Octave",
     "url": "https://www.gnu.org/software/octave/support.html"
    },
    {
     "text": "Octave Kernel",
     "url": "https://github.com/Calysto/octave_kernel"
    },
    {
     "text": "MetaKernel Magics",
     "url": "https://metakernel.readthedocs.io/en/latest/source/README.html"
    }
   ],
   "mimetype": "text/x-octave",
   "name": "octave",
   "version": "6.4.0"
  }
 },
 "nbformat": 4,
 "nbformat_minor": 5
}
