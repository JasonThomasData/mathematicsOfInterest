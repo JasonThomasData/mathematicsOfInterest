{
 "cells": [
  {
   "cell_type": "markdown",
   "id": "dc024434",
   "metadata": {},
   "source": [
    "### Guess the limit, set a bound, by remembering a ratio's pattern\n",
    "\n",
    "This basically builds on the content in [this notebook](/notebooks/Analysis/basicProofConvergence_example.ipynb)\n",
    "\n",
    "---\n",
    "\n",
    "$ \\{x_k\\} = \\frac{2^k}{k!} $\n",
    "\n",
    "Then let's see what happens as $ k $ varies:\n",
    "\n",
    "$ x_1 = \\frac{2^1}{1!} = 2 $\n",
    "\n",
    "$ x_2 = \\frac{2^2}{2!} = 2 $\n",
    "\n",
    "$ x_3 = \\frac{2^3}{3!} = \\frac{8}{6} = \\frac{4}{3} $\n",
    "\n",
    "$ x_4 = \\frac{2^4}{4!} = \\frac{16}{24} = \\frac{2}{3}$\n",
    "\n",
    "Then this appears to get smaller, and it's already less than $ 1 $, so let's suppose it converges to $ 0 $.\n",
    "\n",
    "So:\n",
    "\n",
    "We can use a trick to have a look at what the ratio means\n",
    "\n",
    "$ \\frac{2^k}{k!} = \\frac{2 \\cdot 2 \\cdot 2 ... 2}{1 \\cdot 2 \\cdot 3 ... k} $ \n",
    "\n",
    "$ \\frac{2^k}{k!} = \\frac{2}{1} \\cdot \\frac{2}{2} \\cdot \\frac{2}{3} \\cdot \\frac{2}{4} ... \\frac{2}{k} $\n",
    "\n",
    "$ \\frac{2^k}{k!} = 2 \\cdot 1 \\cdot \\frac{2}{3} \\cdot \\frac{2}{4} ... \\frac{2}{k} $\n",
    "\n",
    "So, let's set a bound on all of the terms above that come after 1, since they're smaller than 1. Let's just say they're 1. But we also need a result that includes $ k $, so let's do:\n",
    "\n",
    "$ \\frac{2^k}{k!} = 2 \\cdot 1 \\cdot 1 \\cdot 1 ... \\frac{2}{k} $\n",
    "\n",
    "$ \\frac{2^k}{k!} = \\frac{4}{k} $\n",
    "\n",
    "So the difference between the sequence and the limit, which is going to be $ 0 $, is:\n",
    "\n",
    "$ |x_k - 0 | = \\frac{4}{k} $\n",
    "\n",
    "$ |x_k | = \\frac{4}{k} $\n",
    "\n",
    "But, we must find $ K(\\epsilon) $ that returns the index of an element of $ \\{x_k\\} $, such that:\n",
    "\n",
    "$ | x_k - \\bar x | < \\epsilon $\n",
    "\n",
    "And this must be in the bound of $ \\frac{4}{k} $, so:\n",
    "\n",
    "$ \\frac{4}{k} < \\epsilon $\n",
    "\n",
    "By the process of rearranging the equation, as spelled out in the \"basic proof\" document:\n",
    "\n",
    "$ \\frac{k}{4} > \\epsilon^{-1} $\n",
    "\n",
    "$ k > 4\\epsilon^{-1} $\n",
    "\n",
    "$ K(\\epsilon) = ceil \\left(\\frac{4}{\\epsilon}\\right) $\n",
    "\n",
    "And for good measure:\n",
    "\n",
    "$ K(\\epsilon) = ceil \\left(\\frac{4}{\\epsilon}\\right) + 1$\n"
   ]
  },
  {
   "cell_type": "code",
   "execution_count": null,
   "id": "4bc2143c",
   "metadata": {},
   "outputs": [],
   "source": []
  }
 ],
 "metadata": {
  "kernelspec": {
   "display_name": "Octave",
   "language": "octave",
   "name": "octave"
  },
  "language_info": {
   "file_extension": ".m",
   "help_links": [
    {
     "text": "GNU Octave",
     "url": "https://www.gnu.org/software/octave/support.html"
    },
    {
     "text": "Octave Kernel",
     "url": "https://github.com/Calysto/octave_kernel"
    },
    {
     "text": "MetaKernel Magics",
     "url": "https://metakernel.readthedocs.io/en/latest/source/README.html"
    }
   ],
   "mimetype": "text/x-octave",
   "name": "octave",
   "version": "6.4.0"
  }
 },
 "nbformat": 4,
 "nbformat_minor": 5
}
