{
 "cells": [
  {
   "cell_type": "markdown",
   "id": "af1ac6d8",
   "metadata": {},
   "source": [
    "### Rolle's Theorem (and Fermat's Theorem)\n",
    "\n",
    "First I will state but not prove Fermat's Theorem.\n",
    "\n",
    "If a function $ f $ has a maximum at $ C \\in (a, b) $\n",
    "Then $ f'(C) = 0 $\n",
    "\n",
    "---\n",
    "\n",
    "Read the notebook on the Extreme Value Theorem before reading this one.\n",
    "\n",
    "#### Rolle's Theorem\n",
    "\n",
    "If:\n",
    "\n",
    "- $ f $ is a real-valued function\n",
    "- is continuous on a closed interval $ [a, b] $\n",
    "- is differentiable on the ope interval $ (a, b) $\n",
    "- $ a = b $\n",
    "\n",
    "Then:\n",
    "\n",
    "There exists some $ c \\in (a, b) $ such that $ f'(c) = 0 $\n",
    "\n",
    "In other words, there is some point where the function stops climbing, or falling, and turns the other direction.\n",
    "\n",
    "#### Proof\n",
    "\n",
    "Then because of the Extreme Value Theorem, since $ f $ is closed and bounded on $ [a, b] $ then we know that $ f $ has a maximum value $ M $. This is the supremum of the range of $ f $, as shown in the EVT. Similarly, the infimum $ m $ exists.\n",
    "\n",
    "If the $ M = m $ then the function is constant, then $ f(x) = 0 $ everywhere, but that is trivial.\n",
    "\n",
    "Assume $ M \\ne m $.\n",
    "\n",
    "If $ M = f(a) = f(b) $ then $ a < m < b $\n",
    "\n",
    "XOR\n",
    "\n",
    "If $ m = f(a) = f(b) $ then $ a < M < b $\n",
    "\n",
    "Then by Fermat's Theorem, since the function has a maximum then $ f'(M) = 0 $\n"
   ]
  },
  {
   "cell_type": "code",
   "execution_count": null,
   "id": "077d265a",
   "metadata": {},
   "outputs": [],
   "source": []
  }
 ],
 "metadata": {
  "kernelspec": {
   "display_name": "Octave",
   "language": "octave",
   "name": "octave"
  },
  "language_info": {
   "file_extension": ".m",
   "help_links": [
    {
     "text": "GNU Octave",
     "url": "https://www.gnu.org/software/octave/support.html"
    },
    {
     "text": "Octave Kernel",
     "url": "https://github.com/Calysto/octave_kernel"
    },
    {
     "text": "MetaKernel Magics",
     "url": "https://metakernel.readthedocs.io/en/latest/source/README.html"
    }
   ],
   "mimetype": "text/x-octave",
   "name": "octave",
   "version": "6.4.0"
  }
 },
 "nbformat": 4,
 "nbformat_minor": 5
}
