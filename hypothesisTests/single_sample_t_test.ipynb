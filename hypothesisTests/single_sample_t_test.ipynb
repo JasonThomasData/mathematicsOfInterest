{
 "cells": [
  {
   "cell_type": "code",
   "execution_count": 1,
   "id": "a76bdb0e",
   "metadata": {},
   "outputs": [],
   "source": [
    "# Single sample t test\n",
    "# This has a single small sample and one observation made about each element in the sample"
   ]
  },
  {
   "cell_type": "code",
   "execution_count": 2,
   "id": "3bf0aa90",
   "metadata": {},
   "outputs": [],
   "source": [
    "sample = c(1002,975,978,988,995,998,1001,979,968,1008)"
   ]
  },
  {
   "cell_type": "code",
   "execution_count": 3,
   "id": "6de9293e",
   "metadata": {},
   "outputs": [
    {
     "data": {
      "text/html": [
       "10"
      ],
      "text/latex": [
       "10"
      ],
      "text/markdown": [
       "10"
      ],
      "text/plain": [
       "[1] 10"
      ]
     },
     "metadata": {},
     "output_type": "display_data"
    }
   ],
   "source": [
    "n = length(sample)\n",
    "n"
   ]
  },
  {
   "cell_type": "code",
   "execution_count": 4,
   "id": "c526b728",
   "metadata": {},
   "outputs": [
    {
     "data": {
      "text/html": [
       "989.2"
      ],
      "text/latex": [
       "989.2"
      ],
      "text/markdown": [
       "989.2"
      ],
      "text/plain": [
       "[1] 989.2"
      ]
     },
     "metadata": {},
     "output_type": "display_data"
    }
   ],
   "source": [
    "sample_statistic = mean(sample)\n",
    "sample_statistic"
   ]
  },
  {
   "cell_type": "code",
   "execution_count": 6,
   "id": "a1f95e08",
   "metadata": {},
   "outputs": [],
   "source": [
    "# Population mean = mu\n",
    "#H_0 -> mu is equal to 1000\n",
    "#H_a -> mu is less than 1000\n",
    "#confidence 99%\n",
    "\n",
    "H_0_value = 1000\n",
    "\n",
    "alpha = .01 #A two tailed test uses alpha/2. A one tail test uses just alpha"
   ]
  },
  {
   "cell_type": "code",
   "execution_count": 7,
   "id": "9dc0f6da",
   "metadata": {},
   "outputs": [
    {
     "data": {
      "text/html": [
       "13.5384226883669"
      ],
      "text/latex": [
       "13.5384226883669"
      ],
      "text/markdown": [
       "13.5384226883669"
      ],
      "text/plain": [
       "[1] 13.53842"
      ]
     },
     "metadata": {},
     "output_type": "display_data"
    }
   ],
   "source": [
    "std = sd(sample) # this is the SD of differences, not the difference of SD\n",
    "std"
   ]
  },
  {
   "cell_type": "code",
   "execution_count": 8,
   "id": "b0c480e3",
   "metadata": {},
   "outputs": [
    {
     "data": {
      "text/html": [
       "4.28122516213395"
      ],
      "text/latex": [
       "4.28122516213395"
      ],
      "text/markdown": [
       "4.28122516213395"
      ],
      "text/plain": [
       "[1] 4.281225"
      ]
     },
     "metadata": {},
     "output_type": "display_data"
    }
   ],
   "source": [
    "error = std / sqrt(n)\n",
    "error"
   ]
  },
  {
   "cell_type": "code",
   "execution_count": 9,
   "id": "9cd24d3f",
   "metadata": {},
   "outputs": [],
   "source": [
    "dof = n - 1"
   ]
  },
  {
   "cell_type": "code",
   "execution_count": 10,
   "id": "8f8a047f",
   "metadata": {},
   "outputs": [
    {
     "data": {
      "text/html": [
       "<style>\n",
       ".list-inline {list-style: none; margin:0; padding: 0}\n",
       ".list-inline>li {display: inline-block}\n",
       ".list-inline>li:not(:last-child)::after {content: \"\\00b7\"; padding: 0 .5ex}\n",
       "</style>\n",
       "<ol class=list-inline><li>-2.82143792502581</li><li>2.82143792502581</li></ol>\n"
      ],
      "text/latex": [
       "\\begin{enumerate*}\n",
       "\\item -2.82143792502581\n",
       "\\item 2.82143792502581\n",
       "\\end{enumerate*}\n"
      ],
      "text/markdown": [
       "1. -2.82143792502581\n",
       "2. 2.82143792502581\n",
       "\n",
       "\n"
      ],
      "text/plain": [
       "[1] -2.821438  2.821438"
      ]
     },
     "metadata": {},
     "output_type": "display_data"
    }
   ],
   "source": [
    "critical_value = qt(1-alpha, dof)\n",
    "region_of_rejection = c(-critical_value, critical_value)\n",
    "region_of_rejection"
   ]
  },
  {
   "cell_type": "code",
   "execution_count": 11,
   "id": "821a0c60",
   "metadata": {},
   "outputs": [
    {
     "data": {
      "text/html": [
       "-2.5226423724504"
      ],
      "text/latex": [
       "-2.5226423724504"
      ],
      "text/markdown": [
       "-2.5226423724504"
      ],
      "text/plain": [
       "[1] -2.522642"
      ]
     },
     "metadata": {},
     "output_type": "display_data"
    }
   ],
   "source": [
    "test_statistic = (sample_statistic - H_0_value)/error # (sample stat - H_0 value) / error\n",
    "test_statistic"
   ]
  },
  {
   "cell_type": "code",
   "execution_count": 11,
   "id": "ae2909ef",
   "metadata": {},
   "outputs": [],
   "source": [
    "# Since the test_statistic is within the ROR, we can not reject the null hypothesis"
   ]
  }
 ],
 "metadata": {
  "kernelspec": {
   "display_name": "R",
   "language": "R",
   "name": "ir"
  },
  "language_info": {
   "codemirror_mode": "r",
   "file_extension": ".r",
   "mimetype": "text/x-r-source",
   "name": "R",
   "pygments_lexer": "r",
   "version": "3.6.3"
  }
 },
 "nbformat": 4,
 "nbformat_minor": 5
}
