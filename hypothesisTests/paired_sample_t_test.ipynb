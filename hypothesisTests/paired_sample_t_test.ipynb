{
 "cells": [
  {
   "cell_type": "code",
   "execution_count": 1,
   "id": "a76bdb0e",
   "metadata": {},
   "outputs": [],
   "source": [
    "# Paired sample t test\n",
    "# It's the same sample but we have two observations and we want to check if there's a significant difference"
   ]
  },
  {
   "cell_type": "code",
   "execution_count": 2,
   "id": "3bf0aa90",
   "metadata": {},
   "outputs": [],
   "source": [
    "# Two observations made of the same sample, some are exposed to some event\n",
    "observation_1 = c(32,45,27,25,34,51,53,56) # exposed\n",
    "observation_2 = c(30,40,25,23,29,48,52,48) # not exposed\n",
    "\n",
    "# This takes the difference between the two observations and then treats it as a single test statistic"
   ]
  },
  {
   "cell_type": "code",
   "execution_count": 3,
   "id": "6de9293e",
   "metadata": {},
   "outputs": [
    {
     "data": {
      "text/html": [
       "8"
      ],
      "text/latex": [
       "8"
      ],
      "text/markdown": [
       "8"
      ],
      "text/plain": [
       "[1] 8"
      ]
     },
     "metadata": {},
     "output_type": "display_data"
    }
   ],
   "source": [
    "if (length(observation_1) != length(observation_2))\n",
    "    print(\"Mismatched sample sizes, not the same sample\")\n",
    "    n = NaN\n",
    "n = length(observation_1)\n",
    "n"
   ]
  },
  {
   "cell_type": "code",
   "execution_count": 4,
   "id": "c526b728",
   "metadata": {},
   "outputs": [
    {
     "data": {
      "text/html": [
       "3.5"
      ],
      "text/latex": [
       "3.5"
      ],
      "text/markdown": [
       "3.5"
      ],
      "text/plain": [
       "[1] 3.5"
      ]
     },
     "metadata": {},
     "output_type": "display_data"
    }
   ],
   "source": [
    "sample_statistic = mean(observation_1) - mean(observation_2)\n",
    "sample_statistic"
   ]
  },
  {
   "cell_type": "code",
   "execution_count": 5,
   "id": "a1f95e08",
   "metadata": {},
   "outputs": [],
   "source": [
    "# Population mean = mu\n",
    "#H_0 -> there is no difference, mu_1 - mu_2 = 0\n",
    "#H_a -> there is a difference,  mu_1 - mu_2 > 0\n",
    "#confidence 99%\n",
    "\n",
    "H_0_value = 0\n",
    "\n",
    "alpha = .01 #A two tailed test uses alpha/2. This is a one tail test"
   ]
  },
  {
   "cell_type": "code",
   "execution_count": 6,
   "id": "9dc0f6da",
   "metadata": {},
   "outputs": [
    {
     "data": {
      "text/html": [
       "2.32992949004287"
      ],
      "text/latex": [
       "2.32992949004287"
      ],
      "text/markdown": [
       "2.32992949004287"
      ],
      "text/plain": [
       "[1] 2.329929"
      ]
     },
     "metadata": {},
     "output_type": "display_data"
    }
   ],
   "source": [
    "std = sd(observation_1 - observation_2) # this is the SD of differences, not the difference of SD\n",
    "std"
   ]
  },
  {
   "cell_type": "code",
   "execution_count": 7,
   "id": "b0c480e3",
   "metadata": {},
   "outputs": [
    {
     "data": {
      "text/html": [
       "0.823754471047914"
      ],
      "text/latex": [
       "0.823754471047914"
      ],
      "text/markdown": [
       "0.823754471047914"
      ],
      "text/plain": [
       "[1] 0.8237545"
      ]
     },
     "metadata": {},
     "output_type": "display_data"
    }
   ],
   "source": [
    "error = std / sqrt(n)\n",
    "error"
   ]
  },
  {
   "cell_type": "code",
   "execution_count": 8,
   "id": "9cd24d3f",
   "metadata": {},
   "outputs": [],
   "source": [
    "dof = n - 1"
   ]
  },
  {
   "cell_type": "code",
   "execution_count": 9,
   "id": "8f8a047f",
   "metadata": {},
   "outputs": [
    {
     "data": {
      "text/html": [
       "<style>\n",
       ".list-inline {list-style: none; margin:0; padding: 0}\n",
       ".list-inline>li {display: inline-block}\n",
       ".list-inline>li:not(:last-child)::after {content: \"\\00b7\"; padding: 0 .5ex}\n",
       "</style>\n",
       "<ol class=list-inline><li>-2.99795156686853</li><li>2.99795156686853</li></ol>\n"
      ],
      "text/latex": [
       "\\begin{enumerate*}\n",
       "\\item -2.99795156686853\n",
       "\\item 2.99795156686853\n",
       "\\end{enumerate*}\n"
      ],
      "text/markdown": [
       "1. -2.99795156686853\n",
       "2. 2.99795156686853\n",
       "\n",
       "\n"
      ],
      "text/plain": [
       "[1] -2.997952  2.997952"
      ]
     },
     "metadata": {},
     "output_type": "display_data"
    }
   ],
   "source": [
    "critical_value = qt(1-alpha, dof)\n",
    "region_of_rejection = c(-critical_value, critical_value)\n",
    "region_of_rejection"
   ]
  },
  {
   "cell_type": "code",
   "execution_count": 10,
   "id": "821a0c60",
   "metadata": {},
   "outputs": [
    {
     "data": {
      "text/html": [
       "4.24883885066819"
      ],
      "text/latex": [
       "4.24883885066819"
      ],
      "text/markdown": [
       "4.24883885066819"
      ],
      "text/plain": [
       "[1] 4.248839"
      ]
     },
     "metadata": {},
     "output_type": "display_data"
    }
   ],
   "source": [
    "test_statistic = (sample_statistic - H_0_value)/error # (sample stat - H_0 value) / error\n",
    "test_statistic"
   ]
  },
  {
   "cell_type": "code",
   "execution_count": 11,
   "id": "ae2909ef",
   "metadata": {},
   "outputs": [],
   "source": [
    "# Since the test_statistic is higher than the ROR, then we can reject the H_0"
   ]
  }
 ],
 "metadata": {
  "kernelspec": {
   "display_name": "R",
   "language": "R",
   "name": "ir"
  },
  "language_info": {
   "codemirror_mode": "r",
   "file_extension": ".r",
   "mimetype": "text/x-r-source",
   "name": "R",
   "pygments_lexer": "r",
   "version": "3.6.3"
  }
 },
 "nbformat": 4,
 "nbformat_minor": 5
}
