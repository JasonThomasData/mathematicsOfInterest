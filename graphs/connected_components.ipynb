{
 "cells": [
  {
   "cell_type": "code",
   "execution_count": 2,
   "id": "b912ef1b",
   "metadata": {},
   "outputs": [],
   "source": [
    "from graphviz import Digraph\n",
    "import numpy as np"
   ]
  },
  {
   "cell_type": "code",
   "execution_count": 1,
   "id": "eac083cd",
   "metadata": {},
   "outputs": [
    {
     "ename": "NameError",
     "evalue": "name 'Digraph' is not defined",
     "output_type": "error",
     "traceback": [
      "\u001b[0;31m---------------------------------------------------------------------------\u001b[0m",
      "\u001b[0;31mNameError\u001b[0m                                 Traceback (most recent call last)",
      "\u001b[0;32m/tmp/ipykernel_21063/151275133.py\u001b[0m in \u001b[0;36m<module>\u001b[0;34m\u001b[0m\n\u001b[1;32m      5\u001b[0m \"\"\"\n\u001b[1;32m      6\u001b[0m \u001b[0;34m\u001b[0m\u001b[0m\n\u001b[0;32m----> 7\u001b[0;31m \u001b[0mgraph\u001b[0m \u001b[0;34m=\u001b[0m \u001b[0mDigraph\u001b[0m\u001b[0;34m(\u001b[0m\u001b[0;34m'G'\u001b[0m\u001b[0;34m)\u001b[0m\u001b[0;34m\u001b[0m\u001b[0;34m\u001b[0m\u001b[0m\n\u001b[0m\u001b[1;32m      8\u001b[0m \u001b[0;34m\u001b[0m\u001b[0m\n\u001b[1;32m      9\u001b[0m \u001b[0;32mwith\u001b[0m \u001b[0mgraph\u001b[0m\u001b[0;34m.\u001b[0m\u001b[0msubgraph\u001b[0m\u001b[0;34m(\u001b[0m\u001b[0mname\u001b[0m\u001b[0;34m=\u001b[0m\u001b[0;34m'cluster_0'\u001b[0m\u001b[0;34m)\u001b[0m \u001b[0;32mas\u001b[0m \u001b[0mc\u001b[0m\u001b[0;34m:\u001b[0m\u001b[0;34m\u001b[0m\u001b[0;34m\u001b[0m\u001b[0m\n",
      "\u001b[0;31mNameError\u001b[0m: name 'Digraph' is not defined"
     ]
    }
   ],
   "source": [
    "\"\"\"\n",
    "Connected components are those which we can reach any vertex from any other vertex.\n",
    "Any vertex is connected to itself via a trivial path, but those aren't displayed here.\n",
    "Consider the following graph:\n",
    "\"\"\"\n",
    "\n",
    "graph = Digraph('G')\n",
    "\n",
    "with graph.subgraph(name='cluster_0') as c:\n",
    "    c.attr(style='filled', color='lightgrey')\n",
    "    c.edges([('2', '3'), ('3', '2')])\n",
    "\n",
    "with graph.subgraph(name='cluster_1') as c:\n",
    "    c.attr(style='filled', color='lightgrey')\n",
    "    c.edges([('1', '4'), ('4', '5'), ('5', '1')])\n",
    "    \n",
    "graph.edge(\"0\", \"2\")\n",
    "graph.edge(\"0\", \"3\")\n",
    "graph.edge(\"3\", \"1\")\n",
    "graph.edge(\"3\", \"4\")\n",
    "\n",
    "graph"
   ]
  },
  {
   "cell_type": "code",
   "execution_count": 2,
   "id": "27dc8b40",
   "metadata": {},
   "outputs": [
    {
     "data": {
      "text/plain": [
       "'\\nThen there are three connected components: {\"0\"},{\"2\",\"3\"},{\"1\",\"4\",\"5\"}\\nA single path from any of {\"1\",\"4\",\"5\"} to {\"0\"} would make this graph strongly connected\\n'"
      ]
     },
     "execution_count": 2,
     "metadata": {},
     "output_type": "execute_result"
    }
   ],
   "source": [
    "\"\"\"\n",
    "Then there are three connected components: {\"0\"},{\"2\",\"3\"},{\"1\",\"4\",\"5\"}\n",
    "A single path from any of {\"1\",\"4\",\"5\"} to {\"0\"} would make this graph strongly connected\n",
    "\"\"\""
   ]
  },
  {
   "cell_type": "code",
   "execution_count": null,
   "id": "333798a7",
   "metadata": {},
   "outputs": [],
   "source": []
  }
 ],
 "metadata": {
  "kernelspec": {
   "display_name": "Python 3 (ipykernel)",
   "language": "python",
   "name": "python3"
  },
  "language_info": {
   "codemirror_mode": {
    "name": "ipython",
    "version": 3
   },
   "file_extension": ".py",
   "mimetype": "text/x-python",
   "name": "python",
   "nbconvert_exporter": "python",
   "pygments_lexer": "ipython3",
   "version": "3.8.10"
  }
 },
 "nbformat": 4,
 "nbformat_minor": 5
}
