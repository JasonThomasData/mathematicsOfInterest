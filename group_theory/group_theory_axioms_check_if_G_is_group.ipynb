{
 "cells": [
  {
   "cell_type": "markdown",
   "id": "5ac28dc9",
   "metadata": {},
   "source": [
    "### Axioms for determining if G is a group"
   ]
  },
  {
   "cell_type": "markdown",
   "id": "6d591297",
   "metadata": {},
   "source": [
    "Given a group $ (G,*) $, how can we know if $ (G,*) $ is a group? There are four axioms that it must meet before it is a group."
   ]
  },
  {
   "cell_type": "markdown",
   "id": "7b4e62b4",
   "metadata": {},
   "source": [
    "#### 1\n",
    "\n",
    "$ G $ is a non-empty set.\n",
    "\n",
    "$ * $ is a closed binary operation. Closed means if $ g,h \\in G $ then $ g * h \\in G $, also.\n",
    "\n",
    "#### 2\n",
    "\n",
    "$ * $ is associative.\n",
    "\n",
    "For example, given $ (Z, +) $, then addition over the integers is associative: $ (1 + 2) + 3 = 1 + (2 + 3) = 6 $\n",
    "\n",
    "#### 3\n",
    "\n",
    "There is an identity element. \n",
    "\n",
    "Let\n",
    "\n",
    "$ g, e \\in G : g * e = e * g = g $\n",
    "\n",
    "Note: remember, $ * $ does not mean the typical notation for multiplication but the operation over the set within the group.\n",
    "\n",
    "For example, the group $ (Z, +) $ has an identity element of 0.\n",
    "\n",
    "#### 4\n",
    "\n",
    "Each element has an inverse.\n",
    "\n",
    "Let:\n",
    "\n",
    "$ g, i, e : g * i = i * g = e $\n",
    "\n",
    "For example in the group $ (Z, *) $:\n",
    "\n",
    "$ g = 1 $\n",
    "\n",
    "$ i = -1 $\n",
    "\n",
    "$ e = 0 $\n",
    "\n",
    "$ 1 + -1 = -1 + 1 = 0 $\n",
    "\n",
    "We can see here that while $ (Z, *) $ is a group, $ (Z^+, *) $ is not, because the inverse element for any positive number must be negative and that would fall in the negative integers and therefore is not closed.\n"
   ]
  }
 ],
 "metadata": {
  "kernelspec": {
   "display_name": "Octave",
   "language": "octave",
   "name": "octave"
  },
  "language_info": {
   "file_extension": ".m",
   "help_links": [
    {
     "text": "GNU Octave",
     "url": "https://www.gnu.org/software/octave/support.html"
    },
    {
     "text": "Octave Kernel",
     "url": "https://github.com/Calysto/octave_kernel"
    },
    {
     "text": "MetaKernel Magics",
     "url": "https://metakernel.readthedocs.io/en/latest/source/README.html"
    }
   ],
   "mimetype": "text/x-octave",
   "name": "octave",
   "version": "5.2.0"
  }
 },
 "nbformat": 4,
 "nbformat_minor": 5
}
