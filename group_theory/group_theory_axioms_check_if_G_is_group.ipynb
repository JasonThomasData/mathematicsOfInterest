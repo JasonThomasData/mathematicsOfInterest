{
 "cells": [
  {
   "cell_type": "markdown",
   "id": "5ac28dc9",
   "metadata": {},
   "source": [
    "### Axioms for determining if G is a group"
   ]
  },
  {
   "cell_type": "markdown",
   "id": "7b4e62b4",
   "metadata": {},
   "source": [
    "Given a group $ (G,*) $, how can we know if $ (G,*) $ is a group? There are four axioms that it must meet before it is a group.\n",
    "\n",
    "#### A set and a binary operation that is closed over the set\n",
    "\n",
    "$ G $ is a non-empty set.\n",
    "\n",
    "$ * $ is a closed binary operation. Closed means if $ g,h \\in G $ then $ g * h \\in G $, also.\n",
    "\n",
    "#### Associativity\n",
    "\n",
    "$ * $ is associative.\n",
    "\n",
    "For example, given $ (Z, +) $, then addition over the integers is associative: $ (1 + 2) + 3 = 1 + (2 + 3) = 6 $\n",
    "\n",
    "#### Identity element\n",
    "\n",
    "There is an identity element. \n",
    "\n",
    "Let\n",
    "\n",
    "$ g, e \\in G : g * e = e * g = g $\n",
    "\n",
    "Note: remember, $ * $ does not mean the typical notation for multiplication but the operation over the set within the group.\n",
    "\n",
    "For example, the group $ (Z, +) $ has an identity element of 0.\n",
    "\n",
    "#### Inverses\n",
    "\n",
    "Each element has an (one) inverse.\n",
    "\n",
    "Let:\n",
    "\n",
    "$ g, i, e : g * i = i * g = e $\n",
    "\n",
    "For example in the group $ (Z, *) $:\n",
    "\n",
    "$ g = 1 $\n",
    "\n",
    "$ i = -1 $\n",
    "\n",
    "$ e = 0 $\n",
    "\n",
    "$ 1 + -1 = -1 + 1 = 0 $\n",
    "\n",
    "We can see here that while $ (Z, *) $ is a group, $ (Z^+, *) $ is not, because the inverse element for any positive number must be negative and that would fall in the negative integers and therefore is not closed."
   ]
  },
  {
   "cell_type": "markdown",
   "id": "ff81dad2",
   "metadata": {},
   "source": [
    "### A non-group fails to meet the inverse theorem\n",
    "\n",
    "From *Abstract Algebra* by Dan Saracino, 2nd edition, question 2.1.\n",
    "\n",
    "\" Which of these is a group? Why? \"\n",
    "\n",
    "$ R - \\{0\\} $ under the operationary of $ a * b = |ab| $\n",
    "\n",
    "*Answer*:\n",
    "\n",
    "Let $ R^* = R - \\{0\\} $\n",
    "\n",
    "Is (R^*, *) a group?\n",
    "\n",
    "#### The binary operation is closed over the set\n",
    "\n",
    "$ R - \\{0\\} $ is a set and $ * $ is a closed binary operation over the set.\n",
    "\n",
    "#### Associativity\n",
    "\n",
    "Multiplication is associative, so the operation of $ (a*b)*c = a*(b*c) $ is associative\n",
    "\n",
    "#### Identity element\n",
    "\n",
    "$ \\forall e \\in R^*, \\exists i \\in R^* : ei = ie = e $\n",
    "\n",
    "Since the operation is multiplication, then the $ i = 1 $\n",
    "\n",
    "#### Inverses\n",
    "\n",
    "There can be only one inverse for each element.\n",
    "\n",
    "$ \\forall e \\in R^*, \\exists e' \\in R^* : ee' = e'e = i $\n",
    "\n",
    "For $ e = 1 $, then $ e' = 1 || -1 $\n",
    "\n",
    "Therefore, this does not meet the inverse axiom."
   ]
  },
  {
   "cell_type": "markdown",
   "id": "f733d010",
   "metadata": {},
   "source": [
    "### A non-group is not associative\n",
    "\n",
    "From *Abstract Algebra* by Dan Saracino, 2nd edition, question 2.1.\n",
    "\n",
    "\" Which of these is a group? Why? \"\n",
    "\n",
    "The set of all pairs $ (x,y) $ of real numbers, under the operation $ (x,y) * (z,w) = (x+z, y-w) $\n",
    "\n",
    "*Answer:*\n",
    "\n",
    "#### The binary operation is closed over the set of reals\n",
    "\n",
    "This should be clear\n",
    "\n",
    "#### Associativity\n",
    "\n",
    "$ ((x,y)*(z,w))*(u,v) = (x,y)*((z,w)*(u,v)) $ \n",
    "\n",
    "$ (x+z,y-w)*(u,v) = (x,y)*(z+u,w-v) $ \n",
    "\n",
    "$ ((x+z)+u,(y-w)-v) = (x+(z+u),y-(w-v)) $\n",
    "\n",
    "The first element of the ordered pairs is associative, but subtraction is not\n",
    "\n",
    "EG\n",
    "\n",
    "$ ((1,2)*(3,4))*(5,6) = (1,2)*((3,4)*(5,6)) $\n",
    "\n",
    "$ (4,-2)*(5,6) = (1,2)*(8,-2) $\n",
    "\n",
    "$ (9,-8) \\not= (9,4) $\n"
   ]
  }
 ],
 "metadata": {
  "kernelspec": {
   "display_name": "Octave",
   "language": "octave",
   "name": "octave"
  },
  "language_info": {
   "file_extension": ".m",
   "help_links": [
    {
     "text": "GNU Octave",
     "url": "https://www.gnu.org/software/octave/support.html"
    },
    {
     "text": "Octave Kernel",
     "url": "https://github.com/Calysto/octave_kernel"
    },
    {
     "text": "MetaKernel Magics",
     "url": "https://metakernel.readthedocs.io/en/latest/source/README.html"
    }
   ],
   "mimetype": "text/x-octave",
   "name": "octave",
   "version": "5.2.0"
  }
 },
 "nbformat": 4,
 "nbformat_minor": 5
}
