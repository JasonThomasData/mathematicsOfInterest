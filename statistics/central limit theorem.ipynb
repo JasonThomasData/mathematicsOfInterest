{
 "cells": [
  {
   "cell_type": "markdown",
   "id": "d0e8652b",
   "metadata": {},
   "source": [
    "### Central Limit Theorem\n",
    "\n",
    "Shows that if you take samples from a population, then the sample means (the average of each sample) when compiled will form a normal distribution.\n",
    "\n",
    "An important result is that if the population has a distribution other than the normal distribution, then the distribution of sample means will still be normally distributed provided that the sample sizes are large enough.\n",
    "\n",
    "THIS WOULD BE VERY WORTHWILE TO VISUALISE IT USING R OR PYTHON ETC, MAKE IT INTERACTIVE WITH JS/D3 USING SLIDERS ETC... TO GET THE INTUITION BURNED INTO YOUR SKULL\n",
    "\n",
    "If the sample size taken from any normal distribution is larger than $ 30 $ and "
   ]
  },
  {
   "cell_type": "code",
   "execution_count": null,
   "id": "67e4a173",
   "metadata": {},
   "outputs": [],
   "source": []
  }
 ],
 "metadata": {
  "kernelspec": {
   "display_name": "R",
   "language": "R",
   "name": "ir"
  },
  "language_info": {
   "codemirror_mode": "r",
   "file_extension": ".r",
   "mimetype": "text/x-r-source",
   "name": "R",
   "pygments_lexer": "r",
   "version": "4.1.2"
  }
 },
 "nbformat": 4,
 "nbformat_minor": 5
}
