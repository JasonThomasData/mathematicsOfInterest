{
 "cells": [
  {
   "cell_type": "markdown",
   "id": "173e67b6",
   "metadata": {},
   "source": [
    "### Wilcoxon Signed Rank test\n",
    "\n",
    "This is useful when you have a small sample and want to determine the difference in observations but you cannot assume the samples are normally distributed, which you must have for a t test.\n",
    "\n",
    "This can be used for an alternative to the paired t test.\n",
    "\n",
    "This is a non-parametic test."
   ]
  },
  {
   "cell_type": "code",
   "execution_count": 1,
   "id": "63606a56",
   "metadata": {},
   "outputs": [],
   "source": [
    "observation_1 = NA\n",
    "observation_2 = NA\n",
    "differences = c(-1.1, 2.8, -4.6, 2.4, 1.8, 2.9, 3.4, 2.3)"
   ]
  },
  {
   "cell_type": "markdown",
   "id": "38865db4",
   "metadata": {},
   "source": [
    "$ H_0 : difference = 0 $\n",
    "\n",
    "$ H_a : difference \\ne 0 $\n",
    "\n",
    "$ \\alpha = 0.05/2 $"
   ]
  },
  {
   "cell_type": "code",
   "execution_count": 2,
   "id": "355caf8c",
   "metadata": {},
   "outputs": [],
   "source": [
    "h_0_value = 0\n",
    "alpha = 0.05 # If this is a two tailed test, then /2"
   ]
  },
  {
   "cell_type": "markdown",
   "id": "8d7a6ddb",
   "metadata": {},
   "source": [
    "#### Finding the test statistic\n",
    "\n",
    "For all values:\n",
    "- record which values are negative values\n",
    "- sort them, and their signs, by their absolute values\n",
    "- rank the sorted values with ranks 1+\n",
    "- sum up the positive ranks (originally positive before abs(data) )"
   ]
  },
  {
   "cell_type": "code",
   "execution_count": 4,
   "id": "3b194b97",
   "metadata": {},
   "outputs": [
    {
     "name": "stderr",
     "output_type": "stream",
     "text": [
      "Warning message in 1:range(length(data)):\n",
      "“numerical expression has 2 elements: only the first used”\n",
      "Warning message in 1:range(length(sorted_values)):\n",
      "“numerical expression has 2 elements: only the first used”\n",
      "Warning message in 1:range(length(ranks)):\n",
      "“numerical expression has 2 elements: only the first used”\n"
     ]
    },
    {
     "data": {
      "text/html": [
       "27"
      ],
      "text/latex": [
       "27"
      ],
      "text/markdown": [
       "27"
      ],
      "text/plain": [
       "[1] 27"
      ]
     },
     "metadata": {},
     "output_type": "display_data"
    }
   ],
   "source": [
    "#Finding the test statistic\n",
    "\n",
    "get_signs = function(data) {\n",
    "    signs = c()\n",
    "    for (datum in data) {\n",
    "        if (datum < 0) {\n",
    "            signs = c(signs, -1)\n",
    "        } else {\n",
    "            signs = c(signs, 1)\n",
    "        }\n",
    "    }\n",
    "    (signs)\n",
    "}\n",
    "\n",
    "get_abs_values = function(data) {\n",
    "    abs_values = c()\n",
    "    for (datum in data) {\n",
    "        abs_values = c(abs_values, abs(datum))\n",
    "    }\n",
    "    (abs_values)\n",
    "}\n",
    "\n",
    "get_sorted_values = function(data, signs) {\n",
    "    sorted_data = integer(length(data))\n",
    "    sorted_signs = integer(length(signs))\n",
    "    indexes_to_order = order(data)\n",
    "    for (i in 1:range(length(data))) {\n",
    "        index_to_insert = indexes_to_order[i]\n",
    "        sorted_data[index_to_insert] = data[i]\n",
    "        sorted_signs[index_to_insert] = signs[i]\n",
    "    }\n",
    "    sorted_values = data.frame(values=sorted_data, signs=sorted_signs)\n",
    "    (sorted_values)\n",
    "}\n",
    "\n",
    "rank_data = function(sorted_values) {\n",
    "    ranks = c()\n",
    "    for (i in 1:range(length(sorted_values))) {\n",
    "        ranks = c(ranks, i)\n",
    "    }\n",
    "    (ranks)\n",
    "}\n",
    "\n",
    "total_positive_rank_values = function(ranks, signs) {\n",
    "    total = 0\n",
    "    for (i in 1:range(length(ranks))) {\n",
    "        if (signs[i] == 1) {\n",
    "            total = total + ranks[i]\n",
    "        }\n",
    "    }\n",
    "    (total)\n",
    "}\n",
    "\n",
    "signs = get_signs(differences)\n",
    "#signs\n",
    "abs_values = get_abs_values(differences)\n",
    "#abs_values\n",
    "sorted_values = get_sorted_values(abs_values, signs)\n",
    "#sorted_values\n",
    "ranks = rank_data(sorted_values$values)\n",
    "#ranks\n",
    "test_statistic = total_positive_rank_values(ranks, sorted_values$signs)\n",
    "test_statistic"
   ]
  },
  {
   "cell_type": "markdown",
   "id": "77f55596",
   "metadata": {},
   "source": [
    "### The critical value\n",
    "\n",
    "Look at the table for lower and upper critical values, using the length of differences and the alpha\n",
    "\n",
    "In this case, the critical values for a two tailed test with $ \\frac{\\alpha}{2} $ and $ n = 8 $ is $ [3, 33] $ \n",
    "\n",
    "Because the test statistic is not in the upper or lower tails, then we fail to reject $ h_0 $"
   ]
  },
  {
   "cell_type": "code",
   "execution_count": null,
   "id": "2ac8051d",
   "metadata": {},
   "outputs": [],
   "source": []
  }
 ],
 "metadata": {
  "kernelspec": {
   "display_name": "R",
   "language": "R",
   "name": "ir"
  },
  "language_info": {
   "codemirror_mode": "r",
   "file_extension": ".r",
   "mimetype": "text/x-r-source",
   "name": "R",
   "pygments_lexer": "r",
   "version": "3.6.3"
  }
 },
 "nbformat": 4,
 "nbformat_minor": 5
}
