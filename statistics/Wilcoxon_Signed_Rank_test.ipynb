{
 "cells": [
  {
   "cell_type": "markdown",
   "id": "173e67b6",
   "metadata": {},
   "source": [
    "### Wilcoxon Signed Rank test\n",
    "\n",
    "This is useful when you have a small sample and want to determine the difference in observations but you cannot assume the samples are normally distributed, which you must have for a t test.\n",
    "\n",
    "This can be used for an alternative to the paired t test or a single sample t test.\n",
    "\n",
    "This is a non-parametric test."
   ]
  },
  {
   "cell_type": "code",
   "execution_count": 4,
   "id": "3b194b97",
   "metadata": {},
   "outputs": [],
   "source": [
    "#Code to find the test statistic\n",
    "\n",
    "get_signs = function(data) {\n",
    "    signs = c()\n",
    "    for (datum in data) {\n",
    "        if (datum < 0) {\n",
    "            signs = c(signs, -1)\n",
    "        } else {\n",
    "            signs = c(signs, 1)\n",
    "        }\n",
    "    }\n",
    "    (signs)\n",
    "}\n",
    "\n",
    "get_abs_values = function(data) {\n",
    "    abs_values = c()\n",
    "    for (datum in data) {\n",
    "        abs_values = c(abs_values, abs(datum))\n",
    "    }\n",
    "    (abs_values)\n",
    "}\n",
    "\n",
    "get_sorted_values = function(data, signs) {\n",
    "    sorted_data = integer(length(data))\n",
    "    sorted_signs = integer(length(signs))\n",
    "    indexes_to_order = order(data)\n",
    "    for (i in 1:range(length(data))) {\n",
    "        index_to_insert = indexes_to_order[i]\n",
    "        sorted_data[index_to_insert] = data[i]\n",
    "        sorted_signs[index_to_insert] = signs[i]\n",
    "    }\n",
    "    sorted_values = data.frame(values=sorted_data, signs=sorted_signs)\n",
    "    (sorted_values)\n",
    "}\n",
    "\n",
    "rank_data = function(sorted_values) {\n",
    "    ranks = c()\n",
    "    for (i in 1:range(length(sorted_values))) {\n",
    "        ranks = c(ranks, i)\n",
    "    }\n",
    "    (ranks)\n",
    "}\n",
    "\n",
    "total_positive_rank_values = function(ranks, signs) {\n",
    "    total = 0\n",
    "    for (i in 1:range(length(ranks))) {\n",
    "        if (signs[i] == 1) {\n",
    "            total = total + ranks[i]\n",
    "        }\n",
    "    }\n",
    "    (total)\n",
    "}"
   ]
  },
  {
   "cell_type": "markdown",
   "id": "a3227226",
   "metadata": {},
   "source": [
    "### Single sample test"
   ]
  },
  {
   "cell_type": "code",
   "execution_count": 17,
   "id": "63606a56",
   "metadata": {},
   "outputs": [
    {
     "data": {
      "text/html": [
       "<style>\n",
       ".list-inline {list-style: none; margin:0; padding: 0}\n",
       ".list-inline>li {display: inline-block}\n",
       ".list-inline>li:not(:last-child)::after {content: \"\\00b7\"; padding: 0 .5ex}\n",
       "</style>\n",
       "<ol class=list-inline><li>745.5</li><li>1175</li><li>1290</li><li>1364.5</li><li>1397.5</li><li>1660</li></ol>\n"
      ],
      "text/latex": [
       "\\begin{enumerate*}\n",
       "\\item 745.5\n",
       "\\item 1175\n",
       "\\item 1290\n",
       "\\item 1364.5\n",
       "\\item 1397.5\n",
       "\\item 1660\n",
       "\\end{enumerate*}\n"
      ],
      "text/markdown": [
       "1. 745.5\n",
       "2. 1175\n",
       "3. 1290\n",
       "4. 1364.5\n",
       "5. 1397.5\n",
       "6. 1660\n",
       "\n",
       "\n"
      ],
      "text/plain": [
       "[1]  745.5 1175.0 1290.0 1364.5 1397.5 1660.0"
      ]
     },
     "metadata": {},
     "output_type": "display_data"
    },
    {
     "data": {
      "text/html": [
       "6"
      ],
      "text/latex": [
       "6"
      ],
      "text/markdown": [
       "6"
      ],
      "text/plain": [
       "[1] 6"
      ]
     },
     "metadata": {},
     "output_type": "display_data"
    }
   ],
   "source": [
    "# For a paired sample test, the data is the elementwise difference between the sets\n",
    "\n",
    "data = c(745.5,1175.0,1290.0,1364.5,1397.5,1660.0)\n",
    "data\n",
    "n = length(data)\n",
    "n"
   ]
  },
  {
   "cell_type": "markdown",
   "id": "ea6bdd8c",
   "metadata": {},
   "source": [
    "$ H_0 : \\mu = 1386 $\n",
    "\n",
    "$ H_a : \\mu \\ne 1386 $\n",
    "\n",
    "$ \\alpha = 0.05 $"
   ]
  },
  {
   "cell_type": "code",
   "execution_count": 18,
   "id": "aff8bbce",
   "metadata": {},
   "outputs": [],
   "source": [
    "h_0_value = 1386\n",
    "alpha = 0.05 # If this is a two tailed test, then apply /2"
   ]
  },
  {
   "cell_type": "markdown",
   "id": "b9cbb1e6",
   "metadata": {},
   "source": [
    "$ \\forall d \\in data: d = d - h_0 $"
   ]
  },
  {
   "cell_type": "code",
   "execution_count": 19,
   "id": "fd446232",
   "metadata": {},
   "outputs": [
    {
     "data": {
      "text/html": [
       "<style>\n",
       ".list-inline {list-style: none; margin:0; padding: 0}\n",
       ".list-inline>li {display: inline-block}\n",
       ".list-inline>li:not(:last-child)::after {content: \"\\00b7\"; padding: 0 .5ex}\n",
       "</style>\n",
       "<ol class=list-inline><li>-640.5</li><li>-211</li><li>-96</li><li>-21.5</li><li>11.5</li><li>274</li></ol>\n"
      ],
      "text/latex": [
       "\\begin{enumerate*}\n",
       "\\item -640.5\n",
       "\\item -211\n",
       "\\item -96\n",
       "\\item -21.5\n",
       "\\item 11.5\n",
       "\\item 274\n",
       "\\end{enumerate*}\n"
      ],
      "text/markdown": [
       "1. -640.5\n",
       "2. -211\n",
       "3. -96\n",
       "4. -21.5\n",
       "5. 11.5\n",
       "6. 274\n",
       "\n",
       "\n"
      ],
      "text/plain": [
       "[1] -640.5 -211.0  -96.0  -21.5   11.5  274.0"
      ]
     },
     "metadata": {},
     "output_type": "display_data"
    }
   ],
   "source": [
    "differnce_from_h_0 = data - h_0_value\n",
    "differnce_from_h_0"
   ]
  },
  {
   "cell_type": "markdown",
   "id": "8d7a6ddb",
   "metadata": {},
   "source": [
    "#### Finding the test statistic\n",
    "\n",
    "For all values:\n",
    "- record which values are negative values\n",
    "- sort them, and their signs, by their absolute values\n",
    "- rank the sorted values with ranks 1+\n",
    "- sum up the positive ranks (originally positive before abs(data) )"
   ]
  },
  {
   "cell_type": "code",
   "execution_count": 16,
   "id": "76564413",
   "metadata": {},
   "outputs": [
    {
     "name": "stderr",
     "output_type": "stream",
     "text": [
      "Warning message in 1:range(length(data)):\n",
      "“numerical expression has 2 elements: only the first used”\n",
      "Warning message in 1:range(length(sorted_values)):\n",
      "“numerical expression has 2 elements: only the first used”\n",
      "Warning message in 1:range(length(ranks)):\n",
      "“numerical expression has 2 elements: only the first used”\n"
     ]
    },
    {
     "data": {
      "text/html": [
       "7"
      ],
      "text/latex": [
       "7"
      ],
      "text/markdown": [
       "7"
      ],
      "text/plain": [
       "[1] 7"
      ]
     },
     "metadata": {},
     "output_type": "display_data"
    }
   ],
   "source": [
    "signs = get_signs(differnce_from_h_0)\n",
    "#signs\n",
    "abs_values = get_abs_values(differnce_from_h_0)\n",
    "#abs_values\n",
    "sorted_values = get_sorted_values(abs_values, signs)\n",
    "#sorted_values\n",
    "ranks = rank_data(sorted_values$values)\n",
    "#ranks\n",
    "test_statistic = total_positive_rank_values(ranks, sorted_values$signs)\n",
    "test_statistic"
   ]
  },
  {
   "cell_type": "markdown",
   "id": "242d0863",
   "metadata": {},
   "source": [
    "### The critical value\n",
    "\n",
    "Look at the table for lower and upper critical values, using the length of differences and the alpha\n",
    "\n",
    "In this case, the critical values for a two tailed test with $ \\frac{\\alpha}{2} $ and $ n = 6 $ is $ [0, 21] $ \n",
    "\n",
    "Because the test statistic is not in the region of rejection, then we can not reject $ h_0 $"
   ]
  }
 ],
 "metadata": {
  "kernelspec": {
   "display_name": "R",
   "language": "R",
   "name": "ir"
  },
  "language_info": {
   "codemirror_mode": "r",
   "file_extension": ".r",
   "mimetype": "text/x-r-source",
   "name": "R",
   "pygments_lexer": "r",
   "version": "3.6.3"
  }
 },
 "nbformat": 4,
 "nbformat_minor": 5
}
