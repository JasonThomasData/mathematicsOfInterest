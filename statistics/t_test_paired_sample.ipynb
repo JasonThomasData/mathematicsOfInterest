{
 "cells": [
  {
   "cell_type": "markdown",
   "id": "24fb2823",
   "metadata": {},
   "source": [
    "### Paired sample t test\n",
    "\n",
    "It's the same sample but we have two observations and we want to check if there's a significant difference"
   ]
  },
  {
   "cell_type": "markdown",
   "id": "88a212cc",
   "metadata": {},
   "source": [
    "$ obs_1 $\n",
    "\n",
    "$ obs_2 $"
   ]
  },
  {
   "cell_type": "code",
   "execution_count": 1,
   "id": "3bf0aa90",
   "metadata": {},
   "outputs": [],
   "source": [
    "observation_1 = c(32,45,27,25,34,51,53,56) # exposed\n",
    "observation_2 = c(30,40,25,23,29,48,52,48) # not exposed"
   ]
  },
  {
   "cell_type": "code",
   "execution_count": 2,
   "id": "6de9293e",
   "metadata": {},
   "outputs": [
    {
     "data": {
      "text/html": [
       "8"
      ],
      "text/latex": [
       "8"
      ],
      "text/markdown": [
       "8"
      ],
      "text/plain": [
       "[1] 8"
      ]
     },
     "metadata": {},
     "output_type": "display_data"
    }
   ],
   "source": [
    "if (length(observation_1) != length(observation_2))\n",
    "    print(\"Mismatched sample sizes, not the same sample\")\n",
    "    n = NaN\n",
    "n = length(observation_1)\n",
    "n"
   ]
  },
  {
   "cell_type": "markdown",
   "id": "a7884146",
   "metadata": {},
   "source": [
    "$ \\bar{x} = mean(obs_1) - mean(obs_2) $"
   ]
  },
  {
   "cell_type": "code",
   "execution_count": 3,
   "id": "c526b728",
   "metadata": {},
   "outputs": [
    {
     "data": {
      "text/html": [
       "3.5"
      ],
      "text/latex": [
       "3.5"
      ],
      "text/markdown": [
       "3.5"
      ],
      "text/plain": [
       "[1] 3.5"
      ]
     },
     "metadata": {},
     "output_type": "display_data"
    }
   ],
   "source": [
    "sample_statistic = mean(observation_1) - mean(observation_2)\n",
    "sample_statistic"
   ]
  },
  {
   "cell_type": "markdown",
   "id": "878a7227",
   "metadata": {},
   "source": [
    "$ h_0 : \\mu_1 - \\mu_2 \\ge 0 $\n",
    "\n",
    "$ h_a : \\mu_1 - \\mu_2 \\lt 0 $\n",
    "\n",
    "$ \\alpha = 0.01 $"
   ]
  },
  {
   "cell_type": "code",
   "execution_count": 4,
   "id": "a1f95e08",
   "metadata": {},
   "outputs": [],
   "source": [
    "H_0_value = 0\n",
    "\n",
    "alpha = .01 #A two tailed test uses alpha/2. One tailed test uses just alpha"
   ]
  },
  {
   "cell_type": "markdown",
   "id": "540bb7ab",
   "metadata": {},
   "source": [
    "$ s = \\sigma(obs_1 + obs_2) $"
   ]
  },
  {
   "cell_type": "code",
   "execution_count": 5,
   "id": "9dc0f6da",
   "metadata": {},
   "outputs": [
    {
     "data": {
      "text/html": [
       "2.32992949004287"
      ],
      "text/latex": [
       "2.32992949004287"
      ],
      "text/markdown": [
       "2.32992949004287"
      ],
      "text/plain": [
       "[1] 2.329929"
      ]
     },
     "metadata": {},
     "output_type": "display_data"
    }
   ],
   "source": [
    "std = sd(observation_1 - observation_2) # this is the SD of differences, not the difference of SD\n",
    "std"
   ]
  },
  {
   "cell_type": "markdown",
   "id": "4071e81a",
   "metadata": {},
   "source": [
    "$ SE = \\frac{\\sigma}{\\sqrt{n}} $"
   ]
  },
  {
   "cell_type": "code",
   "execution_count": 6,
   "id": "b0c480e3",
   "metadata": {},
   "outputs": [
    {
     "data": {
      "text/html": [
       "0.823754471047914"
      ],
      "text/latex": [
       "0.823754471047914"
      ],
      "text/markdown": [
       "0.823754471047914"
      ],
      "text/plain": [
       "[1] 0.8237545"
      ]
     },
     "metadata": {},
     "output_type": "display_data"
    }
   ],
   "source": [
    "error = std / sqrt(n)\n",
    "error"
   ]
  },
  {
   "cell_type": "code",
   "execution_count": 7,
   "id": "9cd24d3f",
   "metadata": {},
   "outputs": [],
   "source": [
    "dof = n - 1"
   ]
  },
  {
   "cell_type": "markdown",
   "id": "2814b679",
   "metadata": {},
   "source": [
    "$ ROR = \\pm T_{ 1-\\alpha, n-1 } $\n",
    "\n",
    "Meaning that the region of rejection is directly from the T distribution"
   ]
  },
  {
   "cell_type": "code",
   "execution_count": 14,
   "id": "8f8a047f",
   "metadata": {},
   "outputs": [
    {
     "data": {
      "text/html": [
       "<style>\n",
       ".list-inline {list-style: none; margin:0; padding: 0}\n",
       ".list-inline>li {display: inline-block}\n",
       ".list-inline>li:not(:last-child)::after {content: \"\\00b7\"; padding: 0 .5ex}\n",
       "</style>\n",
       "<ol class=list-inline><li>-1.89457860509001</li><li>1.89457860509001</li></ol>\n"
      ],
      "text/latex": [
       "\\begin{enumerate*}\n",
       "\\item -1.89457860509001\n",
       "\\item 1.89457860509001\n",
       "\\end{enumerate*}\n"
      ],
      "text/markdown": [
       "1. -1.89457860509001\n",
       "2. 1.89457860509001\n",
       "\n",
       "\n"
      ],
      "text/plain": [
       "[1] -1.894579  1.894579"
      ]
     },
     "metadata": {},
     "output_type": "display_data"
    }
   ],
   "source": [
    "critical_value = qt(1-0.05, dof)\n",
    "region_of_rejection = c(-critical_value, critical_value)\n",
    "region_of_rejection"
   ]
  },
  {
   "cell_type": "markdown",
   "id": "7efa8d42",
   "metadata": {},
   "source": [
    "$ t = \\frac{\\bar{x} - \\mu}{SE} $"
   ]
  },
  {
   "cell_type": "code",
   "execution_count": 15,
   "id": "821a0c60",
   "metadata": {},
   "outputs": [
    {
     "data": {
      "text/html": [
       "4.24883885066819"
      ],
      "text/latex": [
       "4.24883885066819"
      ],
      "text/markdown": [
       "4.24883885066819"
      ],
      "text/plain": [
       "[1] 4.248839"
      ]
     },
     "metadata": {},
     "output_type": "display_data"
    }
   ],
   "source": [
    "test_statistic = (sample_statistic - H_0_value)/error # (sample stat - H_0 value) / error\n",
    "test_statistic"
   ]
  },
  {
   "cell_type": "markdown",
   "id": "7091d8c3",
   "metadata": {},
   "source": [
    "Since the test statistic is higher than the upper tail, then we can reject the $ h_0 $"
   ]
  },
  {
   "cell_type": "code",
   "execution_count": 17,
   "id": "266ebac3",
   "metadata": {},
   "outputs": [
    {
     "data": {
      "text/html": [
       "1.93933240330538"
      ],
      "text/latex": [
       "1.93933240330538"
      ],
      "text/markdown": [
       "1.93933240330538"
      ],
      "text/plain": [
       "[1] 1.939332"
      ]
     },
     "metadata": {},
     "output_type": "display_data"
    },
    {
     "data": {
      "text/html": [
       "5.06066759669462"
      ],
      "text/latex": [
       "5.06066759669462"
      ],
      "text/markdown": [
       "5.06066759669462"
      ],
      "text/plain": [
       "[1] 5.060668"
      ]
     },
     "metadata": {},
     "output_type": "display_data"
    }
   ],
   "source": [
    "CI_lower = sample_statistic - 1.89457860509001*error\n",
    "CI_upper = sample_statistic + 1.89457860509001*error\n",
    "CI_lower\n",
    "CI_upper"
   ]
  },
  {
   "cell_type": "code",
   "execution_count": null,
   "id": "36fd339d",
   "metadata": {},
   "outputs": [],
   "source": []
  }
 ],
 "metadata": {
  "kernelspec": {
   "display_name": "R",
   "language": "R",
   "name": "ir"
  },
  "language_info": {
   "codemirror_mode": "r",
   "file_extension": ".r",
   "mimetype": "text/x-r-source",
   "name": "R",
   "pygments_lexer": "r",
   "version": "3.6.3"
  }
 },
 "nbformat": 4,
 "nbformat_minor": 5
}
