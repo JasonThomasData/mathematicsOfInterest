{
 "cells": [
  {
   "cell_type": "markdown",
   "id": "9136a3a8",
   "metadata": {},
   "source": [
    "### Chi squared test to find an estimate for population standard deviation or variance\n",
    "\n",
    "This is a hypothesis test to check if the population's standard deviation, $ \\sigma $, is equal to a certain value based on the sample variance, $ S^2 $ "
   ]
  },
  {
   "cell_type": "code",
   "execution_count": 1,
   "id": "c068a57b",
   "metadata": {},
   "outputs": [],
   "source": [
    "sample_variance = 17.7\n",
    "n = 25"
   ]
  },
  {
   "cell_type": "markdown",
   "id": "25271f14",
   "metadata": {},
   "source": [
    "$ h_0: \\sigma = 15 $\n",
    "\n",
    "$ h_a: \\sigma \\ne 15 $\n",
    "\n",
    "$ \\alpha = 0.05 $, this will need to be halved when obtaining the region of rejection, if it's a two-tailed test."
   ]
  },
  {
   "cell_type": "code",
   "execution_count": 2,
   "id": "2c819663",
   "metadata": {},
   "outputs": [],
   "source": [
    "h_0_value = 15\n",
    "alpha = 0.05"
   ]
  },
  {
   "cell_type": "code",
   "execution_count": 3,
   "id": "466cb49e",
   "metadata": {},
   "outputs": [],
   "source": [
    "df = n - 1"
   ]
  },
  {
   "cell_type": "markdown",
   "id": "6973387a",
   "metadata": {},
   "source": [
    "Because the $ \\chi^2 $ (chi-squared) distribution is not symmetric, we must use $ \\alpha $ for the lower tail and $ 1 - \\alpha $ for the upper tail. If it's a two-tailed test, then it becomes $ \\alpha $ and $ 1 - \\alpha $, respectively. "
   ]
  },
  {
   "cell_type": "code",
   "execution_count": 4,
   "id": "d6016343",
   "metadata": {},
   "outputs": [
    {
     "data": {
      "text/html": [
       "12.4011502174444"
      ],
      "text/latex": [
       "12.4011502174444"
      ],
      "text/markdown": [
       "12.4011502174444"
      ],
      "text/plain": [
       "[1] 12.40115"
      ]
     },
     "metadata": {},
     "output_type": "display_data"
    },
    {
     "data": {
      "text/html": [
       "39.3640770266039"
      ],
      "text/latex": [
       "39.3640770266039"
      ],
      "text/markdown": [
       "39.3640770266039"
      ],
      "text/plain": [
       "[1] 39.36408"
      ]
     },
     "metadata": {},
     "output_type": "display_data"
    }
   ],
   "source": [
    "critical_value_lower = qchisq(alpha/2, df)\n",
    "critical_value_lower\n",
    "critical_value_upper = qchisq(1-alpha/2, df)\n",
    "critical_value_upper"
   ]
  },
  {
   "cell_type": "markdown",
   "id": "a6d74500",
   "metadata": {},
   "source": [
    "The test statistic:\n",
    "\n",
    "$ \\chi^2 = \\frac{(n - 1)S^2}{\\sigma^2} $ "
   ]
  },
  {
   "cell_type": "code",
   "execution_count": 6,
   "id": "f50b53cc",
   "metadata": {},
   "outputs": [
    {
     "data": {
      "text/html": [
       "33.4176"
      ],
      "text/latex": [
       "33.4176"
      ],
      "text/markdown": [
       "33.4176"
      ],
      "text/plain": [
       "[1] 33.4176"
      ]
     },
     "metadata": {},
     "output_type": "display_data"
    }
   ],
   "source": [
    "test_statistic = (df*sample_variance^2)/h_0_value^2\n",
    "test_statistic"
   ]
  },
  {
   "cell_type": "markdown",
   "id": "20b51185",
   "metadata": {},
   "source": [
    "If the test statistic is within the interval, then we have insufficient evidence to reject $ h_0 $"
   ]
  },
  {
   "cell_type": "code",
   "execution_count": null,
   "id": "f27c3bb8",
   "metadata": {},
   "outputs": [],
   "source": []
  }
 ],
 "metadata": {
  "kernelspec": {
   "display_name": "R",
   "language": "R",
   "name": "ir"
  },
  "language_info": {
   "codemirror_mode": "r",
   "file_extension": ".r",
   "mimetype": "text/x-r-source",
   "name": "R",
   "pygments_lexer": "r",
   "version": "3.6.3"
  }
 },
 "nbformat": 4,
 "nbformat_minor": 5
}
