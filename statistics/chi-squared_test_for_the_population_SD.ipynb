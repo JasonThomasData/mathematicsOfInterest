{
 "cells": [
  {
   "cell_type": "markdown",
   "id": "9136a3a8",
   "metadata": {},
   "source": [
    "### Chi squared test to find an estimate for population standard deviation or variance\n",
    "\n",
    "This is a hypothesis test to check if the population's standard deviation, $ \\sigma $, is equal to a certain value based on the sample variance, $ S^2 $ \n",
    "\n",
    "Firstly, about the $ \\chi^2 $ distribution: if we take the normal distribution $ Z $ with mean of 0 and variance of 1, then $ Z^2 $ is approximately $ \\chi^2 $. "
   ]
  },
  {
   "cell_type": "code",
   "execution_count": 17,
   "id": "c068a57b",
   "metadata": {},
   "outputs": [],
   "source": [
    "sample_variance = 0.07\n",
    "n = 16"
   ]
  },
  {
   "cell_type": "markdown",
   "id": "25271f14",
   "metadata": {},
   "source": [
    "$ h_0: \\sigma = 0.03 $\n",
    "\n",
    "$ h_a: \\sigma \\ne 0.03 $\n",
    "\n",
    "$ \\alpha = 0.05 $, this will need to be halved when obtaining the region of rejection, if it's a two-tailed test."
   ]
  },
  {
   "cell_type": "code",
   "execution_count": 24,
   "id": "2c819663",
   "metadata": {},
   "outputs": [],
   "source": [
    "h_0_value = 0.03\n",
    "alpha = 0.05"
   ]
  },
  {
   "cell_type": "code",
   "execution_count": 25,
   "id": "466cb49e",
   "metadata": {},
   "outputs": [
    {
     "data": {
      "text/html": [
       "15"
      ],
      "text/latex": [
       "15"
      ],
      "text/markdown": [
       "15"
      ],
      "text/plain": [
       "[1] 15"
      ]
     },
     "metadata": {},
     "output_type": "display_data"
    }
   ],
   "source": [
    "df = n - 1\n",
    "df"
   ]
  },
  {
   "cell_type": "markdown",
   "id": "6973387a",
   "metadata": {},
   "source": [
    "Because the $ \\chi^2 $ (chi-squared) distribution is not symmetric, we must use $ \\alpha $ for the lower tail and $ 1 - \\alpha $ for the upper tail. If it's a two-tailed test, then it becomes $ \\alpha $ and $ 1 - \\alpha $, respectively. "
   ]
  },
  {
   "cell_type": "code",
   "execution_count": 31,
   "id": "d6016343",
   "metadata": {},
   "outputs": [
    {
     "data": {
      "text/html": [
       "10.2828977825229"
      ],
      "text/latex": [
       "10.2828977825229"
      ],
      "text/markdown": [
       "10.2828977825229"
      ],
      "text/plain": [
       "[1] 10.2829"
      ]
     },
     "metadata": {},
     "output_type": "display_data"
    },
    {
     "data": {
      "text/html": [
       "35.4788759057273"
      ],
      "text/latex": [
       "35.4788759057273"
      ],
      "text/markdown": [
       "35.4788759057273"
      ],
      "text/plain": [
       "[1] 35.47888"
      ]
     },
     "metadata": {},
     "output_type": "display_data"
    }
   ],
   "source": [
    "critical_value_lower = qchisq(0.05/2, 21)\n",
    "critical_value_lower\n",
    "critical_value_upper = qchisq(1-alpha/2, 21)\n",
    "critical_value_upper"
   ]
  },
  {
   "cell_type": "markdown",
   "id": "a6d74500",
   "metadata": {},
   "source": [
    "The test statistic:\n",
    "\n",
    "$ \\chi^2 = \\frac{(n - 1)S^2}{\\sigma^2} $ "
   ]
  },
  {
   "cell_type": "code",
   "execution_count": 27,
   "id": "f50b53cc",
   "metadata": {},
   "outputs": [
    {
     "data": {
      "text/html": [
       "35"
      ],
      "text/latex": [
       "35"
      ],
      "text/markdown": [
       "35"
      ],
      "text/plain": [
       "[1] 35"
      ]
     },
     "metadata": {},
     "output_type": "display_data"
    }
   ],
   "source": [
    "test_statistic = (df*sample_variance)/h_0_value\n",
    "test_statistic"
   ]
  },
  {
   "cell_type": "markdown",
   "id": "20b51185",
   "metadata": {},
   "source": [
    "If the test statistic is within the interval, then we have insufficient evidence to reject $ h_0 $"
   ]
  },
  {
   "cell_type": "markdown",
   "id": "1e04185e",
   "metadata": {},
   "source": [
    "__THIS SEEMS WRONG, TEST IT WITH EXAMPLES__"
   ]
  }
 ],
 "metadata": {
  "kernelspec": {
   "display_name": "R",
   "language": "R",
   "name": "ir"
  },
  "language_info": {
   "codemirror_mode": "r",
   "file_extension": ".r",
   "mimetype": "text/x-r-source",
   "name": "R",
   "pygments_lexer": "r",
   "version": "3.6.3"
  }
 },
 "nbformat": 4,
 "nbformat_minor": 5
}
