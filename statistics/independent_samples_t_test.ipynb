{
 "cells": [
  {
   "cell_type": "markdown",
   "id": "24fb2823",
   "metadata": {},
   "source": [
    "### Independent samples t test\n",
    "\n",
    "There are two samples from two populations, and we wish to know how the population's parameters are different. For example, the lung capacity of a population of smokers compared to non-smokers."
   ]
  },
  {
   "cell_type": "markdown",
   "id": "8064078c",
   "metadata": {},
   "source": [
    "$ \\bar{x_1}, \\bar{x_2} $ : the sample statistics\n",
    "\n",
    "$ S_1, S_2 $ : the sample standard deviations\n",
    "\n",
    "$ n_1, n_2 $ : the sizes of the samples"
   ]
  },
  {
   "cell_type": "code",
   "execution_count": 6,
   "id": "34484d03",
   "metadata": {},
   "outputs": [],
   "source": [
    "x_1 = 6.13\n",
    "S_1 = 2.4\n",
    "n_1 = 16\n",
    "\n",
    "x_2 = 6.46\n",
    "S_2 = 1.73\n",
    "n_2 = 17"
   ]
  },
  {
   "cell_type": "markdown",
   "id": "13b35c89",
   "metadata": {},
   "source": [
    "Suppose we wish to test whether the second population's parameter is significantly larger than the second, then the difference of $ \\mu_1 - \\mu_2 < 0 $\n",
    "\n",
    "$ h_0 : \\mu_1 - \\mu_2 = 0 $\n",
    "\n",
    "$ h_a : \\mu_1 - \\mu_2 < 0 $\n",
    "\n",
    "$ alpha : 0.01 $"
   ]
  },
  {
   "cell_type": "code",
   "execution_count": 7,
   "id": "dd7c620b",
   "metadata": {},
   "outputs": [],
   "source": [
    "h_0_value = 0\n",
    "alpha = 0.01 # A two tailed test is alpha/2, but one tail is just alpha"
   ]
  },
  {
   "cell_type": "markdown",
   "id": "9bc8b7ff",
   "metadata": {},
   "source": [
    "Find the test statistic\n",
    "\n",
    "Note, this equates to \"equal variances not assumed\". You would have needed to do\n",
    "\n",
    "$ t = \\frac{(\\bar{x_1} - \\bar{x_2}) - (\\mu_1 - \\mu_2)}{\\sqrt{\\frac{S_1^2}{n_1}+\\frac{S_2^2}{n_2}}}$"
   ]
  },
  {
   "cell_type": "code",
   "execution_count": 9,
   "id": "3bf0aa90",
   "metadata": {},
   "outputs": [
    {
     "data": {
      "text/html": [
       "-0.450723392267188"
      ],
      "text/latex": [
       "-0.450723392267188"
      ],
      "text/markdown": [
       "-0.450723392267188"
      ],
      "text/plain": [
       "[1] -0.4507234"
      ]
     },
     "metadata": {},
     "output_type": "display_data"
    }
   ],
   "source": [
    "test_statistic = ((x_1 - x_2) - h_0_value) / sqrt(S_1^2 / n_1 + S_2^2 / n_2)\n",
    "test_statistic"
   ]
  },
  {
   "cell_type": "markdown",
   "id": "7abaf234",
   "metadata": {},
   "source": [
    "Find the degrees of freedom\n",
    "\n",
    "$ v = \\frac{\\left(\\frac{S_1^2}{n_1} + \\frac{S_2^2}{n_2}\\right)^2}{\\frac{\\left(\\frac{sd_1^2}{n_1}\\right)^2}{n_1 - 1} + \\frac{\\left(\\frac{sd_2^2}{n_2}\\right)^2}{n_2 - 1}} $"
   ]
  },
  {
   "cell_type": "code",
   "execution_count": 12,
   "id": "c0122502",
   "metadata": {},
   "outputs": [
    {
     "data": {
      "text/html": [
       "27"
      ],
      "text/latex": [
       "27"
      ],
      "text/markdown": [
       "27"
      ],
      "text/plain": [
       "[1] 27"
      ]
     },
     "metadata": {},
     "output_type": "display_data"
    }
   ],
   "source": [
    "dof = (S_1^2 / n_1 + S_2^2 / n_2)^2 / ((S_1^2 / n_1)^2 / (n_1 - 1) + (S_2^2 / n_2)^2 / (n_2 - 1))\n",
    "round(dof)"
   ]
  },
  {
   "cell_type": "code",
   "execution_count": 14,
   "id": "406abcf4",
   "metadata": {},
   "outputs": [
    {
     "data": {
      "text/html": [
       "-2.47170665550471"
      ],
      "text/latex": [
       "-2.47170665550471"
      ],
      "text/markdown": [
       "-2.47170665550471"
      ],
      "text/plain": [
       "[1] -2.471707"
      ]
     },
     "metadata": {},
     "output_type": "display_data"
    }
   ],
   "source": [
    "critical_value = qt(1-alpha, dof)\n",
    "region_of_rejection = -critical_value\n",
    "region_of_rejection"
   ]
  },
  {
   "cell_type": "markdown",
   "id": "7e75d4a5",
   "metadata": {},
   "source": [
    "Since the test statstic does not fall below the lower tail, then we can not reject $ h_0 $"
   ]
  },
  {
   "cell_type": "code",
   "execution_count": null,
   "id": "49dff5b4",
   "metadata": {},
   "outputs": [],
   "source": []
  }
 ],
 "metadata": {
  "kernelspec": {
   "display_name": "R",
   "language": "R",
   "name": "ir"
  },
  "language_info": {
   "codemirror_mode": "r",
   "file_extension": ".r",
   "mimetype": "text/x-r-source",
   "name": "R",
   "pygments_lexer": "r",
   "version": "3.6.3"
  }
 },
 "nbformat": 4,
 "nbformat_minor": 5
}
