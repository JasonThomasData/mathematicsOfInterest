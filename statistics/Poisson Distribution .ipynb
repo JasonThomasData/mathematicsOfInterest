{
 "cells": [
  {
   "cell_type": "markdown",
   "id": "de2fa6c8",
   "metadata": {},
   "source": [
    "### Poisson Distribution\n",
    "\n",
    "This is typically used when we need to model the number of times an event occurs over some specific time or space.\n",
    "\n",
    "This is similar to the Exponential Distribution but this one only applies to discrete r.v. and the other applies to continuous r.v.\n",
    "\n",
    "Eg: how many earthquakes will occur in a given time period?\n",
    "\n",
    "#### Probability mass function\n",
    "\n",
    "$ p(x) = e^{-\\lambda}\\frac{\\lambda^x}{x!} $\n",
    "\n",
    "#### Expected value\n",
    "\n",
    "$ E(X) = \\lambda $\n",
    "\n",
    "#### Variance\n",
    "\n",
    "$ Var(X) = \\lambda $\n",
    "\n",
    "Then, this implies that $ \\lambda $ is itself the mean over a period of time or space.\n",
    "\n"
   ]
  },
  {
   "cell_type": "markdown",
   "id": "7637c346",
   "metadata": {},
   "source": [
    "#### Examples\n",
    "\n",
    "There is a call centre that gets an average of 1.5 calls per 20 minutes\n",
    "\n",
    "- What is the probability that there will be 4 calls?\n",
    "\n",
    "$ x = 4 $\n",
    "\n",
    "$ \\mu = 1.5 $\n",
    "\n",
    "$ P(4) = e^{-1.5} \\frac{1.5^4}{4!} $"
   ]
  },
  {
   "cell_type": "code",
   "execution_count": 4,
   "id": "c52d2fb1",
   "metadata": {},
   "outputs": [
    {
     "data": {
      "text/html": [
       "0.0470665181563094"
      ],
      "text/latex": [
       "0.0470665181563094"
      ],
      "text/markdown": [
       "0.0470665181563094"
      ],
      "text/plain": [
       "[1] 0.04706652"
      ]
     },
     "metadata": {},
     "output_type": "display_data"
    }
   ],
   "source": [
    "exp(-1.5)* ((1.5^4)/factorial(4))"
   ]
  },
  {
   "cell_type": "markdown",
   "id": "59b21d88",
   "metadata": {},
   "source": [
    "- What is the probability there will be at least 4 calls in 40 minutes?\n",
    "\n",
    "Since the average over 20 minutes is $ \\lambda=1.5 $, then the average over 40 minutes is $ \\lambda=3 $.\n",
    "\n",
    "This one requires us to consider the entire pmf for more than 4 calls.\n",
    "\n",
    "Therefore we subtract whatever is less than four\n",
    "\n",
    "$ P(X \\ge 4) = 1 - P(X \\le 3) $\n",
    "\n",
    "$ 1 - P(0) - P(1) - P(2) - P(3) $\n",
    "\n",
    "$ 1 - e^{-3} \\frac{3^0}{0!} - e^{-3} \\frac{3^1}{1!} - e^{-3} \\frac{3^2}{2!} - e^{-3} \\frac{3^3}{3!} $"
   ]
  },
  {
   "cell_type": "code",
   "execution_count": 5,
   "id": "1500373a",
   "metadata": {},
   "outputs": [
    {
     "data": {
      "text/html": [
       "0.352768111217769"
      ],
      "text/latex": [
       "0.352768111217769"
      ],
      "text/markdown": [
       "0.352768111217769"
      ],
      "text/plain": [
       "[1] 0.3527681"
      ]
     },
     "metadata": {},
     "output_type": "display_data"
    }
   ],
   "source": [
    "1 - exp(-3) * ((3^0)/factorial(0)) - exp(-3) * ((3^1)/factorial(1)) - exp(-3) * ((3^2)/factorial(2)) - exp(-3) * ((3^3)/factorial(3))"
   ]
  },
  {
   "cell_type": "code",
   "execution_count": null,
   "id": "9236b1c2",
   "metadata": {},
   "outputs": [],
   "source": []
  }
 ],
 "metadata": {
  "kernelspec": {
   "display_name": "R",
   "language": "R",
   "name": "ir"
  },
  "language_info": {
   "codemirror_mode": "r",
   "file_extension": ".r",
   "mimetype": "text/x-r-source",
   "name": "R",
   "pygments_lexer": "r",
   "version": "4.1.2"
  }
 },
 "nbformat": 4,
 "nbformat_minor": 5
}
