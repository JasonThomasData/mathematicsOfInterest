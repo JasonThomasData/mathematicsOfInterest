{
 "cells": [
  {
   "cell_type": "markdown",
   "id": "63bdd6ab",
   "metadata": {},
   "source": [
    "### Type I, Type II errors\n",
    "\n",
    "![different error types](Screenshot_2023-05-23_12-01-01.png)\n",
    "\n",
    "The way to interpret this is to say that the probablity of a Type I error occuring is $ \\alpha $, because $ \\alpha $ is the area about the critical value, determined by the level of confidence in a one-tail test.\n",
    "\n",
    "So for example if you run a test with $ \\alpha = 0.05 $ then that $ \\alpha $ is the integral to the right of the critical value (that determines the region of rejection). The test statistic that falls above this and leads to rejection the $ H_0 $ is wrong if the sample distribution varies too much from the population's distribution, in which case we should have accepted $ H_0 $.\n",
    "\n",
    "If you are going to reject the $ H_0 $ if the test statistic falls above the critical region, which is the area under the curve equal to $ \\alpha $, then you effectively say that you are confortable with a 5% chance of a Type I error occuring.\n",
    "\n"
   ]
  },
  {
   "cell_type": "code",
   "execution_count": null,
   "id": "eaeb3ad3",
   "metadata": {},
   "outputs": [],
   "source": []
  }
 ],
 "metadata": {
  "kernelspec": {
   "display_name": "R",
   "language": "R",
   "name": "ir"
  },
  "language_info": {
   "codemirror_mode": "r",
   "file_extension": ".r",
   "mimetype": "text/x-r-source",
   "name": "R",
   "pygments_lexer": "r",
   "version": "4.1.2"
  }
 },
 "nbformat": 4,
 "nbformat_minor": 5
}
