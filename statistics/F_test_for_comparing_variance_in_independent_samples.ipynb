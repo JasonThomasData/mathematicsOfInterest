{
 "cells": [
  {
   "cell_type": "markdown",
   "id": "5fa604c9",
   "metadata": {},
   "source": [
    "### F test to compare two Chi squared distributions, to compare estimates of variance\n",
    "\n",
    "This is a hypothesis test to check if two populations have the same standard deviation, or not."
   ]
  },
  {
   "cell_type": "code",
   "execution_count": 1,
   "id": "bdd0a0c0",
   "metadata": {},
   "outputs": [],
   "source": [
    "# The sample with the least data points (length) should be the first one\n",
    "\n",
    "sampleVariance_1 = 26.4\n",
    "n_1 = 10\n",
    "df_1 = n_1 - 1\n",
    "\n",
    "sampleVariance_2 = 12.7\n",
    "n_2 = 13\n",
    "df_2 = n_2 - 1"
   ]
  },
  {
   "cell_type": "markdown",
   "id": "af10020a",
   "metadata": {},
   "source": [
    "$ h_0: \\sigma_1^2 = \\sigma_2^2 $\n",
    "\n",
    "$ h_a: \\sigma_1^2 > \\sigma_2^2 $\n",
    "\n",
    "$ \\alpha = 0.05 $, this will need to be halved when obtaining the region of rejection, if it's a two-tailed test."
   ]
  },
  {
   "cell_type": "code",
   "execution_count": 2,
   "id": "417388b5",
   "metadata": {},
   "outputs": [],
   "source": [
    "h_0_value = 0\n",
    "alpha = 0.05"
   ]
  },
  {
   "cell_type": "markdown",
   "id": "9745e4b8",
   "metadata": {},
   "source": [
    "### Terminology\n",
    "\n",
    "$ \\chi_1^2 $ : the distribution for the first independent sample\n",
    "\n",
    "$ \\chi_2^2 $ : the distribution for the second independent sample\n",
    "\n",
    "$ \\nu_1 $ : the degrees of freedom for the first sample\n",
    "\n",
    "$ \\nu_2 $ : the degrees of freedom for the first sample\n",
    "\n",
    "$ \\sigma^2 : $ the variance "
   ]
  },
  {
   "cell_type": "markdown",
   "id": "89632b5b",
   "metadata": {},
   "source": [
    "### Test statistic\n",
    "\n",
    "$ \\large \\chi^2 = \\frac{(n - 1)S^2}{\\sigma^2} $ \n",
    "\n",
    "$ W = \\large \\chi_{\\nu}^2 $\n",
    "\n",
    "$ \\large F_{\\nu_1, \\nu_2} = \\frac{W_1 / \\nu_1}{W_2 / \\nu_2} $\n",
    "\n",
    "This means, the F distribution is a ration of two independent $ \\chi^2 $ distributions, with their respective sizes taken into account.\n"
   ]
  },
  {
   "cell_type": "markdown",
   "id": "1950c0b6",
   "metadata": {},
   "source": [
    "To see a more intuitive representation, expand everything:\n",
    "\n",
    "$ \\large F_{\\nu_1, \\nu_2} = \\frac{\\left(\\frac{\\left(\\frac{(n_1 - 1)S_1^2}{\\sigma_1^2}\\right)}{(n_1 - 1)}\\right)}{\\left(\\frac{\\left(\\frac{(n_2 - 1)S_2^2}{\\sigma_2^2}\\right)}{(n_2 - 1)}\\right)} $\n",
    "\n",
    "And that becomes:\n",
    "\n",
    "$ \\large F_{\\nu_1, \\nu_2} = \\frac{\\left(\\frac{S_1^2}{\\sigma_1^2}\\right)}{\\left(\\frac{S_2^2}{\\sigma_2^2}\\right)} $\n",
    "\n",
    "And then:\n",
    "\n",
    "$ \\large F_{\\nu_1, \\nu_2} = \\frac{\\left(\\frac{S_1^2}{S_2^2}\\right)}{\\left(\\frac{\\sigma_1^2}{\\sigma_2^2}\\right)} $\n",
    "\n",
    "But, the $ h_0 $ states that the variance of the populations are the same. Therefore:\n",
    "\n",
    "$ F = \\frac{S_1^2}{S_2^2} $\n"
   ]
  },
  {
   "cell_type": "code",
   "execution_count": 3,
   "id": "a4ade66f",
   "metadata": {},
   "outputs": [
    {
     "data": {
      "text/html": [
       "2.07874015748031"
      ],
      "text/latex": [
       "2.07874015748031"
      ],
      "text/markdown": [
       "2.07874015748031"
      ],
      "text/plain": [
       "[1] 2.07874"
      ]
     },
     "metadata": {},
     "output_type": "display_data"
    }
   ],
   "source": [
    "testStatistic = sampleVariance_1 / sampleVariance_2\n",
    "testStatistic"
   ]
  },
  {
   "cell_type": "code",
   "execution_count": 5,
   "id": "e2b62a9d",
   "metadata": {},
   "outputs": [
    {
     "data": {
      "text/html": [
       "2.79637548949925"
      ],
      "text/latex": [
       "2.79637548949925"
      ],
      "text/markdown": [
       "2.79637548949925"
      ],
      "text/plain": [
       "[1] 2.796375"
      ]
     },
     "metadata": {},
     "output_type": "display_data"
    }
   ],
   "source": [
    "critical_value = qf(alpha, df1 = df_1, df2 = df_2, lower.tail=FALSE)"
   ]
  },
  {
   "cell_type": "markdown",
   "id": "bc9bb316",
   "metadata": {},
   "source": [
    "In a one tail, upper tail test, if the test statistic falls outside the region of rejection then you can reject the $ h_0 $ and accept tha alternative."
   ]
  },
  {
   "cell_type": "code",
   "execution_count": null,
   "id": "6431ae41",
   "metadata": {},
   "outputs": [],
   "source": []
  }
 ],
 "metadata": {
  "kernelspec": {
   "display_name": "R",
   "language": "R",
   "name": "ir"
  },
  "language_info": {
   "codemirror_mode": "r",
   "file_extension": ".r",
   "mimetype": "text/x-r-source",
   "name": "R",
   "pygments_lexer": "r",
   "version": "3.6.3"
  }
 },
 "nbformat": 4,
 "nbformat_minor": 5
}
