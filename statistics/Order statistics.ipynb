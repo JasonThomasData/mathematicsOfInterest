{
 "cells": [
  {
   "cell_type": "markdown",
   "id": "dd216498",
   "metadata": {},
   "source": [
    "### Order statistics\n",
    "\n",
    "Given a sample $ X_1, X_2, X_3, ... , X_n $, which are not necessarily in any order (and probably won't be).\n",
    "\n",
    "Then the order statistics are obtained by placing them in ascending order.\n",
    "\n",
    "$ X_{(1)} $ is the smallest value, $ X_{(n)} $\n",
    "\n",
    "#### Joint density\n",
    "\n",
    "$ g(x_{(1)}, x_{(2)}, ..., x_{(n)}) = n!f_x(x_{(1)})f_x(x_{(2)})...f_x(x_{(n)}) $\n",
    "\n",
    "This is because there are $ n! $ possible ways to order the sample, although only one would be ascending, but each ordering would have the joint pdf $ f_x(x_{(1)})f_x(x_{(2)})...f_x(x_{(n)}) $\n",
    "\n",
    "#### Marginal pdf\n",
    "\n",
    "$ g_i(x_{(i)}) = \\frac{n!}{(i - 1)!(n - i)!}[F_X(x_{(i)})]^{i-1}[1 - F_X(x_{(i)})]^{n-1} f_x(x_{(i)}) $\n",
    "\n",
    "Where:\n",
    "\n",
    "$ \\frac{n!}{(i - 1)!(n - i)!} $ is the number of ways the event can take place\n",
    "\n",
    "$ [F_X(x_{(i)})]^{i-1}[1 - F_X(x_{(i)})]^{n-1} f_x(x_{(i)}) $ is the probability of the event\n",
    "\n",
    "Where $ f_x $ is the pdf and $ F_x $ is the cdf. The underscore here does not denote the marginal of $ x $, because there's just the one variable.\n",
    "\n",
    "#### Joint pdf\n",
    "\n",
    "Where $ x_{(i)} < x_{(j)} $\n",
    "\n",
    "$ g_{ij}(x_{(i)}, x_{(j)}) = \\frac{n!}{(i - 1)!(j - i - 1)!(n - j)!} F_X(x_{(i)})^{i-1} [ F_X(x_{(j)} - F_X(x_{(i)})]^{j-i-1}[1 - F_X(x_{(j)})]^{n-j} f_x(x_{(i)}) f_x(x_{(j)}) $\n"
   ]
  },
  {
   "cell_type": "code",
   "execution_count": null,
   "id": "2c145f4d",
   "metadata": {},
   "outputs": [],
   "source": []
  },
  {
   "cell_type": "code",
   "execution_count": null,
   "id": "aa409a7d",
   "metadata": {},
   "outputs": [],
   "source": []
  }
 ],
 "metadata": {
  "kernelspec": {
   "display_name": "R",
   "language": "R",
   "name": "ir"
  },
  "language_info": {
   "codemirror_mode": "r",
   "file_extension": ".r",
   "mimetype": "text/x-r-source",
   "name": "R",
   "pygments_lexer": "r",
   "version": "4.1.2"
  }
 },
 "nbformat": 4,
 "nbformat_minor": 5
}
