{
 "cells": [
  {
   "cell_type": "markdown",
   "id": "659e524a",
   "metadata": {},
   "source": [
    "### Negative binomial distribution\n",
    "\n",
    "Let $ Y $ be the number of failures before the success at count $ r $.\n",
    "\n",
    "$ E(Y) = \\frac{r(1-p)}{p} $\n",
    "\n",
    "$ Var(Y) = \\frac{r(1-p)}{p^2} $\n",
    "\n",
    "The pmf is:\n",
    "\n",
    "$ P(Y) = {(r+y-1) \\choose y} p^r (1-p)^y $\n",
    "\n",
    "The probability of a sequence of trials containing $ y $ failures and $ r $ successes is:\n",
    "\n",
    "$ p^r(1-p)^y $"
   ]
  },
  {
   "cell_type": "code",
   "execution_count": null,
   "id": "f2c45edf",
   "metadata": {},
   "outputs": [],
   "source": []
  }
 ],
 "metadata": {
  "kernelspec": {
   "display_name": "R",
   "language": "R",
   "name": "ir"
  },
  "language_info": {
   "codemirror_mode": "r",
   "file_extension": ".r",
   "mimetype": "text/x-r-source",
   "name": "R",
   "pygments_lexer": "r",
   "version": "4.1.2"
  }
 },
 "nbformat": 4,
 "nbformat_minor": 5
}
