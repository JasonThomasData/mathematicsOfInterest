{
 "cells": [
  {
   "cell_type": "markdown",
   "id": "40b79621",
   "metadata": {},
   "source": [
    "### Hypergeometric distribution\n",
    "\n",
    "This is used when we're trying to take samples of two groups in a population of size $ N $. The sampling is done without replacement.\n",
    "\n",
    "Say you take a sample (size $ K $) of fish and count the number of type A fish.\n",
    "\n",
    "Type $ A $ consists of $ M $ objects and type $ B $ of $ N - M $ objects.\n",
    "\n",
    "$ P(X) $ is a count of fish type $ A $ in a sample size $ K $\n",
    "\n",
    "$ P(X) = \\frac{{M \\choose X} {(N-M) \\choose (K - X)}}{{N \\choose K}} $\n",
    "\n",
    "This is basically the number of combinations of $ A $ multiplied by the number of combinations of not $ A $, or just $ B $, then divided by the number of combinations a population size $ N $ could be combined to form a sample of size $ K $\n",
    "\n",
    "#### Expected value\n",
    "\n",
    "$ E(X) = K\\frac{M}{N} $\n",
    "\n",
    "#### Variance\n",
    "\n",
    "$ Var(X) = K\\frac{M}{N} \\left(\\frac{(N-M)(N-K)}{N(N-1)} \\right) $\n",
    "\n"
   ]
  },
  {
   "cell_type": "code",
   "execution_count": null,
   "id": "6878ba3d",
   "metadata": {},
   "outputs": [],
   "source": []
  }
 ],
 "metadata": {
  "kernelspec": {
   "display_name": "R",
   "language": "R",
   "name": "ir"
  },
  "language_info": {
   "codemirror_mode": "r",
   "file_extension": ".r",
   "mimetype": "text/x-r-source",
   "name": "R",
   "pygments_lexer": "r",
   "version": "4.1.2"
  }
 },
 "nbformat": 4,
 "nbformat_minor": 5
}
