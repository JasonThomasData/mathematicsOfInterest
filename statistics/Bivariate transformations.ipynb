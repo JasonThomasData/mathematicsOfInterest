{
 "cells": [
  {
   "cell_type": "markdown",
   "id": "3cbd68de",
   "metadata": {},
   "source": [
    "### Bivariate transformations\n",
    "\n",
    "Given a continuous or discrete bivariate r.v. you can transform it into another r.v. - must it still be discrete or continuous? I suspect so.\n",
    "\n",
    "### Bivariate Poisson distribubution transformation\n",
    "\n",
    "$ (X, Y) $\n",
    "\n",
    "$ p_{x,y}(x,y) = \\frac{\\theta^x \\lambda^y e^{-\\theta -\\lambda}}{x!y!} $\n",
    "\n",
    "$ x = 1,2,3..., y = 1,2,3... $\n",
    "\n",
    "So what are the joint distributions:\n",
    "\n",
    "$ U = X + Y $\n",
    "\n",
    "$ V = Y $ \n",
    "\n",
    "First, note that $ X, Y $ are independent, and we can see this algebraically:\n",
    "\n",
    "$ p_{x,y}(x,y) = \\frac{\\theta^x e^{-\\theta}}{x!} \\frac{\\lambda^y e^{-\\lambda}}{y!} = p_x(x)p_y(y) $\n",
    "\n",
    "Then the desired transformations are:\n",
    "\n",
    "$ u = g_1(x, y) = x + y $\n",
    "\n",
    "$ v = g_2(x, y) = y $\n",
    "\n",
    "Then the inverses of these are:\n",
    "\n",
    "$ x = w_1(u, v) = u - y = u - v $\n",
    "\n",
    "$ y = w_2(u, v) = v $\n",
    "\n",
    "So we have these new functions, then let's write the jount density function in terms of these two new functions.\n",
    "\n",
    "$ p_{u,v}(u,v) = p_{x,y}(w_1(u,v), w_2(u,v)) $\n",
    "\n",
    "$ p_{u,v}(u,v) = \\frac{\\theta^{u-v}\\lambda^v}{(u-v)!v!} $\n",
    "\n",
    "$ v = 0,1,2,... $\n",
    "\n",
    "$ u = v, v+1, v+2,... $ (because $ u = x+v $)\n",
    "\n",
    "What is the marginal of $ U $? Sum up the pmf where $ v = \\{0 \\le v \\le u\\} $\n",
    "\n",
    "$ p_u(u) = \\sum_v^u p_{u,v}(u,v) $\n",
    "\n",
    "_This summation has a particular form, see week 6 unit 3 lecture IIb ~30:00_\n",
    "\n",
    "### Bivariate continuous r.v.\n",
    "\n",
    "Discussed in unit 3 lecture IIb ~ 37:00. And then at the start of the next video, concerning the Jacobian matrix."
   ]
  },
  {
   "cell_type": "code",
   "execution_count": null,
   "id": "4a9f8c25",
   "metadata": {},
   "outputs": [],
   "source": []
  }
 ],
 "metadata": {
  "kernelspec": {
   "display_name": "Octave",
   "language": "octave",
   "name": "octave"
  },
  "language_info": {
   "file_extension": ".m",
   "help_links": [
    {
     "text": "GNU Octave",
     "url": "https://www.gnu.org/software/octave/support.html"
    },
    {
     "text": "Octave Kernel",
     "url": "https://github.com/Calysto/octave_kernel"
    },
    {
     "text": "MetaKernel Magics",
     "url": "https://metakernel.readthedocs.io/en/latest/source/README.html"
    }
   ],
   "mimetype": "text/x-octave",
   "name": "octave",
   "version": "6.4.0"
  }
 },
 "nbformat": 4,
 "nbformat_minor": 5
}
