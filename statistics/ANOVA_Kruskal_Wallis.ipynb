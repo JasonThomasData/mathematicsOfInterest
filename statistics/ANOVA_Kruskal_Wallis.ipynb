{
 "cells": [
  {
   "cell_type": "markdown",
   "id": "7dcf2bb2",
   "metadata": {},
   "source": [
    "### Anova (analysis of variance), non-parametric test\n",
    "\n",
    "If you have several samples that you think might be different then you can do an ANOVA test. \n",
    "\n",
    "The Kruskal Wallis test is useful when the assumptions for an ANOVA test are not met. This is a non-parametric test.\n"
   ]
  },
  {
   "cell_type": "code",
   "execution_count": 1,
   "id": "1f12e5a4",
   "metadata": {},
   "outputs": [
    {
     "data": {
      "text/html": [
       "<table class=\"dataframe\">\n",
       "<caption>A data.frame: 5 × 4</caption>\n",
       "<thead>\n",
       "\t<tr><th scope=col>a</th><th scope=col>b</th><th scope=col>c</th><th scope=col>d</th></tr>\n",
       "\t<tr><th scope=col>&lt;dbl&gt;</th><th scope=col>&lt;dbl&gt;</th><th scope=col>&lt;dbl&gt;</th><th scope=col>&lt;dbl&gt;</th></tr>\n",
       "</thead>\n",
       "<tbody>\n",
       "\t<tr><td>58.2</td><td>56.3</td><td>50.1</td><td>52.9</td></tr>\n",
       "\t<tr><td>57.2</td><td>55.4</td><td>54.2</td><td>49.9</td></tr>\n",
       "\t<tr><td>58.4</td><td>57.0</td><td>55.4</td><td>50.0</td></tr>\n",
       "\t<tr><td>55.8</td><td>55.3</td><td>  NA</td><td>51.7</td></tr>\n",
       "\t<tr><td>54.9</td><td>  NA</td><td>  NA</td><td>  NA</td></tr>\n",
       "</tbody>\n",
       "</table>\n"
      ],
      "text/latex": [
       "A data.frame: 5 × 4\n",
       "\\begin{tabular}{llll}\n",
       " a & b & c & d\\\\\n",
       " <dbl> & <dbl> & <dbl> & <dbl>\\\\\n",
       "\\hline\n",
       "\t 58.2 & 56.3 & 50.1 & 52.9\\\\\n",
       "\t 57.2 & 55.4 & 54.2 & 49.9\\\\\n",
       "\t 58.4 & 57.0 & 55.4 & 50.0\\\\\n",
       "\t 55.8 & 55.3 &   NA & 51.7\\\\\n",
       "\t 54.9 &   NA &   NA &   NA\\\\\n",
       "\\end{tabular}\n"
      ],
      "text/markdown": [
       "\n",
       "A data.frame: 5 × 4\n",
       "\n",
       "| a &lt;dbl&gt; | b &lt;dbl&gt; | c &lt;dbl&gt; | d &lt;dbl&gt; |\n",
       "|---|---|---|---|\n",
       "| 58.2 | 56.3 | 50.1 | 52.9 |\n",
       "| 57.2 | 55.4 | 54.2 | 49.9 |\n",
       "| 58.4 | 57.0 | 55.4 | 50.0 |\n",
       "| 55.8 | 55.3 |   NA | 51.7 |\n",
       "| 54.9 |   NA |   NA |   NA |\n",
       "\n"
      ],
      "text/plain": [
       "  a    b    c    d   \n",
       "1 58.2 56.3 50.1 52.9\n",
       "2 57.2 55.4 54.2 49.9\n",
       "3 58.4 57.0 55.4 50.0\n",
       "4 55.8 55.3   NA 51.7\n",
       "5 54.9   NA   NA   NA"
      ]
     },
     "metadata": {},
     "output_type": "display_data"
    },
    {
     "data": {
      "text/html": [
       "<style>\n",
       ".list-inline {list-style: none; margin:0; padding: 0}\n",
       ".list-inline>li {display: inline-block}\n",
       ".list-inline>li:not(:last-child)::after {content: \"\\00b7\"; padding: 0 .5ex}\n",
       "</style>\n",
       "<ol class=list-inline><li>58.2</li><li>57.2</li><li>58.4</li><li>55.8</li><li>54.9</li><li>56.3</li><li>55.4</li><li>57</li><li>55.3</li><li>50.1</li><li>54.2</li><li>55.4</li><li>52.9</li><li>49.9</li><li>50</li><li>51.7</li></ol>\n"
      ],
      "text/latex": [
       "\\begin{enumerate*}\n",
       "\\item 58.2\n",
       "\\item 57.2\n",
       "\\item 58.4\n",
       "\\item 55.8\n",
       "\\item 54.9\n",
       "\\item 56.3\n",
       "\\item 55.4\n",
       "\\item 57\n",
       "\\item 55.3\n",
       "\\item 50.1\n",
       "\\item 54.2\n",
       "\\item 55.4\n",
       "\\item 52.9\n",
       "\\item 49.9\n",
       "\\item 50\n",
       "\\item 51.7\n",
       "\\end{enumerate*}\n"
      ],
      "text/markdown": [
       "1. 58.2\n",
       "2. 57.2\n",
       "3. 58.4\n",
       "4. 55.8\n",
       "5. 54.9\n",
       "6. 56.3\n",
       "7. 55.4\n",
       "8. 57\n",
       "9. 55.3\n",
       "10. 50.1\n",
       "11. 54.2\n",
       "12. 55.4\n",
       "13. 52.9\n",
       "14. 49.9\n",
       "15. 50\n",
       "16. 51.7\n",
       "\n",
       "\n"
      ],
      "text/plain": [
       " [1] 58.2 57.2 58.4 55.8 54.9 56.3 55.4 57.0 55.3 50.1 54.2 55.4 52.9 49.9 50.0\n",
       "[16] 51.7"
      ]
     },
     "metadata": {},
     "output_type": "display_data"
    }
   ],
   "source": [
    "### The data\n",
    "\n",
    "# Because dataframes are like matrices, we must have something for blank data. Enter blanks as NA\n",
    "# This is still more elegant than a MD array...\n",
    "groups = data.frame(\n",
    "    \"a\"=c(20  ,6.5 ,21 ,16.5,12  ,18.5, NA),\n",
    "    \"b\"=c(14.5,16.5,4.5,2.5 ,14.5,12   ,18.5),\n",
    "    \"c\"=c(9   ,1   ,9  ,4.5 ,6.5, 2.5   ,12)\n",
    ")\n",
    "groups\n",
    "\n",
    "sampleData = c()\n",
    "for (group in groups) {\n",
    "    sampleData = c(sampleData, na.omit(group)) \n",
    "}\n",
    "sampleData"
   ]
  },
  {
   "cell_type": "markdown",
   "id": "1c92b462",
   "metadata": {},
   "source": [
    "### Hypothesis\n",
    "\n",
    "$ H_0 : \\mu_1 = \\mu_2 = \\mu_3 $\n",
    "\n",
    "$ H_a : $ one or several populations are different\n",
    "\n",
    "$ \\alpha : 0.05 $"
   ]
  },
  {
   "cell_type": "code",
   "execution_count": 2,
   "id": "f5cdbbde",
   "metadata": {},
   "outputs": [],
   "source": [
    "alpha = 0.05"
   ]
  },
  {
   "cell_type": "markdown",
   "id": "0e74e151",
   "metadata": {},
   "source": [
    "### Samples' mean ranks\n",
    "\n",
    "If you found a rank for every datum in the data then found the average for those, then you would have:\n",
    "\n",
    "The sum : $ \\sum_{i=1}^n {i} = \\frac{n(n+1)}{2} $\n",
    "\n",
    "And then the average: $ \\large \\frac{\\sum_{i=1}^n {i}}{n} $\n",
    "\n",
    "$ \\therefore \\large \\frac{\\frac{n(n+1)}{2}}{n} $\n",
    "\n",
    "$ \\therefore \\frac{(n+1)}{2} $\n"
   ]
  },
  {
   "cell_type": "code",
   "execution_count": 3,
   "id": "e2f31663",
   "metadata": {},
   "outputs": [
    {
     "data": {
      "text/html": [
       "8.5"
      ],
      "text/latex": [
       "8.5"
      ],
      "text/markdown": [
       "8.5"
      ],
      "text/plain": [
       "[1] 8.5"
      ]
     },
     "metadata": {},
     "output_type": "display_data"
    }
   ],
   "source": [
    "# Sample's ranks mean (overall mean)\n",
    "\n",
    "n = length(sampleData)\n",
    "\n",
    "overallMean = (n+1)/2\n",
    "overallMean"
   ]
  },
  {
   "cell_type": "markdown",
   "id": "0ca9b98d",
   "metadata": {},
   "source": [
    "### Test statistic\n",
    "\n",
    "let:\n",
    "\n",
    "$ k $ be the number of groups\n",
    "\n",
    "$ R_i = \\large \\frac{n_i(n_i + 1)}{2} $ be the sum of ranks in a group\n",
    "\n",
    "$ R = \\large \\frac{n(n + 1)}{2} $ be the sum of ranks overall\n",
    "\n",
    "$ \\bar{R_i} = \\large \\frac{R_i}{n_i} $ be the average rank in a group\n",
    "\n",
    "$ \\bar{R} = \\large \\frac{R}{n} $ be the overall mean (of ranks)\n",
    "\n",
    "$ V = \\sum_{i=1}^k n_i \\left( \\bar{R_i} - \\bar{R} \\right)^2 $\n",
    "\n",
    "$ H = \\frac{12V}{n(n+1)} $ the the test statistic"
   ]
  },
  {
   "cell_type": "code",
   "execution_count": 4,
   "id": "9add42fb",
   "metadata": {},
   "outputs": [
    {
     "data": {
      "text/html": [
       "<style>\n",
       ".list-inline {list-style: none; margin:0; padding: 0}\n",
       ".list-inline>li {display: inline-block}\n",
       ".list-inline>li:not(:last-child)::after {content: \"\\00b7\"; padding: 0 .5ex}\n",
       "</style>\n",
       "<ol class=list-inline><li>15</li><li>14</li><li>16</li><li>11</li><li>7</li><li>12</li><li>9.5</li><li>13</li><li>8</li><li>3</li><li>6</li><li>9.5</li><li>5</li><li>1</li><li>2</li><li>4</li></ol>\n"
      ],
      "text/latex": [
       "\\begin{enumerate*}\n",
       "\\item 15\n",
       "\\item 14\n",
       "\\item 16\n",
       "\\item 11\n",
       "\\item 7\n",
       "\\item 12\n",
       "\\item 9.5\n",
       "\\item 13\n",
       "\\item 8\n",
       "\\item 3\n",
       "\\item 6\n",
       "\\item 9.5\n",
       "\\item 5\n",
       "\\item 1\n",
       "\\item 2\n",
       "\\item 4\n",
       "\\end{enumerate*}\n"
      ],
      "text/markdown": [
       "1. 15\n",
       "2. 14\n",
       "3. 16\n",
       "4. 11\n",
       "5. 7\n",
       "6. 12\n",
       "7. 9.5\n",
       "8. 13\n",
       "9. 8\n",
       "10. 3\n",
       "11. 6\n",
       "12. 9.5\n",
       "13. 5\n",
       "14. 1\n",
       "15. 2\n",
       "16. 4\n",
       "\n",
       "\n"
      ],
      "text/plain": [
       " [1] 15.0 14.0 16.0 11.0  7.0 12.0  9.5 13.0  8.0  3.0  6.0  9.5  5.0  1.0  2.0\n",
       "[16]  4.0"
      ]
     },
     "metadata": {},
     "output_type": "display_data"
    },
    {
     "data": {
      "text/html": [
       "<style>\n",
       ".list-inline {list-style: none; margin:0; padding: 0}\n",
       ".list-inline>li {display: inline-block}\n",
       ".list-inline>li:not(:last-child)::after {content: \"\\00b7\"; padding: 0 .5ex}\n",
       "</style>\n",
       "<ol class=list-inline><li>63</li><li>42.5</li><li>18.5</li><li>12</li></ol>\n"
      ],
      "text/latex": [
       "\\begin{enumerate*}\n",
       "\\item 63\n",
       "\\item 42.5\n",
       "\\item 18.5\n",
       "\\item 12\n",
       "\\end{enumerate*}\n"
      ],
      "text/markdown": [
       "1. 63\n",
       "2. 42.5\n",
       "3. 18.5\n",
       "4. 12\n",
       "\n",
       "\n"
      ],
      "text/plain": [
       "[1] 63.0 42.5 18.5 12.0"
      ]
     },
     "metadata": {},
     "output_type": "display_data"
    },
    {
     "data": {
      "text/html": [
       "<style>\n",
       ".list-inline {list-style: none; margin:0; padding: 0}\n",
       ".list-inline>li {display: inline-block}\n",
       ".list-inline>li:not(:last-child)::after {content: \"\\00b7\"; padding: 0 .5ex}\n",
       "</style>\n",
       "<ol class=list-inline><li>5</li><li>4</li><li>3</li><li>4</li></ol>\n"
      ],
      "text/latex": [
       "\\begin{enumerate*}\n",
       "\\item 5\n",
       "\\item 4\n",
       "\\item 3\n",
       "\\item 4\n",
       "\\end{enumerate*}\n"
      ],
      "text/markdown": [
       "1. 5\n",
       "2. 4\n",
       "3. 3\n",
       "4. 4\n",
       "\n",
       "\n"
      ],
      "text/plain": [
       "[1] 5 4 3 4"
      ]
     },
     "metadata": {},
     "output_type": "display_data"
    }
   ],
   "source": [
    "# Sum of ranks treatment\n",
    "\n",
    "groupsTotalRanks = c()\n",
    "groupsLengths = c()\n",
    "\n",
    "indexes = rank(sampleData)\n",
    "indexes\n",
    "for (group in groups) {\n",
    "    group = na.omit(group) #because we don't want to calculate the NA values\n",
    "    groupLength = length(group)\n",
    "    groupRanks = head(indexes, groupLength)\n",
    "    indexes = tail(indexes, -groupLength)\n",
    "    groupsTotalRanks = c(groupsTotalRanks, sum(groupRanks))\n",
    "    groupsLengths = c(groupsLengths, groupLength)\n",
    "}\n",
    "groupsTotalRanks\n",
    "groupsLengths\n",
    "\n",
    "stopifnot(length(groupsTotalRanks) == length(groupsLengths))"
   ]
  },
  {
   "cell_type": "code",
   "execution_count": 5,
   "id": "d03e922b",
   "metadata": {},
   "outputs": [
    {
     "data": {
      "text/html": [
       "239.445833333333"
      ],
      "text/latex": [
       "239.445833333333"
      ],
      "text/markdown": [
       "239.445833333333"
      ],
      "text/plain": [
       "[1] 239.4458"
      ]
     },
     "metadata": {},
     "output_type": "display_data"
    }
   ],
   "source": [
    "V = 0\n",
    "\n",
    "for (i in 1:length(groupsLengths)) {\n",
    "    thisGroupTotalRanks = groupsTotalRanks[i]\n",
    "    thisGroupLength = groupsLengths[i]\n",
    "    thisGroupMean = thisGroupTotalRanks / thisGroupLength\n",
    "    \n",
    "    V = V + thisGroupLength*(thisGroupMean - overallMean)^2\n",
    "}\n",
    "\n",
    "V"
   ]
  },
  {
   "cell_type": "code",
   "execution_count": 6,
   "id": "95dfe703",
   "metadata": {},
   "outputs": [
    {
     "data": {
      "text/html": [
       "10.5637867647059"
      ],
      "text/latex": [
       "10.5637867647059"
      ],
      "text/markdown": [
       "10.5637867647059"
      ],
      "text/plain": [
       "[1] 10.56379"
      ]
     },
     "metadata": {},
     "output_type": "display_data"
    }
   ],
   "source": [
    "### Test statistic\n",
    "H = (12*V)/(n*(n+1))\n",
    "H"
   ]
  },
  {
   "cell_type": "code",
   "execution_count": 7,
   "id": "dd84ebb6",
   "metadata": {},
   "outputs": [
    {
     "data": {
      "text/html": [
       "7.81472790325118"
      ],
      "text/latex": [
       "7.81472790325118"
      ],
      "text/markdown": [
       "7.81472790325118"
      ],
      "text/plain": [
       "[1] 7.814728"
      ]
     },
     "metadata": {},
     "output_type": "display_data"
    }
   ],
   "source": [
    "### This always an upper tail test, since chi^2 is not a symmetric distribution\n",
    "### The degrees of freedom refer to the groups in the sample. \n",
    "\n",
    "df = length(groups)-1\n",
    "\n",
    "criticalValue = qchisq(1-alpha, df)\n",
    "criticalValue"
   ]
  },
  {
   "cell_type": "markdown",
   "id": "a3065bbf",
   "metadata": {},
   "source": [
    "If the test statistic is within the region of rejection (above the critical value), then we can reject the null hypothesis"
   ]
  },
  {
   "cell_type": "code",
   "execution_count": null,
   "id": "8503bf4d",
   "metadata": {},
   "outputs": [],
   "source": []
  }
 ],
 "metadata": {
  "kernelspec": {
   "display_name": "R",
   "language": "R",
   "name": "ir"
  },
  "language_info": {
   "codemirror_mode": "r",
   "file_extension": ".r",
   "mimetype": "text/x-r-source",
   "name": "R",
   "pygments_lexer": "r",
   "version": "3.6.3"
  }
 },
 "nbformat": 4,
 "nbformat_minor": 5
}
