{
 "cells": [
  {
   "cell_type": "markdown",
   "id": "7dcf2bb2",
   "metadata": {},
   "source": [
    "### Anova (analysis of variance), non-parametric test\n",
    "\n",
    "If you have several samples that you think might be different then you can do an ANOVA test. \n",
    "\n",
    "The Kruskal Wallis test is useful when the assumptions for an ANOVA test are not met. This is a non-parametric test.\n"
   ]
  },
  {
   "cell_type": "code",
   "execution_count": 1,
   "id": "1f12e5a4",
   "metadata": {},
   "outputs": [
    {
     "data": {
      "text/html": [
       "<table class=\"dataframe\">\n",
       "<caption>A data.frame: 7 × 3</caption>\n",
       "<thead>\n",
       "\t<tr><th scope=col>a</th><th scope=col>b</th><th scope=col>c</th></tr>\n",
       "\t<tr><th scope=col>&lt;dbl&gt;</th><th scope=col>&lt;dbl&gt;</th><th scope=col>&lt;dbl&gt;</th></tr>\n",
       "</thead>\n",
       "<tbody>\n",
       "\t<tr><td>20.0</td><td>14.5</td><td> 9.0</td></tr>\n",
       "\t<tr><td> 6.5</td><td>16.5</td><td> 1.0</td></tr>\n",
       "\t<tr><td>21.0</td><td> 4.5</td><td> 9.0</td></tr>\n",
       "\t<tr><td>16.5</td><td> 2.5</td><td> 4.5</td></tr>\n",
       "\t<tr><td>12.0</td><td>14.5</td><td> 6.5</td></tr>\n",
       "\t<tr><td>18.5</td><td>12.0</td><td> 2.5</td></tr>\n",
       "\t<tr><td>  NA</td><td>18.5</td><td>12.0</td></tr>\n",
       "</tbody>\n",
       "</table>\n"
      ],
      "text/latex": [
       "A data.frame: 7 × 3\n",
       "\\begin{tabular}{lll}\n",
       " a & b & c\\\\\n",
       " <dbl> & <dbl> & <dbl>\\\\\n",
       "\\hline\n",
       "\t 20.0 & 14.5 &  9.0\\\\\n",
       "\t  6.5 & 16.5 &  1.0\\\\\n",
       "\t 21.0 &  4.5 &  9.0\\\\\n",
       "\t 16.5 &  2.5 &  4.5\\\\\n",
       "\t 12.0 & 14.5 &  6.5\\\\\n",
       "\t 18.5 & 12.0 &  2.5\\\\\n",
       "\t   NA & 18.5 & 12.0\\\\\n",
       "\\end{tabular}\n"
      ],
      "text/markdown": [
       "\n",
       "A data.frame: 7 × 3\n",
       "\n",
       "| a &lt;dbl&gt; | b &lt;dbl&gt; | c &lt;dbl&gt; |\n",
       "|---|---|---|\n",
       "| 20.0 | 14.5 |  9.0 |\n",
       "|  6.5 | 16.5 |  1.0 |\n",
       "| 21.0 |  4.5 |  9.0 |\n",
       "| 16.5 |  2.5 |  4.5 |\n",
       "| 12.0 | 14.5 |  6.5 |\n",
       "| 18.5 | 12.0 |  2.5 |\n",
       "|   NA | 18.5 | 12.0 |\n",
       "\n"
      ],
      "text/plain": [
       "  a    b    c   \n",
       "1 20.0 14.5  9.0\n",
       "2  6.5 16.5  1.0\n",
       "3 21.0  4.5  9.0\n",
       "4 16.5  2.5  4.5\n",
       "5 12.0 14.5  6.5\n",
       "6 18.5 12.0  2.5\n",
       "7   NA 18.5 12.0"
      ]
     },
     "metadata": {},
     "output_type": "display_data"
    },
    {
     "data": {
      "text/html": [
       "<style>\n",
       ".list-inline {list-style: none; margin:0; padding: 0}\n",
       ".list-inline>li {display: inline-block}\n",
       ".list-inline>li:not(:last-child)::after {content: \"\\00b7\"; padding: 0 .5ex}\n",
       "</style>\n",
       "<ol class=list-inline><li>20</li><li>6.5</li><li>21</li><li>16.5</li><li>12</li><li>18.5</li><li>14.5</li><li>16.5</li><li>4.5</li><li>2.5</li><li>14.5</li><li>12</li><li>18.5</li><li>9</li><li>1</li><li>9</li><li>4.5</li><li>6.5</li><li>2.5</li><li>12</li></ol>\n"
      ],
      "text/latex": [
       "\\begin{enumerate*}\n",
       "\\item 20\n",
       "\\item 6.5\n",
       "\\item 21\n",
       "\\item 16.5\n",
       "\\item 12\n",
       "\\item 18.5\n",
       "\\item 14.5\n",
       "\\item 16.5\n",
       "\\item 4.5\n",
       "\\item 2.5\n",
       "\\item 14.5\n",
       "\\item 12\n",
       "\\item 18.5\n",
       "\\item 9\n",
       "\\item 1\n",
       "\\item 9\n",
       "\\item 4.5\n",
       "\\item 6.5\n",
       "\\item 2.5\n",
       "\\item 12\n",
       "\\end{enumerate*}\n"
      ],
      "text/markdown": [
       "1. 20\n",
       "2. 6.5\n",
       "3. 21\n",
       "4. 16.5\n",
       "5. 12\n",
       "6. 18.5\n",
       "7. 14.5\n",
       "8. 16.5\n",
       "9. 4.5\n",
       "10. 2.5\n",
       "11. 14.5\n",
       "12. 12\n",
       "13. 18.5\n",
       "14. 9\n",
       "15. 1\n",
       "16. 9\n",
       "17. 4.5\n",
       "18. 6.5\n",
       "19. 2.5\n",
       "20. 12\n",
       "\n",
       "\n"
      ],
      "text/plain": [
       " [1] 20.0  6.5 21.0 16.5 12.0 18.5 14.5 16.5  4.5  2.5 14.5 12.0 18.5  9.0  1.0\n",
       "[16]  9.0  4.5  6.5  2.5 12.0"
      ]
     },
     "metadata": {},
     "output_type": "display_data"
    }
   ],
   "source": [
    "### The data\n",
    "\n",
    "# Because dataframes are like matrices, we must have something for blank data. Enter blanks as NA\n",
    "# This is still more elegant than a MD array...\n",
    "groups = data.frame(\n",
    "    \"a\"=c(20  ,6.5 ,21 ,16.5,12  ,18.5, NA),\n",
    "    \"b\"=c(14.5,16.5,4.5,2.5 ,14.5,12   ,18.5),\n",
    "    \"c\"=c(9   ,1   ,9  ,4.5 ,6.5, 2.5   ,12)\n",
    ")\n",
    "groups\n",
    "\n",
    "sampleData = c()\n",
    "for (group in groups) {\n",
    "    sampleData = c(sampleData, na.omit(group)) \n",
    "}\n",
    "sampleData"
   ]
  },
  {
   "cell_type": "markdown",
   "id": "1c92b462",
   "metadata": {},
   "source": [
    "### Hypothesis\n",
    "\n",
    "$ H_0 : \\mu_1 = \\mu_2 = \\mu_3 $\n",
    "\n",
    "$ H_a : $ one or several populations are different\n",
    "\n",
    "$ \\alpha : 0.05 $"
   ]
  },
  {
   "cell_type": "code",
   "execution_count": 2,
   "id": "f5cdbbde",
   "metadata": {},
   "outputs": [],
   "source": [
    "alpha = 0.05"
   ]
  },
  {
   "cell_type": "markdown",
   "id": "0e74e151",
   "metadata": {},
   "source": [
    "### Samples' mean ranks\n",
    "\n",
    "If you found a rank for every datum in the data then found the average for those, then you would have:\n",
    "\n",
    "The sum : $ \\sum_{i=1}^n {i} = \\frac{n(n+1)}{2} $\n",
    "\n",
    "And then the average: $ \\large \\frac{\\sum_{i=1}^n {i}}{n} $\n",
    "\n",
    "$ \\therefore \\large \\frac{\\frac{n(n+1)}{2}}{n} $\n",
    "\n",
    "$ \\therefore \\frac{(n+1)}{2} $\n"
   ]
  },
  {
   "cell_type": "code",
   "execution_count": 3,
   "id": "e2f31663",
   "metadata": {},
   "outputs": [
    {
     "data": {
      "text/html": [
       "10.5"
      ],
      "text/latex": [
       "10.5"
      ],
      "text/markdown": [
       "10.5"
      ],
      "text/plain": [
       "[1] 10.5"
      ]
     },
     "metadata": {},
     "output_type": "display_data"
    }
   ],
   "source": [
    "# Sample's ranks mean (overall mean)\n",
    "\n",
    "n = 0\n",
    "\n",
    "for (group in groups) {\n",
    "    group = na.omit(group) #because we don't want to calculate the NA values\n",
    "    n = n + length(group)\n",
    "}\n",
    "\n",
    "overallMean = (n+1)/2\n",
    "overallMean"
   ]
  },
  {
   "cell_type": "markdown",
   "id": "0ca9b98d",
   "metadata": {},
   "source": [
    "### Test statistic\n",
    "\n",
    "let:\n",
    "\n",
    "$ k $ be the number of groups\n",
    "\n",
    "$ R_i = \\large \\frac{n_i(n_i + 1)}{2} $ be the sum of ranks in a group\n",
    "\n",
    "$ R = \\large \\frac{n(n + 1)}{2} $ be the sum of ranks overall\n",
    "\n",
    "$ \\bar{R_i} = \\large \\frac{R_i}{n_i} $ be the average rank in a group\n",
    "\n",
    "$ \\bar{R} = \\large \\frac{R}{n} $ be the overall mean (of ranks)\n",
    "\n",
    "$ V = \\sum_{i=1}^k n_i \\left( \\bar{R_i} - \\bar{R} \\right)^2 $\n",
    "\n",
    "$ H = \\frac{12V}{n(n+1)} $ the the test statistic"
   ]
  },
  {
   "cell_type": "code",
   "execution_count": 4,
   "id": "9add42fb",
   "metadata": {},
   "outputs": [
    {
     "data": {
      "text/html": [
       "<style>\n",
       ".list-inline {list-style: none; margin:0; padding: 0}\n",
       ".list-inline>li {display: inline-block}\n",
       ".list-inline>li:not(:last-child)::after {content: \"\\00b7\"; padding: 0 .5ex}\n",
       "</style>\n",
       "<ol class=list-inline><li>19</li><li>6.5</li><li>20</li><li>15.5</li><li>11</li><li>17.5</li><li>13.5</li><li>15.5</li><li>4.5</li><li>2.5</li><li>13.5</li><li>11</li><li>17.5</li><li>8.5</li><li>1</li><li>8.5</li><li>4.5</li><li>6.5</li><li>2.5</li><li>11</li></ol>\n"
      ],
      "text/latex": [
       "\\begin{enumerate*}\n",
       "\\item 19\n",
       "\\item 6.5\n",
       "\\item 20\n",
       "\\item 15.5\n",
       "\\item 11\n",
       "\\item 17.5\n",
       "\\item 13.5\n",
       "\\item 15.5\n",
       "\\item 4.5\n",
       "\\item 2.5\n",
       "\\item 13.5\n",
       "\\item 11\n",
       "\\item 17.5\n",
       "\\item 8.5\n",
       "\\item 1\n",
       "\\item 8.5\n",
       "\\item 4.5\n",
       "\\item 6.5\n",
       "\\item 2.5\n",
       "\\item 11\n",
       "\\end{enumerate*}\n"
      ],
      "text/markdown": [
       "1. 19\n",
       "2. 6.5\n",
       "3. 20\n",
       "4. 15.5\n",
       "5. 11\n",
       "6. 17.5\n",
       "7. 13.5\n",
       "8. 15.5\n",
       "9. 4.5\n",
       "10. 2.5\n",
       "11. 13.5\n",
       "12. 11\n",
       "13. 17.5\n",
       "14. 8.5\n",
       "15. 1\n",
       "16. 8.5\n",
       "17. 4.5\n",
       "18. 6.5\n",
       "19. 2.5\n",
       "20. 11\n",
       "\n",
       "\n"
      ],
      "text/plain": [
       " [1] 19.0  6.5 20.0 15.5 11.0 17.5 13.5 15.5  4.5  2.5 13.5 11.0 17.5  8.5  1.0\n",
       "[16]  8.5  4.5  6.5  2.5 11.0"
      ]
     },
     "metadata": {},
     "output_type": "display_data"
    },
    {
     "data": {
      "text/html": [
       "<style>\n",
       ".list-inline {list-style: none; margin:0; padding: 0}\n",
       ".list-inline>li {display: inline-block}\n",
       ".list-inline>li:not(:last-child)::after {content: \"\\00b7\"; padding: 0 .5ex}\n",
       "</style>\n",
       "<ol class=list-inline><li>89.5</li><li>78</li><li>42.5</li></ol>\n"
      ],
      "text/latex": [
       "\\begin{enumerate*}\n",
       "\\item 89.5\n",
       "\\item 78\n",
       "\\item 42.5\n",
       "\\end{enumerate*}\n"
      ],
      "text/markdown": [
       "1. 89.5\n",
       "2. 78\n",
       "3. 42.5\n",
       "\n",
       "\n"
      ],
      "text/plain": [
       "[1] 89.5 78.0 42.5"
      ]
     },
     "metadata": {},
     "output_type": "display_data"
    },
    {
     "data": {
      "text/html": [
       "<style>\n",
       ".list-inline {list-style: none; margin:0; padding: 0}\n",
       ".list-inline>li {display: inline-block}\n",
       ".list-inline>li:not(:last-child)::after {content: \"\\00b7\"; padding: 0 .5ex}\n",
       "</style>\n",
       "<ol class=list-inline><li>6</li><li>7</li><li>7</li></ol>\n"
      ],
      "text/latex": [
       "\\begin{enumerate*}\n",
       "\\item 6\n",
       "\\item 7\n",
       "\\item 7\n",
       "\\end{enumerate*}\n"
      ],
      "text/markdown": [
       "1. 6\n",
       "2. 7\n",
       "3. 7\n",
       "\n",
       "\n"
      ],
      "text/plain": [
       "[1] 6 7 7"
      ]
     },
     "metadata": {},
     "output_type": "display_data"
    }
   ],
   "source": [
    "# Sum of ranks treatment\n",
    "\n",
    "groupsTotalRanks = c()\n",
    "groupsLengths = c()\n",
    "\n",
    "indexes = rank(sampleData)\n",
    "indexes\n",
    "for (group in groups) {\n",
    "    group = na.omit(group) #because we don't want to calculate the NA values\n",
    "    groupLength = length(group)\n",
    "    groupRanks = head(indexes, groupLength)\n",
    "    indexes = tail(indexes, -groupLength)\n",
    "    groupsTotalRanks = c(groupsTotalRanks, sum(groupRanks))\n",
    "    groupsLengths = c(groupsLengths, groupLength)\n",
    "}\n",
    "groupsTotalRanks\n",
    "groupsLengths\n",
    "\n",
    "stopifnot(length(groupsTotalRanks) == length(groupsLengths))"
   ]
  },
  {
   "cell_type": "code",
   "execution_count": 5,
   "id": "d03e922b",
   "metadata": {},
   "outputs": [
    {
     "data": {
      "text/html": [
       "257.220238095238"
      ],
      "text/latex": [
       "257.220238095238"
      ],
      "text/markdown": [
       "257.220238095238"
      ],
      "text/plain": [
       "[1] 257.2202"
      ]
     },
     "metadata": {},
     "output_type": "display_data"
    }
   ],
   "source": [
    "V = 0\n",
    "\n",
    "for (i in 1:length(groupsLengths)) {\n",
    "    thisGroupTotalRanks = groupsTotalRanks[i]\n",
    "    thisGroupLength = groupsLengths[i]\n",
    "    thisGroupMean = thisGroupTotalRanks / thisGroupLength\n",
    "    \n",
    "    V = V + thisGroupLength*(thisGroupMean - overallMean)^2\n",
    "}\n",
    "\n",
    "V"
   ]
  },
  {
   "cell_type": "code",
   "execution_count": 6,
   "id": "95dfe703",
   "metadata": {},
   "outputs": [
    {
     "data": {
      "text/html": [
       "7.34914965986394"
      ],
      "text/latex": [
       "7.34914965986394"
      ],
      "text/markdown": [
       "7.34914965986394"
      ],
      "text/plain": [
       "[1] 7.34915"
      ]
     },
     "metadata": {},
     "output_type": "display_data"
    }
   ],
   "source": [
    "### Test statistic\n",
    "H = (12*V)/(n*(n+1))\n",
    "H"
   ]
  },
  {
   "cell_type": "code",
   "execution_count": 7,
   "id": "dd84ebb6",
   "metadata": {},
   "outputs": [
    {
     "data": {
      "text/html": [
       "5.99146454710798"
      ],
      "text/latex": [
       "5.99146454710798"
      ],
      "text/markdown": [
       "5.99146454710798"
      ],
      "text/plain": [
       "[1] 5.991465"
      ]
     },
     "metadata": {},
     "output_type": "display_data"
    }
   ],
   "source": [
    "### This always an upper tail test, since chi^2 is not a symmetric distribution\n",
    "### The degrees of freedom refer to the groups in the sample. \n",
    "\n",
    "df = length(groups)-1\n",
    "\n",
    "criticalValue = qchisq(1-alpha, df)\n",
    "criticalValue"
   ]
  },
  {
   "cell_type": "markdown",
   "id": "a3065bbf",
   "metadata": {},
   "source": [
    "If the test statistic is within the region of rejection (above the critical value), then we can reject the null hypothesis"
   ]
  },
  {
   "cell_type": "code",
   "execution_count": null,
   "id": "ad3d1ead",
   "metadata": {},
   "outputs": [],
   "source": []
  }
 ],
 "metadata": {
  "kernelspec": {
   "display_name": "R",
   "language": "R",
   "name": "ir"
  },
  "language_info": {
   "codemirror_mode": "r",
   "file_extension": ".r",
   "mimetype": "text/x-r-source",
   "name": "R",
   "pygments_lexer": "r",
   "version": "3.6.3"
  }
 },
 "nbformat": 4,
 "nbformat_minor": 5
}
