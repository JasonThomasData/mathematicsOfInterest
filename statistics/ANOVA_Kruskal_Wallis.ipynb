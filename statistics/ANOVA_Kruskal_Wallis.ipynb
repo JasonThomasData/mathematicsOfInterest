{
 "cells": [
  {
   "cell_type": "markdown",
   "id": "7dcf2bb2",
   "metadata": {},
   "source": [
    "### Anova (analysis of variance), non-parametric test\n",
    "\n",
    "If you have several samples that you think might be different then you can do an ANOVA test. \n",
    "\n",
    "The Kruskal Wallis test is useful when the assumptions for an ANOVA test are not met. This is a non-parametric test.\n"
   ]
  },
  {
   "cell_type": "code",
   "execution_count": 11,
   "id": "1f12e5a4",
   "metadata": {},
   "outputs": [
    {
     "data": {
      "text/html": [
       "<table class=\"dataframe\">\n",
       "<caption>A data.frame: 8 × 3</caption>\n",
       "<thead>\n",
       "\t<tr><th scope=col>a</th><th scope=col>b</th><th scope=col>c</th></tr>\n",
       "\t<tr><th scope=col>&lt;dbl&gt;</th><th scope=col>&lt;dbl&gt;</th><th scope=col>&lt;dbl&gt;</th></tr>\n",
       "</thead>\n",
       "<tbody>\n",
       "\t<tr><td>65</td><td>75</td><td>59</td></tr>\n",
       "\t<tr><td>87</td><td>71</td><td>78</td></tr>\n",
       "\t<tr><td>73</td><td>83</td><td>67</td></tr>\n",
       "\t<tr><td>79</td><td>82</td><td>62</td></tr>\n",
       "\t<tr><td>81</td><td>66</td><td>84</td></tr>\n",
       "\t<tr><td>69</td><td>56</td><td>58</td></tr>\n",
       "\t<tr><td>64</td><td>NA</td><td>61</td></tr>\n",
       "\t<tr><td>NA</td><td>NA</td><td>63</td></tr>\n",
       "</tbody>\n",
       "</table>\n"
      ],
      "text/latex": [
       "A data.frame: 8 × 3\n",
       "\\begin{tabular}{lll}\n",
       " a & b & c\\\\\n",
       " <dbl> & <dbl> & <dbl>\\\\\n",
       "\\hline\n",
       "\t 65 & 75 & 59\\\\\n",
       "\t 87 & 71 & 78\\\\\n",
       "\t 73 & 83 & 67\\\\\n",
       "\t 79 & 82 & 62\\\\\n",
       "\t 81 & 66 & 84\\\\\n",
       "\t 69 & 56 & 58\\\\\n",
       "\t 64 & NA & 61\\\\\n",
       "\t NA & NA & 63\\\\\n",
       "\\end{tabular}\n"
      ],
      "text/markdown": [
       "\n",
       "A data.frame: 8 × 3\n",
       "\n",
       "| a &lt;dbl&gt; | b &lt;dbl&gt; | c &lt;dbl&gt; |\n",
       "|---|---|---|\n",
       "| 65 | 75 | 59 |\n",
       "| 87 | 71 | 78 |\n",
       "| 73 | 83 | 67 |\n",
       "| 79 | 82 | 62 |\n",
       "| 81 | 66 | 84 |\n",
       "| 69 | 56 | 58 |\n",
       "| 64 | NA | 61 |\n",
       "| NA | NA | 63 |\n",
       "\n"
      ],
      "text/plain": [
       "  a  b  c \n",
       "1 65 75 59\n",
       "2 87 71 78\n",
       "3 73 83 67\n",
       "4 79 82 62\n",
       "5 81 66 84\n",
       "6 69 56 58\n",
       "7 64 NA 61\n",
       "8 NA NA 63"
      ]
     },
     "metadata": {},
     "output_type": "display_data"
    },
    {
     "data": {
      "text/html": [
       "<style>\n",
       ".list-inline {list-style: none; margin:0; padding: 0}\n",
       ".list-inline>li {display: inline-block}\n",
       ".list-inline>li:not(:last-child)::after {content: \"\\00b7\"; padding: 0 .5ex}\n",
       "</style>\n",
       "<ol class=list-inline><li>65</li><li>87</li><li>73</li><li>79</li><li>81</li><li>69</li><li>64</li><li>75</li><li>71</li><li>83</li><li>82</li><li>66</li><li>56</li><li>59</li><li>78</li><li>67</li><li>62</li><li>84</li><li>58</li><li>61</li><li>63</li></ol>\n"
      ],
      "text/latex": [
       "\\begin{enumerate*}\n",
       "\\item 65\n",
       "\\item 87\n",
       "\\item 73\n",
       "\\item 79\n",
       "\\item 81\n",
       "\\item 69\n",
       "\\item 64\n",
       "\\item 75\n",
       "\\item 71\n",
       "\\item 83\n",
       "\\item 82\n",
       "\\item 66\n",
       "\\item 56\n",
       "\\item 59\n",
       "\\item 78\n",
       "\\item 67\n",
       "\\item 62\n",
       "\\item 84\n",
       "\\item 58\n",
       "\\item 61\n",
       "\\item 63\n",
       "\\end{enumerate*}\n"
      ],
      "text/markdown": [
       "1. 65\n",
       "2. 87\n",
       "3. 73\n",
       "4. 79\n",
       "5. 81\n",
       "6. 69\n",
       "7. 64\n",
       "8. 75\n",
       "9. 71\n",
       "10. 83\n",
       "11. 82\n",
       "12. 66\n",
       "13. 56\n",
       "14. 59\n",
       "15. 78\n",
       "16. 67\n",
       "17. 62\n",
       "18. 84\n",
       "19. 58\n",
       "20. 61\n",
       "21. 63\n",
       "\n",
       "\n"
      ],
      "text/plain": [
       " [1] 65 87 73 79 81 69 64 75 71 83 82 66 56 59 78 67 62 84 58 61 63"
      ]
     },
     "metadata": {},
     "output_type": "display_data"
    }
   ],
   "source": [
    "### The data\n",
    "\n",
    "# Because dataframes are like matrices, we must have something for blank data. Enter blanks as NA\n",
    "# This is still more elegant than a MD array...\n",
    "groups = data.frame(\n",
    "    \"a\"=c(65,87,73,79,81,69,64,NA),\n",
    "    \"b\"=c(75,71,83,82,66,56,NA,NA),\n",
    "    \"c\"=c(59,78,67,62,84,58,61,63)\n",
    ")\n",
    "groups\n",
    "\n",
    "sampleData = c()\n",
    "for (group in groups) {\n",
    "    sampleData = c(sampleData, na.omit(group)) \n",
    "}\n",
    "sampleData"
   ]
  },
  {
   "cell_type": "markdown",
   "id": "1c92b462",
   "metadata": {},
   "source": [
    "### Hypothesis\n",
    "\n",
    "$ H_0 : \\mu_1 = \\mu_2 = \\mu_3 $\n",
    "\n",
    "$ H_a : $ one or several populations are different\n",
    "\n",
    "$ \\alpha : 0.05 $"
   ]
  },
  {
   "cell_type": "code",
   "execution_count": 12,
   "id": "f5cdbbde",
   "metadata": {},
   "outputs": [],
   "source": [
    "alpha = 0.05"
   ]
  },
  {
   "cell_type": "markdown",
   "id": "87c509f0",
   "metadata": {},
   "source": [
    "### Samples' mean ranks\n",
    "\n",
    "If you found a rank for every datum in the data then found the average for those, then you would have:\n",
    "\n",
    "The sum : $ \\sum_{i=1}^n {i} = \\frac{n(n+1)}{2} $\n",
    "\n",
    "And then the average: $ \\large \\frac{\\sum_{i=1}^n {i}}{n} $\n",
    "\n",
    "$ \\therefore \\large \\frac{\\frac{n(n+1)}{2}}{n} $\n",
    "\n",
    "$ \\therefore \\frac{(n+1)}{2} $\n"
   ]
  },
  {
   "cell_type": "code",
   "execution_count": 3,
   "id": "e2f31663",
   "metadata": {},
   "outputs": [
    {
     "data": {
      "text/html": [
       "11"
      ],
      "text/latex": [
       "11"
      ],
      "text/markdown": [
       "11"
      ],
      "text/plain": [
       "[1] 11"
      ]
     },
     "metadata": {},
     "output_type": "display_data"
    }
   ],
   "source": [
    "# Sample's ranks mean (overall mean)\n",
    "\n",
    "n = 0\n",
    "\n",
    "for (group in groups) {\n",
    "    group = na.omit(group) #because we don't want to calculate the NA values\n",
    "    n = n + length(group)\n",
    "}\n",
    "\n",
    "overallMean = (n+1)/2\n",
    "overallMean"
   ]
  },
  {
   "cell_type": "markdown",
   "id": "0ca9b98d",
   "metadata": {},
   "source": [
    "### Test statistic\n",
    "\n",
    "let:\n",
    "\n",
    "$ k $ be the number of groups\n",
    "\n",
    "$ R_i = \\large \\frac{n_i(n_i + 1)}{2} $ be the sum of ranks in a group\n",
    "\n",
    "$ R = \\large \\frac{n(n + 1)}{2} $ be the sum of ranks overall\n",
    "\n",
    "$ \\bar{R_i} = \\large \\frac{R_i}{n_i} $ be the average rank in a group\n",
    "\n",
    "$ \\bar{R} = \\large \\frac{R}{n} $ be the overall mean (of ranks)\n",
    "\n",
    "$ V = \\sum_{i=1}^k n_i \\left( \\bar{R_i} - \\bar{R} \\right)^2 $\n",
    "\n",
    "$ H = \\frac{12V}{n(n+1)} $ the the test statistic"
   ]
  },
  {
   "cell_type": "code",
   "execution_count": 4,
   "id": "9add42fb",
   "metadata": {},
   "outputs": [],
   "source": [
    "# Sum of ranks treatment\n",
    "\n",
    "groupsTotalRanks = c()\n",
    "groupsLengths = c()\n",
    "\n",
    "indexes = rank(sampleData)\n",
    "for (group in groups) {\n",
    "    group = na.omit(group) #because we don't want to calculate the NA values\n",
    "    groupLength = length(group)\n",
    "    groupRanks = head(indexes, groupLength)\n",
    "    indexes = tail(indexes, -groupLength)\n",
    "    groupsTotalRanks = c(groupsTotalRanks, sum(groupRanks))\n",
    "    groupsLengths = c(groupsLengths, groupLength)\n",
    "}\n",
    "\n",
    "stopifnot(length(groupsTotalRanks) == length(groupsLengths))"
   ]
  },
  {
   "cell_type": "code",
   "execution_count": 5,
   "id": "fd91d385",
   "metadata": {},
   "outputs": [],
   "source": [
    "V = 0\n",
    "\n",
    "for (i in 1:length(groupsLengths)) {\n",
    "    thisGroupTotalRanks = groupsTotalRanks[i]\n",
    "    thisGroupLength = groupsLengths[i]\n",
    "    thisGroupMean = thisGroupTotalRanks / thisGroupLength\n",
    "    \n",
    "    V = V + thisGroupLength*(thisGroupMean - overallMean)^2\n",
    "}"
   ]
  },
  {
   "cell_type": "code",
   "execution_count": 6,
   "id": "5bc71c7d",
   "metadata": {},
   "outputs": [
    {
     "data": {
      "text/html": [
       "2.8795609152752"
      ],
      "text/latex": [
       "2.8795609152752"
      ],
      "text/markdown": [
       "2.8795609152752"
      ],
      "text/plain": [
       "[1] 2.879561"
      ]
     },
     "metadata": {},
     "output_type": "display_data"
    }
   ],
   "source": [
    "### Test statistic\n",
    "\n",
    "H = (12*V)/(n*(n+1))\n",
    "H"
   ]
  },
  {
   "cell_type": "code",
   "execution_count": 10,
   "id": "19b72a4a",
   "metadata": {},
   "outputs": [
    {
     "data": {
      "text/html": [
       "5.99146454710798"
      ],
      "text/latex": [
       "5.99146454710798"
      ],
      "text/markdown": [
       "5.99146454710798"
      ],
      "text/plain": [
       "[1] 5.991465"
      ]
     },
     "metadata": {},
     "output_type": "display_data"
    }
   ],
   "source": [
    "### This always an upper tail test, since chi^2 is not a symmetric distribution\n",
    "### The degrees of freedom refer to the groups in the sample. \n",
    "\n",
    "df = length(groups)-1\n",
    "\n",
    "criticalValue = qchisq(1-alpha, df)\n",
    "criticalValue"
   ]
  },
  {
   "cell_type": "markdown",
   "id": "a3065bbf",
   "metadata": {},
   "source": [
    "If the test statistic is within the region of rejection, then, we can reject the null hypothesis"
   ]
  }
 ],
 "metadata": {
  "kernelspec": {
   "display_name": "R",
   "language": "R",
   "name": "ir"
  },
  "language_info": {
   "codemirror_mode": "r",
   "file_extension": ".r",
   "mimetype": "text/x-r-source",
   "name": "R",
   "pygments_lexer": "r",
   "version": "3.6.3"
  }
 },
 "nbformat": 4,
 "nbformat_minor": 5
}
