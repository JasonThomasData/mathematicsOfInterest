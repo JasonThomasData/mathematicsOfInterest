{
 "cells": [
  {
   "cell_type": "markdown",
   "id": "7dcf2bb2",
   "metadata": {},
   "source": [
    "### Anova (analysis of variance)\n",
    "\n",
    "If you have several samples that you think might be different then you can do an ANOVA test. This is useful because testing to see if there's a difference between more than two groups would require several tests.\n",
    "\n",
    "ANOVA helps us to check: is the variance within a group due to the variance between groups?\n",
    "\n",
    "There is some terminology to be aware of:\n",
    "\n",
    "Firstly, recall these definitions:\n",
    "\n",
    "Degrees of freedom : $ \\nu = n - 1 $, where n is the length of data\n",
    "\n",
    "Sum of squares : $ \\sum{(x_i - \\bar{x})^2} $ \n",
    "\n",
    "Variance: $ \\sigma^2 = \\frac{\\sum{(x_i - \\bar{x})^2}}{n} $\n",
    "\n",
    "And there are some new terms\n",
    "\n",
    "Overall mean $ \\bar{x} $ : the mean for all data points in the entire sample. Otherwise just the sample mean\n",
    "\n",
    "Sum of Squares Total (SST) - Variance for all data points from $ \\bar{x} $\n",
    "\n",
    "Sum of Squares Treatment (SStr) - Variance between groups (variance of group means)\n",
    "\n",
    "Sum of Squares Errors (SSE) - Variation inside groups (distance from group element to group mean)\n"
   ]
  },
  {
   "cell_type": "code",
   "execution_count": 1,
   "id": "1f12e5a4",
   "metadata": {},
   "outputs": [
    {
     "data": {
      "text/html": [
       "<table class=\"dataframe\">\n",
       "<caption>A data.frame: 4 × 3</caption>\n",
       "<thead>\n",
       "\t<tr><th scope=col>a</th><th scope=col>b</th><th scope=col>c</th></tr>\n",
       "\t<tr><th scope=col>&lt;dbl&gt;</th><th scope=col>&lt;dbl&gt;</th><th scope=col>&lt;dbl&gt;</th></tr>\n",
       "</thead>\n",
       "<tbody>\n",
       "\t<tr><td>2</td><td>3</td><td>5</td></tr>\n",
       "\t<tr><td>2</td><td>4</td><td>6</td></tr>\n",
       "\t<tr><td>3</td><td>4</td><td>6</td></tr>\n",
       "\t<tr><td>1</td><td>5</td><td>7</td></tr>\n",
       "</tbody>\n",
       "</table>\n"
      ],
      "text/latex": [
       "A data.frame: 4 × 3\n",
       "\\begin{tabular}{lll}\n",
       " a & b & c\\\\\n",
       " <dbl> & <dbl> & <dbl>\\\\\n",
       "\\hline\n",
       "\t 2 & 3 & 5\\\\\n",
       "\t 2 & 4 & 6\\\\\n",
       "\t 3 & 4 & 6\\\\\n",
       "\t 1 & 5 & 7\\\\\n",
       "\\end{tabular}\n"
      ],
      "text/markdown": [
       "\n",
       "A data.frame: 4 × 3\n",
       "\n",
       "| a &lt;dbl&gt; | b &lt;dbl&gt; | c &lt;dbl&gt; |\n",
       "|---|---|---|\n",
       "| 2 | 3 | 5 |\n",
       "| 2 | 4 | 6 |\n",
       "| 3 | 4 | 6 |\n",
       "| 1 | 5 | 7 |\n",
       "\n"
      ],
      "text/plain": [
       "  a b c\n",
       "1 2 3 5\n",
       "2 2 4 6\n",
       "3 3 4 6\n",
       "4 1 5 7"
      ]
     },
     "metadata": {},
     "output_type": "display_data"
    },
    {
     "data": {
      "text/html": [
       "<style>\n",
       ".list-inline {list-style: none; margin:0; padding: 0}\n",
       ".list-inline>li {display: inline-block}\n",
       ".list-inline>li:not(:last-child)::after {content: \"\\00b7\"; padding: 0 .5ex}\n",
       "</style>\n",
       "<ol class=list-inline><li>2</li><li>2</li><li>3</li><li>1</li><li>3</li><li>4</li><li>4</li><li>5</li><li>5</li><li>6</li><li>6</li><li>7</li></ol>\n"
      ],
      "text/latex": [
       "\\begin{enumerate*}\n",
       "\\item 2\n",
       "\\item 2\n",
       "\\item 3\n",
       "\\item 1\n",
       "\\item 3\n",
       "\\item 4\n",
       "\\item 4\n",
       "\\item 5\n",
       "\\item 5\n",
       "\\item 6\n",
       "\\item 6\n",
       "\\item 7\n",
       "\\end{enumerate*}\n"
      ],
      "text/markdown": [
       "1. 2\n",
       "2. 2\n",
       "3. 3\n",
       "4. 1\n",
       "5. 3\n",
       "6. 4\n",
       "7. 4\n",
       "8. 5\n",
       "9. 5\n",
       "10. 6\n",
       "11. 6\n",
       "12. 7\n",
       "\n",
       "\n"
      ],
      "text/plain": [
       " [1] 2 2 3 1 3 4 4 5 5 6 6 7"
      ]
     },
     "metadata": {},
     "output_type": "display_data"
    }
   ],
   "source": [
    "### The data\n",
    "\n",
    "# Because dataframes are like matrices, we must have something for blank data. Enter blanks as NA\n",
    "# This is still more elegant than a MD array...\n",
    "groups = data.frame(\n",
    "    \"a\"=c(2,2,3,1),\n",
    "    \"b\"=c(3,4,4,5),\n",
    "    \"c\"=c(5,6,6,7)\n",
    ")\n",
    "groups\n",
    "\n",
    "sampleData = c()\n",
    "for (group in groups) {\n",
    "    sampleData = c(sampleData, na.omit(group)) \n",
    "}\n",
    "sampleData"
   ]
  },
  {
   "cell_type": "markdown",
   "id": "1c92b462",
   "metadata": {},
   "source": [
    "### Hypothesis\n",
    "\n",
    "$ H_0 : \\mu_1 = \\mu_2 = \\mu_3 $\n",
    "\n",
    "$ H_a : $ one or several populations are different\n",
    "\n",
    "$ \\alpha : 0.05 $"
   ]
  },
  {
   "cell_type": "code",
   "execution_count": 2,
   "id": "f5cdbbde",
   "metadata": {},
   "outputs": [],
   "source": [
    "alpha = 0.05"
   ]
  },
  {
   "cell_type": "markdown",
   "id": "0ca9b98d",
   "metadata": {},
   "source": [
    "### Test statistic\n",
    "\n",
    "$ F = \\frac{SStr \\space / \\space Dtr}{SSE \\space / \\space DE} $\n",
    "\n",
    "These terms are defined below"
   ]
  },
  {
   "cell_type": "code",
   "execution_count": 3,
   "id": "e2f31663",
   "metadata": {},
   "outputs": [
    {
     "data": {
      "text/html": [
       "4"
      ],
      "text/latex": [
       "4"
      ],
      "text/markdown": [
       "4"
      ],
      "text/plain": [
       "[1] 4"
      ]
     },
     "metadata": {},
     "output_type": "display_data"
    }
   ],
   "source": [
    "# Sample mean (overall mean)\n",
    "\n",
    "sampleMean = mean(sampleData)\n",
    "sampleMean"
   ]
  },
  {
   "cell_type": "code",
   "execution_count": 4,
   "id": "3dc43feb",
   "metadata": {
    "scrolled": true
   },
   "outputs": [
    {
     "data": {
      "text/html": [
       "38"
      ],
      "text/latex": [
       "38"
      ],
      "text/markdown": [
       "38"
      ],
      "text/plain": [
       "[1] 38"
      ]
     },
     "metadata": {},
     "output_type": "display_data"
    }
   ],
   "source": [
    "# Sum of squares total\n",
    "\n",
    "SST = 0\n",
    "for (sampleDatum in sampleData) {\n",
    "    SST = SST + (sampleDatum - sampleMean)^2\n",
    "}\n",
    "SST"
   ]
  },
  {
   "cell_type": "code",
   "execution_count": 5,
   "id": "a404804e",
   "metadata": {},
   "outputs": [
    {
     "data": {
      "text/html": [
       "11"
      ],
      "text/latex": [
       "11"
      ],
      "text/markdown": [
       "11"
      ],
      "text/plain": [
       "[1] 11"
      ]
     },
     "metadata": {},
     "output_type": "display_data"
    }
   ],
   "source": [
    "# Degrees of freedom total\n",
    "\n",
    "DFT = length(sampleData) - 1\n",
    "DFT"
   ]
  },
  {
   "cell_type": "code",
   "execution_count": 6,
   "id": "9add42fb",
   "metadata": {},
   "outputs": [
    {
     "data": {
      "text/html": [
       "32"
      ],
      "text/latex": [
       "32"
      ],
      "text/markdown": [
       "32"
      ],
      "text/plain": [
       "[1] 32"
      ]
     },
     "metadata": {},
     "output_type": "display_data"
    }
   ],
   "source": [
    "# Sum of squares treatment\n",
    "\n",
    "SStr = 0\n",
    "for (group in groups) {\n",
    "    group = na.omit(group) #because we don't want to calculate the NA values\n",
    "    groupMean = mean(group)\n",
    "    groupLength = length(group)\n",
    "    SStr = SStr + (groupMean - sampleMean)^2 * groupLength\n",
    "}\n",
    "SStr"
   ]
  },
  {
   "cell_type": "code",
   "execution_count": 7,
   "id": "ef842631",
   "metadata": {},
   "outputs": [
    {
     "data": {
      "text/html": [
       "2"
      ],
      "text/latex": [
       "2"
      ],
      "text/markdown": [
       "2"
      ],
      "text/plain": [
       "[1] 2"
      ]
     },
     "metadata": {},
     "output_type": "display_data"
    }
   ],
   "source": [
    "# Degrees of freedom treatment\n",
    "\n",
    "DFtr = length(groups) - 1\n",
    "DFtr"
   ]
  },
  {
   "cell_type": "code",
   "execution_count": 8,
   "id": "d8546653",
   "metadata": {},
   "outputs": [
    {
     "data": {
      "text/html": [
       "6"
      ],
      "text/latex": [
       "6"
      ],
      "text/markdown": [
       "6"
      ],
      "text/plain": [
       "[1] 6"
      ]
     },
     "metadata": {},
     "output_type": "display_data"
    }
   ],
   "source": [
    "# Sum of squares errors\n",
    "\n",
    "SSE = 0\n",
    "for (group in groups) {\n",
    "    group = na.omit(group) #because we don't want to calculate the NA values\n",
    "    groupMean = mean(group)\n",
    "    for (value in group) {\n",
    "        SSE = SSE + (value - groupMean)^2\n",
    "    }\n",
    "}\n",
    "SSE"
   ]
  },
  {
   "cell_type": "code",
   "execution_count": 9,
   "id": "2946729c",
   "metadata": {},
   "outputs": [
    {
     "data": {
      "text/html": [
       "9"
      ],
      "text/latex": [
       "9"
      ],
      "text/markdown": [
       "9"
      ],
      "text/plain": [
       "[1] 9"
      ]
     },
     "metadata": {},
     "output_type": "display_data"
    }
   ],
   "source": [
    "# Degrees of freedom errors\n",
    "\n",
    "# With SSE, we are measuring each data point's distance from the mean of that group.\n",
    "# Therefore each group has its own degrees of freedom\n",
    "\n",
    "DFE = length(sampleData) - length(groups)\n",
    "DFE"
   ]
  },
  {
   "cell_type": "code",
   "execution_count": 10,
   "id": "bc4e24c2",
   "metadata": {},
   "outputs": [],
   "source": [
    "# ACID TEST\n",
    "# This should be true. If it's not there is something broken\n",
    "\n",
    "stopifnot(SST == SStr + SSE)\n",
    "stopifnot(DFT == DFtr + DFE)"
   ]
  },
  {
   "cell_type": "code",
   "execution_count": 15,
   "id": "6f924843",
   "metadata": {},
   "outputs": [
    {
     "data": {
      "text/html": [
       "24"
      ],
      "text/latex": [
       "24"
      ],
      "text/markdown": [
       "24"
      ],
      "text/plain": [
       "[1] 24"
      ]
     },
     "metadata": {},
     "output_type": "display_data"
    }
   ],
   "source": [
    "# And now, the test statistic\n",
    "\n",
    "testStatistic = (SStr / DFtr) / (SSE / DFE)\n",
    "testStatistic"
   ]
  },
  {
   "cell_type": "code",
   "execution_count": 16,
   "id": "3a454082",
   "metadata": {},
   "outputs": [
    {
     "data": {
      "text/html": [
       "4.25649472909375"
      ],
      "text/latex": [
       "4.25649472909375"
      ],
      "text/markdown": [
       "4.25649472909375"
      ],
      "text/plain": [
       "[1] 4.256495"
      ]
     },
     "metadata": {},
     "output_type": "display_data"
    }
   ],
   "source": [
    "# Compared to the value given by the F distribution\n",
    "# If the alpha is 0.5, then the fScore is the critical value that defines the lower end for the region of rejection\n",
    "\n",
    "criticalValue = qf(1-alpha, df1 = DFtr, df2 = DFE)\n",
    "criticalValue"
   ]
  },
  {
   "cell_type": "markdown",
   "id": "a3065bbf",
   "metadata": {},
   "source": [
    "If the test statistic is within the region of rejection, then, we can reject the null hypothesis"
   ]
  }
 ],
 "metadata": {
  "kernelspec": {
   "display_name": "R",
   "language": "R",
   "name": "ir"
  },
  "language_info": {
   "codemirror_mode": "r",
   "file_extension": ".r",
   "mimetype": "text/x-r-source",
   "name": "R",
   "pygments_lexer": "r",
   "version": "3.6.3"
  }
 },
 "nbformat": 4,
 "nbformat_minor": 5
}
