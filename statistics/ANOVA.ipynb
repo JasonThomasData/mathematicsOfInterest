{
 "cells": [
  {
   "cell_type": "markdown",
   "id": "7dcf2bb2",
   "metadata": {},
   "source": [
    "### Anova (analysis of variance)\n",
    "\n",
    "If you have several samples that you think might be different then you can do an ANOVA test. This is useful because testing to see if there's a difference between more than two groups would require several tests.\n",
    "\n",
    "ANOVA helps us to check: is the variance within a group due to the variance between groups?\n",
    "\n",
    "There is some terminology to be aware of:\n",
    "\n",
    "Firstly, recall these definitions:\n",
    "\n",
    "Degrees of freedom : $ \\nu = n - 1 $, where n is the length of data\n",
    "\n",
    "Sum of squares : $ \\sum{(x_i - \\bar{x})^2} $ \n",
    "\n",
    "Variance: $ \\sigma^2 = \\frac{\\sum{(x_i - \\bar{x})^2}}{n} $\n",
    "\n",
    "And there are some new terms\n",
    "\n",
    "Overall mean $ \\bar{x} $ : the mean for all data points in the entire sample. Otherwise just the sample mean\n",
    "\n",
    "$ m $ - the number of groups being compared\n",
    "\n",
    "$ n $ - the total length of data\n",
    "\n",
    "Sum of Squares Treatment (SStr or SSR) - Variance between groups (variance of group means). Also known as \"explained variation\" in linear regression.\n",
    "\n",
    "Sum of Squares Errors (SSE) - Variation inside groups (distance from group element to group mean). Also known as \"unexplained variation\" in linear regression.\n",
    "\n",
    "Sum of Squares Total (SST) - Variance for all data points from $ \\bar{x}. Sometimes known as $ S_{yy} $\n",
    "\n",
    "Degrees of Freedom Treatment (DFtr) - $ m - 1 $\n",
    "\n",
    "Degrees of Freedom Error (DFE) - $ n - m $\n",
    "\n",
    "Degrees of Freedom Total (DFT) - $ n - 1 $\n",
    "\n",
    "Mean-Squared Treatment (MStr) - $ SStr / DFtr $\n",
    "\n",
    "Mean-Squared Error (MSE) - $ SSE / DFE $"
   ]
  },
  {
   "cell_type": "markdown",
   "id": "86ce759c",
   "metadata": {},
   "source": [
    "### Anova Table\n",
    "\n",
    "A common way to represent the data used in ANOVA is with this tabular layout. Replace each cell with the appriate value:\n",
    "\n",
    "| Source (of variance) | Sum of Squares | Degrees of Freedom | Mean-Square        | F or Test Statistic |\n",
    "| :------------------- | :------------- | :----------------- | :----------------- | :------------------ |\n",
    "| Treatments           | SStr           | DFtr = $ m - 1 $   | MStr = SStr / DFtr | MStr / MSE          |\n",
    "| Error or Residuals   | SSE            | DFE = $ n - m $    | MSE = SSE / DFE    |\n",
    "| Total                | SST (SSR+SSE)  | DFT = $ n - 1 $    | \n",
    "\n",
    "In the case of linear regression, this table is useful for comparing the SStr and SSE. If the SSE is large then that is an indication we could adopt a better model, perhaps."
   ]
  },
  {
   "cell_type": "code",
   "execution_count": 1,
   "id": "1f12e5a4",
   "metadata": {},
   "outputs": [
    {
     "data": {
      "text/html": [
       "<table class=\"dataframe\">\n",
       "<caption>A data.frame: 7 × 3</caption>\n",
       "<thead>\n",
       "\t<tr><th scope=col>a</th><th scope=col>b</th><th scope=col>c</th></tr>\n",
       "\t<tr><th scope=col>&lt;dbl&gt;</th><th scope=col>&lt;dbl&gt;</th><th scope=col>&lt;dbl&gt;</th></tr>\n",
       "</thead>\n",
       "<tbody>\n",
       "\t<tr><td>20.0</td><td>14.5</td><td> 9.0</td></tr>\n",
       "\t<tr><td> 6.5</td><td>16.5</td><td> 1.0</td></tr>\n",
       "\t<tr><td>21.0</td><td> 4.5</td><td> 9.0</td></tr>\n",
       "\t<tr><td>16.5</td><td> 2.5</td><td> 4.5</td></tr>\n",
       "\t<tr><td>12.0</td><td>14.5</td><td> 6.5</td></tr>\n",
       "\t<tr><td>18.5</td><td>12.0</td><td> 2.5</td></tr>\n",
       "\t<tr><td>  NA</td><td>18.5</td><td>12.5</td></tr>\n",
       "</tbody>\n",
       "</table>\n"
      ],
      "text/latex": [
       "A data.frame: 7 × 3\n",
       "\\begin{tabular}{lll}\n",
       " a & b & c\\\\\n",
       " <dbl> & <dbl> & <dbl>\\\\\n",
       "\\hline\n",
       "\t 20.0 & 14.5 &  9.0\\\\\n",
       "\t  6.5 & 16.5 &  1.0\\\\\n",
       "\t 21.0 &  4.5 &  9.0\\\\\n",
       "\t 16.5 &  2.5 &  4.5\\\\\n",
       "\t 12.0 & 14.5 &  6.5\\\\\n",
       "\t 18.5 & 12.0 &  2.5\\\\\n",
       "\t   NA & 18.5 & 12.5\\\\\n",
       "\\end{tabular}\n"
      ],
      "text/markdown": [
       "\n",
       "A data.frame: 7 × 3\n",
       "\n",
       "| a &lt;dbl&gt; | b &lt;dbl&gt; | c &lt;dbl&gt; |\n",
       "|---|---|---|\n",
       "| 20.0 | 14.5 |  9.0 |\n",
       "|  6.5 | 16.5 |  1.0 |\n",
       "| 21.0 |  4.5 |  9.0 |\n",
       "| 16.5 |  2.5 |  4.5 |\n",
       "| 12.0 | 14.5 |  6.5 |\n",
       "| 18.5 | 12.0 |  2.5 |\n",
       "|   NA | 18.5 | 12.5 |\n",
       "\n"
      ],
      "text/plain": [
       "  a    b    c   \n",
       "1 20.0 14.5  9.0\n",
       "2  6.5 16.5  1.0\n",
       "3 21.0  4.5  9.0\n",
       "4 16.5  2.5  4.5\n",
       "5 12.0 14.5  6.5\n",
       "6 18.5 12.0  2.5\n",
       "7   NA 18.5 12.5"
      ]
     },
     "metadata": {},
     "output_type": "display_data"
    },
    {
     "data": {
      "text/html": [
       "<style>\n",
       ".list-inline {list-style: none; margin:0; padding: 0}\n",
       ".list-inline>li {display: inline-block}\n",
       ".list-inline>li:not(:last-child)::after {content: \"\\00b7\"; padding: 0 .5ex}\n",
       "</style>\n",
       "<ol class=list-inline><li>20</li><li>6.5</li><li>21</li><li>16.5</li><li>12</li><li>18.5</li><li>14.5</li><li>16.5</li><li>4.5</li><li>2.5</li><li>14.5</li><li>12</li><li>18.5</li><li>9</li><li>1</li><li>9</li><li>4.5</li><li>6.5</li><li>2.5</li><li>12.5</li></ol>\n"
      ],
      "text/latex": [
       "\\begin{enumerate*}\n",
       "\\item 20\n",
       "\\item 6.5\n",
       "\\item 21\n",
       "\\item 16.5\n",
       "\\item 12\n",
       "\\item 18.5\n",
       "\\item 14.5\n",
       "\\item 16.5\n",
       "\\item 4.5\n",
       "\\item 2.5\n",
       "\\item 14.5\n",
       "\\item 12\n",
       "\\item 18.5\n",
       "\\item 9\n",
       "\\item 1\n",
       "\\item 9\n",
       "\\item 4.5\n",
       "\\item 6.5\n",
       "\\item 2.5\n",
       "\\item 12.5\n",
       "\\end{enumerate*}\n"
      ],
      "text/markdown": [
       "1. 20\n",
       "2. 6.5\n",
       "3. 21\n",
       "4. 16.5\n",
       "5. 12\n",
       "6. 18.5\n",
       "7. 14.5\n",
       "8. 16.5\n",
       "9. 4.5\n",
       "10. 2.5\n",
       "11. 14.5\n",
       "12. 12\n",
       "13. 18.5\n",
       "14. 9\n",
       "15. 1\n",
       "16. 9\n",
       "17. 4.5\n",
       "18. 6.5\n",
       "19. 2.5\n",
       "20. 12.5\n",
       "\n",
       "\n"
      ],
      "text/plain": [
       " [1] 20.0  6.5 21.0 16.5 12.0 18.5 14.5 16.5  4.5  2.5 14.5 12.0 18.5  9.0  1.0\n",
       "[16]  9.0  4.5  6.5  2.5 12.5"
      ]
     },
     "metadata": {},
     "output_type": "display_data"
    }
   ],
   "source": [
    "### The data\n",
    "\n",
    "# Because dataframes are like matrices, we must have something for blank data. Enter blanks as NA\n",
    "# This is still more elegant than a MD array...\n",
    "groups = data.frame(\n",
    "    \"a\"=c(20  ,6.5 ,21 ,16.5,12  ,18.5, NA),\n",
    "    \"b\"=c(14.5,16.5,4.5,2.5 ,14.5,12   ,18.5),\n",
    "    \"c\"=c(9   ,1   ,9  ,4.5 ,6.5, 2.5   ,12.5)\n",
    ")\n",
    "groups\n",
    "\n",
    "sampleData = c()\n",
    "for (group in groups) {\n",
    "    sampleData = c(sampleData, na.omit(group)) \n",
    "}\n",
    "sampleData\n",
    "\n",
    "# As described in first cell\n",
    "m = length(groups)\n",
    "n = length(sampleData)"
   ]
  },
  {
   "cell_type": "markdown",
   "id": "1c92b462",
   "metadata": {},
   "source": [
    "### Hypothesis\n",
    "\n",
    "$ H_0 : \\mu_1 = \\mu_2 = \\mu_3 $\n",
    "\n",
    "$ H_a : $ one or several populations are different\n",
    "\n",
    "$ \\alpha : 0.05 $"
   ]
  },
  {
   "cell_type": "code",
   "execution_count": 2,
   "id": "f5cdbbde",
   "metadata": {},
   "outputs": [],
   "source": [
    "alpha = 0.05"
   ]
  },
  {
   "cell_type": "markdown",
   "id": "0ca9b98d",
   "metadata": {},
   "source": [
    "### Test statistic\n",
    "\n",
    "$ F = \\frac{SStr \\space / \\space Dtr}{SSE \\space / \\space DE} $\n",
    "\n",
    "These terms are defined below"
   ]
  },
  {
   "cell_type": "code",
   "execution_count": 3,
   "id": "e2f31663",
   "metadata": {},
   "outputs": [
    {
     "data": {
      "text/html": [
       "11.125"
      ],
      "text/latex": [
       "11.125"
      ],
      "text/markdown": [
       "11.125"
      ],
      "text/plain": [
       "[1] 11.125"
      ]
     },
     "metadata": {},
     "output_type": "display_data"
    }
   ],
   "source": [
    "# Sample mean (overall mean)\n",
    "\n",
    "sampleMean = mean(sampleData)\n",
    "sampleMean"
   ]
  },
  {
   "cell_type": "code",
   "execution_count": 4,
   "id": "3dc43feb",
   "metadata": {
    "scrolled": true
   },
   "outputs": [
    {
     "data": {
      "text/html": [
       "759.9375"
      ],
      "text/latex": [
       "759.9375"
      ],
      "text/markdown": [
       "759.9375"
      ],
      "text/plain": [
       "[1] 759.9375"
      ]
     },
     "metadata": {},
     "output_type": "display_data"
    }
   ],
   "source": [
    "# Sum of squares total\n",
    "\n",
    "SST = 0\n",
    "for (sampleDatum in sampleData) {\n",
    "    SST = SST + (sampleDatum - sampleMean)^2\n",
    "}\n",
    "SST"
   ]
  },
  {
   "cell_type": "code",
   "execution_count": 5,
   "id": "a404804e",
   "metadata": {},
   "outputs": [
    {
     "data": {
      "text/html": [
       "19"
      ],
      "text/latex": [
       "19"
      ],
      "text/markdown": [
       "19"
      ],
      "text/plain": [
       "[1] 19"
      ]
     },
     "metadata": {},
     "output_type": "display_data"
    }
   ],
   "source": [
    "# Degrees of freedom total\n",
    "\n",
    "DFT = n - 1\n",
    "DFT"
   ]
  },
  {
   "cell_type": "code",
   "execution_count": 6,
   "id": "9add42fb",
   "metadata": {},
   "outputs": [
    {
     "data": {
      "text/html": [
       "286.491071428571"
      ],
      "text/latex": [
       "286.491071428571"
      ],
      "text/markdown": [
       "286.491071428571"
      ],
      "text/plain": [
       "[1] 286.4911"
      ]
     },
     "metadata": {},
     "output_type": "display_data"
    }
   ],
   "source": [
    "# Sum of squares treatment\n",
    "\n",
    "SStr = 0\n",
    "for (group in groups) {\n",
    "    group = na.omit(group) #because we don't want to calculate the NA values\n",
    "    groupMean = mean(group)\n",
    "    groupLength = length(group)\n",
    "    SStr = SStr + (groupMean - sampleMean)^2 * groupLength\n",
    "}\n",
    "SStr"
   ]
  },
  {
   "cell_type": "code",
   "execution_count": 13,
   "id": "ef842631",
   "metadata": {},
   "outputs": [
    {
     "data": {
      "text/html": [
       "2"
      ],
      "text/latex": [
       "2"
      ],
      "text/markdown": [
       "2"
      ],
      "text/plain": [
       "[1] 2"
      ]
     },
     "metadata": {},
     "output_type": "display_data"
    }
   ],
   "source": [
    "# Degrees of freedom treatment\n",
    "\n",
    "DFtr = m - 1\n",
    "DFtr"
   ]
  },
  {
   "cell_type": "code",
   "execution_count": 8,
   "id": "d8546653",
   "metadata": {},
   "outputs": [
    {
     "data": {
      "text/html": [
       "473.446428571428"
      ],
      "text/latex": [
       "473.446428571428"
      ],
      "text/markdown": [
       "473.446428571428"
      ],
      "text/plain": [
       "[1] 473.4464"
      ]
     },
     "metadata": {},
     "output_type": "display_data"
    }
   ],
   "source": [
    "# Sum of squares errors\n",
    "\n",
    "SSE = 0\n",
    "for (group in groups) {\n",
    "    group = na.omit(group) #because we don't want to calculate the NA values\n",
    "    groupMean = mean(group)\n",
    "    for (value in group) {\n",
    "        SSE = SSE + (value - groupMean)^2\n",
    "    }\n",
    "}\n",
    "SSE"
   ]
  },
  {
   "cell_type": "code",
   "execution_count": 14,
   "id": "2946729c",
   "metadata": {},
   "outputs": [
    {
     "data": {
      "text/html": [
       "17"
      ],
      "text/latex": [
       "17"
      ],
      "text/markdown": [
       "17"
      ],
      "text/plain": [
       "[1] 17"
      ]
     },
     "metadata": {},
     "output_type": "display_data"
    }
   ],
   "source": [
    "# Degrees of freedom errors\n",
    "\n",
    "# With SSE, we are measuring each data point's distance from the mean of that group.\n",
    "# Therefore each group has its own degrees of freedom\n",
    "\n",
    "DFE = n - m\n",
    "DFE"
   ]
  },
  {
   "cell_type": "code",
   "execution_count": 10,
   "id": "bc4e24c2",
   "metadata": {},
   "outputs": [],
   "source": [
    "# ACID TEST\n",
    "# This should be true. If it's not there is something broken\n",
    "\n",
    "stopifnot(SST == SStr + SSE)\n",
    "stopifnot(DFT == DFtr + DFE)"
   ]
  },
  {
   "cell_type": "code",
   "execution_count": 11,
   "id": "6f924843",
   "metadata": {},
   "outputs": [
    {
     "data": {
      "text/html": [
       "5.14350507298307"
      ],
      "text/latex": [
       "5.14350507298307"
      ],
      "text/markdown": [
       "5.14350507298307"
      ],
      "text/plain": [
       "[1] 5.143505"
      ]
     },
     "metadata": {},
     "output_type": "display_data"
    }
   ],
   "source": [
    "# And now, the test statistic\n",
    "\n",
    "MStr = (SStr / DFtr)\n",
    "MSE = (SSE / DFE)\n",
    "\n",
    "testStatistic = MStr / MSE\n",
    "testStatistic"
   ]
  },
  {
   "cell_type": "code",
   "execution_count": 12,
   "id": "3a454082",
   "metadata": {},
   "outputs": [
    {
     "data": {
      "text/html": [
       "3.59153056847508"
      ],
      "text/latex": [
       "3.59153056847508"
      ],
      "text/markdown": [
       "3.59153056847508"
      ],
      "text/plain": [
       "[1] 3.591531"
      ]
     },
     "metadata": {},
     "output_type": "display_data"
    }
   ],
   "source": [
    "# Compared to the value given by the F distribution\n",
    "# If the alpha is 0.5, then the fScore is the critical value that defines the lower end for the region of rejection\n",
    "\n",
    "criticalValue = qf(1-alpha, df1 = DFtr, df2 = DFE)\n",
    "criticalValue"
   ]
  },
  {
   "cell_type": "markdown",
   "id": "a3065bbf",
   "metadata": {},
   "source": [
    "If the test statistic is within the region of rejection, then, we can reject the null hypothesis"
   ]
  }
 ],
 "metadata": {
  "kernelspec": {
   "display_name": "R",
   "language": "R",
   "name": "ir"
  },
  "language_info": {
   "codemirror_mode": "r",
   "file_extension": ".r",
   "mimetype": "text/x-r-source",
   "name": "R",
   "pygments_lexer": "r",
   "version": "3.6.3"
  }
 },
 "nbformat": 4,
 "nbformat_minor": 5
}
