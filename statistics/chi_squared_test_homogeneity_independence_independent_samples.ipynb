{
 "cells": [
  {
   "cell_type": "markdown",
   "id": "2fa4c0e2",
   "metadata": {},
   "source": [
    "### Chi-squared test for homogeneity, with independent samples\n",
    "\n",
    "Consider that you have two independent samples and you want to check if their multinomial distributions are the same in the population. Tests for independence are the same as tests for homogeneity, apart from the question they ask (the hypothesis)."
   ]
  },
  {
   "cell_type": "code",
   "execution_count": 1,
   "id": "e0e91972",
   "metadata": {},
   "outputs": [
    {
     "data": {
      "text/html": [
       "90"
      ],
      "text/latex": [
       "90"
      ],
      "text/markdown": [
       "90"
      ],
      "text/plain": [
       "[1] 90"
      ]
     },
     "metadata": {},
     "output_type": "display_data"
    },
    {
     "data": {
      "text/html": [
       "100"
      ],
      "text/latex": [
       "100"
      ],
      "text/markdown": [
       "100"
      ],
      "text/plain": [
       "[1] 100"
      ]
     },
     "metadata": {},
     "output_type": "display_data"
    },
    {
     "data": {
      "text/html": [
       "190"
      ],
      "text/latex": [
       "190"
      ],
      "text/markdown": [
       "190"
      ],
      "text/plain": [
       "[1] 190"
      ]
     },
     "metadata": {},
     "output_type": "display_data"
    },
    {
     "data": {
      "text/html": [
       "3"
      ],
      "text/latex": [
       "3"
      ],
      "text/markdown": [
       "3"
      ],
      "text/plain": [
       "[1] 3"
      ]
     },
     "metadata": {},
     "output_type": "display_data"
    }
   ],
   "source": [
    "alpha = 0.05\n",
    "\n",
    "observed_1 = c(30,40,20)\n",
    "n_1 = sum(observed_1)\n",
    "n_1\n",
    "\n",
    "observed_2 = c(45,30,25)\n",
    "n_2 = sum(observed_2)\n",
    "n_2\n",
    "\n",
    "nTotal = n_1 + n_2\n",
    "nTotal\n",
    "\n",
    "stopifnot(length(observed_1) == length(observed_2))\n",
    "\n",
    "nCategories = length(observed_1)\n",
    "nCategories"
   ]
  },
  {
   "cell_type": "code",
   "execution_count": 2,
   "id": "5a11ba2a",
   "metadata": {},
   "outputs": [
    {
     "data": {
      "text/html": [
       "<style>\n",
       ".list-inline {list-style: none; margin:0; padding: 0}\n",
       ".list-inline>li {display: inline-block}\n",
       ".list-inline>li:not(:last-child)::after {content: \"\\00b7\"; padding: 0 .5ex}\n",
       "</style>\n",
       "<ol class=list-inline><li>35.5263157894737</li><li>33.1578947368421</li><li>21.3157894736842</li></ol>\n"
      ],
      "text/latex": [
       "\\begin{enumerate*}\n",
       "\\item 35.5263157894737\n",
       "\\item 33.1578947368421\n",
       "\\item 21.3157894736842\n",
       "\\end{enumerate*}\n"
      ],
      "text/markdown": [
       "1. 35.5263157894737\n",
       "2. 33.1578947368421\n",
       "3. 21.3157894736842\n",
       "\n",
       "\n"
      ],
      "text/plain": [
       "[1] 35.52632 33.15789 21.31579"
      ]
     },
     "metadata": {},
     "output_type": "display_data"
    },
    {
     "data": {
      "text/html": [
       "<style>\n",
       ".list-inline {list-style: none; margin:0; padding: 0}\n",
       ".list-inline>li {display: inline-block}\n",
       ".list-inline>li:not(:last-child)::after {content: \"\\00b7\"; padding: 0 .5ex}\n",
       "</style>\n",
       "<ol class=list-inline><li>39.4736842105263</li><li>36.8421052631579</li><li>23.6842105263158</li></ol>\n"
      ],
      "text/latex": [
       "\\begin{enumerate*}\n",
       "\\item 39.4736842105263\n",
       "\\item 36.8421052631579\n",
       "\\item 23.6842105263158\n",
       "\\end{enumerate*}\n"
      ],
      "text/markdown": [
       "1. 39.4736842105263\n",
       "2. 36.8421052631579\n",
       "3. 23.6842105263158\n",
       "\n",
       "\n"
      ],
      "text/plain": [
       "[1] 39.47368 36.84211 23.68421"
      ]
     },
     "metadata": {},
     "output_type": "display_data"
    }
   ],
   "source": [
    "expected_1 = c()\n",
    "expected_2 = c()\n",
    "for (i in 1:nCategories) {\n",
    "    expected_1_i = (observed_1[i] + observed_2[i])/nTotal * n_1\n",
    "    expected_2_i = (observed_1[i] + observed_2[i])/nTotal * n_2\n",
    "    expected_1 = c(expected_1, expected_1_i)\n",
    "    expected_2 = c(expected_2, expected_2_i)\n",
    "}\n",
    "\n",
    "expected_1\n",
    "expected_2\n"
   ]
  },
  {
   "cell_type": "code",
   "execution_count": 3,
   "id": "707594d1",
   "metadata": {},
   "outputs": [
    {
     "data": {
      "text/html": [
       "4.47019400352734"
      ],
      "text/latex": [
       "4.47019400352734"
      ],
      "text/markdown": [
       "4.47019400352734"
      ],
      "text/plain": [
       "[1] 4.470194"
      ]
     },
     "metadata": {},
     "output_type": "display_data"
    }
   ],
   "source": [
    "### Z^2\n",
    "testStatistic = 0\n",
    "for (i in 1:nCategories) {\n",
    "    o_i = observed_1[i]\n",
    "    e_i = expected_1[i]\n",
    "    testStatistic = testStatistic + (o_i - e_i)^2 / e_i\n",
    "}\n",
    "\n",
    "# This could be achieved with a single loop but conceptually, it's nicer as two\n",
    "for (i in 1:nCategories) {\n",
    "    o_i = observed_2[i]\n",
    "    e_i = expected_2[i]\n",
    "    testStatistic = testStatistic + (o_i - e_i)^2 / e_i\n",
    "} \n",
    "\n",
    "testStatistic"
   ]
  },
  {
   "cell_type": "code",
   "execution_count": 8,
   "id": "3cdebb88",
   "metadata": {},
   "outputs": [
    {
     "data": {
      "text/html": [
       "2"
      ],
      "text/latex": [
       "2"
      ],
      "text/markdown": [
       "2"
      ],
      "text/plain": [
       "[1] 2"
      ]
     },
     "metadata": {},
     "output_type": "display_data"
    }
   ],
   "source": [
    "### DOF\n",
    "\n",
    "df = nCategories - 1\n",
    "df"
   ]
  },
  {
   "cell_type": "code",
   "execution_count": 9,
   "id": "0b6c9dfe",
   "metadata": {},
   "outputs": [
    {
     "data": {
      "text/html": [
       "5.99146454710798"
      ],
      "text/latex": [
       "5.99146454710798"
      ],
      "text/markdown": [
       "5.99146454710798"
      ],
      "text/plain": [
       "[1] 5.991465"
      ]
     },
     "metadata": {},
     "output_type": "display_data"
    }
   ],
   "source": [
    "### Region of rejection \n",
    "\n",
    "### This is always an upper tail test, so just alpha not alpha/2\n",
    "\n",
    "criticalValue = qchisq(1-alpha, df)\n",
    "criticalValue"
   ]
  },
  {
   "cell_type": "markdown",
   "id": "6f19d8db",
   "metadata": {},
   "source": [
    "If the test statistic is not above the critical value, then we have insufficient evidence to reject the null hypothesis."
   ]
  },
  {
   "cell_type": "code",
   "execution_count": null,
   "id": "53266edf",
   "metadata": {},
   "outputs": [],
   "source": []
  }
 ],
 "metadata": {
  "kernelspec": {
   "display_name": "R",
   "language": "R",
   "name": "ir"
  },
  "language_info": {
   "codemirror_mode": "r",
   "file_extension": ".r",
   "mimetype": "text/x-r-source",
   "name": "R",
   "pygments_lexer": "r",
   "version": "3.6.3"
  }
 },
 "nbformat": 4,
 "nbformat_minor": 5
}
