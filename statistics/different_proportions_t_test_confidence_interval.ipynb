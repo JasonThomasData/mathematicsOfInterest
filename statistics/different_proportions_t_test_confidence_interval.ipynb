{
 "cells": [
  {
   "cell_type": "markdown",
   "id": "24fb2823",
   "metadata": {},
   "source": [
    "### Difference in proportions t test\n",
    "\n",
    "There are two samples from two populations, and we wish to know how the population's proportions are different. For example, two occasions 20 years apart where the nation was asked \"do you smoke\"?"
   ]
  },
  {
   "cell_type": "code",
   "execution_count": 1,
   "id": "34484d03",
   "metadata": {},
   "outputs": [],
   "source": [
    "n_1 = 1500\n",
    "n_2 = 1750"
   ]
  },
  {
   "cell_type": "code",
   "execution_count": 2,
   "id": "3bf0aa90",
   "metadata": {},
   "outputs": [
    {
     "data": {
      "text/html": [
       "0.37"
      ],
      "text/latex": [
       "0.37"
      ],
      "text/markdown": [
       "0.37"
      ],
      "text/plain": [
       "[1] 0.37"
      ]
     },
     "metadata": {},
     "output_type": "display_data"
    },
    {
     "data": {
      "text/html": [
       "0.330285714285714"
      ],
      "text/latex": [
       "0.330285714285714"
      ],
      "text/markdown": [
       "0.330285714285714"
      ],
      "text/plain": [
       "[1] 0.3302857"
      ]
     },
     "metadata": {},
     "output_type": "display_data"
    }
   ],
   "source": [
    "              #yes/total\n",
    "proportion_1 = 555/n_1\n",
    "proportion_1\n",
    "proportion_2 = 578/n_2\n",
    "proportion_2"
   ]
  },
  {
   "cell_type": "markdown",
   "id": "06db5c17",
   "metadata": {},
   "source": [
    "Given $ n $ random experiments, the probability of any result is $ p $ and the opposite is $ q = 1-p $. The variance of any experient is $ p\\times q $\n",
    "\n",
    "The variance of an experiment involving $ n $ trials is $ \\frac{p\\times q}{n} $\n",
    "\n",
    "The standard deviation of that proportion is therefore $ \\sqrt{\\frac{p\\times q}{n}} $"
   ]
  },
  {
   "cell_type": "code",
   "execution_count": 3,
   "id": "054cd2a6",
   "metadata": {},
   "outputs": [
    {
     "data": {
      "text/html": [
       "0.0397142857142857"
      ],
      "text/latex": [
       "0.0397142857142857"
      ],
      "text/markdown": [
       "0.0397142857142857"
      ],
      "text/plain": [
       "[1] 0.03971429"
      ]
     },
     "metadata": {},
     "output_type": "display_data"
    }
   ],
   "source": [
    "proportion_difference = proportion_1 - proportion_2\n",
    "proportion_difference"
   ]
  },
  {
   "cell_type": "code",
   "execution_count": 4,
   "id": "6b249a3f",
   "metadata": {},
   "outputs": [
    {
     "data": {
      "text/html": [
       "0.000281798320699708"
      ],
      "text/latex": [
       "0.000281798320699708"
      ],
      "text/markdown": [
       "0.000281798320699708"
      ],
      "text/plain": [
       "[1] 0.0002817983"
      ]
     },
     "metadata": {},
     "output_type": "display_data"
    }
   ],
   "source": [
    "difference_variance = proportion_1*(1-proportion_1)/n_1 + proportion_2*(1-proportion_2)/n_2\n",
    "difference_variance"
   ]
  },
  {
   "cell_type": "markdown",
   "id": "1d5730a0",
   "metadata": {},
   "source": [
    "The variance of the difference is:\n",
    "\n",
    "$ S^2 = \\frac{p_1 q_1}{n_1}+\\frac{p_2 q_2}{n_2} $\n",
    "\n",
    "That means the standard deviation is:\n",
    "\n",
    "$ S = \\sqrt{\\frac{p_1 q_1}{n_1}+\\frac{p_2 q_2}{n_2}} $"
   ]
  },
  {
   "cell_type": "code",
   "execution_count": 5,
   "id": "28dc4d68",
   "metadata": {},
   "outputs": [
    {
     "data": {
      "text/html": [
       "0.0167868496359415"
      ],
      "text/latex": [
       "0.0167868496359415"
      ],
      "text/markdown": [
       "0.0167868496359415"
      ],
      "text/plain": [
       "[1] 0.01678685"
      ]
     },
     "metadata": {},
     "output_type": "display_data"
    }
   ],
   "source": [
    "difference_sd = sqrt(difference_variance)\n",
    "difference_sd"
   ]
  },
  {
   "cell_type": "markdown",
   "id": "878a7227",
   "metadata": {},
   "source": [
    "### Let's define the hypotheses\n",
    "\n",
    "Here, we want to make sure the proportion has changed over the two populations.\n",
    "\n",
    "$ h_0 : p_1 - p_2 = 0 $\n",
    "\n",
    "$ h_a : p_1 - p_2 \\ne 0 $\n",
    "\n",
    "$ \\alpha = 0.05 $"
   ]
  },
  {
   "cell_type": "code",
   "execution_count": 6,
   "id": "a1f95e08",
   "metadata": {},
   "outputs": [],
   "source": [
    "H_0_value = 0\n",
    "alpha = .05 #A two tailed test uses alpha/2. One tailed test uses just alpha"
   ]
  },
  {
   "cell_type": "markdown",
   "id": "4b8a33f1",
   "metadata": {},
   "source": [
    "Both samples are large, more than 1000, so we can use the normal distribution here. If either was small then we would need the T distribution\n",
    "\n",
    "$ Z = \\frac{(\\hat{p}_1 - \\hat{p}_2) - (p_1 - p_2)}{S} $\n",
    "\n",
    "Since our hypothesis is that there is no difference between the proportions, then\n",
    "\n",
    "$ Z = \\frac{(\\hat{p}_1 - \\hat{p}_2) - 0}{S} $"
   ]
  },
  {
   "cell_type": "code",
   "execution_count": 7,
   "id": "91e6ff20",
   "metadata": {},
   "outputs": [
    {
     "data": {
      "text/html": [
       "2.36579742927199"
      ],
      "text/latex": [
       "2.36579742927199"
      ],
      "text/markdown": [
       "2.36579742927199"
      ],
      "text/plain": [
       "[1] 2.365797"
      ]
     },
     "metadata": {},
     "output_type": "display_data"
    }
   ],
   "source": [
    "test_statistic = (proportion_difference - H_0_value)/difference_sd\n",
    "test_statistic"
   ]
  },
  {
   "cell_type": "code",
   "execution_count": 8,
   "id": "406abcf4",
   "metadata": {},
   "outputs": [
    {
     "data": {
      "text/html": [
       "<style>\n",
       ".list-inline {list-style: none; margin:0; padding: 0}\n",
       ".list-inline>li {display: inline-block}\n",
       ".list-inline>li:not(:last-child)::after {content: \"\\00b7\"; padding: 0 .5ex}\n",
       "</style>\n",
       "<ol class=list-inline><li>-1.95996398454005</li><li>1.95996398454005</li></ol>\n"
      ],
      "text/latex": [
       "\\begin{enumerate*}\n",
       "\\item -1.95996398454005\n",
       "\\item 1.95996398454005\n",
       "\\end{enumerate*}\n"
      ],
      "text/markdown": [
       "1. -1.95996398454005\n",
       "2. 1.95996398454005\n",
       "\n",
       "\n"
      ],
      "text/plain": [
       "[1] -1.959964  1.959964"
      ]
     },
     "metadata": {},
     "output_type": "display_data"
    }
   ],
   "source": [
    "critical_value = qnorm(1-alpha/2)\n",
    "region_of_rejection = c(-critical_value, critical_value)\n",
    "region_of_rejection"
   ]
  },
  {
   "cell_type": "markdown",
   "id": "7e75d4a5",
   "metadata": {},
   "source": [
    "The test statistic falls in the upper region of rejection, so we can reject the $ h_0 $ and accept $ h_a $"
   ]
  },
  {
   "cell_type": "markdown",
   "id": "3b5f8577",
   "metadata": {},
   "source": [
    "### Confidence interval\n",
    "\n",
    "$ (\\hat{p_1}–\\hat{p_2}) \\pm  z\\sqrt{\\frac{\\hat{p_1}(1-\\hat{p_1})}{n_1} + \\frac{\\hat{p_2}(1-\\hat{p_2})}{n_2}} $\n",
    "\n",
    "(or, the critical Z value * the standard deviation):\n",
    "\n",
    "$ (\\hat{p_1}–\\hat{p_2}) \\pm zS $ "
   ]
  },
  {
   "cell_type": "code",
   "execution_count": 9,
   "id": "2afd97bc",
   "metadata": {},
   "outputs": [
    {
     "data": {
      "text/html": [
       "0.0068126650139511"
      ],
      "text/latex": [
       "0.0068126650139511"
      ],
      "text/markdown": [
       "0.0068126650139511"
      ],
      "text/plain": [
       "[1] 0.006812665"
      ]
     },
     "metadata": {},
     "output_type": "display_data"
    }
   ],
   "source": [
    "(proportion_1 - proportion_2) - critical_value * sqrt(proportion_1*(1-proportion_1)/n_1 + proportion_2*(1-proportion_2)/n_2)"
   ]
  },
  {
   "cell_type": "code",
   "execution_count": 10,
   "id": "82d4ec80",
   "metadata": {},
   "outputs": [
    {
     "data": {
      "text/html": [
       "0.0726159064146203"
      ],
      "text/latex": [
       "0.0726159064146203"
      ],
      "text/markdown": [
       "0.0726159064146203"
      ],
      "text/plain": [
       "[1] 0.07261591"
      ]
     },
     "metadata": {},
     "output_type": "display_data"
    }
   ],
   "source": [
    "(proportion_1 - proportion_2) + critical_value * sqrt(proportion_1*(1-proportion_1)/n_1  + proportion_2*(1-proportion_2)/n_2)"
   ]
  },
  {
   "cell_type": "code",
   "execution_count": null,
   "id": "01dac063",
   "metadata": {},
   "outputs": [],
   "source": []
  }
 ],
 "metadata": {
  "kernelspec": {
   "display_name": "R",
   "language": "R",
   "name": "ir"
  },
  "language_info": {
   "codemirror_mode": "r",
   "file_extension": ".r",
   "mimetype": "text/x-r-source",
   "name": "R",
   "pygments_lexer": "r",
   "version": "3.6.3"
  }
 },
 "nbformat": 4,
 "nbformat_minor": 5
}
