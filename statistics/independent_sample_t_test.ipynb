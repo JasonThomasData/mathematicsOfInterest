{
 "cells": [
  {
   "cell_type": "code",
   "execution_count": 6,
   "id": "8ec55985",
   "metadata": {},
   "outputs": [],
   "source": [
    "x_1 = 3.8\n",
    "sd_1 = 1.8\n",
    "n_1 = 19\n",
    "\n",
    "x_2 = 2.5\n",
    "sd_2 = 1.8\n",
    "n_2 = 24"
   ]
  },
  {
   "cell_type": "code",
   "execution_count": 7,
   "id": "51f2f057",
   "metadata": {},
   "outputs": [
    {
     "data": {
      "text/html": [
       "38.7666362807657"
      ],
      "text/latex": [
       "38.7666362807657"
      ],
      "text/markdown": [
       "38.7666362807657"
      ],
      "text/plain": [
       "[1] 38.76664"
      ]
     },
     "metadata": {},
     "output_type": "display_data"
    }
   ],
   "source": [
    "v = (sd_1^2 / n_1 + sd_2^2 / n_2)^2 / ((sd_1^2 / n_1)^2 / (n_1 - 1) + (sd_2^2 / n_2)^2 / (n_2 - 1))\n",
    "v"
   ]
  },
  {
   "cell_type": "code",
   "execution_count": 9,
   "id": "fcf40c9c",
   "metadata": {},
   "outputs": [
    {
     "data": {
      "text/html": [
       "2.35190102154817"
      ],
      "text/latex": [
       "2.35190102154817"
      ],
      "text/markdown": [
       "2.35190102154817"
      ],
      "text/plain": [
       "[1] 2.351901"
      ]
     },
     "metadata": {},
     "output_type": "display_data"
    }
   ],
   "source": [
    "(x_1 - x_2) / sqrt(sd_1^2 / n_1 + sd_2^2 / n_2)"
   ]
  },
  {
   "cell_type": "code",
   "execution_count": null,
   "id": "b9444424",
   "metadata": {},
   "outputs": [],
   "source": []
  }
 ],
 "metadata": {
  "kernelspec": {
   "display_name": "R",
   "language": "R",
   "name": "ir"
  },
  "language_info": {
   "codemirror_mode": "r",
   "file_extension": ".r",
   "mimetype": "text/x-r-source",
   "name": "R",
   "pygments_lexer": "r",
   "version": "3.6.3"
  }
 },
 "nbformat": 4,
 "nbformat_minor": 5
}
