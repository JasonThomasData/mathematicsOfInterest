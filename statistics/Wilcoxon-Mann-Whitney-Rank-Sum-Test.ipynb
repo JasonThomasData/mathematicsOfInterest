{
 "cells": [
  {
   "cell_type": "markdown",
   "id": "ba9454cd",
   "metadata": {},
   "source": [
    "### Wilcoxon Rank Sum Test (AKA Mann Whitney Test)\n",
    "\n",
    "This is useful when you have two independent populations and you want to conduct a non-parametric test on these. This might be because you have two very small samples that aren't normally distributed.\n",
    "\n"
   ]
  },
  {
   "cell_type": "markdown",
   "id": "83405fd4",
   "metadata": {},
   "source": [
    "### Independent samples test\n",
    "\n",
    "If you want a single sample or paired sample test, then use the Wilcoxon Signed Rank Test."
   ]
  },
  {
   "cell_type": "code",
   "execution_count": 1,
   "id": "bf63afe8",
   "metadata": {},
   "outputs": [
    {
     "data": {
      "text/html": [
       "6"
      ],
      "text/latex": [
       "6"
      ],
      "text/markdown": [
       "6"
      ],
      "text/plain": [
       "[1] 6"
      ]
     },
     "metadata": {},
     "output_type": "display_data"
    },
    {
     "data": {
      "text/html": [
       "7"
      ],
      "text/latex": [
       "7"
      ],
      "text/markdown": [
       "7"
      ],
      "text/plain": [
       "[1] 7"
      ]
     },
     "metadata": {},
     "output_type": "display_data"
    }
   ],
   "source": [
    "# The second sample should be equal to or larger than the first sample\n",
    "\n",
    "sample_1 = c(64, 60, 68, 73, 72, 70)\n",
    "n_1 = length(sample_1)\n",
    "n_1\n",
    "\n",
    "sample_2 = c(68, 72, 79, 69, 84, 80, 78)\n",
    "n_2 = length(sample_2)\n",
    "n_2"
   ]
  },
  {
   "cell_type": "markdown",
   "id": "f89b513a",
   "metadata": {},
   "source": [
    "$ H_0 : \\mu_1 = \\mu_2 $\n",
    "\n",
    "$ H_a : \\mu_1 \\ne \\mu_2 $\n",
    "\n",
    "$ \\alpha = 0.05 $"
   ]
  },
  {
   "cell_type": "markdown",
   "id": "17b8e5b6",
   "metadata": {},
   "source": [
    "Below, the vector with the fewest elements should be the first one."
   ]
  },
  {
   "cell_type": "code",
   "execution_count": 2,
   "id": "480b694f",
   "metadata": {},
   "outputs": [
    {
     "data": {
      "text/html": [
       "<style>\n",
       ".list-inline {list-style: none; margin:0; padding: 0}\n",
       ".list-inline>li {display: inline-block}\n",
       ".list-inline>li:not(:last-child)::after {content: \"\\00b7\"; padding: 0 .5ex}\n",
       "</style>\n",
       "<ol class=list-inline><li>2</li><li>1</li><li>3.5</li><li>9</li><li>7.5</li><li>6</li></ol>\n"
      ],
      "text/latex": [
       "\\begin{enumerate*}\n",
       "\\item 2\n",
       "\\item 1\n",
       "\\item 3.5\n",
       "\\item 9\n",
       "\\item 7.5\n",
       "\\item 6\n",
       "\\end{enumerate*}\n"
      ],
      "text/markdown": [
       "1. 2\n",
       "2. 1\n",
       "3. 3.5\n",
       "4. 9\n",
       "5. 7.5\n",
       "6. 6\n",
       "\n",
       "\n"
      ],
      "text/plain": [
       "[1] 2.0 1.0 3.5 9.0 7.5 6.0"
      ]
     },
     "metadata": {},
     "output_type": "display_data"
    },
    {
     "data": {
      "text/html": [
       "<style>\n",
       ".list-inline {list-style: none; margin:0; padding: 0}\n",
       ".list-inline>li {display: inline-block}\n",
       ".list-inline>li:not(:last-child)::after {content: \"\\00b7\"; padding: 0 .5ex}\n",
       "</style>\n",
       "<ol class=list-inline><li>3.5</li><li>7.5</li><li>11</li><li>5</li><li>13</li><li>12</li><li>10</li></ol>\n"
      ],
      "text/latex": [
       "\\begin{enumerate*}\n",
       "\\item 3.5\n",
       "\\item 7.5\n",
       "\\item 11\n",
       "\\item 5\n",
       "\\item 13\n",
       "\\item 12\n",
       "\\item 10\n",
       "\\end{enumerate*}\n"
      ],
      "text/markdown": [
       "1. 3.5\n",
       "2. 7.5\n",
       "3. 11\n",
       "4. 5\n",
       "5. 13\n",
       "6. 12\n",
       "7. 10\n",
       "\n",
       "\n"
      ],
      "text/plain": [
       "[1]  3.5  7.5 11.0  5.0 13.0 12.0 10.0"
      ]
     },
     "metadata": {},
     "output_type": "display_data"
    }
   ],
   "source": [
    "combined_samples = c(sample_1, sample_2)\n",
    "indexes = rank(combined_samples)\n",
    "sample_1_length = length(sample_1)\n",
    "\n",
    "X = head(indexes, sample_1_length)\n",
    "X\n",
    "Y = tail(indexes, -sample_1_length)\n",
    "Y"
   ]
  },
  {
   "cell_type": "markdown",
   "id": "79366d02",
   "metadata": {},
   "source": [
    "### The W distribution\n",
    "\n",
    "The test statistic comes from the W distribution. Consider the rank vectors, defined above. \n",
    "\n",
    "Let:\n",
    "\n",
    "$ m $ be the length of X\n",
    "\n",
    "$ n $ be the length of Y.\n",
    "\n",
    "Consider X. The _lowest possible_ value for all of its elements, summed is:\n",
    "\n",
    "$ m = \\frac{m(m+1)}{2} $\n",
    "\n",
    "Then, the _largest possible_ value for all of its elements, summed is:\n",
    "\n",
    "$ m = \\frac{m(m+n+1+n)}{2} = \\frac{m(m+2n+1)}{2} $\n",
    "\n",
    "Which is, also the summed values of X, but made of the largest possible elements.\n",
    "\n",
    "#### An example using the smallest possible elements for X\n",
    "\n",
    "$ X = {1,2,3} $\n",
    "\n",
    "$ Y = {4,5,6,7} $\n",
    "\n",
    "Then in this scenario, the minimum value in the W distribution is:\n",
    "\n",
    "$ \\frac{3(3+1)}{2} = 1+2+3 = 6 $\n",
    "\n",
    "And the maximum value in the W distribution is:\n",
    "\n",
    "$ \\frac{3(3+1+2*4)}{2} = 7+6+5 = 18 $"
   ]
  },
  {
   "cell_type": "markdown",
   "id": "acc43560",
   "metadata": {},
   "source": [
    "### The sample statistic\n",
    "\n",
    "Given the above, then it's clear that the summed ranks of data in sample_1 will be somewhere in the W distribution."
   ]
  },
  {
   "cell_type": "code",
   "execution_count": 3,
   "id": "af5f1f05",
   "metadata": {},
   "outputs": [
    {
     "data": {
      "text/html": [
       "29"
      ],
      "text/latex": [
       "29"
      ],
      "text/markdown": [
       "29"
      ],
      "text/plain": [
       "[1] 29"
      ]
     },
     "metadata": {},
     "output_type": "display_data"
    }
   ],
   "source": [
    "testStatistic = sum(X)\n",
    "testStatistic"
   ]
  },
  {
   "cell_type": "markdown",
   "id": "27b1eef6",
   "metadata": {},
   "source": [
    "### Region of rejection\n",
    "\n",
    "Using the _Table A.14 Critical Values for the Wilcoxon Rank-Sum Test_ table, find the critical value for this test.\n",
    "\n",
    "Find the table with n_1, n_2 (n_1 must be the smaller value).\n",
    "\n",
    "If this is a one-tail test, then search for your chosen $ \\alpha $ to find the relevant c value. If this is a two-tailed test, then, use $ \\alpha/2 $.\n",
    "\n",
    "The c value is the value for the upper tail. To find the value of the lower tail, aka $ c* $, do:\n",
    "\n",
    "$ c* = n_2(n_2+n_1+1) - c $"
   ]
  },
  {
   "cell_type": "code",
   "execution_count": 4,
   "id": "09a35b9f",
   "metadata": {},
   "outputs": [
    {
     "data": {
      "text/html": [
       "28"
      ],
      "text/latex": [
       "28"
      ],
      "text/markdown": [
       "28"
      ],
      "text/plain": [
       "[1] 28"
      ]
     },
     "metadata": {},
     "output_type": "display_data"
    }
   ],
   "source": [
    "c = 56\n",
    "cStar = n_1*(n_1 + n_2 + 1) - c\n",
    "cStar"
   ]
  },
  {
   "cell_type": "markdown",
   "id": "39c125a6",
   "metadata": {},
   "source": [
    "If the test statistic is either above $ c $ or below $ c* $, then you can reject the $ h_0 $ and accept the alternative."
   ]
  },
  {
   "cell_type": "code",
   "execution_count": null,
   "id": "8d01b2e3",
   "metadata": {},
   "outputs": [],
   "source": []
  }
 ],
 "metadata": {
  "kernelspec": {
   "display_name": "R",
   "language": "R",
   "name": "ir"
  },
  "language_info": {
   "codemirror_mode": "r",
   "file_extension": ".r",
   "mimetype": "text/x-r-source",
   "name": "R",
   "pygments_lexer": "r",
   "version": "3.6.3"
  }
 },
 "nbformat": 4,
 "nbformat_minor": 5
}
