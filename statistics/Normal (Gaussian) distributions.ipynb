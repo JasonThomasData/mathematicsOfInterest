{
 "cells": [
  {
   "cell_type": "markdown",
   "id": "d781dced",
   "metadata": {},
   "source": [
    "### Normal/Guassian family of distributions\n",
    "\n",
    "Q: can it be discrete?\n",
    "\n",
    "#### PDF:\n",
    "\n",
    "$ X \\sim N(\\mu, \\sigma^2) $ \n",
    "\n",
    "Above, allows different parameters to derive different distributions and this is why we say it's \"a family\"\n",
    "\n",
    "$ \\frac{1}{\\sigma \\sqrt{2 \\pi}} e^{-\\frac{(x-\\mu)^2}{2\\sigma^2}} $\n",
    "\n",
    "But we often care about the Standard Normal Distribution:\n",
    "\n",
    "$ Z \\sim N(0, 1) $ \n",
    "\n",
    "$ \\frac{1}{\\sigma \\sqrt{2 \\pi}} e^{-\\frac{1}{2}z^2} $\n",
    "\n",
    "Note, that to find the area under this curve we must use numerical techniques. I'm unsure if this is because the integral doesn't exist or perhaps it's crazy hard.\n",
    "\n",
    "#### Converting to a Normal to the Standardised Normal Distribution\n",
    "\n",
    "$ X \\sim N(\\mu, \\sigma^2) $\n",
    "\n",
    "$ Z \\sim N(0, 1) $\n",
    "\n",
    "$ Z = \\frac{X - \\mu}{\\sigma} $\n",
    "\n",
    "Notice that the distribution takes $ \\sigma^2 $ (variance) as a parameter but the conversion takes $ \\sigma $ (standard deviation).\n",
    "\n",
    "_Conversion example_\n",
    "\n",
    "$ X \\sim N(80,100) $\n",
    "\n",
    "$ P(X < 100) = P \\left(Z < \\frac{100-80}{10} \\right) $\n",
    "\n",
    "Where the denominator is the root of the distribution parameter.\n",
    "\n",
    "Then you can compare this to a Z table."
   ]
  },
  {
   "cell_type": "code",
   "execution_count": 7,
   "id": "0d4da705",
   "metadata": {},
   "outputs": [
    {
     "data": {
      "text/html": [
       "0.5"
      ],
      "text/latex": [
       "0.5"
      ],
      "text/markdown": [
       "0.5"
      ],
      "text/plain": [
       "[1] 0.5"
      ]
     },
     "metadata": {},
     "output_type": "display_data"
    }
   ],
   "source": [
    "sqrt(.25)"
   ]
  },
  {
   "cell_type": "code",
   "execution_count": null,
   "id": "d158c670",
   "metadata": {},
   "outputs": [],
   "source": []
  }
 ],
 "metadata": {
  "kernelspec": {
   "display_name": "R",
   "language": "R",
   "name": "ir"
  },
  "language_info": {
   "codemirror_mode": "r",
   "file_extension": ".r",
   "mimetype": "text/x-r-source",
   "name": "R",
   "pygments_lexer": "r",
   "version": "4.1.2"
  }
 },
 "nbformat": 4,
 "nbformat_minor": 5
}
