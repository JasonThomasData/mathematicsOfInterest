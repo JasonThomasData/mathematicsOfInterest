{
 "cells": [
  {
   "cell_type": "markdown",
   "id": "0935d69e",
   "metadata": {},
   "source": [
    "### Chi-squared multinomial goodness of fit test (single sample\n",
    "\n",
    "When you have a sample that has several categories in it you might want to test whether or not a certain multinomial distribution of categories exists in the population."
   ]
  },
  {
   "cell_type": "markdown",
   "id": "857bb072",
   "metadata": {},
   "source": [
    "### The link to Chi-Square distribution\n",
    "\n",
    "Using https://en.wikipedia.org/wiki/Chi-squared_distribution\n",
    "\n",
    "We have seen from the hypothesis test for the population proportion, the hypothesis test is as follows\n",
    "\n",
    "Consider a sample that has a proportion of positive results.\n",
    "\n",
    "Let:\n",
    "\n",
    "$ m $ be the number of successful trials, in the sample\n",
    "\n",
    "$ n $ be the sample size (or trials, to use the probability terminology)\n",
    "\n",
    "$ \\hat{p} = \\large \\frac{m}{n} $ be the expected probability of successful trials\n",
    "\n",
    "$ p $ be the expected probability of successful trials\n",
    "\n",
    "$ q = 1-p $\n",
    "\n",
    "$ Z = \\large \\frac{\\hat{p} - p}{\\sqrt{ \\frac{pq}{n}}} $\n",
    "\n",
    "$ Z = \\large \\frac{\\frac{m}{n} - p}{\\sqrt{ \\frac{pq}{n}}} $\n"
   ]
  },
  {
   "cell_type": "markdown",
   "id": "43f1cc87",
   "metadata": {},
   "source": [
    "$ Z = \\large \\frac{ n \\left(\\frac{m}{n} - p \\right)}{n \\sqrt{ \\frac{pq}{n}}} $"
   ]
  },
  {
   "cell_type": "markdown",
   "id": "ccafa548",
   "metadata": {},
   "source": [
    "$ Z = \\large \\frac{m - np}{\\sqrt{ np(1-p)}} $\n",
    "\n",
    "Note, the above looks wrong but it is correct: the result of $ n \\sqrt \\frac{1}{n} = \\sqrt n $ \n",
    "\n",
    "If we try to use multiple proportions now, we will have problems. The values in the normal distribution might be positive or negative, so adding them up might mean those cancel out."
   ]
  },
  {
   "cell_type": "markdown",
   "id": "1efdb1fb",
   "metadata": {},
   "source": [
    "Below, we derive a square, so that later we can make a sum of squares for each proportion being tested. This means that the test statistic uses absolute values and taking the sum of absolute values will be reliable.\n",
    "\n",
    "$ Z^2 = \\large \\frac{(m - np)^2}{np(1-p)} $"
   ]
  },
  {
   "cell_type": "markdown",
   "id": "e81b417d",
   "metadata": {},
   "source": [
    "Now we have a general form that we can use for multinomial tests, including the difference between two proportions (although that can be treated as a single difference and calculated using the above process to derive a $ Z $ score directly.\n",
    "\n",
    "$ Z^2 $ has a $ \\chi^2 $ distribution with 1 degree of freedom"
   ]
  },
  {
   "cell_type": "markdown",
   "id": "9f43d7b6",
   "metadata": {},
   "source": [
    "Now, instead of a single proportion from a single group in the sample, let's consider multiple groups, each with their own proportion.\n",
    "\n",
    "Let $ k $ be the number of these groups.\n",
    "\n",
    "$ Z^2 = \\sum_{i=1}^k \\large \\frac{(m_i - n_i p_i)^2}{n_i p_i(1- p_i)} $\n",
    "\n",
    "This means that if the observed value is very different from the expected value then the test statistic will be large.\n",
    "\n",
    "We can rewrite it as\n",
    "\n",
    "$ Z^2 = \\sum_{i=1}^k \\large \\frac{(o - e)^2}{e} $\n",
    "\n",
    "Then $ Z^2 $ has a $\\chi^2 $ distribution with $ k-1 $ degrees of freedom."
   ]
  },
  {
   "cell_type": "markdown",
   "id": "45e670ed",
   "metadata": {},
   "source": [
    "### The hypothesis\n",
    "\n",
    "Given k different proportions (p), then $ \\sum_i^k p_i = 1.0 $\n",
    "\n",
    "We must also specify their hypothesised values, as $ P $\n",
    "\n",
    "$ h_0 : p_i = P_i, p_{i+1} = P_{i+1} ... p_k = P_k $\n",
    "\n",
    "$ h_a $ : not all true\n",
    "\n",
    "$ \\alpha : 0.05 $\n",
    "\n",
    "Note, this is always an upper tail test, so just use $ \\alpha $ not $ \\alpha/2 $"
   ]
  },
  {
   "cell_type": "code",
   "execution_count": 4,
   "id": "1de517fa",
   "metadata": {},
   "outputs": [],
   "source": [
    "alpha = 0.05\n",
    "\n",
    "n = 100\n",
    "\n",
    "observed = c(22,33,24,21)\n",
    "expected = c(15,17,22,46)"
   ]
  },
  {
   "cell_type": "code",
   "execution_count": 5,
   "id": "cf62f740",
   "metadata": {},
   "outputs": [],
   "source": [
    "# These should all add up to n\n",
    "stopifnot(sum(observed) == n)\n",
    "stopifnot(sum(expected) == n)\n",
    "\n",
    "# And should be the same size\n",
    "stopifnot(length(observed) == length(expected))"
   ]
  },
  {
   "cell_type": "code",
   "execution_count": 3,
   "id": "b859d5eb",
   "metadata": {},
   "outputs": [
    {
     "data": {
      "text/html": [
       "16.7770778297094"
      ],
      "text/latex": [
       "16.7770778297094"
      ],
      "text/markdown": [
       "16.7770778297094"
      ],
      "text/plain": [
       "[1] 16.77708"
      ]
     },
     "metadata": {},
     "output_type": "display_data"
    }
   ],
   "source": [
    "k = length(observed)\n",
    "df = k-1\n",
    "\n",
    "### Z^2\n",
    "testStatistic = 0\n",
    "for (i in 1:k) {\n",
    "    o_i = observed[i]\n",
    "    e_i = expected[i]\n",
    "    testStatistic = testStatistic + (o_i - e_i)^2 / e_i\n",
    "} \n",
    "\n",
    "testStatistic"
   ]
  },
  {
   "cell_type": "code",
   "execution_count": 4,
   "id": "66eeb839",
   "metadata": {},
   "outputs": [
    {
     "data": {
      "text/html": [
       "7.81472790325118"
      ],
      "text/latex": [
       "7.81472790325118"
      ],
      "text/markdown": [
       "7.81472790325118"
      ],
      "text/plain": [
       "[1] 7.814728"
      ]
     },
     "metadata": {},
     "output_type": "display_data"
    }
   ],
   "source": [
    "### Region of rejection \n",
    "\n",
    "### This is always an upper tail test, so just alpha not alpha/2\n",
    "\n",
    "criticalValue = qchisq(1-alpha, df)\n",
    "criticalValue"
   ]
  },
  {
   "cell_type": "markdown",
   "id": "26254355",
   "metadata": {},
   "source": [
    "If the test statistic, $ Z^2 $, is above the critical value then we can reject the $ h_0 $ and accept the alternative"
   ]
  }
 ],
 "metadata": {
  "kernelspec": {
   "display_name": "R",
   "language": "R",
   "name": "ir"
  },
  "language_info": {
   "codemirror_mode": "r",
   "file_extension": ".r",
   "mimetype": "text/x-r-source",
   "name": "R",
   "pygments_lexer": "r",
   "version": "3.6.3"
  }
 },
 "nbformat": 4,
 "nbformat_minor": 5
}
