{
 "cells": [
  {
   "cell_type": "markdown",
   "id": "982035f9",
   "metadata": {},
   "source": [
    "### Exponential Distribution\n",
    "\n",
    "This is used when we need to know how much time until the next event occurs.\n",
    "\n",
    "This applies to a continuous r.v. only.\n",
    "\n",
    "This is closely related to the Poisson Distribution, but that one is for discrete r.v. only.\n",
    "\n",
    "This is a special case of the Gamma Distribution.\n",
    "\n",
    "#### PDF (probability)\n",
    "\n",
    "If $ x \\ge 0 $:\n",
    "\n",
    "$ f(x) = \\lambda e^{-\\lambda x} $\n",
    "\n",
    "And $ f(x) = 0 $ otherwise.\n",
    "\n",
    "#### CDF \n",
    "\n",
    "$ F(x) = \\int_0^x f(x) dt = \\int_0^x \\lambda e^{-\\lambda x} dt $\n",
    "\n",
    "If $ x \\ge 0 $:\n",
    "\n",
    "$ F(x) = 1 - e^{-\\lambda x} $\n",
    "\n",
    "Otherwise $ F(x) = 0 $\n",
    "\n",
    "#### Expectation\n",
    "\n",
    "$ E(x) = \\frac{1}{\\lambda} $\n",
    "\n",
    "#### Variance\n",
    "\n",
    "$ Var(x) = \\frac{1}{\\lambda^2} $"
   ]
  },
  {
   "cell_type": "code",
   "execution_count": null,
   "id": "3efc4af3",
   "metadata": {},
   "outputs": [],
   "source": []
  }
 ],
 "metadata": {
  "kernelspec": {
   "display_name": "R",
   "language": "R",
   "name": "ir"
  },
  "language_info": {
   "codemirror_mode": "r",
   "file_extension": ".r",
   "mimetype": "text/x-r-source",
   "name": "R",
   "pygments_lexer": "r",
   "version": "4.1.2"
  }
 },
 "nbformat": 4,
 "nbformat_minor": 5
}
