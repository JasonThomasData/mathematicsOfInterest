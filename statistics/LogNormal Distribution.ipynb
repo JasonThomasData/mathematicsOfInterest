{
 "cells": [
  {
   "cell_type": "markdown",
   "id": "753e4ce0",
   "metadata": {},
   "source": [
    "### Lognormal distribution\n",
    "\n",
    "This is derived from the Normal Distribution.\n",
    "\n",
    "$ X \\sim LN(\\mu, \\sigma^2) $\n",
    "\n",
    "The distribution has a long positive tail. The data should be larges at x=0. Normally you want to transform it to a Normal distribution.\n",
    "\n",
    "#### Transform to Normal\n",
    "\n",
    "$ \\ln(X) ~ N(\\mu, \\sigma^2) $\n",
    "\n",
    "#### Expected\n",
    "\n",
    "$ E(X) = e^{\\mu + \\frac{\\sigma^2}{2}} $\n",
    "\n",
    "#### Variance\n",
    "\n",
    "$ Var(X) = e^{2\\mu+\\sigma^2}(e^{\\sigma^2} - 1) $"
   ]
  },
  {
   "cell_type": "code",
   "execution_count": null,
   "id": "d9d0efc1",
   "metadata": {},
   "outputs": [],
   "source": []
  }
 ],
 "metadata": {
  "kernelspec": {
   "display_name": "Octave",
   "language": "octave",
   "name": "octave"
  },
  "language_info": {
   "file_extension": ".m",
   "help_links": [
    {
     "text": "GNU Octave",
     "url": "https://www.gnu.org/software/octave/support.html"
    },
    {
     "text": "Octave Kernel",
     "url": "https://github.com/Calysto/octave_kernel"
    },
    {
     "text": "MetaKernel Magics",
     "url": "https://metakernel.readthedocs.io/en/latest/source/README.html"
    }
   ],
   "mimetype": "text/x-octave",
   "name": "octave",
   "version": "6.4.0"
  }
 },
 "nbformat": 4,
 "nbformat_minor": 5
}
