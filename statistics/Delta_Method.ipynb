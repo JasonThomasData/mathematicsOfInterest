{
 "cells": [
  {
   "cell_type": "markdown",
   "id": "e87dfab2",
   "metadata": {},
   "source": [
    "### Delta Method\n",
    "\n",
    "This is an implication of the Central Limit Theorem:\n",
    "\n",
    "$ \\sqrt{n}(\\bar X_n - \\mu) \\to^d N(0, \\sigma^2) $\n",
    "\n",
    "I think this means that any sample should converge in distribution to the Normal Distribution.\n",
    "\n",
    "Let:\n",
    "\n",
    "$ g(x) $ be any function that is differentiable.\n",
    "\n",
    "$ \\sqrt{n}(g(\\bar X_n) - g(\\mu)) \\to^d N(0, \\sigma^2(g'(\\mu))^2) $\n"
   ]
  },
  {
   "cell_type": "code",
   "execution_count": null,
   "id": "db07c915",
   "metadata": {},
   "outputs": [],
   "source": []
  }
 ],
 "metadata": {
  "kernelspec": {
   "display_name": "Octave",
   "language": "octave",
   "name": "octave"
  },
  "language_info": {
   "file_extension": ".m",
   "help_links": [
    {
     "text": "GNU Octave",
     "url": "https://www.gnu.org/software/octave/support.html"
    },
    {
     "text": "Octave Kernel",
     "url": "https://github.com/Calysto/octave_kernel"
    },
    {
     "text": "MetaKernel Magics",
     "url": "https://metakernel.readthedocs.io/en/latest/source/README.html"
    }
   ],
   "mimetype": "text/x-octave",
   "name": "octave",
   "version": "6.4.0"
  }
 },
 "nbformat": 4,
 "nbformat_minor": 5
}
