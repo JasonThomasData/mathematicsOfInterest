{
 "cells": [
  {
   "cell_type": "markdown",
   "id": "ef43beca",
   "metadata": {},
   "source": [
    "### Moment generating functions\n",
    "\n",
    "$ M_X(t) = E(e^{tX}) $\n",
    "\n",
    "This is a function that lies in an interval $ -h \\le t \\le h $. Otherwise no mgf exists.\n",
    "\n",
    "#### Discrete r.v.\n",
    "\n",
    "From a given pmf $ p(x) $\n",
    "\n",
    "The mgf is:\n",
    "\n",
    "$ \\sum_x e^{tx} p(x) $\n",
    "\n",
    "#### Continuous r.v.\n",
    "\n",
    "From a given pdf $ f(x) $\n",
    "\n",
    "The mgf is:\n",
    "\n",
    "$ \\int_{-\\infty}^\\infty e^{tx} f(x) dx $\n",
    "\n",
    "$ p(x) = "
   ]
  },
  {
   "cell_type": "code",
   "execution_count": null,
   "id": "3eb4afca",
   "metadata": {},
   "outputs": [],
   "source": []
  }
 ],
 "metadata": {
  "kernelspec": {
   "display_name": "R",
   "language": "R",
   "name": "ir"
  },
  "language_info": {
   "codemirror_mode": "r",
   "file_extension": ".r",
   "mimetype": "text/x-r-source",
   "name": "R",
   "pygments_lexer": "r",
   "version": "4.1.2"
  }
 },
 "nbformat": 4,
 "nbformat_minor": 5
}
