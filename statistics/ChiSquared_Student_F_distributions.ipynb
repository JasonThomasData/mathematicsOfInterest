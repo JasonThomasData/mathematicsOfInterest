{
 "cells": [
  {
   "cell_type": "markdown",
   "id": "5ce26137",
   "metadata": {},
   "source": [
    "### Chi-Squared, Student (T), and F-Distributions\n",
    "\n",
    "#### Chi-Squared\n",
    "\n",
    "$ \\chi_k^2 = Z_1^2 + Z_2^2 + ... + Z_k^2 $\n",
    "\n",
    "With $ k $ degrees of freedom.\n",
    "\n",
    "The pdf is given in lecture 4(1)b ~ 10:00\n",
    "\n",
    "The test statistic is:\n",
    "\n",
    "$ \\chi^2 = \\frac{(n - 1)S^2}{\\sigma^2} = \\sum_\\limits{i=1}^n \\left( \\frac{X_i - \\bar X}{\\sigma} \\right)^2 = Z_i^2 $ \n",
    "\n",
    "Where $ S^2 $ is the sample standard deviation.\n",
    "\n",
    "#### Student distribution\n",
    "\n",
    "$ t_v = \\frac{z}{\\sqrt{\\chi_v^2/v}} $\n",
    "\n",
    "Where $ v = n-1 $ is degrees of freedom\n",
    "\n",
    "If your sample is from a normally-distributed population then\n",
    "\n",
    "$ SE = \\frac{S}{\\sqrt{n}} $\n",
    "\n",
    "$ t = \\frac{\\bar{X} - \\mu}{SE} $\n",
    "\n",
    "Recall: \n",
    "\n",
    "$ \\chi^2 = \\frac{(n - 1)S^2}{\\sigma^2} $\n",
    "\n",
    "And:\n",
    "\n",
    "$ z = \\frac{\\bar X - \\mu}{\\sigma^2} $\n",
    "\n",
    "\n",
    "Then in terms of $ v $:\n",
    "\n",
    "$ \\chi^2 = \\frac{v S^2}{\\sigma^2} $\n",
    "\n",
    "Then we can rearrange the first equality:\n",
    "\n",
    "$ t_v = \\frac{\\bar X - \\mu}{\\sigma / \\sqrt{n}}/\\sqrt{S^2 / \\sigma^2} $\n",
    "\n",
    "#### F Distribution\n",
    "\n",
    "This is a ratio of $ \\chi^2 $ distributions.\n",
    "\n",
    "$ F_{u,v} = \\frac{\\chi_u^2 / u}{\\chi_v^2/v} $\n",
    "\n",
    "Where the $ \\chi^2 $ random variables are independent.\n",
    "\n"
   ]
  },
  {
   "cell_type": "code",
   "execution_count": null,
   "id": "aafb7e5c",
   "metadata": {},
   "outputs": [],
   "source": []
  }
 ],
 "metadata": {
  "kernelspec": {
   "display_name": "R",
   "language": "R",
   "name": "ir"
  },
  "language_info": {
   "codemirror_mode": "r",
   "file_extension": ".r",
   "mimetype": "text/x-r-source",
   "name": "R",
   "pygments_lexer": "r",
   "version": "4.1.2"
  }
 },
 "nbformat": 4,
 "nbformat_minor": 5
}
