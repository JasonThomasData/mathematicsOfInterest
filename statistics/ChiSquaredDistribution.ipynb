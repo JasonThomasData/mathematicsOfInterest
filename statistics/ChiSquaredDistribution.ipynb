{
 "cells": [
  {
   "cell_type": "markdown",
   "id": "250fd11f",
   "metadata": {},
   "source": [
    "### Chi squared distribution\n",
    "\n",
    "Given independent normal r.v.s:\n",
    "\n",
    "$ Z_1, Z_2 ... Z_n $\n",
    "\n",
    "Then :\n",
    "\n",
    "$ \\chi_k^2 = Z_1^2 + Z_2^2 + ... + Z_n^2 $\n",
    "\n",
    "Is a new r.v. that follows the Chi-Squared distribution with $ k $ degrees of freedom.\n",
    "\n",
    "Its pdf is in lecture 4(1)b."
   ]
  },
  {
   "cell_type": "code",
   "execution_count": null,
   "id": "7cf5c584",
   "metadata": {},
   "outputs": [],
   "source": []
  }
 ],
 "metadata": {
  "kernelspec": {
   "display_name": "R",
   "language": "R",
   "name": "ir"
  },
  "language_info": {
   "codemirror_mode": "r",
   "file_extension": ".r",
   "mimetype": "text/x-r-source",
   "name": "R",
   "pygments_lexer": "r",
   "version": "4.1.2"
  }
 },
 "nbformat": 4,
 "nbformat_minor": 5
}
