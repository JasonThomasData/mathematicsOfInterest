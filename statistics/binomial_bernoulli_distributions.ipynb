{
 "cells": [
  {
   "cell_type": "markdown",
   "id": "cb4aa46f",
   "metadata": {},
   "source": [
    "### Binomial Distribution (Bernoulli Distribution over n trials)\n",
    "\n",
    "The Bernoulli Distribution can have two possible values: $ 0, 1 $\n",
    "\n",
    "They are assigned probability $ p, 1-p $\n",
    "\n",
    "$ E(X) = 0*(1-p) + 1*p $\n",
    "\n",
    "$ Var(X) = p(1-p) = p - p^2 $\n",
    "\n",
    "#### Binomial Distribution\n",
    "\n",
    "Then for an experiment where we have a bunch of trials (heads or tails, for example), then the random variable is\n",
    "\n",
    "$ X = X_1 + X_2 + X_3 + ... + X_n $\n",
    "\n",
    "This gives us the total number of $1s$ that occur in $ n $ trials.\n",
    "\n",
    "$ X \\sim Bin(n, p) $"
   ]
  },
  {
   "cell_type": "code",
   "execution_count": 9,
   "id": "21c5ca5e",
   "metadata": {},
   "outputs": [
    {
     "data": {
      "text/html": [
       "<style>\n",
       ".list-inline {list-style: none; margin:0; padding: 0}\n",
       ".list-inline>li {display: inline-block}\n",
       ".list-inline>li:not(:last-child)::after {content: \"\\00b7\"; padding: 0 .5ex}\n",
       "</style>\n",
       "<ol class=list-inline><li>0</li><li>1</li><li>0</li><li>0</li><li>1</li><li>0</li><li>1</li><li>1</li><li>1</li><li>1</li></ol>\n"
      ],
      "text/latex": [
       "\\begin{enumerate*}\n",
       "\\item 0\n",
       "\\item 1\n",
       "\\item 0\n",
       "\\item 0\n",
       "\\item 1\n",
       "\\item 0\n",
       "\\item 1\n",
       "\\item 1\n",
       "\\item 1\n",
       "\\item 1\n",
       "\\end{enumerate*}\n"
      ],
      "text/markdown": [
       "1. 0\n",
       "2. 1\n",
       "3. 0\n",
       "4. 0\n",
       "5. 1\n",
       "6. 0\n",
       "7. 1\n",
       "8. 1\n",
       "9. 1\n",
       "10. 1\n",
       "\n",
       "\n"
      ],
      "text/plain": [
       " [1] 0 1 0 0 1 0 1 1 1 1"
      ]
     },
     "metadata": {},
     "output_type": "display_data"
    }
   ],
   "source": [
    "rbinom(n=10,size=1,p=0.5)"
   ]
  },
  {
   "cell_type": "markdown",
   "id": "e92b8a24",
   "metadata": {},
   "source": [
    "So it seems that `size` and `p` (above in R) are used for individual Bernoulli distributions, while `n` is used for the number of Bernoulli trials."
   ]
  },
  {
   "cell_type": "markdown",
   "id": "cd929a73",
   "metadata": {},
   "source": [
    "The pmf of the distribution is:\n",
    "\n",
    "$ P(k) = nCk \\cdot p^k (1-p)^{n-k} $\n",
    "\n",
    "And this is the probability that you will observe $ k $ number of $ 1s $ in a random experiment that uses a binomial distribution with $ n $ number of trials.\n",
    "\n",
    "#### Expected value\n",
    "\n",
    "$ E(X) = np $\n",
    "\n",
    "In other words, the probabilitiy that you will get a head (1) after $ n $ coin flips when the dice is fair $ (p=0.5) $ is simply the number of flips by the probability of a head.\n",
    "\n",
    "#### Variance\n",
    "\n",
    "$ Var(X) = np(1-p) $\n",
    "\n",
    "This is because the variance of a Bernoulli distribution is $ p(1-p) $, but we have $ n $ of those distributions to consider.\n"
   ]
  },
  {
   "cell_type": "code",
   "execution_count": null,
   "id": "6a602484",
   "metadata": {},
   "outputs": [],
   "source": []
  }
 ],
 "metadata": {
  "kernelspec": {
   "display_name": "R",
   "language": "R",
   "name": "ir"
  },
  "language_info": {
   "codemirror_mode": "r",
   "file_extension": ".r",
   "mimetype": "text/x-r-source",
   "name": "R",
   "pygments_lexer": "r",
   "version": "4.1.2"
  }
 },
 "nbformat": 4,
 "nbformat_minor": 5
}
