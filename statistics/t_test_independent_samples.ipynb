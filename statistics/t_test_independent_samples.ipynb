{
 "cells": [
  {
   "cell_type": "markdown",
   "id": "24fb2823",
   "metadata": {},
   "source": [
    "### Independent samples t test\n",
    "\n",
    "There are two samples from two populations, and we wish to know how the population's parameters are different. For example, the lung capacity of a population of smokers compared to non-smokers."
   ]
  },
  {
   "cell_type": "markdown",
   "id": "8064078c",
   "metadata": {},
   "source": [
    "$ \\bar{x_1}, \\bar{x_2} $ : the sample statistics\n",
    "\n",
    "$ S_1, S_2 $ : the sample standard deviations\n",
    "\n",
    "$ n_1, n_2 $ : the sizes of the samples"
   ]
  },
  {
   "cell_type": "code",
   "execution_count": 1,
   "id": "34484d03",
   "metadata": {},
   "outputs": [],
   "source": [
    "x_1 = 4.8\n",
    "S_1 = 1.2\n",
    "n_1 = 40\n",
    "\n",
    "x_2 = 5.9\n",
    "S_2 = 1.9\n",
    "n_2 = 45"
   ]
  },
  {
   "cell_type": "markdown",
   "id": "13b35c89",
   "metadata": {},
   "source": [
    "Suppose we wish to test whether the second population's parameter is significantly larger than the second, then the difference of $ \\mu_1 - \\mu_2 < 0 $\n",
    "\n",
    "$ h_0 : \\mu_1 - \\mu_2 = 0 $\n",
    "\n",
    "$ h_a : \\mu_1 - \\mu_2 < 0 $\n",
    "\n",
    "$ alpha : 0.01 $"
   ]
  },
  {
   "cell_type": "code",
   "execution_count": 2,
   "id": "dd7c620b",
   "metadata": {},
   "outputs": [],
   "source": [
    "h_0_value = 0\n",
    "alpha = 0.05 # A two tailed test is alpha/2, but one tail is just alpha"
   ]
  },
  {
   "cell_type": "markdown",
   "id": "9bc8b7ff",
   "metadata": {},
   "source": [
    "Find the test statistic\n",
    "\n",
    "Note, this equates to \"equal variances not assumed\". You would have needed to do\n",
    "\n",
    "$ t = \\large \\frac{(\\bar{x_1} - \\bar{x_2}) - (\\mu_1 - \\mu_2)}{\\sqrt{\\frac{S_1^2}{n_1}+\\frac{S_2^2}{n_2}}}$\n",
    "\n",
    "Note here, that$ \\sqrt{\\frac{S_1^2}{n_1}+\\frac{S_2^2}{n_2}} = {\\frac{S_1}{\\sqrt{n_1}}+\\frac{S_2}{\\sqrt{n_2}}} $ is the error."
   ]
  },
  {
   "cell_type": "code",
   "execution_count": 3,
   "id": "3bf0aa90",
   "metadata": {},
   "outputs": [
    {
     "data": {
      "text/html": [
       "-3.22662205195415"
      ],
      "text/latex": [
       "-3.22662205195415"
      ],
      "text/markdown": [
       "-3.22662205195415"
      ],
      "text/plain": [
       "[1] -3.226622"
      ]
     },
     "metadata": {},
     "output_type": "display_data"
    }
   ],
   "source": [
    "error = sqrt(S_1^2 / n_1 + S_2^2 / n_2)\n",
    "test_statistic = ((x_1 - x_2) - h_0_value) / error\n",
    "test_statistic"
   ]
  },
  {
   "cell_type": "markdown",
   "id": "7abaf234",
   "metadata": {},
   "source": [
    "Find the degrees of freedom\n",
    "\n",
    "$ v = \\frac{\\left(\\frac{S_1^2}{n_1} + \\frac{S_2^2}{n_2}\\right)^2}{\\frac{\\left(\\frac{sd_1^2}{n_1}\\right)^2}{n_1 - 1} + \\frac{\\left(\\frac{sd_2^2}{n_2}\\right)^2}{n_2 - 1}} $"
   ]
  },
  {
   "cell_type": "code",
   "execution_count": 4,
   "id": "c0122502",
   "metadata": {},
   "outputs": [
    {
     "data": {
      "text/html": [
       "75"
      ],
      "text/latex": [
       "75"
      ],
      "text/markdown": [
       "75"
      ],
      "text/plain": [
       "[1] 75"
      ]
     },
     "metadata": {},
     "output_type": "display_data"
    }
   ],
   "source": [
    "dof = (S_1^2 / n_1 + S_2^2 / n_2)^2 / ((S_1^2 / n_1)^2 / (n_1 - 1) + (S_2^2 / n_2)^2 / (n_2 - 1))\n",
    "dof = round(dof)\n",
    "dof"
   ]
  },
  {
   "cell_type": "code",
   "execution_count": 5,
   "id": "406abcf4",
   "metadata": {},
   "outputs": [
    {
     "data": {
      "text/html": [
       "-1.66542537332256"
      ],
      "text/latex": [
       "-1.66542537332256"
      ],
      "text/markdown": [
       "-1.66542537332256"
      ],
      "text/plain": [
       "[1] -1.665425"
      ]
     },
     "metadata": {},
     "output_type": "display_data"
    }
   ],
   "source": [
    "critical_value = qt(1-alpha, dof)\n",
    "region_of_rejection = -critical_value\n",
    "region_of_rejection"
   ]
  },
  {
   "cell_type": "markdown",
   "id": "7e75d4a5",
   "metadata": {},
   "source": [
    "Since the test statstic does not fall below the lower tail, then we can not reject $ h_0 $"
   ]
  },
  {
   "cell_type": "code",
   "execution_count": 8,
   "id": "c81bb05c",
   "metadata": {},
   "outputs": [
    {
     "data": {
      "text/html": [
       "-1.09571289884987"
      ],
      "text/latex": [
       "-1.09571289884987"
      ],
      "text/markdown": [
       "-1.09571289884987"
      ],
      "text/plain": [
       "[1] -1.095713"
      ]
     },
     "metadata": {},
     "output_type": "display_data"
    }
   ],
   "source": [
    "sample_statistic = x_1 - x_2\n",
    "\n",
    "T = qt(0.99/2, 75)\n",
    "\n",
    "CI_lower = sample_statistic - T*error\n",
    "CI_lower"
   ]
  },
  {
   "cell_type": "code",
   "execution_count": null,
   "id": "8720451a",
   "metadata": {},
   "outputs": [],
   "source": []
  }
 ],
 "metadata": {
  "kernelspec": {
   "display_name": "R",
   "language": "R",
   "name": "ir"
  },
  "language_info": {
   "codemirror_mode": "r",
   "file_extension": ".r",
   "mimetype": "text/x-r-source",
   "name": "R",
   "pygments_lexer": "r",
   "version": "3.6.3"
  }
 },
 "nbformat": 4,
 "nbformat_minor": 5
}
