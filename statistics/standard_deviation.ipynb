{
 "cells": [
  {
   "cell_type": "code",
   "execution_count": 25,
   "id": "642e613a",
   "metadata": {},
   "outputs": [],
   "source": [
    "import math\n",
    "\n",
    "data = [1,2,3,4,7,8,13,20]\n",
    "n = len(example_dataset)"
   ]
  },
  {
   "cell_type": "markdown",
   "id": "3946378c",
   "metadata": {},
   "source": [
    "$ \\bar{x} = \\frac{\\sum(data)}{n} $"
   ]
  },
  {
   "cell_type": "code",
   "execution_count": 30,
   "id": "2bc37269",
   "metadata": {},
   "outputs": [
    {
     "data": {
      "text/plain": [
       "7.25"
      ]
     },
     "execution_count": 30,
     "metadata": {},
     "output_type": "execute_result"
    }
   ],
   "source": [
    "arithmetic_mean = sum(example_dataset)/n\n",
    "arithmetic_mean"
   ]
  },
  {
   "cell_type": "markdown",
   "id": "931b6e26",
   "metadata": {},
   "source": [
    "Sum of squares is:\n",
    "\n",
    "$ \\sum(x-\\bar{x})^2 $"
   ]
  },
  {
   "cell_type": "code",
   "execution_count": 31,
   "id": "c3d3abef",
   "metadata": {},
   "outputs": [
    {
     "data": {
      "text/plain": [
       "291.5"
      ]
     },
     "execution_count": 31,
     "metadata": {},
     "output_type": "execute_result"
    }
   ],
   "source": [
    "squared_deviations_from_mean = []\n",
    "for elem in data:\n",
    "    deviation_squared = (elem - arithmetic_mean)**2\n",
    "    squared_deviations_from_mean.append(deviation_squared)\n",
    "sum_of_squares = sum(squared_deviations_from_mean)\n",
    "sum_of_squares"
   ]
  },
  {
   "cell_type": "markdown",
   "id": "da861ead",
   "metadata": {},
   "source": [
    "If you are using data from the population then:\n",
    "\n",
    "$ var = \\frac{\\sum(x - \\bar{x})^2}{n} $\n",
    "\n",
    "If you are using the sample then:\n",
    "\n",
    "$ var = \\frac{\\sum(x - \\bar{x})^2}{n-1} $"
   ]
  },
  {
   "cell_type": "code",
   "execution_count": 34,
   "id": "a2b2db5b",
   "metadata": {},
   "outputs": [
    {
     "data": {
      "text/plain": [
       "41.642857142857146"
      ]
     },
     "execution_count": 34,
     "metadata": {},
     "output_type": "execute_result"
    }
   ],
   "source": [
    "# Assuming this is sample data\n",
    "\n",
    "variance = sum_of_squares / (n-1)\n",
    "variance"
   ]
  },
  {
   "cell_type": "markdown",
   "id": "da443e22",
   "metadata": {},
   "source": [
    "$ \\sigma = \\sqrt var $"
   ]
  },
  {
   "cell_type": "code",
   "execution_count": 35,
   "id": "391946b4",
   "metadata": {},
   "outputs": [
    {
     "data": {
      "text/plain": [
       "6.453127702351562"
      ]
     },
     "execution_count": 35,
     "metadata": {},
     "output_type": "execute_result"
    }
   ],
   "source": [
    "# SD is:\n",
    "\n",
    "math.sqrt(variance)"
   ]
  }
 ],
 "metadata": {
  "kernelspec": {
   "display_name": "Python 3 (ipykernel)",
   "language": "python",
   "name": "python3"
  },
  "language_info": {
   "codemirror_mode": {
    "name": "ipython",
    "version": 3
   },
   "file_extension": ".py",
   "mimetype": "text/x-python",
   "name": "python",
   "nbconvert_exporter": "python",
   "pygments_lexer": "ipython3",
   "version": "3.8.10"
  }
 },
 "nbformat": 4,
 "nbformat_minor": 5
}
