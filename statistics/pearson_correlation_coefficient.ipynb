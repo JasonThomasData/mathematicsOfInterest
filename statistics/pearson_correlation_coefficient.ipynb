{
 "cells": [
  {
   "cell_type": "markdown",
   "id": "baf870a5",
   "metadata": {},
   "source": [
    "### Pearson's Correlation coefficient\n",
    "\n",
    "This one will tell us if two variables share a correlation or not.\n",
    "\n",
    "Let:\n",
    "\n",
    "$ \\bar{x} $ be the mean of x \n",
    "\n",
    "$ \\bar{y} $ be the mean of y \n",
    "\n",
    "$ S_{xx} = \\sum{(x - \\bar{x})}^2 $\n",
    "\n",
    "$ S_{yy} = \\sum{(y - \\bar{y})}^2 $\n",
    "\n",
    "$ S_{xy} = \\sum{(x - \\bar{x})(y - \\bar{y})} $\n",
    "\n",
    "$ r = \\large \\frac{S_{xy}}{\\sqrt{S_{xx}S_{yy}}} $\n",
    "\n",
    "Then, r will be:\n",
    "\n",
    "- 1, meaning there is a perfect positive correlation\n",
    "\n",
    "- -1, meaning a perfect negative correlation\n",
    "\n",
    "- 0, meaning there is no correlation"
   ]
  },
  {
   "cell_type": "code",
   "execution_count": 15,
   "id": "08bc113e",
   "metadata": {},
   "outputs": [
    {
     "data": {
      "image/png": "[encoded data removed]",
      "text/plain": [
       "plot without title"
      ]
     },
     "metadata": {
      "image/png": {
       "height": 420,
       "width": 420
      }
     },
     "output_type": "display_data"
    }
   ],
   "source": [
    "n = 100\n",
    "x = c(1:n)\n",
    "y = x+runif(n, -40,40)\n",
    "plot(x,y)"
   ]
  },
  {
   "cell_type": "code",
   "execution_count": 25,
   "id": "81bce20c",
   "metadata": {},
   "outputs": [],
   "source": [
    "xMean = mean(x)\n",
    "yMean = mean(y)"
   ]
  },
  {
   "cell_type": "code",
   "execution_count": 29,
   "id": "275778c1",
   "metadata": {},
   "outputs": [
    {
     "data": {
      "text/html": [
       "75020.9878818691"
      ],
      "text/latex": [
       "75020.9878818691"
      ],
      "text/markdown": [
       "75020.9878818691"
      ],
      "text/plain": [
       "[1] 75020.99"
      ]
     },
     "metadata": {},
     "output_type": "display_data"
    }
   ],
   "source": [
    "sumXY = sum((x - xMean)*(y - yMean))\n",
    "sumXsquares = sum((x - xMean)^2)\n",
    "sumYsquares = sum((y - yMean)^2)"
   ]
  },
  {
   "cell_type": "code",
   "execution_count": 32,
   "id": "87890402",
   "metadata": {},
   "outputs": [
    {
     "data": {
      "text/html": [
       "0.751933893752811"
      ],
      "text/latex": [
       "0.751933893752811"
      ],
      "text/markdown": [
       "0.751933893752811"
      ],
      "text/plain": [
       "[1] 0.7519339"
      ]
     },
     "metadata": {},
     "output_type": "display_data"
    }
   ],
   "source": [
    "r = sumXY/sqrt(sumXsquares*sumYsquares)\n",
    "r"
   ]
  },
  {
   "cell_type": "markdown",
   "id": "46f381c7",
   "metadata": {},
   "source": [
    "However, if you're analysing a sample then making inferences about the population requires a test, which R has implemented for us."
   ]
  },
  {
   "cell_type": "code",
   "execution_count": 34,
   "id": "723b0490",
   "metadata": {},
   "outputs": [
    {
     "data": {
      "text/plain": [
       "\n",
       "\tPearson's product-moment correlation\n",
       "\n",
       "data:  x and y\n",
       "t = 11.291, df = 98, p-value < 2.2e-16\n",
       "alternative hypothesis: true correlation is not equal to 0\n",
       "95 percent confidence interval:\n",
       " 0.6517793 0.8263113\n",
       "sample estimates:\n",
       "      cor \n",
       "0.7519339 \n"
      ]
     },
     "metadata": {},
     "output_type": "display_data"
    }
   ],
   "source": [
    "cor.test(x,y)"
   ]
  },
  {
   "cell_type": "code",
   "execution_count": null,
   "id": "0f32bd76",
   "metadata": {},
   "outputs": [],
   "source": []
  }
 ],
 "metadata": {
  "kernelspec": {
   "display_name": "R",
   "language": "R",
   "name": "ir"
  },
  "language_info": {
   "codemirror_mode": "r",
   "file_extension": ".r",
   "mimetype": "text/x-r-source",
   "name": "R",
   "pygments_lexer": "r",
   "version": "3.6.3"
  }
 },
 "nbformat": 4,
 "nbformat_minor": 5
}
