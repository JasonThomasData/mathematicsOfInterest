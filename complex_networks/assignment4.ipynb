{
 "cells": [
  {
   "cell_type": "markdown",
   "id": "9a487217",
   "metadata": {},
   "source": [
    "### Programming assessment 4\n",
    "\n",
    "### Complex networks\n",
    "\n",
    "### Jason Thomas\n",
    "\n",
    "### Q1\n",
    "\n",
    "This assignment will use two igraph functions to make use of the algorithms .\n",
    "\n",
    "This report will:\n",
    "- describe the basis for using algorithms\n",
    "- once communities are found, check the conditions:\n",
    "    - $ \\bigcup_\\limits{i=1}^k N(g_i) = N(G) $\n",
    "    - $ \\bigcap_\\limits{i=1}^k N(g_i) = \\emptyset $\n",
    "\n"
   ]
  },
  {
   "cell_type": "code",
   "execution_count": null,
   "id": "23252569",
   "metadata": {},
   "outputs": [],
   "source": [
    "/home/john/Downloads/jazz_edgelist-1(1).txt"
   ]
  }
 ],
 "metadata": {
  "kernelspec": {
   "display_name": "R",
   "language": "R",
   "name": "ir"
  },
  "language_info": {
   "codemirror_mode": "r",
   "file_extension": ".r",
   "mimetype": "text/x-r-source",
   "name": "R",
   "pygments_lexer": "r",
   "version": "4.1.2"
  }
 },
 "nbformat": 4,
 "nbformat_minor": 5
}
