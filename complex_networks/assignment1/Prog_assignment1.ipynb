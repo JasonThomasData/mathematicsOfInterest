{
 "cells": [
  {
   "cell_type": "markdown",
   "id": "e03d934a",
   "metadata": {},
   "source": [
    "### Complex Networks\n",
    "### Programming Assignment 1\n",
    "### Jason Thomas\n",
    "### s3907634\n",
    "\n",
    "---\n"
   ]
  },
  {
   "cell_type": "code",
   "execution_count": 1,
   "id": "26938a45",
   "metadata": {},
   "outputs": [
    {
     "name": "stderr",
     "output_type": "stream",
     "text": [
      "\n",
      "‘network’ 1.18.1 (2023-01-24), part of the Statnet Project\n",
      "* ‘news(package=\"network\")’ for changes since last version\n",
      "* ‘citation(\"network\")’ for citation information\n",
      "* ‘https://statnet.org’ for help, support, and other information\n",
      "\n",
      "\n",
      "Loading required package: statnet.common\n",
      "\n",
      "\n",
      "Attaching package: ‘statnet.common’\n",
      "\n",
      "\n",
      "The following objects are masked from ‘package:base’:\n",
      "\n",
      "    attr, order\n",
      "\n",
      "\n",
      "sna: Tools for Social Network Analysis\n",
      "Version 2.7-1 created on 2023-01-24.\n",
      "copyright (c) 2005, Carter T. Butts, University of California-Irvine\n",
      " For citation information, type citation(\"sna\").\n",
      " Type help(package=\"sna\") to get started.\n",
      "\n",
      "\n"
     ]
    }
   ],
   "source": [
    "packages = c('testit', 'network', 'sna', 'scales')\n",
    "for(package in packages) {\n",
    "    library(package, character.only = TRUE)\n",
    "}"
   ]
  },
  {
   "cell_type": "code",
   "execution_count": 2,
   "id": "001d5456",
   "metadata": {},
   "outputs": [],
   "source": [
    "source(\"assignment1_functions.R\");"
   ]
  },
  {
   "cell_type": "code",
   "execution_count": 30,
   "id": "0303691e",
   "metadata": {},
   "outputs": [],
   "source": [
    "getAdjMatrix = function(filePath) {\n",
    "    adjTable = read.table(file = filePath, header = FALSE);\n",
    "    adjMatrix = as.matrix(adjTable);\n",
    "    rownames(adjMatrix) <- colnames(adjMatrix); # so that we can check symmetry\n",
    "    (adjMatrix);\n",
    "}\n",
    "\n",
    "# I tried for a while to display network graphs on a grid. It was easier to save \n",
    "# them to files and then combine them using a bash script.\n",
    "# See the bash scipt makeGrid.sh\n",
    "plotAllNetworksTogether = function(networks) {\n",
    "    networkVizFolder = \"networkViz\";\n",
    "    for (i in 1:length(networks)) {\n",
    "        fileName = sprintf(\"chart%s.png\", i);\n",
    "        filePath = sprintf(\"%s/%s\",networkVizFolder, fileName);\n",
    "        title = sprintf(\"gvole net %s\", i);\n",
    "        png(filePath);\n",
    "        plot(networks[[i]], main=title);\n",
    "        dev.off();\n",
    "    }\n",
    "}\n",
    "\n",
    "collectIndices = function(uncollectedIndices, searchResult) {\n",
    "    componentIndices = c();\n",
    "    otherIndices = c();\n",
    "    for (i in uncollectedIndices) {\n",
    "        if (searchResult[[i]] == -1) {\n",
    "            otherIndices = c(otherIndices, i);\n",
    "        } else {\n",
    "            componentIndices = c(componentIndices, i);\n",
    "        }\n",
    "    }\n",
    "    (list(component=componentIndices, other=otherIndices));\n",
    "}\n",
    "\n",
    "# This seemed simpler, in the end, compared to using igraph. Various reasons\n",
    "partitionIndicesByComponent = function(network) {\n",
    "    components = list();\n",
    "    comp_i = 1;\n",
    "    \n",
    "    i = 1;\n",
    "    searchResult = levels(network, i);\n",
    "    nodeIndices = 1:length(searchResult); # These are assigned once and not again\n",
    "    \n",
    "    indices = collectIndices(nodeIndices, searchResult);\n",
    "    componentIndices = indices$component;\n",
    "    components[[comp_i]] = componentIndices;\n",
    "    uncollectedIndices = indices$other;\n",
    "    \n",
    "    while (length(uncollectedIndices) > 0) {\n",
    "        i = uncollectedIndices[1];\n",
    "        searchResult = levels(network, i);\n",
    "        \n",
    "        indices = collectIndices(uncollectedIndices, searchResult);\n",
    "        componentIndices = indices$component;\n",
    "        \n",
    "        comp_i = comp_i + 1;\n",
    "        components[[comp_i]] = componentIndices;\n",
    "        uncollectedIndices = indices$other;\n",
    "    }\n",
    "    (components)\n",
    "}\n",
    "\n",
    "getLargestComponentIndices = function(components) {\n",
    "    largest_i = 1;\n",
    "    largestNumberOfPaths = 0;\n",
    "    for (i in 1:length(components)) {\n",
    "        component = components[[i]];\n",
    "        if (length(component) > largestNumberOfPaths) {\n",
    "            largestNumberOfPaths = length(component);\n",
    "            largest_i = i;\n",
    "        }\n",
    "    }\n",
    "    (components[[largest_i]])\n",
    "}\n",
    "\n",
    "chompMinus1 = function(vector) {\n",
    "    chompedVector = c();\n",
    "    for (i in 1:length(vector)) {\n",
    "        if (vector[[i]] != -1) {\n",
    "            chompedVector = c(chompedVector, vector[[i]]);\n",
    "        }\n",
    "    }\n",
    "    (chompedVector)\n",
    "}\n",
    "\n",
    "getLargestComponentPathMatrix = function(largestComponentIndices, network, n) {\n",
    "    numberOfIndices = length(largestComponentIndices);\n",
    "    pathMatrix = matrix(, nrow=numberOfIndices, ncol=0);\n",
    "    for (i in largestComponentIndices) {\n",
    "        pathLengths = levels(network, i);\n",
    "        pathLengths = chompMinus1(pathLengths);\n",
    "        pathMatrix = cbind(pathMatrix, pathLengths);\n",
    "    }\n",
    "    (pathMatrix)\n",
    "}\n",
    "\n",
    "getDataForNetwork = function(network, dataForAllNetworks) {\n",
    "    n = network.size(network);\n",
    "    e = network.edgecount(network);\n",
    "    indicesByComponent = partitionIndicesByComponent(network);\n",
    "    numberOfComponents = length(indicesByComponent);\n",
    "    largestComponentIndices = getLargestComponentIndices(indicesByComponent);\n",
    "    largestComponentPathMatrix = getLargestComponentPathMatrix(largestComponentIndices, network, n);\n",
    "    numberOfNodesInLargestComponent = length(largestComponentIndices);\n",
    "    fractionOfNodesInLargestComponent = numberOfNodesInLargestComponent/n;\n",
    "    averageDegree = mean(degree(network, gmode=\"graph\"));\n",
    "    averagePathLengthForLargestComponent = mean(largestComponentPathMatrix);\n",
    "    \n",
    "    dataForNetwork = list(net_id=get.network.attribute(network, \"net id\"),\n",
    "                          node_count=n,\n",
    "                          edge_count=e,\n",
    "                          component_count=numberOfComponents,\n",
    "                          largest_component_node_share=fractionOfNodesInLargestComponent,\n",
    "                          average_degree=averageDegree, \n",
    "                          average_path_length_longest_component=averagePathLengthForLargestComponent );\n",
    "    \n",
    "    (dataForNetwork)\n",
    "}\n",
    "\n",
    "getDataForAllNetworks = function(networks) {\n",
    "    dataForAllNetworks = data.frame(net_id = integer(),\n",
    "                                    node_count = integer(),\n",
    "                                    edge_count = integer(),\n",
    "                                    comonent_count = integer(),\n",
    "                                    largest_component_node_share = integer(),\n",
    "                                    average_degree = numeric(),\n",
    "                                    average_path_length_longest_component = numeric()\n",
    "                                   );\n",
    "\n",
    "    for (i in 1:length(networks)) {\n",
    "        dataForOneNetwork = getDataForNetwork(networks[[i]]);\n",
    "        dataForAllNetworks = rbind(dataForOneNetwork,dataForAllNetworks);\n",
    "    }\n",
    "    (dataForAllNetworks[order(dataForAllNetworks$net_id),])\n",
    "}\n"
   ]
  },
  {
   "cell_type": "code",
   "execution_count": 31,
   "id": "642e1167",
   "metadata": {},
   "outputs": [],
   "source": [
    "matricesFolder = \"adj_matrices\";\n",
    "\n",
    "if (file.exists(matricesFolder)){\n",
    "    fileNames = list.files(matricesFolder);\n",
    "} else {\n",
    "    stop(\"Matrix directory not found\");\n",
    "}\n",
    "\n",
    "networks = c();\n",
    "\n",
    "for (i in 1:length(fileNames)) {\n",
    "    fileName = fileNames[i];\n",
    "    filePath = sprintf(\"%s/%s\",matricesFolder, fileName);\n",
    "    \n",
    "    adjMatrix = getAdjMatrix(filePath);\n",
    "\n",
    "    network <- as.network.matrix(adjMatrix, matrix.type=\"adjacency\", directed=FALSE);\n",
    "    \n",
    "    set.network.attribute(network,\"net id\", i);\n",
    "    \n",
    "    networks[[i]] = network;\n",
    "}\n"
   ]
  },
  {
   "cell_type": "markdown",
   "id": "98e09720",
   "metadata": {},
   "source": [
    "### Question 1"
   ]
  },
  {
   "cell_type": "code",
   "execution_count": 32,
   "id": "a95fe6e9",
   "metadata": {},
   "outputs": [],
   "source": [
    "plotAllNetworksTogether(networks);"
   ]
  },
  {
   "cell_type": "code",
   "execution_count": 33,
   "id": "6cee4a51",
   "metadata": {},
   "outputs": [
    {
     "data": {
      "text/html": [
       "<table class=\"dataframe\">\n",
       "<caption>A data.frame: 32 × 7</caption>\n",
       "<thead>\n",
       "\t<tr><th></th><th scope=col>net_id</th><th scope=col>node_count</th><th scope=col>edge_count</th><th scope=col>component_count</th><th scope=col>largest_component_node_share</th><th scope=col>average_degree</th><th scope=col>average_path_length_longest_component</th></tr>\n",
       "\t<tr><th></th><th scope=col>&lt;int&gt;</th><th scope=col>&lt;dbl&gt;</th><th scope=col>&lt;int&gt;</th><th scope=col>&lt;int&gt;</th><th scope=col>&lt;dbl&gt;</th><th scope=col>&lt;dbl&gt;</th><th scope=col>&lt;dbl&gt;</th></tr>\n",
       "</thead>\n",
       "<tbody>\n",
       "\t<tr><th scope=row>32</th><td> 1</td><td> 29</td><td>  33</td><td> 7</td><td>0.6551724</td><td>2.2758621</td><td>3.229917</td></tr>\n",
       "\t<tr><th scope=row>31</th><td> 2</td><td>125</td><td> 251</td><td> 8</td><td>0.5920000</td><td>4.0160000</td><td>5.783419</td></tr>\n",
       "\t<tr><th scope=row>30</th><td> 3</td><td>164</td><td> 657</td><td> 2</td><td>0.9878049</td><td>8.0121951</td><td>3.654169</td></tr>\n",
       "\t<tr><th scope=row>29</th><td> 4</td><td>242</td><td>1083</td><td> 1</td><td>1.0000000</td><td>8.9504132</td><td>3.823475</td></tr>\n",
       "\t<tr><th scope=row>28</th><td> 5</td><td>219</td><td> 630</td><td> 4</td><td>0.9634703</td><td>5.7534247</td><td>5.492644</td></tr>\n",
       "\t<tr><th scope=row>27</th><td> 6</td><td>232</td><td> 612</td><td>11</td><td>0.4568966</td><td>5.2758621</td><td>4.255429</td></tr>\n",
       "\t<tr><th scope=row>26</th><td> 7</td><td>141</td><td> 293</td><td> 8</td><td>0.8865248</td><td>4.1560284</td><td>8.420352</td></tr>\n",
       "\t<tr><th scope=row>25</th><td> 8</td><td> 49</td><td> 122</td><td> 1</td><td>1.0000000</td><td>4.9795918</td><td>3.707622</td></tr>\n",
       "\t<tr><th scope=row>24</th><td> 9</td><td> 28</td><td>  37</td><td> 6</td><td>0.3571429</td><td>2.6428571</td><td>1.580000</td></tr>\n",
       "\t<tr><th scope=row>23</th><td>10</td><td> 64</td><td> 120</td><td> 7</td><td>0.8281250</td><td>3.7500000</td><td>3.925240</td></tr>\n",
       "\t<tr><th scope=row>22</th><td>11</td><td> 37</td><td>  31</td><td>15</td><td>0.4864865</td><td>1.6756757</td><td>2.765432</td></tr>\n",
       "\t<tr><th scope=row>21</th><td>12</td><td> 50</td><td> 102</td><td> 4</td><td>0.8000000</td><td>4.0800000</td><td>2.943750</td></tr>\n",
       "\t<tr><th scope=row>20</th><td>13</td><td> 21</td><td>   9</td><td>15</td><td>0.2380952</td><td>0.8571429</td><td>1.040000</td></tr>\n",
       "\t<tr><th scope=row>19</th><td>14</td><td> 17</td><td>   3</td><td>14</td><td>0.2352941</td><td>0.3529412</td><td>1.250000</td></tr>\n",
       "\t<tr><th scope=row>18</th><td>15</td><td> 19</td><td>  16</td><td> 7</td><td>0.5263158</td><td>1.6842105</td><td>2.160000</td></tr>\n",
       "\t<tr><th scope=row>17</th><td>16</td><td> 96</td><td> 275</td><td> 4</td><td>0.9583333</td><td>5.7291667</td><td>3.321597</td></tr>\n",
       "\t<tr><th scope=row>16</th><td>17</td><td>141</td><td> 493</td><td> 3</td><td>0.9858156</td><td>6.9929078</td><td>3.345272</td></tr>\n",
       "\t<tr><th scope=row>15</th><td>18</td><td>107</td><td> 292</td><td> 6</td><td>0.9345794</td><td>5.4579439</td><td>4.228000</td></tr>\n",
       "\t<tr><th scope=row>14</th><td>19</td><td> 81</td><td> 131</td><td>10</td><td>0.4938272</td><td>3.2345679</td><td>3.721250</td></tr>\n",
       "\t<tr><th scope=row>13</th><td>20</td><td> 49</td><td>  71</td><td> 6</td><td>0.6938776</td><td>2.8979592</td><td>3.641869</td></tr>\n",
       "\t<tr><th scope=row>12</th><td>21</td><td> 77</td><td> 308</td><td> 1</td><td>1.0000000</td><td>8.0000000</td><td>2.834205</td></tr>\n",
       "\t<tr><th scope=row>11</th><td>22</td><td> 98</td><td> 264</td><td> 4</td><td>0.9693878</td><td>5.3877551</td><td>3.405873</td></tr>\n",
       "\t<tr><th scope=row>10</th><td>23</td><td> 84</td><td> 264</td><td> 3</td><td>0.9761905</td><td>6.2857143</td><td>2.921178</td></tr>\n",
       "\t<tr><th scope=row>9</th><td>24</td><td>135</td><td> 466</td><td> 5</td><td>0.9333333</td><td>6.9037037</td><td>3.624843</td></tr>\n",
       "\t<tr><th scope=row>8</th><td>25</td><td> 98</td><td> 215</td><td> 3</td><td>0.9591837</td><td>4.3877551</td><td>4.853101</td></tr>\n",
       "\t<tr><th scope=row>7</th><td>26</td><td> 69</td><td> 118</td><td> 2</td><td>0.9855072</td><td>3.4202899</td><td>5.508218</td></tr>\n",
       "\t<tr><th scope=row>6</th><td>27</td><td> 65</td><td> 130</td><td> 3</td><td>0.9692308</td><td>4.0000000</td><td>5.635173</td></tr>\n",
       "\t<tr><th scope=row>5</th><td>28</td><td> 43</td><td> 118</td><td> 1</td><td>1.0000000</td><td>5.4883721</td><td>2.782044</td></tr>\n",
       "\t<tr><th scope=row>4</th><td>29</td><td> 87</td><td> 302</td><td> 3</td><td>0.9770115</td><td>6.9425287</td><td>2.884152</td></tr>\n",
       "\t<tr><th scope=row>3</th><td>30</td><td>149</td><td> 525</td><td> 2</td><td>0.9932886</td><td>7.0469799</td><td>3.792641</td></tr>\n",
       "\t<tr><th scope=row>2</th><td>31</td><td>124</td><td> 241</td><td>11</td><td>0.8548387</td><td>3.8870968</td><td>4.728195</td></tr>\n",
       "\t<tr><th scope=row>1</th><td>32</td><td>141</td><td> 351</td><td> 6</td><td>0.9007092</td><td>4.9787234</td><td>5.020522</td></tr>\n",
       "</tbody>\n",
       "</table>\n"
      ],
      "text/latex": [
       "A data.frame: 32 × 7\n",
       "\\begin{tabular}{r|lllllll}\n",
       "  & net\\_id & node\\_count & edge\\_count & component\\_count & largest\\_component\\_node\\_share & average\\_degree & average\\_path\\_length\\_longest\\_component\\\\\n",
       "  & <int> & <dbl> & <int> & <int> & <dbl> & <dbl> & <dbl>\\\\\n",
       "\\hline\n",
       "\t32 &  1 &  29 &   33 &  7 & 0.6551724 & 2.2758621 & 3.229917\\\\\n",
       "\t31 &  2 & 125 &  251 &  8 & 0.5920000 & 4.0160000 & 5.783419\\\\\n",
       "\t30 &  3 & 164 &  657 &  2 & 0.9878049 & 8.0121951 & 3.654169\\\\\n",
       "\t29 &  4 & 242 & 1083 &  1 & 1.0000000 & 8.9504132 & 3.823475\\\\\n",
       "\t28 &  5 & 219 &  630 &  4 & 0.9634703 & 5.7534247 & 5.492644\\\\\n",
       "\t27 &  6 & 232 &  612 & 11 & 0.4568966 & 5.2758621 & 4.255429\\\\\n",
       "\t26 &  7 & 141 &  293 &  8 & 0.8865248 & 4.1560284 & 8.420352\\\\\n",
       "\t25 &  8 &  49 &  122 &  1 & 1.0000000 & 4.9795918 & 3.707622\\\\\n",
       "\t24 &  9 &  28 &   37 &  6 & 0.3571429 & 2.6428571 & 1.580000\\\\\n",
       "\t23 & 10 &  64 &  120 &  7 & 0.8281250 & 3.7500000 & 3.925240\\\\\n",
       "\t22 & 11 &  37 &   31 & 15 & 0.4864865 & 1.6756757 & 2.765432\\\\\n",
       "\t21 & 12 &  50 &  102 &  4 & 0.8000000 & 4.0800000 & 2.943750\\\\\n",
       "\t20 & 13 &  21 &    9 & 15 & 0.2380952 & 0.8571429 & 1.040000\\\\\n",
       "\t19 & 14 &  17 &    3 & 14 & 0.2352941 & 0.3529412 & 1.250000\\\\\n",
       "\t18 & 15 &  19 &   16 &  7 & 0.5263158 & 1.6842105 & 2.160000\\\\\n",
       "\t17 & 16 &  96 &  275 &  4 & 0.9583333 & 5.7291667 & 3.321597\\\\\n",
       "\t16 & 17 & 141 &  493 &  3 & 0.9858156 & 6.9929078 & 3.345272\\\\\n",
       "\t15 & 18 & 107 &  292 &  6 & 0.9345794 & 5.4579439 & 4.228000\\\\\n",
       "\t14 & 19 &  81 &  131 & 10 & 0.4938272 & 3.2345679 & 3.721250\\\\\n",
       "\t13 & 20 &  49 &   71 &  6 & 0.6938776 & 2.8979592 & 3.641869\\\\\n",
       "\t12 & 21 &  77 &  308 &  1 & 1.0000000 & 8.0000000 & 2.834205\\\\\n",
       "\t11 & 22 &  98 &  264 &  4 & 0.9693878 & 5.3877551 & 3.405873\\\\\n",
       "\t10 & 23 &  84 &  264 &  3 & 0.9761905 & 6.2857143 & 2.921178\\\\\n",
       "\t9 & 24 & 135 &  466 &  5 & 0.9333333 & 6.9037037 & 3.624843\\\\\n",
       "\t8 & 25 &  98 &  215 &  3 & 0.9591837 & 4.3877551 & 4.853101\\\\\n",
       "\t7 & 26 &  69 &  118 &  2 & 0.9855072 & 3.4202899 & 5.508218\\\\\n",
       "\t6 & 27 &  65 &  130 &  3 & 0.9692308 & 4.0000000 & 5.635173\\\\\n",
       "\t5 & 28 &  43 &  118 &  1 & 1.0000000 & 5.4883721 & 2.782044\\\\\n",
       "\t4 & 29 &  87 &  302 &  3 & 0.9770115 & 6.9425287 & 2.884152\\\\\n",
       "\t3 & 30 & 149 &  525 &  2 & 0.9932886 & 7.0469799 & 3.792641\\\\\n",
       "\t2 & 31 & 124 &  241 & 11 & 0.8548387 & 3.8870968 & 4.728195\\\\\n",
       "\t1 & 32 & 141 &  351 &  6 & 0.9007092 & 4.9787234 & 5.020522\\\\\n",
       "\\end{tabular}\n"
      ],
      "text/markdown": [
       "\n",
       "A data.frame: 32 × 7\n",
       "\n",
       "| <!--/--> | net_id &lt;int&gt; | node_count &lt;dbl&gt; | edge_count &lt;int&gt; | component_count &lt;int&gt; | largest_component_node_share &lt;dbl&gt; | average_degree &lt;dbl&gt; | average_path_length_longest_component &lt;dbl&gt; |\n",
       "|---|---|---|---|---|---|---|---|\n",
       "| 32 |  1 |  29 |   33 |  7 | 0.6551724 | 2.2758621 | 3.229917 |\n",
       "| 31 |  2 | 125 |  251 |  8 | 0.5920000 | 4.0160000 | 5.783419 |\n",
       "| 30 |  3 | 164 |  657 |  2 | 0.9878049 | 8.0121951 | 3.654169 |\n",
       "| 29 |  4 | 242 | 1083 |  1 | 1.0000000 | 8.9504132 | 3.823475 |\n",
       "| 28 |  5 | 219 |  630 |  4 | 0.9634703 | 5.7534247 | 5.492644 |\n",
       "| 27 |  6 | 232 |  612 | 11 | 0.4568966 | 5.2758621 | 4.255429 |\n",
       "| 26 |  7 | 141 |  293 |  8 | 0.8865248 | 4.1560284 | 8.420352 |\n",
       "| 25 |  8 |  49 |  122 |  1 | 1.0000000 | 4.9795918 | 3.707622 |\n",
       "| 24 |  9 |  28 |   37 |  6 | 0.3571429 | 2.6428571 | 1.580000 |\n",
       "| 23 | 10 |  64 |  120 |  7 | 0.8281250 | 3.7500000 | 3.925240 |\n",
       "| 22 | 11 |  37 |   31 | 15 | 0.4864865 | 1.6756757 | 2.765432 |\n",
       "| 21 | 12 |  50 |  102 |  4 | 0.8000000 | 4.0800000 | 2.943750 |\n",
       "| 20 | 13 |  21 |    9 | 15 | 0.2380952 | 0.8571429 | 1.040000 |\n",
       "| 19 | 14 |  17 |    3 | 14 | 0.2352941 | 0.3529412 | 1.250000 |\n",
       "| 18 | 15 |  19 |   16 |  7 | 0.5263158 | 1.6842105 | 2.160000 |\n",
       "| 17 | 16 |  96 |  275 |  4 | 0.9583333 | 5.7291667 | 3.321597 |\n",
       "| 16 | 17 | 141 |  493 |  3 | 0.9858156 | 6.9929078 | 3.345272 |\n",
       "| 15 | 18 | 107 |  292 |  6 | 0.9345794 | 5.4579439 | 4.228000 |\n",
       "| 14 | 19 |  81 |  131 | 10 | 0.4938272 | 3.2345679 | 3.721250 |\n",
       "| 13 | 20 |  49 |   71 |  6 | 0.6938776 | 2.8979592 | 3.641869 |\n",
       "| 12 | 21 |  77 |  308 |  1 | 1.0000000 | 8.0000000 | 2.834205 |\n",
       "| 11 | 22 |  98 |  264 |  4 | 0.9693878 | 5.3877551 | 3.405873 |\n",
       "| 10 | 23 |  84 |  264 |  3 | 0.9761905 | 6.2857143 | 2.921178 |\n",
       "| 9 | 24 | 135 |  466 |  5 | 0.9333333 | 6.9037037 | 3.624843 |\n",
       "| 8 | 25 |  98 |  215 |  3 | 0.9591837 | 4.3877551 | 4.853101 |\n",
       "| 7 | 26 |  69 |  118 |  2 | 0.9855072 | 3.4202899 | 5.508218 |\n",
       "| 6 | 27 |  65 |  130 |  3 | 0.9692308 | 4.0000000 | 5.635173 |\n",
       "| 5 | 28 |  43 |  118 |  1 | 1.0000000 | 5.4883721 | 2.782044 |\n",
       "| 4 | 29 |  87 |  302 |  3 | 0.9770115 | 6.9425287 | 2.884152 |\n",
       "| 3 | 30 | 149 |  525 |  2 | 0.9932886 | 7.0469799 | 3.792641 |\n",
       "| 2 | 31 | 124 |  241 | 11 | 0.8548387 | 3.8870968 | 4.728195 |\n",
       "| 1 | 32 | 141 |  351 |  6 | 0.9007092 | 4.9787234 | 5.020522 |\n",
       "\n"
      ],
      "text/plain": [
       "   net_id node_count edge_count component_count largest_component_node_share\n",
       "32  1      29          33        7              0.6551724                   \n",
       "31  2     125         251        8              0.5920000                   \n",
       "30  3     164         657        2              0.9878049                   \n",
       "29  4     242        1083        1              1.0000000                   \n",
       "28  5     219         630        4              0.9634703                   \n",
       "27  6     232         612       11              0.4568966                   \n",
       "26  7     141         293        8              0.8865248                   \n",
       "25  8      49         122        1              1.0000000                   \n",
       "24  9      28          37        6              0.3571429                   \n",
       "23 10      64         120        7              0.8281250                   \n",
       "22 11      37          31       15              0.4864865                   \n",
       "21 12      50         102        4              0.8000000                   \n",
       "20 13      21           9       15              0.2380952                   \n",
       "19 14      17           3       14              0.2352941                   \n",
       "18 15      19          16        7              0.5263158                   \n",
       "17 16      96         275        4              0.9583333                   \n",
       "16 17     141         493        3              0.9858156                   \n",
       "15 18     107         292        6              0.9345794                   \n",
       "14 19      81         131       10              0.4938272                   \n",
       "13 20      49          71        6              0.6938776                   \n",
       "12 21      77         308        1              1.0000000                   \n",
       "11 22      98         264        4              0.9693878                   \n",
       "10 23      84         264        3              0.9761905                   \n",
       "9  24     135         466        5              0.9333333                   \n",
       "8  25      98         215        3              0.9591837                   \n",
       "7  26      69         118        2              0.9855072                   \n",
       "6  27      65         130        3              0.9692308                   \n",
       "5  28      43         118        1              1.0000000                   \n",
       "4  29      87         302        3              0.9770115                   \n",
       "3  30     149         525        2              0.9932886                   \n",
       "2  31     124         241       11              0.8548387                   \n",
       "1  32     141         351        6              0.9007092                   \n",
       "   average_degree average_path_length_longest_component\n",
       "32 2.2758621      3.229917                             \n",
       "31 4.0160000      5.783419                             \n",
       "30 8.0121951      3.654169                             \n",
       "29 8.9504132      3.823475                             \n",
       "28 5.7534247      5.492644                             \n",
       "27 5.2758621      4.255429                             \n",
       "26 4.1560284      8.420352                             \n",
       "25 4.9795918      3.707622                             \n",
       "24 2.6428571      1.580000                             \n",
       "23 3.7500000      3.925240                             \n",
       "22 1.6756757      2.765432                             \n",
       "21 4.0800000      2.943750                             \n",
       "20 0.8571429      1.040000                             \n",
       "19 0.3529412      1.250000                             \n",
       "18 1.6842105      2.160000                             \n",
       "17 5.7291667      3.321597                             \n",
       "16 6.9929078      3.345272                             \n",
       "15 5.4579439      4.228000                             \n",
       "14 3.2345679      3.721250                             \n",
       "13 2.8979592      3.641869                             \n",
       "12 8.0000000      2.834205                             \n",
       "11 5.3877551      3.405873                             \n",
       "10 6.2857143      2.921178                             \n",
       "9  6.9037037      3.624843                             \n",
       "8  4.3877551      4.853101                             \n",
       "7  3.4202899      5.508218                             \n",
       "6  4.0000000      5.635173                             \n",
       "5  5.4883721      2.782044                             \n",
       "4  6.9425287      2.884152                             \n",
       "3  7.0469799      3.792641                             \n",
       "2  3.8870968      4.728195                             \n",
       "1  4.9787234      5.020522                             "
      ]
     },
     "metadata": {},
     "output_type": "display_data"
    }
   ],
   "source": [
    "data = getDataForAllNetworks(networks);\n",
    "data"
   ]
  },
  {
   "cell_type": "code",
   "execution_count": 41,
   "id": "06d5aee2",
   "metadata": {},
   "outputs": [
    {
     "data": {
      "image/png": "[encoded data removed]",
      "text/plain": [
       "plot without title"
      ]
     },
     "metadata": {
      "image/png": {
       "height": 420,
       "width": 420
      }
     },
     "output_type": "display_data"
    }
   ],
   "source": [
    "plot(data$node_count,\n",
    "     data$average_path_length_longest_component,\n",
    "     xlab=\"node count\",\n",
    "     ylab=\"average path length for longest component\");"
   ]
  },
  {
   "cell_type": "markdown",
   "id": "4c6fa0d2",
   "metadata": {},
   "source": [
    "We might also like to see the Pearson Correlation Coefficient and the level of confidence that we can have, given a default confidence level of $0.95$."
   ]
  },
  {
   "cell_type": "code",
   "execution_count": 52,
   "id": "887ee0a3",
   "metadata": {},
   "outputs": [
    {
     "name": "stdout",
     "output_type": "stream",
     "text": [
      "[1] \"Coefficient:\"\n"
     ]
    },
    {
     "data": {
      "text/html": [
       "<strong>cor:</strong> 0.510415252889794"
      ],
      "text/latex": [
       "\\textbf{cor:} 0.510415252889794"
      ],
      "text/markdown": [
       "**cor:** 0.510415252889794"
      ],
      "text/plain": [
       "      cor \n",
       "0.5104153 "
      ]
     },
     "metadata": {},
     "output_type": "display_data"
    },
    {
     "name": "stdout",
     "output_type": "stream",
     "text": [
      "[1] \"p-value:\"\n"
     ]
    },
    {
     "data": {
      "text/html": [
       "0.00283838153769246"
      ],
      "text/latex": [
       "0.00283838153769246"
      ],
      "text/markdown": [
       "0.00283838153769246"
      ],
      "text/plain": [
       "[1] 0.002838382"
      ]
     },
     "metadata": {},
     "output_type": "display_data"
    }
   ],
   "source": [
    "result = cor.test(data$node_count, data$average_path_length_longest_component);\n",
    "print(\"Coefficient:\")\n",
    "result$estimate\n",
    "print(\"p-value:\")\n",
    "result$p.value"
   ]
  },
  {
   "cell_type": "markdown",
   "id": "4ab6c13f",
   "metadata": {},
   "source": [
    "Given the confidence level of $0.95$, then we apply $ \\alpha = 0.05 $. Since the p-value is lower than the $ \\alpha $ then this result is statistically significant.\n",
    "\n",
    "Note that this interpretation relies on their being a good sample without sampling errors."
   ]
  },
  {
   "cell_type": "markdown",
   "id": "1f348712",
   "metadata": {},
   "source": [
    "Regarding the networks in this analysis: each edge represents a direct contact between one vole and another. If two voles are connected by a path that has more than one edge then those two voles have no direct contact.\n",
    "\n",
    "The plot above suggests there is a strong correlation between the data. The Pearson Correlation Coefficient suggests the same result.\n",
    "\n",
    "This correlation suggests that these animals are either territorial or limit their contact with others of their species for some other survival reason."
   ]
  },
  {
   "cell_type": "code",
   "execution_count": 36,
   "id": "edfef61f",
   "metadata": {},
   "outputs": [],
   "source": [
    "### Test collectIndices\n",
    "\n",
    "nodeIndices = 1:7\n",
    "searchResult = c(-1,2,1,2,-1,-1,1)\n",
    "\n",
    "result = collectIndices(nodeIndices, searchResult)\n",
    "\n",
    "assert(as.vector(result$other) == c(1,5,6))\n",
    "assert(as.vector(result$component) == c(2,3,4,7))"
   ]
  },
  {
   "cell_type": "code",
   "execution_count": 18,
   "id": "3bd2a8e6",
   "metadata": {},
   "outputs": [],
   "source": [
    "### Test partitionIndicesByComponent sparse network\n",
    "\n",
    "adjMatrix = matrix(c(0,1,0,0,0,0,1,\n",
    "                     1,0,0,0,0,0,0,\n",
    "                     0,0,0,1,0,0,0,\n",
    "                     0,0,1,0,1,0,0,\n",
    "                     0,0,0,1,0,0,0,\n",
    "                     0,0,0,0,0,0,0,\n",
    "                     1,0,0,0,0,0,0), \n",
    "                   nrow=7,\n",
    "                   ncol=7)\n",
    "\n",
    "network <- as.network.matrix(adjMatrix, matrix.type=\"adjacency\", directed=FALSE)\n",
    "\n",
    "result = partitionIndicesByComponent(network)\n",
    "\n",
    "assert(result[[1]] == c(1,2,7))\n",
    "assert(result[[2]] == c(3,4,5))\n",
    "assert(result[[3]] == c(6))"
   ]
  },
  {
   "cell_type": "code",
   "execution_count": 19,
   "id": "c366dfee",
   "metadata": {},
   "outputs": [],
   "source": [
    "### Test getLargestComponentPathLengths\n",
    "\n",
    "components = list()\n",
    "components[[1]] = c(5,4,3,2,1)\n",
    "components[[2]] = c(1)\n",
    "components[[3]] = c(3,2,1)\n",
    "\n",
    "result = getLargestComponentIndices(components)\n",
    "\n",
    "assert(result == c(5,4,3,2,1))"
   ]
  },
  {
   "cell_type": "code",
   "execution_count": 37,
   "id": "41b23fb8",
   "metadata": {},
   "outputs": [],
   "source": [
    "### Test chompMinus1\n",
    "\n",
    "vector = c(-1,-1,1,0,2,-1,1,3)\n",
    "\n",
    "result = chompMinus1(vector);\n",
    "assert(result == c(1,0,2,1,3));"
   ]
  },
  {
   "cell_type": "code",
   "execution_count": 38,
   "id": "9ef0b94d",
   "metadata": {},
   "outputs": [],
   "source": [
    "### Test getLargestComponentPathMatrix \n",
    "\n",
    "adjMatrix = matrix(c(0,1,0,0,0,0,1,\n",
    "                     1,0,0,0,0,0,0,\n",
    "                     0,0,0,1,1,0,0,\n",
    "                     0,0,1,0,1,0,0,\n",
    "                     0,0,1,1,0,0,0,\n",
    "                     0,0,0,0,0,0,0,\n",
    "                     1,0,0,0,0,0,0), \n",
    "                   nrow=7,\n",
    "                   ncol=7)\n",
    "\n",
    "network <- as.network.matrix(adjMatrix, matrix.type=\"adjacency\", directed=FALSE);\n",
    "\n",
    "largestComponentIndices = c(3,4,5)\n",
    "\n",
    "result = getLargestComponentPathMatrix(largestComponentIndices, network, 7)\n",
    "\n",
    "expected = matrix(c(0,1,1,\n",
    "                    1,0,1,\n",
    "                    1,1,0), \n",
    "                   nrow=3,\n",
    "                   ncol=3);\n",
    "\n",
    "assert(result == expected);"
   ]
  },
  {
   "cell_type": "code",
   "execution_count": null,
   "id": "446fad84",
   "metadata": {},
   "outputs": [],
   "source": []
  }
 ],
 "metadata": {
  "kernelspec": {
   "display_name": "R",
   "language": "R",
   "name": "ir"
  },
  "language_info": {
   "codemirror_mode": "r",
   "file_extension": ".r",
   "mimetype": "text/x-r-source",
   "name": "R",
   "pygments_lexer": "r",
   "version": "4.1.2"
  }
 },
 "nbformat": 4,
 "nbformat_minor": 5
}
