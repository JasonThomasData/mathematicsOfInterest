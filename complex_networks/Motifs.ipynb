{
 "cells": [
  {
   "cell_type": "markdown",
   "id": "8b8837c2",
   "metadata": {},
   "source": [
    "### Motifs\n",
    "\n",
    "A motif is a pattern amongst a small subset of nodes.\n",
    "\n",
    "In the sense that a clustering coefficient is a count of triangles, then a motif explands on this idea.\n",
    "\n",
    "#### Examples of motifs\n",
    "\n",
    "Gene regulation: Feed-forward loop.\n",
    "\n",
    "Can we say a subgraph is under-represented or over-represented?\n",
    "\n",
    "We can count subgraphs using the adjacency matrix, and with a directed network we must think about the order of subscripts.\n",
    "\n",
    "$ A = [a_{ij}] $\n",
    "\n",
    "where $ a_{ij} = \\left\\{ \\begin{matrix} 1 \\Leftrightarrow j \\to i \\\\ 0 \\text{  otherwise} \\end{matrix} \\right. $\n",
    "\n",
    "Count of feed-forward loop:\n",
    "\n",
    "$ \\sum_{i<j<k} a_{ji} a_{kj} a_{ki} (1-a_{ij})((1-a_{jk})((1-a_{ik}) $\n",
    "\n",
    "INCLUDE PICTURE OF FEED-FORWARD LOOP\n",
    "\n",
    "Remember, with $ a_{ij} $ means the element of the matrix where $ j $ points to $ i $.\n",
    "\n"
   ]
  },
  {
   "cell_type": "code",
   "execution_count": null,
   "id": "b065af0a",
   "metadata": {},
   "outputs": [],
   "source": []
  }
 ],
 "metadata": {
  "kernelspec": {
   "display_name": "Octave",
   "language": "octave",
   "name": "octave"
  },
  "language_info": {
   "file_extension": ".m",
   "help_links": [
    {
     "text": "GNU Octave",
     "url": "https://www.gnu.org/software/octave/support.html"
    },
    {
     "text": "Octave Kernel",
     "url": "https://github.com/Calysto/octave_kernel"
    },
    {
     "text": "MetaKernel Magics",
     "url": "https://metakernel.readthedocs.io/en/latest/source/README.html"
    }
   ],
   "mimetype": "text/x-octave",
   "name": "octave",
   "version": "6.4.0"
  }
 },
 "nbformat": 4,
 "nbformat_minor": 5
}
