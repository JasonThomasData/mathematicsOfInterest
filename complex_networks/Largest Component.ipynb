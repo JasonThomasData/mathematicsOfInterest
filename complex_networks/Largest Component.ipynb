{
 "cells": [
  {
   "cell_type": "markdown",
   "id": "5911d82e",
   "metadata": {},
   "source": [
    "### Largest Component AKA Giant Component\n",
    "\n",
    "Let:\n",
    "\n",
    "$ N_G $ be the size (number of nodes) of the largest (giant) component.\n",
    "\n",
    "Given a random network $ G(N, P) $ then the average degree $<k>$ is determined by $ P $\n",
    "\n",
    "The measure $ \\frac{N_G}{N} $ is a quotient for how many\n",
    "\n",
    "![](Screenshot_2023-08-11_16-52-21.png)"
   ]
  },
  {
   "cell_type": "code",
   "execution_count": null,
   "id": "7404380d",
   "metadata": {},
   "outputs": [],
   "source": []
  },
  {
   "cell_type": "code",
   "execution_count": null,
   "id": "8b62bdbb",
   "metadata": {},
   "outputs": [],
   "source": []
  },
  {
   "cell_type": "code",
   "execution_count": null,
   "id": "4a0fa128",
   "metadata": {},
   "outputs": [],
   "source": []
  }
 ],
 "metadata": {
  "kernelspec": {
   "display_name": "Octave",
   "language": "octave",
   "name": "octave"
  },
  "language_info": {
   "file_extension": ".m",
   "help_links": [
    {
     "text": "GNU Octave",
     "url": "https://www.gnu.org/software/octave/support.html"
    },
    {
     "text": "Octave Kernel",
     "url": "https://github.com/Calysto/octave_kernel"
    },
    {
     "text": "MetaKernel Magics",
     "url": "https://metakernel.readthedocs.io/en/latest/source/README.html"
    }
   ],
   "mimetype": "text/x-octave",
   "name": "octave",
   "version": "6.4.0"
  }
 },
 "nbformat": 4,
 "nbformat_minor": 5
}
