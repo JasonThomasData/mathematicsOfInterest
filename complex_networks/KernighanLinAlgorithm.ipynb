{
 "cells": [
  {
   "cell_type": "markdown",
   "id": "498b8f47",
   "metadata": {},
   "source": [
    "### Kernighan Lin Algorithm\n",
    "\n",
    "- Step 0: randomly assign nodes to two sets $ X, Y $\n",
    "- Step 1: consider each pair of nodes $ (x_i, y_j) $, including pairs that have no edge, and swap them in $ X, Y $. Find the switch that reduces the cut size by the most. If all are the same then choose any pair.\n",
    "- Step 2: record $ x_n, y_n, \\Delta_n $ where $ n $ is the count of Step 1. Remove that pair from the graph.\n",
    "- Step 3: check if either $ X = \\emptyset $ or $ Y = \\emptyset $.\n",
    "     - if so, goto Step 4\n",
    "     - otherwise run Step 1 and Step 2 again (don't run Step 0). This should operate over the $ X, Y $ with previous pairs $ x_n, y_n $ removed\n",
    "- Step 4: Reimpliment the $ X, Y $ as they were originally, run the switches as recorded for each $ x_n, y_n $ up until the $ n $ where $ X = \\emptyset $ or $ Y = \\emptyset $. Then the result is the heuristic approximation for the minimal cut.\n",
    "\n",
    "\n",
    "\n"
   ]
  },
  {
   "cell_type": "code",
   "execution_count": null,
   "id": "dbf6abb4",
   "metadata": {},
   "outputs": [],
   "source": []
  }
 ],
 "metadata": {
  "kernelspec": {
   "display_name": "R",
   "language": "R",
   "name": "ir"
  },
  "language_info": {
   "codemirror_mode": "r",
   "file_extension": ".r",
   "mimetype": "text/x-r-source",
   "name": "R",
   "pygments_lexer": "r",
   "version": "4.1.2"
  }
 },
 "nbformat": 4,
 "nbformat_minor": 5
}
