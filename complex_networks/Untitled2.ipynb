{
 "cells": [
  {
   "cell_type": "markdown",
   "id": "c977851a",
   "metadata": {},
   "source": [
    "### Small world networks\n",
    "\n",
    "#### Clustering coefficient\n",
    "\n",
    "__Global coefficient:__\n",
    "\n",
    "If a node has two neighbours, then how often are those nodes connected themselves. How often does it happen?\n",
    "\n",
    "- Count the number of triangles?\n",
    "- How many paths are there of length 3 (counting nodes, not edges)\n",
    "\n",
    "$ \\frac{3N_\\Delta}{N_3} $\n",
    "\n",
    "IS THE BELOW, A PROCEDURAL WAY TO DISCOBER THE NUMBER OF TRIANGLES?\n",
    "\n",
    "$ N_\\Delta = \\sum_\\limits{k > j > i} a_{ij} a_{jk} a_{ki} $ THIS SEEMS TO BE A CYCLE\n",
    "\n",
    "$ N_3 = \\sum_\\limits{k > j > i} a_{ij} a_{ik} + a_{ij} a_{jk} + a_{ki} a_{kj} $ WHAT IS THE PURPOSE OF THIS\n",
    "\n",
    "NOTE: DOES THE ABOVE NOTATION MAKE SENSE? IS THE ORDER IMPORTANT OR NOT?\n",
    "\n",
    "Every time you find a triangle, there are $ 3 $ paths of length $ 3 $\n",
    "\n",
    "__Local coefficient:__\n",
    "\n",
    "Let:\n",
    "\n",
    "$ L_i $ be the number of possible edges between the neighbours of node at index $ i $, but excluding edges to node at index $ i $.\n",
    "\n",
    "$ k_i $ be the count of neighbours of node at index $ i $.\n",
    "\n",
    "$ c_i = \\frac{2L_i}{k_i(k_i-1)} $\n",
    "\n",
    "The above is $ \\frac{2 \\cdot \\text{The number of actual edges between neighbours}}{\\text{The number of possible links between neighbours}} $\n",
    "\n",
    "$ L_i $ can be difficult to calculate. You have to isolate the subgraph defined by the neighbours of the node.\n",
    "\n",
    "This shape is known as a star:\n",
    "\n",
    "STAR PIC\n",
    "\n",
    "For it, $ c_i = 0 $, because no neighbour is connected to any other.\n",
    "\n",
    "If $ c_i = 1 $, then the node belongs to a clique, where every node is connected to every other.\n",
    "\n",
    "PIC OF A CLIQUE\n",
    "\n",
    "__Average local coefficient:__\n",
    "\n",
    "OR IS IT CALLED SOMETHING DIFFERENT\n",
    "\n",
    "Let $ n $ be the number of nodes to consider.\n",
    "\n",
    "$ \\frac{1}{n} \\sum_\\limits{i = 1} C_i $\n",
    "\n",
    "__Comparison between local and global coefficient\n",
    "\n",
    "Consider the below graph:\n",
    "\n",
    "\n"
   ]
  },
  {
   "cell_type": "code",
   "execution_count": null,
   "id": "405ef84d",
   "metadata": {},
   "outputs": [],
   "source": []
  }
 ],
 "metadata": {
  "kernelspec": {
   "display_name": "Octave",
   "language": "octave",
   "name": "octave"
  },
  "language_info": {
   "file_extension": ".m",
   "help_links": [
    {
     "text": "GNU Octave",
     "url": "https://www.gnu.org/software/octave/support.html"
    },
    {
     "text": "Octave Kernel",
     "url": "https://github.com/Calysto/octave_kernel"
    },
    {
     "text": "MetaKernel Magics",
     "url": "https://metakernel.readthedocs.io/en/latest/source/README.html"
    }
   ],
   "mimetype": "text/x-octave",
   "name": "octave",
   "version": "6.4.0"
  }
 },
 "nbformat": 4,
 "nbformat_minor": 5
}
