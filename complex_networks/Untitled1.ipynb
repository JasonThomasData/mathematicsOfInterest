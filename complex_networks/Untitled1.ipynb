{
 "cells": [
  {
   "cell_type": "markdown",
   "id": "e5d645ce",
   "metadata": {},
   "source": [
    "### Adjacency matrix\n",
    "\n",
    "It's a $ n x n $\n",
    "\n",
    "$ A = [ a_{ij} ] $\n",
    "\n",
    "Where,\n",
    "\n",
    "$ a_{ij} $ is 1 if an edge exists, but 0 if not\n",
    "\n",
    "It's symmetric for an undirected network.\n",
    "\n"
   ]
  },
  {
   "cell_type": "code",
   "execution_count": 1,
   "id": "7e61bf59",
   "metadata": {},
   "outputs": [
    {
     "name": "stdout",
     "output_type": "stream",
     "text": [
      "ans =\r\n",
      "\r\n",
      "   0   1   1   0\r\n",
      "   1   0   1   0\r\n",
      "   1   1   0   1\r\n",
      "   0   0   1   0\r\n",
      "\r\n"
     ]
    }
   ],
   "source": [
    "[0,1,1,0;\n",
    " 1,0,1,0;\n",
    " 1,1,0,1;\n",
    " 0,0,1,0]"
   ]
  },
  {
   "cell_type": "markdown",
   "id": "234be62e",
   "metadata": {},
   "source": [
    "Eg, you can take the row sums for the out degree, column sums for in degree."
   ]
  },
  {
   "cell_type": "code",
   "execution_count": null,
   "id": "58ab5bee",
   "metadata": {},
   "outputs": [],
   "source": []
  }
 ],
 "metadata": {
  "kernelspec": {
   "display_name": "Octave",
   "language": "octave",
   "name": "octave"
  },
  "language_info": {
   "file_extension": ".m",
   "help_links": [
    {
     "text": "GNU Octave",
     "url": "https://www.gnu.org/software/octave/support.html"
    },
    {
     "text": "Octave Kernel",
     "url": "https://github.com/Calysto/octave_kernel"
    },
    {
     "text": "MetaKernel Magics",
     "url": "https://metakernel.readthedocs.io/en/latest/source/README.html"
    }
   ],
   "mimetype": "text/x-octave",
   "name": "octave",
   "version": "6.4.0"
  }
 },
 "nbformat": 4,
 "nbformat_minor": 5
}
