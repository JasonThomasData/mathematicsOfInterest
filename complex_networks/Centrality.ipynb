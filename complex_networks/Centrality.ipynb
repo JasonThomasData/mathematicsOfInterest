{
 "cells": [
  {
   "cell_type": "markdown",
   "id": "35106013",
   "metadata": {},
   "source": [
    "### Centrality\n",
    "\n",
    "Which nodes are the most central?\n",
    "\n",
    "Types of centrality:\n",
    "\n",
    "#### Degree centrality:\n",
    "\n",
    "The most important node is the one with most edges\n",
    "This is the standard one.\n",
    "\n",
    "#### Eigen vector\n",
    "\n",
    "Who you are connected to is most important.\n",
    "Influence via your neighbours.\n",
    "\n",
    "#### Closeness\n",
    "\n",
    "Notion of ditance.\n",
    "The most important nodes are those that have lowest average path length to every other node.\n",
    "This uses the path matrix.\n",
    "\n",
    "#### Betweenness\n",
    "\n",
    "These are the nodes that appear in the shortest paths most frequently.\n",
    "\n",
    "### Degree correlation\n",
    "\n",
    "#### Assortative\n",
    "\n",
    "Nodes form links with others that have the same degree\n",
    "\n",
    "#### Disassortive\n",
    "\n",
    "Nodes form links with others that have different degrees\n",
    "\n",
    "#### Quantifying degree correlation\n",
    "\n",
    "The probability $ e_{ij} $ that a random edge joins two nodes, one having degree $ i $ and another with degree $ j $.\n",
    "\n",
    "![degree correlation](Screenshot_2023-09-27_16-26-17.png)\n",
    "\n",
    "This means, for each pair $i,j$ you could the number of links with those \n",
    "\n",
    "If it's an undirected graph then calculating the upper triangle will do the job.\n",
    "\n",
    "Can plot this with a heatmap.\n",
    "\n",
    "![heatmaps to determine assortativity](Screenshot_2023-09-27_16-28-53.png)\n",
    "\n",
    "PIC FROM CLASS DISASSORTATIVE OR ASSORTATIVE\n",
    "\n",
    "#### A function of degree correlations\n",
    "\n",
    "An entire matrix of degree correlations might not be helpful. For large networks it might not be possible.\n",
    "\n"
   ]
  },
  {
   "cell_type": "code",
   "execution_count": null,
   "id": "8f58f1f8",
   "metadata": {},
   "outputs": [],
   "source": []
  }
 ],
 "metadata": {
  "kernelspec": {
   "display_name": "Octave",
   "language": "octave",
   "name": "octave"
  },
  "language_info": {
   "file_extension": ".m",
   "help_links": [
    {
     "text": "GNU Octave",
     "url": "https://www.gnu.org/software/octave/support.html"
    },
    {
     "text": "Octave Kernel",
     "url": "https://github.com/Calysto/octave_kernel"
    },
    {
     "text": "MetaKernel Magics",
     "url": "https://metakernel.readthedocs.io/en/latest/source/README.html"
    }
   ],
   "mimetype": "text/x-octave",
   "name": "octave",
   "version": "6.4.0"
  }
 },
 "nbformat": 4,
 "nbformat_minor": 5
}
