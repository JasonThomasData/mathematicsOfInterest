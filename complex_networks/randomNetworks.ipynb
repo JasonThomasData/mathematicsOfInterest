{
 "cells": [
  {
   "cell_type": "markdown",
   "id": "6b8de2d1",
   "metadata": {},
   "source": [
    "### Random networks\n",
    "\n",
    "#### Binomial distribution\n",
    "\n",
    "$ G(N, P) $ is a random network where\n",
    "\n",
    "$ N $ is the number of nodes.\n",
    "\n",
    "$ P $ is the probability that any two nodes are connected.\n",
    "\n",
    "In generating the network, it's a series of bernoulli trials, in the sense that connecting two networks, you flip a weighted coin according to $ P $.\n",
    "\n",
    "$ L $ is the number of edges.\n",
    "\n",
    "$ Pr(L) = P_L $\n",
    "\n",
    "$ P_L = P^L (1 - P)^{1/2 N(N-1) - L} $\n",
    "\n",
    "#### Expected number of edges\n",
    "\n",
    "$ P \\frac{1}{2} N(N - 1) $\n",
    "\n",
    "Example with some emperical data:\n",
    "\n",
    "![example](Screenshot_2023-08-11_14-39-25.png)\n",
    "\n",
    "#### Expected average node degree\n",
    "\n",
    "We can find its expected average node degree:\n",
    "\n",
    "$ K = P (N-1) $\n",
    "\n",
    "For the previous example, this would be:\n",
    "\n",
    "For $ G\\left(7, \\frac{1}{3}\\right) = \\frac{1}{3} (7-1) = 2 $\n",
    "\n",
    "THERE WAS SOMETHING ABOUT VARIANCE\n",
    "\n",
    "#### Poisson Distribtribution\n",
    "\n",
    "![poisson distribution](Screenshot_2023-08-11_15-16-28.png)\n",
    "\n",
    "#### Max and min degrees\n",
    "\n",
    "Let:\n",
    "\n",
    "$ k_\\text{max} $ be the maximum value of $ k $ such that there is at most 1 node with degree greater than $ k_\\text{max} $\n",
    "\n",
    "Then, recall for a discrete variable we can have a PMF that looks like a step function. However when you have lots of nodes then the shape of the PMF approaches what looks like a PDF.\n",
    "\n",
    "Then this is whY a Poisson distribution's CDF would look like this:\n",
    "\n",
    "![](Screenshot_2023-08-11_15-58-28.png)\n",
    "\n",
    "Week 4 lecture goes into how to calculate $ k_\\text{max} $.\n"
   ]
  },
  {
   "cell_type": "code",
   "execution_count": null,
   "id": "e72de0b3",
   "metadata": {},
   "outputs": [],
   "source": []
  }
 ],
 "metadata": {
  "kernelspec": {
   "display_name": "Octave",
   "language": "octave",
   "name": "octave"
  },
  "language_info": {
   "file_extension": ".m",
   "help_links": [
    {
     "text": "GNU Octave",
     "url": "https://www.gnu.org/software/octave/support.html"
    },
    {
     "text": "Octave Kernel",
     "url": "https://github.com/Calysto/octave_kernel"
    },
    {
     "text": "MetaKernel Magics",
     "url": "https://metakernel.readthedocs.io/en/latest/source/README.html"
    }
   ],
   "mimetype": "text/x-octave",
   "name": "octave",
   "version": "6.4.0"
  }
 },
 "nbformat": 4,
 "nbformat_minor": 5
}
