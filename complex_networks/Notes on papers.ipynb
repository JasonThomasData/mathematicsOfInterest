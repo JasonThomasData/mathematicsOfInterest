{
 "cells": [
  {
   "cell_type": "markdown",
   "id": "349f9d67",
   "metadata": {},
   "source": [
    "### Notes on papers\n",
    "\n",
    "- Week 1 reading \"OnNetworksAndMonsters\"\n",
    "    - Before science, we drew monsters on maps.\n",
    "    - When science emerged as a way to explain the world, it focused on reductionism.\n",
    "    - We now know that reductionism has limitations for understanding complex systems, since not all properties are fundamental; some properties are emergent. Eg: an ant is stupid but a colony of ants can build intricate nests. Cellular automata etc.\n",
    "    - Sequencing the human genome was a major step but future work will look into how they interact\n",
    "- Regarding networks\n",
    "    - Exchanges of letters have led to the observation that real-world networks often have short average path lengths, compared to what you might otherwise expect\n",
    "    - Hubs are the archilles heels of complex networks\n",
    "    - This tells us that the fabric of reality is composed of two in-separable properties: complexity and fragility. They seem to go together and cannot be separated. They are at the heart of language architecture, cancer or brain structure\n",
    "\n",
    "- Week 2 reading \"Diameter of the World-Wide Web\"\n",
    "    - In 1999, just 38% of the WWW was reachable from the largest search engine.\n",
    "    - Showed that the power law was more useful for understanding the web, compared to the Poisson distribution\n",
    "    - Connectivity in 1999 was dominated by dominant hubs\n",
    "    - Follows the scale-free model over several orders of magnitude\n",
    "    - The average distance between nodes is relatively unimportant and doesn't grow exponentially proportional to the network size\n",
    "    - While an intelligent actor could navigate the links easily, a robot that uses string matching can't do this and its complexity blows out.\n",
    "\n",
    "- Week 3 reading \"Network Analysis in the Social Sciences\"\n",
    "    - Urbanism reduces network density. Rural folk know their neighbours etc\n",
    "    - Bott, in a study of English couples, found that in some cases there was a strict division of labour between men and women. This was determined by the density, or connectedness, of the family network.\n",
    "    - It is often more useful to map a network of roles than a network of individuals\n",
    "    - SWT theory promotes that information passed to a strong tie becomes redundant because strong ties know each other. Weaker ties tend to not know each other (low transitivity) and so information passed on those lines often affects more people.\n",
    "\n",
    "- Week 4 reading \"BINOMIAL DISTRIBUTION\"\n",
    "    - Binomial distribution can help solve problems with discrete events (probabilities)\n",
    "    - The notion of Pascal's Triangle is useful for understanding how to derive the distribution by using Bernoulli Trials.\n",
    "    - $ E(X) = np $ where $ X \\approx B(n, p) $\n",
    "    - $ var(X) = np(1-p) $\n",
    "\n",
    "- Week 5 reading \"Collective dynamics of ‘small-world’ networks\"\n",
    "    - This goes into detail about what we already learned in class\n",
    "    - Random networks have low average path length and low clustering coefficient\n",
    "    - Regular ring lattices have high average path length and high clustering coefficient\n",
    "    - Real-world networks are in-between. We can achieve an approximation of a real world network with a procedure to rewire some edges.\n",
    "    \n",
    "- Week 6 reading \""
   ]
  },
  {
   "cell_type": "code",
   "execution_count": null,
   "id": "8480ec24",
   "metadata": {},
   "outputs": [],
   "source": []
  }
 ],
 "metadata": {
  "kernelspec": {
   "display_name": "Octave",
   "language": "octave",
   "name": "octave"
  },
  "language_info": {
   "file_extension": ".m",
   "help_links": [
    {
     "text": "GNU Octave",
     "url": "https://www.gnu.org/software/octave/support.html"
    },
    {
     "text": "Octave Kernel",
     "url": "https://github.com/Calysto/octave_kernel"
    },
    {
     "text": "MetaKernel Magics",
     "url": "https://metakernel.readthedocs.io/en/latest/source/README.html"
    }
   ],
   "mimetype": "text/x-octave",
   "name": "octave",
   "version": "6.4.0"
  }
 },
 "nbformat": 4,
 "nbformat_minor": 5
}
