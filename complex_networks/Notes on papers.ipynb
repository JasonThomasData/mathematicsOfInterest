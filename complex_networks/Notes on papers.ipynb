{
 "cells": [
  {
   "cell_type": "markdown",
   "id": "349f9d67",
   "metadata": {},
   "source": [
    "### Notes on papers\n",
    "\n",
    "- Week 1 reading \"OnNetworksAndMonsters\"\n",
    "    - Before science, we drew monsters on maps.\n",
    "    - When science emerged as a way to explain the world, it focused on reductionism.\n",
    "    - We now know that reductionism has limitations for understanding complex systems, since not all properties are fundamental; some properties are emergent. Eg: an ant is stupid but a colony of ants can build intricate nests. Cellular automata etc.\n",
    "    - Sequencing the human genome was a major step but future work will look into how they interact\n",
    "- Regarding networks\n",
    "    - Exchanges of letters have led to the observation that real-world networks often have short average path lengths, compared to what you might otherwise expect\n",
    "    - Hubs are the archilles heels of complex networks\n",
    "    - This tells us that the fabric of reality is composed of two in-separable properties: complexity and fragility. They seem to go together and cannot be separated. They are at the heart of language architecture, cancer or brain structure\n",
    "\n",
    "- Week 2 reading \"Diameter of the World-Wide Web\"\n",
    "    - In 1999, just 38% of the WWW was reachable from the largest search engine.\n",
    "    - Showed that the power law was more useful for understanding the web, compared to the Poisson distribution\n",
    "    - Connectivity in 1999 was dominated by dominant hubs\n",
    "    - Follows the scale-free model over several orders of magnitude\n",
    "    - The average distance between nodes is relatively unimportant and doesn't grow exponentially proportional to the network size\n",
    "    - While an intelligent actor could navigate the links easily, a robot that uses string matching can't do this and its complexity blows out.\n",
    "\n",
    "- Week 3 reading \"Network Analysis in the Social Sciences\"\n",
    "    - Urbanism reduces network density. Rural folk know their neighbours etc\n",
    "    - Bott, in a study of English couples, found that in some cases there was a strict division of labour between men and women. This was determined by the density, or connectedness, of the family network.\n",
    "    - It is often more useful to map a network of roles than a network of individuals\n",
    "    - SWT theory promotes that information passed to a strong tie becomes redundant because strong ties know each other. Weaker ties tend to not know each other (low transitivity) and so information passed on those lines often affects more people.\n",
    "\n",
    "- Week 4 reading \"BINOMIAL DISTRIBUTION\"\n",
    "    - Binomial distribution can help solve problems with discrete events (probabilities)\n",
    "    - The notion of Pascal's Triangle is useful for understanding how to derive the distribution by using Bernoulli Trials.\n",
    "    - $ E(X) = np $ where $ X \\approx B(n, p) $\n",
    "    - $ var(X) = np(1-p) $\n",
    "\n",
    "- Week 5 reading \"Collective dynamics of ‘small-world’ networks\"\n",
    "    - This goes into detail about what we already learned in class\n",
    "    - Random networks have low average path length and low clustering coefficient\n",
    "    - Regular ring lattices have high average path length and high clustering coefficient\n",
    "    - Real-world networks are in-between. We can achieve an approximation of a real world network with a procedure to rewire some edges.\n",
    "    \n",
    "- Week 9 reading \"Infection dynamics on scale-free networks\"\n",
    "    - Typical SIS models (I think they mean the differntial equation modelling approach) see a virus becoming extinct when I becomes very low or the chance of infection diminishes. A network approach using scale free networks can be surprising.\n",
    "    - They instead consider SIR\n",
    "    - Unlike the Diff Equation approach, this one considers each node and its neighbours rather than the typical way of looking at rates of change\n",
    "    - The paper equates rates of growth for S and I to summing up the count of nodes in the opposite case. IOW, rate of growth for infected is determined by the total degree\n",
    "    - The paper finds that the most highly-connected nodes have a big impact on spread of infection. (MIGHT THIS BE WHY CONTACT TRACERS ARE MORE INTERESTED IN WHO YOUR FRIENDS ARE)?\n",
    "\n",
    "- Week 10 reading \"Network motifs\"\n",
    "    - In random networks, Motifs don't seem to appear\n",
    "    - In real world networks, Motifs are found. These are useful structures that are the building blocks of real world networks.\n",
    "    - The paper showcases an algorithm developed to detect motifs\n",
    "    - Real-world networks exhibit network triangles as motifs, but random networks exhibit less of these occuring\n",
    "    - Feed-forward loops and bi-fans commonly found in technology and in biological nets\n",
    "    - I think a good analogy is that the human body is made of atoms, but also those atoms are clustered into mollecules. This is similar to real-world networks; they are made of nodes and edges, but also, motifs.\n",
    "    \n",
    "- Week 11 reading \"Uncovering the overlapping community structure of complex networks in nature and society\"\n",
    "    - Basic observation is that a community is composed of several complete subgraphs\n",
    "    - Communities can be found as collections of cliques that are connected\n",
    "    - Creating binary networks consists of ignoring directions and only counting edges that have degree w or more\n",
    "    - The paper compared three networks (coauthorship, word association, protein) and found that depending on which of the four metrics were considered (community degree, community size, overlap between two communities and the number of communities a node belongs to) and then you plot each network on a log-log plot, then taking each of those variables defined as the independent variable will result in the networks under consideration appearing more-or-less as a line on the log-log plot, meaning it is scale-free.\n",
    "    \n",
    "- Week 12 reading \"Gene co-expression analysis for functional classification and gene–disease predictions\"\n",
    "    - Coexpression networks identify correlations. They use a guilt by association methodology to highlight suspect genes of causing disease. However, they are unable to highlight causality.\n",
    "    - A co-expression network identifies which genes have a tendency to show a coordinated expression pattern across a group of samples.\n",
    "    - Important to consider heterogeneity in Coexpression Networks\n",
    "    - The paper seems to be a literature review and general round-up of how to \n"
   ]
  },
  {
   "cell_type": "code",
   "execution_count": null,
   "id": "8480ec24",
   "metadata": {},
   "outputs": [],
   "source": []
  }
 ],
 "metadata": {
  "kernelspec": {
   "display_name": "Octave",
   "language": "octave",
   "name": "octave"
  },
  "language_info": {
   "file_extension": ".m",
   "help_links": [
    {
     "text": "GNU Octave",
     "url": "https://www.gnu.org/software/octave/support.html"
    },
    {
     "text": "Octave Kernel",
     "url": "https://github.com/Calysto/octave_kernel"
    },
    {
     "text": "MetaKernel Magics",
     "url": "https://metakernel.readthedocs.io/en/latest/source/README.html"
    }
   ],
   "mimetype": "text/x-octave",
   "name": "octave",
   "version": "6.4.0"
  }
 },
 "nbformat": 4,
 "nbformat_minor": 5
}
