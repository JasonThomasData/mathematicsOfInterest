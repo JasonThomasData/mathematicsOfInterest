{
 "cells": [
  {
   "cell_type": "markdown",
   "id": "7a5f9873",
   "metadata": {},
   "source": [
    "### Complex Networks - terminology\n",
    "\n",
    "- Network - often this is a real world example of a graph. Eg. social networ.\n",
    "- Graph - this is more of an abstract notion\n",
    "- Links - what is known as an edge in Graph Theory. I prefer the term edge.\n",
    "- Nodes - what is known as a vertex in Graph Theory. Called \"nodes\" for future reference.\n",
    "\n",
    "#### Types of graphs, or networks\n",
    "- Directed - each edge has a direction. Eg links on the internet, citation networks\n",
    "- Undirected - each edge is directed both ways. Eg a sexual contact newtork, gene coexpression network\n",
    "- Weighted - useful for replacing several edges with a single edge that has a numerical measure\n",
    "- Simple - \n",
    "- Bipartite - the nodes are in two exclusive sets, but the graph only includes edges between the different types. There are no edges between the same type. Eg: a graph of directors who are linked to the actors in their movies.\n",
    "- Spatial - the physical distance between nodes in the real-world situation is preserved in the network model. This means that the length of an edge corresponds to physical distance, but perhaps scaled by some scalar\n",
    "- Empty or Null network - this is the complement of a complete network\n",
    "\n",
    "#### Other terms\n",
    "- Self loop - an edge that has the same tail and head\n",
    "- Multiple edges - where two nodes or vertices share more than one edge\n",
    "- Complete - all possible edges appear\n",
    "- Clique - is a small complete network\n",
    "- Biclique - a clique in a bipartite network\n",
    "![cliques](Screenshot_2023-07-22_22-46-44.png)\n",
    "\n",
    "- Circuit (aka cycle) - in a directed graph, this is essentially two or more nodes that have edges so that a path can return to those edges endlessly\n",
    "- Complement or inverse - the inverse $ H $ of the network $ G $ is such that two nodes in $ H $ have a direct link iff those two nodes have no direct link in $ G $.\n",
    "![inverse](Screenshot_2023-07-22_22-58-43.png)\n",
    "\n",
    "#### Weighted networks\n",
    "\n",
    "- Thresholding - a process by which we exclude some edges, based on their weight being sufficient or not.\n",
    "\n",
    "#### Bipartite Networks\n",
    "\n",
    "- One-Mode Projection - see below\n",
    "\n",
    "![bipartite and projections](Screenshot_2023-07-22_22-31-54.png)"
   ]
  },
  {
   "cell_type": "code",
   "execution_count": null,
   "id": "e9d0d54f",
   "metadata": {},
   "outputs": [],
   "source": []
  }
 ],
 "metadata": {
  "kernelspec": {
   "display_name": "Octave",
   "language": "octave",
   "name": "octave"
  },
  "language_info": {
   "file_extension": ".m",
   "help_links": [
    {
     "text": "GNU Octave",
     "url": "https://www.gnu.org/software/octave/support.html"
    },
    {
     "text": "Octave Kernel",
     "url": "https://github.com/Calysto/octave_kernel"
    },
    {
     "text": "MetaKernel Magics",
     "url": "https://metakernel.readthedocs.io/en/latest/source/README.html"
    }
   ],
   "mimetype": "text/x-octave",
   "name": "octave",
   "version": "6.4.0"
  }
 },
 "nbformat": 4,
 "nbformat_minor": 5
}
