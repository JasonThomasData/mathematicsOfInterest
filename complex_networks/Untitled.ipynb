{
 "cells": [
  {
   "cell_type": "code",
   "execution_count": null,
   "id": "65287bbf",
   "metadata": {},
   "outputs": [],
   "source": [
    "A = [0,1,0,0,0,0,0,1,0,0;\n",
    "     1,0,1,0,0,0,0,0,0,0;\n",
    "     0,1,0,1,0,0,0,1,0,0;\n",
    "     0,0,0,0,1,1,0,1,0,0;]"
   ]
  }
 ],
 "metadata": {
  "kernelspec": {
   "display_name": "Octave",
   "language": "octave",
   "name": "octave"
  },
  "language_info": {
   "file_extension": ".m",
   "help_links": [
    {
     "text": "GNU Octave",
     "url": "https://www.gnu.org/software/octave/support.html"
    },
    {
     "text": "Octave Kernel",
     "url": "https://github.com/Calysto/octave_kernel"
    },
    {
     "text": "MetaKernel Magics",
     "url": "https://metakernel.readthedocs.io/en/latest/source/README.html"
    }
   ],
   "mimetype": "text/x-octave",
   "name": "octave",
   "version": "6.4.0"
  }
 },
 "nbformat": 4,
 "nbformat_minor": 5
}
