{
 "cells": [
  {
   "cell_type": "markdown",
   "id": "b53df728",
   "metadata": {},
   "source": [
    "### Randomness\n",
    "\n",
    "#### Keep degree sequence\n",
    "\n",
    "In a directed network, randomly choose two edges.\n",
    "\n",
    "And then swap the heads, not the tails\n",
    "\n",
    "PIC OF THAT\n",
    "\n",
    "We haven't changed the in or out degree sequences, hence the name \"keep degree sequence\"\n",
    "\n",
    "If you don't maintain the degree of nodes then you change the degree sequence and the network will become increasingly like a random network.\n",
    "\n",
    "#### Preserving count of triangles and other objects\n",
    "\n",
    "Use simulated annealing:\n",
    "\n",
    "So let's take a random pair of edges. \n",
    "\n",
    "Make the switch. \n",
    "\n",
    "Calculate the change in E. \n",
    "\n",
    "If E decreases then keep the switch. (good switch) \n",
    "\n",
    "If E increases then keep the switch with probability $ e^{-\\Delta E / T} $ (bad switch)\n",
    "\n",
    "Where $ T $ is temperature.\n",
    "\n",
    "The idea is that the searcher starts with a hot temperature and then the temperature drops overtime. "
   ]
  },
  {
   "cell_type": "code",
   "execution_count": null,
   "id": "f3c77733",
   "metadata": {},
   "outputs": [],
   "source": []
  }
 ],
 "metadata": {
  "kernelspec": {
   "display_name": "Octave",
   "language": "octave",
   "name": "octave"
  },
  "language_info": {
   "file_extension": ".m",
   "help_links": [
    {
     "text": "GNU Octave",
     "url": "https://www.gnu.org/software/octave/support.html"
    },
    {
     "text": "Octave Kernel",
     "url": "https://github.com/Calysto/octave_kernel"
    },
    {
     "text": "MetaKernel Magics",
     "url": "https://metakernel.readthedocs.io/en/latest/source/README.html"
    }
   ],
   "mimetype": "text/x-octave",
   "name": "octave",
   "version": "6.4.0"
  }
 },
 "nbformat": 4,
 "nbformat_minor": 5
}
