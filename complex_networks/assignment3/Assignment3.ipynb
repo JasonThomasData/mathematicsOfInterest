{
 "cells": [
  {
   "cell_type": "markdown",
   "id": "327689f0",
   "metadata": {},
   "source": [
    "<style>\n",
    ".prompt input_prompt {\n",
    "    background-color: #ffff99;\n",
    "    border: 1px solid #ffcc66;\n",
    "    padding: 15px;\n",
    "}\n",
    "</style>"
   ]
  },
  {
   "cell_type": "markdown",
   "id": "ea3e4ee9",
   "metadata": {},
   "source": [
    "### Complex Networks\n",
    "### Programming Assignment 3\n",
    "### Jason Thomas\n",
    "### s3907634\n",
    "\n",
    "---\n",
    "\n",
    "First, upload the data and create a network before commencing question 1\n",
    "\n",
    "It seems simple enough to just use the one edge list here. The reslulting network will have nodes that can be referred"
   ]
  },
  {
   "cell_type": "code",
   "execution_count": 1,
   "id": "ff8f3f8e",
   "metadata": {},
   "outputs": [],
   "source": [
    "namedEdgeList <- as.data.frame(read.table(\"names.dat.txt\",\n",
    "                                          sep = \",\",\n",
    "                                          skip=5));"
   ]
  },
  {
   "cell_type": "markdown",
   "id": "e8c6d011",
   "metadata": {},
   "source": [
    "`graph.data.frame` automatically treats a dataframe as an edge list for the first two columns any extra colums become edge attributes"
   ]
  },
  {
   "cell_type": "code",
   "execution_count": 2,
   "id": "463faa9b",
   "metadata": {},
   "outputs": [
    {
     "name": "stderr",
     "output_type": "stream",
     "text": [
      "\n",
      "Attaching package: ‘igraph’\n",
      "\n",
      "\n",
      "The following objects are masked from ‘package:stats’:\n",
      "\n",
      "    decompose, spectrum\n",
      "\n",
      "\n",
      "The following object is masked from ‘package:base’:\n",
      "\n",
      "    union\n",
      "\n",
      "\n"
     ]
    }
   ],
   "source": [
    "colnames(namedEdgeList) <- c('n1', 'n2', 'weight');\n",
    "\n",
    "library(\"igraph\");\n",
    "\n",
    "namedNet <- igraph::graph.data.frame(namedEdgeList,\n",
    "                                     directed = FALSE);"
   ]
  },
  {
   "cell_type": "markdown",
   "id": "547cc060",
   "metadata": {},
   "source": [
    "As a sanity test, this should match the size listed in the edgelist:"
   ]
  },
  {
   "cell_type": "code",
   "execution_count": 3,
   "id": "8bd73326",
   "metadata": {},
   "outputs": [
    {
     "name": "stdout",
     "output_type": "stream",
     "text": [
      "[1] 1773\n"
     ]
    }
   ],
   "source": [
    "names = V(namedNet)$name;\n",
    "print(length(names))"
   ]
  },
  {
   "cell_type": "markdown",
   "id": "7e1aead1",
   "metadata": {},
   "source": [
    "### Question 1 - Discussion\n",
    "\n",
    "If two names are connected in the text more than once (more than one mention) then this is represented as one edge that connects those two nodes as having larger weight. For example, if there are 4 mentions that include a particular pair of names in the text then the edge connecting the relevant nodes will have edge weight 4. This report will later mention edge weights that represent \"duplicated edges\".\n",
    "\n",
    "Then there are two ways to analyse centrality in this network:\n",
    "- ignore edge weights\n",
    "- consider edge weights\n",
    "\n",
    "The assignment doesn't mention what to do with edge weights so this report takes some liberties.\n",
    "\n",
    "Below is a table of centrality measures that this report will look at and the reason for including those.\n",
    "\n",
    "| Centrality  | Method | Assignment asks for this | Reason |\n",
    "| :---------- | :----- | :----- | :----- |\n",
    "| Degree | igraph function | Yes | While this does not account for edge weights, this reduces the impact of repetative writing. | \n",
    "| Total edge weight | take sum of combined weight of all edges connected to a node | No | This is similar to degree centrality but will account for edge weights. The assumption is that duplicated edges are important. |\n",
    "| Closeness | igraph function | Yes | Edge weights will not affect the distance between any two nodes, so we should use the igraph function as-is. Nodes at the network centre are important. |\n",
    "| Eigenvector | igraph function | Yes | While this does not account for edge weights, this reduces the impact of repetative writing. |\n",
    "| Eigenvector x total edge weight | product of two measures | No | Edge weights potentially have an impact on the importance of a node based on its neighbours' importance. The assumption is that duplicated edges are important. |\n"
   ]
  },
  {
   "cell_type": "markdown",
   "id": "3a3aa28c",
   "metadata": {},
   "source": [
    "### Question 1 - Solution"
   ]
  },
  {
   "cell_type": "code",
   "execution_count": 4,
   "id": "70d54caa",
   "metadata": {},
   "outputs": [],
   "source": [
    "source(\"my_functions.R\")"
   ]
  },
  {
   "cell_type": "markdown",
   "id": "f823b390",
   "metadata": {},
   "source": [
    "Before calculating centrality, there's an issue to address: there are some disconnected components. This will negatively affect the closeness measure in particular. Therefore let's take only the giant component going forward."
   ]
  },
  {
   "cell_type": "code",
   "execution_count": 5,
   "id": "a6426f3a",
   "metadata": {},
   "outputs": [],
   "source": [
    "giantComponent = getGiantComponent(namedNet);\n",
    "names = V(giantComponent)$name;\n",
    "centralityData = data.frame(names=names);\n",
    "\n",
    "degreeCentrality = centr_degree(giantComponent)$res;\n",
    "centralityData = cbind(centralityData, degreeCentrality);\n",
    "\n",
    "edgeWeightTotals = getEdgeWeightTotals(giantComponent, names);\n",
    "centralityData = cbind(centralityData, edgeWeightTotals);\n",
    "\n",
    "closenessCentrality = centr_clo(giantComponent)$res;\n",
    "centralityData = cbind(centralityData, closenessCentrality);\n",
    "\n",
    "eigenvectorCentrality = centr_eigen(giantComponent)$vector;\n",
    "centralityData = cbind(centralityData, eigenvectorCentrality);\n",
    "\n",
    "eigenvectorEdgeWeights = eigenvectorCentrality * edgeWeightTotals;\n",
    "centralityData = cbind(centralityData, eigenvectorEdgeWeights);"
   ]
  },
  {
   "cell_type": "markdown",
   "id": "adb2f546",
   "metadata": {},
   "source": [
    "This is a quick acid test, and it should be true because we count an edge weight for each of its nodes."
   ]
  },
  {
   "cell_type": "code",
   "execution_count": 6,
   "id": "4d4786cc",
   "metadata": {},
   "outputs": [
    {
     "data": {
      "text/html": [
       "TRUE"
      ],
      "text/latex": [
       "TRUE"
      ],
      "text/markdown": [
       "TRUE"
      ],
      "text/plain": [
       "[1] TRUE"
      ]
     },
     "metadata": {},
     "output_type": "display_data"
    }
   ],
   "source": [
    "sum(edgeWeightTotals)/2 == sum(E(giantComponent)$weight)"
   ]
  },
  {
   "cell_type": "markdown",
   "id": "88820c72",
   "metadata": {},
   "source": [
    "Below, we can see the full results for all measures of centrality."
   ]
  },
  {
   "cell_type": "code",
   "execution_count": 16,
   "id": "04149691",
   "metadata": {},
   "outputs": [],
   "source": [
    "topListThreshold = 15\n",
    "namesByRank = data.frame(\"rank\"=1:topListThreshold);\n",
    "\n",
    "#degree\n",
    "degreeOrdered = centralityData[order(centralityData$degreeCentrality,\n",
    "                                     decreasing = TRUE ), ];\n",
    "degreeTop15 = degreeOrdered[1:topListThreshold,1];\n",
    "namesByRank = cbind(namesByRank, \"degree\" = degreeTop15);\n",
    "\n",
    "#edge weights\n",
    "edgeWeightsOrdered = centralityData[order(centralityData$edgeWeightTotals, \n",
    "                                          decreasing = TRUE ), ];\n",
    "edgeWeightTop15 = edgeWeightsOrdered[1:topListThreshold,1];\n",
    "namesByRank = cbind(namesByRank, \"edge weight\" = edgeWeightTop15);\n",
    "\n",
    "#closeness\n",
    "closenessOrdered = centralityData[order(centralityData$closenessCentrality, \n",
    "                                        decreasing = TRUE ), ];\n",
    "closenessTop15 = closenessOrdered[1:topListThreshold,1];\n",
    "namesByRank = cbind(namesByRank, \"closeness\" = closenessTop15);\n",
    "\n",
    "#eigenvector\n",
    "eigenvectorOrdered = centralityData[order(centralityData$eigenvectorCentrality, \n",
    "                                          decreasing = TRUE ), ];\n",
    "eigenvectorTop15 = eigenvectorOrdered[1:topListThreshold,1];\n",
    "namesByRank = cbind(namesByRank, \"eigenvector\" = eigenvectorTop15);\n",
    "\n",
    "#eigenvector x edge weights\n",
    "eigenvectorEdgeWeightsOrdered = centralityData[order(centralityData$eigenvectorEdgeWeights, \n",
    "                                                     decreasing = TRUE ), ];\n",
    "eigenvectorEdgeWeightsTop15 = eigenvectorEdgeWeightsOrdered[1:topListThreshold,1];\n",
    "namesByRank = cbind(namesByRank, \"eigenvector x edge weights\" = eigenvectorEdgeWeightsTop15);\n"
   ]
  },
  {
   "cell_type": "code",
   "execution_count": 18,
   "id": "48a4ec4f",
   "metadata": {},
   "outputs": [
    {
     "data": {
      "text/html": [
       "<table class=\"dataframe\">\n",
       "<caption>A data.frame: 15 × 6</caption>\n",
       "<thead>\n",
       "\t<tr><th scope=col>rank</th><th scope=col>degree</th><th scope=col>edge weight</th><th scope=col>closeness</th><th scope=col>eigenvector</th><th scope=col>eigenvector x edge weights</th></tr>\n",
       "\t<tr><th scope=col>&lt;int&gt;</th><th scope=col>&lt;chr&gt;</th><th scope=col>&lt;chr&gt;</th><th scope=col>&lt;chr&gt;</th><th scope=col>&lt;chr&gt;</th><th scope=col>&lt;chr&gt;</th></tr>\n",
       "</thead>\n",
       "<tbody>\n",
       "\t<tr><td> 1</td><td>israel     </td><td>israel     </td><td>israel   </td><td>israel     </td><td>israel     </td></tr>\n",
       "\t<tr><td> 2</td><td>judah      </td><td>judah      </td><td>judah    </td><td>judah      </td><td>judah      </td></tr>\n",
       "\t<tr><td> 3</td><td>david      </td><td>david      </td><td>jerusalem</td><td>david      </td><td>david      </td></tr>\n",
       "\t<tr><td> 4</td><td>jerusalem  </td><td>jerusalem  </td><td>david    </td><td>jerusalem  </td><td>jerusalem  </td></tr>\n",
       "\t<tr><td> 5</td><td>egypt      </td><td>moses      </td><td>egypt    </td><td>egypt      </td><td>moses      </td></tr>\n",
       "\t<tr><td> 6</td><td>benjamin   </td><td>saul       </td><td>ephraim  </td><td>benjamin   </td><td>egypt      </td></tr>\n",
       "\t<tr><td> 7</td><td>manasseh   </td><td>egypt      </td><td>manasseh </td><td>ephraim    </td><td>saul       </td></tr>\n",
       "\t<tr><td> 8</td><td>ephraim    </td><td>manasseh   </td><td>benjamin </td><td>manasseh   </td><td>benjamin   </td></tr>\n",
       "\t<tr><td> 9</td><td>saul       </td><td>benjamin   </td><td>joseph   </td><td>moses      </td><td>manasseh   </td></tr>\n",
       "\t<tr><td>10</td><td>philistines</td><td>aaron      </td><td>moses    </td><td>jordan     </td><td>ephraim    </td></tr>\n",
       "\t<tr><td>11</td><td>moses      </td><td>jesus      </td><td>jordan   </td><td>saul       </td><td>gilead     </td></tr>\n",
       "\t<tr><td>12</td><td>gilead     </td><td>jacob      </td><td>saul     </td><td>gilead     </td><td>philistines</td></tr>\n",
       "\t<tr><td>13</td><td>joseph     </td><td>philistines</td><td>jacob    </td><td>joseph     </td><td>joseph     </td></tr>\n",
       "\t<tr><td>14</td><td>jordan     </td><td>solomon    </td><td>gilead   </td><td>philistines</td><td>jordan     </td></tr>\n",
       "\t<tr><td>15</td><td>shemaiah   </td><td>joseph     </td><td>solomon  </td><td>solomon    </td><td>jacob      </td></tr>\n",
       "</tbody>\n",
       "</table>\n"
      ],
      "text/latex": [
       "A data.frame: 15 × 6\n",
       "\\begin{tabular}{llllll}\n",
       " rank & degree & edge weight & closeness & eigenvector & eigenvector x edge weights\\\\\n",
       " <int> & <chr> & <chr> & <chr> & <chr> & <chr>\\\\\n",
       "\\hline\n",
       "\t  1 & israel      & israel      & israel    & israel      & israel     \\\\\n",
       "\t  2 & judah       & judah       & judah     & judah       & judah      \\\\\n",
       "\t  3 & david       & david       & jerusalem & david       & david      \\\\\n",
       "\t  4 & jerusalem   & jerusalem   & david     & jerusalem   & jerusalem  \\\\\n",
       "\t  5 & egypt       & moses       & egypt     & egypt       & moses      \\\\\n",
       "\t  6 & benjamin    & saul        & ephraim   & benjamin    & egypt      \\\\\n",
       "\t  7 & manasseh    & egypt       & manasseh  & ephraim     & saul       \\\\\n",
       "\t  8 & ephraim     & manasseh    & benjamin  & manasseh    & benjamin   \\\\\n",
       "\t  9 & saul        & benjamin    & joseph    & moses       & manasseh   \\\\\n",
       "\t 10 & philistines & aaron       & moses     & jordan      & ephraim    \\\\\n",
       "\t 11 & moses       & jesus       & jordan    & saul        & gilead     \\\\\n",
       "\t 12 & gilead      & jacob       & saul      & gilead      & philistines\\\\\n",
       "\t 13 & joseph      & philistines & jacob     & joseph      & joseph     \\\\\n",
       "\t 14 & jordan      & solomon     & gilead    & philistines & jordan     \\\\\n",
       "\t 15 & shemaiah    & joseph      & solomon   & solomon     & jacob      \\\\\n",
       "\\end{tabular}\n"
      ],
      "text/markdown": [
       "\n",
       "A data.frame: 15 × 6\n",
       "\n",
       "| rank &lt;int&gt; | degree &lt;chr&gt; | edge weight &lt;chr&gt; | closeness &lt;chr&gt; | eigenvector &lt;chr&gt; | eigenvector x edge weights &lt;chr&gt; |\n",
       "|---|---|---|---|---|---|\n",
       "|  1 | israel      | israel      | israel    | israel      | israel      |\n",
       "|  2 | judah       | judah       | judah     | judah       | judah       |\n",
       "|  3 | david       | david       | jerusalem | david       | david       |\n",
       "|  4 | jerusalem   | jerusalem   | david     | jerusalem   | jerusalem   |\n",
       "|  5 | egypt       | moses       | egypt     | egypt       | moses       |\n",
       "|  6 | benjamin    | saul        | ephraim   | benjamin    | egypt       |\n",
       "|  7 | manasseh    | egypt       | manasseh  | ephraim     | saul        |\n",
       "|  8 | ephraim     | manasseh    | benjamin  | manasseh    | benjamin    |\n",
       "|  9 | saul        | benjamin    | joseph    | moses       | manasseh    |\n",
       "| 10 | philistines | aaron       | moses     | jordan      | ephraim     |\n",
       "| 11 | moses       | jesus       | jordan    | saul        | gilead      |\n",
       "| 12 | gilead      | jacob       | saul      | gilead      | philistines |\n",
       "| 13 | joseph      | philistines | jacob     | joseph      | joseph      |\n",
       "| 14 | jordan      | solomon     | gilead    | philistines | jordan      |\n",
       "| 15 | shemaiah    | joseph      | solomon   | solomon     | jacob       |\n",
       "\n"
      ],
      "text/plain": [
       "   rank degree      edge weight closeness eigenvector\n",
       "1   1   israel      israel      israel    israel     \n",
       "2   2   judah       judah       judah     judah      \n",
       "3   3   david       david       jerusalem david      \n",
       "4   4   jerusalem   jerusalem   david     jerusalem  \n",
       "5   5   egypt       moses       egypt     egypt      \n",
       "6   6   benjamin    saul        ephraim   benjamin   \n",
       "7   7   manasseh    egypt       manasseh  ephraim    \n",
       "8   8   ephraim     manasseh    benjamin  manasseh   \n",
       "9   9   saul        benjamin    joseph    moses      \n",
       "10 10   philistines aaron       moses     jordan     \n",
       "11 11   moses       jesus       jordan    saul       \n",
       "12 12   gilead      jacob       saul      gilead     \n",
       "13 13   joseph      philistines jacob     joseph     \n",
       "14 14   jordan      solomon     gilead    philistines\n",
       "15 15   shemaiah    joseph      solomon   solomon    \n",
       "   eigenvector x edge weights\n",
       "1  israel                    \n",
       "2  judah                     \n",
       "3  david                     \n",
       "4  jerusalem                 \n",
       "5  moses                     \n",
       "6  egypt                     \n",
       "7  saul                      \n",
       "8  benjamin                  \n",
       "9  manasseh                  \n",
       "10 ephraim                   \n",
       "11 gilead                    \n",
       "12 philistines               \n",
       "13 joseph                    \n",
       "14 jordan                    \n",
       "15 jacob                     "
      ]
     },
     "metadata": {},
     "output_type": "display_data"
    }
   ],
   "source": [
    "namesByRank"
   ]
  },
  {
   "cell_type": "markdown",
   "id": "46cf0104",
   "metadata": {},
   "source": [
    "### Question 1 - results\n",
    "\n",
    "It is clear, in all measures, that the most important place is Israel and the most important person is Judah.\n",
    "\n",
    "The names that appear in all (five) lists are:"
   ]
  },
  {
   "cell_type": "code",
   "execution_count": 8,
   "id": "6ced98a9",
   "metadata": {},
   "outputs": [
    {
     "data": {
      "text/html": [
       "<style>\n",
       ".list-inline {list-style: none; margin:0; padding: 0}\n",
       ".list-inline>li {display: inline-block}\n",
       ".list-inline>li:not(:last-child)::after {content: \"\\00b7\"; padding: 0 .5ex}\n",
       "</style>\n",
       "<ol class=list-inline><li>'israel'</li><li>'judah'</li><li>'david'</li><li>'jerusalem'</li><li>'egypt'</li><li>'benjamin'</li><li>'manasseh'</li><li>'saul'</li><li>'moses'</li><li>'joseph'</li></ol>\n"
      ],
      "text/latex": [
       "\\begin{enumerate*}\n",
       "\\item 'israel'\n",
       "\\item 'judah'\n",
       "\\item 'david'\n",
       "\\item 'jerusalem'\n",
       "\\item 'egypt'\n",
       "\\item 'benjamin'\n",
       "\\item 'manasseh'\n",
       "\\item 'saul'\n",
       "\\item 'moses'\n",
       "\\item 'joseph'\n",
       "\\end{enumerate*}\n"
      ],
      "text/markdown": [
       "1. 'israel'\n",
       "2. 'judah'\n",
       "3. 'david'\n",
       "4. 'jerusalem'\n",
       "5. 'egypt'\n",
       "6. 'benjamin'\n",
       "7. 'manasseh'\n",
       "8. 'saul'\n",
       "9. 'moses'\n",
       "10. 'joseph'\n",
       "\n",
       "\n"
      ],
      "text/plain": [
       " [1] \"israel\"    \"judah\"     \"david\"     \"jerusalem\" \"egypt\"     \"benjamin\" \n",
       " [7] \"manasseh\"  \"saul\"      \"moses\"     \"joseph\"   "
      ]
     },
     "metadata": {},
     "output_type": "display_data"
    }
   ],
   "source": [
    "intersect(degreeTop15,\n",
    "          intersect(edgeWeightTop15,\n",
    "                    intersect(closenessTop15,\n",
    "                              intersect(eigenvectorTop15, \n",
    "                                        eigenvectorEdgeWeightsTop15))))"
   ]
  },
  {
   "cell_type": "markdown",
   "id": "2936d4e4",
   "metadata": {},
   "source": [
    "But since considering the edge weights was a new idea, as was combining the eigenvector centrality with the edge weights, then this is a reduced comparison that is more specific to the question asked:"
   ]
  },
  {
   "cell_type": "code",
   "execution_count": 9,
   "id": "d144afbb",
   "metadata": {},
   "outputs": [
    {
     "data": {
      "text/html": [
       "<style>\n",
       ".list-inline {list-style: none; margin:0; padding: 0}\n",
       ".list-inline>li {display: inline-block}\n",
       ".list-inline>li:not(:last-child)::after {content: \"\\00b7\"; padding: 0 .5ex}\n",
       "</style>\n",
       "<ol class=list-inline><li>'israel'</li><li>'judah'</li><li>'david'</li><li>'jerusalem'</li><li>'egypt'</li><li>'benjamin'</li><li>'manasseh'</li><li>'ephraim'</li><li>'saul'</li><li>'moses'</li><li>'gilead'</li><li>'joseph'</li><li>'jordan'</li></ol>\n"
      ],
      "text/latex": [
       "\\begin{enumerate*}\n",
       "\\item 'israel'\n",
       "\\item 'judah'\n",
       "\\item 'david'\n",
       "\\item 'jerusalem'\n",
       "\\item 'egypt'\n",
       "\\item 'benjamin'\n",
       "\\item 'manasseh'\n",
       "\\item 'ephraim'\n",
       "\\item 'saul'\n",
       "\\item 'moses'\n",
       "\\item 'gilead'\n",
       "\\item 'joseph'\n",
       "\\item 'jordan'\n",
       "\\end{enumerate*}\n"
      ],
      "text/markdown": [
       "1. 'israel'\n",
       "2. 'judah'\n",
       "3. 'david'\n",
       "4. 'jerusalem'\n",
       "5. 'egypt'\n",
       "6. 'benjamin'\n",
       "7. 'manasseh'\n",
       "8. 'ephraim'\n",
       "9. 'saul'\n",
       "10. 'moses'\n",
       "11. 'gilead'\n",
       "12. 'joseph'\n",
       "13. 'jordan'\n",
       "\n",
       "\n"
      ],
      "text/plain": [
       " [1] \"israel\"    \"judah\"     \"david\"     \"jerusalem\" \"egypt\"     \"benjamin\" \n",
       " [7] \"manasseh\"  \"ephraim\"   \"saul\"      \"moses\"     \"gilead\"    \"joseph\"   \n",
       "[13] \"jordan\"   "
      ]
     },
     "metadata": {},
     "output_type": "display_data"
    }
   ],
   "source": [
    "intersect(degreeTop15,\n",
    "          intersect(closenessTop15, \n",
    "                    eigenvectorTop15))"
   ]
  },
  {
   "cell_type": "markdown",
   "id": "032eef84",
   "metadata": {},
   "source": [
    "### Question 2\n",
    "\n",
    "There were originally three measures asked for in the assignment and two others that I introduced.\n",
    "\n",
    "Of these, I think that three out of five are useful going forward.\n",
    "\n",
    "| Centrality  | Effective | What makes it effective |\n",
    "| :---------- | :-------- | :---------------------- | \n",
    "| Degree | No | The edge weights might indicate that the person who wrote the text was prone to repeating themselves, and repeating pairs of names, unnecessarily. However, it seems most likely that many different passages of the text would mention pairs of names, so to measure the degree of nodes without edge weights (duplicated edges) is naive. | \n",
    "| Total edge weight | Yes | The edge weights might indicate that each pair was a separate passage in the text, and perhaps a different person who wrote the passage. Then this indicates more than one story told about this pair of names. It seems that edge weights are important is the most plausible explanation, considering that the bible is an amalgamation of texts by many authors. |\n",
    "| Closeness | Yes | A node that is at the centre of the network is relatively important compared to nodes at the fringes. |\n",
    "| Eigenvector | No | If a pair of names appears then it might be the case that a relatively minor event occurred. For example, a person who passes through an important place like Jeruselem, might be a less-important person. Are we to consider a person as being important because that person passed by an important place? This does not seem to make sense. |\n",
    "| Eigenvector x total edge weight | Yes | This is an improvement on the former measurement. If a person passes through an important place, but they mentioned as doing so many times, then this seems to increase the probability that this person would be important. |\n",
    "\n",
    "From the above analysis, it seems that `degree centrality` and `eigenvector centrality` are the least-promising. \n",
    "\n",
    "There are two other measures of centrality we haven't looked at in this report: betweenness and physical centrality. \n",
    "\n",
    "Betweenness would be interesting to look at and I think it would give a similar insight to closeness.\n",
    "\n",
    "Physical centrality would not make much sense in terms of this text since many nodes are people. However if you took a smaller network of place names then physical centrality might be interesting, however, Israel is a coastal location so this would mean that Jerusalem (on the coast) might not be the centre, given that the sea will have fewer locations to talk about.\n",
    "\n",
    "In terms of actually quantifying what the most the important nodes, I suggest that we could aggregate the top 15 to find the most common nodes. We could create an ensemble of all lists."
   ]
  },
  {
   "cell_type": "markdown",
   "id": "ead09474",
   "metadata": {},
   "source": [
    "### Question 3\n",
    "\n",
    "There is no need to continue looking into the giant component, so we will look into the entire network.\n",
    "\n",
    "We should do two calculations for assortativity:\n",
    "- edge weights are not considered\n",
    "- edge weights are considered\n",
    "\n",
    "### Question 3 - assortativity (not including edge weights)\n",
    "\n",
    "First we implement the version that does not include edge weights because we can extend it later to account for edge weights.\n",
    "\n",
    "Let $ e_{ij} $ be a matrix that represents edge count between nodes with degree $ i, j $.\n",
    "\n",
    "We can construct $ e_{ij} $ by iterating over the network's edges and then incrementing the edge count for each pair. In a sense the weight of each edge is implicitly $ 1 $."
   ]
  },
  {
   "cell_type": "code",
   "execution_count": 10,
   "id": "7a39e16d",
   "metadata": {},
   "outputs": [],
   "source": [
    "source('my_functions.R')\n",
    "\n",
    "degreeOfNodes = degree(namedNet);\n",
    "namesInNet = V(namedNet)$name;\n",
    "\n",
    "kMax = max(degreeOfNodes);\n",
    "edgeCount = ecount(namedNet);\n",
    "\n",
    "e_k_kPrime = constructMatrixUsingDegree(degreeOfNodes,\n",
    "                                        namedNet,\n",
    "                                        namesInNet,\n",
    "                                        kMax,\n",
    "                                        edgeCount)\n"
   ]
  },
  {
   "cell_type": "markdown",
   "id": "079b96e4",
   "metadata": {},
   "source": [
    "As another quick test, since degree is entered as $ij$ and then $ ji$ then:"
   ]
  },
  {
   "cell_type": "code",
   "execution_count": 11,
   "id": "2cb4162e",
   "metadata": {},
   "outputs": [
    {
     "data": {
      "text/html": [
       "TRUE"
      ],
      "text/latex": [
       "TRUE"
      ],
      "text/markdown": [
       "TRUE"
      ],
      "text/plain": [
       "[1] TRUE"
      ]
     },
     "metadata": {},
     "output_type": "display_data"
    }
   ],
   "source": [
    "sum(e_k_kPrime)/2 == edgeCount"
   ]
  },
  {
   "cell_type": "markdown",
   "id": "067744e2",
   "metadata": {},
   "source": [
    "We can use this to calculate assortativity:\n",
    "\n",
    "$ k_{nn}(k) = \\sum_{k'=1}^{kmax} k' \\cdot P(k'|k) $\n",
    "\n",
    "$ P(k'|k) = \\frac{e_{kk'}}{\\sum_{k'} e_{kk'}} $\n",
    "\n",
    "And this means we can define $ k $ as an independent variable, then $ k_{nn}(k) $ will be a dependent variable. Plotting these two should reveal a relationship.\n",
    "\n",
    "So the algorithm can run like this:\n",
    "\n",
    "- for each $ k \\in [1:kmax] $:\n",
    "    - sum over $ k' \\in [1:kmax]: e_{kk'} $ (used in $ P(k'|k) $, calculate it once per $ k $ to improve performace)\n",
    "    - sum over $ k' \\in [1:kmax] $:\n",
    "        - find $ k\\cdot P(k'|k) $\n",
    "\n",
    "These functions are provided in `my_functions.R`\n",
    "\n",
    "Below, $ k_{nn}(k) $ is found and then used to create a linear model. Depending on the model's gradient, $ \\beta_1 $:\n",
    "\n",
    "$ \\beta_1 > 0 $: assorative\n",
    "\n",
    "$ \\beta_1 = 0 $: neutral\n",
    "\n",
    "$ \\beta_1 < 0 $: disassorative"
   ]
  },
  {
   "cell_type": "code",
   "execution_count": 12,
   "id": "86c759e5",
   "metadata": {},
   "outputs": [
    {
     "data": {
      "text/html": [
       "-0.0605268516440434"
      ],
      "text/latex": [
       "-0.0605268516440434"
      ],
      "text/markdown": [
       "-0.0605268516440434"
      ],
      "text/plain": [
       "[1] -0.06052685"
      ]
     },
     "metadata": {},
     "output_type": "display_data"
    }
   ],
   "source": [
    "k = 1:kMax;\n",
    "beta_1 = lm(k_nn(e_k_kPrime, k, kMax) ~ k)$coefficients[[2]]\n",
    "beta_1"
   ]
  },
  {
   "cell_type": "markdown",
   "id": "138073ca",
   "metadata": {},
   "source": [
    "Then the network where only node degree is considered, and not edge weights, is neutral or a little disassortative.\n",
    "\n",
    "### Question 3 - assortativity (including edge weights)"
   ]
  },
  {
   "cell_type": "code",
   "execution_count": 13,
   "id": "c74f3b89",
   "metadata": {},
   "outputs": [],
   "source": [
    "kMax = max(edgeWeightTotals);\n",
    "\n",
    "edgeWeightTotals = getEdgeWeightTotals(namedNet, names);\n",
    "\n",
    "e_k_kPrime = constructMatrixUsingEdgeWeights(edgeWeightTotals,\n",
    "                                             namedNet,\n",
    "                                             namesInNet,\n",
    "                                             kMax,\n",
    "                                             edgeCount)"
   ]
  },
  {
   "cell_type": "markdown",
   "id": "70664a0a",
   "metadata": {},
   "source": [
    "This should now be equal to double the total edge weights in the network:"
   ]
  },
  {
   "cell_type": "code",
   "execution_count": 14,
   "id": "a4001d1b",
   "metadata": {},
   "outputs": [
    {
     "data": {
      "text/html": [
       "32472"
      ],
      "text/latex": [
       "32472"
      ],
      "text/markdown": [
       "32472"
      ],
      "text/plain": [
       "[1] 32472"
      ]
     },
     "metadata": {},
     "output_type": "display_data"
    },
    {
     "data": {
      "text/html": [
       "32658"
      ],
      "text/latex": [
       "32658"
      ],
      "text/markdown": [
       "32658"
      ],
      "text/plain": [
       "[1] 32658"
      ]
     },
     "metadata": {},
     "output_type": "display_data"
    }
   ],
   "source": [
    "# sum(e_k_kPrime) == sum(edgeWeightTotals)\n",
    "sum(e_k_kPrime)\n",
    "sum(edgeWeightTotals)"
   ]
  },
  {
   "cell_type": "markdown",
   "id": "3cb8ad46",
   "metadata": {},
   "source": [
    "TODO: implement tests to confirm that this function works as expected, or not.\n",
    "\n",
    "I'd like to fix this bug. Since it's only some values then it shouldn't aggect the result too much."
   ]
  },
  {
   "cell_type": "code",
   "execution_count": 15,
   "id": "ced4091f",
   "metadata": {},
   "outputs": [
    {
     "data": {
      "text/html": [
       "0.165169025592973"
      ],
      "text/latex": [
       "0.165169025592973"
      ],
      "text/markdown": [
       "0.165169025592973"
      ],
      "text/plain": [
       "[1] 0.165169"
      ]
     },
     "metadata": {},
     "output_type": "display_data"
    }
   ],
   "source": [
    "k = 1:kMax;\n",
    "beta_1 = lm(k_nn(e_k_kPrime, k, kMax) ~ k)$coefficients[[2]]\n",
    "beta_1"
   ]
  },
  {
   "cell_type": "markdown",
   "id": "8c2847a1",
   "metadata": {},
   "source": [
    "### Question 3 - discussion\n",
    "\n",
    "When we ignored edge weights, assortativity was close to $ 0 $ or even a little negative, so we could say it is disassortative.\n",
    "\n",
    "However when we included edge weights the effect was to make the network assortative.\n",
    "\n",
    "The second result (including edge weights) seems more promising since we have no reason to believe duplicate edges in the network are unimportant.\n",
    "\n",
    "Finding a stronger score for assortativity once duplicated edges (edge weights) are considered is not surprising, because duplicating an edge increases the importance of the nodes at either end."
   ]
  },
  {
   "cell_type": "markdown",
   "id": "32ab7dcc",
   "metadata": {},
   "source": [
    "### Appendix"
   ]
  },
  {
   "cell_type": "code",
   "execution_count": null,
   "id": "b17f44e1",
   "metadata": {},
   "outputs": [],
   "source": [
    "### My code \n",
    "\n",
    "getEdgeWeightTotals = function(network, names) {\n",
    "    edgeWeightTotals = c();\n",
    "    for (name in names) {\n",
    "        # Being an undirected graph, we could take .from or .to\n",
    "        edgesToThisNode = E(network)['.from'(name)]\n",
    "        combinedWeight = sum(edgesToThisNode$weight)\n",
    "        edgeWeightTotals = c(edgeWeightTotals, combinedWeight);\n",
    "    }\n",
    "    (edgeWeightTotals)\n",
    "}\n",
    "\n",
    "getGiantComponent = function(network) {\n",
    "    components = igraph::clusters(network, mode=\"weak\");\n",
    "    componentId = which.max(components$csize);\n",
    "    vertexIds = V(namedNet)[components$membership == componentId];\n",
    "    giantComponent = igraph::induced_subgraph(network, vertexIds);\n",
    "    (giantComponent)\n",
    "}\n",
    "\n",
    "constructMatrixUsingDegree = function(degreeOfNodes, namedNet, namesInNet, kMax, edgeCount) {\n",
    "    e_ij = matrix(0, nrow=kMax, ncol=kMax);\n",
    "    for (edgeIndex in 1:edgeCount) {\n",
    "        edge = E(namedNet)[edgeIndex];\n",
    "        nodes = (ends(namedNet, edge[1]));\n",
    "\n",
    "        name_i = nodes[[1]];\n",
    "        nodeIndex_i = match(name_i, namesInNet);\n",
    "        i = degreeOfNodes[nodeIndex_i];\n",
    "\n",
    "        name_j = nodes[[2]];\n",
    "        nodeIndex_j = match(name_j, namesInNet);\n",
    "        j = degreeOfNodes[nodeIndex_j];\n",
    "\n",
    "        # An undirected graph should have from,to interchangeable\n",
    "        e_ij[i,j] = e_ij[i,j] + 1;\n",
    "        e_ij[j,i] = e_ij[j,i] + 1;\n",
    "    }\n",
    "    (e_ij)\n",
    "}\n",
    "\n",
    "constructMatrixUsingEdgeWeights = function(edgeWeightsOfNodes, namedNet, namesInNet, kMax, edgeCount) {\n",
    "    e_ij = matrix(0, nrow=kMax, ncol=kMax);\n",
    "    for (edgeIndex in 1:edgeCount) {\n",
    "        edge = E(namedNet)[edgeIndex];\n",
    "        nodes = (ends(namedNet, edge[1]));\n",
    "\n",
    "        name_i = nodes[[1]];\n",
    "        nodeIndex_i = match(name_i, namesInNet);\n",
    "        i = edgeWeightsOfNodes[nodeIndex_i];\n",
    "\n",
    "        name_j = nodes[[2]];\n",
    "        nodeIndex_j = match(name_j, namesInNet);\n",
    "        j = edgeWeightsOfNodes[nodeIndex_j];\n",
    "\n",
    "        # An undirected graph should have from,to interchangeable\n",
    "        e_ij[i,j] = e_ij[i,j] + edge$weight;\n",
    "        e_ij[j,i] = e_ij[j,i] + edge$weight;\n",
    "    }\n",
    "    (e_ij)\n",
    "}\n",
    "\n",
    "\n",
    "doSumOverKPrime = function(e_k_kPrime, k, kMax) {\n",
    "    total = 0;\n",
    "    for (kPrime in 1:kMax) {\n",
    "        total = total + e_k_kPrime[k,kPrime];\n",
    "    }\n",
    "    (total)\n",
    "}\n",
    "\n",
    "probabilityKPrimeGivenK = function(e_k_kPrime, kPrime, k, sumOverKPrime) {\n",
    "    (e_k_kPrime[k,kPrime]/sumOverKPrime)\n",
    "}\n",
    "\n",
    "k_nn = function(e_k_kPrime, k, kMax) {\n",
    "    sumOverKPrime = doSumOverKPrime(e_k_kPrime, k, kMax);\n",
    "    total = 0;\n",
    "    for (kPrime in 1:kMax) {\n",
    "        total = total + kPrime * probabilityKPrimeGivenK(e_k_kPrime, kPrime, k, sumOverKPrime)\n",
    "    }\n",
    "    (total)\n",
    "}\n"
   ]
  }
 ],
 "metadata": {
  "kernelspec": {
   "display_name": "R",
   "language": "R",
   "name": "ir"
  },
  "language_info": {
   "codemirror_mode": "r",
   "file_extension": ".r",
   "mimetype": "text/x-r-source",
   "name": "R",
   "pygments_lexer": "r",
   "version": "4.1.2"
  }
 },
 "nbformat": 4,
 "nbformat_minor": 5
}
