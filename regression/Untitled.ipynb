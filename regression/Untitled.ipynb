{
 "cells": [
  {
   "cell_type": "markdown",
   "id": "ad8cd3c8",
   "metadata": {},
   "source": [
    "### Logistic regression\n",
    "\n",
    "This method allows you to classify data as being in a category or not. The independent variable can be any numeric variable, but the independent variable must be 1 or 0 and it has a binomial distribution.\n",
    "\n",
    "You wouldn't use this method to predict some kind of continuous variable (like size) or discrete numerical variable (like counting cars in a parking lot). It is used to predict categorical data.\n",
    "\n",
    "Given a linear combination independent variables, we can estimate $ \\hat p $\n",
    "\n",
    "The link between the independent data and the dependent output is the logit function.\n",
    "\n",
    "#### Logit function\n",
    "\n",
    "This is the inverse of the standard logistic function, which is used in neural nets.\n",
    "\n",
    "It has a domain of $ [0, 1] $ and range $ [-\\infty, \\infty] $\n",
    "\n",
    "It is a logirithm (with the base larger than 1) of the odds.\n",
    "\n",
    "In this case, we assume base $ e $:\n",
    "\n",
    "$ \\ln \\left(\\frac{p}{1-p}\\right) = \\ln(p) - \\ln(1-p) $\n",
    "\n",
    "The difference between two logit functions is:\n",
    "\n",
    "$ logit(p_1) - logit(p_2) = \\ln \\left(\\frac{p_1}{1-p_1}\\right) - \\ln \\left(\\frac{p_2}{1-p_2}\\right) = \\ln \\left(\\frac{p_1/(1-p_1)}{p_2/(1-p_2)}\\right) $\n",
    "\n",
    "The logit function has its only x-intercept at $ 0.05 $. Consider any event with equal odds. That is equivalent to $ \\ln(1) = 0. $\n",
    "\n",
    "#### Logistic function"
   ]
  },
  {
   "cell_type": "code",
   "execution_count": 3,
   "id": "d9462002",
   "metadata": {},
   "outputs": [
    {
     "data": {
      "text/html": [
       "<style>\n",
       ".list-inline {list-style: none; margin:0; padding: 0}\n",
       ".list-inline>li {display: inline-block}\n",
       ".list-inline>li:not(:last-child)::after {content: \"\\00b7\"; padding: 0 .5ex}\n",
       "</style>\n",
       "<ol class=list-inline><li>0</li><li>1</li></ol>\n"
      ],
      "text/latex": [
       "\\begin{enumerate*}\n",
       "\\item 0\n",
       "\\item 1\n",
       "\\end{enumerate*}\n"
      ],
      "text/markdown": [
       "1. 0\n",
       "2. 1\n",
       "\n",
       "\n"
      ],
      "text/plain": [
       "[1] 0 1"
      ]
     },
     "metadata": {},
     "output_type": "display_data"
    }
   ],
   "source": []
  },
  {
   "cell_type": "code",
   "execution_count": null,
   "id": "06705349",
   "metadata": {},
   "outputs": [],
   "source": []
  }
 ],
 "metadata": {
  "kernelspec": {
   "display_name": "R",
   "language": "R",
   "name": "ir"
  },
  "language_info": {
   "codemirror_mode": "r",
   "file_extension": ".r",
   "mimetype": "text/x-r-source",
   "name": "R",
   "pygments_lexer": "r",
   "version": "3.6.3"
  }
 },
 "nbformat": 4,
 "nbformat_minor": 5
}
