{
 "cells": [
  {
   "cell_type": "markdown",
   "id": "73490a09",
   "metadata": {},
   "source": [
    "### Linear regression\n",
    "\n",
    "Consider a dataset that cannot be made to fit exactly onto a line.\n",
    "\n",
    "How can you find a line of best fit?\n",
    "\n",
    "The geometric intuition, for an independent variable a dependent variable, is a line through a 2d linear space. The line doesn't have to pass through the origin. It must have a y-intercept."
   ]
  },
  {
   "cell_type": "markdown",
   "id": "e6933252",
   "metadata": {},
   "source": [
    "Let:\n",
    "\n",
    "$ \\beta_0 $ be the y intercept \n",
    "\n",
    "$ \\beta_1 $ be the gradient \n",
    "\n",
    "$ e_i $ be the error. AKA the distance of the line (introduced below) away from a data point at $ i $ \n",
    "\n",
    "A line to fit this data can be described as:\n",
    "\n",
    "$ y_i = \\beta_0 + \\beta_1 x_i + e_i $"
   ]
  },
  {
   "cell_type": "markdown",
   "id": "c3795974",
   "metadata": {},
   "source": [
    "If the goal is to find $ \\beta_0, \\beta_1 $ while minimising $ e_i $\n",
    "\n",
    "Then:\n",
    "\n",
    "$ \\normalsize e_i = y_i - (\\beta_0 + \\beta_1 x_i) $\n",
    "\n",
    "Rather than just one $ e_i $, we want to find the values for all of those, so we should write it as:\n",
    "\n",
    "$ \\normalsize e = \\sum_{i=1}^n y_i - (\\beta_0 + \\beta_1 x_i) $\n",
    "\n",
    "But this poses a new problem: terms may cancel each other out (data above and below the line). Therefore, let's compute the sum of squares:\n",
    "\n",
    "$ \\normalsize e = \\sum_{i=1}^n \\left[ y_i - \\beta_0 - \\beta_1 x_i) \\right]^2 $\n",
    "\n",
    "With two variables to find, we can use partial derivatives.\n",
    "\n",
    "First, find the derivative in terms of $ \\beta_0 $ and treat $ \\beta_1 $ as a constant.\n",
    "\n",
    "$ \\large \\frac{\\partial}{\\partial \\beta_0} \\normalsize \\sum_{i=1}^n \\left[ y_i - \\beta_0 - \\beta_1 x_i) \\right]^2 = 0 $\n",
    "\n",
    "Here, the partial derivative is equal to 0 because the purpose is to minimise the loss function $ e $, and the loss function's minima will mean the rate of change, aka the derivative, is 0 at that minima.\n",
    "\n",
    "Using the chain rule, this becomes:\n",
    "\n",
    "$ \\large \\frac{\\partial}{\\partial \\beta_0} \\normalsize \\sum_{i=1}^n 2 \\left[ y_i - \\beta_0 - \\beta_1 x_i \\right] (-1) = 0 $\n",
    "\n",
    "$ \\large \\frac{\\partial}{\\partial \\beta_0} \\normalsize \\sum_{i=1}^n -2 \\left[ y_i - \\beta_0 - \\beta_1 x_i \\right] = 0 $\n",
    "\n",
    "$ \\large \\frac{\\partial}{\\partial \\beta_0} \\normalsize \\sum_{i=1}^n \\frac{\\left[ y_i - \\beta_0 - \\beta_1 x_i \\right]}{-2} = \\frac{0}{-2} $\n",
    "\n",
    "Since this doesn't make sense, let's ignore the -2\n",
    "\n",
    "$ \\large \\frac{\\partial}{\\partial \\beta_0} \\normalsize \\sum_{i=1}^n y_i - \\sum_{i=1}^n \\beta_0 - \\sum_{i=1}^n \\beta_1 x_i = 0 $\n",
    "\n",
    "$ \\beta_0 $ here has a single value. Therefore it is $ n\\beta_0 $\n",
    "\n",
    "$ \\large \\frac{\\partial}{\\partial \\beta_0} \\normalsize \\sum_{i=1}^n y_i - n\\beta_0 -  \\beta_1 \\sum_{i=1}^n x_i = 0 $\n",
    "\n",
    "We now need to find the other partial derivative\n",
    "\n",
    "$ \\large \\frac{\\partial}{\\partial \\beta_1} \\normalsize \\sum_{i=1}^n \\left[ y_i - \\beta_0 - \\beta_1 x_i) \\right]^2 = 0 $\n",
    "\n",
    "$ \\large \\frac{\\partial}{\\partial \\beta_1} \\normalsize \\sum_{i=1}^n 2 \\left[ y_i - \\beta_0 - \\beta_1 x_i) \\right] (-x_i) = 0 $\n",
    "\n",
    "$ \\large \\frac{\\partial}{\\partial \\beta_1} \\normalsize \\sum_{i=1}^n -2x_i \\left[ y_i - \\beta_0 - \\beta_1 x_i) \\right] = 0 $\n",
    "\n",
    "For the same reason as last time, after dividing by 2, this becomes\n",
    "\n",
    "$ \\large \\frac{\\partial}{\\partial \\beta_1} \\normalsize \\sum_{i=1}^n x_i \\left[ y_i - \\beta_0 - \\beta_1 x_i) \\right] = 0 $\n",
    "\n",
    "$  \\large \\frac{\\partial}{\\partial \\beta_1} \\normalsize \\sum_{i=1}^n y_i x_i - \\beta_0 \\sum_{i=1}^n x_i -  \\beta_1 \\sum_{i=1}^n x_i^2 = 0 $"
   ]
  },
  {
   "cell_type": "markdown",
   "id": "217b046e",
   "metadata": {},
   "source": [
    "Now you have two linear equations and can solve this as simultaneous equations. We can use the elimination method to derive the $ \\beta_0, \\beta_1 $ separately.\n",
    "\n",
    "$ [1] : \\sum_{i=1}^n y_i - n\\beta_0 -  \\beta_1 \\sum_{i=1}^n x_i = 0 $\n",
    "\n",
    "$ [2] : \\sum_{i=1}^n y_i x_i - \\beta_0 \\sum_{i=1}^n x_i -  \\beta_1 \\sum_{i=1}^n x_i^2 = 0 $"
   ]
  },
  {
   "cell_type": "markdown",
   "id": "551e1549",
   "metadata": {},
   "source": [
    "#### TODO - show how to solve equations using elimination of simultaneous equations"
   ]
  },
  {
   "cell_type": "code",
   "execution_count": 1,
   "id": "ea006b8b",
   "metadata": {},
   "outputs": [
    {
     "name": "stdout",
     "output_type": "stream",
     "text": [
      "beta_0 =  7.6704\n",
      "beta_1 =  0.81993\n"
     ]
    },
    {
     "data": {
      "image/png": "[encoded data removed]",
      "text/plain": [
       "<IPython.core.display.Image object>"
      ]
     },
     "metadata": {},
     "output_type": "display_data"
    }
   ],
   "source": [
    "X = [1:20];\n",
    "n = length(X);\n",
    "Y = rand(1,20).*10 + X;\n",
    "plot(X, Y, \"o\");\n",
    "\n",
    "beta_1 = (n * dot(X,Y) - sum(X)*sum(Y))/(n * sum(X.^2) - sum(X)^2);\n",
    "beta_0 = (1/n)* sum(Y) - beta_1 * (1/n) * sum(X);\n",
    "\n",
    "regressionLine = beta_0 + X*beta_1;\n",
    "\n",
    "line(X,regressionLine);\n",
    "\n",
    "beta_0\n",
    "beta_1"
   ]
  },
  {
   "cell_type": "markdown",
   "id": "043ac00e",
   "metadata": {},
   "source": [
    "### In terms of covariance and variance (probably more intuitive)\n",
    "\n",
    "You can calculate the slope of the line with:\n",
    "\n",
    "$ \\beta_1 = \\large \\frac{cov(x,y)}{var(x)} $\n",
    "\n",
    "Where\n",
    "\n",
    "$ n $ is the population, $ n-1 $ is for the sample. Octave uses $n-1$\n",
    "\n",
    "$ \\frac{S_{xy}}{n-1} $ aka covariance:\n",
    "\n",
    "$ \\frac{\\sum{(x_i - \\bar x)} \\sum{(y_i - \\bar y)}}{n-1}$\n",
    "\n",
    "$ \\frac{S_{xx}}{n-1} $ aka variance aka $ s^2 $ for a sample :\n",
    "\n",
    "$ \\frac{\\sum{(x_i - \\bar x)}^2}{n-1}$\n",
    "\n",
    "Therefore:\n",
    "\n",
    "$ \\beta_1 = \\frac{cov(x,y)}{var(x)} = \\frac{S_{xy}}{n-1} / \\frac{S_{xx}}{n-1} = \\frac{S_{xy}}{S_{xx}} $\n",
    "\n",
    "And since\n",
    "\n",
    "$ \\bar{y} = \\beta_0 + \\beta_1 \\bar{x} $\n",
    "\n",
    "Then:\n",
    "\n",
    "$ \\beta_0 = \\bar{y} - \\beta_1 \\bar{x} $"
   ]
  },
  {
   "cell_type": "code",
   "execution_count": 2,
   "id": "3b7834bd",
   "metadata": {},
   "outputs": [
    {
     "name": "stdout",
     "output_type": "stream",
     "text": [
      "b_1 =  0.81993\n",
      "b_0 =  7.6704\n"
     ]
    }
   ],
   "source": [
    "b_1 = cov(X, Y)/var(X)\n",
    "b_0 = mean(Y) - b_1 * mean(X)"
   ]
  },
  {
   "cell_type": "markdown",
   "id": "905cc101",
   "metadata": {},
   "source": [
    "Is equivalent to..."
   ]
  },
  {
   "cell_type": "code",
   "execution_count": 5,
   "id": "94a69105",
   "metadata": {},
   "outputs": [
    {
     "name": "stdout",
     "output_type": "stream",
     "text": [
      "b_1 =  0.81993\n",
      "b_0 =  7.6704\n"
     ]
    }
   ],
   "source": [
    "x_bar = mean(X);\n",
    "y_bar = mean(Y);\n",
    "\n",
    "S_xy = sum((X .- x_bar).*(Y .- y_bar));\n",
    "S_xx = sum((X .- x_bar).^2);\n",
    "\n",
    "b_1 = S_xy/S_xx\n",
    "b_0 = mean(Y) - b_1 * mean(X)"
   ]
  },
  {
   "cell_type": "markdown",
   "id": "dadee6cb",
   "metadata": {},
   "source": [
    "### Some intuition\n",
    "\n",
    "This site - https://www.statology.org/covariance-vs-variance/ - describes:\n",
    "\n",
    "covariance, $ \\frac{S_{xy}}{n-1} $: a measure of how changes in one variable are related to the changes in another variable. $ n-1 $ is for a sample.\n",
    "\n",
    "variance, $ S_{xx} $: how spread out the data are\n",
    "\n",
    "Therefore:\n",
    "\n",
    "$\\frac{S_{xy}}{n-1} / \\frac{S_{xx}}{n-1} = \\frac{S_{xy}}{S_{xx}}$ means \"How we can understand changes in Y (the rise) in terms of how spread out the variable X is (the run)\". This seems somewhat like the rise/run formula for finding any linear gradient."
   ]
  },
  {
   "cell_type": "code",
   "execution_count": null,
   "id": "185dd014",
   "metadata": {},
   "outputs": [],
   "source": []
  }
 ],
 "metadata": {
  "kernelspec": {
   "display_name": "Octave",
   "language": "octave",
   "name": "octave"
  },
  "language_info": {
   "file_extension": ".m",
   "help_links": [
    {
     "text": "GNU Octave",
     "url": "https://www.gnu.org/software/octave/support.html"
    },
    {
     "text": "Octave Kernel",
     "url": "https://github.com/Calysto/octave_kernel"
    },
    {
     "text": "MetaKernel Magics",
     "url": "https://metakernel.readthedocs.io/en/latest/source/README.html"
    }
   ],
   "mimetype": "text/x-octave",
   "name": "octave",
   "version": "5.2.0"
  }
 },
 "nbformat": 4,
 "nbformat_minor": 5
}
