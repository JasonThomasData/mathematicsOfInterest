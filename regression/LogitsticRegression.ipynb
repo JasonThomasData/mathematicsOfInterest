{
 "cells": [
  {
   "cell_type": "markdown",
   "id": "b3fe7e64",
   "metadata": {},
   "source": [
    "### Logistic regression\n",
    "\n",
    "This method allows you to classify data as being in a category or not. The independent variable can be any numeric variable, but the independent variable must be 1 or 0 and it has a binomial distribution.\n",
    "\n",
    "You wouldn't use this method to predict some kind of continuous variable (like size) or discrete numerical variable (like counting cars in a parking lot). It is used to predict categorical data.\n",
    "\n",
    "Given a linear combination independent variables, we can estimate $ \\hat p $\n",
    "\n",
    "The link between the independent data and the dependent output is the logit function.\n",
    "\n",
    "#### Logit function\n",
    "\n",
    "This is the inverse of the standard logistic function, which is used in neural nets.\n",
    "\n",
    "It has a domain of $ [0, 1] $ and range $ [-\\infty, \\infty] $\n",
    "\n",
    "It is a logirithm (with the base larger than 1) of the odds.\n",
    "\n",
    "In this case, we assume base $ e $:\n",
    "\n",
    "$ \\ln \\left(\\frac{p}{1-p}\\right) = \\ln(p) - \\ln(1-p) $\n",
    "\n",
    "The difference between two logit functions is:\n",
    "\n",
    "$ logit(p_1) - logit(p_2) = \\ln \\left(\\frac{p_1}{1-p_1}\\right) - \\ln \\left(\\frac{p_2}{1-p_2}\\right) = \\ln \\left(\\frac{p_1/(1-p_1)}{p_2/(1-p_2)}\\right) $\n",
    "\n",
    "The logit function has its only x-intercept at $ 0.5 $. Consider any event with equal odds. That is equivalent to $ \\ln(1) = 0 $"
   ]
  },
  {
   "cell_type": "code",
   "execution_count": 47,
   "id": "6aecb2fc",
   "metadata": {},
   "outputs": [
    {
     "data": {
      "image/png": "[encoded data removed]",
      "text/plain": [
       "<IPython.core.display.Image object>"
      ]
     },
     "metadata": {},
     "output_type": "display_data"
    }
   ],
   "source": [
    "function y = logit(x)\n",
    "    y = log(x./(1.-x));\n",
    "end\n",
    "\n",
    "# It's sensible not to include the range at the points where logit is undefined\n",
    "lowerLimit = 0.0001;\n",
    "upperLimit = 1 - lowerLimit;\n",
    "\n",
    "X = linspace(lowerLimit,upperLimit);\n",
    "plot(X, logit(X))\n",
    "hold on\n",
    "line([-0.05 1.05], [0 0])\n",
    "xlim([0 1])"
   ]
  },
  {
   "cell_type": "markdown",
   "id": "957b5a1a",
   "metadata": {},
   "source": [
    "#### Logistic function\n",
    "\n",
    "As said, this is the inverse of logit.\n",
    "\n",
    "Since logit is defined in terms of $ p $ then we can find $ p $ with logit's inverse.\n",
    "\n",
    "$ x = \\ln\\left(\\frac{p}{1-p}\\right) $\n",
    "\n",
    "$ e^x = \\left(\\frac{p}{1-p}\\right) $\n",
    "\n",
    "$ 1 + e^x = \\frac{1-p}{1-p}+ \\frac{p}{1-p} $\n",
    "\n",
    "$ 1 + e^x = \\frac{1}{1-p} $\n",
    "\n",
    "$ (1 + e^x)(1-p) = 1 $\n",
    "\n",
    "$ 1-p = \\frac{1}{1 + e^x} $\n",
    "\n",
    "$ -p = \\frac{1}{1 + e^x}-1 $\n",
    "\n",
    "$ p = \\frac{-1}{1 + e^x}+1 $\n",
    "\n",
    "$ p = \\frac{-1}{1 + e^x} + \\frac{1 + e^x}{1 + e^x} $\n",
    "\n",
    "$ p = \\frac{e^x}{1 + e^x} $\n",
    "\n",
    "In terms of logistic regression, we would have started this derivation with:\n",
    "\n",
    "$ logit(p) = \\ln\\left(\\frac{p}{1-p}\\right) = \\beta_0 + \\beta_1 x $\n",
    "\n",
    "$ \\therefore logit^{-1}(p) =\\large \\frac{e^{\\beta_0 + \\beta_1 x}}{1 + e^{\\beta_0 + \\beta_1 x}} $"
   ]
  },
  {
   "cell_type": "code",
   "execution_count": 48,
   "id": "7ef10754",
   "metadata": {},
   "outputs": [
    {
     "data": {
      "image/png": "[encoded data removed]",
      "text/plain": [
       "<IPython.core.display.Image object>"
      ]
     },
     "metadata": {},
     "output_type": "display_data"
    }
   ],
   "source": [
    "lowerLimit = -10;\n",
    "upperLimit = 10;\n",
    "X = linspace(lowerLimit,upperLimit);\n",
    "\n",
    "function y = logistic(x)\n",
    "    y = exp(x)./(1.+exp(x));\n",
    "end\n",
    "\n",
    "plot(X, logistic(X))\n",
    "line([0 0], [0 1])"
   ]
  },
  {
   "cell_type": "markdown",
   "id": "768dcbb7",
   "metadata": {},
   "source": [
    "### Fitting the line\n",
    "\n",
    "This video seems to do a good job of describing how to fit the logistic function to the data.\n",
    "\n",
    "https://www.youtube.com/watch?v=BfKanl1aSG0\n",
    "\n",
    "It would be a lot of work to implement the process, but here's the concept:\n",
    "\n",
    "- Choose a linear model, $ y = x $ would be sufficient\n",
    "- Project each of the data points onto the linear model, x-values remaining constant. This means that the y-values change.\n",
    "- Transform the linear model with its data points into the logistic function (to find the probability for each data point).\n",
    "- For this model, calculate the product of all probabilities. This is equivalent to adding the log of each probability. Call this the \"Log Likelihood\" for the line.\n",
    "- Then repeat the process. Continue until the Log Likelihood is maximised to some acceptable level.\n",
    "\n",
    "What's not mentioned in the video is how to choose the point around which the line rotates. Perhaps it's a similar situation to the above: keep the gradient constant and move the line sideways to maximise the Log Likelihood."
   ]
  },
  {
   "cell_type": "code",
   "execution_count": null,
   "id": "1e751bb1",
   "metadata": {},
   "outputs": [],
   "source": []
  }
 ],
 "metadata": {
  "kernelspec": {
   "display_name": "Octave",
   "language": "octave",
   "name": "octave"
  },
  "language_info": {
   "file_extension": ".m",
   "help_links": [
    {
     "text": "GNU Octave",
     "url": "https://www.gnu.org/software/octave/support.html"
    },
    {
     "text": "Octave Kernel",
     "url": "https://github.com/Calysto/octave_kernel"
    },
    {
     "text": "MetaKernel Magics",
     "url": "https://metakernel.readthedocs.io/en/latest/source/README.html"
    }
   ],
   "mimetype": "text/x-octave",
   "name": "octave",
   "version": "5.2.0"
  }
 },
 "nbformat": 4,
 "nbformat_minor": 5
}
