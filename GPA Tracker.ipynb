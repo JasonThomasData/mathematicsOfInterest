{
 "cells": [
  {
   "cell_type": "markdown",
   "id": "29023325",
   "metadata": {},
   "source": [
    "### GPA tracker"
   ]
  },
  {
   "cell_type": "code",
   "execution_count": 1,
   "id": "f0ef2f1b",
   "metadata": {},
   "outputs": [],
   "source": [
    "def average(units_dict):\n",
    "    scores = units_dict.values()\n",
    "    summation = sum(scores)\n",
    "    return summation/len(scores)\n",
    "\n",
    "def combine_dicts(dicts):\n",
    "    new_dict = dict()\n",
    "    for old_dict in dicts:\n",
    "        new_dict.update(old_dict)\n",
    "    return new_dict"
   ]
  },
  {
   "cell_type": "code",
   "execution_count": 2,
   "id": "4471a6ad",
   "metadata": {},
   "outputs": [],
   "source": [
    "# Completed\n",
    "\n",
    "deakin = {\n",
    "    \"Stats\":2,\n",
    "    \"ML\":2\n",
    "}\n",
    "\n",
    "rmit = {\n",
    "    \"Discrete Maths\": 4,\n",
    "    \"Maths Computation\": 4,\n",
    "    \"Linear Algebra\": 3,\n",
    "    \"Statistics\": 3,\n",
    "    \"Linear Models\": 4,\n",
    "    \"Data Wrangling\": 4,\n",
    "    \"Calculus 1\": 4,\n",
    "    \"Calculus 2\": 3,\n",
    "    \"Practice of Analytics\":1,\n",
    "    \"Stat Inf\": 1,\n",
    "    \"Modelling Diff. Equations\": 4,\n",
    "    \"Topology (UNE CX)\": 1,\n",
    "    \"Optimisation\": 3,\n",
    "    \"WIL\": 4,\n",
    "    \"Real Analysis\": 3,\n",
    "    \"Complex Networks\": 4\n",
    "}"
   ]
  },
  {
   "cell_type": "code",
   "execution_count": 3,
   "id": "83709091",
   "metadata": {},
   "outputs": [],
   "source": [
    "# This semester\n",
    "\n",
    "rmit_expected = {\n",
    "    \"numerical techniques\": 3,\n",
    "    \"WIL2\": 4,\n",
    "    \"multivariate analysis\" : 2\n",
    "}"
   ]
  },
  {
   "cell_type": "code",
   "execution_count": 4,
   "id": "653bf8ae",
   "metadata": {},
   "outputs": [],
   "source": [
    "# Future units\n",
    "rmit_future = {\n",
    "    \"future5\": 2,\n",
    "    \"future5\": 2,\n",
    "    \"future6\": 2,\n",
    "}"
   ]
  },
  {
   "cell_type": "code",
   "execution_count": 5,
   "id": "b21a5c4b",
   "metadata": {},
   "outputs": [
    {
     "name": "stdout",
     "output_type": "stream",
     "text": [
      "RMIT ONLY\n",
      "3.125\n",
      "RMIT and DEAKIN\n",
      "3.0\n",
      "RMIT ONLY (with expected)\n",
      "3.1052631578947367\n",
      "RMIT (all)\n",
      "3.0\n",
      "RMIT future only\n",
      "2.0\n"
     ]
    }
   ],
   "source": [
    "print(\"RMIT ONLY\")\n",
    "print(average(rmit))\n",
    "\n",
    "print(\"RMIT and DEAKIN\")\n",
    "print(average(combine_dicts([rmit, deakin])))\n",
    "\n",
    "print(\"RMIT ONLY (with expected)\")\n",
    "print(average(combine_dicts([rmit, rmit_expected])))\n",
    "\n",
    "print(\"RMIT (all)\")\n",
    "print(average(combine_dicts([rmit, rmit_expected, rmit_future])))\n",
    "\n",
    "print(\"RMIT future only\")\n",
    "print(average(rmit_future))"
   ]
  },
  {
   "cell_type": "markdown",
   "id": "a77df863",
   "metadata": {},
   "source": [
    "### Other scale\n",
    "\n",
    "Other unis use a 7 point scale"
   ]
  },
  {
   "cell_type": "code",
   "execution_count": 6,
   "id": "61acbc49",
   "metadata": {},
   "outputs": [],
   "source": [
    "increase = 3\n",
    "\n",
    "for elem in deakin:\n",
    "    deakin[elem] += 3 \n",
    "    \n",
    "for elem in rmit:\n",
    "    rmit[elem] += 3\n",
    "    \n",
    "for elem in rmit_expected:\n",
    "    rmit_expected[elem] += 3\n",
    "    \n",
    "for elem in rmit_future:\n",
    "    rmit_future[elem] += 3"
   ]
  },
  {
   "cell_type": "code",
   "execution_count": 7,
   "id": "a4c25740",
   "metadata": {},
   "outputs": [
    {
     "name": "stdout",
     "output_type": "stream",
     "text": [
      "RMIT ONLY\n",
      "6.125\n",
      "RMIT and DEAKIN\n",
      "6.0\n",
      "RMIT ONLY (with expected)\n",
      "6.105263157894737\n",
      "RMIT (all)\n",
      "6.0\n"
     ]
    }
   ],
   "source": [
    "print(\"RMIT ONLY\")\n",
    "print(average(rmit))\n",
    "\n",
    "print(\"RMIT and DEAKIN\")\n",
    "print(average(combine_dicts([rmit, deakin])))\n",
    "\n",
    "print(\"RMIT ONLY (with expected)\")\n",
    "print(average(combine_dicts([rmit, rmit_expected])))\n",
    "\n",
    "print(\"RMIT (all)\")\n",
    "print(average(combine_dicts([rmit, rmit_expected, rmit_future])))"
   ]
  },
  {
   "cell_type": "code",
   "execution_count": null,
   "id": "73a66285",
   "metadata": {},
   "outputs": [],
   "source": []
  }
 ],
 "metadata": {
  "kernelspec": {
   "display_name": "Python 3 (ipykernel)",
   "language": "python",
   "name": "python3"
  },
  "language_info": {
   "codemirror_mode": {
    "name": "ipython",
    "version": 3
   },
   "file_extension": ".py",
   "mimetype": "text/x-python",
   "name": "python",
   "nbconvert_exporter": "python",
   "pygments_lexer": "ipython3",
   "version": "3.10.12"
  }
 },
 "nbformat": 4,
 "nbformat_minor": 5
}
