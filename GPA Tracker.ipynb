{
 "cells": [
  {
   "cell_type": "markdown",
   "id": "29023325",
   "metadata": {},
   "source": [
    "### GPA tracker"
   ]
  },
  {
   "cell_type": "code",
   "execution_count": 2,
   "id": "f0ef2f1b",
   "metadata": {},
   "outputs": [],
   "source": [
    "def average(units_dict):\n",
    "    scores = units_dict.values()\n",
    "    summation = sum(scores)\n",
    "    return summation/len(scores)\n",
    "\n",
    "def combine_dicts(dicts):\n",
    "    new_dict = dict()\n",
    "    for old_dict in dicts:\n",
    "        new_dict.update(old_dict)\n",
    "    return new_dict\n"
   ]
  },
  {
   "cell_type": "code",
   "execution_count": 9,
   "id": "653bf8ae",
   "metadata": {},
   "outputs": [
    {
     "name": "stdout",
     "output_type": "stream",
     "text": [
      "RMIT ONLY\n",
      "3.3333333333333335\n",
      "RMIT and DEAKIN\n",
      "3.090909090909091\n",
      "RMIT and DEAKIN and UNE (worst)\n",
      "2.6923076923076925\n",
      "RMIT and DEAKIN and UNE (best)\n",
      "2.9166666666666665\n",
      "RMIT ONLY (with expected)\n",
      "3.272727272727273\n",
      "RMIT ONLY (with expected and future)\n",
      "3.0\n"
     ]
    }
   ],
   "source": [
    "# Completed\n",
    "\n",
    "deakin = {\n",
    "    \"Stats\":2,\n",
    "    \"ML\":2\n",
    "}\n",
    "\n",
    "rmit = {\n",
    "    \"Discrete Maths\": 4,\n",
    "    \"Maths Computation\": 4,\n",
    "    \"Linear Algebra\": 3,\n",
    "    \"Statistics\": 3,\n",
    "    \"Linear Models\": 4,\n",
    "    \"Data Wrangling\": 4,\n",
    "    \"Calculus 1\": 4,\n",
    "    \"Calculus 2\": 3,\n",
    "    \"Practice of Analytics\":1\n",
    "}\n",
    "\n",
    "# This semester\n",
    "\n",
    "une_worst = {\n",
    "    \"Topology1\": 0,\n",
    "    \"Topology2\": 1\n",
    "}\n",
    "une_best = {\"Topology3\": 1}\n",
    "\n",
    "rmit_expected = { \n",
    "    \"Stat inf\": 2,\n",
    "    \"Maths Modelling\": 4\n",
    "}\n",
    "\n",
    "# Future units\n",
    "# I can graduate \"with distinction\" if obtain three credits and 7 distinctions. Every further credit must be offset with a HD\n",
    "rmit_future = {\n",
    "    \"future1\": 2,\n",
    "    \"future2\": 2,\n",
    "    \"future3\": 2,\n",
    "    \"future4\": 3,\n",
    "    \"future5\": 3,\n",
    "    \"future6\": 3,\n",
    "    \"future7\": 3,\n",
    "    \"future8\": 3,\n",
    "    \"future9\": 3,\n",
    "    \"future10\": 3\n",
    "}\n",
    "\n",
    "print(\"RMIT ONLY\")\n",
    "print(average(rmit))\n",
    "\n",
    "\n",
    "print(\"RMIT and DEAKIN\")\n",
    "print(average(combine_dicts([rmit, deakin])))\n",
    "\n",
    "print(\"RMIT and DEAKIN and UNE (worst)\")\n",
    "print(average(combine_dicts([rmit, deakin, une_worst])))\n",
    "\n",
    "print(\"RMIT and DEAKIN and UNE (best)\")\n",
    "print(average(combine_dicts([rmit, deakin, une_best])))\n",
    "\n",
    "print(\"RMIT ONLY (with expected)\")\n",
    "print(average(combine_dicts([rmit, rmit_expected])))\n",
    "\n",
    "print(\"RMIT ONLY (with expected and future)\")\n",
    "print(average(combine_dicts([rmit, rmit_expected, rmit_future])))"
   ]
  },
  {
   "cell_type": "code",
   "execution_count": null,
   "id": "3fb59a4d",
   "metadata": {},
   "outputs": [],
   "source": []
  }
 ],
 "metadata": {
  "kernelspec": {
   "display_name": "Python 3 (ipykernel)",
   "language": "python",
   "name": "python3"
  },
  "language_info": {
   "codemirror_mode": {
    "name": "ipython",
    "version": 3
   },
   "file_extension": ".py",
   "mimetype": "text/x-python",
   "name": "python",
   "nbconvert_exporter": "python",
   "pygments_lexer": "ipython3",
   "version": "3.10.6"
  }
 },
 "nbformat": 4,
 "nbformat_minor": 5
}
