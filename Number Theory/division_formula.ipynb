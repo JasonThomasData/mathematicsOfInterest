{
 "cells": [
  {
   "cell_type": "markdown",
   "id": "c1b387e4",
   "metadata": {},
   "source": [
    "### The division formula\n",
    "\n",
    "Let $ a, b, \\in \\mathbb{N} $\n",
    "\n",
    "Then there are unique $ q, r, \\in \\mathbb{N} $\n",
    "\n",
    "Such that:\n",
    "\n",
    "$ b = aq + r , 0 \\le r < a $\n",
    "\n",
    "Where:\n",
    "\n",
    "$ q $ is known as the quotient\n",
    "\n",
    "$ r $ is known as the remainder\n",
    "\n",
    "This means that any natural number $ b $ can be expressed as a product of $ a $ times $ q $ plus $ r $.\n",
    "\n",
    "YOU CAN PROVE IT BY 3 CASES"
   ]
  },
  {
   "cell_type": "code",
   "execution_count": null,
   "id": "40980496",
   "metadata": {},
   "outputs": [],
   "source": []
  }
 ],
 "metadata": {
  "kernelspec": {
   "display_name": "Octave",
   "language": "octave",
   "name": "octave"
  },
  "language_info": {
   "file_extension": ".m",
   "help_links": [
    {
     "text": "GNU Octave",
     "url": "https://www.gnu.org/software/octave/support.html"
    },
    {
     "text": "Octave Kernel",
     "url": "https://github.com/Calysto/octave_kernel"
    },
    {
     "text": "MetaKernel Magics",
     "url": "https://metakernel.readthedocs.io/en/latest/source/README.html"
    }
   ],
   "mimetype": "text/x-octave",
   "name": "octave",
   "version": "6.4.0"
  }
 },
 "nbformat": 4,
 "nbformat_minor": 5
}
