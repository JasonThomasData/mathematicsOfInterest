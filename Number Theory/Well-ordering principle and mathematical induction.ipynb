{
 "cells": [
  {
   "cell_type": "markdown",
   "id": "b96e7023",
   "metadata": {},
   "source": [
    "Let the natural numbers be $ \\{0 \\in \\mathbb{N}\\} $\n",
    "\n",
    "#### What it means to have order\n",
    "\n",
    "We can define the inequality:\n",
    "\n",
    "$ m \\ge n \\Leftrightarrow m - n \\in N $\n",
    "\n",
    "$ m > n \\Leftrightarrow m - n \\in N \\setminus \\{0\\} $\n",
    "\n",
    "$ m = n \\Leftrightarrow m - n = 0 $\n",
    "\n",
    "$ m < n \\Leftrightarrow n - m \\in N \\setminus \\{0\\}$\n",
    "\n",
    "$ m \\le n \\Leftrightarrow n - m \\in N $\n",
    "\n",
    "#### Showing that $ \\mathbb{N} $ has a least element\n",
    "\n",
    "Given any $ S \\subseteq \\mathbb{Z} , s_0 \\in S $\n",
    "\n",
    "$ s_0 $ is the least element if:\n",
    "\n",
    "$ \\forall s \\in S, s_0 \\le s $\n",
    "\n",
    "If $ S = \\mathbb{N} $ then $ s_0 = 0 $\n",
    "\n",
    "This is because:\n",
    "\n",
    "$ \\forall n \\in \\mathbb{N} $ then $ n - 0 = n $ and $ n - 0 \\in \\mathbb{N} $\n",
    "\n",
    "Since we know: $ m \\le n \\Leftrightarrow n - m \\in \\mathbb{N} $\n",
    "\n",
    "Then for all $ n \\in \\mathbb{N} $:\n",
    "\n",
    "$ 0 \\le n \\Leftrightarrow n - 0 \\in \\mathbb{N} $\n",
    "\n",
    "#### The well-ordering principle (a consequence of above)\n",
    "\n",
    "Any subset $ S \\subseteq \\mathbb{N} $, but not $ \\emptyset $, has a least element.\n",
    "\n",
    "The set $ \\mathbb{N} $ has the least element $ 0 $\n",
    "\n",
    "#### Principle of mathematical induction\n",
    "\n",
    "1) $ S \\subseteq \\mathbb{N} $\n",
    "\n",
    "2) $ 0 \\in S $\n",
    "\n",
    "3) $ n \\in S \\to n+1 \\in S $\n",
    "\n",
    "Then $ S = \\mathbb{N} $\n",
    "\n",
    "#### logical equivalence\n",
    "\n",
    "The Well-Ordering Principle and the Principle of Mathemaitcal Induction are logically equivalent, meaning that if you assume one then you can deduce the other.\n",
    "\n",
    "TRY IT, IT's HARD"
   ]
  },
  {
   "cell_type": "code",
   "execution_count": null,
   "id": "4cbf79f3",
   "metadata": {},
   "outputs": [],
   "source": []
  }
 ],
 "metadata": {
  "kernelspec": {
   "display_name": "Octave",
   "language": "octave",
   "name": "octave"
  },
  "language_info": {
   "file_extension": ".m",
   "help_links": [
    {
     "text": "GNU Octave",
     "url": "https://www.gnu.org/software/octave/support.html"
    },
    {
     "text": "Octave Kernel",
     "url": "https://github.com/Calysto/octave_kernel"
    },
    {
     "text": "MetaKernel Magics",
     "url": "https://metakernel.readthedocs.io/en/latest/source/README.html"
    }
   ],
   "mimetype": "text/x-octave",
   "name": "octave",
   "version": "6.4.0"
  }
 },
 "nbformat": 4,
 "nbformat_minor": 5
}
