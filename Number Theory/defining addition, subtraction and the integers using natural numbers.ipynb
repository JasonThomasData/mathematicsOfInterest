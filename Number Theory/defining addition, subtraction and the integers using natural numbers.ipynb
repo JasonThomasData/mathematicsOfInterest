{
 "cells": [
  {
   "cell_type": "markdown",
   "id": "98ebe166",
   "metadata": {},
   "source": [
    "### Defining addition, subtraction, and the integers $ \\mathbb{Z} $ using natural numbers\n",
    "\n",
    "_I think this would be unacceptable in Number Theory because it assumes knowledge of ordering_\n",
    "\n",
    "Given that we have the natural numbers:\n",
    "\n",
    "$ \\mathbb{N} = \\{1,2,3,4,...\\} $\n",
    "\n",
    "And we have learned from counting that these numbers have order.\n",
    "\n",
    "$ n \\in \\mathbb{N} $\n",
    "\n",
    "$ s(n) $ be a function that selects the next number in the number line, the \"successor\" function.\n",
    "\n",
    "EG:\n",
    "\n",
    "$ s(1) = 2 $\n",
    "\n",
    "$ s(2) = 3 $\n",
    "\n",
    "We can denote this operation as the addition operator:\n",
    "\n",
    "$ s(n) = n + 1 $\n",
    "\n",
    "Repeated operations of $ s $ would yield higher additions:\n",
    "\n",
    "$ s^m(n) = n + m $\n",
    "\n",
    "#### The additive inverse\n",
    "\n",
    "We can now introduce an identity for the addition of natural numbers, using the constant:\n",
    "\n",
    "$ I = 0 $\n",
    "\n",
    "The set we now work with is $ \\{0\\} \\cup \\mathbb{N} $\n",
    "\n",
    "For any $ n $\n",
    "\n",
    "$ n + I = n $\n",
    "\n",
    "Which means to not use the successor function on $ n $:\n",
    "\n",
    "$ s^0(n) = n + 0 $\n",
    "\n",
    "Note that addition is commutative:\n",
    "\n",
    "$ n + I = I + n $\n",
    "\n",
    "Is also associative\n",
    "\n",
    "$ (n + m) + o = n + (m + o) $\n",
    "\n",
    "We can now define subtraction as addition of the inverse of $n$:\n",
    "\n",
    "$ I = n - n $\n",
    "\n",
    "Finally we can define the integers:\n",
    "\n",
    "$ \\mathbb{Z} = \\{n \\in \\mathbb{N} : 0 \\in \\mathbb{Z} \\wedge n \\in \\mathbb{Z} \\wedge -n \\in \\mathbb{Z} \\} $\n",
    "\n",
    "But note subtraction is not commutative:\n",
    "\n",
    "$ n - m = n + (-m) = -m + n $\n",
    "\n",
    "Or associative\n",
    "\n",
    "$ (n - m) - o = n - (m - o) $\n",
    "\n",
    "Subtraction is addition of the inverse, so the subtraction sign stays with the operand that follows it.\n",
    "\n",
    "#### A more useful definition of subtraction\n",
    "\n",
    "Starting with the above definition for subtraction:\n",
    "\n",
    "$ n + I = n $\n",
    "\n",
    "$ n + I - n = n - n $\n",
    "\n",
    "$ I - n = -n $\n",
    "\n",
    "Then we can refer to any negative integer as just $ -n $\n"
   ]
  },
  {
   "cell_type": "code",
   "execution_count": 2,
   "id": "1eb3f317",
   "metadata": {},
   "outputs": [
    {
     "name": "stdout",
     "output_type": "stream",
     "text": [
      "ans = 2\r\n"
     ]
    }
   ],
   "source": [
    "1 (+ 1)^3"
   ]
  },
  {
   "cell_type": "code",
   "execution_count": null,
   "id": "fb5d9154",
   "metadata": {},
   "outputs": [],
   "source": []
  }
 ],
 "metadata": {
  "kernelspec": {
   "display_name": "Octave",
   "language": "octave",
   "name": "octave"
  },
  "language_info": {
   "file_extension": ".m",
   "help_links": [
    {
     "text": "GNU Octave",
     "url": "https://www.gnu.org/software/octave/support.html"
    },
    {
     "text": "Octave Kernel",
     "url": "https://github.com/Calysto/octave_kernel"
    },
    {
     "text": "MetaKernel Magics",
     "url": "https://metakernel.readthedocs.io/en/latest/source/README.html"
    }
   ],
   "mimetype": "text/x-octave",
   "name": "octave",
   "version": "6.4.0"
  }
 },
 "nbformat": 4,
 "nbformat_minor": 5
}
