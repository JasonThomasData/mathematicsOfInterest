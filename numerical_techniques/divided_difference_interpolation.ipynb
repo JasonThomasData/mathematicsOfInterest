{
 "cells": [
  {
   "cell_type": "markdown",
   "id": "44a5a804",
   "metadata": {},
   "source": [
    "### Divided difference interpolation\n",
    "\n",
    "This follows from the wk1 notes\n",
    "\n",
    "A key benefit of this method is that you can add points without recalculating the former points. But, calculating the new points requires you to know the former point values. The coefficients are values, not functions, so therefore it should be inexpensive to store the values for future use.\n",
    "\n",
    "_TODO - create a method to take an existing table of coefficients and add a point, you should be able to get away with less computation._"
   ]
  },
  {
   "cell_type": "code",
   "execution_count": 3,
   "id": "b135a7f2",
   "metadata": {},
   "outputs": [],
   "source": [
    "function table = dividedDifferenceTable(points, pointsCount)\n",
    "    # there must be as many levels to the table as there are points\n",
    "    table = zeros(pointsCount, pointsCount+1);\n",
    "    table(:,1) = points(:,1);\n",
    "    table(:,2) = points(:,2); # first col of difference table is the pts x values\n",
    "\n",
    "    for j = 3:(pointsCount+1) # because the first two columns are given\n",
    "        for i = (j-1):pointsCount # the first difference is the second row\n",
    "            table(i,j) = (table(i,j-1) - table(i-1,j-1))/(table(i,1) - table(i-j+2,1)); # see the document on denominator pattern\n",
    "        end\n",
    "    end\n",
    "end"
   ]
  },
  {
   "cell_type": "code",
   "execution_count": 4,
   "id": "056245db",
   "metadata": {},
   "outputs": [],
   "source": [
    "function y = substitutedPoints(x, table)\n",
    "\n",
    "    y = table(1,2); # first coefficient is not applied to a point\n",
    "    \n",
    "    for i = 2:(length(table(:,1)))\n",
    "        \n",
    "        # y = table(i=1,j=2) + ...\n",
    "        #     table(i=2,j=3)*(x - points(k=1,1)) + ...\n",
    "        #     table(i=3,j=4)*(x - points(k=1,1))*(x - points(k=2,1) + ...\n",
    " \n",
    "        productOfXDifferences = 1;\n",
    "        for k = 1:(i-1) # the ith coefficient has a i-1 degree polynomial of x\n",
    "            productOfXDifferences = productOfXDifferences .* (x .- table(k,1));\n",
    "        end\n",
    "        y = y .+ (productOfXDifferences .* table(i, i+1));\n",
    "    end\n",
    "end"
   ]
  },
  {
   "cell_type": "code",
   "execution_count": 13,
   "id": "7eb03b7c",
   "metadata": {},
   "outputs": [
    {
     "name": "stdout",
     "output_type": "stream",
     "text": [
      "   -1    4    0    0\n",
      "    0    9    5    0\n",
      "    2   13    2   -1\n",
      "  -x⋅(x + 1) + 5⋅x + 9\n",
      "error: __go_line__: invalid value for array property \"ydata\", unable to create graphics handle\n",
      "error: called from\n",
      "    __plt__>__plt2vs__ at line 466 column 15\n",
      "    __plt__>__plt2__ at line 245 column 14\n",
      "    __plt__ at line 112 column 18\n",
      "    plot at line 229 column 10\n"
     ]
    },
    {
     "data": {
      "image/png": "[encoded data removed]",
      "text/plain": [
       "<IPython.core.display.Image object>"
      ]
     },
     "metadata": {},
     "output_type": "display_data"
    }
   ],
   "source": [
    "points = [-1 4;\n",
    "          0 9;\n",
    "          2 13];\n",
    "\n",
    "xSpace = min(points(:,1)):0.05:max(points(:,1));\n",
    "pointsCount = length(points);\n",
    "table = dividedDifferenceTable(points, pointsCount);\n",
    "\n",
    "disp(table)\n",
    "\n",
    "# To check polynomial, run this\n",
    "pkg load symbolic\n",
    "syms x\n",
    "y = substitutedPoints(x, table);\n",
    "disp(y)\n",
    "\n",
    "# y = substitutedPoints(xSpace, table);\n",
    "\n",
    "plot(xSpace, y);\n",
    "hold on;\n",
    "plot(points(:,1), points(:,2), \"ro\");"
   ]
  },
  {
   "cell_type": "code",
   "execution_count": null,
   "id": "1a9e4352",
   "metadata": {},
   "outputs": [],
   "source": []
  },
  {
   "cell_type": "code",
   "execution_count": null,
   "id": "ec8d941c",
   "metadata": {},
   "outputs": [],
   "source": []
  }
 ],
 "metadata": {
  "kernelspec": {
   "display_name": "Octave",
   "language": "octave",
   "name": "octave"
  },
  "language_info": {
   "file_extension": ".m",
   "help_links": [
    {
     "text": "GNU Octave",
     "url": "https://www.gnu.org/software/octave/support.html"
    },
    {
     "text": "Octave Kernel",
     "url": "https://github.com/Calysto/octave_kernel"
    },
    {
     "text": "MetaKernel Magics",
     "url": "https://metakernel.readthedocs.io/en/latest/source/README.html"
    }
   ],
   "mimetype": "text/x-octave",
   "name": "octave",
   "version": "6.4.0"
  }
 },
 "nbformat": 4,
 "nbformat_minor": 5
}
