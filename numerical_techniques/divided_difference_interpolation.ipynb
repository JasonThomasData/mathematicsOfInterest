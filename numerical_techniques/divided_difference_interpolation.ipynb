{
 "cells": [
  {
   "cell_type": "markdown",
   "id": "44a5a804",
   "metadata": {},
   "source": [
    "### Divided difference interpolation\n",
    "\n",
    "This follows from the wk1 notes\n",
    "\n",
    "A key benefit of this method is that you can add points without recalculating the former points. But, calculating the new points requires you to know the former point values. The coefficients are values, not functions, so therefore it should be inexpensive to store the values for future use.\n",
    "\n",
    "TODO - create a method to take an existing table of coefficients and add a point, you should be able to get away with less computation."
   ]
  },
  {
   "cell_type": "code",
   "execution_count": 18,
   "id": "b135a7f2",
   "metadata": {},
   "outputs": [],
   "source": [
    "function table = dividedDifferenceTable(points, pointsCount)\n",
    "    # there must be as many levels to the table as there are points\n",
    "    table = zeros(pointsCount);\n",
    "    table(1,:) = transpose(points(:,2));\n",
    "    \n",
    "    # compute each row as an order of differences, of the previous row\n",
    "    for i = 1:pointsCount\n",
    "        for j = 1:(pointsCount-i)\n",
    "            table(i+1,j) = (table(i,j+1) - table(i,j))/(points(i+1,1) - points(1,1));\n",
    "        end\n",
    "    end\n",
    "end"
   ]
  },
  {
   "cell_type": "code",
   "execution_count": 19,
   "id": "056245db",
   "metadata": {},
   "outputs": [],
   "source": [
    "function y = substitutedPoints(x, points, table)\n",
    "    y = table(1,1);\n",
    "\n",
    "    for i = 1:length(points)\n",
    "\n",
    "        if i == 1\n",
    "            continue;\n",
    "        end\n",
    "        \n",
    "        # y = table(i=1,1) + ...\n",
    "        #     table(i=2,1)*(x - points(j=1,1)) + ...\n",
    "        #     table(i=3,1)*(x - points(j=1,1))*points(j=2,1) + ...\n",
    " \n",
    "        productOfXDifferences = 1;\n",
    "        for j = 1:(i-1)\n",
    "            productOfXDifferences = productOfXDifferences .* (x .- points(j,1));\n",
    "        end\n",
    "        y = y .+ (productOfXDifferences .* table(i, 1));\n",
    "    end\n",
    "end"
   ]
  },
  {
   "cell_type": "code",
   "execution_count": 24,
   "id": "7eb03b7c",
   "metadata": {},
   "outputs": [
    {
     "data": {
      "image/png": "[encoded data removed]",
      "text/plain": [
       "<IPython.core.display.Image object>"
      ]
     },
     "metadata": {},
     "output_type": "display_data"
    }
   ],
   "source": [
    "points = [1 -10;\n",
    "          2 2;\n",
    "          3 -1;\n",
    "          4 20,\n",
    "          5, 4];\n",
    "\n",
    "xSpace = points(1,1):0.05:points(length(points),1);\n",
    "pointsCount = length(points);\n",
    "table = dividedDifferenceTable(points, pointsCount);\n",
    "\n",
    "y = substitutedPoints(xSpace, points, table);\n",
    "\n",
    "plot(xSpace, y);\n",
    "hold on;\n",
    "plot(points(:,1), points(:,2), \"ro\");"
   ]
  },
  {
   "cell_type": "code",
   "execution_count": null,
   "id": "3ead9ea7",
   "metadata": {},
   "outputs": [],
   "source": []
  },
  {
   "cell_type": "code",
   "execution_count": null,
   "id": "94e9bea7",
   "metadata": {},
   "outputs": [],
   "source": []
  }
 ],
 "metadata": {
  "kernelspec": {
   "display_name": "Octave",
   "language": "octave",
   "name": "octave"
  },
  "language_info": {
   "file_extension": ".m",
   "help_links": [
    {
     "text": "GNU Octave",
     "url": "https://www.gnu.org/software/octave/support.html"
    },
    {
     "text": "Octave Kernel",
     "url": "https://github.com/Calysto/octave_kernel"
    },
    {
     "text": "MetaKernel Magics",
     "url": "https://metakernel.readthedocs.io/en/latest/source/README.html"
    }
   ],
   "mimetype": "text/x-octave",
   "name": "octave",
   "version": "6.4.0"
  }
 },
 "nbformat": 4,
 "nbformat_minor": 5
}
