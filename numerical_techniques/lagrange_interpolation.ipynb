{
 "cells": [
  {
   "cell_type": "markdown",
   "id": "e8c6c3a1",
   "metadata": {},
   "source": [
    "### Lagrange Interpolation\n",
    "\n",
    "This follows from the content in wk1 notes\n",
    "\n",
    "Let\n",
    "\n",
    "$ j $ be the index of the coefficient to find\n",
    "\n",
    "$ k $ be the index as we iterate over points\n",
    "\n",
    "Then we require that $ j \\ne k $ in the below code."
   ]
  },
  {
   "cell_type": "code",
   "execution_count": 4,
   "id": "92b76684",
   "metadata": {},
   "outputs": [],
   "source": [
    "function coefs = lagrangeCoefficients(x, points, coefCount)\n",
    "    coefs = zeros(coefCount,length(x));\n",
    "    \n",
    "    for j = 1:coefCount\n",
    "        coef_j = 1; %multiplicative identity, because the coefficient is a product\n",
    "        for k = 1:coefCount\n",
    "            if j ~= k\n",
    "                coef_j = coef_j .* ( (x .- points(k,1))./(points(j,1) .- points(k,1)) );\n",
    "            end\n",
    "        end\n",
    "        coefs(j,:) = coef_j;\n",
    "    end\n",
    "end"
   ]
  },
  {
   "cell_type": "code",
   "execution_count": 5,
   "id": "b3a6c5d4",
   "metadata": {},
   "outputs": [],
   "source": [
    "function y = lagrangeInterpolate(x, points)\n",
    "    coefCount = length(points);\n",
    "    coefs = lagrangeCoefficients(x, points, coefCount);\n",
    "    \n",
    "    y = 0;\n",
    "    for i = 1:coefCount\n",
    "        y_i = points(i,2);\n",
    "        y = y + coefs(i,:).*y_i;\n",
    "    end\n",
    "end"
   ]
  },
  {
   "cell_type": "code",
   "execution_count": 6,
   "id": "cf7c8b25",
   "metadata": {},
   "outputs": [
    {
     "data": {
      "image/png": "[encoded data removed]",
      "text/plain": [
       "<IPython.core.display.Image object>"
      ]
     },
     "metadata": {},
     "output_type": "display_data"
    }
   ],
   "source": [
    "points = [0 40;\n",
    "          1 1;\n",
    "          2 12;\n",
    "          3 2;\n",
    "          4 -9;\n",
    "          5 60;\n",
    "          6 2];\n",
    "\n",
    "xSpace = 0:0.05:6;\n",
    "y = lagrangeInterpolate(xSpace, points);\n",
    "\n",
    "plot(xSpace, y);\n",
    "hold on;\n",
    "plot(points(:,1), points(:,2), \"ro\");"
   ]
  },
  {
   "cell_type": "code",
   "execution_count": null,
   "id": "68ddfee8",
   "metadata": {},
   "outputs": [],
   "source": []
  }
 ],
 "metadata": {
  "kernelspec": {
   "display_name": "Octave",
   "language": "octave",
   "name": "octave"
  },
  "language_info": {
   "file_extension": ".m",
   "help_links": [
    {
     "text": "GNU Octave",
     "url": "https://www.gnu.org/software/octave/support.html"
    },
    {
     "text": "Octave Kernel",
     "url": "https://github.com/Calysto/octave_kernel"
    },
    {
     "text": "MetaKernel Magics",
     "url": "https://metakernel.readthedocs.io/en/latest/source/README.html"
    }
   ],
   "mimetype": "text/x-octave",
   "name": "octave",
   "version": "6.4.0"
  }
 },
 "nbformat": 4,
 "nbformat_minor": 5
}
