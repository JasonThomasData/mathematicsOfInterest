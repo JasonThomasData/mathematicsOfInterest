{
 "cells": [
  {
   "cell_type": "markdown",
   "id": "1f95a871",
   "metadata": {},
   "source": [
    "### Thomas Algorithm to solve tridiagonal matrices\n",
    "\n",
    "There is a handwritten note on this. It was too tedious to do by hand so here's the algorithm."
   ]
  },
  {
   "cell_type": "code",
   "execution_count": 36,
   "id": "a9e222b6",
   "metadata": {},
   "outputs": [],
   "source": [
    "A = [1 3 0 0;\n",
    "     2 2 3 0;\n",
    "     0 1 2 4;\n",
    "     0 0 2 3];\n",
    "\n",
    "d = [1;\n",
    "     2;\n",
    "     3;\n",
    "     4];\n"
   ]
  },
  {
   "cell_type": "code",
   "execution_count": 37,
   "id": "4fe04355",
   "metadata": {},
   "outputs": [
    {
     "name": "stdout",
     "output_type": "stream",
     "text": [
      "   64.000  -21.000  -28.000   20.000\r\n"
     ]
    }
   ],
   "source": [
    "assert(length(A(1,:)) == length(A(:,1)));\n",
    "Asize = length(A);\n",
    "\n",
    "a = zeros(1, Asize);\n",
    "b = zeros(1, Asize);\n",
    "c = zeros(1, Asize);\n",
    "\n",
    "# this is conceptually sensible but it might be better to go with one loop rely on just A, not a b c.\n",
    "for i=1:Asize-1\n",
    "    a(i+1) = A(i+1,i);\n",
    "    b(i) = A(i,i);\n",
    "    c(i) = A(i, i+1);\n",
    "end\n",
    "\n",
    "b(Asize) = A(Asize, Asize);\n",
    "\n",
    "# FORWARD STEP\n",
    "\n",
    "beta = zeros(1, length(A));\n",
    "beta(1) = b(1);\n",
    "\n",
    "gamma = zeros(1, length(A));\n",
    "gamma(1) = d(1)/beta(1);\n",
    "\n",
    "for i=2:Asize\n",
    "    beta(i) = b(i) - a(i)*(c(i-1)/beta(i-1));\n",
    "    gamma(i) = (-a(i) * gamma(i-1) + d(i))/beta(i);\n",
    "end\n",
    "\n",
    "# BACK SUBSTITUTION\n",
    "\n",
    "x = zeros(1, Asize);\n",
    "x(Asize) = gamma(Asize);\n",
    "\n",
    "for i=(Asize-1):-1:1\n",
    "    x(i) = gamma(i) - x(i+1)*(c(i)/beta(i)); \n",
    "end\n",
    "\n",
    "disp(x);\n"
   ]
  },
  {
   "cell_type": "markdown",
   "id": "d1fdfd30",
   "metadata": {},
   "source": [
    "It would be interesting to check the O(n) notation for this and how it compares to standard Gaussian Elimination.\n"
   ]
  },
  {
   "cell_type": "code",
   "execution_count": null,
   "id": "1c0068fc",
   "metadata": {},
   "outputs": [],
   "source": []
  }
 ],
 "metadata": {
  "kernelspec": {
   "display_name": "Octave",
   "language": "octave",
   "name": "octave"
  },
  "language_info": {
   "file_extension": ".m",
   "help_links": [
    {
     "text": "GNU Octave",
     "url": "https://www.gnu.org/software/octave/support.html"
    },
    {
     "text": "Octave Kernel",
     "url": "https://github.com/Calysto/octave_kernel"
    },
    {
     "text": "MetaKernel Magics",
     "url": "https://metakernel.readthedocs.io/en/latest/source/README.html"
    }
   ],
   "mimetype": "text/x-octave",
   "name": "octave",
   "version": "6.4.0"
  }
 },
 "nbformat": 4,
 "nbformat_minor": 5
}
