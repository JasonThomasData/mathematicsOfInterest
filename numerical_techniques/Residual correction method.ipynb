{
 "cells": [
  {
   "attachments": {
    "image.png": {
     "image/png": "[encoded data removed]"
    }
   },
   "cell_type": "markdown",
   "id": "a1acc6f5",
   "metadata": {},
   "source": [
    "### Residual correction method\n",
    "\n",
    "Refer to residual correction in week6 notebook\n",
    "\n",
    "![image.png](attachment:image.png)\n",
    "\n",
    "But, use 3 digit rounding to find the solution.\n"
   ]
  },
  {
   "cell_type": "code",
   "execution_count": 20,
   "id": "67d87665",
   "metadata": {},
   "outputs": [
    {
     "name": "stdout",
     "output_type": "stream",
     "text": [
      "A =\n",
      "\n",
      "   0.1250   0.1430\n",
      "   0.1110   0.1250\n",
      "\n",
      "b =\n",
      "\n",
      "   1.7000\n",
      "   1.5000\n",
      "\n",
      "x_approx =\n",
      "\n",
      "   8.0645\n",
      "   4.8387\n",
      "\n",
      "x_actual =\n",
      "\n",
      "   7.2000\n",
      "   5.6000\n",
      "\n"
     ]
    }
   ],
   "source": [
    "A = [0.125 0.143;\n",
    "     0.111 0.125]\n",
    "     \n",
    "b = [1.7;\n",
    "     1.5] \n",
    "     \n",
    "# initial $ \\tilda{x} $\n",
    "\n",
    "x_approx = A\\b\n",
    "x_actual = [7.2; 5]"
   ]
  },
  {
   "cell_type": "markdown",
   "id": "f6fde65b",
   "metadata": {},
   "source": [
    "### LU factorisation\n",
    "\n",
    "Because the algorithm below uses multiple RHS, we can use LU factorisation.\n",
    "\n",
    "$ l_{21} = \\frac{0.111}{0.125} $\n",
    "\n",
    "$ U_{21} = 0 $\n",
    "\n",
    "$ U_{22} = U_{22} - l_{21}*U_{12} $\n",
    "\n",
    "$ U_{22} = 0.125 - (0.111/0.125)0.143 $\n",
    "\n",
    "$ L = \\left[ \\begin{matrix} 1 & 0 \\\\ 0.888 & 1 \\end{matrix} \\right] $\n",
    "\n",
    "$ U = \\left[ \\begin{matrix} 0.125 & 0.143 \\\\ 0 & .125 \\end{matrix} \\right] $\n",
    "\n",
    "$ Ae = r $\n",
    "\n",
    "$ A = LU $\n",
    "\n",
    "$ LUe = r $\n",
    "\n",
    "$ Ue = g $\n",
    "\n",
    "$ Lg = r $"
   ]
  },
  {
   "cell_type": "code",
   "execution_count": 23,
   "id": "e7924382",
   "metadata": {},
   "outputs": [
    {
     "name": "stdout",
     "output_type": "stream",
     "text": [
      "   8.0645\n",
      "   4.8387\n",
      "   0\n",
      "   0\n",
      "   8.0645\n",
      "   4.8387\n",
      "   0\n",
      "   0\n",
      "   8.0645\n",
      "   4.8387\n",
      "   0\n",
      "   0\n",
      "   8.0645\n",
      "   4.8387\n",
      "   0\n",
      "   0\n",
      "   8.0645\n",
      "   4.8387\n",
      "   0\n",
      "   0\n",
      "   8.0645\n",
      "   4.8387\n",
      "   0\n",
      "   0\n",
      "   8.0645\n",
      "   4.8387\n",
      "   0\n",
      "   0\n",
      "   8.0645\n",
      "   4.8387\n",
      "   0\n",
      "   0\n",
      "   8.0645\n",
      "   4.8387\n",
      "   0\n",
      "   0\n",
      "   8.0645\n",
      "   4.8387\n",
      "   0\n",
      "   0\n",
      "   8.0645\n",
      "   4.8387\n",
      "   0\n",
      "   0\n",
      "   8.0645\n",
      "   4.8387\n",
      "   0\n",
      "   0\n",
      "   8.0645\n",
      "   4.8387\n",
      "   0\n",
      "   0\n",
      "   8.0645\n",
      "   4.8387\n",
      "   0\n",
      "   0\n",
      "   8.0645\n",
      "   4.8387\n",
      "   0\n",
      "   0\n",
      "   8.0645\n",
      "   4.8387\n",
      "   0\n",
      "   0\n",
      "   8.0645\n",
      "   4.8387\n",
      "   0\n",
      "   0\n",
      "   8.0645\n",
      "   4.8387\n",
      "   0\n",
      "   0\n",
      "   8.0645\n",
      "   4.8387\n",
      "   0\n",
      "   0\n",
      "   8.0645\n",
      "   4.8387\n",
      "   0\n",
      "   0\n",
      "   8.0645\n",
      "   4.8387\n"
     ]
    }
   ],
   "source": [
    "L = [1 0;\n",
    "     0.888 1];\n",
    "\n",
    "U = [0.125 0.143;\n",
    "     0 0.125];\n",
    "\n",
    "disp(x_approx);\n",
    "\n",
    "for i=1:20\n",
    "    r = b - A*x_approx;\n",
    "    g = L\\r;\n",
    "    e = U\\g;\n",
    "    disp(e)\n",
    "    x_approx = x_approx + e;\n",
    "    disp(x_approx);\n",
    "end"
   ]
  },
  {
   "cell_type": "markdown",
   "id": "bcdf25f5",
   "metadata": {},
   "source": [
    "This overshoots the actual solution! I checked with lecturers and they said this was expected, and there's essentially only the option to halt the algorithm after a certain number of steps."
   ]
  },
  {
   "cell_type": "code",
   "execution_count": null,
   "id": "447551ca",
   "metadata": {},
   "outputs": [],
   "source": []
  }
 ],
 "metadata": {
  "kernelspec": {
   "display_name": "Octave",
   "language": "octave",
   "name": "octave"
  },
  "language_info": {
   "file_extension": ".m",
   "help_links": [
    {
     "text": "GNU Octave",
     "url": "https://www.gnu.org/software/octave/support.html"
    },
    {
     "text": "Octave Kernel",
     "url": "https://github.com/Calysto/octave_kernel"
    },
    {
     "text": "MetaKernel Magics",
     "url": "https://metakernel.readthedocs.io/en/latest/source/README.html"
    }
   ],
   "mimetype": "text/x-octave",
   "name": "octave",
   "version": "6.4.0"
  }
 },
 "nbformat": 4,
 "nbformat_minor": 5
}
