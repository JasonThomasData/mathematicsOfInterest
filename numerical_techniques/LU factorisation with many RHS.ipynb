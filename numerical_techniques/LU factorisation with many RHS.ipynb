{
 "cells": [
  {
   "cell_type": "markdown",
   "id": "7e8db7a4",
   "metadata": {},
   "source": [
    "### LU factorisation with many RHS\n",
    "\n",
    "There is a handwritten document that goes through the theory on this."
   ]
  },
  {
   "cell_type": "code",
   "execution_count": 1,
   "id": "943dc846",
   "metadata": {},
   "outputs": [],
   "source": [
    "format rat\n",
    "\n",
    "A = [2 3 -1;\n",
    "     4 -3 1;\n",
    "     3 6 -4];\n",
    "\n",
    "b = [5; 4; 5/2];"
   ]
  },
  {
   "cell_type": "markdown",
   "id": "62a414bb",
   "metadata": {},
   "source": [
    "But let's demonstrate that based on $ A $, the $ U $ and $ L $ will always be the same.\n",
    "\n",
    "First, use $ LU $ factoring to find the solution in terms of $ b $"
   ]
  },
  {
   "cell_type": "code",
   "execution_count": 2,
   "id": "2bd8fea7",
   "metadata": {},
   "outputs": [
    {
     "name": "stdout",
     "output_type": "stream",
     "text": [
      "U =\n",
      "\n",
      "          2          3         -1\n",
      "          0         -9          3\n",
      "          0          0         -2\n",
      "\n",
      "L =\n",
      "\n",
      "          1          0          0\n",
      "          2          1          0\n",
      "        3/2       -1/6          1\n",
      "\n",
      "x_1 =\n",
      "\n",
      "        3/2\n",
      "        5/3\n",
      "          3\n",
      "\n",
      "x_2 =\n",
      "\n",
      "        3/2\n",
      "        5/3\n",
      "          3\n",
      "\n"
     ]
    }
   ],
   "source": [
    "# Found via Gaussian Elimination\n",
    "U = [2 3 -1;\n",
    "     0 -9 3;\n",
    "     0 0 -2]\n",
    "     \n",
    "# Found by recording the multipliers to find U\n",
    "L = [1   0    0;\n",
    "     2   1    0;\n",
    "     3/2 -1/6 1]\n",
    "\n",
    "# To check, this should give us A:\n",
    "assert(A == L*U)\n",
    "\n",
    "# This is the solution found using normal row reductions\n",
    "x_1 = A\\b\n",
    "\n",
    "# This is found using LU factoring\n",
    "g = L\\b;\n",
    "x_2 = U\\g\n",
    "\n",
    "# Fails if False\n",
    "assert(x_1 == x_2)"
   ]
  },
  {
   "cell_type": "markdown",
   "id": "23d32140",
   "metadata": {},
   "source": [
    "Now, change $ b $ and observe that $ L, U $ remain the same."
   ]
  },
  {
   "cell_type": "code",
   "execution_count": 3,
   "id": "ddbcf733",
   "metadata": {},
   "outputs": [
    {
     "name": "stdout",
     "output_type": "stream",
     "text": [
      "x_1 =\n",
      "\n",
      "        4/3\n",
      "      83/36\n",
      "      43/12\n",
      "\n",
      "x_2 =\n",
      "\n",
      "        4/3\n",
      "      83/36\n",
      "      43/12\n",
      "\n"
     ]
    }
   ],
   "source": [
    "b = [6; 2; 7/2];\n",
    "\n",
    "# Again with standard row reductions\n",
    "x_1 = A\\b\n",
    "\n",
    "# Again with L and U, which didn't change\n",
    "g = L\\b;\n",
    "x_2 = U\\g"
   ]
  },
  {
   "cell_type": "code",
   "execution_count": null,
   "id": "c3e6071e",
   "metadata": {},
   "outputs": [],
   "source": []
  }
 ],
 "metadata": {
  "kernelspec": {
   "display_name": "Octave",
   "language": "octave",
   "name": "octave"
  },
  "language_info": {
   "file_extension": ".m",
   "help_links": [
    {
     "text": "GNU Octave",
     "url": "https://www.gnu.org/software/octave/support.html"
    },
    {
     "text": "Octave Kernel",
     "url": "https://github.com/Calysto/octave_kernel"
    },
    {
     "text": "MetaKernel Magics",
     "url": "https://metakernel.readthedocs.io/en/latest/source/README.html"
    }
   ],
   "mimetype": "text/x-octave",
   "name": "octave",
   "version": "6.4.0"
  }
 },
 "nbformat": 4,
 "nbformat_minor": 5
}
