{
 "cells": [
  {
   "cell_type": "markdown",
   "id": "049ada33",
   "metadata": {},
   "source": [
    "### Secant Method (to find roots)\n",
    "\n",
    "Have a look at the Xournal++ document to understand the reason for this.\n",
    "\n",
    "When a function can't have a derivative, we can bypass Newton's Method and just use a finite different approximation of the first derivative.\n",
    "\n",
    "$ x_{n+1} = x_n - \\frac{x_n - x_{n-1}}{f(x_n) - f(x_{n-1})} f(x_n) $"
   ]
  },
  {
   "cell_type": "markdown",
   "id": "2a778fcb",
   "metadata": {},
   "source": [
    "This means that you need to find two points on the function, and then we can iterate over the approximated gradient."
   ]
  },
  {
   "cell_type": "code",
   "execution_count": 50,
   "id": "eb805140",
   "metadata": {},
   "outputs": [],
   "source": [
    "function x_np1 = rootApprox(f, x_n, x_nm1)\n",
    "    x_np1 = x_n - (x_n - x_nm1)/(f(x_n) - f(x_nm1))*f(x_n);\n",
    "end\n",
    "\n",
    "function [x_np1, x_n, x_nm1] = oneIteration(f, x_np1, x_n, x_nm1)\n",
    "    disp(x_np1);\n",
    "    if isnan(x_np1)\n",
    "        x_np1 = rootApprox(f, x_n, x_nm1);\n",
    "    else\n",
    "        x_nm1 = x_n;\n",
    "        x_n = x_np1;\n",
    "        x_np1 = rootApprox(f, x_n, x_nm1);\n",
    "    end\n",
    "end\n",
    "\n",
    "function x_np1 = secantMethod(f, x_n, x_nm1, err=NaN, iter=NaN)\n",
    "    usage = \"\\n call with error target: secantMethod(@f, 1, 2, err=10^-3, NaN) \\n XOR \\n call with iteration target: secantMethod(@f, 1, 2, NaN, iter=5)\";\n",
    "    if ~isa(f, 'function_handle') || ...\n",
    "       isnan(x_n) || ...\n",
    "       isnan(x_nm1) || ...\n",
    "       isnan(err) && isnan(iter) || ...\n",
    "       ~isnan(err) && ~isnan(iter)\n",
    "            error(usage);\n",
    "    end\n",
    "    \n",
    "    x_np1 = NaN;\n",
    "    if ~isnan(err)\n",
    "        while abs(x_n - x_nm1) > err\n",
    "            [x_np1, x_n, x_nm1] = oneIteration(f, x_np1, x_n, x_nm1);\n",
    "        end\n",
    "    else\n",
    "        for i=1:iter\n",
    "            [x_np1, x_n, x_nm1] = oneIteration(f, x_np1, x_n, x_nm1);\n",
    "        end\n",
    "    end\n",
    "end"
   ]
  },
  {
   "cell_type": "markdown",
   "id": "ee200404",
   "metadata": {},
   "source": [
    "Let's find $ x $:\n",
    "\n",
    "$ x = \\sqrt{5} $\n",
    "\n",
    "$ x^2 = 5 $\n",
    "\n",
    "$ x^2 - 5 = 0 $\n",
    "\n",
    "So, now to find x, we can find the root of this function."
   ]
  },
  {
   "cell_type": "code",
   "execution_count": 53,
   "id": "e092129d",
   "metadata": {},
   "outputs": [
    {
     "name": "stdout",
     "output_type": "stream",
     "text": [
      "NaN\r\n",
      "2.3871\r\n",
      "2.2075\r\n",
      "2.2351\r\n",
      "2.2361\r\n",
      "2.2361\r\n"
     ]
    }
   ],
   "source": [
    "function root = f(x)\n",
    "    # implicitly, this is an equality with 0, since you try to find its root\n",
    "    root = x^2 - 5;\n",
    "end\n",
    "\n",
    "disp(secantMethod(@f, 1.5, 1.6, 0.01, NaN))"
   ]
  }
 ],
 "metadata": {
  "kernelspec": {
   "display_name": "Octave",
   "language": "octave",
   "name": "octave"
  },
  "language_info": {
   "file_extension": ".m",
   "help_links": [
    {
     "text": "GNU Octave",
     "url": "https://www.gnu.org/software/octave/support.html"
    },
    {
     "text": "Octave Kernel",
     "url": "https://github.com/Calysto/octave_kernel"
    },
    {
     "text": "MetaKernel Magics",
     "url": "https://metakernel.readthedocs.io/en/latest/source/README.html"
    }
   ],
   "mimetype": "text/x-octave",
   "name": "octave",
   "version": "6.4.0"
  }
 },
 "nbformat": 4,
 "nbformat_minor": 5
}
