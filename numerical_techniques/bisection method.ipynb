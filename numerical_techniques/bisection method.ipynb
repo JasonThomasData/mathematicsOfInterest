{
 "cells": [
  {
   "cell_type": "markdown",
   "id": "4c95a5be",
   "metadata": {},
   "source": [
    "### Bisection method\n",
    "\n",
    "This method is discussed in the wk3 content."
   ]
  },
  {
   "cell_type": "code",
   "execution_count": 1,
   "id": "bc27ec9c",
   "metadata": {},
   "outputs": [],
   "source": [
    "function y = f1(x)\n",
    "    y = exp(x) - x.^2 + -2.*x + 2;\n",
    "end"
   ]
  },
  {
   "cell_type": "markdown",
   "id": "46b432ee",
   "metadata": {},
   "source": [
    "This function will be hard to find the real roots for, but we can eyeball it first"
   ]
  },
  {
   "cell_type": "code",
   "execution_count": 2,
   "id": "739e43cb",
   "metadata": {},
   "outputs": [
    {
     "data": {
      "image/png": "[encoded data removed]",
      "text/plain": [
       "<IPython.core.display.Image object>"
      ]
     },
     "metadata": {},
     "output_type": "display_data"
    }
   ],
   "source": [
    "xSpace = linspace(-4,3);\n",
    "plot(xSpace, f1(xSpace));\n",
    "hold on;\n",
    "plot(x=xSpace, y=0);"
   ]
  },
  {
   "cell_type": "markdown",
   "id": "5d7f539b",
   "metadata": {},
   "source": [
    "So, it seems to have a real root between $ -4 < x < -2 $ "
   ]
  },
  {
   "cell_type": "code",
   "execution_count": 17,
   "id": "db409c0f",
   "metadata": {},
   "outputs": [],
   "source": [
    "function interval = bisect(fun, interval)\n",
    "    xMin = min(interval(1));\n",
    "    xMax = max(interval(2));\n",
    "    xHalf = (xMax - xMin)/2;\n",
    "    \n",
    "    # It is important to only consider the real part\n",
    "    # That's because some functions take the root of x, so if x is negative then we end up with complex numbers.\n",
    "    if (real(fun(xMin)) * real(fun(xMin+xHalf))) <= 0\n",
    "        interval = [xMin, xMin+xHalf];\n",
    "    else\n",
    "        interval = [xMin+xHalf, xMax];\n",
    "    end\n",
    "end\n",
    "\n",
    "\n",
    "function estimation = bisectionMethod(interval, fun, err=NaN, iter=NaN)\n",
    "    usage = \"\\n call with error target: bisectionMethod([1,2], @f, err=10^-3) \\n XOR \\n call with iteration target: bisectionMethod([1,2], @f, iter=5)\";\n",
    "    if ~isa(fun, 'function_handle') || ...\n",
    "       length(interval) ~= 2 || ...\n",
    "       ~isa(interval, 'numeric') || ...\n",
    "       isnan(err) && isnan(iter) || ...\n",
    "       ~isnan(err) && ~isnan(iter)\n",
    "            error(usage);\n",
    "    end\n",
    "    \n",
    "    if ~isnan(err)\n",
    "        while abs(interval(2) - interval(1)) > err\n",
    "            interval = bisect(fun, interval);\n",
    "        end\n",
    "    elseif ~isnan(iter) \n",
    "        for i=1:iter\n",
    "            interval = bisect(fun, interval);\n",
    "        end\n",
    "    else\n",
    "        error(usage);\n",
    "    end\n",
    "    \n",
    "    xHalf = min(interval) + (max(interval) - min(interval))/2;\n",
    "    \n",
    "    estimation = xHalf; \n",
    "end"
   ]
  },
  {
   "cell_type": "code",
   "execution_count": 18,
   "id": "074732f4",
   "metadata": {},
   "outputs": [],
   "source": [
    "xRoot = bisectionMethod([-4,-2],@f1,0.001,NaN);"
   ]
  },
  {
   "cell_type": "code",
   "execution_count": 19,
   "id": "d82b2596",
   "metadata": {},
   "outputs": [
    {
     "data": {
      "image/png": "[encoded data removed]",
      "text/plain": [
       "<IPython.core.display.Image object>"
      ]
     },
     "metadata": {},
     "output_type": "display_data"
    }
   ],
   "source": [
    "xSpace = linspace(-4,3);\n",
    "plot(xSpace, f1(xSpace));\n",
    "hold on;\n",
    "plot(x=xSpace, y=0);\n",
    "plot(xRoot,0, \"ro\")"
   ]
  },
  {
   "cell_type": "markdown",
   "id": "5f3316ed",
   "metadata": {},
   "source": [
    "### Another example"
   ]
  },
  {
   "cell_type": "code",
   "execution_count": 20,
   "id": "dc1abe18",
   "metadata": {},
   "outputs": [
    {
     "name": "stdout",
     "output_type": "stream",
     "text": [
      "-0.5240\r\n"
     ]
    }
   ],
   "source": [
    "function y = f2(x)\n",
    "    y = sqrt(x) + x.^3 + -6.*x - 3;\n",
    "end\n",
    "\n",
    "xRoot = bisectionMethod([-1.0001,1.0000001],@f2,NaN,15);"
   ]
  },
  {
   "cell_type": "code",
   "execution_count": 21,
   "id": "596929f4",
   "metadata": {
    "scrolled": true
   },
   "outputs": [
    {
     "data": {
      "image/png": "[encoded data removed]",
      "text/plain": [
       "<IPython.core.display.Image object>"
      ]
     },
     "metadata": {},
     "output_type": "display_data"
    }
   ],
   "source": [
    "xSpace = linspace(-2,2);\n",
    "plot(xSpace, f2(xSpace));\n",
    "hold on;\n",
    "plot(x=xSpace, y=0);\n",
    "plot(xRoot,0, \"ro\")"
   ]
  },
  {
   "cell_type": "code",
   "execution_count": null,
   "id": "74ce41a3",
   "metadata": {},
   "outputs": [],
   "source": []
  },
  {
   "cell_type": "code",
   "execution_count": null,
   "id": "29e0e48c",
   "metadata": {},
   "outputs": [],
   "source": []
  }
 ],
 "metadata": {
  "kernelspec": {
   "display_name": "Octave",
   "language": "octave",
   "name": "octave"
  },
  "language_info": {
   "file_extension": ".m",
   "help_links": [
    {
     "text": "GNU Octave",
     "url": "https://www.gnu.org/software/octave/support.html"
    },
    {
     "text": "Octave Kernel",
     "url": "https://github.com/Calysto/octave_kernel"
    },
    {
     "text": "MetaKernel Magics",
     "url": "https://metakernel.readthedocs.io/en/latest/source/README.html"
    }
   ],
   "mimetype": "text/x-octave",
   "name": "octave",
   "version": "6.4.0"
  }
 },
 "nbformat": 4,
 "nbformat_minor": 5
}
