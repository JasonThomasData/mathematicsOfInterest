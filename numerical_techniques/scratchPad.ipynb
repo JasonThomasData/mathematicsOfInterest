{
 "cells": [
  {
   "cell_type": "markdown",
   "id": "e7dd3edb",
   "metadata": {},
   "source": [
    "### Scratch pad for assignments\n",
    "\n"
   ]
  },
  {
   "cell_type": "code",
   "execution_count": 1,
   "id": "9a082c7f",
   "metadata": {},
   "outputs": [
    {
     "name": "stdout",
     "output_type": "stream",
     "text": [
      "ans =\n",
      "\n",
      "   -5.0000\n",
      "   10.0000\n",
      "    7.0000\n",
      "   -7.0000\n",
      "\n",
      "M =\n",
      "\n",
      "   8   2   2  -1   1\n",
      "  -2  -6   3  -4  -1\n",
      "   3  -4   2  -6   1\n",
      "   1   2   0   2   1\n",
      "\n"
     ]
    }
   ],
   "source": [
    "M = [8  2 2 -1 ;\n",
    "    -2 -6 3 -4 ;\n",
    "     3 -4 2 -6 ;\n",
    "     1  2 0  2 ]; \n",
    "b = [1; -1; 1; 1];\n",
    "M\\b\n",
    "\n",
    "M = [M, b]"
   ]
  },
  {
   "cell_type": "code",
   "execution_count": 2,
   "id": "e7be035e",
   "metadata": {},
   "outputs": [
    {
     "name": "stdout",
     "output_type": "stream",
     "text": [
      "M =\r\n",
      "\r\n",
      "          8          2          2         -1          1\r\n",
      "          0      -11/2        7/2      -17/4       -3/4\r\n",
      "          3         -4          2         -6          1\r\n",
      "          1          2          0          2          1\r\n",
      "\r\n"
     ]
    }
   ],
   "source": [
    "format rat\n",
    "M(2,:) = M(2,:) - -2/8 * M(1,:)"
   ]
  },
  {
   "cell_type": "code",
   "execution_count": 3,
   "id": "c5bc61a9",
   "metadata": {},
   "outputs": [
    {
     "name": "stdout",
     "output_type": "stream",
     "text": [
      "M =\r\n",
      "\r\n",
      "          8          2          2         -1          1\r\n",
      "          0      -11/2        7/2      -17/4       -3/4\r\n",
      "          0      -19/4        5/4      -45/8        5/8\r\n",
      "          1          2          0          2          1\r\n",
      "\r\n"
     ]
    }
   ],
   "source": [
    "M(3,:) = M(3,:) - 3/8 * M(1,:)"
   ]
  },
  {
   "cell_type": "code",
   "execution_count": 4,
   "id": "30938d97",
   "metadata": {},
   "outputs": [
    {
     "name": "stdout",
     "output_type": "stream",
     "text": [
      "M =\r\n",
      "\r\n",
      "          8          2          2         -1          1\r\n",
      "          0      -11/2        7/2      -17/4       -3/4\r\n",
      "          0      -19/4        5/4      -45/8        5/8\r\n",
      "          0        7/4       -1/4       17/8        7/8\r\n",
      "\r\n"
     ]
    }
   ],
   "source": [
    "M(4,:) = M(4,:) - 1/8 * M(1,:)"
   ]
  },
  {
   "cell_type": "code",
   "execution_count": 5,
   "id": "cc153b64",
   "metadata": {},
   "outputs": [
    {
     "name": "stdout",
     "output_type": "stream",
     "text": [
      "M =\r\n",
      "\r\n",
      "          8          2          2         -1          1\r\n",
      "          0      -11/2        7/2      -17/4       -3/4\r\n",
      "          0          0     -39/22     -43/22      14/11\r\n",
      "          0        7/4       -1/4       17/8        7/8\r\n",
      "\r\n"
     ]
    }
   ],
   "source": [
    "M(3,:) = M(3,:) - 19/22*M(2,:)"
   ]
  },
  {
   "cell_type": "code",
   "execution_count": 6,
   "id": "e22df817",
   "metadata": {},
   "outputs": [
    {
     "name": "stdout",
     "output_type": "stream",
     "text": [
      "M =\r\n",
      "\r\n",
      "          8          2          2         -1          1\r\n",
      "          0      -11/2        7/2      -17/4       -3/4\r\n",
      "          0          0     -39/22     -43/22      14/11\r\n",
      "          0          0      19/22      17/22       7/11\r\n",
      "\r\n"
     ]
    }
   ],
   "source": [
    "M(4,:) = M(4,:) - -7/22*M(2,:)"
   ]
  },
  {
   "cell_type": "code",
   "execution_count": 7,
   "id": "e31ee8e3",
   "metadata": {},
   "outputs": [
    {
     "name": "stdout",
     "output_type": "stream",
     "text": [
      "M =\r\n",
      "\r\n",
      "          8          2          2         -1          1\r\n",
      "          0      -11/2        7/2      -17/4       -3/4\r\n",
      "          0          0     -39/22     -43/22      14/11\r\n",
      "          0          0          *      -7/39      49/39\r\n",
      "\r\n"
     ]
    }
   ],
   "source": [
    "M(4,:)  = M(4,:) - (-19/39)*M(3,:)"
   ]
  },
  {
   "cell_type": "code",
   "execution_count": 8,
   "id": "c6630567",
   "metadata": {},
   "outputs": [
    {
     "name": "stdout",
     "output_type": "stream",
     "text": [
      "M =\r\n",
      "\r\n",
      "          8          2          2         -1          1\r\n",
      "          0      -11/2        7/2      -17/4       -3/4\r\n",
      "          0          0     -39/22          *    -273/22\r\n",
      "          0          0          *      -7/39      49/39\r\n",
      "\r\n"
     ]
    }
   ],
   "source": [
    "M(3,:)  = M(3,:) - (-43/22)/(-7/39)*M(4,:)"
   ]
  },
  {
   "cell_type": "code",
   "execution_count": 9,
   "id": "2178faf7",
   "metadata": {},
   "outputs": [
    {
     "name": "stdout",
     "output_type": "stream",
     "text": [
      "M =\r\n",
      "\r\n",
      "          8          2          2         -1          1\r\n",
      "          0      -11/2        7/2          0      -61/2\r\n",
      "          0          0     -39/22          *    -273/22\r\n",
      "          0          0          *      -7/39      49/39\r\n",
      "\r\n"
     ]
    }
   ],
   "source": [
    "M(2,:)  = M(2,:) - (-17/4)/(-7/39)*M(4,:)"
   ]
  },
  {
   "cell_type": "code",
   "execution_count": 10,
   "id": "f2cb774c",
   "metadata": {},
   "outputs": [
    {
     "name": "stdout",
     "output_type": "stream",
     "text": [
      "M =\r\n",
      "\r\n",
      "          8          2          2          *         -6\r\n",
      "          0      -11/2        7/2          0      -61/2\r\n",
      "          0          0     -39/22          *    -273/22\r\n",
      "          0          0          *      -7/39      49/39\r\n",
      "\r\n"
     ]
    }
   ],
   "source": [
    "M(1,:)  = M(1,:) - (-1)/(-7/39)*M(4,:)"
   ]
  },
  {
   "cell_type": "code",
   "execution_count": 11,
   "id": "f8f06681",
   "metadata": {},
   "outputs": [
    {
     "name": "stdout",
     "output_type": "stream",
     "text": [
      "M =\r\n",
      "\r\n",
      "          8          2          2          *         -6\r\n",
      "          0      -11/2          *          *        -55\r\n",
      "          0          0     -39/22          *    -273/22\r\n",
      "          0          0          *      -7/39      49/39\r\n",
      "\r\n"
     ]
    }
   ],
   "source": [
    "M(2,:)  = M(2,:) - (7/2)/(-39/22)*M(3,:)"
   ]
  },
  {
   "cell_type": "code",
   "execution_count": 12,
   "id": "6189a635",
   "metadata": {},
   "outputs": [
    {
     "name": "stdout",
     "output_type": "stream",
     "text": [
      "M =\r\n",
      "\r\n",
      "          8          2          *          *        -20\r\n",
      "          0      -11/2          *          *        -55\r\n",
      "          0          0     -39/22          *    -273/22\r\n",
      "          0          0          *      -7/39      49/39\r\n",
      "\r\n"
     ]
    }
   ],
   "source": [
    "M(1,:)  = M(1,:) - (2)/(-39/22)*M(3,:)"
   ]
  },
  {
   "cell_type": "code",
   "execution_count": 13,
   "id": "d652b70a",
   "metadata": {},
   "outputs": [
    {
     "name": "stdout",
     "output_type": "stream",
     "text": [
      "M =\r\n",
      "\r\n",
      "          8          0          *          *        -40\r\n",
      "          0      -11/2          *          *        -55\r\n",
      "          0          0     -39/22          *    -273/22\r\n",
      "          0          0          *      -7/39      49/39\r\n",
      "\r\n"
     ]
    }
   ],
   "source": [
    "M(1,:)  = M(1,:) - (2)/(-11/2)*M(2,:)"
   ]
  },
  {
   "cell_type": "code",
   "execution_count": 14,
   "id": "e3b5376d",
   "metadata": {},
   "outputs": [
    {
     "name": "stdout",
     "output_type": "stream",
     "text": [
      "A =\n",
      "\n",
      "          2          3         -1\n",
      "          4         -3          1\n",
      "          3          6         -4\n",
      "\n",
      "b =\n",
      "\n",
      "          5\n",
      "          4\n",
      "        5/2\n",
      "\n",
      "ans =\n",
      "\n",
      "        3/2\n",
      "        5/3\n",
      "          3\n",
      "\n"
     ]
    }
   ],
   "source": [
    "A = [2 3 -1;\n",
    "     4 -3 1;\n",
    "     3 6 -4]\n",
    "     \n",
    "b = [5; 4; 5/2]\n",
    "\n",
    "A\\b"
   ]
  },
  {
   "cell_type": "code",
   "execution_count": 23,
   "id": "549a2f0d",
   "metadata": {},
   "outputs": [
    {
     "name": "stdout",
     "output_type": "stream",
     "text": [
      "M =\n",
      "\n",
      "          4          1          6         21\n",
      "          1          1         -3         -9\n",
      "          2          4         -1         -5\n",
      "\n",
      "M =\n",
      "\n",
      "          4          1          6         21\n",
      "          0        3/4       -9/2      -57/4\n",
      "          2          4         -1         -5\n",
      "\n",
      "M =\n",
      "\n",
      "          4          1          6         21\n",
      "          0        3/4       -9/2      -57/4\n",
      "          0        7/2         -4      -31/2\n",
      "\n",
      "a =\n",
      "\n",
      "          0        3/4       -9/2      -57/4\n",
      "\n",
      "M =\n",
      "\n",
      "          4          1          6         21\n",
      "          0        7/2         -4      -31/2\n",
      "          0        7/2         -4      -31/2\n",
      "\n",
      "M =\n",
      "\n",
      "          4          1          6         21\n",
      "          0        7/2         -4      -31/2\n",
      "          0        3/4       -9/2      -57/4\n",
      "\n",
      "M =\n",
      "\n",
      "          4          1          6         21\n",
      "          0        7/2         -4      -31/2\n",
      "          0          0     -51/14    -153/14\n",
      "\n",
      "M =\n",
      "\n",
      "          4          1          6         21\n",
      "          0        7/2          0       -7/2\n",
      "          0          0     -51/14    -153/14\n",
      "\n",
      "M =\n",
      "\n",
      "          4          1          0          3\n",
      "          0        7/2          0       -7/2\n",
      "          0          0     -51/14    -153/14\n",
      "\n"
     ]
    }
   ],
   "source": [
    "     \n",
    "M(2,:) = M(2,:) - 1/4 * M(1,:)\n",
    "M(3,:) = M(3,:) - 1/2 * M(1,:)\n",
    "a = M(2,:)\n",
    "M(2,:) = M(3,:)\n",
    "M(3,:) = a\n",
    "M(3,:) = M(3,:) - 3/14 * M(2,:)\n",
    "\n",
    "M(2,:) = M(2,:) - 56/51 * M(3,:)\n",
    "\n",
    "M(1,:) = M(1,:) + 84/51 * M(3,:)"
   ]
  },
  {
   "cell_type": "code",
   "execution_count": 24,
   "id": "0cf2796e",
   "metadata": {},
   "outputs": [
    {
     "name": "stdout",
     "output_type": "stream",
     "text": [
      "M =\n",
      "\n",
      "          4          1          6         21\n",
      "          1          1         -3         -9\n",
      "          2          4         -1         -5\n",
      "\n",
      "b =\n",
      "\n",
      "         21\n",
      "         -9\n",
      "         -5\n",
      "\n",
      "A =\n",
      "\n",
      "          4          1          6\n",
      "          1          1         -3\n",
      "          2          4         -1\n",
      "\n"
     ]
    }
   ],
   "source": [
    "M = [4 1 6 21;\n",
    "     1 1 -3 -9;\n",
    "     2 4 -1 -5]\n",
    "     \n",
    "b = M(:,4)\n",
    "A = M(:, [1 2 3])"
   ]
  },
  {
   "cell_type": "code",
   "execution_count": 25,
   "id": "e5c8f981",
   "metadata": {},
   "outputs": [
    {
     "name": "stdout",
     "output_type": "stream",
     "text": [
      "ans =\r\n",
      "\r\n",
      "          1\r\n",
      "         -1\r\n",
      "          3\r\n",
      "\r\n"
     ]
    }
   ],
   "source": [
    "A\\b"
   ]
  },
  {
   "cell_type": "code",
   "execution_count": 46,
   "id": "782289f8",
   "metadata": {},
   "outputs": [
    {
     "name": "stdout",
     "output_type": "stream",
     "text": [
      "A =\n",
      "\n",
      "          2         -4          1\n",
      "          3          1          2\n",
      "          5          3          0\n",
      "\n",
      "ans =\n",
      "\n",
      "          1\n",
      "          2\n",
      "          3\n",
      "\n",
      "A =\n",
      "\n",
      "          2         -4          1\n",
      "          0          7        1/2\n",
      "          5          3          0\n",
      "\n",
      "A =\n",
      "\n",
      "          2         -4          1\n",
      "          0          7        1/2\n",
      "          0         13       -5/2\n",
      "\n",
      "A =\n",
      "\n",
      "          2         -4          1\n",
      "          0          7        1/2\n",
      "          0          0      -24/7\n",
      "\n"
     ]
    }
   ],
   "source": [
    "A = [2 -4 1;\n",
    "     3 1 2;\n",
    "     5 3 0]\n",
    "\n",
    "A\\b\n",
    "     \n",
    "A(2,:) = A(2,:) - 3/2*A(1,:)\n",
    "\n",
    "A(3,:) = A(3,:) - 5/2*A(1,:)\n",
    "\n",
    "A(3,:) = A(3,:) - (13/7)*A(2,:)"
   ]
  },
  {
   "cell_type": "code",
   "execution_count": 33,
   "id": "8b81d5e3",
   "metadata": {},
   "outputs": [
    {
     "name": "stdout",
     "output_type": "stream",
     "text": [
      "L =\r\n",
      "\r\n",
      "          1          0          0\r\n",
      "        3/2          1          0\r\n",
      "        5/2       13/7          1\r\n",
      "\r\n"
     ]
    }
   ],
   "source": [
    "L = [1 0 0;\n",
    "     3/2 1 0;\n",
    "     5/2 13/7 1]"
   ]
  },
  {
   "cell_type": "code",
   "execution_count": 34,
   "id": "a0dc52e1",
   "metadata": {},
   "outputs": [
    {
     "name": "stdout",
     "output_type": "stream",
     "text": [
      "ans =\r\n",
      "\r\n",
      "          2         -4          1\r\n",
      "          3          1          2\r\n",
      "          5          3          0\r\n",
      "\r\n"
     ]
    }
   ],
   "source": [
    "L*A"
   ]
  },
  {
   "cell_type": "code",
   "execution_count": 37,
   "id": "f6e471c6",
   "metadata": {},
   "outputs": [
    {
     "name": "stdout",
     "output_type": "stream",
     "text": [
      "ans = -48\r\n"
     ]
    }
   ],
   "source": [
    "det(A)"
   ]
  },
  {
   "cell_type": "code",
   "execution_count": 40,
   "id": "9d1cb95c",
   "metadata": {},
   "outputs": [
    {
     "name": "stdout",
     "output_type": "stream",
     "text": [
      "g =\r\n",
      "\r\n",
      "         -3\r\n",
      "       31/2\r\n",
      "      -72/7\r\n",
      "\r\n"
     ]
    }
   ],
   "source": [
    "b = [-3;11;11];\n",
    "\n",
    "g=L\\b"
   ]
  },
  {
   "cell_type": "code",
   "execution_count": 45,
   "id": "83529b49",
   "metadata": {},
   "outputs": [
    {
     "name": "stdout",
     "output_type": "stream",
     "text": [
      "A =\r\n",
      "\r\n",
      "          2         -4          1\r\n",
      "          0          7        1/2\r\n",
      "          0          0      -24/7\r\n",
      "\r\n"
     ]
    }
   ],
   "source": [
    "A\\b"
   ]
  },
  {
   "cell_type": "code",
   "execution_count": 48,
   "id": "a32cac11",
   "metadata": {},
   "outputs": [
    {
     "name": "stdout",
     "output_type": "stream",
     "text": [
      "N =\n",
      "\n",
      "          2         -4          1         -3\n",
      "          0          7        1/2       31/2\n",
      "          0          0      -24/7      -72/7\n",
      "\n",
      "N =\n",
      "\n",
      "          2         -4          1         -3\n",
      "          0          7          0         14\n",
      "          0          0      -24/7      -72/7\n",
      "\n"
     ]
    }
   ],
   "source": [
    "N = [A,g]\n",
    "\n",
    "N(2,:) = N(2,:) - N(2,3)/N(3,3)*N(3,:)"
   ]
  },
  {
   "cell_type": "code",
   "execution_count": 55,
   "id": "1e22893b",
   "metadata": {},
   "outputs": [
    {
     "name": "stdout",
     "output_type": "stream",
     "text": [
      "U =\n",
      "\n",
      "          4         -2          1\n",
      "          0          5        5/2\n",
      "          0          0        5/2\n",
      "\n",
      "L =\n",
      "\n",
      "          1          0          0\n",
      "       -1/2          1          0\n",
      "          0        3/5          1\n",
      "\n",
      "b =\n",
      "\n",
      "         -1\n",
      "         -2\n",
      "         -9\n",
      "\n",
      "g =\n",
      "\n",
      "         -1\n",
      "       -5/2\n",
      "      -15/2\n",
      "\n",
      "ans =\n",
      "\n",
      "          1\n",
      "          1\n",
      "         -3\n",
      "\n"
     ]
    }
   ],
   "source": [
    "U = [4 -2 1;\n",
    "     0 5 5/2;\n",
    "     0 0 5/2]\n",
    "     \n",
    "L = [1 0 0;\n",
    "     -1/2 1 0;\n",
    "     0 3/5 1]\n",
    "\n",
    "b = [-1; -2; -9]\n",
    "\n",
    "g = L\\b\n",
    "\n",
    "U\\g"
   ]
  },
  {
   "cell_type": "code",
   "execution_count": null,
   "id": "8eae5b85",
   "metadata": {},
   "outputs": [],
   "source": []
  }
 ],
 "metadata": {
  "kernelspec": {
   "display_name": "Octave",
   "language": "octave",
   "name": "octave"
  },
  "language_info": {
   "file_extension": ".m",
   "help_links": [
    {
     "text": "GNU Octave",
     "url": "https://www.gnu.org/software/octave/support.html"
    },
    {
     "text": "Octave Kernel",
     "url": "https://github.com/Calysto/octave_kernel"
    },
    {
     "text": "MetaKernel Magics",
     "url": "https://metakernel.readthedocs.io/en/latest/source/README.html"
    }
   ],
   "mimetype": "text/x-octave",
   "name": "octave",
   "version": "6.4.0"
  }
 },
 "nbformat": 4,
 "nbformat_minor": 5
}
