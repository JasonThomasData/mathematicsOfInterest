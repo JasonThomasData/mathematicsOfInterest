{
 "cells": [
  {
   "cell_type": "markdown",
   "id": "a64d7983",
   "metadata": {},
   "source": [
    "### Finding minima and maxima for functions of 2 variables\n",
    "\n",
    "Where you have a surface that appears to have hills and valleys, you can find minima and maxima. These are where the tangent plane to the function is equal to the x-y-plane.\n",
    "\n",
    "To determine a point of inflection on a surface, note that:\n",
    "\n",
    "$ z = f(x,y) $\n",
    "\n",
    "$ \\frac{\\partial z}{\\partial x}_{(a,b)} = \\frac{\\partial z}{\\partial y}_{(a,b)} = 0 $\n",
    "\n",
    "At the points where that condition is met then you can find the vector normal for the tangent plane and then find whether the vector normal is paralell or negative to the z-axis. See the notebook on finding [tangent plane to a surface](http://localhost:8888/notebooks/vectorCalculus/Tangent%20plane%20to%20a%20surface.ipynb)\n",
    "\n",
    "#### Example of a 2-variable function, find turning points\n",
    "\n",
    "$ z = x^2 + 2xy + y^3 $\n",
    "\n",
    "Find both partial derivatives:\n",
    "\n",
    "$ \\frac{\\partial z}{\\partial x} = 2x + 2y  $\n",
    "\n",
    "$ \\frac{\\partial z}{\\partial y} = 2x + 3y^2  $\n",
    "\n",
    "$ \\frac{dz}{dt} = \\frac{\\partial z}{\\partial x} + \\frac{\\partial z}{\\partial y} $\n",
    "\n",
    "These are not linear so we can't solve them with Gaussian Elimination. We can solve them simultaneously.\n",
    "\n",
    "$ \\frac{\\partial z}{\\partial y} - \\frac{\\partial z}{\\partial x} = 3y^2 - 2y $"
   ]
  },
  {
   "cell_type": "code",
   "execution_count": 1,
   "id": "a2abc7ba",
   "metadata": {},
   "outputs": [
    {
     "name": "stdout",
     "output_type": "stream",
     "text": [
      "ans =\r\n",
      "\r\n",
      "        2/3\r\n",
      "          0\r\n",
      "\r\n"
     ]
    }
   ],
   "source": [
    "format rat\n",
    "roots([3, -2, 0])"
   ]
  },
  {
   "cell_type": "markdown",
   "id": "b0d5ffb2",
   "metadata": {},
   "source": [
    "Then we need to find the values of $ x $ at these points y. \n",
    "\n",
    "$ 2x + 2\\frac{2}{3} = 0 $\n",
    "\n",
    "$ 2x = -2\\frac{2}{3} $\n",
    "\n",
    "$ \\therefore x = -\\frac{2}{3} $\n",
    "\n",
    "$ 2x + 2(0) = 0 $\n",
    "\n",
    "$ \\therefore x = 0 $\n",
    "\n",
    "So, the points are $ (0,0) $ and $ (-2/3, 2/3) $\n",
    "\n",
    "Those are the points of inflection, but are they minima or maxima?\n",
    "\n",
    "If you move along the x-y-plane in a straight line, that passes through the identified point of inflection (above) then you will have a single variable function.\n",
    "\n",
    "![curve along surface intersecting point of inflection](surfaceFindingMaximaMinima.png)"
   ]
  },
  {
   "cell_type": "markdown",
   "id": "4a8245b8",
   "metadata": {},
   "source": [
    "#### Classify turning points\n",
    "\n",
    "TODO - I have not understood the theory so will write down what I know but I think this deserves attention when I can afford time.\n",
    "\n",
    "For each point $(a, b) $, you can create a matrix called a hessian.\n",
    "\n",
    "$ H = \\left[ \\begin{matrix} f_{xx}(a,b) & f_{xy}(a,b) \\\\ f_{yx}(a,b) & f_{yy}(a,b) \\end{matrix} \\right] $\n",
    "\n",
    "$ f_{xx} $ and $ f_{yy} $ are second order partial derivatives.\n",
    "\n",
    "$ f_{xy} $ and $ f_{yx} $ are mixed partial derivatives. Since mixed partial derivatives are always equal then this matrix is symmetric. That means the transpose of the matrix is itself.\n",
    "\n",
    "Recall that above the curve along the surface is defined with parameters $ h, k $. Then the vector:\n",
    "\n",
    "$ \\vec{u} = \\left[ \\begin{matrix} h \\\\ k \\end{matrix} \\right] $\n",
    "\n",
    "is a vector of Eigen values, but not an Eigen Vector.\n",
    "\n",
    "$ \\vec{u}^{T} = (h, k) $\n",
    "\n",
    "is its transpose.\n",
    "\n",
    "Find the vector of Eigen values for this matrix, then:\n",
    "\n",
    "$ (h, k) \\left[ \\begin{matrix} f_{xx}(a,b) & f_{xy}(a,b) \\\\ f_{yx}(a,b) & f_{yy}(a,b) \\end{matrix} \\right] \\left[ \\begin{matrix} h \\\\ k \\end{matrix} \\right] $\n",
    "\n",
    "#### Min, max decision criteria\n",
    "\n",
    "The following condition means the point is a _minimum_:\n",
    "\n",
    "$ \\vec{u}^{T} H \\vec{u} $ where $ h, k $ are both positive\n",
    "\n",
    "The following condition means the point is a maximum:\n",
    "\n",
    "$ \\vec{u}^{T} H \\vec{u} $ where $ h, k $ are both negative\n",
    "\n",
    "The following condition means the point is a saddle point:\n",
    "\n",
    "$ \\vec{u}^{T} H \\vec{u} $ where one of $ h, k $ is positive and one is negative"
   ]
  },
  {
   "cell_type": "markdown",
   "id": "a4ff4202",
   "metadata": {},
   "source": [
    "### Example\n",
    "\n",
    "$ f(x,y) = 4x + 6y -x^2 -y^2 $\n",
    "\n",
    "$ \\frac{\\partial f}{\\partial x} = 4 - 2x $\n",
    "\n",
    "$ \\frac{\\partial f}{\\partial y} = 6 - 2y $\n",
    "\n",
    "Solve for $ x $:\n",
    "\n",
    "$ 4 - 2x = 0 $\n",
    "\n",
    "$ x \\frac{-4}{-2} = 2 $\n",
    "\n",
    "Solve for $ y $:\n",
    "\n",
    "$ 6 - 2y = 0 $\n",
    "\n",
    "$ y \\frac{-6}{-2} = 3 $\n",
    "\n",
    "$ (x, y) = (2, 3) $\n",
    "\n",
    "So what is the classification for this point?\n",
    "\n",
    "Let's find second order partials:\n",
    "\n",
    "$ \\frac{\\partial^2 f}{\\partial x^2} = -2 $\n",
    "\n",
    "$ \\frac{\\partial^2 f}{\\partial y^2} = -2 $\n",
    "\n",
    "$ \\frac{\\partial^2 f}{\\partial y \\partial x} = 0 $\n",
    "\n",
    "$ \\frac{\\partial^2 f}{\\partial x \\partial y} = 0 $\n",
    "\n",
    "$ H = \\left[ \\begin{matrix} f_{xx} & f_{yx} \\\\ f_{xy} & f_{yy} \\end{matrix} \\right] $\n",
    "\n",
    "$ H = \\left[ \\begin{matrix} -2 & 0 \\\\ 0 & -2 \\end{matrix} \\right] $\n",
    "\n",
    "Let:\n",
    "\n",
    "$ \\lambda $ be an eigen value\n",
    "\n",
    "$ \\vec{v} $ be the vector of eigen values\n",
    "\n",
    "$ H\\vec{v} = \\lambda \\vec{v} $\n",
    "\n",
    "$ (H - \\lambda I) \\vec{v} = \\vec{0} $\n",
    "\n",
    "The characteristic equation is:\n",
    "\n",
    "$ \\det \\left(H - \\lambda I \\right) = 0 $"
   ]
  },
  {
   "cell_type": "markdown",
   "id": "7fba146a",
   "metadata": {},
   "source": [
    "$ H - \\lambda I = \\left[ \\begin{matrix} -2 - \\lambda & 0 \\\\ 0 & -2 - \\lambda \\end{matrix} \\right] $"
   ]
  },
  {
   "cell_type": "markdown",
   "id": "60f5e765",
   "metadata": {},
   "source": [
    "$ \\det \\left(H - \\lambda I \\right) = (-2-\\lambda)^2 - 0^2 = (-\\lambda - 2)^2$\n",
    "\n",
    "Then the identical and real roots of the polynomial are $ \\lambda = -2 $ \n",
    "\n",
    "These are both negative, so then that means the point of inflection is a local maximum."
   ]
  },
  {
   "cell_type": "code",
   "execution_count": null,
   "id": "ce3d5f25",
   "metadata": {},
   "outputs": [],
   "source": []
  }
 ],
 "metadata": {
  "kernelspec": {
   "display_name": "Octave",
   "language": "octave",
   "name": "octave"
  },
  "language_info": {
   "file_extension": ".m",
   "help_links": [
    {
     "text": "GNU Octave",
     "url": "https://www.gnu.org/software/octave/support.html"
    },
    {
     "text": "Octave Kernel",
     "url": "https://github.com/Calysto/octave_kernel"
    },
    {
     "text": "MetaKernel Magics",
     "url": "https://metakernel.readthedocs.io/en/latest/source/README.html"
    }
   ],
   "mimetype": "text/x-octave",
   "name": "octave",
   "version": "6.4.0"
  }
 },
 "nbformat": 4,
 "nbformat_minor": 5
}
