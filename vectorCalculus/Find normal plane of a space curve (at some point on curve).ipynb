{
 "cells": [
  {
   "cell_type": "markdown",
   "id": "08f91d28",
   "metadata": {},
   "source": [
    "### Find a normal plane (to a space curve)\n",
    "\n",
    "Given some curve and some point on the curve, the normal plane is such that its vector normal is equal to the velocity of the curve at that point.\n",
    "\n",
    "We can use the curve to find its velocity at some point:\n",
    "\n",
    "$ \\vec{r(t)} = (2t + 1)i - 3t^2j + (4t^2 + 3)k $\n",
    "\n",
    "$ t = -1 $\n",
    "\n",
    "Then the position vector is:\n",
    "\n",
    "$ P_1 = \\vec{r(1)} = -i - 3j + 7k = (-1, -3, 7) $\n",
    "\n",
    "We know that the velocity is the first derivative of space curve function.\n",
    "\n",
    "$ \\vec{v(t)} = \\frac{d\\vec{r(t)}}{dt} = 2i - 6tj + 8tk $\n",
    "\n",
    "At the point $ t = -1 $:\n",
    "\n",
    "$ \\vec{v(t)} = \\frac{d\\vec{r(t)}}{dt} = 2i + 6j - 8k $\n",
    "\n",
    "Then the normal vector is:\n",
    "\n",
    "$ \\vec{n} = \\vec{v(1)} = (-1,-3,7) + t(2,6,-8) $\n",
    "\n",
    "We can use the vector normal to define the plane:\n",
    "\n",
    "$ \\vec{P_1P_a} \\cdot \\vec{n} = 0 $\n",
    "\n",
    "Next we need an aribitrary point on the plane:\n",
    "\n",
    "$ P_a = (x,y,z) $\n",
    "\n",
    "$ \\vec{P_1P_a} = P_a - P_1 = (x+1)i + (y+3)j + (z-7)k $\n",
    "\n",
    "The plane $ \\pi $:\n",
    "\n",
    "$ \\vec{P_1P_a} \\cdot \\vec{n} = 0 $\n",
    "\n",
    "$ (x+1, y+3, z-7) \\cdot (2, 6, -8) = 0 $\n",
    "\n",
    "$ ((x+1)2, (y+3)6, -(z-7)8) = 0 $\n",
    "\n",
    "$ (2x+2, 6y+18, -8z+56) = 0 $\n",
    "\n",
    "$ (2x, 6y, -8z) = -76 $\n",
    "\n",
    "The plane is:\n",
    "\n",
    "$ 2xi + 6yj - 8zk = -76 $\n"
   ]
  },
  {
   "cell_type": "code",
   "execution_count": null,
   "id": "e24d5276",
   "metadata": {},
   "outputs": [],
   "source": []
  }
 ],
 "metadata": {
  "kernelspec": {
   "display_name": "Octave",
   "language": "octave",
   "name": "octave"
  },
  "language_info": {
   "file_extension": ".m",
   "help_links": [
    {
     "text": "GNU Octave",
     "url": "https://www.gnu.org/software/octave/support.html"
    },
    {
     "text": "Octave Kernel",
     "url": "https://github.com/Calysto/octave_kernel"
    },
    {
     "text": "MetaKernel Magics",
     "url": "https://metakernel.readthedocs.io/en/latest/source/README.html"
    }
   ],
   "mimetype": "text/x-octave",
   "name": "octave",
   "version": "5.2.0"
  }
 },
 "nbformat": 4,
 "nbformat_minor": 5
}
