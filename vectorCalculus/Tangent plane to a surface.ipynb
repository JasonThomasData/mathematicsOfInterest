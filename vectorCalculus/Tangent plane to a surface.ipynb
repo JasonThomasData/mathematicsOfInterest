{
 "cells": [
  {
   "cell_type": "markdown",
   "id": "f124f5cd",
   "metadata": {},
   "source": [
    "### Finding a tangent plane to a surface\n",
    "\n",
    "Here we will find a vector normal for a plane, where the plane is tangent to the surface.\n",
    "\n",
    "Basically, you find the normal vector to a surface and that is also the normal vector of a plane that is tangent.\n",
    "\n",
    "Given a surface in 3 dimensions:\n",
    "\n",
    "$ z = f(x,y) $\n",
    "\n",
    "We can create an implicit representation:\n",
    "\n",
    "$ S = z - x - y = 0 $\n",
    "\n",
    "Or:\n",
    "\n",
    "$ S = x + y - z = 0 $\n",
    "\n",
    "#### Example of implicit representation of surface\n",
    "\n",
    "$ z = \\sqrt{x^2 + y^2} $\n",
    "\n",
    "$ z^2 = x^2 + y^2 $\n",
    "\n",
    "$ S = x^2 + y^2 - z^2 = 0 $\n",
    "\n",
    "#### Normal vector to a surface\n",
    "\n",
    "Suppose there's a point:\n",
    "\n",
    "$ P = (x_0, y_0, z_0) $\n",
    "\n",
    "And also a space curve, $ C $, that passes through the point.\n",
    "\n",
    "The curve is defined by the vector:\n",
    "\n",
    "$ \\vec{r}(t) = x(t) i + y(t) j + z(t) k $\n",
    "\n",
    "And the curve passes the point at $ t = t_0 $\n",
    "\n",
    "We know that since $ P $ and $ C $ are on the surface, then:\n",
    "\n",
    "$ S = x(t_0) + y(t_0) - z(t_0) = 0 $\n",
    "\n",
    "And that means the implicit representation is satisfied.\n",
    "\n",
    "For all $ t $:\n",
    "\n",
    "$ S = x(t) + y(t) - z(t) = 0 $\n",
    "\n",
    "$ \\frac{d}{dt}(0) = 0 $\n",
    "\n",
    "So:\n",
    "\n",
    "$ \\frac{dS}{dt} = 0 $\n",
    "\n",
    "But what is the derivative in terms of the chain rule?\n",
    "\n",
    "$ \\frac{dS}{dt} = \\frac{\\partial S}{\\partial x} \\frac{dx}{dt} i + \\frac{\\partial S}{ \\partial y} \\frac{dy}{dt} j + \\frac{\\partial S}{ \\partial z} \\frac{dz}{dt} k = 0$\n",
    "\n",
    "And we know from finding [directional derivatives](http://localhost:8888/notebooks/vectorCalculus/Directional%20derivatives%2C%20gradient%20and%20angle%20(cosine%20rule).ipynb) that this is:\n",
    "\n",
    "$ \\nabla S_{(a,b)} \\cdot \\left( \\frac{dx}{dt} i + \\frac{dy}{dt} j + \\frac{dz}{dt} k \\right) = 0 $\n",
    "\n",
    "And we know that the derivative of the curve is:\n",
    "\n",
    "$ \\frac{d\\vec{r}}{dt} = \\frac{dx}{dt} i + \\frac{dy}{dt} j + \\frac{dz}{dt} k $\n",
    "\n",
    "And it will be a tangent to the curve. That means it's tangent to the surface.\n",
    "\n",
    "When the dot product of two vectors $ = 0 $ then they are perpendicular. Then that means the gradient of the surface is perpendicular to $\\vec{r}$. The space curve on the surface was generic and so it must also be true for all curves on the surface. That means the gradient (its vector normal) must be perpendicular to the surface at $ P $.\n"
   ]
  },
  {
   "cell_type": "code",
   "execution_count": null,
   "id": "d9843b59",
   "metadata": {},
   "outputs": [],
   "source": []
  }
 ],
 "metadata": {
  "kernelspec": {
   "display_name": "Octave",
   "language": "octave",
   "name": "octave"
  },
  "language_info": {
   "file_extension": ".m",
   "help_links": [
    {
     "text": "GNU Octave",
     "url": "https://www.gnu.org/software/octave/support.html"
    },
    {
     "text": "Octave Kernel",
     "url": "https://github.com/Calysto/octave_kernel"
    },
    {
     "text": "MetaKernel Magics",
     "url": "https://metakernel.readthedocs.io/en/latest/source/README.html"
    }
   ],
   "mimetype": "text/x-octave",
   "name": "octave",
   "version": "6.4.0"
  }
 },
 "nbformat": 4,
 "nbformat_minor": 5
}
