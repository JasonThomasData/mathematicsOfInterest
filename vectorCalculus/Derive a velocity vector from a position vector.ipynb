{
 "cells": [
  {
   "cell_type": "markdown",
   "id": "2f9ec231",
   "metadata": {},
   "source": [
    "### Derive a speed, velocity and acceleration from a position vector\n",
    "\n",
    "This takes a mathematical physics slant.\n",
    "\n",
    "Consider a 3d space. Motion of a particle through this space can be modelled as a point with coordinates on three axes. If it changes with time, then the position vector is also a function of time.\n",
    "\n",
    "The vector notation below includes $ i,j,k $ as the components of the vector.\n",
    "\n",
    "Then a position vector might look like:\n",
    "\n",
    "$ z = t $\n",
    "\n",
    "$ \\vec{R} = x(t)i + y(t)j + zk $\n",
    "\n",
    "Then you would need to define some functions for the behaviour of $ x, y $. $ z $ is also a function but it is the identity function $ f(x) = x = y $ or $ z = f(t) = t $.\n",
    "\n",
    "Then, the derivative of the vector is a combination of derivatives for each function.\n",
    "\n",
    "Since we're talking about a position vector, then the derivative is the velocity vector.\n",
    "\n",
    "That means velocity is:\n",
    "\n",
    "$ \\vec{V} = \\frac{d\\vec{R}}{dt} = \\frac{dx}{dt} i + \\frac{dy}{dt} j + \\frac{dz}{dt} k $\n",
    "\n",
    "Speed is the magnitude or length of $\\vec{V}$:\n",
    "\n",
    "$ |\\vec{V}| = \\sqrt{\\left(\\frac{dx}{dt}\\right)^2 + \\left(\\frac{dy}{dt}\\right)^2 + \\left(\\frac{dz}{dt}\\right)^2} $\n",
    "\n",
    "Acceleration is the second derivative:\n",
    "\n",
    "$ \\vec{A} = \\frac{d\\vec{V}}{dt} = \\frac{d^2x}{dt^2} i + \\frac{d^2y}{dt^2} j + \\frac{d^2z}{dt^2} k $\n",
    "\n",
    "The benefit of talking about a vector's components is becoming clearer."
   ]
  },
  {
   "cell_type": "markdown",
   "id": "12d7225e",
   "metadata": {},
   "source": [
    "#### Example\n",
    "\n",
    "Consider the vector equation:\n",
    "\n",
    "$ \\vec{R} = (2\\cos(t)i, 5\\sin(t)j, tk) $\n",
    "\n",
    "Then we can define the parametric equation:\n",
    "\n",
    "$ x = 2\\cos(t) $\n",
    "\n",
    "$ y = 5\\sin(t) $\n",
    "\n",
    "$ z = t $\n",
    "\n",
    "We have dropped the vector components $ i,j,k $ since those are not being differentiated.\n",
    "\n",
    "Let's first plot this.\n",
    "\n",
    "To do so we will need to make this a function."
   ]
  },
  {
   "cell_type": "code",
   "execution_count": 18,
   "id": "824f0909",
   "metadata": {},
   "outputs": [
    {
     "data": {
      "image/png": "[encoded data removed]",
      "text/plain": [
       "<IPython.core.display.Image object>"
      ]
     },
     "metadata": {},
     "output_type": "display_data"
    }
   ],
   "source": [
    "t = linspace(1,20,100);\n",
    "x = 2*cos(t);\n",
    "y = 5*sin(t);\n",
    "z = t;\n",
    "plot3(x,y,z);"
   ]
  },
  {
   "cell_type": "markdown",
   "id": "31f9045f",
   "metadata": {},
   "source": [
    "Then finally we can define velocity, with first derivatives:\n",
    "\n",
    "$ \\vec{V} = (-2\\sin(t)i, 5\\cos(t)j, k) $\n",
    "\n",
    "Speed as the length/magnitude of that vector. Let's drop $i,j,k$ for now:\n",
    "$ |\\vec{V}| = \\sqrt{-4\\sin(t)^2 + 25\\cos^2(t) + 1} $\n",
    "\n",
    "$ |\\vec{V}| = \\sqrt{(-2\\sin(t))^2 + (5\\cos(t))^2 + 1^2} $\n",
    "\n",
    "$ |\\vec{V}| = \\sqrt{-4\\sin^2(t) + 25\\cos^2(t) + 1} $\n",
    "\n",
    "Remember the identity: $ \\sin^2(x) + \\cos^2(x) = 1 $\n",
    "\n",
    "$ |\\vec{V}| = \\sqrt{-4\\sin^2(t) + 25\\cos^2(t) + 1} $\n",
    "\n",
    "Acceleration with the third derivatives:\n",
    "\n",
    "$ \\vec{A} = (-2\\cos(t)i, -5\\sin(t)j, 0k) $\n",
    "\n",
    "Note the speed going up is constant and therefore there's no upward acceleration. The acceleration in this case is centripetal."
   ]
  },
  {
   "cell_type": "code",
   "execution_count": null,
   "id": "d956446e",
   "metadata": {},
   "outputs": [],
   "source": []
  }
 ],
 "metadata": {
  "kernelspec": {
   "display_name": "Octave",
   "language": "octave",
   "name": "octave"
  },
  "language_info": {
   "file_extension": ".m",
   "help_links": [
    {
     "text": "GNU Octave",
     "url": "https://www.gnu.org/software/octave/support.html"
    },
    {
     "text": "Octave Kernel",
     "url": "https://github.com/Calysto/octave_kernel"
    },
    {
     "text": "MetaKernel Magics",
     "url": "https://metakernel.readthedocs.io/en/latest/source/README.html"
    }
   ],
   "mimetype": "text/x-octave",
   "name": "octave",
   "version": "5.2.0"
  }
 },
 "nbformat": 4,
 "nbformat_minor": 5
}
