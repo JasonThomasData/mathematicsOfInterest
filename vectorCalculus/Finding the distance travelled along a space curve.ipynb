{
 "cells": [
  {
   "cell_type": "markdown",
   "id": "c3017c04",
   "metadata": {},
   "source": [
    "### Finding the distance travelled along a space curve\n",
    "\n",
    "Consider some curve in 3d space, but I think this could also work for 2d space.\n",
    "\n",
    "![pic of curve](lengthOfDistanceTravelled.png)\n"
   ]
  },
  {
   "cell_type": "markdown",
   "id": "df57f08e",
   "metadata": {},
   "source": [
    "Let:\n",
    "\n",
    "$ O $ be the origin\n",
    "\n",
    "$ \\vec{r} $ be the position vector.\n",
    "\n",
    "$ t $ be some point in time\n",
    "\n",
    "$ \\Delta t $ be some point in time after $ t $\n",
    "\n",
    "$ S $ be the total distance travelled along the space curve\n",
    "\n",
    "Then:\n",
    "\n",
    "$ \\Delta \\vec{r}(t) = \\vec{r}(t + \\Delta t) - \\vec{r}(t) $ \n",
    "\n",
    "We can eyeball this and see:\n",
    "\n",
    "$ \\Delta S \\approx |\\Delta \\vec{r}(t)|$\n",
    "\n",
    "That is, the length of the vector of the difference of $ \\vec{r}(t) $\n",
    "\n",
    "Then we can arrange this to be a differential equation:\n",
    "\n",
    "$ \\frac{\\Delta S}{\\Delta t} \\approx \\left| \\frac{\\Delta \\vec{r}(t)}{\\Delta t} \\right|$\n",
    "\n",
    "I don't yet know why the denominator goes inside the pipes.\n",
    "\n",
    "Let's recognise that:\n",
    "\n",
    "$ \\lim \\limits_{t \\to 0} \\frac{\\Delta S}{\\Delta t} = \\frac{dS}{dt} $\n",
    "\n",
    "In other words, the limit of the LHS here is is the derivative of $ S $ in terms of $ t $\n",
    "\n",
    "$ \\frac{dS}{dt} = \\lim \\limits_{t \\to 0} \\left| \\frac{\\Delta \\vec{r}(t)}{\\Delta t} \\right| = \\left| \\frac{d \\vec{r}(t)}{dt} \\right|$\n",
    "\n",
    "The final term is just velocity (see relevant notebook):\n",
    "\n",
    "$ \\vec{v} = \\frac{d \\vec{r}(t)}{dt} $\n",
    "\n",
    "Then the derivative of distance travelled, $ \\frac{dS}{dt} $ is equal to the velocity's magnitude:\n",
    "\n",
    "$ \\vec{v} = \\frac{dS}{dt} $\n",
    "\n",
    "If we integrate between the bounds of $ 0, t $:\n",
    "\n",
    "$ \\int_0^t \\frac{dS}{dt} dt $\n",
    "\n",
    "This can be interpreted as:\n",
    "\n",
    "$ \\int_0^t \\left|\\frac{d \\vec{r}(t)}{dt}\\right| dt $\n",
    "\n",
    "Read as \"the distance travelled is equal to the magnitude of the velocity vector\""
   ]
  },
  {
   "cell_type": "code",
   "execution_count": null,
   "id": "1b5e3d69",
   "metadata": {},
   "outputs": [],
   "source": []
  }
 ],
 "metadata": {
  "kernelspec": {
   "display_name": "Octave",
   "language": "octave",
   "name": "octave"
  },
  "language_info": {
   "file_extension": ".m",
   "help_links": [
    {
     "text": "GNU Octave",
     "url": "https://www.gnu.org/software/octave/support.html"
    },
    {
     "text": "Octave Kernel",
     "url": "https://github.com/Calysto/octave_kernel"
    },
    {
     "text": "MetaKernel Magics",
     "url": "https://metakernel.readthedocs.io/en/latest/source/README.html"
    }
   ],
   "mimetype": "text/x-octave",
   "name": "octave",
   "version": "5.2.0"
  }
 },
 "nbformat": 4,
 "nbformat_minor": 5
}
