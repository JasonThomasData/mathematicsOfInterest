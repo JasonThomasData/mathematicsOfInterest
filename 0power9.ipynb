{
 "cells": [
  {
   "cell_type": "markdown",
   "id": "828f36b5-c9c3-484b-b069-276b31b8d1cc",
   "metadata": {},
   "source": [
    "### $ 0^0 $"
   ]
  },
  {
   "cell_type": "code",
   "execution_count": 24,
   "id": "4af74f77-cf26-4afa-85a5-36eab64d1dc8",
   "metadata": {},
   "outputs": [],
   "source": [
    "stepSize = 10^(-3);\n",
    "startAt = 1;\n",
    "stopBefore = 0;\n",
    "x = [startAt];\n",
    "y = [zeroPowerZero(startAt)];\n",
    "steps = round((startAt - stopBefore)/stepSize);\n",
    "\n",
    "function y = zeroPowerZero(x)\n",
    "    y = x^x;\n",
    "end\n",
    "\n",
    "function x = increment(x, stepSize)\n",
    "    n = length(x);\n",
    "    x = [x, x(n)-stepSize];\n",
    "end\n",
    "\n",
    "for _ = 1:steps\n",
    "    y = [y, zeroPowerZero(current)];\n",
    "    x = increment(x, stepSize);\n",
    "end"
   ]
  },
  {
   "cell_type": "code",
   "execution_count": 33,
   "id": "effb2afc-de11-4a54-88c8-cb0195c0ffde",
   "metadata": {},
   "outputs": [
    {
     "name": "stdout",
     "output_type": "stream",
     "text": [
      "error: feval: function '__init_qt__' not found\n",
      "error: called from\n",
      "    graphics_toolkit at line 98 column 5\n",
      "    figure at line 96 column 7\n",
      "    newplot at line 124 column 10\n",
      "    plot at line 228 column 9\n"
     ]
    }
   ],
   "source": [
    "register_graphics_toolkit(\"qt\")\n",
    "plot(x,y)"
   ]
  },
  {
   "cell_type": "code",
   "execution_count": 34,
   "id": "70108bd9-1d7e-4034-952d-a60341c45903",
   "metadata": {},
   "outputs": [
    {
     "name": "stdout",
     "output_type": "stream",
     "text": [
      "ans =\n",
      "{\n",
      "  [1,1] = fltk\n",
      "  [1,2] = gnuplot\n",
      "}\n",
      "\n"
     ]
    }
   ],
   "source": [
    "loaded_graphics_toolkits ()"
   ]
  },
  {
   "cell_type": "code",
   "execution_count": null,
   "id": "0da78827-6465-47dd-b926-d5151e300a1c",
   "metadata": {},
   "outputs": [],
   "source": []
  },
  {
   "cell_type": "code",
   "execution_count": null,
   "id": "ce08c9a2-3ba3-434d-9496-0085563c5cc8",
   "metadata": {},
   "outputs": [],
   "source": []
  }
 ],
 "metadata": {
  "kernelspec": {
   "display_name": "Octave",
   "language": "octave",
   "name": "octave"
  },
  "language_info": {
   "file_extension": ".m",
   "help_links": [
    {
     "text": "GNU Octave",
     "url": "https://www.gnu.org/software/octave/support.html"
    },
    {
     "text": "Octave Kernel",
     "url": "https://github.com/Calysto/octave_kernel"
    },
    {
     "text": "MetaKernel Magics",
     "url": "https://metakernel.readthedocs.io/en/latest/source/README.html"
    }
   ],
   "mimetype": "text/x-octave",
   "name": "octave",
   "version": "6.4.0"
  }
 },
 "nbformat": 4,
 "nbformat_minor": 5
}
