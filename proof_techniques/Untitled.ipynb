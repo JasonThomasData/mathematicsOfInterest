{
 "cells": [
  {
   "cell_type": "markdown",
   "id": "ae795f4a",
   "metadata": {},
   "source": [
    "### Logic concepts\n",
    "\n",
    "Formal logic uses this notation:\n",
    "\n",
    "$ \\wedge $, and\n",
    "\n",
    "$ \\vee $, or\n",
    "\n",
    "$ \\sim, \\neg$, not\n",
    "\n",
    "$ \\to, \\rightarrow$, implies (a contrapositive)\n",
    "\n",
    "$ \\Longleftrightarrow$, equivelent\n",
    "\n",
    "$ \\begin{matrix}\n",
    "P & Q & \\sim P & \\sim Q & (P\\wedge Q) & (P\\vee Q) & (P\\Longleftrightarrow Q) & (P\\rightarrow Q)\\\\\n",
    "T & T & F & F & T & T & T & T\\\\\n",
    "T & F & F & T & F & T & F & F\\\\\n",
    "F & T & T & F & F & T & F & T\\\\\n",
    "F & F & T & T & F & F & T & T\n",
    "\\end{matrix} $\n",
    "\n",
    "#### Contradiction, contingency, tautology\n",
    "\n",
    "When a statement is always false, it is a contradiction\n",
    "\n",
    "$ P \\wedge Q \\to P \\vee \\sim Q $\n",
    "\n",
    "$ \\begin{matrix}\n",
    "P & Q & \\sim P & \\sim Q & (P\\wedge Q) & (P\\vee \\sim Q) \\\\\n",
    "T & T & F & F & T & T & \\\\\n",
    "T & F & F & T & F & T & \\\\\n",
    "F & T & T & F & F & T & \\\\\n",
    "F & F & T & T & F & F &\n",
    "\\end{matrix} $\n"
   ]
  },
  {
   "cell_type": "code",
   "execution_count": null,
   "id": "7d392724",
   "metadata": {},
   "outputs": [],
   "source": []
  }
 ],
 "metadata": {
  "kernelspec": {
   "display_name": "Octave",
   "language": "octave",
   "name": "octave"
  },
  "language_info": {
   "file_extension": ".m",
   "help_links": [
    {
     "text": "GNU Octave",
     "url": "https://www.gnu.org/software/octave/support.html"
    },
    {
     "text": "Octave Kernel",
     "url": "https://github.com/Calysto/octave_kernel"
    },
    {
     "text": "MetaKernel Magics",
     "url": "https://metakernel.readthedocs.io/en/latest/source/README.html"
    }
   ],
   "mimetype": "text/x-octave",
   "name": "octave",
   "version": "5.2.0"
  }
 },
 "nbformat": 4,
 "nbformat_minor": 5
}
