{
 "cells": [
  {
   "cell_type": "markdown",
   "id": "0a9bd127",
   "metadata": {},
   "source": [
    "### Proof by induction\n",
    "\n",
    "#### ex 1, q 15 from Abstract Algebra, Dan Saracino"
   ]
  },
  {
   "cell_type": "markdown",
   "id": "2a228de4",
   "metadata": {},
   "source": [
    "Find a formula for:\n",
    "\n",
    "$ \\frac{1}{1\\cdot2} + \\frac{1}{2\\cdot3} + \\frac{1}{3\\cdot4} + ... + \\frac{1}{(n-1)n} $\n",
    "\n",
    "domain is $ \\ge 2 $\n"
   ]
  },
  {
   "cell_type": "markdown",
   "id": "8375d560",
   "metadata": {},
   "source": [
    "$ f(2) = {\\frac{1}{1\\cdot2}} = \\frac{1}{2} $\n",
    "\n",
    "$ f(3) = {\\frac{1}{1\\cdot2}} + {\\frac{1}{2\\cdot3}} = \\frac{4}{6} = \\frac{2}{3} $\n",
    "\n",
    "$ f(4) = {\\frac{1}{1\\cdot2}} + {\\frac{1}{2\\cdot3}} + {\\frac{1}{3\\cdot4}} = \\frac{9}{12} = \\frac{3}{4} $\n",
    "\n",
    "$ f(5) = {\\frac{1}{1\\cdot2}} + {\\frac{1}{2\\cdot3}} + {\\frac{1}{3\\cdot4}} + {\\frac{1}{4\\cdot5}} = \\frac{4}{5} $"
   ]
  },
  {
   "cell_type": "markdown",
   "id": "e9c52fae",
   "metadata": {},
   "source": [
    "It seems like the formula is: $ \\frac{x-1}{x}, \\ge 2 $"
   ]
  },
  {
   "cell_type": "markdown",
   "id": "7c446769",
   "metadata": {},
   "source": [
    "#### The proposition:\n",
    "\n",
    "$ \\forall x \\in Z^+, x \\ge 2 $ :\n",
    "\n",
    "$ P(x) = \\frac{1}{1\\cdot2} + \\frac{1}{2\\cdot3} + \\frac{1}{3\\cdot4} + ... + \\frac{1}{(x-1)x} = \\frac{x-1}{x} $"
   ]
  },
  {
   "cell_type": "markdown",
   "id": "43693836",
   "metadata": {},
   "source": [
    "#### The base case:\n",
    "\n",
    "$ P(2) = {\\frac{1}{1\\cdot2}} + {\\frac{1}{2\\cdot3}} = \\frac{4}{6} = \\frac{2}{3} $\n",
    "\n",
    "This holds"
   ]
  },
  {
   "cell_type": "markdown",
   "id": "3882668b",
   "metadata": {},
   "source": [
    "#### Let's assume:\n",
    "\n",
    "$ P(k) =  \\frac{1}{1\\cdot2} + \\frac{1}{2\\cdot3} + \\frac{1}{3\\cdot4} + ... + \\frac{1}{(k-1)k} = \\frac{k-1}{k} $"
   ]
  },
  {
   "cell_type": "markdown",
   "id": "42096319",
   "metadata": {},
   "source": [
    "#### Let's check:\n",
    "\n",
    "$ P(k+1) =  \\frac{1}{1\\cdot2} + \\frac{1}{2\\cdot3} + \\frac{1}{3\\cdot4} + ... + \\frac{1}{(k-1)k} + \\frac{1}{((k+1)-1)(k+1)} = \\frac{(k+1)-1}{(k+1)} $"
   ]
  },
  {
   "cell_type": "markdown",
   "id": "a70e20c2",
   "metadata": {},
   "source": [
    "Using the assumption from earlier:\n",
    "\n",
    "$ P(k+1) = \\frac{k-1}{k} + \\frac{1}{((k+1)-1)(k+1)} = \\frac{(k+1)-1}{(k+1)} $"
   ]
  },
  {
   "cell_type": "markdown",
   "id": "a419e193",
   "metadata": {},
   "source": [
    "$ P(k+1) = \\frac{(k-1)((k+1)-1)(k+1)+k}{k((k+1)-1)(k+1)} = \\frac{k}{k+1} $"
   ]
  },
  {
   "cell_type": "markdown",
   "id": "d961a3da",
   "metadata": {},
   "source": [
    "$ P(k+1) = \\frac{(k-1)(k(k+1)+k}{k(k(k+1)} = \\frac{k}{k+1} $"
   ]
  },
  {
   "cell_type": "markdown",
   "id": "f79d87ed",
   "metadata": {},
   "source": [
    "$ P(k+1) = \\frac{(k-1)(k^2+k)+k}{k^3+k^2} = \\frac{k}{k+1} $"
   ]
  },
  {
   "cell_type": "markdown",
   "id": "ef53a39a",
   "metadata": {},
   "source": [
    "$ P(k+1) = \\frac{(k^3+k^2-k^2-k)+k}{k^3+k^2} = \\frac{k}{k+1} $"
   ]
  },
  {
   "cell_type": "markdown",
   "id": "2d1937f4",
   "metadata": {},
   "source": [
    "$ P(k+1) = \\frac{k^3}{k^3+k^2} = \\frac{k}{k+1} $"
   ]
  },
  {
   "cell_type": "markdown",
   "id": "1c510b0f",
   "metadata": {},
   "source": [
    "$ P(k+1) = \\frac{k^2}{k^2} \\frac{k}{k+1} = \\frac{k}{k+1} $\n",
    "\n",
    "By mathematical induction, $ P(x) $ is true $ \\forall x \\in Z, x \\ge 2 $"
   ]
  },
  {
   "cell_type": "code",
   "execution_count": null,
   "id": "63f73f6b",
   "metadata": {},
   "outputs": [],
   "source": []
  }
 ],
 "metadata": {
  "kernelspec": {
   "display_name": "Octave",
   "language": "octave",
   "name": "octave"
  },
  "language_info": {
   "file_extension": ".m",
   "help_links": [
    {
     "text": "GNU Octave",
     "url": "https://www.gnu.org/software/octave/support.html"
    },
    {
     "text": "Octave Kernel",
     "url": "https://github.com/Calysto/octave_kernel"
    },
    {
     "text": "MetaKernel Magics",
     "url": "https://metakernel.readthedocs.io/en/latest/source/README.html"
    }
   ],
   "mimetype": "text/x-octave",
   "name": "octave",
   "version": "5.2.0"
  }
 },
 "nbformat": 4,
 "nbformat_minor": 5
}
