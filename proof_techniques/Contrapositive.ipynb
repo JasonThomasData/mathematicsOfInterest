{
 "cells": [
  {
   "cell_type": "markdown",
   "id": "abef37e5",
   "metadata": {},
   "source": [
    "### Proof by contrapositive\n",
    "\n",
    "If a proposition is an implication:\n",
    "\n",
    "“If it rains today then the garden will be wet”\n",
    "\n",
    "($ P \\to Q $)\n",
    "\n",
    "Then its contrapositive is also true:\n",
    "\n",
    "“If the garden is not wet then it hasn't rained today”\n",
    "\n",
    "($ \\neg Q \\to \\neg P $)\n",
    "\n",
    "The statement and its contrapositive are logically equivalent:\n",
    "\n",
    "$ P \\rightarrow Q \\Longleftrightarrow \\neg Q\\rightarrow \\neg P $ \n",
    "\n",
    "But this doesn't mean that the converse is necessarily correct:\n",
    "\n",
    "\"If the garden is wet then it must have rained\"\n",
    "\n",
    "($ Q \\to P $)\n",
    "\n",
    "And the inverse is not necessarily true:\n",
    "\n",
    "\"If it hasn't rained then the garden won't be wet\"\n",
    "\n",
    "($ \\neg P \\to \\neg Q $)\n",
    "\n",
    "These are incorrect statements, because clearly there are many reasons why a garden might be wet.\n",
    "\n",
    "#### A textbook example\n",
    "\n",
    "“If $ x^{2} $ is even, then $ x $ is even”\n",
    "\n",
    "$ 2|x^{2} \\rightarrow 2|x $\n",
    "\n",
    "How to prove this? It is simple using a proof by contrapositive:\n",
    "\n",
    "$ P = 2|x^{2} $\n",
    "\n",
    "$ Q = 2|x $\n",
    "\n",
    "Then:\n",
    "\n",
    "$ \\neg Q \\to \\neg P $\n",
    "\n",
    "$ \\neg(2|x) \\rightarrow \\neg(2|x^{2}) $\n",
    "\n",
    "Suppose $ x $ is not even, AKA, odd. It is a known theorem that the product of two odd numbers is odd.\n",
    "\n",
    "If $ x $ is odd then $ x^{2} $ must also be odd.\n",
    "\n",
    "Since the contrapositive is proven, and it is equivalent to the proposition, then the proposition is proven."
   ]
  },
  {
   "cell_type": "code",
   "execution_count": null,
   "id": "7084efa9",
   "metadata": {},
   "outputs": [],
   "source": []
  }
 ],
 "metadata": {
  "kernelspec": {
   "display_name": "Octave",
   "language": "octave",
   "name": "octave"
  },
  "language_info": {
   "file_extension": ".m",
   "help_links": [
    {
     "text": "GNU Octave",
     "url": "https://www.gnu.org/software/octave/support.html"
    },
    {
     "text": "Octave Kernel",
     "url": "https://github.com/Calysto/octave_kernel"
    },
    {
     "text": "MetaKernel Magics",
     "url": "https://metakernel.readthedocs.io/en/latest/source/README.html"
    }
   ],
   "mimetype": "text/x-octave",
   "name": "octave",
   "version": "5.2.0"
  }
 },
 "nbformat": 4,
 "nbformat_minor": 5
}
