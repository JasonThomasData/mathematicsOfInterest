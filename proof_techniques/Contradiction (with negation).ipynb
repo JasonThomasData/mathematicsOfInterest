{
 "cells": [
  {
   "cell_type": "markdown",
   "id": "6642b0a3",
   "metadata": {},
   "source": [
    "### Negation and contradiction\n",
    "\n",
    "To proove a statement by contradiction, we should find the statement's negation.\n",
    "\n",
    "To derive the negation of a statement, we apply the following rules:\n",
    "\n",
    "- If a term concerning some variable $x$ in a statement defines either $\\forall x$ or $\\exists x$ then, we toggle them\n",
    "    - $ \\forall \\to \\exists, \\exists \\to \\forall $\n",
    "\n",
    "- If a term has either an equality or inequality, we switch them.\n",
    "    - $ \\ge \\to <, \\le \\to >, = \\to \\ne $\n",
    "\n",
    "\n",
    "#### Example: the proposition is true because its negation is false\n",
    "\n",
    "$ P=\\forall n\\in N^{*},\\exists z\\in Z:z<\\frac{1}{2}n $\n",
    "\n",
    "It hardly needs proving, but we can do so anyway.\n",
    "\n",
    "$ \\neg P=\\exists n\\in N^{*},\\forall z\\in Z:z \\ge \\frac{1}{2}n $\n",
    "\n",
    "Since the integers, $ Z $, include negative numbers, then $ \\neg P $ is wrong. By contradiction, we prove that $ P $ is true.\n",
    "\n",
    "#### Example: the proposition is \n",
    "\n",
    "$ P=\\forall n\\in N^{*},\\exists z\\in Z,z<5:n=2z$ \n",
    "\n",
    "$ \\neg P=\\exists n\\in N^{*},\\forall z\\in Z,z\\ge5:n\\ne2z$ \n",
    "\n",
    "$ \\neg P $ is true for any $ n < 5 $, so that means $ P $ is incorrect.\n"
   ]
  },
  {
   "cell_type": "code",
   "execution_count": null,
   "id": "2f6886c3",
   "metadata": {},
   "outputs": [],
   "source": []
  }
 ],
 "metadata": {
  "kernelspec": {
   "display_name": "Octave",
   "language": "octave",
   "name": "octave"
  },
  "language_info": {
   "file_extension": ".m",
   "help_links": [
    {
     "text": "GNU Octave",
     "url": "https://www.gnu.org/software/octave/support.html"
    },
    {
     "text": "Octave Kernel",
     "url": "https://github.com/Calysto/octave_kernel"
    },
    {
     "text": "MetaKernel Magics",
     "url": "https://metakernel.readthedocs.io/en/latest/source/README.html"
    }
   ],
   "mimetype": "text/x-octave",
   "name": "octave",
   "version": "5.2.0"
  }
 },
 "nbformat": 4,
 "nbformat_minor": 5
}
