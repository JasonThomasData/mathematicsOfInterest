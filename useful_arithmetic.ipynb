{
 "cells": [
  {
   "cell_type": "markdown",
   "id": "5e35ac6f",
   "metadata": {},
   "source": [
    "### Useful arithmetic"
   ]
  },
  {
   "cell_type": "markdown",
   "id": "2545c57c",
   "metadata": {},
   "source": [
    "### Gauss' Formula\n",
    "\n",
    "$ \\sum_{i=0}^{n}i,\\sum_{i=1}^{n}i=\\frac{n(n+1)}{2} $\n",
    "\n",
    "If you were asked to add all the numbers from 1-100, you might make a sequence in ascending order:\n",
    "\n",
    "$ s=\\{1,2,3,...,99,100\\} $\n",
    "\n",
    "If you were to reverse the set:\n",
    "\n",
    "$ s'=\\{100,99,98,...,2,1\\} $\n",
    "\n",
    "And then add every element by order of place in the sequence:\n",
    "\n",
    "$ 2s=\\{101,101,101,...,101,101\\} $\n",
    "\n",
    "$ 2s=100(101) $\n",
    "\n",
    "$ s=\\frac{100(101)}{2} $\n",
    "\n",
    "The generalisation is:\n",
    "\n",
    "$ \\frac{n(n+1)}{2} $"
   ]
  },
  {
   "cell_type": "markdown",
   "id": "f70be1b6",
   "metadata": {},
   "source": [
    "### Difference of squares\n",
    "\n",
    "Consider $ a^2 - b^2 $\n",
    "\n",
    "Then this problem can be rewritten as:\n",
    "\n",
    "$ (a - b) = \\frac{(a^2 - b^2)}{(a - b)} $\n",
    "\n",
    "It's a simple trick but worth remembering."
   ]
  },
  {
   "cell_type": "markdown",
   "id": "b1b739c7",
   "metadata": {},
   "source": [
    "### Telescoping sums\n",
    "\n",
    "$ \\sum_{i=2}^{n=max(x)}x-x_{i-1}=-x_{1}+x_{n} $\n",
    "\n",
    "If you need to find any sum where each sum step is a subtraction, like:\n",
    "\n",
    "$ \\sum_{i}^{n}i-i_{i-1} $\n",
    "\n",
    "Note that this sum is not the only example.\n",
    "\n",
    "Then a concrete example is:\n",
    "\n",
    "$ x=\\{1,2,3,4,5\\} $\n",
    "\n",
    "$ \\sum_{i=2}^{n=5}x_{i}-x_{i-1} $\n",
    "\n",
    "And expanded this is:\n",
    "\n",
    "$ (2-1)+(3-2)+(4-3)+(5-4) $\n",
    "\n",
    "$ 2-1+3-2+4-3+5-4 $\n",
    "\n",
    "If we remove like terms:\n",
    "\n",
    "$ -1+5 $"
   ]
  },
  {
   "cell_type": "markdown",
   "id": "6788701e",
   "metadata": {},
   "source": [
    "### Any infinitely repeating decimal is a rational number\n",
    "\n",
    "Just a concrete example will suffice:\n",
    "\n",
    "Given\n",
    "\n",
    "$ x=1.2(9) $\n",
    "\n",
    "Then\n",
    "\n",
    "$ \\begin{array}{rrrc}\n",
    "10x & = & 12.9(9) & \\text{ }\\\\\n",
    "x & = & 1.2(9) & -\\\\\n",
    "9x & = & 11.7(0) & =\n",
    "\\end{array} $\n",
    "\n",
    "$ \\therefore x=\\frac{11.7}{9}=1.3 $"
   ]
  },
  {
   "cell_type": "markdown",
   "id": "49c9ab5d",
   "metadata": {},
   "source": [
    "### Completing the square\n",
    "\n",
    "Given a quadratic function in the form $ ax^{2}+bx+c $\n",
    "\n",
    "We can find $ x $ by completing the square.\n",
    "\n",
    "A square is in the form: $ (x+y)^{2} $, where $ y $ is known\n",
    "\n",
    "These are squares:\n",
    "\n",
    "$ x^{2}+4x+4 = (x+2)(x+2) = (x+2)^{2} $\n",
    "\n",
    "$ x^{2}+6x+9 = (x+3)(x+3) = (x+3)^{2} $\n",
    "\n",
    "$ x^{2}+8x+16 = (x+4)(x+4) = (x+4)^{2} $\n",
    "\n",
    "For an example, this is not a square: \n",
    "\n",
    "$ f(x)=3x^{2}+18x+26 $\n",
    "\n",
    "To complete the square of $ f(x) $, first, put the constant on the right and then factor out the multiple of $ x^2 $:\n",
    "\n",
    "$ 3(x^{2}+6x)=-26 $\n",
    "\n",
    "Next, expand the square with $ z $ unknown: \n",
    "\n",
    "$ f(x) = x^{2}+6x+z = (x+3)(x+3) = (x+3)^{2} $\n",
    "\n",
    "$ z = \\left( \\frac{6}{2} \\right)^2 = 9 $\n",
    "\n",
    "So you add the 9 to the left side, but also add the same amount $ 9*3 = 27 $ to the right side.\n",
    "\n",
    "$ 3(x^{2}+6x+9) = 1 $\n",
    "\n",
    "$ 3(x+3)^{2}-1 = 0 $\n",
    "\n",
    "We now have a function with a single x that we can find the value of:\n",
    "\n",
    "$ 3(x+3)^{2}=1 $\n",
    "\n",
    "$ (x+3)^{2}=\\frac{1}{3} $\n",
    "\n",
    "$ (x+3)=\\pm\\sqrt{\\frac{1}{3}} $\n",
    "\n",
    "$ x=\\pm\\sqrt{\\frac{1}{3}}-3 $"
   ]
  },
  {
   "cell_type": "markdown",
   "id": "22258ad6",
   "metadata": {},
   "source": [
    "### The square of a negative\n",
    "\n",
    "This is extremely basic, but it has caused issues for me enough times that I feel I must write it down.\n",
    "\n",
    "$ -x^{2}\\sim(-x)^{2} $\n",
    "\n",
    "$ -x^2 = -(x)^2 $\n",
    "\n",
    "Use parentheses in substitutions to avoid this."
   ]
  },
  {
   "cell_type": "markdown",
   "id": "5a516d34",
   "metadata": {},
   "source": [
    "### Partial fraction decomposition\n",
    "\n",
    "If you have a fraction of two polynomials, we can decompose it to two individual parts. This is conceptually the opposite of the product of two fractions.\n",
    "\n",
    "This is very useful for integration, since integrating a quotient of complex parts can be hard. Integrating two quotients of relatively simple parts is much simpler.\n",
    "\n",
    "The requirement is for the numerator and denominator to be polynomials. I think the denominator needs to be a polynomial of degree 2 or more.\n",
    "\n",
    "When there are repeated terms in the denominator, increase their degree.\n",
    "\n",
    "eg:\n",
    "\n",
    "$ \\frac{3x+5}{(x+1)(x-3)^2} = \\frac{A}{(x+1)} + \\frac{B}{(x-3)} + \\frac{C}{(x-3)^2}$\n",
    "\n",
    "You must always make sure that the degree of the numerator is one less than the denominator.\n",
    "\n",
    "eg:\n",
    "\n",
    "$ \\frac{2x^2 -x +4}{x^3 + 4x} = \\frac{Ax + B}{x^2 + 4} + \\frac{C}{x} $\n",
    "\n",
    "Here's an end-to-end example:\n",
    "\n",
    "$ \\frac{x + 8}{x^2 - 6x -7} $\n",
    "\n",
    "$ \\frac{x + 8}{(x + 7)(x - 1)} = \\frac{A(x - 1)}{(x + 7)(x - 1)} + \\frac{B(x + 7)}{(x + 7)(x - 1)} = \\frac{A}{(x + 7)} + \\frac{B}{(x - 1)} $\n",
    "\n",
    "Above, the term on the right is our desired goal to find.\n",
    "\n",
    "You can eliminate the quotients by multiplying the denominator from the LHS to all denominators.\n",
    "\n",
    "$ (x + 8) = A(x - 1) + B(x + 7) $\n",
    "\n",
    "You can solve those as simultaneous equations or as a system of linear equations.\n",
    "\n",
    "$ (x + 8) = Ax - A + Bx + B7 $\n",
    "\n",
    "To use row reductions, we would need to assign the columns as the unknown variables $ A,B $. Treat x as a constant =1.\n",
    "\n",
    "$ \\begin{matrix} A & B & = \\\\ 1 & 1 & 1 \\\\ -1 & 7 & 8 \\end{matrix} $"
   ]
  },
  {
   "cell_type": "code",
   "execution_count": 1,
   "id": "c10a04d4",
   "metadata": {},
   "outputs": [
    {
     "name": "stdout",
     "output_type": "stream",
     "text": [
      "M =\r\n",
      "\r\n",
      "   1   1   1\r\n",
      "  -1   7   8\r\n",
      "\r\n"
     ]
    }
   ],
   "source": [
    "M = [1 1 1;-1 7 8]"
   ]
  },
  {
   "cell_type": "code",
   "execution_count": 2,
   "id": "3ceb911e",
   "metadata": {},
   "outputs": [],
   "source": [
    "M(2,:) = M(2,:) + M(1,:);"
   ]
  },
  {
   "cell_type": "code",
   "execution_count": 3,
   "id": "1f1b6508",
   "metadata": {},
   "outputs": [],
   "source": [
    "M(2,:) = M(2,:)/8;"
   ]
  },
  {
   "cell_type": "code",
   "execution_count": 4,
   "id": "ebc14bc5",
   "metadata": {},
   "outputs": [
    {
     "name": "stdout",
     "output_type": "stream",
     "text": [
      "M =\r\n",
      "\r\n",
      "   1.00000   0.00000  -0.12500\r\n",
      "   0.00000   1.00000   1.12500\r\n",
      "\r\n"
     ]
    }
   ],
   "source": [
    "M(1,:) = M(1,:) - M(2,:)"
   ]
  },
  {
   "cell_type": "markdown",
   "id": "d0b3681a",
   "metadata": {},
   "source": [
    "Then this is the partial fraction decomposition:\n",
    "\n",
    "$ \\frac{-0.125}{(x + 7)} + \\frac{1.125}{(x - 1)} $"
   ]
  },
  {
   "cell_type": "markdown",
   "id": "0f70464a",
   "metadata": {},
   "source": [
    "### Recurring square roots\n",
    "\n",
    "Say you have a problem that looks like:\n",
    "\n",
    "$ \\sqrt{n+\\sqrt{n+\\sqrt{n+...}}}$\n",
    "\n",
    "$ n \\in R $ (not sure if it works with complex numbers).\n",
    "\n",
    "Then:\n",
    "\n",
    "$ \\sqrt{n+\\sqrt{n+\\sqrt{n+...}}} = x $\n",
    "\n",
    "$ n+\\sqrt{n+\\sqrt{n+\\sqrt{n + ...}}} = x^2 $\n",
    "\n",
    "$ n + x = x^2 $\n",
    "\n",
    "$ x^2 -x -n = 0 $\n",
    "\n",
    "Then solve the quadratic equation."
   ]
  },
  {
   "cell_type": "code",
   "execution_count": null,
   "id": "603120ff",
   "metadata": {},
   "outputs": [],
   "source": []
  }
 ],
 "metadata": {
  "kernelspec": {
   "display_name": "Octave",
   "language": "octave",
   "name": "octave"
  },
  "language_info": {
   "file_extension": ".m",
   "help_links": [
    {
     "text": "GNU Octave",
     "url": "https://www.gnu.org/software/octave/support.html"
    },
    {
     "text": "Octave Kernel",
     "url": "https://github.com/Calysto/octave_kernel"
    },
    {
     "text": "MetaKernel Magics",
     "url": "https://metakernel.readthedocs.io/en/latest/source/README.html"
    }
   ],
   "mimetype": "text/x-octave",
   "name": "octave",
   "version": "6.4.0"
  }
 },
 "nbformat": 4,
 "nbformat_minor": 5
}
