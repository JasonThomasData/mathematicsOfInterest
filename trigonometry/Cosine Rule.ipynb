{
 "cells": [
  {
   "cell_type": "markdown",
   "id": "96b0a464",
   "metadata": {},
   "source": [
    "### Cosine rule\n",
    "\n",
    "This is a generalised version of Pythagorus' Theorem.\n",
    "\n",
    "This is useful for finding the angles between vectors.\n",
    "\n",
    "![cosine rule](cosineRule.png)\n",
    "\n",
    "#### Example: $ \\vec{a}, \\vec{b} $ are perpendicular\n",
    "\n",
    "Then this means that $ \\phi = \\frac{\\pi}{2} $, or a right angle\n",
    "\n",
    "$ c = \\sqrt{a^2 + b^2} $\n",
    "\n",
    "#### Example: $ \\pi ~ \\frac{\\pi}{2} $, find a side \n",
    "\n",
    "$ c = \\sqrt{a^2 + b^2 - 2ab \\cos \\phi} $\n",
    "\n",
    "#### Example: $ \\pi ~ \\frac{\\pi}{2} $, find an angle \n"
   ]
  },
  {
   "cell_type": "markdown",
   "id": "9a151947",
   "metadata": {},
   "source": [
    "$ \\phi = \\cos \\left(\\frac{c^2 - a^2 - b^2}{-2ab}\\right)^{-1} $"
   ]
  },
  {
   "cell_type": "code",
   "execution_count": null,
   "id": "a1643f8d",
   "metadata": {},
   "outputs": [],
   "source": []
  }
 ],
 "metadata": {
  "kernelspec": {
   "display_name": "Python 3 (ipykernel)",
   "language": "python",
   "name": "python3"
  },
  "language_info": {
   "codemirror_mode": {
    "name": "ipython",
    "version": 3
   },
   "file_extension": ".py",
   "mimetype": "text/x-python",
   "name": "python",
   "nbconvert_exporter": "python",
   "pygments_lexer": "ipython3",
   "version": "3.8.10"
  }
 },
 "nbformat": 4,
 "nbformat_minor": 5
}
