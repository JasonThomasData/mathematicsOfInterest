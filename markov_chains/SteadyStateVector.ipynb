{
 "cells": [
  {
   "cell_type": "markdown",
   "id": "dba12790",
   "metadata": {},
   "source": [
    "### What will a system converge to?\n",
    "\n",
    "You could fine this out the dumb way by running a system for however long you want to and then see what the limit will be. In the real world, this will be impractical.\n",
    "\n",
    "We can find the steady state vector to represent this.\n",
    "\n",
    "Generally: \n",
    "\n",
    "$ TL = L $\n",
    "\n",
    "$ L = \\left[ \\begin{matrix} x \\\\ y \\end{matrix} \\right] $\n",
    "\n",
    "$ x, y $ are the unknown values"
   ]
  },
  {
   "cell_type": "code",
   "execution_count": 1,
   "id": "eadd1130",
   "metadata": {},
   "outputs": [
    {
     "name": "stdout",
     "output_type": "stream",
     "text": [
      "T =\r\n",
      "\r\n",
      "        1/2          1\r\n",
      "        1/2          0\r\n",
      "\r\n"
     ]
    }
   ],
   "source": [
    "### Given a transition matrix of column vectors:\n",
    "\n",
    "format rat\n",
    "T = [1/2 1; 1/2 0]"
   ]
  },
  {
   "cell_type": "markdown",
   "id": "1d70d773",
   "metadata": {},
   "source": [
    "Then observe that each column adds up, element-wise, to 1\n",
    "\n",
    "$ x + y = 1 $\n",
    "\n",
    "And each equation from the transition matrix represents an unknown:\n",
    "\n",
    "$ \\frac{1}{2} x + y = x $\n",
    "\n",
    "$ \\frac{1}{2} x + 0 = y $\n",
    "\n",
    "But we first need to rearrange those for the unknown to be on one side:\n",
    "\n",
    "$ -\\frac{1}{2} x + y = 0 $\n",
    "\n",
    "$ \\frac{1}{2} x + -1 = 0 $"
   ]
  },
  {
   "cell_type": "code",
   "execution_count": 8,
   "id": "18ff698a",
   "metadata": {},
   "outputs": [
    {
     "name": "stdout",
     "output_type": "stream",
     "text": [
      "A =\r\n",
      "\r\n",
      "          1          1          1\r\n",
      "       -1/2          1          0\r\n",
      "        1/2         -1          0\r\n",
      "\r\n"
     ]
    }
   ],
   "source": [
    "### Then the augmented matrix is:\n",
    "\n",
    "A = [1 1 1; -1/2 1 0; 1/2 -1 0]"
   ]
  },
  {
   "cell_type": "code",
   "execution_count": 9,
   "id": "5f178594",
   "metadata": {},
   "outputs": [],
   "source": [
    "### By row reductions:\n",
    "\n",
    "A(3,:) = A(3,:) + A(2,:);"
   ]
  },
  {
   "cell_type": "code",
   "execution_count": 10,
   "id": "e04fc582",
   "metadata": {},
   "outputs": [],
   "source": [
    "A(2,:) = A(2,:) * 2;"
   ]
  },
  {
   "cell_type": "code",
   "execution_count": 11,
   "id": "5589788b",
   "metadata": {},
   "outputs": [],
   "source": [
    "A(2,:) = A(2,:) + A(1,:);"
   ]
  },
  {
   "cell_type": "code",
   "execution_count": 12,
   "id": "411eab92",
   "metadata": {},
   "outputs": [],
   "source": [
    "A(2,:) = A(2,:) * 1/3;"
   ]
  },
  {
   "cell_type": "code",
   "execution_count": 13,
   "id": "0c0d18cf",
   "metadata": {},
   "outputs": [
    {
     "name": "stdout",
     "output_type": "stream",
     "text": [
      "A =\r\n",
      "\r\n",
      "          1          0        2/3\r\n",
      "          0          1        1/3\r\n",
      "          0          0          0\r\n",
      "\r\n"
     ]
    }
   ],
   "source": [
    "A(1,:) = A(1,:) + A(2,:) * -1"
   ]
  },
  {
   "cell_type": "markdown",
   "id": "394733d5",
   "metadata": {},
   "source": [
    "Then the steady state vector here is:\n",
    "\n",
    "$ L = \\left[ \\begin{matrix} 2/3 \\\\ 1/3 \\end{matrix} \\right] $"
   ]
  },
  {
   "cell_type": "code",
   "execution_count": null,
   "id": "0d06cc0f",
   "metadata": {},
   "outputs": [],
   "source": []
  }
 ],
 "metadata": {
  "kernelspec": {
   "display_name": "Octave",
   "language": "octave",
   "name": "octave"
  },
  "language_info": {
   "file_extension": ".m",
   "help_links": [
    {
     "text": "GNU Octave",
     "url": "https://www.gnu.org/software/octave/support.html"
    },
    {
     "text": "Octave Kernel",
     "url": "https://github.com/Calysto/octave_kernel"
    },
    {
     "text": "MetaKernel Magics",
     "url": "https://metakernel.readthedocs.io/en/latest/source/README.html"
    }
   ],
   "mimetype": "text/x-octave",
   "name": "octave",
   "version": "5.2.0"
  }
 },
 "nbformat": 4,
 "nbformat_minor": 5
}
