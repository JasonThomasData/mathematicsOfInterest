{
 "cells": [
  {
   "cell_type": "markdown",
   "id": "8f1a7b8d",
   "metadata": {},
   "source": [
    "### What will a system converge to?\n",
    "\n",
    "You could fine this out the dumb way by running a system for however long you want to and then see what the limit will be. In the real world, this will be impractical.\n",
    "\n",
    "We can find the steady state vector to represent this.\n",
    "\n",
    "Generally: \n",
    "\n",
    "$ TL = L $\n",
    "\n",
    "$ L = \\left[ \\begin{matrix} x \\\\ y \\end{matrix} \\right] $\n",
    "\n",
    "$ x, y $ are the unknown values"
   ]
  },
  {
   "cell_type": "code",
   "execution_count": 1,
   "id": "37946515",
   "metadata": {},
   "outputs": [
    {
     "name": "stdout",
     "output_type": "stream",
     "text": [
      "T =\r\n",
      "\r\n",
      "        1/2          1\r\n",
      "        1/2          0\r\n",
      "\r\n"
     ]
    }
   ],
   "source": [
    "### Given a transition matrix of column vectors:\n",
    "\n",
    "format rat\n",
    "T = [1/2 1; 1/2 0]"
   ]
  },
  {
   "cell_type": "markdown",
   "id": "2c1fa01b",
   "metadata": {},
   "source": [
    "Then observe that each column adds up, element-wise, to 1\n",
    "\n",
    "$ x + y = 1 $\n",
    "\n",
    "And each equation from the transition matrix represents an unknown:\n",
    "\n",
    "$ \\frac{1}{2} x + y = x $\n",
    "\n",
    "$ \\frac{1}{2} x + 0 = y $\n",
    "\n",
    "But we first need to rearrange those for the unknown to be on one side:\n",
    "\n",
    "$ -\\frac{1}{2} x + y = 0 $\n",
    "\n",
    "$ \\frac{1}{2} x -y = 0 $"
   ]
  },
  {
   "cell_type": "code",
   "execution_count": 2,
   "id": "6c28b3aa",
   "metadata": {},
   "outputs": [
    {
     "name": "stdout",
     "output_type": "stream",
     "text": [
      "A =\r\n",
      "\r\n",
      "          1          1          1\r\n",
      "       -1/2          1          0\r\n",
      "        1/2         -1          0\r\n",
      "\r\n"
     ]
    }
   ],
   "source": [
    "### Then the augmented matrix is:\n",
    "\n",
    "A = [1 1 1; -1/2 1 0; 1/2 -1 0]"
   ]
  },
  {
   "cell_type": "code",
   "execution_count": 3,
   "id": "e723f418",
   "metadata": {},
   "outputs": [],
   "source": [
    "### By row reductions:\n",
    "\n",
    "A(3,:) = A(3,:) + A(2,:);"
   ]
  },
  {
   "cell_type": "code",
   "execution_count": 4,
   "id": "6a0a6307",
   "metadata": {},
   "outputs": [],
   "source": [
    "A(2,:) = A(2,:) * 2;"
   ]
  },
  {
   "cell_type": "code",
   "execution_count": 5,
   "id": "5cf511a3",
   "metadata": {},
   "outputs": [],
   "source": [
    "A(2,:) = A(2,:) + A(1,:);"
   ]
  },
  {
   "cell_type": "code",
   "execution_count": 6,
   "id": "d0e87267",
   "metadata": {},
   "outputs": [],
   "source": [
    "A(2,:) = A(2,:) * 1/3;"
   ]
  },
  {
   "cell_type": "code",
   "execution_count": 7,
   "id": "32c23420",
   "metadata": {},
   "outputs": [
    {
     "name": "stdout",
     "output_type": "stream",
     "text": [
      "A =\r\n",
      "\r\n",
      "          1          0        2/3\r\n",
      "          0          1        1/3\r\n",
      "          0          0          0\r\n",
      "\r\n"
     ]
    }
   ],
   "source": [
    "A(1,:) = A(1,:) + A(2,:) * -1"
   ]
  },
  {
   "cell_type": "markdown",
   "id": "f400b944",
   "metadata": {},
   "source": [
    "Then the steady state vector here is:\n",
    "\n",
    "$ L = \\left[ \\begin{matrix} 2/3 \\\\ 1/3 \\end{matrix} \\right] $"
   ]
  },
  {
   "cell_type": "markdown",
   "id": "c564cb03",
   "metadata": {},
   "source": [
    "Interestingly, the equality $ TL = L $ holds."
   ]
  },
  {
   "cell_type": "code",
   "execution_count": 9,
   "id": "5f424210",
   "metadata": {},
   "outputs": [
    {
     "name": "stdout",
     "output_type": "stream",
     "text": [
      "ans =\r\n",
      "\r\n",
      "        2/3\r\n",
      "        1/3\r\n",
      "\r\n"
     ]
    }
   ],
   "source": [
    "[1/2 1; 1/2 0] * [2/3; 1/3]"
   ]
  },
  {
   "cell_type": "code",
   "execution_count": null,
   "id": "588c255c",
   "metadata": {},
   "outputs": [],
   "source": []
  }
 ],
 "metadata": {
  "kernelspec": {
   "display_name": "Octave",
   "language": "octave",
   "name": "octave"
  },
  "language_info": {
   "file_extension": ".m",
   "help_links": [
    {
     "text": "GNU Octave",
     "url": "https://www.gnu.org/software/octave/support.html"
    },
    {
     "text": "Octave Kernel",
     "url": "https://github.com/Calysto/octave_kernel"
    },
    {
     "text": "MetaKernel Magics",
     "url": "https://metakernel.readthedocs.io/en/latest/source/README.html"
    }
   ],
   "mimetype": "text/x-octave",
   "name": "octave",
   "version": "5.2.0"
  }
 },
 "nbformat": 4,
 "nbformat_minor": 5
}
