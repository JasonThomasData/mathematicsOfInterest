{
 "cells": [
  {
   "cell_type": "markdown",
   "id": "2ff68e53",
   "metadata": {},
   "source": [
    "This idea is to calculate the probability of different states with a Markov Chain analysis. \n",
    "\n",
    "This will focus on the world's greatest game: Snakes and Ladders.\n"
   ]
  },
  {
   "cell_type": "code",
   "execution_count": 1,
   "id": "76a6cd7b",
   "metadata": {},
   "outputs": [],
   "source": [
    "function displayTransitionMatrix (transitionMatrix)\n",
    "    rowCount = size(transitionMatrix)(1);\n",
    "    columnCount = size(transitionMatrix)(2);\n",
    "    header = \"{i,j}\";\n",
    "    for i =1:columnCount\n",
    "        if i < 10\n",
    "            header = sprintf(\"%s    [%d]\", header, i);\n",
    "        else\n",
    "            header = sprintf(\"%s   [%d]\", header, i);\n",
    "        end\n",
    "    end\n",
    "    disp(header)\n",
    "    for i =1:rowCount\n",
    "        if i < 10\n",
    "            rowString = sprintf(\"  [%d]\", i);\n",
    "        else\n",
    "            rowString = sprintf(\" [%d]\", i);\n",
    "        end\n",
    "        for j = 1:columnCount\n",
    "            cell = transitionMatrix(i,j);\n",
    "            if j < columnCount\n",
    "                delimeter = \"|\";\n",
    "            else\n",
    "                delimeter = \"\";\n",
    "            end\n",
    "            if cell == 0 || cell == 1\n",
    "                cellStr = sprintf(\"     %d%s\", cell, delimeter);\n",
    "            else\n",
    "                cellStr = sprintf(\" %.03f%s\", cell, delimeter);\n",
    "            end\n",
    "            rowString = sprintf(\"%s%s\", rowString, cellStr);\n",
    "        end\n",
    "        disp(rowString);\n",
    "    end\n",
    "end"
   ]
  },
  {
   "cell_type": "code",
   "execution_count": 2,
   "id": "26d8acfe",
   "metadata": {},
   "outputs": [],
   "source": [
    "dieMax = 6; # largest you can roll. The smallest you can roll is 1\n",
    "\n",
    "possibleStateNumber = 16; # This should be a square of some number, like 16,25,36, etc... because the board is square\n",
    "transitionMatrix = zeros(possibleStateNumber, possibleStateNumber);"
   ]
  },
  {
   "cell_type": "code",
   "execution_count": 3,
   "id": "0dc8de66",
   "metadata": {},
   "outputs": [
    {
     "name": "stdout",
     "output_type": "stream",
     "text": [
      "\n",
      "T^1\n",
      "\n",
      "{i,j}    [1]    [2]    [3]    [4]    [5]    [6]    [7]    [8]    [9]   [10]   [11]   [12]   [13]   [14]   [15]   [16]\n",
      "  [1]     0| 0.167| 0.167| 0.167| 0.167| 0.167| 0.167|     0|     0|     0|     0|     0|     0|     0|     0|     0\n",
      "  [2]     0|     0| 0.167| 0.167| 0.167| 0.167| 0.167| 0.167|     0|     0|     0|     0|     0|     0|     0|     0\n",
      "  [3]     0|     0|     0| 0.167| 0.167| 0.167| 0.167| 0.167| 0.167|     0|     0|     0|     0|     0|     0|     0\n",
      "  [4]     0|     0|     0|     0| 0.167| 0.167| 0.167| 0.167| 0.167| 0.167|     0|     0|     0|     0|     0|     0\n",
      "  [5]     0|     0|     0|     0|     0| 0.167| 0.167| 0.167| 0.167| 0.167| 0.167|     0|     0|     0|     0|     0\n",
      "  [6]     0|     0|     0|     0|     0|     0| 0.167| 0.167| 0.167| 0.167| 0.167| 0.167|     0|     0|     0|     0\n",
      "  [7]     0|     0|     0|     0|     0|     0|     0| 0.167| 0.167| 0.167| 0.167| 0.167| 0.167|     0|     0|     0\n",
      "  [8]     0|     0|     0|     0|     0|     0|     0|     0| 0.167| 0.167| 0.167| 0.167| 0.167| 0.167|     0|     0\n",
      "  [9]     0|     0|     0|     0|     0|     0|     0|     0|     0| 0.167| 0.167| 0.167| 0.167| 0.167| 0.167|     0\n",
      " [10]     0|     0|     0|     0|     0|     0|     0|     0|     0|     0| 0.167| 0.167| 0.167| 0.167| 0.167| 0.167\n",
      " [11]     0|     0|     0|     0|     0|     0|     0|     0|     0|     0|     0| 0.167| 0.167| 0.167| 0.167| 0.333\n",
      " [12]     0|     0|     0|     0|     0|     0|     0|     0|     0|     0|     0|     0| 0.167| 0.167| 0.167| 0.500\n",
      " [13]     0|     0|     0|     0|     0|     0|     0|     0|     0|     0|     0|     0|     0| 0.167| 0.167| 0.667\n",
      " [14]     0|     0|     0|     0|     0|     0|     0|     0|     0|     0|     0|     0|     0|     0| 0.167| 0.833\n",
      " [15]     0|     0|     0|     0|     0|     0|     0|     0|     0|     0|     0|     0|     0|     0|     0|     1\n",
      " [16]     0|     0|     0|     0|     0|     0|     0|     0|     0|     0|     0|     0|     0|     0|     0|     1\n"
     ]
    }
   ],
   "source": [
    "# Because players can roll higher than the available spaces then we need to catch those extras and increase the value of the final score\n",
    "# Otherwise, all possibilities should have a score equal to 1/6, or however many sides the die has\n",
    "\n",
    "for i =1:possibleStateNumber\n",
    "    overshootCount = 0;\n",
    "    for j =1+i:dieMax+i\n",
    "        if j > possibleStateNumber\n",
    "            overshootCount = overshootCount + 1;\n",
    "        else\n",
    "            transitionMatrix(i,j) = 1/dieMax;\n",
    "        end\n",
    "    end\n",
    "    if overshootCount > 0\n",
    "        transitionMatrix(i,possibleStateNumber) = transitionMatrix(i,possibleStateNumber) + overshootCount/dieMax;\n",
    "    end\n",
    "end\n",
    "\n",
    "disp(\"\\nT^1\\n\")\n",
    "displayTransitionMatrix(transitionMatrix)"
   ]
  },
  {
   "cell_type": "markdown",
   "id": "86b3b9a8",
   "metadata": {},
   "source": [
    "Let's introduce some snakes and ladders\n",
    "\n",
    "These have the same structure, in that they take the player from position 1 and take them to position 2, in the form (1,2)\n",
    "\n",
    "Snakes and ladders can end at the same place, but can't start at the same place. A ladder can't end where a snake starts, and vice-versa.\n",
    "\n",
    "For every state (row) in the transition matrix, replace the probability of the first index with zero, and add the probability to the second index"
   ]
  },
  {
   "cell_type": "code",
   "execution_count": 4,
   "id": "fc0613a1",
   "metadata": {},
   "outputs": [
    {
     "name": "stdout",
     "output_type": "stream",
     "text": [
      "snakes =\r\n",
      "\r\n",
      "   13   11\r\n",
      "   10    6\r\n",
      "   15    2\r\n",
      "\r\n"
     ]
    }
   ],
   "source": [
    "snakes = [\n",
    "    13 11;\n",
    "    10 6;\n",
    "    15 2\n",
    "]"
   ]
  },
  {
   "cell_type": "code",
   "execution_count": 5,
   "id": "8f1cadda",
   "metadata": {},
   "outputs": [
    {
     "name": "stdout",
     "output_type": "stream",
     "text": [
      "ladders =\r\n",
      "\r\n",
      "    3    6\r\n",
      "    7   11\r\n",
      "    5   12\r\n",
      "\r\n"
     ]
    }
   ],
   "source": [
    "ladders = [\n",
    "    3 6;\n",
    "    7 11;\n",
    "    5 12\n",
    "]"
   ]
  },
  {
   "cell_type": "code",
   "execution_count": 6,
   "id": "509a784b",
   "metadata": {},
   "outputs": [
    {
     "name": "stdout",
     "output_type": "stream",
     "text": [
      "snakePenalty =  19\n",
      "ladderReward =  14\n"
     ]
    }
   ],
   "source": [
    "# Are snakes and ladders equal?\n",
    "\n",
    "snakePenalty = 0;\n",
    "for s =1:length(snakes)\n",
    "    snakePenalty = snakePenalty + snakes(s,1) - snakes(s,2);\n",
    "end\n",
    "snakePenalty\n",
    "\n",
    "ladderReward = 0;\n",
    "for l =1:length(ladders)\n",
    "    ladderReward = ladderReward + ladders(l,2) - ladders(l,1);\n",
    "end\n",
    "ladderReward"
   ]
  },
  {
   "cell_type": "code",
   "execution_count": 7,
   "id": "d2bbd812",
   "metadata": {},
   "outputs": [
    {
     "name": "stdout",
     "output_type": "stream",
     "text": [
      "columnCount =  16\r\n"
     ]
    }
   ],
   "source": [
    "# Move probabilities from snake head to tail, ladder bottom to top\n",
    "\n",
    "for i =1:length(transitionMatrix)\n",
    "    for s =1:length(snakes)\n",
    "        head = snakes(s, 1);\n",
    "        tail = snakes(s, 2);\n",
    "        probability = transitionMatrix(i, head);\n",
    "        transitionMatrix(i, head) = 0;\n",
    "        transitionMatrix(i, tail) = transitionMatrix(i, tail) + probability;\n",
    "    end\n",
    "    \n",
    "    for l =1:length(ladders)\n",
    "        bottom = ladders(l, 1);\n",
    "        top = ladders(l, 2);\n",
    "        probability = transitionMatrix(i, bottom);\n",
    "        transitionMatrix(i, bottom) = 0;\n",
    "        transitionMatrix(i, top) = transitionMatrix(i, top) + probability;\n",
    "    end\n",
    "end\n",
    "\n",
    "# Squares that don't have a probability (head of snake, bottom of ladder) are now probability = 0\n",
    "\n",
    "columnCount = size(transitionMatrix)(2)\n",
    "for i =1:length(transitionMatrix)\n",
    "    for s =1:length(snakes)\n",
    "        head = snakes(s, 1);\n",
    "        transitionMatrix(head, :) = zeros(1, columnCount);\n",
    "    end\n",
    "    \n",
    "    for l =1:length(ladders)\n",
    "        bottom = ladders(l, 1);\n",
    "        transitionMatrix(bottom, :) = zeros(1, columnCount);\n",
    "    end\n",
    "end"
   ]
  },
  {
   "cell_type": "code",
   "execution_count": 8,
   "id": "c98398a8",
   "metadata": {},
   "outputs": [
    {
     "name": "stdout",
     "output_type": "stream",
     "text": [
      "\r\n",
      "T^1\r\n",
      "{i,j}    [1]    [2]    [3]    [4]    [5]    [6]    [7]    [8]    [9]   [10]   [11]   [12]   [13]   [14]   [15]   [16]\r\n",
      "  [1]     0| 0.167|     0| 0.167|     0| 0.333|     0|     0|     0|     0| 0.167| 0.167|     0|     0|     0|     0\r\n",
      "  [2]     0|     0|     0| 0.167|     0| 0.333|     0| 0.167|     0|     0| 0.167| 0.167|     0|     0|     0|     0\r\n",
      "  [3]     0|     0|     0|     0|     0|     0|     0|     0|     0|     0|     0|     0|     0|     0|     0|     0\r\n",
      "  [4]     0|     0|     0|     0|     0| 0.333|     0| 0.167| 0.167|     0| 0.167| 0.167|     0|     0|     0|     0\r\n",
      "  [5]     0|     0|     0|     0|     0|     0|     0|     0|     0|     0|     0|     0|     0|     0|     0|     0\r\n",
      "  [6]     0|     0|     0|     0|     0| 0.167|     0| 0.167| 0.167|     0| 0.333| 0.167|     0|     0|     0|     0\r\n",
      "  [7]     0|     0|     0|     0|     0|     0|     0|     0|     0|     0|     0|     0|     0|     0|     0|     0\r\n",
      "  [8]     0|     0|     0|     0|     0| 0.167|     0|     0| 0.167|     0| 0.333| 0.167|     0| 0.167|     0|     0\r\n",
      "  [9]     0| 0.167|     0|     0|     0| 0.167|     0|     0|     0|     0| 0.333| 0.167|     0| 0.167|     0|     0\r\n",
      " [10]     0|     0|     0|     0|     0|     0|     0|     0|     0|     0|     0|     0|     0|     0|     0|     0\r\n",
      " [11]     0| 0.167|     0|     0|     0|     0|     0|     0|     0|     0| 0.167| 0.167|     0| 0.167|     0| 0.333\r\n",
      " [12]     0| 0.167|     0|     0|     0|     0|     0|     0|     0|     0| 0.167|     0|     0| 0.167|     0| 0.500\r\n",
      " [13]     0|     0|     0|     0|     0|     0|     0|     0|     0|     0|     0|     0|     0|     0|     0|     0\r\n",
      " [14]     0| 0.167|     0|     0|     0|     0|     0|     0|     0|     0|     0|     0|     0|     0|     0| 0.833\r\n",
      " [15]     0|     0|     0|     0|     0|     0|     0|     0|     0|     0|     0|     0|     0|     0|     0|     0\r\n",
      " [16]     0|     0|     0|     0|     0|     0|     0|     0|     0|     0|     0|     0|     0|     0|     0|     1\r\n",
      "\r\n",
      "T^2\r\n",
      "{i,j}    [1]    [2]    [3]    [4]    [5]    [6]    [7]    [8]    [9]   [10]   [11]   [12]   [13]   [14]   [15]   [16]\r\n",
      "  [1]     0| 0.056|     0| 0.028|     0| 0.167|     0| 0.111| 0.083|     0| 0.222| 0.139|     0| 0.056|     0| 0.139\r\n",
      "  [2]     0| 0.056|     0|     0|     0| 0.139|     0| 0.083| 0.111|     0| 0.250| 0.139|     0| 0.083|     0| 0.139\r\n",
      "  [3]     0|     0|     0|     0|     0|     0|     0|     0|     0|     0|     0|     0|     0|     0|     0|     0\r\n",
      "  [4]     0| 0.083|     0|     0|     0| 0.111|     0| 0.056| 0.083|     0| 0.278| 0.139|     0| 0.111|     0| 0.139\r\n",
      "  [5]     0|     0|     0|     0|     0|     0|     0|     0|     0|     0|     0|     0|     0|     0|     0|     0\r\n",
      "  [6]     0| 0.111|     0|     0|     0| 0.083|     0| 0.028| 0.056|     0| 0.250| 0.139|     0| 0.139|     0| 0.194\r\n",
      "  [7]     0|     0|     0|     0|     0|     0|     0|     0|     0|     0|     0|     0|     0|     0|     0|     0\r\n",
      "  [8]     0| 0.139|     0|     0|     0| 0.056|     0| 0.028| 0.028|     0| 0.194| 0.111|     0| 0.111|     0| 0.333\r\n",
      "  [9]     0| 0.111|     0| 0.028|     0| 0.083|     0| 0.056| 0.028|     0| 0.167| 0.111|     0| 0.083|     0| 0.333\r\n",
      " [10]     0|     0|     0|     0|     0|     0|     0|     0|     0|     0|     0|     0|     0|     0|     0|     0\r\n",
      " [11]     0| 0.083|     0| 0.028|     0| 0.056|     0| 0.028|     0|     0| 0.083| 0.056|     0| 0.056|     0| 0.611\r\n",
      " [12]     0| 0.056|     0| 0.028|     0| 0.056|     0| 0.028|     0|     0| 0.056| 0.056|     0| 0.028|     0| 0.694\r\n",
      " [13]     0|     0|     0|     0|     0|     0|     0|     0|     0|     0|     0|     0|     0|     0|     0|     0\r\n",
      " [14]     0|     0|     0| 0.028|     0| 0.056|     0| 0.028|     0|     0| 0.028| 0.028|     0|     0|     0| 0.833\r\n",
      " [15]     0|     0|     0|     0|     0|     0|     0|     0|     0|     0|     0|     0|     0|     0|     0|     0\r\n",
      " [16]     0|     0|     0|     0|     0|     0|     0|     0|     0|     0|     0|     0|     0|     0|     0|     1\r\n",
      "\r\n",
      "T^3\r\n",
      "{i,j}    [1]    [2]    [3]    [4]    [5]    [6]    [7]    [8]    [9]   [10]   [11]   [12]   [13]   [14]   [15]   [16]\r\n",
      "  [1]     0| 0.083|     0| 0.009|     0| 0.088|     0| 0.042| 0.051|     0| 0.194| 0.111|     0| 0.093|     0| 0.329\r\n",
      "  [2]     0| 0.097|     0| 0.009|     0| 0.074|     0| 0.032| 0.037|     0| 0.185| 0.106|     0| 0.097|     0| 0.361\r\n",
      "  [3]     0|     0|     0|     0|     0|     0|     0|     0|     0|     0|     0|     0|     0|     0|     0|     0\r\n",
      "  [4]     0| 0.102|     0| 0.014|     0| 0.069|     0| 0.032| 0.028|     0| 0.167| 0.102|     0| 0.093|     0| 0.394\r\n",
      "  [5]     0|     0|     0|     0|     0|     0|     0|     0|     0|     0|     0|     0|     0|     0|     0|     0\r\n",
      "  [6]     0| 0.097|     0| 0.019|     0| 0.065|     0| 0.032| 0.019|     0| 0.139| 0.088|     0| 0.079|     0| 0.463\r\n",
      "  [7]     0|     0|     0|     0|     0|     0|     0|     0|     0|     0|     0|     0|     0|     0|     0|     0\r\n",
      "  [8]     0| 0.074|     0| 0.023|     0| 0.065|     0| 0.032| 0.014|     0| 0.111| 0.074|     0| 0.060|     0| 0.546\r\n",
      "  [9]     0| 0.065|     0| 0.019|     0| 0.074|     0| 0.037| 0.028|     0| 0.125| 0.079|     0| 0.060|     0| 0.514\r\n",
      " [10]     0|     0|     0|     0|     0|     0|     0|     0|     0|     0|     0|     0|     0|     0|     0|     0\r\n",
      " [11]     0| 0.032|     0| 0.014|     0| 0.051|     0| 0.028| 0.019|     0| 0.069| 0.046|     0| 0.028|     0| 0.713\r\n",
      " [12]     0| 0.023|     0| 0.009|     0| 0.042|     0| 0.023| 0.019|     0| 0.060| 0.037|     0| 0.023|     0| 0.764\r\n",
      " [13]     0|     0|     0|     0|     0|     0|     0|     0|     0|     0|     0|     0|     0|     0|     0|     0\r\n",
      " [14]     0| 0.009|     0|     0|     0| 0.023|     0| 0.014| 0.019|     0| 0.042| 0.023|     0| 0.014|     0| 0.856\r\n",
      " [15]     0|     0|     0|     0|     0|     0|     0|     0|     0|     0|     0|     0|     0|     0|     0|     0\r\n",
      " [16]     0|     0|     0|     0|     0|     0|     0|     0|     0|     0|     0|     0|     0|     0|     0|     1\r\n",
      "\r\n",
      "T^4\r\n",
      "{i,j}    [1]    [2]    [3]    [4]    [5]    [6]    [7]    [8]    [9]   [10]   [11]   [12]   [13]   [14]   [15]   [16]\r\n",
      "  [1]     0| 0.075|     0| 0.014|     0| 0.061|     0| 0.030| 0.023|     0| 0.127| 0.078|     0| 0.066|     0| 0.526\r\n",
      "  [2]     0| 0.071|     0| 0.016|     0| 0.059|     0| 0.030| 0.019|     0| 0.114| 0.073|     0| 0.060|     0| 0.557\r\n",
      "  [3]     0|     0|     0|     0|     0|     0|     0|     0|     0|     0|     0|     0|     0|     0|     0|     0\r\n",
      "  [4]     0| 0.065|     0| 0.017|     0| 0.060|     0| 0.031| 0.019|     0| 0.107| 0.069|     0| 0.055|     0| 0.577\r\n",
      "  [5]     0|     0|     0|     0|     0|     0|     0|     0|     0|     0|     0|     0|     0|     0|     0|     0\r\n",
      "  [6]     0| 0.054|     0| 0.016|     0| 0.058|     0| 0.030| 0.019|     0| 0.096| 0.062|     0| 0.046|     0| 0.619\r\n",
      "  [7]     0|     0|     0|     0|     0|     0|     0|     0|     0|     0|     0|     0|     0|     0|     0|     0\r\n",
      "  [8]     0| 0.043|     0| 0.012|     0| 0.051|     0| 0.027| 0.020|     0| 0.084| 0.053|     0| 0.039|     0| 0.671\r\n",
      "  [9]     0| 0.049|     0| 0.011|     0| 0.051|     0| 0.026| 0.022|     0| 0.094| 0.058|     0| 0.045|     0| 0.645\r\n",
      " [10]     0|     0|     0|     0|     0|     0|     0|     0|     0|     0|     0|     0|     0|     0|     0|     0\r\n",
      " [11]     0| 0.027|     0| 0.005|     0| 0.032|     0| 0.016| 0.015|     0| 0.059| 0.035|     0| 0.027|     0| 0.782\r\n",
      " [12]     0| 0.023|     0| 0.004|     0| 0.025|     0| 0.012| 0.012|     0| 0.049| 0.029|     0| 0.023|     0| 0.822\r\n",
      " [13]     0|     0|     0|     0|     0|     0|     0|     0|     0|     0|     0|     0|     0|     0|     0|     0\r\n",
      " [14]     0| 0.016|     0| 0.002|     0| 0.012|     0| 0.005| 0.006|     0| 0.031| 0.018|     0| 0.016|     0| 0.894\r\n",
      " [15]     0|     0|     0|     0|     0|     0|     0|     0|     0|     0|     0|     0|     0|     0|     0|     0\r\n",
      " [16]     0|     0|     0|     0|     0|     0|     0|     0|     0|     0|     0|     0|     0|     0|     0|     1\r\n",
      "\r\n",
      "T^5\r\n",
      "{i,j}    [1]    [2]    [3]    [4]    [5]    [6]    [7]    [8]    [9]   [10]   [11]   [12]   [13]   [14]   [15]   [16]\r\n",
      "  [1]     0| 0.049|     0| 0.012|     0| 0.049|     0| 0.025| 0.017|     0| 0.087| 0.055|     0| 0.043|     0| 0.663\r\n",
      "  [2]     0| 0.044|     0| 0.012|     0| 0.047|     0| 0.024| 0.018|     0| 0.082| 0.052|     0| 0.039|     0| 0.682\r\n",
      "  [3]     0|     0|     0|     0|     0|     0|     0|     0|     0|     0|     0|     0|     0|     0|     0|     0\r\n",
      "  [4]     0| 0.042|     0| 0.011|     0| 0.046|     0| 0.024| 0.018|     0| 0.080| 0.050|     0| 0.038|     0| 0.693\r\n",
      "  [5]     0|     0|     0|     0|     0|     0|     0|     0|     0|     0|     0|     0|     0|     0|     0|     0\r\n",
      "  [6]     0| 0.037|     0| 0.009|     0| 0.041|     0| 0.021| 0.017|     0| 0.074| 0.046|     0| 0.034|     0| 0.720\r\n",
      "  [7]     0|     0|     0|     0|     0|     0|     0|     0|     0|     0|     0|     0|     0|     0|     0|     0\r\n",
      "  [8]     0| 0.033|     0| 0.007|     0| 0.035|     0| 0.018| 0.015|     0| 0.065| 0.040|     0| 0.031|     0| 0.757\r\n",
      "  [9]     0| 0.036|     0| 0.008|     0| 0.036|     0| 0.018| 0.015|     0| 0.068| 0.042|     0| 0.033|     0| 0.743\r\n",
      " [10]     0|     0|     0|     0|     0|     0|     0|     0|     0|     0|     0|     0|     0|     0|     0|     0\r\n",
      " [11]     0| 0.023|     0| 0.005|     0| 0.021|     0| 0.011| 0.009|     0| 0.042| 0.026|     0| 0.021|     0| 0.842\r\n",
      " [12]     0| 0.019|     0| 0.004|     0| 0.017|     0| 0.009| 0.007|     0| 0.034| 0.021|     0| 0.017|     0| 0.872\r\n",
      " [13]     0|     0|     0|     0|     0|     0|     0|     0|     0|     0|     0|     0|     0|     0|     0|     0\r\n",
      " [14]     0| 0.012|     0| 0.003|     0| 0.010|     0| 0.005| 0.003|     0| 0.019| 0.012|     0| 0.010|     0| 0.926\r\n",
      " [15]     0|     0|     0|     0|     0|     0|     0|     0|     0|     0|     0|     0|     0|     0|     0|     0\r\n",
      " [16]     0|     0|     0|     0|     0|     0|     0|     0|     0|     0|     0|     0|     0|     0|     0|     1\r\n"
     ]
    }
   ],
   "source": [
    "for n =1:5\n",
    "    fprintf(\"\\nT^%d\\n\",n)\n",
    "    displayTransitionMatrix(transitionMatrix^n)\n",
    "end\n",
    "\n"
   ]
  },
  {
   "cell_type": "code",
   "execution_count": 9,
   "id": "4fea2611",
   "metadata": {},
   "outputs": [
    {
     "name": "stdout",
     "output_type": "stream",
     "text": [
      "{i,j}    [1]    [2]    [3]    [4]    [5]    [6]    [7]    [8]    [9]   [10]   [11]   [12]   [13]   [14]   [15]   [16]\r\n",
      "  [1]     1|     0|     0|     0|     0|     0|     0|     0|     0|     0|     0|     0|     0|     0|     0|     0\r\n"
     ]
    }
   ],
   "source": [
    "initialState = zeros(1,possibleStateNumber);\n",
    "initialState(1,1) = 1;\n",
    "displayTransitionMatrix(initialState);\n"
   ]
  },
  {
   "cell_type": "code",
   "execution_count": 10,
   "id": "2f0b843b",
   "metadata": {},
   "outputs": [
    {
     "name": "stdout",
     "output_type": "stream",
     "text": [
      "\r\n",
      "\r\n",
      "n = 1\r\n",
      "{i,j}    [1]    [2]    [3]    [4]    [5]    [6]    [7]    [8]    [9]   [10]   [11]   [12]   [13]   [14]   [15]   [16]\r\n",
      "  [1]     0| 0.167|     0| 0.167|     0| 0.333|     0|     0|     0|     0| 0.167| 0.167|     0|     0|     0|     0\r\n",
      "\r\n",
      "\r\n",
      "n = 2\r\n",
      "{i,j}    [1]    [2]    [3]    [4]    [5]    [6]    [7]    [8]    [9]   [10]   [11]   [12]   [13]   [14]   [15]   [16]\r\n",
      "  [1]     0| 0.056|     0| 0.028|     0| 0.167|     0| 0.111| 0.083|     0| 0.222| 0.139|     0| 0.056|     0| 0.139\r\n",
      "\r\n",
      "\r\n",
      "n = 3\r\n",
      "{i,j}    [1]    [2]    [3]    [4]    [5]    [6]    [7]    [8]    [9]   [10]   [11]   [12]   [13]   [14]   [15]   [16]\r\n",
      "  [1]     0| 0.083|     0| 0.009|     0| 0.088|     0| 0.042| 0.051|     0| 0.194| 0.111|     0| 0.093|     0| 0.329\r\n",
      "\r\n",
      "\r\n",
      "n = 4\r\n",
      "{i,j}    [1]    [2]    [3]    [4]    [5]    [6]    [7]    [8]    [9]   [10]   [11]   [12]   [13]   [14]   [15]   [16]\r\n",
      "  [1]     0| 0.075|     0| 0.014|     0| 0.061|     0| 0.030| 0.023|     0| 0.127| 0.078|     0| 0.066|     0| 0.526\r\n",
      "\r\n",
      "\r\n",
      "n = 5\r\n",
      "{i,j}    [1]    [2]    [3]    [4]    [5]    [6]    [7]    [8]    [9]   [10]   [11]   [12]   [13]   [14]   [15]   [16]\r\n",
      "  [1]     0| 0.049|     0| 0.012|     0| 0.049|     0| 0.025| 0.017|     0| 0.087| 0.055|     0| 0.043|     0| 0.663\r\n",
      "\r\n",
      "\r\n",
      "n = 6\r\n",
      "{i,j}    [1]    [2]    [3]    [4]    [5]    [6]    [7]    [8]    [9]   [10]   [11]   [12]   [13]   [14]   [15]   [16]\r\n",
      "  [1]     0| 0.034|     0| 0.008|     0| 0.036|     0| 0.018| 0.014|     0| 0.064| 0.040|     0| 0.031|     0| 0.755\r\n",
      "\r\n",
      "\r\n",
      "n = 7\r\n",
      "{i,j}    [1]    [2]    [3]    [4]    [5]    [6]    [7]    [8]    [9]   [10]   [11]   [12]   [13]   [14]   [15]   [16]\r\n",
      "  [1]     0| 0.025|     0| 0.006|     0| 0.025|     0| 0.013| 0.010|     0| 0.047| 0.029|     0| 0.023|     0| 0.822\r\n",
      "\r\n",
      "\r\n",
      "n = 8\r\n",
      "{i,j}    [1]    [2]    [3]    [4]    [5]    [6]    [7]    [8]    [9]   [10]   [11]   [12]   [13]   [14]   [15]   [16]\r\n",
      "  [1]     0| 0.018|     0| 0.004|     0| 0.018|     0| 0.009| 0.007|     0| 0.034| 0.021|     0| 0.017|     0| 0.871\r\n",
      "\r\n",
      "\r\n",
      "n = 9\r\n",
      "{i,j}    [1]    [2]    [3]    [4]    [5]    [6]    [7]    [8]    [9]   [10]   [11]   [12]   [13]   [14]   [15]   [16]\r\n",
      "  [1]     0| 0.013|     0| 0.003|     0| 0.013|     0| 0.007| 0.005|     0| 0.025| 0.015|     0| 0.012|     0| 0.907\r\n",
      "\r\n",
      "\r\n",
      "n = 10\r\n",
      "{i,j}    [1]    [2]    [3]    [4]    [5]    [6]    [7]    [8]    [9]   [10]   [11]   [12]   [13]   [14]   [15]   [16]\r\n",
      "  [1]     0| 0.009|     0| 0.002|     0| 0.010|     0| 0.005| 0.004|     0| 0.018| 0.011|     0| 0.009|     0| 0.933\r\n",
      "\r\n",
      "\r\n",
      "n = 11\r\n",
      "{i,j}    [1]    [2]    [3]    [4]    [5]    [6]    [7]    [8]    [9]   [10]   [11]   [12]   [13]   [14]   [15]   [16]\r\n",
      "  [1]     0| 0.007|     0| 0.002|     0| 0.007|     0| 0.004| 0.003|     0| 0.013| 0.008|     0| 0.006|     0| 0.951\r\n",
      "\r\n",
      "\r\n",
      "n = 12\r\n",
      "{i,j}    [1]    [2]    [3]    [4]    [5]    [6]    [7]    [8]    [9]   [10]   [11]   [12]   [13]   [14]   [15]   [16]\r\n",
      "  [1]     0| 0.005|     0| 0.001|     0| 0.005|     0| 0.003| 0.002|     0| 0.009| 0.006|     0| 0.005|     0| 0.965\r\n",
      "\r\n",
      "\r\n",
      "n = 13\r\n",
      "{i,j}    [1]    [2]    [3]    [4]    [5]    [6]    [7]    [8]    [9]   [10]   [11]   [12]   [13]   [14]   [15]   [16]\r\n",
      "  [1]     0| 0.004|     0| 0.001|     0| 0.004|     0| 0.002| 0.001|     0| 0.007| 0.004|     0| 0.003|     0| 0.974\r\n",
      "\r\n",
      "\r\n",
      "n = 14\r\n",
      "{i,j}    [1]    [2]    [3]    [4]    [5]    [6]    [7]    [8]    [9]   [10]   [11]   [12]   [13]   [14]   [15]   [16]\r\n",
      "  [1]     0| 0.003|     0| 0.001|     0| 0.003|     0| 0.001| 0.001|     0| 0.005| 0.003|     0| 0.002|     0| 0.981\r\n",
      "\r\n",
      "\r\n",
      "n = 15\r\n",
      "{i,j}    [1]    [2]    [3]    [4]    [5]    [6]    [7]    [8]    [9]   [10]   [11]   [12]   [13]   [14]   [15]   [16]\r\n",
      "  [1]     0| 0.002|     0| 0.000|     0| 0.002|     0| 0.001| 0.001|     0| 0.004| 0.002|     0| 0.002|     0| 0.987\r\n",
      "\r\n",
      "\r\n",
      "n = 16\r\n",
      "{i,j}    [1]    [2]    [3]    [4]    [5]    [6]    [7]    [8]    [9]   [10]   [11]   [12]   [13]   [14]   [15]   [16]\r\n",
      "  [1]     0| 0.001|     0| 0.000|     0| 0.001|     0| 0.001| 0.001|     0| 0.003| 0.002|     0| 0.001|     0| 0.990\r\n",
      "\r\n",
      "\r\n",
      "n = 17\r\n",
      "{i,j}    [1]    [2]    [3]    [4]    [5]    [6]    [7]    [8]    [9]   [10]   [11]   [12]   [13]   [14]   [15]   [16]\r\n",
      "  [1]     0| 0.001|     0| 0.000|     0| 0.001|     0| 0.001| 0.000|     0| 0.002| 0.001|     0| 0.001|     0| 0.993\r\n",
      "\r\n",
      "\r\n",
      "n = 18\r\n",
      "{i,j}    [1]    [2]    [3]    [4]    [5]    [6]    [7]    [8]    [9]   [10]   [11]   [12]   [13]   [14]   [15]   [16]\r\n",
      "  [1]     0| 0.001|     0| 0.000|     0| 0.001|     0| 0.000| 0.000|     0| 0.001| 0.001|     0| 0.001|     0| 0.995\r\n",
      "\r\n",
      "\r\n",
      "n = 19\r\n",
      "{i,j}    [1]    [2]    [3]    [4]    [5]    [6]    [7]    [8]    [9]   [10]   [11]   [12]   [13]   [14]   [15]   [16]\r\n",
      "  [1]     0| 0.001|     0| 0.000|     0| 0.001|     0| 0.000| 0.000|     0| 0.001| 0.001|     0| 0.000|     0| 0.996\r\n",
      "\r\n",
      "\r\n",
      "n = 20\r\n",
      "{i,j}    [1]    [2]    [3]    [4]    [5]    [6]    [7]    [8]    [9]   [10]   [11]   [12]   [13]   [14]   [15]   [16]\r\n",
      "  [1]     0| 0.000|     0| 0.000|     0| 0.000|     0| 0.000| 0.000|     0| 0.001| 0.000|     0| 0.000|     0| 0.997\r\n"
     ]
    }
   ],
   "source": [
    "# Starting at the square=1, how what's the probability of being at any given square after n turns?\n",
    "\n",
    "for n =1:1:20\n",
    "    fprintf(\"\\n\\nn = %d\\n\", n);\n",
    "    newState = initialState*transitionMatrix^n;\n",
    "    displayTransitionMatrix(newState);\n",
    "end\n"
   ]
  },
  {
   "cell_type": "code",
   "execution_count": 11,
   "id": "abdfe610",
   "metadata": {},
   "outputs": [
    {
     "name": "stdout",
     "output_type": "stream",
     "text": [
      "{i,j}    [1]    [2]    [3]    [4]    [5]    [6]    [7]    [8]    [9]   [10]   [11]   [12]   [13]   [14]   [15]   [16]\n",
      "  [1]     0|     0|     0|     0|     0|     0|     0|     1|     0|     0|     0|     0|     0|     0|     0|     0\n",
      "\n",
      "\n",
      "n = 3\n",
      "{i,j}    [1]    [2]    [3]    [4]    [5]    [6]    [7]    [8]    [9]   [10]   [11]   [12]   [13]   [14]   [15]   [16]\n",
      "  [1]     0| 0.074|     0| 0.023|     0| 0.065|     0| 0.032| 0.014|     0| 0.111| 0.074|     0| 0.060|     0| 0.546\n"
     ]
    }
   ],
   "source": [
    "# Starting at the square=8, how what's the probability of being at any given square after n turns?\n",
    "\n",
    "initialState = zeros(1,possibleStateNumber);\n",
    "initialState(1,8) = 1;\n",
    "displayTransitionMatrix(initialState);\n",
    "\n",
    "n = 3;\n",
    "\n",
    "fprintf(\"\\n\\nn = %d\\n\", n);\n",
    "newState = initialState*transitionMatrix^n;\n",
    "displayTransitionMatrix(newState);"
   ]
  },
  {
   "cell_type": "code",
   "execution_count": null,
   "id": "884b91a5",
   "metadata": {},
   "outputs": [],
   "source": []
  }
 ],
 "metadata": {
  "kernelspec": {
   "display_name": "Octave",
   "language": "octave",
   "name": "octave"
  },
  "language_info": {
   "file_extension": ".m",
   "help_links": [
    {
     "text": "GNU Octave",
     "url": "https://www.gnu.org/software/octave/support.html"
    },
    {
     "text": "Octave Kernel",
     "url": "https://github.com/Calysto/octave_kernel"
    },
    {
     "text": "MetaKernel Magics",
     "url": "https://metakernel.readthedocs.io/en/latest/source/README.html"
    }
   ],
   "mimetype": "text/x-octave",
   "name": "octave",
   "version": "5.2.0"
  }
 },
 "nbformat": 4,
 "nbformat_minor": 5
}
