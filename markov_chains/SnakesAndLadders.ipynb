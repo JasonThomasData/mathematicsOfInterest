{
 "cells": [
  {
   "cell_type": "markdown",
   "id": "2ff68e53",
   "metadata": {},
   "source": [
    "This idea is to calculate the probability of different states with a Markov Chain analysis. \n",
    "\n",
    "This will focus on the world's greatest game: Snakes and Ladders.\n"
   ]
  },
  {
   "cell_type": "code",
   "execution_count": 1,
   "id": "26d8acfe",
   "metadata": {},
   "outputs": [
    {
     "name": "stdout",
     "output_type": "stream",
     "text": [
      "transitionMatrix =\r\n",
      "\r\n",
      "   0   0   0   0   0   0   0   0   0   0   0   0   0   0   0   0\r\n",
      "   0   0   0   0   0   0   0   0   0   0   0   0   0   0   0   0\r\n",
      "   0   0   0   0   0   0   0   0   0   0   0   0   0   0   0   0\r\n",
      "   0   0   0   0   0   0   0   0   0   0   0   0   0   0   0   0\r\n",
      "   0   0   0   0   0   0   0   0   0   0   0   0   0   0   0   0\r\n",
      "   0   0   0   0   0   0   0   0   0   0   0   0   0   0   0   0\r\n",
      "   0   0   0   0   0   0   0   0   0   0   0   0   0   0   0   0\r\n",
      "   0   0   0   0   0   0   0   0   0   0   0   0   0   0   0   0\r\n",
      "   0   0   0   0   0   0   0   0   0   0   0   0   0   0   0   0\r\n",
      "   0   0   0   0   0   0   0   0   0   0   0   0   0   0   0   0\r\n",
      "   0   0   0   0   0   0   0   0   0   0   0   0   0   0   0   0\r\n",
      "   0   0   0   0   0   0   0   0   0   0   0   0   0   0   0   0\r\n",
      "   0   0   0   0   0   0   0   0   0   0   0   0   0   0   0   0\r\n",
      "   0   0   0   0   0   0   0   0   0   0   0   0   0   0   0   0\r\n",
      "   0   0   0   0   0   0   0   0   0   0   0   0   0   0   0   0\r\n",
      "   0   0   0   0   0   0   0   0   0   0   0   0   0   0   0   0\r\n",
      "\r\n"
     ]
    }
   ],
   "source": [
    "dieMax = 6; # largest you can roll. The smallest you can roll is 1\n",
    "\n",
    "possibleStateNumber = 16; # This should be a square of some number, like 16,25,36, etc... because the board is square\n",
    "transitionMatrix = zeros(possibleStateNumber, possibleStateNumber);\n",
    "transitionMatrix"
   ]
  },
  {
   "cell_type": "code",
   "execution_count": 2,
   "id": "0dc8de66",
   "metadata": {},
   "outputs": [
    {
     "name": "stdout",
     "output_type": "stream",
     "text": [
      "transitionMatrix =\r\n",
      "\r\n",
      " Columns 1 through 8:\r\n",
      "\r\n",
      "   0.00000   0.16667   0.16667   0.16667   0.16667   0.16667   0.16667   0.00000\r\n",
      "   0.00000   0.00000   0.16667   0.16667   0.16667   0.16667   0.16667   0.16667\r\n",
      "   0.00000   0.00000   0.00000   0.16667   0.16667   0.16667   0.16667   0.16667\r\n",
      "   0.00000   0.00000   0.00000   0.00000   0.16667   0.16667   0.16667   0.16667\r\n",
      "   0.00000   0.00000   0.00000   0.00000   0.00000   0.16667   0.16667   0.16667\r\n",
      "   0.00000   0.00000   0.00000   0.00000   0.00000   0.00000   0.16667   0.16667\r\n",
      "   0.00000   0.00000   0.00000   0.00000   0.00000   0.00000   0.00000   0.16667\r\n",
      "   0.00000   0.00000   0.00000   0.00000   0.00000   0.00000   0.00000   0.00000\r\n",
      "   0.00000   0.00000   0.00000   0.00000   0.00000   0.00000   0.00000   0.00000\r\n",
      "   0.00000   0.00000   0.00000   0.00000   0.00000   0.00000   0.00000   0.00000\r\n",
      "   0.00000   0.00000   0.00000   0.00000   0.00000   0.00000   0.00000   0.00000\r\n",
      "   0.00000   0.00000   0.00000   0.00000   0.00000   0.00000   0.00000   0.00000\r\n",
      "   0.00000   0.00000   0.00000   0.00000   0.00000   0.00000   0.00000   0.00000\r\n",
      "   0.00000   0.00000   0.00000   0.00000   0.00000   0.00000   0.00000   0.00000\r\n",
      "   0.00000   0.00000   0.00000   0.00000   0.00000   0.00000   0.00000   0.00000\r\n",
      "   0.00000   0.00000   0.00000   0.00000   0.00000   0.00000   0.00000   0.00000\r\n",
      "\r\n",
      " Columns 9 through 16:\r\n",
      "\r\n",
      "   0.00000   0.00000   0.00000   0.00000   0.00000   0.00000   0.00000   0.00000\r\n",
      "   0.00000   0.00000   0.00000   0.00000   0.00000   0.00000   0.00000   0.00000\r\n",
      "   0.16667   0.00000   0.00000   0.00000   0.00000   0.00000   0.00000   0.00000\r\n",
      "   0.16667   0.16667   0.00000   0.00000   0.00000   0.00000   0.00000   0.00000\r\n",
      "   0.16667   0.16667   0.16667   0.00000   0.00000   0.00000   0.00000   0.00000\r\n",
      "   0.16667   0.16667   0.16667   0.16667   0.00000   0.00000   0.00000   0.00000\r\n",
      "   0.16667   0.16667   0.16667   0.16667   0.16667   0.00000   0.00000   0.00000\r\n",
      "   0.16667   0.16667   0.16667   0.16667   0.16667   0.16667   0.00000   0.00000\r\n",
      "   0.00000   0.16667   0.16667   0.16667   0.16667   0.16667   0.16667   0.00000\r\n",
      "   0.00000   0.00000   0.16667   0.16667   0.16667   0.16667   0.16667   0.16667\r\n",
      "   0.00000   0.00000   0.00000   0.16667   0.16667   0.16667   0.16667   0.33333\r\n",
      "   0.00000   0.00000   0.00000   0.00000   0.16667   0.16667   0.16667   0.50000\r\n",
      "   0.00000   0.00000   0.00000   0.00000   0.00000   0.16667   0.16667   0.66667\r\n",
      "   0.00000   0.00000   0.00000   0.00000   0.00000   0.00000   0.16667   0.83333\r\n",
      "   0.00000   0.00000   0.00000   0.00000   0.00000   0.00000   0.00000   1.00000\r\n",
      "   0.00000   0.00000   0.00000   0.00000   0.00000   0.00000   0.00000   1.00000\r\n",
      "\r\n"
     ]
    }
   ],
   "source": [
    "# Because players can roll higher than the available spaces then we need to catch those extras and increase the value of the final score\n",
    "# Otherwise, all possibilities should have a score equal to 1/6, or however many sides the die has\n",
    "\n",
    "for i =1:possibleStateNumber\n",
    "    overshootCount = 0;\n",
    "    for j =1+i:dieMax+i\n",
    "        if j > possibleStateNumber\n",
    "            overshootCount = overshootCount + 1;\n",
    "        else\n",
    "            transitionMatrix(i,j) = 1/dieMax;\n",
    "        end\n",
    "    end\n",
    "    if overshootCount > 0\n",
    "        transitionMatrix(i,possibleStateNumber) = transitionMatrix(i,possibleStateNumber) + overshootCount/dieMax;\n",
    "    end\n",
    "end\n",
    "\n",
    "transitionMatrix"
   ]
  },
  {
   "cell_type": "markdown",
   "id": "86b3b9a8",
   "metadata": {},
   "source": [
    "Let's introduce some snakes and ladders\n",
    "\n",
    "These have the same structure, in that they take the player from position 1 and take them to position 2, in the form (1,2)\n",
    "\n",
    "Snakes and ladders can end at the same place, but can't start at the same place. A ladder can't end where a snake starts, and vice-versa.\n",
    "\n",
    "For every state (row) in the transition matrix, replace the probability of the first index with zero, and add the probability to the second index"
   ]
  },
  {
   "cell_type": "code",
   "execution_count": 3,
   "id": "fc0613a1",
   "metadata": {},
   "outputs": [
    {
     "name": "stdout",
     "output_type": "stream",
     "text": [
      "snakes =\r\n",
      "\r\n",
      "   13   11\r\n",
      "   10    6\r\n",
      "   15    2\r\n",
      "\r\n"
     ]
    }
   ],
   "source": [
    "snakes = [\n",
    "    13 11;\n",
    "    10 6;\n",
    "    15 2\n",
    "]"
   ]
  },
  {
   "cell_type": "code",
   "execution_count": 4,
   "id": "8f1cadda",
   "metadata": {},
   "outputs": [
    {
     "name": "stdout",
     "output_type": "stream",
     "text": [
      "ladders =\r\n",
      "\r\n",
      "    3    6\r\n",
      "    7   11\r\n",
      "    5   12\r\n",
      "\r\n"
     ]
    }
   ],
   "source": [
    "ladders = [\n",
    "    3 6;\n",
    "    7 11;\n",
    "    5 12\n",
    "]"
   ]
  },
  {
   "cell_type": "code",
   "execution_count": 5,
   "id": "509a784b",
   "metadata": {},
   "outputs": [
    {
     "name": "stdout",
     "output_type": "stream",
     "text": [
      "snakePenalty =  19\n",
      "ladderReward =  14\n"
     ]
    }
   ],
   "source": [
    "# Are snakes and ladders equal?\n",
    "\n",
    "snakePenalty = 0;\n",
    "for s =1:length(snakes)\n",
    "    snakePenalty = snakePenalty + snakes(s,1) - snakes(s,2);\n",
    "end\n",
    "snakePenalty\n",
    "\n",
    "ladderReward = 0;\n",
    "for l =1:length(ladders)\n",
    "    ladderReward = ladderReward + ladders(l,2) - ladders(l,1);\n",
    "end\n",
    "ladderReward"
   ]
  },
  {
   "cell_type": "code",
   "execution_count": 6,
   "id": "d2bbd812",
   "metadata": {},
   "outputs": [],
   "source": [
    "# Move probabilities from snake head to tail, ladder bottom to top\n",
    "\n",
    "for i =1:length(transitionMatrix)\n",
    "    for s =1:length(snakes)\n",
    "        head = snakes(s, 1);\n",
    "        tail = snakes(s, 2);\n",
    "        probability = transitionMatrix(i, head);\n",
    "        transitionMatrix(i, head) = 0;\n",
    "        transitionMatrix(i, tail) = transitionMatrix(i, tail) + probability;\n",
    "    end\n",
    "    \n",
    "    for l =1:length(ladders)\n",
    "        bottom = snakes(l, 1);\n",
    "        top = snakes(l, 2);\n",
    "        probability = transitionMatrix(i, bottom);\n",
    "        transitionMatrix(i, bottom) = 0;\n",
    "        transitionMatrix(i, top) = transitionMatrix(i, top) + probability;\n",
    "    end\n",
    "end"
   ]
  },
  {
   "cell_type": "code",
   "execution_count": 7,
   "id": "c98398a8",
   "metadata": {},
   "outputs": [
    {
     "name": "stdout",
     "output_type": "stream",
     "text": [
      "transitionMatrix =\r\n",
      "\r\n",
      " Columns 1 through 8:\r\n",
      "\r\n",
      "   0.00000   0.16667   0.16667   0.16667   0.16667   0.16667   0.16667   0.00000\r\n",
      "   0.00000   0.00000   0.16667   0.16667   0.16667   0.16667   0.16667   0.16667\r\n",
      "   0.00000   0.00000   0.00000   0.16667   0.16667   0.16667   0.16667   0.16667\r\n",
      "   0.00000   0.00000   0.00000   0.00000   0.16667   0.33333   0.16667   0.16667\r\n",
      "   0.00000   0.00000   0.00000   0.00000   0.00000   0.33333   0.16667   0.16667\r\n",
      "   0.00000   0.00000   0.00000   0.00000   0.00000   0.16667   0.16667   0.16667\r\n",
      "   0.00000   0.00000   0.00000   0.00000   0.00000   0.16667   0.00000   0.16667\r\n",
      "   0.00000   0.00000   0.00000   0.00000   0.00000   0.16667   0.00000   0.00000\r\n",
      "   0.00000   0.16667   0.00000   0.00000   0.00000   0.16667   0.00000   0.00000\r\n",
      "   0.00000   0.16667   0.00000   0.00000   0.00000   0.00000   0.00000   0.00000\r\n",
      "   0.00000   0.16667   0.00000   0.00000   0.00000   0.00000   0.00000   0.00000\r\n",
      "   0.00000   0.16667   0.00000   0.00000   0.00000   0.00000   0.00000   0.00000\r\n",
      "   0.00000   0.16667   0.00000   0.00000   0.00000   0.00000   0.00000   0.00000\r\n",
      "   0.00000   0.16667   0.00000   0.00000   0.00000   0.00000   0.00000   0.00000\r\n",
      "   0.00000   0.00000   0.00000   0.00000   0.00000   0.00000   0.00000   0.00000\r\n",
      "   0.00000   0.00000   0.00000   0.00000   0.00000   0.00000   0.00000   0.00000\r\n",
      "\r\n",
      " Columns 9 through 16:\r\n",
      "\r\n",
      "   0.00000   0.00000   0.00000   0.00000   0.00000   0.00000   0.00000   0.00000\r\n",
      "   0.00000   0.00000   0.00000   0.00000   0.00000   0.00000   0.00000   0.00000\r\n",
      "   0.16667   0.00000   0.00000   0.00000   0.00000   0.00000   0.00000   0.00000\r\n",
      "   0.16667   0.00000   0.00000   0.00000   0.00000   0.00000   0.00000   0.00000\r\n",
      "   0.16667   0.00000   0.16667   0.00000   0.00000   0.00000   0.00000   0.00000\r\n",
      "   0.16667   0.00000   0.16667   0.16667   0.00000   0.00000   0.00000   0.00000\r\n",
      "   0.16667   0.00000   0.33333   0.16667   0.00000   0.00000   0.00000   0.00000\r\n",
      "   0.16667   0.00000   0.33333   0.16667   0.00000   0.16667   0.00000   0.00000\r\n",
      "   0.00000   0.00000   0.33333   0.16667   0.00000   0.16667   0.00000   0.00000\r\n",
      "   0.00000   0.00000   0.33333   0.16667   0.00000   0.16667   0.00000   0.16667\r\n",
      "   0.00000   0.00000   0.16667   0.16667   0.00000   0.16667   0.00000   0.33333\r\n",
      "   0.00000   0.00000   0.16667   0.00000   0.00000   0.16667   0.00000   0.50000\r\n",
      "   0.00000   0.00000   0.00000   0.00000   0.00000   0.16667   0.00000   0.66667\r\n",
      "   0.00000   0.00000   0.00000   0.00000   0.00000   0.00000   0.00000   0.83333\r\n",
      "   0.00000   0.00000   0.00000   0.00000   0.00000   0.00000   0.00000   1.00000\r\n",
      "   0.00000   0.00000   0.00000   0.00000   0.00000   0.00000   0.00000   1.00000\r\n",
      "\r\n"
     ]
    }
   ],
   "source": [
    "transitionMatrix"
   ]
  },
  {
   "cell_type": "code",
   "execution_count": 8,
   "id": "4fea2611",
   "metadata": {},
   "outputs": [
    {
     "name": "stdout",
     "output_type": "stream",
     "text": [
      "initialState =\r\n",
      "\r\n",
      "   1   0   0   0   0   0   0   0   0   0   0   0   0   0   0   0\r\n",
      "\r\n"
     ]
    }
   ],
   "source": [
    "initialState = zeros(1,possibleStateNumber);\n",
    "initialState(1,1) = 1"
   ]
  },
  {
   "cell_type": "code",
   "execution_count": 9,
   "id": "2f0b843b",
   "metadata": {},
   "outputs": [
    {
     "name": "stdout",
     "output_type": "stream",
     "text": [
      "n =  5\n",
      "ans =\n",
      "\n",
      " Columns 1 through 8:\n",
      "\n",
      "   0.00000   0.07279   0.01530   0.01672   0.01813   0.06096   0.03408   0.04051\n",
      "\n",
      " Columns 9 through 16:\n",
      "\n",
      "   0.03344   0.00000   0.11175   0.06803   0.00000   0.06546   0.00000   0.46283\n",
      "\n"
     ]
    }
   ],
   "source": [
    "# Starting at the square=1, how what's the probability of being at any given square after n turns?\n",
    "\n",
    "n = 5\n",
    "initialState*transitionMatrix^n"
   ]
  },
  {
   "cell_type": "markdown",
   "id": "6091b1cc",
   "metadata": {},
   "source": [
    "### FURTHER IDEA:\n",
    "\n",
    "Is it possible to apply linear programming to this model to optimise it somehow? The more obvious option is to apply a Monte Carlo simulation.\n",
    "\n",
    "objective function:\n",
    "- minimise the number of turns to reach the absorbing state with 0.5 probability\n",
    "\n",
    "Constraints:\n",
    "- limited number of ladders\n",
    "- ladders of limited size\n",
    "- every row in the matrix must add up to 1 to preserve its nature as a transition matrix\n",
    "- every row in the matrix has 6 non-zero numbers\n",
    "- every non-zero number is a multiple of 1/6\n",
    "\n",
    "It seems a bit hard. It might be better to do as a Monte Carlo simulation.\n",
    "\n",
    "There are some obvious questions to pose:\n",
    "- Can you minimise the number of turns to reach the absorbing state by rearranging the snakes and ladders, while keeping the balance between penalty and reward?\n",
    "- Does increasing or decreasing the number of both do anything? In other words, do the penalty and rewards have any material impact on the game other than to make it interesting for children?"
   ]
  },
  {
   "cell_type": "code",
   "execution_count": null,
   "id": "abdfe610",
   "metadata": {},
   "outputs": [],
   "source": []
  }
 ],
 "metadata": {
  "kernelspec": {
   "display_name": "Octave",
   "language": "octave",
   "name": "octave"
  },
  "language_info": {
   "file_extension": ".m",
   "help_links": [
    {
     "text": "GNU Octave",
     "url": "https://www.gnu.org/software/octave/support.html"
    },
    {
     "text": "Octave Kernel",
     "url": "https://github.com/Calysto/octave_kernel"
    },
    {
     "text": "MetaKernel Magics",
     "url": "https://metakernel.readthedocs.io/en/latest/source/README.html"
    }
   ],
   "mimetype": "text/x-octave",
   "name": "octave",
   "version": "5.2.0"
  }
 },
 "nbformat": 4,
 "nbformat_minor": 5
}
