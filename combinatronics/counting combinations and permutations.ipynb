{
 "cells": [
  {
   "cell_type": "markdown",
   "id": "fdb493ca",
   "metadata": {},
   "source": [
    "### Counting permutations and combinations\n",
    "\n",
    "Count permutations when an event has a specific order.\n",
    "\n",
    "Count combinations when there is no specific order for an event.\n",
    "\n",
    "#### Combinations\n",
    "\n",
    "A combination is a set, meaning we don't care about the order of elements. We may wish to find all possible combinations from a sample.\n",
    "\n",
    "Let:\n",
    "\n",
    "$ S $ be the sample\n",
    "\n",
    "$ n $ be the number of elements in the sample\n",
    "\n",
    "$ r $ be the number of elements to choose\n",
    "\n",
    "Then:\n",
    "\n",
    "$ n C r = \\frac{n!}{r!(n - r)!} $"
   ]
  },
  {
   "cell_type": "code",
   "execution_count": 16,
   "id": "4124c9d8",
   "metadata": {},
   "outputs": [
    {
     "name": "stdout",
     "output_type": "stream",
     "text": [
      "n = 12\n",
      "r = 2\n",
      "ans = 66\n",
      "n = 9\n",
      "r = 2\n",
      "ans = 81\n",
      "ans = 0.045455\n"
     ]
    }
   ],
   "source": [
    "n = 12\n",
    "r = 2\n",
    "\n",
    "factorial(n)/(factorial(r)*factorial(n-r))\n",
    "\n",
    "n = 9\n",
    "r = 2\n",
    "\n",
    "(factorial(9)/(factorial(r)*factorial(9-r))) + (factorial(10)/(factorial(r)*factorial(10-r)))\n",
    "\n",
    "\n",
    "(factorial(3)/(factorial(r)*factorial(3-r))) / (factorial(12)/(factorial(r)*factorial(12-r)))\n"
   ]
  },
  {
   "cell_type": "markdown",
   "id": "a62ad530",
   "metadata": {},
   "source": [
    "#### Permutations\n",
    "\n",
    "Given a set, a permutation is the set given the property of order. A set can be permuted to obtain an ordered collection or a sequence\n",
    "\n",
    "$ n P r = \\frac{n!}{(n - r)!} $"
   ]
  },
  {
   "cell_type": "code",
   "execution_count": 5,
   "id": "0a53a3f1",
   "metadata": {},
   "outputs": [
    {
     "name": "stdout",
     "output_type": "stream",
     "text": [
      "n = 10\n",
      "r = 2\n",
      "ans = 90\n"
     ]
    }
   ],
   "source": [
    "n = 10\n",
    "r = 2\n",
    "\n",
    "factorial(n)/factorial(n-r)"
   ]
  },
  {
   "cell_type": "markdown",
   "id": "0489317b",
   "metadata": {},
   "source": [
    "#### Derivation of permutation formula\n",
    "\n",
    "Let there be 4 varieties of icecream:\n",
    "\n",
    "$ I = {1,2,3,4} $\n",
    "\n",
    "$ n = 4 $ varieties\n",
    "\n",
    "If we were allowed to allocate 4 people each 4 icecreams, including any variety to more than one person, then there are $ n^n $ possible ways to do it  \n",
    "\n",
    "But let's stipulate that we have only one of each icecream. The number of possible ways to allocate one icecream to each is: $ n! $\n",
    "\n",
    "The factorial is sensible because each time you allocate an icecream then the pool of icecreams to allocate shrinks by 1.\n",
    "\n",
    "Let's now say that there are 2 people who each want an icecream, from 4 available icecreams that are different varieties:\n",
    "\n",
    "$ r = 2 $ is the number of choices to make\n",
    "\n",
    "Then we must reduce the $ 4! $ by the number of choices that won't be made. This reduction is: $ (n - r)! $\n",
    "\n",
    "Then this is:\n",
    "\n",
    "$ n P r = \\frac{n!}{(n - r)!} $\n",
    "\n",
    "Eg:\n",
    "\n",
    "$\\frac{4*3*2*1}{(4-2)!}$\n",
    "\n",
    "$\\frac{4*3*2*1}{2!}$\n",
    "\n",
    "$\\frac{4*3*2*1}{2*1}$\n",
    "\n",
    "$ 4*3 = 12 $ is the possible number of permutations"
   ]
  }
 ],
 "metadata": {
  "kernelspec": {
   "display_name": "Octave",
   "language": "octave",
   "name": "octave"
  },
  "language_info": {
   "file_extension": ".m",
   "help_links": [
    {
     "text": "GNU Octave",
     "url": "https://www.gnu.org/software/octave/support.html"
    },
    {
     "text": "Octave Kernel",
     "url": "https://github.com/Calysto/octave_kernel"
    },
    {
     "text": "MetaKernel Magics",
     "url": "https://metakernel.readthedocs.io/en/latest/source/README.html"
    }
   ],
   "mimetype": "text/x-octave",
   "name": "octave",
   "version": "6.4.0"
  }
 },
 "nbformat": 4,
 "nbformat_minor": 5
}
