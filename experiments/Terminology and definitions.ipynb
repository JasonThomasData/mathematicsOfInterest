{
 "cells": [
  {
   "cell_type": "markdown",
   "id": "1c8c6d6b",
   "metadata": {},
   "source": [
    "### Design of experiments (DOX)\n",
    "\n",
    "This is obviously not maths. More science, or perhaps applied maths\n",
    "\n",
    "An experiment is a test or series of tests.\n",
    "\n",
    "Basically, there are experiments that are designed well and those that are not. We want to apply principles so that experiments are designed well.\n"
   ]
  },
  {
   "cell_type": "markdown",
   "id": "37e5c71c",
   "metadata": {},
   "source": [
    "### Basic principles of DOX\n",
    "\n",
    "- Randomization\n",
    "    - Trials in the experiment should be in random order\n",
    "    - Balancing the effects of \"lurking\" variables\n",
    "- Replication\n",
    "    - Improves accuracy estimation (confidence)\n",
    "    - Replication vs repeat measurements\n",
    "- Blocking\n",
    "    - Of nuisance variables\n",
    "    \n",
    "### Strategy of experimentation\n",
    "\n",
    "- Best Guess\n",
    "    - the analyst guesses what they need to test first\\\n",
    "    - No gaurantee for a good result\n",
    "    - Common and often successful\n",
    "- One-Factor-At-A-Time\n",
    "    - associated with science and engineering\n",
    "    - very inefficient often\n",
    "- Statistically-designed experiments\n",
    "\n",
    "### Terminology of experiments\n",
    "\n",
    "- Response variable - the measured outcome\n",
    "- Factors - deliberate and controllable changes to record the response\n",
    "- Levels of a factor - conditions of a factor, eg variable \"height\" might have levels \"short\", \"tall\"\n",
    "- Main Effect - the effect of an independent variable on a dependent variable averaged across all levels\n",
    "- Treatments - combinations of all factors\n",
    "- Experimental units - units for which the response is measured\n",
    "- Background/blocking variable - of no interest but needs to be controlled\n",
    "- Random error - uncontrollable variation of response\n",
    "- Design matrix - a selected set of treatments"
   ]
  },
  {
   "cell_type": "markdown",
   "id": "e1584fad",
   "metadata": {},
   "source": [
    "### Factorial Design\n",
    "\n",
    "There should be at least two independent variables for this to work. This is powerful for deciding if two variables have some interaction.\n",
    "\n",
    "All possible combinations of variables are tested in this approach. For example if two variables have 2 and 3 factors respectively, then the number of combinations will be $ 2*3 = 6 $.\n",
    "\n",
    "In the below diagram, we have two variables: $ A,B $.\n",
    "\n",
    "The estimate for the effect of $ A $ is clearly in the middle of all $ Z $. So therefore $ Z_1, Z_3 $ are on the negative side of the average, relatively.\n",
    "\n",
    "The estimate for $ A $ is $ \\frac{-(Z_1+Z_3)}{2} + \\frac{(Z_2+Z_4)}{2} = \\frac{(Z_2+Z_4)-(Z_1+Z_3)}{2} $\n",
    "\n",
    "![factorial design 1](factorialDesign2.png)"
   ]
  },
  {
   "cell_type": "markdown",
   "id": "72541e3b",
   "metadata": {},
   "source": [
    "In the next example there is a similar arrangement but each level of each factor has an extra observation. In this case:\n",
    "\n",
    "$ \\frac{-(Z_1+Z_2+Z_3+Z_4)}{2} + \\frac{(Z_5+Z_6+Z_7+Z_8)}{2} = \\frac{(Z_5+Z_6+Z_7+Z_8)-(Z_1+Z_2+Z_3+Z_4)}{2} $\n",
    "\n",
    "![factorial design 3](factorial3.png)"
   ]
  },
  {
   "cell_type": "markdown",
   "id": "8e301a6d",
   "metadata": {},
   "source": [
    "The dependent variable in both diagrams is not shown.\n",
    "\n",
    "### Example using Main Effect\n",
    "\n",
    "|     |       |     |   X    |      |      |\n",
    "|-----|:------|-----|--------|------|------|\n",
    "|     | ----- | Low | Medium | High | Mean |\n",
    "|__Y__| True  | 50  | 70     | 90   | 70   |\n",
    "|     | False | 80  | 100    | 120  | 100  |\n",
    "|     | Mean  | 65  | 85     | 105  | ---- |\n",
    "\n",
    "The mean values here for each variable are the averages of all factors.\n",
    "\n",
    "The Main Effect of `False` is the difference between its mean value and the mean value of `True`, which is 30. To see if there's interaction here, check if the difference between levels for any of the variables `Low`, `Medium` or `High` are significantly different.\n",
    "\n",
    "Another way to think about that is visually. \n",
    "\n",
    "_Note: to test for an actual relationship, use a Chi-Square or Fisher test (I think, yet to do myself)._\n"
   ]
  },
  {
   "cell_type": "code",
   "execution_count": 6,
   "id": "69d43df3",
   "metadata": {},
   "outputs": [
    {
     "data": {
      "image/png": "[encoded data removed]",
      "text/plain": [
       "<IPython.core.display.Image object>"
      ]
     },
     "metadata": {},
     "output_type": "display_data"
    }
   ],
   "source": [
    "Y_true = [50 70 90];\n",
    "Y_false = [80 100 120];\n",
    "X = [1,2,3];\n",
    "plot(X, Y_true);\n",
    "hold on;\n",
    "plot(X, Y_false);"
   ]
  },
  {
   "cell_type": "markdown",
   "id": "307177fe",
   "metadata": {},
   "source": [
    "With parralel lines we can conclude that these factors have no interaction.\n",
    "\n",
    "The following experiment does have interaction:\n",
    "\n",
    "|     |       |     |   X    |      |      |\n",
    "|-----|:------|-----|--------|------|------|\n",
    "|     | ----- | Low | Medium | High | Mean |\n",
    "|__Y__| True  | 50  | 70     | 90   | 70   |\n",
    "|     | False | 90  | 100    | 110  | 100  |\n",
    "|     | Mean  | 70  | 85     | 100  | ---- |\n",
    "\n",
    "The main effect on the right hand side, which I'm not sure if is the Main Effect of X or Y, is still 30. Does this explain the difference between every level of Y? We can see that when X=Low, then the level is $ 90-50 > 30 $, so we can conclude there's some interaction there.\n",
    "\n",
    "To see it visually:"
   ]
  },
  {
   "cell_type": "code",
   "execution_count": 7,
   "id": "cfb68c61",
   "metadata": {},
   "outputs": [
    {
     "data": {
      "image/png": "[encoded data removed]",
      "text/plain": [
       "<IPython.core.display.Image object>"
      ]
     },
     "metadata": {},
     "output_type": "display_data"
    }
   ],
   "source": [
    "Y_true = [50 70 90];\n",
    "Y_false = [90 100 110];\n",
    "X = [1,2,3];\n",
    "plot(X, Y_true);\n",
    "hold on;\n",
    "plot(X, Y_false);"
   ]
  },
  {
   "cell_type": "markdown",
   "id": "99793ac2",
   "metadata": {},
   "source": [
    "### Evaluating experiment design\n",
    "\n",
    "This [video](https://youtu.be/yO1c8h66IPo?t=183) explains the importance of:\n",
    "- random samples\n",
    "- random experiment design\n",
    "\n",
    "![effect of data and experiment](randomSamples.png)"
   ]
  },
  {
   "cell_type": "markdown",
   "id": "654b5157",
   "metadata": {},
   "source": [
    "First consider this [system model](https://www.researchgate.net/figure/General-model-of-a-process-or-system-9-Slika-1-Sploni-model-procesa-ali-sistema-9_fig1_317679846)\n",
    "\n",
    "![pic of model](generalProcessModel.jpeg)"
   ]
  },
  {
   "cell_type": "code",
   "execution_count": null,
   "id": "b54d64ca",
   "metadata": {},
   "outputs": [],
   "source": [
    "Then the "
   ]
  }
 ],
 "metadata": {
  "kernelspec": {
   "display_name": "Octave",
   "language": "octave",
   "name": "octave"
  },
  "language_info": {
   "file_extension": ".m",
   "help_links": [
    {
     "text": "GNU Octave",
     "url": "https://www.gnu.org/software/octave/support.html"
    },
    {
     "text": "Octave Kernel",
     "url": "https://github.com/Calysto/octave_kernel"
    },
    {
     "text": "MetaKernel Magics",
     "url": "https://metakernel.readthedocs.io/en/latest/source/README.html"
    }
   ],
   "mimetype": "text/x-octave",
   "name": "octave",
   "version": "5.2.0"
  }
 },
 "nbformat": 4,
 "nbformat_minor": 5
}
