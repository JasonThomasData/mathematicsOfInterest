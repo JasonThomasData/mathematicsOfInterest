{
 "cells": [
  {
   "cell_type": "markdown",
   "id": "454c2416",
   "metadata": {},
   "source": [
    "I have a goal to memorise each of these. If I forget one then I should make an effort to re-learn.\n",
    "The items under Proofs and Techniques are those that I can do without looking at a reference\n",
    "\n",
    "### Proofs\n",
    "\n",
    "- Cantor's diagonal argument\n",
    "- Fundamental Theorem of Calculus \n",
    "- Euler's Identity, derivation using Taylor expansion\n",
    "- Euler's proof for the Bridges of Konigsberg\n",
    "- Euler's theorem for counting edges, vertices and faces\n",
    "- Pythagorus' Theorem\n",
    "- Bayes' Theorem\n",
    "- Infinite repeating decimals are rational (by Analysis, and by algebraic techniques)\n",
    "- $ \\sqrt{2} $ is irrational\n",
    "- $ n^2 $ is even implies $ n $ is even (contrapositive)\n",
    "- Monty Hall problem\n",
    "- Fermat's Theorem (about max and min points)\n",
    "\n",
    "### Proofs to memorise\n",
    "\n",
    "- Shoelace formula\n",
    "- Niven's proof that $ \\pi $ is irrational\n",
    "- Denumerability of Algebraics\n",
    "- Infinitude of primes (Euclid's proof)\n",
    "- Binomial Theorem by induction\n",
    "- Cantor's Theorem (no surjection of A to P(A))\n",
    "- $ \\int_{-\\infty}^\\infty e^{-x^2} dx = \\sqrt{\\pi}$, Poisson\n",
    "- 1+1=2 by the Peano Axioms (or, at least understanding why it's hard)\n",
    "- Pick's Theorem\n",
    "- Derivation of $ \\gamma $ function\n",
    "- Issues with Ramanujan's result of $-\\frac{1}{12} $, why it's not accepted\n",
    "- Monty Hall problem (be able to explain it clearly and convincingly)\n",
    "- Buffon's Needle Problem\n",
    "- Euclid's proof for Triangle Inequality\n",
    "\n",
    "### Methods\n",
    "- Gauss formula $ n\\frac{n-1}{2} $\n",
    "- Complete the square, deriving the quadratic formula\n",
    "- Euler's method (runge kutta)\n",
    "- Newton's Method\n",
    "- Linearisation\n",
    "- Telescoping sums\n",
    "- Triangle inequality, reverse triangle inequality\n",
    "- Prime factor decomposition\n",
    "- Difference of squares\n",
    "- All the trig identities, if possible\n",
    "- Thinking about the unit circle\n",
    "- Using Hessian matrices\n",
    "- Proof of set equality by double containment\n",
    "- Chain rule for partial derivatives\n",
    "- Transitivity of equivalence relations\n",
    "\n",
    "### Methods to memorise\n",
    "\n",
    "- Partial fraction decomposition\n",
    "- Finding eigenvectors"
   ]
  },
  {
   "cell_type": "code",
   "execution_count": null,
   "id": "eb4bfea0",
   "metadata": {},
   "outputs": [],
   "source": []
  }
 ],
 "metadata": {
  "kernelspec": {
   "display_name": "Octave",
   "language": "octave",
   "name": "octave"
  },
  "language_info": {
   "file_extension": ".m",
   "help_links": [
    {
     "text": "GNU Octave",
     "url": "https://www.gnu.org/software/octave/support.html"
    },
    {
     "text": "Octave Kernel",
     "url": "https://github.com/Calysto/octave_kernel"
    },
    {
     "text": "MetaKernel Magics",
     "url": "https://metakernel.readthedocs.io/en/latest/source/README.html"
    }
   ],
   "mimetype": "text/x-octave",
   "name": "octave",
   "version": "6.4.0"
  }
 },
 "nbformat": 4,
 "nbformat_minor": 5
}
