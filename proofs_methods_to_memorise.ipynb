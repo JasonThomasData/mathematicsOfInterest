{
 "cells": [
  {
   "cell_type": "markdown",
   "id": "454c2416",
   "metadata": {},
   "source": [
    "I have a goal to memorise each of these. If I forget one then I should make an effort to re-learn.\n",
    "The items under Proofs and Techniques are those that I can do without looking at a reference\n",
    "\n",
    "### Proofs memorised\n",
    "\n",
    "- Euler's characteristic $ V - E + F = 2 $ , proof by reduction\n",
    "- Pythagorus' Theorem\n",
    "- Bayes' Theorem\n",
    "- Infinite repeating decimals are rational (by Analysis and by algebraic techniques)\n",
    "- $ \\sqrt{2} $ is irrational\n",
    "- $ n^2 $ is even implies $ n $ is even (proof by contrapositive)\n",
    "- Cantor's diagonal argument\n",
    "- Fundamental Theorem of Calculus \n",
    "- Euler's Identity, derivation using Taylor expansion\n",
    "- Euler's proof for the Bridges of Konigsberg\n",
    "- Monty Hall problem\n",
    "- Bertrand's boxes\n",
    "- Fermat's Theorem (about stationary points)\n",
    "- Derivation of quadratic formula\n",
    "\n",
    "### Proofs to memorise\n",
    "\n",
    "- Derivation of $ \\gamma $ function\n",
    "- Euclid's proof for Triangle Inequality\n",
    "- Extreme Value Theorem $ \\to $ Rolle's Theorem $ \\to $ Mean Value Theorem \n",
    "- Taylor's Theorem\n",
    "- Proof that led to use of Markov Chains\n",
    "- $ \\pi $ is irrational\n",
    "- Infinitude of primes (Euclid's proof)\n",
    "- Binomial Theorem by induction\n",
    "- 1+1=2 by the Peano Axioms (or, at least understanding why it's hard)\n",
    "- Issues with Ramanujan's result of $-\\frac{1}{12} $, why it's not accepted\n",
    "- Buffon's Needle Problem\n",
    "- Denumerability of Algebraics\n",
    "- $ \\int_{-\\infty}^\\infty e^{-x^2} dx = \\sqrt{\\pi}$, Poisson\n",
    "- Pick's Theorem\n",
    "- Cantor's Theorem (no surjection of A to P(A))\n",
    "- Shoelace formula\n",
    "\n",
    "### Methods\n",
    "- Gauss formula $ n\\frac{n-1}{2} $\n",
    "- Euler's method (runge kutta)\n",
    "- Newton's Method\n",
    "- Linearisation\n",
    "- Telescoping sums\n",
    "- Triangle inequality, reverse triangle inequality\n",
    "- Prime factor decomposition\n",
    "- Difference of squares\n",
    "- All the trig identities, if possible\n",
    "- Thinking about the unit circle\n",
    "- Using Hessian matrices\n",
    "- Proof of set equality by double containment\n",
    "- Chain rule for partial derivatives\n",
    "- Transitivity of equivalence relations\n",
    "\n",
    "### Methods to memorise\n",
    "\n",
    "- Partial fraction decomposition\n",
    "- Finding eigenvectors"
   ]
  },
  {
   "cell_type": "code",
   "execution_count": null,
   "id": "eb4bfea0",
   "metadata": {},
   "outputs": [],
   "source": []
  }
 ],
 "metadata": {
  "kernelspec": {
   "display_name": "Octave",
   "language": "octave",
   "name": "octave"
  },
  "language_info": {
   "file_extension": ".m",
   "help_links": [
    {
     "text": "GNU Octave",
     "url": "https://www.gnu.org/software/octave/support.html"
    },
    {
     "text": "Octave Kernel",
     "url": "https://github.com/Calysto/octave_kernel"
    },
    {
     "text": "MetaKernel Magics",
     "url": "https://metakernel.readthedocs.io/en/latest/source/README.html"
    }
   ],
   "mimetype": "text/x-octave",
   "name": "octave",
   "version": "6.4.0"
  }
 },
 "nbformat": 4,
 "nbformat_minor": 5
}
