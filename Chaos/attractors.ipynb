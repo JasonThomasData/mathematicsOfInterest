{
 "cells": [
  {
   "cell_type": "markdown",
   "id": "8a90c74c",
   "metadata": {},
   "source": [
    "I became interested in \"attractors\" after reading an article by Douglas Hofstadter on the subject. https://www.scientificamerican.com/article/metamagical-themas-1981-11/\n",
    "\n",
    "Given a function, what happens when the return value is fed back into the function iteratively? What will emerge are points in the graph that are attractors."
   ]
  },
  {
   "cell_type": "code",
   "execution_count": null,
   "id": "139f68f9",
   "metadata": {},
   "outputs": [],
   "source": [
    "import numpy as np\n",
    "import matplotlib.pyplot as plt\n",
    "from matplotlib import animation"
   ]
  },
  {
   "cell_type": "code",
   "execution_count": null,
   "id": "d179ea5c",
   "metadata": {},
   "outputs": [],
   "source": [
    "height = .72 # Because lambda is a keyword in Python\n",
    "seed = 0.75;\n",
    "period_limit = 2000;"
   ]
  },
  {
   "cell_type": "code",
   "execution_count": null,
   "id": "6be07e38",
   "metadata": {},
   "outputs": [],
   "source": [
    "def func_initial(x, height):\n",
    "    return 4*(-height*x**2 + height*x); # cx^2 + cx^1 where c = 4*lambda, will return a parabola within the unit square and height of lambda\n",
    "\n",
    "def func_1st_iterate(x, height):\n",
    "    return func_initial(func_initial(x, height), height)\n",
    "\n",
    "def func_2nd_iterate(x, height):\n",
    "    return func_initial(func_initial(func_initial(x, height), height), height)\n",
    "\n",
    "def func_3rd_iterate(x, height):\n",
    "    return func_initial(func_initial(func_initial(func_initial(x, height), height), height), height)"
   ]
  },
  {
   "cell_type": "code",
   "execution_count": null,
   "id": "23beac15",
   "metadata": {},
   "outputs": [],
   "source": [
    "def generate_paths(seed, height, func, period_limit):\n",
    "    series = [seed];\n",
    "\n",
    "    # x_star is the non-zero limit that a function will approach, depending on the initial lambda value\n",
    "    x_star = None\n",
    "\n",
    "    for i in range(0, period_limit):\n",
    "        x = series[-1]\n",
    "        y = func(x, height)\n",
    "        if i < period_limit:\n",
    "            series.append(y)\n",
    "        if np.isclose(x, y, rtol=1e-04):\n",
    "            # This will detect a cycle that approaches a single stable point, but no more than one.\n",
    "            print(\"{0} and {1} are very similar after {2} iterations\".format(x, y, i))\n",
    "            x_star = x\n",
    "            print(\"x* is roughly {0:.4f}\".format(x_star))\n",
    "            break\n",
    "    \n",
    "    return (series, x_star)"
   ]
  },
  {
   "cell_type": "code",
   "execution_count": null,
   "id": "5ae92848",
   "metadata": {},
   "outputs": [],
   "source": [
    "def draw_graph(series, x_star, height, func):\n",
    "    x_limits = (0, 1)\n",
    "    y_limits = (0, 1)\n",
    "\n",
    "    x = np.linspace(0,1,1000)\n",
    "    y = func(x, height)\n",
    "\n",
    "    fig = plt.figure(figsize=(10,10))\n",
    "    ax1 = plt.subplot(1,1,1)\n",
    "    ax1.set_xlim(x_limits)\n",
    "    ax1.set_ylim(y_limits)\n",
    "    ax1.set_xlabel('x')\n",
    "    ax1.set_ylabel('y')\n",
    "\n",
    "    lambda_line, = ax1.plot([0, 1], [height, height], \"--\", label=\"lambda\", lw=1)\n",
    "    forty_five_degree_line, = ax1.plot([0, 1], [0, 1], \"--\", label=\"transpose fold\", lw=1)\n",
    "    func_line, = ax1.plot(x, y, label=\"f(x)\")\n",
    "    if x_star is not None:\n",
    "        x_star_line, = ax1.plot([x_star, x_star], [0, func(x_star, height)], \"-.\", label=\"x*\", lw=1)\n",
    "\n",
    "    plt.legend()\n",
    "\n",
    "    for i in range(0, len(series)-1):\n",
    "        if i == 0:\n",
    "            ax1.plot([series[i], series[i]], [0, series[i+1]], color='black', alpha=0.8, lw=0.6)\n",
    "        else:\n",
    "            ax1.plot([series[i], series[i]], [series[i], series[i+1]], color='black', alpha=0.8, lw=0.6)\n",
    "\n",
    "        ax1.plot([series[i], series[i+1]], [series[i+1], series[i+1]], color='black', alpha=0.8, lw=0.6)"
   ]
  },
  {
   "cell_type": "markdown",
   "id": "f255fb4b",
   "metadata": {},
   "source": [
    "### Initial function"
   ]
  },
  {
   "cell_type": "code",
   "execution_count": null,
   "id": "9bbdaef8",
   "metadata": {},
   "outputs": [],
   "source": [
    "(series, x_star) = generate_paths(seed, height, func_initial, period_limit)\n",
    "draw_graph(series, x_star, height, func_initial)"
   ]
  },
  {
   "cell_type": "markdown",
   "id": "bed16293",
   "metadata": {},
   "source": [
    "### First iterate"
   ]
  },
  {
   "cell_type": "code",
   "execution_count": null,
   "id": "84637a41",
   "metadata": {},
   "outputs": [],
   "source": [
    "(series, x_star) = generate_paths(seed, height, func_1st_iterate, period_limit)\n",
    "draw_graph(series, x_star, height, func_1st_iterate)"
   ]
  },
  {
   "cell_type": "markdown",
   "id": "ec8f1314",
   "metadata": {},
   "source": [
    "### Second iterate"
   ]
  },
  {
   "cell_type": "code",
   "execution_count": null,
   "id": "df631402",
   "metadata": {},
   "outputs": [],
   "source": [
    "(series, x_star) = generate_paths(seed, height, func_2nd_iterate, period_limit)\n",
    "draw_graph(series, x_star, height, func_2nd_iterate)"
   ]
  },
  {
   "cell_type": "markdown",
   "id": "05b9b436",
   "metadata": {},
   "source": [
    "### Third iterate"
   ]
  },
  {
   "cell_type": "code",
   "execution_count": null,
   "id": "ec6168e7",
   "metadata": {},
   "outputs": [],
   "source": [
    "(series, x_star) = generate_paths(seed, height, func_3rd_iterate, period_limit)\n",
    "draw_graph(series, x_star, height, func_3rd_iterate)"
   ]
  }
 ],
 "metadata": {
  "kernelspec": {
   "display_name": "Python 3 (ipykernel)",
   "language": "python",
   "name": "python3"
  },
  "language_info": {
   "codemirror_mode": {
    "name": "ipython",
    "version": 3
   },
   "file_extension": ".py",
   "mimetype": "text/x-python",
   "name": "python",
   "nbconvert_exporter": "python",
   "pygments_lexer": "ipython3",
   "version": "3.8.10"
  }
 },
 "nbformat": 4,
 "nbformat_minor": 5
}
