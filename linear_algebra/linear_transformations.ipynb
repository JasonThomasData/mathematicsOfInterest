{
 "cells": [
  {
   "cell_type": "markdown",
   "id": "c2a68e64",
   "metadata": {},
   "source": [
    "### Linear transformations\n",
    "\n",
    "Transformations are functions. They map one linear space onto another linear space, with some rules to adhere to.\n",
    "\n",
    "$ X_2(R), Y_2(R) $\n",
    "\n",
    "$ \\alpha, \\beta \\in R $\n",
    "\n",
    "$ T(\\alpha X) + T(\\beta Y) = \\alpha T(X) + \\beta T(Y) $\n",
    "\n",
    "This looks suspiciously like multiplication.\n",
    "\n",
    "They also observe the distributive law:\n",
    "\n",
    "$ T(X + Y) = T(X) + T(Y) $\n",
    "\n",
    "This gives us an idea that a transformation is a matrix multiplication.\n",
    "\n",
    "\n",
    "\n",
    "_bijective, or one-to-one, transformations_\n",
    "\n",
    "$ X = Y \\rightarrow T(X) = T(Y) $\n",
    "\n",
    "$ X \\ne Y \\rightarrow T(X) \\ne T(Y) $\n",
    "\n",
    "$ T(X) = T(Y) \\rightarrow X = Y $\n",
    "\n",
    "$ T(X) \\ne T(Y) \\rightarrow X \\ne Y $"
   ]
  },
  {
   "cell_type": "markdown",
   "id": "8318ed64",
   "metadata": {},
   "source": [
    "### Example for testing if a transformation is a linear transformation\n",
    "\n",
    "To prove a transformation is not linear, a single example might suffice. To prove it is a transformation, we need to show it's linear for every pair of vectors in the given linear space\n",
    "\n",
    "This is a transformation that takes a vector of three elements and reduces it to a vector of two.\n",
    "\n",
    "$ T (a, b, c) = (a^2 , 2b + c) $\n",
    "\n",
    "$ V_3(R): X, Y \\in V$\n",
    "\n",
    "$ T(X) = (x_1^2, 2x_2 + x_3) $\n",
    "\n",
    "$ T(Y) = (y_1^2, 2y_2 + y_3) $\n",
    "\n",
    "Then $ T(X) + T(Y) = (x_1^2 + 2x_2 + x_3) +  (y_1^2 + 2y_2 + y_3) = (x_1^2 + y_1^2, 2x_2 + 2y_2 + x_3 + y_3) $\n",
    "\n",
    "But, $ T + Y = (x_1,x_2,x_3) + (y_1,y_2,y_3) = (x_1 + y_1, x_2 + y_2, x_3 + y_3) $\n",
    "\n",
    "Then $ T(X + Y) = ((x_1 + y_1)^2, 2x_2 + 2y_2 + x_3 + y_3) $\n",
    "\n",
    "$\\therefore T (a, b, c) = (a 2 , 2b + c) $ is not linear"
   ]
  },
  {
   "cell_type": "code",
   "execution_count": null,
   "id": "92ccb831",
   "metadata": {},
   "outputs": [],
   "source": []
  }
 ],
 "metadata": {
  "kernelspec": {
   "display_name": "Octave",
   "language": "octave",
   "name": "octave"
  },
  "language_info": {
   "file_extension": ".m",
   "help_links": [
    {
     "text": "GNU Octave",
     "url": "https://www.gnu.org/software/octave/support.html"
    },
    {
     "text": "Octave Kernel",
     "url": "https://github.com/Calysto/octave_kernel"
    },
    {
     "text": "MetaKernel Magics",
     "url": "https://metakernel.readthedocs.io/en/latest/source/README.html"
    }
   ],
   "mimetype": "text/x-octave",
   "name": "octave",
   "version": "5.2.0"
  }
 },
 "nbformat": 4,
 "nbformat_minor": 5
}
