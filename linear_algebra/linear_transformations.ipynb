{
 "cells": [
  {
   "cell_type": "markdown",
   "id": "c2a68e64",
   "metadata": {},
   "source": [
    "### Linear transformations\n",
    "\n",
    "Transformations are functions. They map one linear space onto another linear space, with some rules to adhere to.\n",
    "\n",
    "$ X_2(R), Y_2(R) $\n",
    "\n",
    "$ \\alpha, \\beta \\in R $\n",
    "\n",
    "$ T(\\alpha X) + T(\\beta Y) = \\alpha T(X) + \\beta T(Y) $\n",
    "\n",
    "This looks suspiciously like multiplication.\n",
    "\n",
    "They also observe the distributive law:\n",
    "\n",
    "$ T(X + Y) = T(X) + T(Y) $\n",
    "\n",
    "This gives us an idea that a transformation is a matrix multiplication.\n",
    "\n",
    "#### Surjective (onto) transformations\n",
    "\n",
    "$ X = Y \\rightarrow T(X) = T(Y) $\n",
    "\n",
    "$ X \\ne Y \\not \\rightarrow T(X) \\ne T(Y) $\n",
    "\n",
    "Meaning that several original linear systems in the domain might map to the same system in the codomain. This also means that every element of the comdomain will have a mapping in the domian.\n",
    "\n",
    "\n",
    "#### Injective, or one-to-one, transformations\n",
    "\n",
    "$ T(X) = T(Y) \\rightarrow X = Y $\n",
    "\n",
    "$ T(X) \\ne T(Y) \\rightarrow X \\ne Y $\n",
    "\n",
    "The above looks wrong but is not a negation. This is due to the definition for a function that says the same element in the domain cannot map to two different elements in the codomain. This means that every element in the codomain will be mapped to at most once.\n",
    "\n",
    "#### Bijective transformations\n",
    "\n",
    "$ X = Y \\rightarrow T(X) = T(Y) $\n",
    "\n",
    "$ X \\ne Y \\rightarrow T(X) \\ne T(Y) $\n",
    "\n",
    "$ T(X) = T(Y) \\rightarrow X = Y $\n",
    "\n",
    "$ T(X) \\ne T(Y) \\rightarrow X \\ne Y $\n"
   ]
  },
  {
   "cell_type": "markdown",
   "id": "8318ed64",
   "metadata": {},
   "source": [
    "### Testing if a transformation is a linear transformation"
   ]
  },
  {
   "cell_type": "markdown",
   "id": "9d1c9588",
   "metadata": {},
   "source": [
    "#### Not linear\n",
    "\n",
    "To prove a transformation is not linear, a single example might suffice. To prove it is a transformation, we need to show it's linear for every pair of vectors in the given linear space\n",
    "\n",
    "This is a transformation that takes a vector of three elements and reduces it to a vector of two.\n",
    "\n",
    "$ T (a, b, c) = (a^2 , 2b + c) $\n",
    "\n",
    "$ R^3(R): X, Y \\in R^3$\n",
    "\n",
    "$ T(X) = (x_1^2, 2x_2 + x_3) $\n",
    "\n",
    "$ T(Y) = (y_1^2, 2y_2 + y_3) $\n",
    "\n",
    "Then $ T(X) + T(Y) = (x_1^2 + 2x_2 + x_3) +  (y_1^2 + 2y_2 + y_3) = (x_1^2 + y_1^2, 2x_2 + 2y_2 + x_3 + y_3) $\n",
    "\n",
    "But, $ T + Y = (x_1,x_2,x_3) + (y_1,y_2,y_3) = (x_1 + y_1, x_2 + y_2, x_3 + y_3) $\n",
    "\n",
    "Then $ T(X + Y) = ((x_1 + y_1)^2, 2x_2 + 2y_2 + x_3 + y_3) $\n",
    "\n",
    "$\\therefore T (a, b, c) = (a 2 , 2b + c) $ is not linear\n"
   ]
  },
  {
   "cell_type": "markdown",
   "id": "2f45cb8f",
   "metadata": {},
   "source": [
    "#### Linear\n",
    "\n",
    "This is another transformation that takes a vector of three elements and reduces it to a vector of two.\n",
    "\n",
    "$ T(a, bc) = (2a + b, a - 3b) $\n",
    "\n",
    "$ R^3(R): X, Y \\in R^3$\n",
    "\n",
    "$ T(X) = (2x_1 + x_2, x_1 - 3x_2) $\n",
    "\n",
    "$ T(Y) = (2y_1 + y_2, y_1 - 3y_2) $\n",
    "\n",
    "$ T(X) + T(Y) = (2x_1 + x_2, x_1 - 3x_2) + (2y_1 + y_2, y_1 - 3y_2) = (2x_1 + x_2 + 2y_1 + y_2, x_1 - 3x_2 + y_1 - 3y_2) $\n",
    "\n",
    "$ X + Y = (x_1 + y_1, x_2 + y_2, x_3 + y_3) $\n",
    "\n",
    "$ T(X+Y) = (2(x_1 + y_1) + (x_2 + y_2), (x_1 + y_1) - 3(x_2 + y_2)) $  \n",
    "\n",
    "Factoring the first result shows these are equivalent."
   ]
  },
  {
   "cell_type": "markdown",
   "id": "470daf37",
   "metadata": {},
   "source": [
    "### Kernel of a transformation\n",
    "\n",
    "Given a transformation, what is the subspace of vectors in a linear space that when transformed only yield the zero vector. The subspace is called the kernel and a single basis can define this entire subspace.\n",
    "\n",
    "Example:\n",
    "\n",
    "$ T(X) : R^3 \\rightarrow R^2 $\n",
    "\n",
    "$ T(a,b,c) = (2a - b + c, a + b - 4c) $ \n",
    "\n",
    "Find the kernal of T, written as $ \\ker T $.\n",
    "\n",
    "If we are to find the kernel for the domain, which is the linear space $ R^3 $, then $ T $ must return $ (0,0) $ for every vector in the kernel. This means that each element of $ T $ is itself a linear equation that equals 0.\n",
    "\n",
    "Then we can solve this as a system of linear equations:\n",
    "\n",
    "$ 2a-b+c=0 $\n",
    "\n",
    "$ a+b-4c=0 $\n",
    "\n",
    "If we consider only the coefficients and treat this as a system of linear eqautions, then:"
   ]
  },
  {
   "cell_type": "code",
   "execution_count": 5,
   "id": "2ba3478d",
   "metadata": {},
   "outputs": [
    {
     "name": "stdout",
     "output_type": "stream",
     "text": [
      "M =\r\n",
      "\r\n",
      "   2  -1   1   0\r\n",
      "   1   1  -4   0\r\n",
      "\r\n"
     ]
    }
   ],
   "source": [
    "M = [2 -1 1 0;1 1 -4 0]"
   ]
  },
  {
   "cell_type": "code",
   "execution_count": 6,
   "id": "7120b418",
   "metadata": {},
   "outputs": [],
   "source": [
    "M(1,:) = M(1,:) + M(2,:) * -1;"
   ]
  },
  {
   "cell_type": "code",
   "execution_count": 7,
   "id": "5a6aa2b0",
   "metadata": {},
   "outputs": [],
   "source": [
    "M(2,:) = M(2,:) + M(1,:) * -1;"
   ]
  },
  {
   "cell_type": "code",
   "execution_count": 8,
   "id": "a26578cb",
   "metadata": {},
   "outputs": [
    {
     "name": "stdout",
     "output_type": "stream",
     "text": [
      "M =\r\n",
      "\r\n",
      "   1  -2   5   0\r\n",
      "   0   1  -3   0\r\n",
      "\r\n"
     ]
    }
   ],
   "source": [
    "M(2,:) = M(2,:) * 1/3"
   ]
  },
  {
   "cell_type": "markdown",
   "id": "ac7b529d",
   "metadata": {},
   "source": [
    "This means for any $ c: $\n",
    "\n",
    "$ b = 3c $\n",
    "\n",
    "$ a = 2b - 5c = 6c-5c = c $\n",
    "\n",
    "Therefore, the vector $ c(1,3,1) $ is a basis for the kernal of $ T $."
   ]
  },
  {
   "cell_type": "markdown",
   "id": "e40ae7a2",
   "metadata": {},
   "source": [
    "It is important to note that for any transformation, if there exists a kernel in the domain then the function cannot be injective (one-to-one). __Why is this true?__"
   ]
  },
  {
   "cell_type": "code",
   "execution_count": null,
   "id": "315fad00",
   "metadata": {},
   "outputs": [],
   "source": []
  }
 ],
 "metadata": {
  "kernelspec": {
   "display_name": "Octave",
   "language": "octave",
   "name": "octave"
  },
  "language_info": {
   "file_extension": ".m",
   "help_links": [
    {
     "text": "GNU Octave",
     "url": "https://www.gnu.org/software/octave/support.html"
    },
    {
     "text": "Octave Kernel",
     "url": "https://github.com/Calysto/octave_kernel"
    },
    {
     "text": "MetaKernel Magics",
     "url": "https://metakernel.readthedocs.io/en/latest/source/README.html"
    }
   ],
   "mimetype": "text/x-octave",
   "name": "octave",
   "version": "5.2.0"
  }
 },
 "nbformat": 4,
 "nbformat_minor": 5
}
