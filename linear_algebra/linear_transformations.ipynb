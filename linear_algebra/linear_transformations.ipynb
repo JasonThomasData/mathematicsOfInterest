{
 "cells": [
  {
   "cell_type": "markdown",
   "id": "c2a68e64",
   "metadata": {},
   "source": [
    "### Linear transformations\n",
    "\n",
    "Transformations are functions. They map one linear space onto another linear space, with some rules to adhere to.\n",
    "\n",
    "$ X_2(R), Y_2(R) $\n",
    "\n",
    "$ \\alpha, \\beta \\in R $\n",
    "\n",
    "$ T(\\alpha X) + T(\\beta Y) = \\alpha T(X) + \\beta T(Y) $\n",
    "\n",
    "This looks suspiciously like multiplication.\n",
    "\n",
    "They also observe the distributive law:\n",
    "\n",
    "$ T(X + Y) = T(X) + T(Y) $\n",
    "\n",
    "This gives us an idea that a transformation is a matrix multiplication.\n",
    "\n",
    "#### Surjective (onto) transformations\n",
    "\n",
    "$ X = Y \\rightarrow T(X) = T(Y) $\n",
    "\n",
    "$ X \\ne Y \\not \\rightarrow T(X) \\ne T(Y) $\n",
    "\n",
    "Meaning that several original linear systems in the domain might map to the same system in the codomain. This also means that every element of the comdomain will have a mapping in the domian.\n",
    "\n",
    "\n",
    "#### Injective, or one-to-one, transformations\n",
    "\n",
    "$ T(X) = T(Y) \\rightarrow X = Y $\n",
    "\n",
    "$ T(X) \\ne T(Y) \\rightarrow X \\ne Y $\n",
    "\n",
    "The above looks wrong but is not a negation. This is due to the definition for a function that says the same element in the domain cannot map to two different elements in the codomain. This means that every element in the codomain will be mapped to at most once.\n",
    "\n",
    "#### Bijective transformations\n",
    "\n",
    "$ X = Y \\rightarrow T(X) = T(Y) $\n",
    "\n",
    "$ X \\ne Y \\rightarrow T(X) \\ne T(Y) $\n",
    "\n",
    "$ T(X) = T(Y) \\rightarrow X = Y $\n",
    "\n",
    "$ T(X) \\ne T(Y) \\rightarrow X \\ne Y $\n"
   ]
  },
  {
   "cell_type": "markdown",
   "id": "8318ed64",
   "metadata": {},
   "source": [
    "### Testing if a transformation is a linear transformation"
   ]
  },
  {
   "cell_type": "markdown",
   "id": "9d1c9588",
   "metadata": {},
   "source": [
    "#### Not linear\n",
    "\n",
    "To prove a transformation is not linear, a single example might suffice. To prove it is a transformation, we need to show it's linear for every pair of vectors in the given linear space\n",
    "\n",
    "This is a transformation that takes a vector of three elements and reduces it to a vector of two.\n",
    "\n",
    "$ T (a, b, c) = (a^2 , 2b + c) $\n",
    "\n",
    "$ R^3(R): X, Y \\in R^3$\n",
    "\n",
    "$ T(X) = (x_1^2, 2x_2 + x_3) $\n",
    "\n",
    "$ T(Y) = (y_1^2, 2y_2 + y_3) $\n",
    "\n",
    "Then $ T(X) + T(Y) = (x_1^2 + 2x_2 + x_3) +  (y_1^2 + 2y_2 + y_3) = (x_1^2 + y_1^2, 2x_2 + 2y_2 + x_3 + y_3) $\n",
    "\n",
    "But, $ T + Y = (x_1,x_2,x_3) + (y_1,y_2,y_3) = (x_1 + y_1, x_2 + y_2, x_3 + y_3) $\n",
    "\n",
    "Then $ T(X + Y) = ((x_1 + y_1)^2, 2x_2 + 2y_2 + x_3 + y_3) $\n",
    "\n",
    "$\\therefore T (a, b, c) = (a 2 , 2b + c) $ is not linear\n"
   ]
  },
  {
   "cell_type": "markdown",
   "id": "2f45cb8f",
   "metadata": {},
   "source": [
    "#### Linear\n",
    "\n",
    "This is another transformation that takes a vector of three elements and reduces it to a vector of two.\n",
    "\n",
    "$ T(a, bc) = (2a + b, a - 3b) $\n",
    "\n",
    "$ R^3(R): X, Y \\in R^3$\n",
    "\n",
    "$ T(X) = (2x_1 + x_2, x_1 - 3x_2) $\n",
    "\n",
    "$ T(Y) = (2y_1 + y_2, y_1 - 3y_2) $\n",
    "\n",
    "$ T(X) + T(Y) = (2x_1 + x_2, x_1 - 3x_2) + (2y_1 + y_2, y_1 - 3y_2) = (2x_1 + x_2 + 2y_1 + y_2, x_1 - 3x_2 + y_1 - 3y_2) $\n",
    "\n",
    "$ X + Y = (x_1 + y_1, x_2 + y_2, x_3 + y_3) $\n",
    "\n",
    "$ T(X+Y) = (2(x_1 + y_1) + (x_2 + y_2), (x_1 + y_1) - 3(x_2 + y_2)) $  \n",
    "\n",
    "Factoring the first result shows these are equivalent."
   ]
  },
  {
   "cell_type": "markdown",
   "id": "470daf37",
   "metadata": {},
   "source": [
    "### Kernel of a transformation\n",
    "\n",
    "Given a transformation, what is the subspace of vectors in a linear space that when transformed only yield the zero vector. The subspace is called the kernel and a single basis can define this entire subspace.\n",
    "\n",
    "Example:\n",
    "\n",
    "$ T(X) : R^3 \\rightarrow R^2 $\n",
    "\n",
    "$ T(a,b,c) = (2a - b + c, a + b - 4c) $ \n",
    "\n",
    "Find the kernal of T, written as $ \\ker T $.\n",
    "\n",
    "If we are to find the kernel for the domain, which is the linear space $ R^3 $, then $ T $ must return $ (0,0) $ for every vector in the kernel. This means that each element of $ T $ is itself a linear equation that equals 0.\n",
    "\n",
    "Then we can solve this as a system of linear equations:\n",
    "\n",
    "$ 2a-b+c=0 $\n",
    "\n",
    "$ a+b-4c=0 $\n",
    "\n",
    "If we consider only the coefficients and treat this as a system of linear eqautions, then:"
   ]
  },
  {
   "cell_type": "code",
   "execution_count": 1,
   "id": "2ba3478d",
   "metadata": {},
   "outputs": [
    {
     "name": "stdout",
     "output_type": "stream",
     "text": [
      "M =\r\n",
      "\r\n",
      "   2  -1   1   0\r\n",
      "   1   1  -4   0\r\n",
      "\r\n"
     ]
    }
   ],
   "source": [
    "M = [2 -1 1 0;1 1 -4 0]"
   ]
  },
  {
   "cell_type": "code",
   "execution_count": 2,
   "id": "7120b418",
   "metadata": {},
   "outputs": [],
   "source": [
    "M(1,:) = M(1,:) + M(2,:) * -1;"
   ]
  },
  {
   "cell_type": "code",
   "execution_count": 3,
   "id": "5a6aa2b0",
   "metadata": {},
   "outputs": [],
   "source": [
    "M(2,:) = M(2,:) + M(1,:) * -1;"
   ]
  },
  {
   "cell_type": "code",
   "execution_count": 4,
   "id": "a26578cb",
   "metadata": {},
   "outputs": [
    {
     "name": "stdout",
     "output_type": "stream",
     "text": [
      "M =\r\n",
      "\r\n",
      "   1  -2   5   0\r\n",
      "   0   1  -3   0\r\n",
      "\r\n"
     ]
    }
   ],
   "source": [
    "M(2,:) = M(2,:) * 1/3"
   ]
  },
  {
   "cell_type": "markdown",
   "id": "ac7b529d",
   "metadata": {},
   "source": [
    "This means for any $ c: $\n",
    "\n",
    "$ b = 3c $\n",
    "\n",
    "$ a = 2b - 5c = 6c-5c = c $\n",
    "\n",
    "Therefore, the vector $ c(1,3,1) $ is a basis for the kernal of $ T $."
   ]
  },
  {
   "cell_type": "markdown",
   "id": "87a9d16b",
   "metadata": {},
   "source": [
    "It is important to note that for any transformation, if there exists anything other than the zero vector $ {0} $ in the kernel then the transformation cannot be injective (one-to-one).\n",
    "\n",
    "That is because, the kernel must always contain the zero vector. That is due to this (partial) definition of a linear transformation:\n",
    "\n",
    "$ T(\\alpha X) = \\alpha T(X) $\n",
    "\n",
    "Consider that the zero vector can be represented as any vector multiplied by a zero scalar:\n",
    "\n",
    "$ 0 (1,2,3) \\equiv (0,0,0) $\n",
    "\n",
    "Then any transformation that takes the zero vector as a parameter is equivalent to any vector in the transformation's codomain multiplied by the zero scalar."
   ]
  },
  {
   "cell_type": "markdown",
   "id": "c110930a",
   "metadata": {},
   "source": [
    "### Matrix representation of a transformation\n",
    "\n",
    "For any transformation T, you should be able to represent T as a matrix and then find the result of T, for some linear space as a parameter, using matrix multiplication.\n",
    "\n",
    "Given two linear spaces over R, \n",
    "\n",
    "This is usually represented with the T matrix on the left."
   ]
  },
  {
   "cell_type": "code",
   "execution_count": 5,
   "id": "b800b229",
   "metadata": {},
   "outputs": [
    {
     "name": "stdout",
     "output_type": "stream",
     "text": [
      "T =\n",
      "\n",
      "   1   2   3   4\n",
      "   2   3   4   5\n",
      "   3   4   5   6\n",
      "\n",
      "V =\n",
      "\n",
      "   1   2   3   4\n",
      "\n",
      "ans =\n",
      "\n",
      "   30\n",
      "   40\n",
      "   50\n",
      "\n"
     ]
    }
   ],
   "source": [
    "T = [1 2 3 4; 2 3 4 5; 3 4 5 6]\n",
    "V = [1 2 3 4]\n",
    "\n",
    "T*transpose(V)"
   ]
  },
  {
   "cell_type": "markdown",
   "id": "8e88b3e7",
   "metadata": {},
   "source": [
    "### Linear operators\n",
    "\n",
    "These are the same as linear transformations except that for $ T : V \\rightarrow W $, then $ V = W $. That is, it is a transformation that doesn't change the codomain."
   ]
  },
  {
   "cell_type": "markdown",
   "id": "b2b15b44",
   "metadata": {},
   "source": [
    "### Projections\n",
    "\n",
    "A transformation is a projection if $ T^2 = T $, but this doesn't mean the square of a matrix. This means we can perform the transformation twice that if we write $ T(V) = T(T(V)) $\n",
    "\n",
    "An interpretation from physics is representing a coin in space. $ X, Y $ can represent lat/lng coordinates and $ Z $ is the height from the ground. If dropping the coin without moving horizontal coordinates is a transformation, then any vector in the form $ (x,y,z) $ will become $ (x,y,0) $. \n",
    "\n",
    "Then this transformation is the identity matrix, but the third scalar is replaced with zero. Repeated this transformation again as $ T(T(V)) $ and the same result occurs."
   ]
  },
  {
   "cell_type": "code",
   "execution_count": 6,
   "id": "6b243776",
   "metadata": {},
   "outputs": [
    {
     "name": "stdout",
     "output_type": "stream",
     "text": [
      "T =\n",
      "\n",
      "   1   0   0\n",
      "   0   1   0\n",
      "   0   0   0\n",
      "\n",
      "V =\n",
      "\n",
      "   2   3   4\n",
      "\n",
      "ans =\n",
      "\n",
      "   2\n",
      "   3\n",
      "   0\n",
      "\n",
      "ans =\n",
      "\n",
      "   2\n",
      "   3\n",
      "   0\n",
      "\n"
     ]
    }
   ],
   "source": [
    "T = [1 0 0; 0 1 0; 0 0 0]\n",
    "\n",
    "V = [2 3 4]\n",
    "\n",
    "T*transpose(V)\n",
    "T*(T*transpose(V))"
   ]
  },
  {
   "cell_type": "markdown",
   "id": "b4c8fc6a",
   "metadata": {},
   "source": [
    "### Changing a basis with a transition matrix\n",
    "\n",
    "A special form of transformation is a transition matrix for changing bases. Consider that we have a linear space $ V^2 $ over the field $ R $.\n",
    "\n",
    "Then, consider the basis:\n",
    "\n",
    "$ \\left[ \\begin{matrix} 1 & 2 \\\\ 4 & 3 \\end{matrix} \\right] $\n",
    "\n",
    "Consider also that we have a set of vectors relative to this basis that we want to preserve, but also, we want to change our basis (and the entire linear space) to the standard basis:\n",
    "\n",
    "$ \\left[ \\begin{matrix} 1 & 0 \\\\ 0 & 1 \\end{matrix} \\right] $\n",
    "\n",
    "The standard basis is equivalent to the indentity matrix and the identity matrix also features in an important equation, which is the multiplicative identity.\n",
    "\n",
    "Let $ I $ be the identity matrix (which is equivalent to the standard basis) and $ A $ be any matrix of the same order (in this case our basis). Then:\n",
    "\n",
    "$ A = IA $\n",
    "\n",
    "$ \\therefore A(A^{-1}) = I $\n",
    "\n",
    "We can generalise this. Let:\n",
    "\n",
    "$ M $ be the original basis\n",
    "\n",
    "$ N $ be the basis to transform into\n",
    "\n",
    "$ T $ be the transition matrix to find, which is a linear transformation\n",
    "\n",
    "$ N = TM $\n",
    "\n",
    "$ T = NM^{-1} $"
   ]
  },
  {
   "cell_type": "code",
   "execution_count": 7,
   "id": "ccd118b0",
   "metadata": {},
   "outputs": [
    {
     "name": "stdout",
     "output_type": "stream",
     "text": [
      "M =\n",
      "\n",
      "          1          2\n",
      "          4          3\n",
      "\n",
      "N =\n",
      "\n",
      "          2          1\n",
      "          4          2\n",
      "\n",
      "T =\n",
      "\n",
      "       -2/5        3/5\n",
      "       -4/5        6/5\n",
      "\n"
     ]
    }
   ],
   "source": [
    "format rat\n",
    "\n",
    "M = [1 2; 4 3]\n",
    "N = [2 1; 4 2]\n",
    "\n",
    "T = N * M ^-1\n",
    "\n",
    "assert(N == T*M)"
   ]
  },
  {
   "cell_type": "code",
   "execution_count": null,
   "id": "ab7cb88c",
   "metadata": {},
   "outputs": [],
   "source": []
  }
 ],
 "metadata": {
  "kernelspec": {
   "display_name": "Octave",
   "language": "octave",
   "name": "octave"
  },
  "language_info": {
   "file_extension": ".m",
   "help_links": [
    {
     "text": "GNU Octave",
     "url": "https://www.gnu.org/software/octave/support.html"
    },
    {
     "text": "Octave Kernel",
     "url": "https://github.com/Calysto/octave_kernel"
    },
    {
     "text": "MetaKernel Magics",
     "url": "https://metakernel.readthedocs.io/en/latest/source/README.html"
    }
   ],
   "mimetype": "text/x-octave",
   "name": "octave",
   "version": "5.2.0"
  }
 },
 "nbformat": 4,
 "nbformat_minor": 5
}
