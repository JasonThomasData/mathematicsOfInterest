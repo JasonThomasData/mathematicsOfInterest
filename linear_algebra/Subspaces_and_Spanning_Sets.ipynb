{
 "cells": [
  {
   "cell_type": "markdown",
   "id": "4364128b",
   "metadata": {},
   "source": [
    "### Vector spaces\n",
    "\n",
    "For a space to be a linear space, it must meat 10 axioms:\n",
    "\n",
    "Let $ V $ be a generic linear space over the field $ R $.\n",
    "\n",
    "#### A1 - Closure under addition\n",
    "\n",
    "$ (X, Y \\in V) \\rightarrow (X + Y ∈ V) $\n",
    "\n",
    "#### A2 - Associativity\n",
    "\n",
    "$ \\forall X,Y,Z \\in V: X + (Y + Z) = (X + Y ) + Z $\n",
    "\n",
    "#### A3 - Commutativity\n",
    "\n",
    "$ \\forall X,Y \\in V: X + Y = Y + X $\n",
    "\n",
    "#### A4 - V contains an element O (called the zero vector of V )\n",
    "\n",
    "$ \\forall X \\in V: X + 0 = X $\n",
    "\n",
    "aka the additive identity\n",
    "\n",
    "#### A5 - For each element X ∈ V , there is a element Y ∈ V such that\n",
    "\n",
    "$ \\forall X, Y \\in V: X + Y = 0 $\n",
    "\n",
    "#### S1 - Closure under scalar multiplication\n",
    "\n",
    "$ (\\exists X \\in V, \\exists \\alpha \\in R) \\rightarrow (\\alpha X \\in V) $\n",
    "\n",
    "#### S2 - Associativity\n",
    "\n",
    "$ \\forall X \\in V, \\exists \\alpha \\in R, \\exists \\beta \\in R : \\alpha(\\beta X) = (\\alpha \\beta)X $\n",
    "\n",
    "#### S3 - Distributivity\n",
    "\n",
    "$ \\exists \\alpha \\in R, \\forall X \\in V, \\forall Y \\in V: \\alpha(X + Y) = \\alpha X + \\alpha Y $\n",
    "\n",
    "$ \\exists \\alpha \\in R, \\exists \\beta \\in R, \\forall X \\in V: (\\alpha + \\beta)X = \\alpha X + \\beta X $\n",
    "\n",
    "#### S4 - Multiplicative Identity\n",
    "\n",
    "$ \\forall X \\in V : 1X = X $\n"
   ]
  },
  {
   "cell_type": "markdown",
   "id": "b05ef429",
   "metadata": {},
   "source": [
    "We migh say that a vector space could be $ R^3 = \\{(a,b,c) : a,b,c \\in R\\} $\n",
    "\n",
    "### Subspaces\n",
    "\n",
    "We could also say that a subspace could be $ S = \\{(2a-c,a+3b,c-b) : a,b,c \\in R\\} $\n",
    "\n",
    "Since $ S \\subset R^3 $, all of the rules validating $ R^3 $ as a linear space apply.\n",
    "\n",
    "However, we do need to show the subspace is closed under $ A1, S1 $\n",
    "\n",
    "$ (2a-c,a+3b,c-b) + (2a-c, a+3b,c-b) = (4a-2c, 2a+6b, 2c-2b) = 2(2a-c, a+3b, c-b) $\n",
    "\n",
    "This logic seems to satisfy $ A1, S1 $"
   ]
  },
  {
   "cell_type": "markdown",
   "id": "631ec190",
   "metadata": {},
   "source": [
    "### Spanning sets\n",
    "\n",
    "Let $ S \\subset R^3 $, as a subset of $ R^3 $. We should have already shown that $ S $ could satisfy the requirements of closure.\n",
    "\n",
    "Given the previous example: $ S = \\{(2a-c,a+3b,c-b) : a,b,c \\in R\\} $\n",
    "\n",
    "We can separate the subspace vector into three vectors:\n",
    "\n",
    "$ (2a-c,a+3b,c-b) = (2a, a, 0) + (0, 3b, -b) + (-c, 0, c) $\n",
    "\n",
    "And then as a linear combination, with each variable as a scalar:\n",
    "\n",
    "$ a(2, 1, 0) + b(0, 3, -1) + c(-1, 0, 1) = 0 $\n",
    "\n",
    "Then the set of vectors $ \\{(2,1,0), (0,3,-1), (-1,0,1)\\} $ is a set that spans the subspace.\n",
    "\n",
    "Note that this doesn't require a linearly independent set of vectors to span the subspace. This set (above) is linearly independent, since the minimum set needed to span $ S $, with its three dimensions, is a set of three vectors. However, a set of 4 or 5 or more might still span the entire $ S $ subspace, just that the set would be linearly dependent and you could write the set as some vectors being a linear combination of the linearly independent vectors in that set.\n",
    "\n",
    "A spanning set is different to a basis. A basis must be linearly independent, whereas a spanning set does not have to be. A spanning set that is linearly independent is also a basis of the subspace, but not necessarily of the linear space."
   ]
  },
  {
   "cell_type": "code",
   "execution_count": null,
   "id": "4653e1a4",
   "metadata": {},
   "outputs": [],
   "source": []
  }
 ],
 "metadata": {
  "kernelspec": {
   "display_name": "Octave",
   "language": "octave",
   "name": "octave"
  },
  "language_info": {
   "file_extension": ".m",
   "help_links": [
    {
     "text": "GNU Octave",
     "url": "https://www.gnu.org/software/octave/support.html"
    },
    {
     "text": "Octave Kernel",
     "url": "https://github.com/Calysto/octave_kernel"
    },
    {
     "text": "MetaKernel Magics",
     "url": "https://metakernel.readthedocs.io/en/latest/source/README.html"
    }
   ],
   "mimetype": "text/x-octave",
   "name": "octave",
   "version": "5.2.0"
  }
 },
 "nbformat": 4,
 "nbformat_minor": 5
}
