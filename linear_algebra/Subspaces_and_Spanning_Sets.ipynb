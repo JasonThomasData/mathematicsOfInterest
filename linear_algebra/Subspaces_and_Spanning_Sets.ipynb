{
 "cells": [
  {
   "cell_type": "markdown",
   "id": "4364128b",
   "metadata": {},
   "source": [
    "### Vector spaces\n",
    "\n",
    "For a space to be a linear space, it must meat 10 axioms:\n",
    "\n",
    "Let $ V $ be a generic linear space over the field $ R $.\n",
    "\n",
    "#### A1 - Closure under addition\n",
    "\n",
    "$ (X, Y \\in V) \\rightarrow (X + Y ∈ V) $\n",
    "\n",
    "#### A2 - Associativity\n",
    "\n",
    "$ \\forall X,Y,Z \\in V: X + (Y + Z) = (X + Y ) + Z $\n",
    "\n",
    "#### A3 - Commutativity\n",
    "\n",
    "$ \\forall X,Y \\in V: X + Y = Y + X $\n",
    "\n",
    "#### A4 - V contains an element O (called the zero vector of V )\n",
    "\n",
    "$ \\forall X \\in V: X + 0 = X $\n",
    "\n",
    "aka the additive identity\n",
    "\n",
    "#### A5 - For each element X ∈ V , there is a element Y ∈ V such that\n",
    "\n",
    "$ \\forall X, Y \\in V: X + Y = 0 $\n",
    "\n",
    "#### S1 - Closure under scalar multiplication\n",
    "\n",
    "$ (\\exists X \\in V, \\exists \\alpha \\in R) \\rightarrow (\\alpha X \\in V) $\n",
    "\n",
    "#### S2 - Associativity\n",
    "\n",
    "$ \\forall X \\in V, \\exists \\alpha \\in R, \\exists \\beta \\in R : \\alpha(\\beta X) = (\\alpha \\beta)X $\n",
    "\n",
    "#### S3 - Distributivity\n",
    "\n",
    "$ \\exists \\alpha \\in R, \\forall X \\in V, \\forall Y \\in V: \\alpha(X + Y) = \\alpha X + \\alpha Y $\n",
    "\n",
    "$ \\exists \\alpha \\in R, \\exists \\beta \\in R, \\forall X \\in V: (\\alpha + \\beta)X = \\alpha X + \\beta X $\n",
    "\n",
    "#### S4 - Multiplicative Identity\n",
    "\n",
    "$ \\forall X \\in V : 1X = X $\n"
   ]
  },
  {
   "cell_type": "markdown",
   "id": "b05ef429",
   "metadata": {},
   "source": [
    "We migh say that a vector space could be $ R^3 = \\{(a,b,c) : a,b,c \\in R\\} $\n",
    "\n",
    "### Subspaces\n",
    "\n",
    "We could also say that a subspace could be $ S = \\{(2a-c,a+3b,c-b) : a,b,c \\in R\\} $\n",
    "\n",
    "Since $ S \\subset R^3 $, all of the rules validating $ R^3 $ as a linear space apply.\n",
    "\n",
    "However, we do need to show the subspace is closed under $ A1, S1 $\n",
    "\n",
    "$ (2a-c,a+3b,c-b) + (2a-c, a+3b,c-b) = (4a-2c, 2a+6b, 2c-2b) = 2(2a-c, a+3b, c-b) $\n",
    "\n",
    "This logic seems to satisfy $ A1, S1 $"
   ]
  },
  {
   "cell_type": "markdown",
   "id": "631ec190",
   "metadata": {},
   "source": [
    "### Spanning sets\n",
    "\n",
    "Let $ S \\subset R^3 $, as a subset of $ R^3 $. We should have already shown that $ S $ could satisfy the requirements of closure.\n",
    "\n",
    "Given the previous example: $ S = \\{(2a-c,a+3b,c-b) : a,b,c \\in R\\} $\n",
    "\n",
    "We can separate the subspace vector into three vectors:\n",
    "\n",
    "$ (2a-c,a+3b,c-b) = (2a, a, 0) + (0, 3b, -b) + (-c, 0, c) $\n",
    "\n",
    "And then as a linear combination, with each variable as a scalar:\n",
    "\n",
    "$ a(2, 1, 0) + b(0, 3, -1) + c(-1, 0, 1) = 0 $\n",
    "\n",
    "Then the set of vectors $ \\{(2,1,0), (0,3,-1), (-1,0,1)\\} $ is a set that spans the subspace.\n",
    "\n",
    "Note that this doesn't require a linearly independent set of vectors to span the subspace. This set (above) is linearly independent. However, a set of 4 or 5 or more might still span the entire $ S $ subspace, just that the set would be linearly dependent and you could write the set as some vectors being a linear combination of the linearly independent vectors in that set.\n"
   ]
  },
  {
   "cell_type": "markdown",
   "id": "6371113c",
   "metadata": {},
   "source": [
    "### Bases of subspaces\n",
    "\n",
    "A spanning set is different to a basis. A basis must be linearly independent, whereas a spanning set does not have to be. \n",
    "\n",
    "A spanning set that is linearly independent is also a basis of the subspace, but not necessarily of the linear space.\n",
    "\n",
    "Let's use the spanning set $ \\{(2,1,0), (0,3,-1), (-1,0,1)\\} $ to prove it is linearly independent, and therefore a basis for the subspace."
   ]
  },
  {
   "cell_type": "code",
   "execution_count": 1,
   "id": "4653e1a4",
   "metadata": {},
   "outputs": [
    {
     "name": "stdout",
     "output_type": "stream",
     "text": [
      "M =\r\n",
      "\r\n",
      "          2          0         -1          0\r\n",
      "          1          3          0          0\r\n",
      "          0         -1          1          0\r\n",
      "\r\n"
     ]
    }
   ],
   "source": [
    "### Given the above spanning set, let's find a basis\n",
    "### Vectors entered vertically\n",
    "\n",
    "### This one has a column of 0s to make it clear that this is an attempt to show this spanning set is linearly independent\n",
    "\n",
    "format rat\n",
    "\n",
    "M = [2 0 -1 0; 1 3 0 0; 0 -1 1 0]"
   ]
  },
  {
   "cell_type": "code",
   "execution_count": 36,
   "id": "744d3068",
   "metadata": {},
   "outputs": [],
   "source": [
    "M(1,:) = M(1,:) *0.5;"
   ]
  },
  {
   "cell_type": "code",
   "execution_count": 37,
   "id": "d92b7a43",
   "metadata": {},
   "outputs": [],
   "source": [
    "M(2,:) = M(2,:) + M(1,:) * -1;"
   ]
  },
  {
   "cell_type": "code",
   "execution_count": 38,
   "id": "2c6d2928",
   "metadata": {},
   "outputs": [],
   "source": [
    "M(2,:) = M(2,:) * 1/3;"
   ]
  },
  {
   "cell_type": "code",
   "execution_count": 39,
   "id": "ecf13147",
   "metadata": {},
   "outputs": [],
   "source": [
    "M(3,:) = M(3,:) + M(2,:);"
   ]
  },
  {
   "cell_type": "code",
   "execution_count": 31,
   "id": "107b4dca",
   "metadata": {},
   "outputs": [],
   "source": [
    "M(3,:) = M(3,:) + M(2,:) * -1;"
   ]
  },
  {
   "cell_type": "code",
   "execution_count": 40,
   "id": "d1812679",
   "metadata": {},
   "outputs": [
    {
     "name": "stdout",
     "output_type": "stream",
     "text": [
      "M =\r\n",
      "\r\n",
      "          1          0       -1/2          0\r\n",
      "          0          1        1/6          0\r\n",
      "          0          0          1          0\r\n",
      "\r\n"
     ]
    }
   ],
   "source": [
    "M(3,:) = M(3,:) * 6/7;"
   ]
  },
  {
   "cell_type": "code",
   "execution_count": 41,
   "id": "092dc846",
   "metadata": {},
   "outputs": [
    {
     "name": "stdout",
     "output_type": "stream",
     "text": [
      "M =\r\n",
      "\r\n",
      "          1          0       -1/2          0\r\n",
      "          0          1          0          0\r\n",
      "          0          0          1          0\r\n",
      "\r\n"
     ]
    }
   ],
   "source": [
    "M(2,:) = M(2,:) + M(3,:) * -1/6"
   ]
  },
  {
   "cell_type": "code",
   "execution_count": 42,
   "id": "9be295a8",
   "metadata": {},
   "outputs": [
    {
     "name": "stdout",
     "output_type": "stream",
     "text": [
      "M =\r\n",
      "\r\n",
      "          1          0          0          0\r\n",
      "          0          1          0          0\r\n",
      "          0          0          1          0\r\n",
      "\r\n"
     ]
    }
   ],
   "source": [
    "M(1,:) = M(1,:) + M(3,:) * 1/2"
   ]
  },
  {
   "cell_type": "markdown",
   "id": "1fb7b7bc",
   "metadata": {},
   "source": [
    "Therefore, the scalars in this equation are all equal to zero, meaning that this spanning set is itself linearly independent. Therefore, $ {(2,1,0), (0,3,-1), (-1,0,1)} $ is a basis for this subspace.\n",
    "\n",
    "Below, we can see another example of a spanning set. The spanning set $ {(2,1,2), (1,3,6), (-1,1,2)} $ is purposely not linearly independent, and therefore is not a basis."
   ]
  },
  {
   "cell_type": "code",
   "execution_count": 43,
   "id": "31811e3f",
   "metadata": {},
   "outputs": [
    {
     "name": "stdout",
     "output_type": "stream",
     "text": [
      "M =\r\n",
      "\r\n",
      "          2          1          2\r\n",
      "          1          3          6\r\n",
      "         -1          1          2\r\n",
      "\r\n"
     ]
    }
   ],
   "source": [
    "### Given the above spanning set, let's find the basis\n",
    "### Vectors entered horizontally\n",
    "\n",
    "M = [2, 1, 2; 1, 3, 6; -1, 1, 2]"
   ]
  },
  {
   "cell_type": "code",
   "execution_count": 44,
   "id": "aa874e9e",
   "metadata": {},
   "outputs": [],
   "source": [
    "M(3,:) = M(3,:) + M(2,:);"
   ]
  },
  {
   "cell_type": "code",
   "execution_count": 45,
   "id": "460d03e4",
   "metadata": {},
   "outputs": [],
   "source": [
    "M(1,:) = M(1,:) + M(2,:) * -1;"
   ]
  },
  {
   "cell_type": "code",
   "execution_count": 46,
   "id": "9ff166c9",
   "metadata": {},
   "outputs": [],
   "source": [
    "M(2,:) = M(2,:) + M(1,:) * -1;"
   ]
  },
  {
   "cell_type": "code",
   "execution_count": 47,
   "id": "5c25c031",
   "metadata": {},
   "outputs": [],
   "source": [
    "M(2,:) = M(2,:) + M(3,:) * -1;"
   ]
  },
  {
   "cell_type": "code",
   "execution_count": 48,
   "id": "98b5364e",
   "metadata": {},
   "outputs": [
    {
     "name": "stdout",
     "output_type": "stream",
     "text": [
      "M =\r\n",
      "\r\n",
      "          1         -2         -4\r\n",
      "          0          1          2\r\n",
      "          0          0          0\r\n",
      "\r\n"
     ]
    }
   ],
   "source": [
    "M(3,:) = M(3,:) + M(2,:) * -4"
   ]
  },
  {
   "cell_type": "markdown",
   "id": "0a378c87",
   "metadata": {},
   "source": [
    "The first two vectors $ {(1,-2,-4), (0,1,2)} $ are a basis for this spanning set.\n",
    "\n",
    "I believe this means that the third vector is a linear combination of the other two vectors, and therefore, the set of vectors $ {(2,1,2), (1,3,6)} $ is also a basis for the same spanning set. __I need to confirm what is true here__"
   ]
  },
  {
   "cell_type": "code",
   "execution_count": null,
   "id": "44219a40",
   "metadata": {},
   "outputs": [],
   "source": []
  }
 ],
 "metadata": {
  "kernelspec": {
   "display_name": "Octave",
   "language": "octave",
   "name": "octave"
  },
  "language_info": {
   "file_extension": ".m",
   "help_links": [
    {
     "text": "GNU Octave",
     "url": "https://www.gnu.org/software/octave/support.html"
    },
    {
     "text": "Octave Kernel",
     "url": "https://github.com/Calysto/octave_kernel"
    },
    {
     "text": "MetaKernel Magics",
     "url": "https://metakernel.readthedocs.io/en/latest/source/README.html"
    }
   ],
   "mimetype": "text/x-octave",
   "name": "octave",
   "version": "5.2.0"
  }
 },
 "nbformat": 4,
 "nbformat_minor": 5
}
