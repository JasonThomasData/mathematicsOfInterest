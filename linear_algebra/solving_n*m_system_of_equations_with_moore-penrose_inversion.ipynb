{
 "cells": [
  {
   "cell_type": "markdown",
   "id": "ab96f4e8",
   "metadata": {},
   "source": [
    "### Solving a n*m system of equations with Moore-Penrose generalised inversion\n",
    "\n",
    "Suppose you have a matrix that isn't square. The inverse of a square matrix that has a determinant (and therefore a single solution) is simple to find.\n",
    "\n",
    "How do you find an inverse for a matrix that is not square?\n",
    "\n",
    "Suppose you have a system of equations with more equations than unknown variables, then the coefficient matrix will have column vectors that are linearly independent.\n",
    "\n",
    "Then the inverse of $ A $ will be:\n",
    "\n",
    "$ A^+ = (A^T A)^{-1} A^T $\n",
    "\n",
    "If you have a system of equations with more unknowns than equations, then the column vectors will be linearly dependent, but the row vectors could be linearly independent. \n",
    "\n",
    "$ A^+ = A^T(AA^T)^{-1} $\n",
    "\n",
    "I think I'm forgetting some edge cases and will need to revisit this. I also don't understand the proof and should revisit that, aswell."
   ]
  },
  {
   "cell_type": "markdown",
   "id": "114d65ac",
   "metadata": {},
   "source": [
    "For example, let there be a (3x2) matrix:\n",
    "\n",
    "$ a - 3b = 3 $\n",
    "\n",
    "$ 2a + b = 4 $\n",
    "\n",
    "$ 4a + 9b = 6 $"
   ]
  },
  {
   "cell_type": "code",
   "execution_count": 1,
   "id": "85ef31a8",
   "metadata": {},
   "outputs": [
    {
     "name": "stdout",
     "output_type": "stream",
     "text": [
      "A_1 =\n",
      "\n",
      "   1  -3\n",
      "   2   1\n",
      "   4   9\n",
      "\n",
      "RHS =\n",
      "\n",
      "   3\n",
      "   4\n",
      "   6\n",
      "\n"
     ]
    }
   ],
   "source": [
    "# Then :\n",
    "A_1 = [1 -3; 2 1; 4 9]\n",
    "RHS = [3;4;6]"
   ]
  },
  {
   "cell_type": "code",
   "execution_count": 2,
   "id": "dbed3b65",
   "metadata": {},
   "outputs": [
    {
     "name": "stdout",
     "output_type": "stream",
     "text": [
      "A_1_plus =\r\n",
      "\r\n",
      "   0.285714   0.214286   0.071429\r\n",
      "  -0.142857  -0.071429   0.071429\r\n",
      "\r\n"
     ]
    }
   ],
   "source": [
    "# Then the inverse is:\n",
    "A_1_plus = (transpose(A_1) * A_1)^-1 * transpose(A_1)"
   ]
  },
  {
   "cell_type": "code",
   "execution_count": 3,
   "id": "f09e9a9d",
   "metadata": {},
   "outputs": [
    {
     "name": "stdout",
     "output_type": "stream",
     "text": [
      "a =  2.1429\n",
      "b = -0.28571\n"
     ]
    }
   ],
   "source": [
    "# The unknowns are:\n",
    "a_b = A_1_plus*RHS;\n",
    "a = a_b(1)\n",
    "b = a_b(2)"
   ]
  },
  {
   "cell_type": "code",
   "execution_count": 4,
   "id": "1f2e67ff",
   "metadata": {},
   "outputs": [
    {
     "name": "stdout",
     "output_type": "stream",
     "text": [
      "ans = 1\n",
      "ans = 1\n",
      "ans = 1\n"
     ]
    }
   ],
   "source": [
    "# And to check this is true:\n",
    "precision = 10;\n",
    "\n",
    "roundp((a - 3*b), precision) == 3\n",
    "roundp((2*a + b), precision) == 4\n",
    "roundp((4*a + 9*b), precision) == 6"
   ]
  },
  {
   "cell_type": "code",
   "execution_count": 5,
   "id": "0d0fed94",
   "metadata": {},
   "outputs": [],
   "source": [
    "clear"
   ]
  },
  {
   "cell_type": "markdown",
   "id": "24b36551",
   "metadata": {},
   "source": [
    "For example, let there be a (2x3) matrix:\n",
    "\n",
    "$ a - 4b + c = 3 $\n",
    "\n",
    "$ 3a + b - 2c = 4 $"
   ]
  },
  {
   "cell_type": "code",
   "execution_count": 6,
   "id": "c5212007",
   "metadata": {},
   "outputs": [
    {
     "name": "stdout",
     "output_type": "stream",
     "text": [
      "A_2 =\n",
      "\n",
      "   1  -4   1\n",
      "   3   1  -2\n",
      "\n",
      "RHS =\n",
      "\n",
      "   3\n",
      "   4\n",
      "\n"
     ]
    }
   ],
   "source": [
    "# Then :\n",
    "A_2 = [1 -4 1; 3 1 -2]\n",
    "RHS = [3;4]"
   ]
  },
  {
   "cell_type": "code",
   "execution_count": 7,
   "id": "a2496ff0",
   "metadata": {},
   "outputs": [
    {
     "name": "stdout",
     "output_type": "stream",
     "text": [
      "A_2_plus =\r\n",
      "\r\n",
      "   0.094650   0.234568\r\n",
      "  -0.218107   0.024691\r\n",
      "   0.032922  -0.135802\r\n",
      "\r\n"
     ]
    }
   ],
   "source": [
    "# The inverse is:\n",
    "A_2_plus = transpose(A_2)*(A_2*transpose(A_2))^-1"
   ]
  },
  {
   "cell_type": "code",
   "execution_count": 8,
   "id": "daefade0",
   "metadata": {},
   "outputs": [
    {
     "name": "stdout",
     "output_type": "stream",
     "text": [
      "a =  1.2222\n",
      "b = -0.55556\n",
      "c = -0.44444\n"
     ]
    }
   ],
   "source": [
    "# The unknowns are:\n",
    "a_b_c = A_2_plus*RHS;\n",
    "a = a_b_c(1)\n",
    "b = a_b_c(2)\n",
    "c = a_b_c(3)"
   ]
  },
  {
   "cell_type": "code",
   "execution_count": 9,
   "id": "7b2ef54d",
   "metadata": {},
   "outputs": [
    {
     "name": "stdout",
     "output_type": "stream",
     "text": [
      "ans = 1\n",
      "ans = 1\n"
     ]
    }
   ],
   "source": [
    "# Let's check\n",
    "precision = 10;\n",
    "\n",
    "roundp((a - 4*b + c), precision) == 3\n",
    "roundp((3*a + b - 2*c), precision) == 4"
   ]
  },
  {
   "cell_type": "code",
   "execution_count": null,
   "id": "331d8793",
   "metadata": {},
   "outputs": [],
   "source": []
  }
 ],
 "metadata": {
  "kernelspec": {
   "display_name": "Octave",
   "language": "octave",
   "name": "octave"
  },
  "language_info": {
   "file_extension": ".m",
   "help_links": [
    {
     "text": "GNU Octave",
     "url": "https://www.gnu.org/software/octave/support.html"
    },
    {
     "text": "Octave Kernel",
     "url": "https://github.com/Calysto/octave_kernel"
    },
    {
     "text": "MetaKernel Magics",
     "url": "https://metakernel.readthedocs.io/en/latest/source/README.html"
    }
   ],
   "mimetype": "text/x-octave",
   "name": "octave",
   "version": "5.2.0"
  }
 },
 "nbformat": 4,
 "nbformat_minor": 5
}
