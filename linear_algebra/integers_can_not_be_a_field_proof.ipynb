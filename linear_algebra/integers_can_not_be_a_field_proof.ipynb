{
 "cells": [
  {
   "cell_type": "markdown",
   "id": "7f8a8c15",
   "metadata": {},
   "source": [
    "#### The set of Integers cannot be fields in linear algebra\n",
    "\n",
    "The reason for this is that a space over a field must pass checks against the ten axioms for linear spaces, before it can be considered a linear space.\n",
    "\n",
    "Let $ F $ mean all possible fields, and $ Z $ the set of integers, not including the set $ \\{ -1, 0, 1 \\} $\n",
    "\n",
    "$ P: \\forall f \\in F: f \\not \\subset Z $\n",
    "\n",
    "Then we can prove it by contradiction.\n",
    "\n",
    "$ \\neg P: \\exists f \\in F: f \\subset Z $ \n",
    "\n",
    "What will help us here is the axiom for inverses that a space must meet.\n",
    "\n",
    "Let $ V $ refer to a vector space over $ Z $ \n",
    "\n",
    "The axiom: $ \\forall x \\in V, \\exists y \\in V : x + y = 0 $\n",
    "\n",
    "This means that every element in the linear space must have an inverse.\n",
    "\n",
    "It also means that $ y = -x $\n",
    "\n",
    "Then:\n",
    "\n",
    "$ x - x = 0 $\n",
    "\n",
    "$ \\therefore x = x $ \n",
    "\n",
    "Interestingly, this is the multiplicative identity, which linear spaces also must meet:\n",
    "\n",
    "$ x = 1x $ \n",
    "\n",
    "$ \\therefore \\frac{x}{x} = 1 $\n",
    "\n",
    "$ \\therefore x \\frac{1}{x} = 1 $\n",
    "\n",
    "This means that for any integer $ x $ to exist in the field $ Z $, then its inverse $ \\frac{1}{x} $ would also have to exist, but this is not an integer. You could therefore not have any linear space over this field, because the space would not meet the axiom for inverses.\n",
    "\n",
    "This is a contradiction, which means that $ P $ is true.\n",
    "\n",
    "However, it does seem that the finite field of $ \\{ -1, 0, 1 \\} $ would be acceptable, but I haven't checked the other axioms so that's a conjecture."
   ]
  },
  {
   "cell_type": "code",
   "execution_count": null,
   "id": "ad83f0fc",
   "metadata": {},
   "outputs": [],
   "source": []
  }
 ],
 "metadata": {
  "kernelspec": {
   "display_name": "Octave",
   "language": "octave",
   "name": "octave"
  },
  "language_info": {
   "file_extension": ".m",
   "help_links": [
    {
     "text": "GNU Octave",
     "url": "https://www.gnu.org/software/octave/support.html"
    },
    {
     "text": "Octave Kernel",
     "url": "https://github.com/Calysto/octave_kernel"
    },
    {
     "text": "MetaKernel Magics",
     "url": "https://metakernel.readthedocs.io/en/latest/source/README.html"
    }
   ],
   "mimetype": "text/x-octave",
   "name": "octave",
   "version": "5.2.0"
  }
 },
 "nbformat": 4,
 "nbformat_minor": 5
}
