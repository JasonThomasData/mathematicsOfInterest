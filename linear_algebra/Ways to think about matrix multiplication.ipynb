{
 "cells": [
  {
   "cell_type": "markdown",
   "id": "75875e40",
   "metadata": {},
   "source": [
    "### Matrix multiplication as linear transformaion\n",
    "\n",
    "#### The first way I learned\n",
    "\n",
    "The method I learned to complete matrix multiplication was:\n",
    "\n",
    "Given two matrices of shape $ 2x3 $ and $ 3x1 $ then the column count of the left matrix (3) must match the row count of the second (3). The resulting size of the matrix is the row count of the first (2) by the column count of the second (1), giving us a result with shape of 2x1.\n",
    "\n",
    "The matrix that is produced by multiplying square matrices is itself a square.\n",
    "\n",
    "Given square matrices M = $ \\left[\\begin{matrix} m_1 & m_2\\\\ m_3 & m_4 \\end{matrix} \\right] $, N = $ \\left[\\begin{matrix} n_1 & n_2\\\\ n_3 & n_4 \\end{matrix} \\right] $\n",
    "\n",
    "$ \\prod{M}{N} = \\left[\\begin{matrix}m_1 n_1 + m_2 n_3 & m_1 n_2 + m_2 n_4 \\\\ m_3 n_1 + m_4 n_3 & m_3 n_2 + m_4 n_4 \\end{matrix}\\right] $\n",
    "\n",
    "The result here is confusing to look at. A simpler way to think about this is to designate the left matrix as the _Row Matrix (R)_ and the second matrix as the _Column Matrix (C)_. The matrix that will come out of this product is the _Product Matrix (P)_. We only need to know the P's size. Iterate through its cells noting each cell's row and column, and select the appropriate row from R and the appropriate column from C. The P cell's value is equal to the sum of pairwise multiplication between the row and column.\n",
    "\n",
    "For example:\n",
    "\n",
    "Given square matrices $ R = \\left[\\begin{matrix} 3 & 1\\\\ 2 & 4 \\end{matrix} \\right], C = \\left[\\begin{matrix} 5 & 8\\\\ 7 & 6 \\end{matrix} \\right] P = \\left[\\begin{matrix} p_{11} & p_{12}\\\\ p_{21} & p_{22} \\end{matrix} \\right] $\n",
    "\n",
    "Then: \n",
    "\n",
    "$ p_{11} = \\left[\\begin{matrix} 3 & 1\\end{matrix} \\right] * \\left[\\begin{matrix} 5 \\\\ 7\\end{matrix} \\right] = 3*5 + 1*7 $\n",
    "\n",
    "$ p_{12} = \\left[\\begin{matrix} 3 & 1\\end{matrix} \\right] * \\left[\\begin{matrix} 8 \\\\ 6\\end{matrix} \\right] = 3*8 + 1*6 $\n",
    "\n",
    "$ p_{21} = \\left[\\begin{matrix} 2 & 4\\end{matrix} \\right] * \\left[\\begin{matrix} 5 \\\\ 7\\end{matrix} \\right] = 2*5 + 4*7 $\n",
    "\n",
    "$ p_{22} = \\left[\\begin{matrix} 2 & 4\\end{matrix} \\right] * \\left[\\begin{matrix} 8 \\\\ 6\\end{matrix} \\right] = 2*8 + 4*6 $\n"
   ]
  },
  {
   "cell_type": "markdown",
   "id": "62cd3513",
   "metadata": {},
   "source": [
    "### Another way\n",
    "\n",
    "Thanks to [this](https://www.youtube.com/watch?v=XkY2DOUCWMU&list=PLZHQObOWTQDPD3MizzM2xVFitgF8hE_ab&index=4) handy video, we can use another method.\n",
    "\n",
    "Let's rename the matrices we had:\n",
    "\n",
    "$ M_2 = R, M_1 = C $,\n",
    "\n",
    "$ M_2 = \\left[\\begin{matrix} 3 & 1\\\\ 2 & 4 \\end{matrix} \\right] , M_1 = \\left[\\begin{matrix} 5 & 8\\\\ 7 & 6 \\end{matrix} \\right] P = \\left[\\begin{matrix} p_{11} & p_{12}\\\\ p_{21} & p_{22} \\end{matrix} \\right] $\n",
    "\n",
    "It's not a mistake that $ M_1 $ is second.\n",
    "\n",
    "To find the product of $ M_2 * M_1 $, take a column from $ M_1 $, and for each cell, multiply its value as a scalar into the columns of $ M_2 $.\n",
    "\n",
    "$ \\left[\\begin{matrix} p_{11} \\\\ p_{21} \\end{matrix} \\right] = \n",
    "\\left[\\begin{matrix} 3 & 1\\\\ 2 & 4 \\end{matrix} \\right] \\left[\\begin{matrix} 5 \\\\ 7 \\end{matrix} \\right] = \n",
    "5 \\left[\\begin{matrix} 3 \\\\ 2 \\end{matrix} \\right] + 7 \\left[\\begin{matrix} 1 \\\\ 4 \\end{matrix} \\right] =\n",
    "\\left[\\begin{matrix} 22 \\\\ 38 \\end{matrix} \\right]\n",
    "$ \n",
    "\n",
    "$ \\left[\\begin{matrix} p_{12} \\\\ p_{22} \\end{matrix} \\right] = \n",
    "\\left[\\begin{matrix} 3 & 1\\\\ 2 & 4 \\end{matrix} \\right] \\left[\\begin{matrix} 8 \\\\ 6 \\end{matrix} \\right] = \n",
    "8 \\left[\\begin{matrix} 3 \\\\ 2 \\end{matrix} \\right] + 6 \\left[\\begin{matrix} 1 \\\\ 4 \\end{matrix} \\right] =\n",
    "\\left[\\begin{matrix} 30 \\\\ 40 \\end{matrix} \\right]\n",
    "$ \n",
    "\n",
    "$ P = \\left[\\begin{matrix} 22 & 30 \\\\ 38 & 40 \\end{matrix} \\right] $\n"
   ]
  },
  {
   "cell_type": "code",
   "execution_count": 1,
   "id": "7f08f791",
   "metadata": {},
   "outputs": [
    {
     "name": "stdout",
     "output_type": "stream",
     "text": [
      "ans =\r\n",
      "\r\n",
      "   22   30\r\n",
      "   38   40\r\n",
      "\r\n"
     ]
    }
   ],
   "source": [
    "# Let's check the result\n",
    "[3 1; 2 4] * [5 8; 7 6]"
   ]
  },
  {
   "cell_type": "markdown",
   "id": "118b5da7",
   "metadata": {},
   "source": [
    "### This method makes sense if you can think of each matrix as a linear transformation. \n",
    "\n",
    "Given the standard basis for the linear space $ R^2 = \\left[\\begin{matrix} 1 & 0\\\\ 0 & 1 \\end{matrix} \\right] $ \n",
    "\n",
    "then we can label the first vector, or column, as $ \\hat{i} = \\left[\\begin{matrix} 1 \\\\ 0 \\end{matrix} \\right] $\n",
    "\n",
    "and the second vector, or column, as $ \\hat{j} = \\left[\\begin{matrix} 0 \\\\ 1 \\end{matrix} \\right] $\n",
    "\n",
    "$ \\hat{i} $ is a vector of minimal length along the x axis and $ \\hat{j} $ is a vector of minimal length along the y axis, such that applying scalars to both vectors would allow for a span of the entire space $ R^2 $.\n",
    "\n",
    "In other words:\n",
    "\n",
    "Let any other vector in this linear space in the form of $ (x,y) $ be described as a linear combination of the basis, where scalars $ \\alpha, \\beta \\in the field R $\n",
    "\n",
    "$ \\exists (x,y) \\in R^2: (x,y) = \\alpha(\\hat{i}) + \\beta(\\hat{j}) $"
   ]
  },
  {
   "cell_type": "code",
   "execution_count": 2,
   "id": "2f9eecba",
   "metadata": {},
   "outputs": [
    {
     "data": {
      "image/png": "[encoded data removed]",
      "text/plain": [
       "<IPython.core.display.Image object>"
      ]
     },
     "metadata": {},
     "output_type": "display_data"
    }
   ],
   "source": [
    "axis([-2 2 -2 2]);\n",
    "xlabel(\"x\");\n",
    "ylabel(\"y\");\n",
    "axis(\"square\");\n",
    "grid on;\n",
    "set(gca, \"gridcolor\", [0.85,0.85,0.85])\n",
    "hold on;\n",
    "draw_2d_vector([1, 0])\n",
    "draw_2d_vector([0, 1])"
   ]
  },
  {
   "cell_type": "markdown",
   "id": "b89aa349",
   "metadata": {},
   "source": [
    "Then, we can multiply the basis by $ M_1 $ to get a new basis, but since the standard basis we're starting with is an identity matrix then the result will be equal to the transformation itself. "
   ]
  },
  {
   "cell_type": "code",
   "execution_count": 3,
   "id": "2aabd47e",
   "metadata": {},
   "outputs": [
    {
     "name": "stdout",
     "output_type": "stream",
     "text": [
      "ans =\r\n",
      "\r\n",
      "   5   8\r\n",
      "   7   6\r\n",
      "\r\n"
     ]
    }
   ],
   "source": [
    "[1 0 ; 0 1] * [5 8 ; 7 6]"
   ]
  },
  {
   "cell_type": "markdown",
   "id": "07d14f76",
   "metadata": {},
   "source": [
    "What's happened here is this: \n",
    "\n",
    "Let $ v_1 $ be the first vector/column of $ M_1 $.\n",
    "\n",
    "$ v_1 $ represents a change of coordinates for $ \\hat{i} $, which is a change to the linear space itself. The first component of $ v_1 $ is the scaling change for the $ x $ component of $ \\hat{i} $, so that is applied as a scalar to the $ \\hat{i} $ of the standard basis :\n",
    "\n",
    "$ \\hat{i} = 5 \\left[\\begin{matrix} 1 \\\\ 0 \\end{matrix} \\right] = \\left[\\begin{matrix} 5 \\\\ 0 \\end{matrix} \\right] $\n",
    "\n",
    "The second component of $ v_1 $ represents a change for the $ y $ component of $ \\hat{i} $. This $ y $ of $ \\hat{i} $ is scaled by $ \\hat{j} $, (although it is technically $ y $ that scales $ \\hat{j} $, before we add it back into $ \\hat{i}) $ :\n",
    "\n",
    "$ \\hat{j} = 7 \\left[\\begin{matrix} 0 \\\\ 1 \\end{matrix} \\right] = \\left[\\begin{matrix} 0 \\\\ 7 \\end{matrix} \\right] $\n",
    "\n",
    "And then finally, the new vector for $ \\hat{i} $: \n",
    "\n",
    "$ \\left[\\begin{matrix} 5 \\\\ 0 \\end{matrix} \\right] + \\left[\\begin{matrix} 0 \\\\ 7 \\end{matrix} \\right] = \\left[\\begin{matrix} 5 \\\\ 7 \\end{matrix} \\right] $\n",
    "\n",
    "\n",
    "To say that $ \\hat{i} $ has changed position on the x and y axes is to say that the linear space has changed."
   ]
  },
  {
   "cell_type": "code",
   "execution_count": 4,
   "id": "815adfa3",
   "metadata": {},
   "outputs": [
    {
     "name": "stdout",
     "output_type": "stream",
     "text": [
      "basis =\r\n",
      "\r\n",
      "          1          0\r\n",
      "          0          1\r\n",
      "\r\n"
     ]
    },
    {
     "data": {
      "image/png": "[encoded data removed]",
      "text/plain": [
       "<IPython.core.display.Image object>"
      ]
     },
     "metadata": {},
     "output_type": "display_data"
    }
   ],
   "source": [
    "# As a demo, let's imagine we have the standard basis for a linear space:\n",
    "\n",
    "format rat;\n",
    "\n",
    "basis = [1 0; 0 1]\n",
    "\n",
    "axis([-3 3 -3 3]);\n",
    "xlabel(\"x\");\n",
    "ylabel(\"y\");\n",
    "axis(\"square\");\n",
    "grid on;\n",
    "set(gca, \"gridcolor\", [0.85,0.85,0.85])\n",
    "hold on;\n",
    "draw_2d_vector(basis(:,1))\n",
    "draw_2d_vector(basis(:,2))"
   ]
  },
  {
   "cell_type": "code",
   "execution_count": 5,
   "id": "1a4670b1",
   "metadata": {},
   "outputs": [
    {
     "name": "stdout",
     "output_type": "stream",
     "text": [
      "transformation =\n",
      "\n",
      "          3          1\n",
      "          1         -2\n",
      "\n",
      "basis_2 =\n",
      "\n",
      "          3          1\n",
      "          1         -2\n",
      "\n"
     ]
    },
    {
     "data": {
      "image/png": "[encoded data removed]",
      "text/plain": [
       "<IPython.core.display.Image object>"
      ]
     },
     "metadata": {},
     "output_type": "display_data"
    }
   ],
   "source": [
    "# And a transformation\n",
    "# Imagine the arrows are taking parralel lines with them\n",
    "\n",
    "transformation = [3 1; 1 -2]\n",
    "basis_2 = transformation * basis\n",
    "\n",
    "axis([-3 3 -3 3]);\n",
    "xlabel(\"x\");\n",
    "ylabel(\"y\");\n",
    "axis(\"square\");\n",
    "set(gca, \"gridcolor\", [0.85,0.85,0.85])\n",
    "hold on;\n",
    "draw_2d_vector(basis_2(:,1))\n",
    "draw_2d_vector(basis_2(:,2))"
   ]
  },
  {
   "cell_type": "code",
   "execution_count": 6,
   "id": "0a8bea8b",
   "metadata": {},
   "outputs": [
    {
     "name": "stdout",
     "output_type": "stream",
     "text": [
      "transformation_2 =\n",
      "\n",
      "        1/4        1/2\n",
      "          1       -1/2\n",
      "\n",
      "basis_3 =\n",
      "\n",
      "        5/4       -3/4\n",
      "        5/2          2\n",
      "\n"
     ]
    },
    {
     "data": {
      "image/png": "[encoded data removed]",
      "text/plain": [
       "<IPython.core.display.Image object>"
      ]
     },
     "metadata": {},
     "output_type": "display_data"
    }
   ],
   "source": [
    "# And a transformation, notice it scales\n",
    "\n",
    "transformation_2 = [1/4 1/2; 1 -1/2]\n",
    "basis_3 = transformation_2 * basis_2\n",
    "\n",
    "axis([-3 3 -3 3]);\n",
    "xlabel(\"x\");\n",
    "ylabel(\"y\");\n",
    "axis(\"square\");\n",
    "set(gca, \"gridcolor\", [0.85,0.85,0.85])\n",
    "hold on;\n",
    "draw_2d_vector(basis_3(:,1))\n",
    "draw_2d_vector(basis_3(:,2))"
   ]
  },
  {
   "cell_type": "code",
   "execution_count": null,
   "id": "2fe6849d",
   "metadata": {},
   "outputs": [],
   "source": []
  }
 ],
 "metadata": {
  "kernelspec": {
   "display_name": "Octave",
   "language": "octave",
   "name": "octave"
  },
  "language_info": {
   "file_extension": ".m",
   "help_links": [
    {
     "text": "GNU Octave",
     "url": "https://www.gnu.org/software/octave/support.html"
    },
    {
     "text": "Octave Kernel",
     "url": "https://github.com/Calysto/octave_kernel"
    },
    {
     "text": "MetaKernel Magics",
     "url": "https://metakernel.readthedocs.io/en/latest/source/README.html"
    }
   ],
   "mimetype": "text/x-octave",
   "name": "octave",
   "version": "6.4.0"
  }
 },
 "nbformat": 4,
 "nbformat_minor": 5
}
