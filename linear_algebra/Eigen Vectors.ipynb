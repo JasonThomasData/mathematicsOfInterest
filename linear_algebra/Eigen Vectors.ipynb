{
 "cells": [
  {
   "cell_type": "markdown",
   "id": "fb3949d5",
   "metadata": {},
   "source": [
    "### Eigen Vectors\n",
    "\n",
    "Eigen vectors are ones that if you perform a linear transform on the Eigen vector, then the result is merely a multiple of the original. Intuitively, this means that when an Eigen vector is transformed then its direction remains the same and is essentially scalar transformed.\n",
    "\n",
    "Let:\n",
    "\n",
    "$ A $ be some matrix that will be the linear transform.\n",
    "\n",
    "$ \\vec{V} $ be the Eigen vector.\n",
    "\n",
    "$ \\lambda $ be the scalar multiple that would produce the same result.\n",
    "\n",
    "$ A \\vec{V} = \\lambda \\vec{V} $\n",
    "\n",
    "An Eigen vector cannot be a zero vector. Although its transformation will always be a multiple of itself, the zero vector is the trivial case. The only requirement here is that not all of the vector's components are zero.\n",
    "\n",
    "This also implies that the result after the transform cannot be zero.\n",
    "\n",
    "However, it is possible to have an Eigen vector that corresponds to some $ A $ such that the corresponding $ \\lambda = 0 $.\n",
    "\n",
    "#### Example: simple case\n",
    "\n",
    "Take the linear transformation:\n",
    "\n",
    "$ \\left[ \\begin{matrix} 1 & 2 & 0 \\\\ 2 & 2 & 2 \\\\ 0 & 2 & 3 \\end{matrix} \\right] $\n",
    "\n",
    "And the Eigen Vector:\n",
    "\n",
    "$ \\left[ \\begin{matrix} 2 \\\\ 1 \\\\ -2 \\end{matrix} \\right] $\n",
    "\n",
    "Then we can confirm it is an Eigen vector:\n"
   ]
  },
  {
   "cell_type": "markdown",
   "id": "08c37c73",
   "metadata": {},
   "source": [
    "$ \\left[ \\begin{matrix} 1*2 & + & 2*1 & - & 0*2 \\\\ 2*2 & + & 2*1 & - &2*2 \\\\ 0*2 & + & 2*1 & - & 3*2 \\end{matrix} \\right]  = \\left[ \\begin{matrix} 4 \\\\ 2 \\\\ -4 \\end{matrix} \\right] $"
   ]
  },
  {
   "cell_type": "markdown",
   "id": "6534aa00",
   "metadata": {},
   "source": [
    "And this means:\n",
    "\n",
    "$ \\left[ \\begin{matrix} 4 \\\\ 2 \\\\ -4 \\end{matrix} \\right] = 2\\left[ \\begin{matrix} 2 \\\\ 1 \\\\ -2 \\end{matrix} \\right] $\n"
   ]
  },
  {
   "cell_type": "markdown",
   "id": "b47f17fc",
   "metadata": {},
   "source": [
    "### Does a matrix have an Eigen vector?\n",
    "\n",
    "To determine this, and in addition to definitions above, let:\n",
    "\n",
    "$ I $ be the identity matrix of the same size as $ A $\n",
    "\n",
    "$ \\vec{0} $ be the zero vector\n",
    "\n",
    "Then:\n",
    "\n",
    "$ A \\vec{V} = \\lambda \\vec{V} $\n",
    "\n",
    "Also remember:\n",
    "\n",
    "$ \\vec{V} = I \\vec{V} $\n",
    "\n",
    "Then:\n",
    "\n",
    "$ A \\vec{V} = \\lambda I \\vec{V} $\n",
    "\n",
    "$ A \\vec{V} - \\lambda I \\vec{V} = \\vec{0}$\n",
    "\n",
    "$ (A - \\lambda I) \\vec{V} = \\vec{0}$\n",
    "\n",
    "$ B = A - \\lambda I $\n",
    "\n",
    "__If $ B $ has an inverse $ B^{-1} $ then $ \\vec{V} = \\vec{0} $ and that means there is no Eigen vector that corresponds to the given $\\lambda$ .__\n",
    "\n",
    "Let us assume that $ B $ has an inverse $ B^{-1} $\n",
    "\n",
    "Then that implies.\n",
    "\n",
    "$ B \\vec{V} = \\vec{0}$\n",
    "\n",
    "And if you multiply both sides by $ B^{-1} $ then this leads to:\n",
    "\n",
    "$ \\vec{V} = \\vec{0}$\n",
    "\n",
    "And for reasons already explained, this would mean that the matrix $ A $ does not have an Eigen vector.\n",
    "\n",
    "__We must choose a lambda such that $ det(B) = 0 $, which means there can be no inverse of $ B $__\n",
    "\n",
    "This is solved as a system of linear equations.\n",
    "\n",
    "#### Example of finding $ \\lambda $ as a system of linear equations\n",
    "\n",
    "Given the matrix:\n",
    "\n",
    "$ A = \\left[ \\begin{matrix} 1 & 2 & 0 \\\\ 2 & 2 & 2 \\\\ 0 & 2 & 3 \\end{matrix} \\right] $\n",
    "\n",
    "And the requirement: $ det(A - \\lambda I) = 0 $\n",
    "\n",
    "Then:\n",
    "\n",
    "$ \\lambda I = \\left[ \\begin{matrix} \\lambda & 0 & 0 \\\\ 0 & \\lambda & 0 \\\\ 0 & 0 & \\lambda \\end{matrix} \\right] $\n",
    "\n",
    "$ A - \\lambda I = \\left[ \\begin{matrix} 1 - \\lambda & 2 & 0 \\\\ 2 & 2 - \\lambda & 2 \\\\ 0 & 2 & 3 - \\lambda \\end{matrix} \\right] $\n",
    "\n",
    "And the condition is still:\n",
    "\n",
    "$ det \\left( \\left[ \\begin{matrix} 1 - \\lambda & 2 & 0 \\\\ 2 & 2 - \\lambda & 2 \\\\ 0 & 2 & 3 - \\lambda \\end{matrix} \\right] \\right) = \\left[ \\begin{matrix} 0 \\\\ 0 \\\\ 0 \\end{matrix} \\right] $\n",
    "\n",
    "Now we can solve it as an augmented matrix.\n",
    "\n",
    "I can't be bothered doing this manually:"
   ]
  },
  {
   "cell_type": "code",
   "execution_count": 15,
   "id": "cc7e4d4c",
   "metadata": {},
   "outputs": [
    {
     "name": "stdout",
     "output_type": "stream",
     "text": [
      "AmlI = (sym 3×3 matrix)\r\n",
      "\r\n",
      "  ⎡1 - l    2      0  ⎤\r\n",
      "  ⎢                   ⎥\r\n",
      "  ⎢  2    2 - l    2  ⎥\r\n",
      "  ⎢                   ⎥\r\n",
      "  ⎣  0      2    3 - l⎦\r\n",
      "\r\n"
     ]
    }
   ],
   "source": [
    "pkg load symbolic\n",
    "syms l\n",
    "AmlI = [1-l 2 0; 2 2-l 2; 0 2 3-l]"
   ]
  },
  {
   "cell_type": "code",
   "execution_count": 19,
   "id": "f897f6aa",
   "metadata": {},
   "outputs": [
    {
     "name": "stdout",
     "output_type": "stream",
     "text": [
      "ans = (sym)\r\n",
      "\r\n",
      "     3      2           \r\n",
      "  - l  + 6⋅l  - 3⋅l - 10\r\n",
      "\r\n"
     ]
    }
   ],
   "source": [
    "expand(det(AmlI))"
   ]
  },
  {
   "cell_type": "code",
   "execution_count": 20,
   "id": "0fbf3d28",
   "metadata": {},
   "outputs": [
    {
     "name": "stdout",
     "output_type": "stream",
     "text": [
      "coefficients =\r\n",
      "\r\n",
      "   -1    6   -3  -10\r\n",
      "\r\n"
     ]
    }
   ],
   "source": [
    "coefficients = [-1 6 -3 -10]"
   ]
  },
  {
   "cell_type": "code",
   "execution_count": 21,
   "id": "14aaca9b",
   "metadata": {},
   "outputs": [
    {
     "name": "stdout",
     "output_type": "stream",
     "text": [
      "ans =\r\n",
      "\r\n",
      "   5.0000\r\n",
      "   2.0000\r\n",
      "  -1.0000\r\n",
      "\r\n"
     ]
    }
   ],
   "source": [
    "roots(coefficients)"
   ]
  },
  {
   "cell_type": "markdown",
   "id": "823bf263",
   "metadata": {},
   "source": [
    "These roots are the values of $ \\lambda $, from which the determinant is equal to $\\vec{0}$ , that mean will derive an Eigen vector for the matrix $ A $.\n",
    "\n",
    "Given these values of $ \\lambda $, we can now compute the Eigen vector using three augmented matrices as systems of linear equations.\n",
    "\n",
    "$(1): A \\vec{V} = -\\vec{V} $\n",
    "\n",
    "$(2): A \\vec{V} = 2\\vec{V} $\n",
    "\n",
    "$(2): A \\vec{V} = 5\\vec{V} $\n",
    "\n",
    "Now we have the acceptable values of $ \\lambda $ but still need to find $ \\vec{V} $. The general pattern to do this is:\n",
    "\n",
    "$ A\\vec{V} = \\lambda \\vec{V} $\n",
    "\n",
    "$ A\\vec{V} - \\lambda \\vec{V} = \\vec{0} $\n",
    "\n",
    "$ (A - \\lambda)\\vec{V} = \\vec{0} $\n",
    "\n",
    "$ \\left[ \\begin{matrix} a_{11} - \\lambda  & a_{12} & a_{13} \\\\ a_{21} & a_{22} - \\lambda & a_{23} \\\\ a_{31} & a_{32} & a_{33} - \\lambda \\end{matrix} \\right] \\left[ \\begin{matrix} v_1 \\\\ v_2 \\\\ v_3 \\end{matrix} \\right] = \\left[ \\begin{matrix} 0 \\\\ 0 \\\\ 0 \\end{matrix} \\right] $\n",
    "\n",
    "For the case of $ \\lambda = -1 $"
   ]
  },
  {
   "cell_type": "code",
   "execution_count": 48,
   "id": "8da7ecb9",
   "metadata": {},
   "outputs": [
    {
     "name": "stdout",
     "output_type": "stream",
     "text": [
      "aug1 =\r\n",
      "\r\n",
      "   2   2   0   0\r\n",
      "   2   3   2   0\r\n",
      "   0   2   4   0\r\n",
      "\r\n"
     ]
    }
   ],
   "source": [
    "aug1 = [1+1 2 0 0; 2 2+1 2 0; 0 2 3+1 0]"
   ]
  },
  {
   "cell_type": "code",
   "execution_count": 49,
   "id": "3da68593",
   "metadata": {},
   "outputs": [],
   "source": [
    "aug1(2,:) = aug1(2,:) + aug1(1,:)*(-1);"
   ]
  },
  {
   "cell_type": "code",
   "execution_count": 50,
   "id": "8548d0f8",
   "metadata": {},
   "outputs": [],
   "source": [
    "aug1(1,:) = aug1(1,:) * (1/2);"
   ]
  },
  {
   "cell_type": "code",
   "execution_count": 51,
   "id": "91915307",
   "metadata": {},
   "outputs": [
    {
     "name": "stdout",
     "output_type": "stream",
     "text": [
      "aug1 =\r\n",
      "\r\n",
      "   1   1   0   0\r\n",
      "   0   1   2   0\r\n",
      "   0   0   0   0\r\n",
      "\r\n"
     ]
    }
   ],
   "source": [
    "aug1(3,:) = aug1(3,:) + aug1(2,:) * (-2)"
   ]
  },
  {
   "cell_type": "markdown",
   "id": "01e09a8c",
   "metadata": {},
   "source": [
    "$ v_3 = t $\n",
    "\n",
    "$ v_2 = -2t $\n",
    "\n",
    "$ v_1 = 2t $\n",
    "\n",
    "The solution is $ t(2, -2, 1) $ for $\\lambda = -1\n",
    "\n",
    "  "
   ]
  },
  {
   "cell_type": "code",
   "execution_count": null,
   "id": "4af04377",
   "metadata": {},
   "outputs": [],
   "source": []
  }
 ],
 "metadata": {
  "kernelspec": {
   "display_name": "Octave",
   "language": "octave",
   "name": "octave"
  },
  "language_info": {
   "file_extension": ".m",
   "help_links": [
    {
     "text": "GNU Octave",
     "url": "https://www.gnu.org/software/octave/support.html"
    },
    {
     "text": "Octave Kernel",
     "url": "https://github.com/Calysto/octave_kernel"
    },
    {
     "text": "MetaKernel Magics",
     "url": "https://metakernel.readthedocs.io/en/latest/source/README.html"
    }
   ],
   "mimetype": "text/x-octave",
   "name": "octave",
   "version": "5.2.0"
  }
 },
 "nbformat": 4,
 "nbformat_minor": 5
}
