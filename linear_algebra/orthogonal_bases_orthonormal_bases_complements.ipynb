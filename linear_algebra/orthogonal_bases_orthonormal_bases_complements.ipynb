{
 "cells": [
  {
   "cell_type": "markdown",
   "id": "45dd9914",
   "metadata": {},
   "source": [
    "### Inner product\n",
    "\n",
    "#### Dot product\n",
    "\n",
    "Given two vectors $ A, B $, a dot product is defined as:\n",
    "\n",
    "$ A \\cdot B = a_1 * b_1 + a_2 * b_2 + ... a_n * b_n $\n",
    "\n",
    "It always yields a scalar value.\n",
    "\n",
    "This is a useful idea as it gives us an intuitive understanding for the length of a vector.\n",
    "\n",
    "$ \\sqrt{X \\cdot X} = \\sqrt{x^2 + x^2} $, which should look familiar as Pythagorus' theorem. Therefore, the length of a vector is the dot product of all its component values.\n",
    "\n"
   ]
  },
  {
   "cell_type": "markdown",
   "id": "935800fb",
   "metadata": {},
   "source": [
    "You can use the dot product of two vectors with the same origin to find the angle between them, with cosine as a function of the angle. As a consequence (think of when cosine is equal to 0 on the unit vector) then if two vectors $ A \\cdot B = 0 $ then those vectors are orthagonal (90 degrees)."
   ]
  },
  {
   "cell_type": "markdown",
   "id": "7ab5a8f8",
   "metadata": {},
   "source": [
    "_Example: Determine two mutually orthogonal vectors each of which is orthogonal to (1, −1, 2)._\n",
    "\n",
    "$ R^3 $ is a linear space over $ R $\n",
    "\n",
    "$ a,b,c \\in R $\n",
    "\n",
    "$ x = (1,-1,2), Y = (a,b,c) $\n",
    "\n",
    "Since $ X \\cdot Y = 0 $, then another way to think about this is Y is composed of scalars that scale X. Then we need to find some scalars that keep the equality with 0. \n",
    "\n",
    "$ X = (1,-1,2), Y = (1,1,0) $\n",
    "\n",
    "$ (1,-1,2) \\cdot (1,1,0) = 0 $\n",
    "\n",
    "Then Y is orthagonal to X. We need yet another vector, or set of scalars. This solveable using row operations."
   ]
  },
  {
   "cell_type": "code",
   "execution_count": 1,
   "id": "6d166c1b",
   "metadata": {},
   "outputs": [
    {
     "name": "stdout",
     "output_type": "stream",
     "text": [
      "M =\r\n",
      "\r\n",
      "   1  -1   2\r\n",
      "   1   1   0\r\n",
      "\r\n"
     ]
    }
   ],
   "source": [
    "M = [1 -1 2; 1 1 0]"
   ]
  },
  {
   "cell_type": "code",
   "execution_count": 2,
   "id": "57e97d00",
   "metadata": {},
   "outputs": [
    {
     "name": "stdout",
     "output_type": "stream",
     "text": [
      "M =\r\n",
      "\r\n",
      "   1  -1   2\r\n",
      "   0   2  -2\r\n",
      "\r\n"
     ]
    }
   ],
   "source": [
    "M(2,:) = M(2,:) + M(1,:) * -1"
   ]
  },
  {
   "cell_type": "code",
   "execution_count": 3,
   "id": "911b78b3",
   "metadata": {},
   "outputs": [
    {
     "name": "stdout",
     "output_type": "stream",
     "text": [
      "M =\r\n",
      "\r\n",
      "   1  -1   2\r\n",
      "   0   1  -1\r\n",
      "\r\n"
     ]
    }
   ],
   "source": [
    "M(2,:) = M(2,:) * 0.5"
   ]
  },
  {
   "cell_type": "markdown",
   "id": "ad1109d2",
   "metadata": {},
   "source": [
    "$ c = t, b = t, a = t -2t $\n",
    "\n",
    "Then, $ Z = (-1, 1, 1) $ is orthagonal to X and Y"
   ]
  },
  {
   "cell_type": "markdown",
   "id": "11276a29",
   "metadata": {},
   "source": [
    "#### TODO\n",
    "\n",
    "Go through the theorems for the Cauchy-Swarz and Triangle inequalities"
   ]
  },
  {
   "cell_type": "markdown",
   "id": "b7468079",
   "metadata": {},
   "source": [
    "#### Orthogonal bases\n",
    "\n",
    "If you have some basis for a span and want to find a basis for the span that is orthagonal, then you can use the Gram-Schmidt orthogonalisation process."
   ]
  },
  {
   "cell_type": "code",
   "execution_count": 20,
   "id": "de5e7d43",
   "metadata": {},
   "outputs": [
    {
     "name": "stdout",
     "output_type": "stream",
     "text": [
      "U =\n",
      "\n",
      "   4  -1\n",
      "\n",
      "V =\n",
      "\n",
      "  -3   3\n",
      "\n"
     ]
    },
    {
     "data": {
      "image/png": "[encoded data removed]",
      "text/plain": [
       "<IPython.core.display.Image object>"
      ]
     },
     "metadata": {},
     "output_type": "display_data"
    }
   ],
   "source": [
    "### Example\n",
    "\n",
    "U = [4 -1]\n",
    "V = [-3 3]\n",
    "\n",
    "axis([-4 4 -4 4]);\n",
    "axis(\"square\");\n",
    "grid on;\n",
    "hold on;\n",
    "draw_2d_vector(U);\n",
    "draw_2d_vector(V);\n",
    "legend(\"U \",\"V \")\n",
    "set (legend, \"fontsize\", 12);"
   ]
  },
  {
   "cell_type": "markdown",
   "id": "1ed2eba5",
   "metadata": {},
   "source": [
    "If we treat the vector $ U $ as fixed then there is some scalar $ a $ such that $ V + a U $, with the same origin, would be orthogonal to $ U $.\n",
    "\n",
    "The trouble is, we don't know the value of that scalar."
   ]
  },
  {
   "cell_type": "code",
   "execution_count": 22,
   "id": "1126d998",
   "metadata": {},
   "outputs": [
    {
     "data": {
      "image/png": "[encoded data removed]",
      "text/plain": [
       "<IPython.core.display.Image object>"
      ]
     },
     "metadata": {},
     "output_type": "display_data"
    }
   ],
   "source": [
    "# Ignore the value of the scalar for now, it's a guess to illustrate the point that this vector a*U scales to point at where the orthogonal vector would be\n",
    "\n",
    "a = 0.9;\n",
    "\n",
    "axis([-4 4 -4 4]);\n",
    "axis(\"square\");\n",
    "grid on;\n",
    "hold on;\n",
    "draw_2d_vector(U);\n",
    "draw_2d_vector(V);\n",
    "draw_2d_vector(a.*U, V);\n",
    "legend(\"U \",\"V \", \"a*U \");\n",
    "set (legend, \"fontsize\", 12);"
   ]
  },
  {
   "cell_type": "markdown",
   "id": "c15d3959",
   "metadata": {},
   "source": [
    "Let this new vector be $ W = V + a U $\n",
    "\n",
    "For a new basis vector $ W $ to be orthogonal to the existing basis vector $ U $, then $ U \\cdot W = 0 $\n",
    "\n",
    "$ \\therefore U \\cdot (V + a U) = 0 $\n",
    "\n",
    "$ \\therefore U \\cdot V + a U \\cdot U = 0 $\n",
    "\n",
    "$ \\therefore a = - \\frac{U \\cdot V}{U \\cdot U}  $"
   ]
  },
  {
   "cell_type": "code",
   "execution_count": 23,
   "id": "1f3b732e",
   "metadata": {},
   "outputs": [
    {
     "name": "stdout",
     "output_type": "stream",
     "text": [
      "a =  0.88235\n",
      "W =\n",
      "\n",
      "   0.52941   2.11765\n",
      "\n"
     ]
    },
    {
     "data": {
      "image/png": "[encoded data removed]",
      "text/plain": [
       "<IPython.core.display.Image object>"
      ]
     },
     "metadata": {},
     "output_type": "display_data"
    }
   ],
   "source": [
    "a = -dot(U,V)/dot(U,U)\n",
    "W = a.*U+V\n",
    "\n",
    "axis([-4 4 -4 4]);\n",
    "axis(\"square\");\n",
    "grid on;\n",
    "hold on;\n",
    "draw_2d_vector(U);\n",
    "draw_2d_vector(V);\n",
    "draw_2d_vector(W);\n",
    "legend(\"U (kept)\",\"V (old)\", \"W (new)\");\n",
    "set (legend, \"fontsize\", 12);"
   ]
  },
  {
   "cell_type": "markdown",
   "id": "8ba42ec7",
   "metadata": {},
   "source": [
    "#### Orthonormal bases\n",
    "\n",
    "The second part of the Gram-Schmidt process is to scale the basis vectors.\n",
    "\n",
    "The above example is an orthogonal basis, but it is not a standard basis. We need it to be a basis made up of the unit vectors. Divide each basis vector by its length\n",
    "\n",
    "Recall that the length of a vector $ ||U|| = \\sqrt{U \\cdot U} $\n",
    "\n",
    "Then the orthonormal basis is $ \\left\\{ \\frac{U}{||U||}, \\frac{W}{||W||} \\right\\} $"
   ]
  },
  {
   "cell_type": "code",
   "execution_count": 25,
   "id": "b678f72e",
   "metadata": {},
   "outputs": [
    {
     "name": "stdout",
     "output_type": "stream",
     "text": [
      "X =\n",
      "\n",
      "   0.97014  -0.24254\n",
      "\n",
      "Y =\n",
      "\n",
      "   0.24254   0.97014\n",
      "\n"
     ]
    },
    {
     "data": {
      "image/png": "[encoded data removed]",
      "text/plain": [
       "<IPython.core.display.Image object>"
      ]
     },
     "metadata": {},
     "output_type": "display_data"
    }
   ],
   "source": [
    "X = U ./ sqrt(dot(U,U))\n",
    "Y = W ./ sqrt(dot(W,W))\n",
    "\n",
    "axis([-4 4 -4 4]);\n",
    "axis(\"square\");\n",
    "grid on;\n",
    "hold on;\n",
    "draw_2d_vector(X);\n",
    "draw_2d_vector(Y);\n",
    "legend(\"X \",\"Y \");\n",
    "set (legend, \"fontsize\", 12);"
   ]
  },
  {
   "cell_type": "markdown",
   "id": "eca54004",
   "metadata": {},
   "source": [
    "#### TODO\n",
    "\n",
    "Orthogonal complement"
   ]
  },
  {
   "cell_type": "code",
   "execution_count": null,
   "id": "89c3fde3",
   "metadata": {},
   "outputs": [],
   "source": []
  }
 ],
 "metadata": {
  "kernelspec": {
   "display_name": "Octave",
   "language": "octave",
   "name": "octave"
  },
  "language_info": {
   "file_extension": ".m",
   "help_links": [
    {
     "text": "GNU Octave",
     "url": "https://www.gnu.org/software/octave/support.html"
    },
    {
     "text": "Octave Kernel",
     "url": "https://github.com/Calysto/octave_kernel"
    },
    {
     "text": "MetaKernel Magics",
     "url": "https://metakernel.readthedocs.io/en/latest/source/README.html"
    }
   ],
   "mimetype": "text/x-octave",
   "name": "octave",
   "version": "5.2.0"
  }
 },
 "nbformat": 4,
 "nbformat_minor": 5
}
