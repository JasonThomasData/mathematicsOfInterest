{
 "cells": [
  {
   "cell_type": "markdown",
   "id": "5989946d",
   "metadata": {},
   "source": [
    "We can define a line using a point in a space and a single vector. I think this should work for any linear space of any degree.\n",
    "\n",
    "Consider a point $ P_0 = (1,2,-1) $ and a vector $ \\vec{V} = (1,1,-1) $. The vector could also be written $ i+j-k $\n",
    "\n",
    "The origin is $ O (0,0,0) $\n",
    "\n",
    "As these are in a 3d space then consider that these are abstract concepts only, below."
   ]
  },
  {
   "cell_type": "code",
   "execution_count": 36,
   "id": "f0f37057",
   "metadata": {},
   "outputs": [
    {
     "data": {
      "image/png": "[encoded data removed]",
      "text/plain": [
       "<IPython.core.display.Image object>"
      ]
     },
     "metadata": {},
     "output_type": "display_data"
    }
   ],
   "source": [
    "# This plot is an abstract illustration and not to scale etc, so only pay attention to the lines and text annotations\n",
    "\n",
    "axis([0 13 0 13]);\n",
    "axis(\"square\");\n",
    "axis off;\n",
    "grid off;\n",
    "hold on;\n",
    "\n",
    "plot(5,3,\"o\");\n",
    "text(5.5,3,\"P_0 = (1,2,-1)\");\n",
    "\n",
    "plot(6,1,\"o\");\n",
    "text(6.5,1,\"O = (0,0,0)\");\n",
    "\n",
    "draw_2d_vector([7, 2], [2,7]);\n",
    "text(9.5,9,\"V = (1,1,-1)\");\n"
   ]
  },
  {
   "cell_type": "markdown",
   "id": "2ce54555",
   "metadata": {},
   "source": [
    "It doesn't matter that these are not to scale or consistent etc.\n",
    "\n",
    "First calculate the vector $\\vec{OP_0} $ which is $ P_0 - O = (1,2,-1) $\n",
    "\n",
    "Then add $ V_1 $ to that, but consider the scalar $ t $.\n",
    "\n",
    "$ \\vec{L} = \\vec{OP_0} + \\vec{V_1} $\n",
    "\n",
    "$ \\vec{L} = (1,2,-1) + t(1,1,-1) $\n",
    "\n",
    "The scalar $ t $ allows this to define any point on the line."
   ]
  },
  {
   "cell_type": "code",
   "execution_count": 39,
   "id": "5e2a83de",
   "metadata": {},
   "outputs": [
    {
     "data": {
      "image/png": "[encoded data removed]",
      "text/plain": [
       "<IPython.core.display.Image object>"
      ]
     },
     "metadata": {},
     "output_type": "display_data"
    }
   ],
   "source": [
    "# This plot is an abstract illustration and not to scale etc, so only pay attention to the lines and text annotations\n",
    "\n",
    "axis([0 13 0 13]);\n",
    "axis(\"square\");\n",
    "axis off;\n",
    "grid off;\n",
    "hold on;\n",
    "\n",
    "text(3.5,3.2,\"(1,2,-1)\");\n",
    "\n",
    "plot(6,1,\"o\");\n",
    "text(6.25,1,\"(0,0,0)\");\n",
    "\n",
    "draw_2d_vector([7, 2], [5,3]);\n",
    "text(9.5,5.6,\"t(1,1,-1)\");"
   ]
  },
  {
   "cell_type": "markdown",
   "id": "7329e62a",
   "metadata": {},
   "source": [
    "For the given example:\n",
    "\n",
    "#### Vector equation\n",
    "\n",
    "$ (1 + t, 2 + t, -1 - t) $\n",
    "\n",
    "#### Parametric equation\n",
    "\n",
    "$ x = 1 + t $\n",
    "\n",
    "$ y = 2 + t $\n",
    "\n",
    "$ z = -1 - t $\n",
    "\n",
    "#### Cartesian equation\n",
    "\n",
    "$ t = \\frac{x-1}{1} = \\frac{y-2}{1} = \\frac{z+1}{-1} $"
   ]
  },
  {
   "cell_type": "code",
   "execution_count": null,
   "id": "396ac6d7",
   "metadata": {},
   "outputs": [],
   "source": []
  }
 ],
 "metadata": {
  "kernelspec": {
   "display_name": "Octave",
   "language": "octave",
   "name": "octave"
  },
  "language_info": {
   "file_extension": ".m",
   "help_links": [
    {
     "text": "GNU Octave",
     "url": "https://www.gnu.org/software/octave/support.html"
    },
    {
     "text": "Octave Kernel",
     "url": "https://github.com/Calysto/octave_kernel"
    },
    {
     "text": "MetaKernel Magics",
     "url": "https://metakernel.readthedocs.io/en/latest/source/README.html"
    }
   ],
   "mimetype": "text/x-octave",
   "name": "octave",
   "version": "5.2.0"
  }
 },
 "nbformat": 4,
 "nbformat_minor": 5
}
