{
 "cells": [
  {
   "cell_type": "markdown",
   "id": "86e5620b",
   "metadata": {},
   "source": [
    "### The intersection of two subspaces\n",
    "\n",
    "Given the first axiom for linear spaces, and a linear space:\n",
    "\n",
    "$ V_2(R) = {(a,b) | a,b \\in R} $\n",
    "\n",
    "It will be obvious that this linear space meets all the axioms.\n",
    "\n",
    "There are two subspaces:\n",
    "\n",
    "$ S_1 = {(2a, a+b) | (a,b) \\in V_2 } $ \n",
    "\n",
    "$ S_2 = {(a+b, 2b) | (a,b) \\in V_2 } $ \n",
    "\n",
    "I have checked, and these subspaces do meet the requirements for closure.\n",
    "\n",
    "Then the intersection of these two subspaces is $ S_1 + S_2 $.\n",
    "\n",
    "This is merely a consequence of the requirement for closure under addition; if any vector from any subspace is combined with any vector from the same subspace, then the subspace will contain the result. "
   ]
  },
  {
   "cell_type": "code",
   "execution_count": null,
   "id": "1864e17c",
   "metadata": {},
   "outputs": [],
   "source": []
  }
 ],
 "metadata": {
  "kernelspec": {
   "display_name": "Octave",
   "language": "octave",
   "name": "octave"
  },
  "language_info": {
   "file_extension": ".m",
   "help_links": [
    {
     "text": "GNU Octave",
     "url": "https://www.gnu.org/software/octave/support.html"
    },
    {
     "text": "Octave Kernel",
     "url": "https://github.com/Calysto/octave_kernel"
    },
    {
     "text": "MetaKernel Magics",
     "url": "https://metakernel.readthedocs.io/en/latest/source/README.html"
    }
   ],
   "mimetype": "text/x-octave",
   "name": "octave",
   "version": "5.2.0"
  }
 },
 "nbformat": 4,
 "nbformat_minor": 5
}
