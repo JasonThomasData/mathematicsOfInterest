{
 "cells": [
  {
   "cell_type": "markdown",
   "id": "e44c76fc",
   "metadata": {},
   "source": [
    "### Vectors\n",
    "\n",
    "Given a linear space, vectors can be thought of in abstract terms as coordinates away from the origin of a space. These are defined in terms of the basis for a space.\n",
    "\n",
    "You can also imagine them as physical properties with a unit and a direction.\n",
    "\n",
    "Let's introduce notation for a 2D space.\n",
    "\n",
    "A vector is that ends at x=1 and y=2 is:\n",
    "\n",
    "$ \\vec{V_1} = (1,2) $\n",
    "\n",
    "And one that ends at x=-1, y=3 is:\n",
    "\n",
    "$ \\vec{V_2} = (-1,3) $\n",
    "\n",
    "The difference of $ \\vec{V_1} $ to $ \\vec{V_2} $ is $ \\vec{V_1V_2} $\n",
    "\n",
    "Then what is the magnitude of $ \\vec{V_1V_2} $?\n",
    "\n",
    "First, let's find the new vector:\n",
    "\n",
    "$ \\vec{V_1V_2} = \\vec{V_2} - \\vec{V_1} $\n",
    "\n",
    "$ \\vec{V_1V_2} = (-1-1,3-2) = (-2,1) $\n",
    "\n",
    "So what is the magnitude? Since we have two coordinate axes that are orthagonal, then the x and y parts for the vector form a right triangle. Therefore the magnitude is found using Pythagorus' Theorem.\n",
    "\n",
    "$ |\\vec{V_1V_2}| = \\sqrt{(-2)^2 + 1^2} = \\sqrt{5} $\n"
   ]
  },
  {
   "cell_type": "code",
   "execution_count": 3,
   "id": "62cbcaff",
   "metadata": {},
   "outputs": [
    {
     "data": {
      "image/png": "[encoded data removed]",
      "text/plain": [
       "<IPython.core.display.Image object>"
      ]
     },
     "metadata": {},
     "output_type": "display_data"
    }
   ],
   "source": [
    "axis([-1 3 -1 6]);\n",
    "xlabel(\"x\");\n",
    "ylabel(\"y\");\n",
    "axis(\"square\");\n",
    "grid on;\n",
    "set(gca, \"gridcolor\", [0.85,0.85,0.85])\n",
    "hold on;\n",
    "\n",
    "V_1 = [1, 2];\n",
    "draw_2d_vector(V_1);\n",
    "\n",
    "\n",
    "V_2 = [-1, 3];\n",
    "draw_2d_vector(V_2);\n",
    "\n",
    "# V_1 to V_2\n",
    "draw_2d_vector(V_2, V_1)"
   ]
  },
  {
   "cell_type": "markdown",
   "id": "20829c9a",
   "metadata": {},
   "source": [
    "#### Dot product\n",
    "\n",
    "The dot product of two vectors is the summation of the elementwise products.\n",
    "\n",
    "For example given two vectors:\n",
    "\n",
    "$ \\vec{V_1} = (1,2,3) $\n",
    "\n",
    "$ \\vec{V_2} = (3,4,5) $\n",
    "\n",
    "$ \\vec{V_1} \\cdot \\vec{V_2} = 1*2 + 2*4 + 3*5 = 2 + 8 + 15 = 25 $\n",
    "\n",
    "#### Dot product and the angle between vectors\n",
    "\n",
    "$ A \\cdot B = |A||B| \\cos \\theta $\n",
    "\n",
    "Derived from the cosine rule\n",
    "\n",
    "#### Cross product\n",
    "\n",
    "You can find the cross product of two vectors of degree 3 by constructing matrices. This returns a vector of the same degree and each element is the determinant of two vectors' elements.\n",
    "\n",
    "$ \\vec{V_1} = (a_1,a_2,a_3) = i(a_1,0,0) + j(0,a_2,0) + k(0,0,a_3) = a_1 i + a_2 j + a_3 k $\n",
    "\n",
    "$ \\vec{V_2} = (b_1,b_2,b_3) = i(b_1,0,0) + j(0,b_2,0) + k(0,0,b_3) = b_1 i + b_2 j + b_3 k $\n",
    "\n",
    "We wish to find $ \\vec{V_1} \\times \\vec{V_2} $\n",
    "\n",
    "Enter these into a matrix and then find the determinant for each of i,j,k.\n",
    "\n",
    "$ \\begin{matrix} i & j & k \\\\ a_1 & a_2 & a_3 \\\\ b_1 & b_2 & b_3 \\end{matrix} $\n",
    "\n",
    "The determinant is found for i by considering only:\n",
    "\n",
    "$ \\begin{matrix} i & & \\\\ & a_2 & a_3 \\\\ & b_2 & b_3 \\end{matrix} $\n",
    "\n",
    "And in a similar way for the others. So, the cross product is:\n",
    "\n",
    "$ i \\left[ \\begin{matrix} a_2 & a_3 \\\\ b_2 & b_3 \\end{matrix} \\right] -\n",
    "  j \\left[ \\begin{matrix} a_1 & a_3 \\\\ b_1 & b_3 \\end{matrix} \\right] +\n",
    "  k \\left[ \\begin{matrix} a_1 & a_2 \\\\ b_1 & b_2 \\end{matrix} \\right] $\n",
    "  \n",
    "Notice the second sign is switched.\n",
    "\n",
    "Note, while the dotproduct commutes, the cross product does not.\n",
    "\n",
    "$ \\vec{A} \\times \\vec{B} = -(\\vec{B} \\times \\vec{A}) $\n",
    "\n",
    "#### Cross product is perpendicular\n",
    "\n",
    "The cross product is always perpendicular to its vector operands.\n",
    "\n",
    "$ \\vec{A} \\times \\vec{B} $ is perpendicular to $\\vec{A}$ and $\\vec{B}$\n",
    "\n",
    "#### Cross product relation to area\n",
    "\n",
    "$ | \\vec{A} \\times \\vec{B} | = |\\vec{A}||\\vec{B}|\\sin \\theta $\n",
    "\n",
    "Has a consequence: the area of two vectors:\n",
    "\n",
    "$ \\frac{1}{2} |\\vec{A} \\times \\vec{B}| $"
   ]
  },
  {
   "cell_type": "markdown",
   "id": "9bfea1d4",
   "metadata": {},
   "source": [
    "#### Other arithmetic\n",
    "\n",
    "You cannot divide a vector by a vector, but you can divide a vector by a scalar.\n",
    "\n",
    "You can multiply a vector by a scalar, but multiplication of vectors like $ AB $ is not sensible."
   ]
  },
  {
   "cell_type": "markdown",
   "id": "2394d375",
   "metadata": {},
   "source": [
    "#### Scalar triple product\n",
    "\n",
    "Given three vectors:\n",
    "\n",
    "$ \\vec{A} = (a_1, a_2, a_3) $ \n",
    "\n",
    "$ \\vec{B} = (b_1, b_2, b_3) $\n",
    "\n",
    "$ \\vec{C} = (c_1, c_2, c_3) $:\n",
    "\n",
    "Then calcuate each vector element as a determinant:\n",
    "\n",
    "$ \\begin{matrix} a_1 & a_2 & a_3 \\\\ b_1 & b_2 & b_3 \\\\ c_1 & c_2 & c_3 \\end{matrix} $\n",
    "\n",
    "$ a_1 \\left[ \\begin{matrix} b_2 & b_3 \\\\ c_2 & c_3 \\end{matrix} \\right] -\n",
    "  a_2 \\left[ \\begin{matrix} b_1 & b_3 \\\\ c_1 & c_3 \\end{matrix} \\right] +\n",
    "  a_3 \\left[ \\begin{matrix} b_1 & b_2 \\\\ c_1 & c_2 \\end{matrix} \\right] $\n",
    "\n",
    "$ a_1(b_2*c_3 - b_3*c_2) - a_2(b_1*c_3 - b_3*c_1) + a_3(b_1*c_2 - b_2*c_1) $\n",
    "\n",
    "These calculations exhibit a cycling property and these are equivalent:\n",
    "\n",
    "$ \\vec{A} \\cdot \\vec{B} \\times \\vec{C} = \\vec{B} \\cdot \\vec{C} \\times \\vec{A} = \\vec{C} \\cdot \\vec{A} \\times \\vec{B} $\n",
    "\n",
    "#### Scalar triple product to see if vectors are co-planar\n",
    "\n",
    "If the scalar triple product $ = 0 $ then we can say the vectors are co-planar. As in, they are in the same 2d plane. Therefore one can be written as a linear combination of the others.\n"
   ]
  },
  {
   "cell_type": "markdown",
   "id": "c3a36185",
   "metadata": {},
   "source": [
    "#### Vector triple product\n",
    "\n",
    "$ \\vec{A} \\times (\\vec{B} \\times \\vec{C}) = (\\vec{A} \\cdot \\vec{C})\\vec{B} - (\\vec{A} \\cdot \\vec{B})\\vec{C} $\n",
    "\n",
    "The calculation on the right is a more economical way to calculate the vector triple product.\n",
    "\n",
    "The left hand side is not associative."
   ]
  },
  {
   "cell_type": "code",
   "execution_count": null,
   "id": "8486045e",
   "metadata": {},
   "outputs": [],
   "source": []
  }
 ],
 "metadata": {
  "kernelspec": {
   "display_name": "Octave",
   "language": "octave",
   "name": "octave"
  },
  "language_info": {
   "file_extension": ".m",
   "help_links": [
    {
     "text": "GNU Octave",
     "url": "https://www.gnu.org/software/octave/support.html"
    },
    {
     "text": "Octave Kernel",
     "url": "https://github.com/Calysto/octave_kernel"
    },
    {
     "text": "MetaKernel Magics",
     "url": "https://metakernel.readthedocs.io/en/latest/source/README.html"
    }
   ],
   "mimetype": "text/x-octave",
   "name": "octave",
   "version": "5.2.0"
  }
 },
 "nbformat": 4,
 "nbformat_minor": 5
}
