{
 "cells": [
  {
   "cell_type": "markdown",
   "id": "e44c76fc",
   "metadata": {},
   "source": [
    "### Vectors\n",
    "\n",
    "Given a linear space, vectors can be thought of in abstract terms as coordinates away from the origin of a space. These are defined in terms of the basis for a space.\n",
    "\n",
    "You can also imagine them as physical properties with a unit and a direction.\n",
    "\n",
    "Let's introduce notation for a 2D space.\n",
    "\n",
    "A vector is that ends at x=1 and y=2 is:\n",
    "\n",
    "$ \\vec{V_1} = (1,2) $\n",
    "\n",
    "And one that ends at x=-1, y=3 is:\n",
    "\n",
    "$ \\vec{V_2} = (-1,3) $\n",
    "\n",
    "The difference of $ \\vec{V_1} $ to $ \\vec{V_2} $ is $ \\overrightarrow{V_1V_2} $\n",
    "\n",
    "Then what is the magnitude of $ \\overrightarrow{V_1V_2} $?\n",
    "\n",
    "First, let's find the new vector:\n",
    "\n",
    "$ \\overrightarrow{V_1V_2} = \\vec{V_2} - \\vec{V_1} $\n",
    "\n",
    "$ \\overrightarrow{V_1V_2} = (-1-1,3-2) = (-2,1) $\n",
    "\n",
    "So what is the magnitude? Since we have two coordinate axes that are orthagonal, then the x and y parts for the vector form a right triangle. Therefore the magnitude is found using Pythagorus' Theorem.\n",
    "\n",
    "$ |\\overrightarrow{V_1V_2}| = \\sqrt{(-2)^2 + 1^2} = \\sqrt{5} $\n"
   ]
  },
  {
   "cell_type": "code",
   "execution_count": 3,
   "id": "62cbcaff",
   "metadata": {},
   "outputs": [
    {
     "data": {
      "image/png": "[encoded data removed]",
      "text/plain": [
       "<IPython.core.display.Image object>"
      ]
     },
     "metadata": {},
     "output_type": "display_data"
    }
   ],
   "source": [
    "axis([-1 3 -1 6]);\n",
    "xlabel(\"x\");\n",
    "ylabel(\"y\");\n",
    "axis(\"square\");\n",
    "grid on;\n",
    "set(gca, \"gridcolor\", [0.85,0.85,0.85])\n",
    "hold on;\n",
    "\n",
    "V_1 = [1, 2];\n",
    "draw_2d_vector(V_1);\n",
    "\n",
    "\n",
    "V_2 = [-1, 3];\n",
    "draw_2d_vector(V_2);\n",
    "\n",
    "# V_1 to V_2\n",
    "draw_2d_vector(V_2, V_1)"
   ]
  },
  {
   "cell_type": "code",
   "execution_count": null,
   "id": "559147b2",
   "metadata": {},
   "outputs": [],
   "source": []
  },
  {
   "cell_type": "code",
   "execution_count": null,
   "id": "d89d774b",
   "metadata": {},
   "outputs": [],
   "source": []
  }
 ],
 "metadata": {
  "kernelspec": {
   "display_name": "Octave",
   "language": "octave",
   "name": "octave"
  },
  "language_info": {
   "file_extension": ".m",
   "help_links": [
    {
     "text": "GNU Octave",
     "url": "https://www.gnu.org/software/octave/support.html"
    },
    {
     "text": "Octave Kernel",
     "url": "https://github.com/Calysto/octave_kernel"
    },
    {
     "text": "MetaKernel Magics",
     "url": "https://metakernel.readthedocs.io/en/latest/source/README.html"
    }
   ],
   "mimetype": "text/x-octave",
   "name": "octave",
   "version": "5.2.0"
  }
 },
 "nbformat": 4,
 "nbformat_minor": 5
}
