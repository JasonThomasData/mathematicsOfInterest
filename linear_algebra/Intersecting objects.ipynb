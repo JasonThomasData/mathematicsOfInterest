{
 "cells": [
  {
   "cell_type": "markdown",
   "id": "6ab8744f",
   "metadata": {},
   "source": [
    "### Intersecting objects\n",
    "\n",
    "#### Two lines in 2d, find intersecting point\n",
    "\n",
    "This is the simplest example I can think of. \n",
    "\n",
    "From functional form:\n",
    "\n",
    "$ L_1 [y = 1 - 2x] $\n",
    "\n",
    "$ L_2 [y = \\frac{3-x}{-2}]$\n",
    "\n",
    "To Cartesian relational form:\n",
    "\n",
    "$ L_1 [1 = 2x + y] $\n",
    "\n",
    "$ L_2 [3 = x - 2y] $\n",
    "\n",
    "Make a system of linear equations, and then solve to find the values of x, y"
   ]
  },
  {
   "cell_type": "code",
   "execution_count": 11,
   "id": "0a2d6e58",
   "metadata": {},
   "outputs": [
    {
     "name": "stdout",
     "output_type": "stream",
     "text": [
      "M =\r\n",
      "\r\n",
      "   2   1   1\r\n",
      "   1  -2   3\r\n",
      "\r\n"
     ]
    }
   ],
   "source": [
    "M = [2 1 1; 1 -2 3]"
   ]
  },
  {
   "cell_type": "code",
   "execution_count": 12,
   "id": "3ac35091",
   "metadata": {},
   "outputs": [],
   "source": [
    "M(1,:) = M(1,:) + M(2,:)*-1;"
   ]
  },
  {
   "cell_type": "code",
   "execution_count": 13,
   "id": "65d9e51a",
   "metadata": {},
   "outputs": [],
   "source": [
    "M(2,:) = M(2,:) + M(1,:)*-1;"
   ]
  },
  {
   "cell_type": "code",
   "execution_count": 14,
   "id": "e272719f",
   "metadata": {},
   "outputs": [],
   "source": [
    "M(2,:) = M(2,:) * -1/5;"
   ]
  },
  {
   "cell_type": "code",
   "execution_count": 15,
   "id": "73c61f6a",
   "metadata": {},
   "outputs": [
    {
     "name": "stdout",
     "output_type": "stream",
     "text": [
      "M =\r\n",
      "\r\n",
      "   1   0   1\r\n",
      "  -0   1  -1\r\n",
      "\r\n"
     ]
    }
   ],
   "source": [
    "M(1,:) = M(1,:) + M(2,:) * -3 "
   ]
  },
  {
   "cell_type": "markdown",
   "id": "16722dd4",
   "metadata": {},
   "source": [
    "Then that means that the place where the lines intercept is $ x=1, y=-1 $"
   ]
  },
  {
   "cell_type": "markdown",
   "id": "42fc08dc",
   "metadata": {},
   "source": [
    "#### Two parametric lines in 3d, find intersecting point\n",
    "\n",
    "Two lines in 3d space that are not parallel do not necessarily overlap. To see if they do, they should be co-planar.\n",
    "\n",
    "Find the triple-scalar product to see if two lines share a plane.\n",
    "\n",
    "Even without answering that question, you can solve this by describing each line as parametric equations.\n",
    "\n",
    "This line is expressed as a system of cartesian equations:\n",
    "\n",
    "$ L_1 : \\frac{x+3}{4} = \\frac{y-4}{-3} = \\frac{z+1}{2} = s $\n",
    "\n",
    "This one is a system of parametric equations:\n",
    "\n",
    "$ L_2 : x = 2t+1 \\\\ y = 3t-2 \\\\ z = -t + 5 $\n",
    "\n",
    "It's most useful if they are both expressed as parametric equations, so:\n",
    "\n",
    "$ L_1 : x = 4s - 3 \\\\ y = -3s + 4 \\\\ z = 2s - 1 $\n",
    "\n",
    "The claim is that the lines share a point, so:\n",
    "\n",
    "$ 4s - 3 = 2t + 1\\\\ -3s + 4 = 3t - 2 \\\\ 2s - 1 = -t + 5 $\n",
    "\n",
    "Separate the constants to one side:\n",
    "\n",
    "$ 4s - 2t = 4 \\\\ -3s - 3t = -6 \\\\ 2s + t = 4 $\n",
    "\n",
    "Now, solve these as a system of equations:"
   ]
  },
  {
   "cell_type": "code",
   "execution_count": 32,
   "id": "61ad0b8f",
   "metadata": {},
   "outputs": [
    {
     "name": "stdout",
     "output_type": "stream",
     "text": [
      "M =\r\n",
      "\r\n",
      "   4  -2   4\r\n",
      "  -3  -3  -6\r\n",
      "   2   1   4\r\n",
      "\r\n"
     ]
    }
   ],
   "source": [
    "M = [4 -2 4; -3 -3 -6; 2 1 4]"
   ]
  },
  {
   "cell_type": "code",
   "execution_count": 33,
   "id": "614de50f",
   "metadata": {},
   "outputs": [],
   "source": [
    "M(1,:) = M(1,:) + M(2,:);"
   ]
  },
  {
   "cell_type": "code",
   "execution_count": 34,
   "id": "f5275e1d",
   "metadata": {},
   "outputs": [],
   "source": [
    "M(2,:) = M(2,:) *(1/3);"
   ]
  },
  {
   "cell_type": "code",
   "execution_count": 35,
   "id": "7b1191d3",
   "metadata": {},
   "outputs": [],
   "source": [
    "M(3,:) = M(3,:) + M(2,:) * 2;"
   ]
  },
  {
   "cell_type": "code",
   "execution_count": 36,
   "id": "3f80e602",
   "metadata": {},
   "outputs": [
    {
     "name": "stdout",
     "output_type": "stream",
     "text": [
      "M =\r\n",
      "\r\n",
      "   1  -5  -2\r\n",
      "   0  -6  -4\r\n",
      "   0  -1   0\r\n",
      "\r\n"
     ]
    }
   ],
   "source": [
    "M(2,:) = M(2,:) + M(1,:)"
   ]
  },
  {
   "cell_type": "markdown",
   "id": "3aca174c",
   "metadata": {},
   "source": [
    "It should be clear that the system of equations above is not going to be consistent, and therefore these lines do not intersect. If they did intersect then one of the vectors would be a linear combination of the other two, and of course that would represent the dimension that is constant for the plane."
   ]
  },
  {
   "cell_type": "markdown",
   "id": "97ff863a",
   "metadata": {},
   "source": [
    "#### A line and a plane, find intersecting point\n",
    "\n",
    "The line:\n",
    "\n",
    "$ L = (2,2,3) + t(-1,1,2) $\n",
    "\n",
    "The plane:\n",
    "\n",
    "$ \\pi = x + 2y + z = 0 $\n",
    "\n",
    "The coefficients of the plane represent the components of the vector normal $ \\vec{N} $ for the plane. So, $ \\vec{N} = i + 2j + k $\n",
    "\n",
    "Do they intersect?\n",
    "\n",
    "To answer only that question, you could find the cross product of the line and the vector normal. If that equals 0 then the line and the vector normal are perpendicular, therefore, the line and then plane don't intersect.\n",
    "\n",
    "Suppose they do intersect.\n",
    "\n",
    "Let's get the line into parametric form:\n",
    "\n",
    "$ L : x = 2 - t \\\\ y = 2 + t \\\\ z = 3 + 2t $ "
   ]
  },
  {
   "cell_type": "markdown",
   "id": "312f7837",
   "metadata": {},
   "source": [
    "Let's substitute the line's values into the plane equation. That becomes:\n",
    "\n",
    "$ \\pi = (2-t) + 2(2+t) + (3+2t) = 0 $\n",
    "\n",
    "$ \\pi = 2-t + 4+2t + 3+2t = 0 $\n",
    "\n",
    "$ \\pi = 3t = -9 $\n",
    "\n",
    "$ \\pi = t = -3 $\n",
    "\n",
    "Because this has a solution, we know that the point on the line\n",
    "\n",
    "$ (2,2,3)+ -3(−1,1,2) = (2,2,3) + (3,-3,-6) = (5,-1,-3) $\n",
    "\n",
    "Is where the line and the plane intersect. If you substitute those values for $x,y,z$ into the relation that defines the plane then the equality will hold."
   ]
  },
  {
   "cell_type": "markdown",
   "id": "73e3d486",
   "metadata": {},
   "source": [
    "#### Two planes, find intersecting line"
   ]
  },
  {
   "cell_type": "code",
   "execution_count": null,
   "id": "bee3dc2f",
   "metadata": {},
   "outputs": [],
   "source": []
  }
 ],
 "metadata": {
  "kernelspec": {
   "display_name": "Octave",
   "language": "octave",
   "name": "octave"
  },
  "language_info": {
   "file_extension": ".m",
   "help_links": [
    {
     "text": "GNU Octave",
     "url": "https://www.gnu.org/software/octave/support.html"
    },
    {
     "text": "Octave Kernel",
     "url": "https://github.com/Calysto/octave_kernel"
    },
    {
     "text": "MetaKernel Magics",
     "url": "https://metakernel.readthedocs.io/en/latest/source/README.html"
    }
   ],
   "mimetype": "text/x-octave",
   "name": "octave",
   "version": "5.2.0"
  }
 },
 "nbformat": 4,
 "nbformat_minor": 5
}
