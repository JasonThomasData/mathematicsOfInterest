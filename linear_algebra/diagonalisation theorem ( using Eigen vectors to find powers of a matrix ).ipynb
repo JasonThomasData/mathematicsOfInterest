{
 "cells": [
  {
   "cell_type": "markdown",
   "id": "22f8a163",
   "metadata": {},
   "source": [
    "### Diagonalisation theorem (using Eigen vectors to find nth powers of matrices)"
   ]
  },
  {
   "cell_type": "markdown",
   "id": "b0266155",
   "metadata": {},
   "source": [
    "Despite the name this is not similar to Cantor's Diagonalisation argument.\n",
    "\n",
    "This is computationally very efficient for finding the powers of a matrix."
   ]
  },
  {
   "cell_type": "markdown",
   "id": "38ba313d",
   "metadata": {},
   "source": [
    "Firstly, all square matrices will have eigen vectors, but solving the roots of the eigen value poynomial might yield complex roots. The below will focus just on real roots.\n",
    "\n",
    "For all of the Eigen vectors of a matrix, find the corresponding $ \\lambda $ values such that:\n",
    "\n",
    "$ A $ is some square matrix.\n",
    "\n",
    "$ \\vec{V_n} $ is an Eigen vector for that matrix\n",
    "\n",
    "$ \\lambda_n $ is an Eigen value for the matrix, which is a scalar multiple\n",
    "\n",
    "Notice the Eigen values and Eigen vectors have a one-to-one correspondence along the increment of $ n $.\n",
    "\n",
    "$ A \\vec{V_n} = \\lambda_n \\vec{V_n} $\n",
    "\n",
    "The appropriate notebook about Eigen vectors will show that the equality above is correct.\n",
    "\n",
    "The above equality is analogous to this one:\n",
    "\n",
    "$ A P = P D $\n",
    "\n",
    "Where:\n",
    "\n",
    "$ P = \\left[ \n",
    "\\lambda_1 \\left[ \\begin{matrix} v_1 \\\\ v_2 \\\\ ... \\\\ v_n \\end{matrix} \\right],\n",
    "\\lambda_2 \\left[ \\begin{matrix} v_1 \\\\ v_2 \\\\ ... \\\\ v_n \\end{matrix} \\right],\n",
    "\\space\\space ... \\space\\space,\n",
    "\\lambda_n \\left[ \\begin{matrix} v_1 \\\\ v_2 \\\\ ... \\\\ v_n \\end{matrix} \\right]\n",
    "\\right] $\n",
    "\n",
    "$ D = \\left[ \\begin{matrix} \\lambda_1 & 0 & ... & 0 \\\\ 0 & \\lambda_2 & ... & 0 \\\\ ... & ... & ... & ... \\\\ 0 & 0 & ... & \\lambda_n \\end{matrix} \\right] $ \n",
    "\n",
    "$ A P = P D $\n",
    "\n",
    "$ A PP^{-1} = P D P^{-1} $\n",
    "\n",
    "$ A = P D P^{-1} $\n",
    "\n",
    "For any power of $ A $:\n",
    "\n",
    "$ A^k = P D^k P^{-1} $\n",
    "\n",
    "Eg. $ k=2 $\n",
    "\n",
    "$ A^2 = (P D P^{-1}) (P D P^{-1})$\n",
    "\n",
    "$ A^2 = (P D^2 P^{-1}) $\n",
    "\n",
    "I think you could prove this using an inductive proof but you would need a separate proof to handle negative powers of $ A $, because:\n",
    "\n",
    "$ A^{-k} = (A^{-1})^k $\n"
   ]
  }
 ],
 "metadata": {
  "kernelspec": {
   "display_name": "Octave",
   "language": "octave",
   "name": "octave"
  },
  "language_info": {
   "file_extension": ".m",
   "help_links": [
    {
     "text": "GNU Octave",
     "url": "https://www.gnu.org/software/octave/support.html"
    },
    {
     "text": "Octave Kernel",
     "url": "https://github.com/Calysto/octave_kernel"
    },
    {
     "text": "MetaKernel Magics",
     "url": "https://metakernel.readthedocs.io/en/latest/source/README.html"
    }
   ],
   "mimetype": "text/x-octave",
   "name": "octave",
   "version": "5.2.0"
  }
 },
 "nbformat": 4,
 "nbformat_minor": 5
}
