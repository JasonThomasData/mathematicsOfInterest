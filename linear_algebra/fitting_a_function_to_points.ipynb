{
 "cells": [
  {
   "cell_type": "markdown",
   "id": "95dc061f",
   "metadata": {},
   "source": [
    "### Fitting a function of defined form to points\n",
    "\n",
    "From: https://www.math.tamu.edu/~mike.stecher/Linear-Algebra/Systems/examples.html\n",
    "\n",
    "*Find all polynomials in $t$ of degree 2 or less whose graphs pass through the following points: ${(1, -1), (2, 3)}$. The general polynomial of degree 2 or less has the form:*\n",
    "\n",
    "$ f(t) = at^2 + bt + c $ \n",
    "\n",
    "It isn't said so, but since the space of polynomials of degree 2 is a linear space over some field, say the real numbers, then the scalars $a,b,c$ are numbers in that field.\n",
    "\n",
    "Then, we need to make a system of equations with the points given to be substituted in. Rather than enter vertically as with vectors (that each have a scalar applied) we want to represent each eqation in terms of its own scalars, which are polynomials. Therefore we will enter the equations horizontally. The scalars, for now, have a value of 1 (this has to do with the multiplicative identity)."
   ]
  },
  {
   "cell_type": "code",
   "execution_count": 67,
   "id": "e2d44609",
   "metadata": {},
   "outputs": [
    {
     "name": "stdout",
     "output_type": "stream",
     "text": [
      "M =\r\n",
      "\r\n",
      "          1          1          1         -1\r\n",
      "          4          2          1          3\r\n",
      "\r\n"
     ]
    }
   ],
   "source": [
    "format rat;\n",
    "M = [1 1 1 -1; 4 2 1 3]"
   ]
  },
  {
   "cell_type": "code",
   "execution_count": 68,
   "id": "7bca0372",
   "metadata": {},
   "outputs": [],
   "source": [
    "M(2,:) = M(2,:) + M(1,:) *-4;"
   ]
  },
  {
   "cell_type": "code",
   "execution_count": 69,
   "id": "d2f4d2f3",
   "metadata": {
    "scrolled": true
   },
   "outputs": [
    {
     "name": "stdout",
     "output_type": "stream",
     "text": [
      "M =\r\n",
      "\r\n",
      "          1          1          1         -1\r\n",
      "         -0          1        3/2       -7/2\r\n",
      "\r\n"
     ]
    }
   ],
   "source": [
    "M(2,:) = M(2,:) *-(1/2)"
   ]
  },
  {
   "cell_type": "markdown",
   "id": "5d79b741",
   "metadata": {},
   "source": [
    "This means that the value of the third value is unspecified, so the answer is a parametric function.\n",
    "\n",
    "$ b =\\frac{-7}{2} - \\frac{3}{2}c $\n",
    "\n",
    "$ a = -1 - b - c $\n",
    "\n",
    "$ \\therefore a = -1 + \\frac{7}{2} + \\frac{3}{2}c - c $\n",
    "\n",
    "$ \\therefore a = \\frac{5}{2} + \\frac{1}{2}c $"
   ]
  },
  {
   "cell_type": "markdown",
   "id": "d5cb1ab5",
   "metadata": {},
   "source": [
    "$ \\therefore f(t) = \\left( \\frac{5}{2} + \\frac{1}{2}c \\right) t^2 + \\left( \\frac{-7}{2} - \\frac{3}{2}c \\right)t + c $, is a function that fits the two points given, for any scalar c."
   ]
  },
  {
   "cell_type": "code",
   "execution_count": 70,
   "id": "075ea3bd",
   "metadata": {},
   "outputs": [
    {
     "data": {
      "image/png": "[encoded data removed]",
      "text/plain": [
       "<IPython.core.display.Image object>"
      ]
     },
     "metadata": {},
     "output_type": "display_data"
    }
   ],
   "source": [
    "c = 1;\n",
    "\n",
    "t = linspace(-1, 3);\n",
    "f = (5/2 + (1/2)*c)*t.^2 + (-7/2 - (3/2)*c)*t + c;\n",
    "plot(t,f);\n",
    "hold on;\n",
    "plot([1,2], [-1, 3], \"or\");\n",
    "grid on;"
   ]
  },
  {
   "cell_type": "markdown",
   "id": "58ac974c",
   "metadata": {},
   "source": [
    "What we have above is a function defined in terms of a parameter, which happens to be the y intercept. That is no accident; if you look at the row operations to derive the solution, the solution takes the third polynomial term as a parameter and the third term is the y intercept given the form."
   ]
  },
  {
   "cell_type": "markdown",
   "id": "909d4ae8",
   "metadata": {},
   "source": [
    "### And now with another point\n",
    "\n",
    "Let's make things harder with a third point, $ (3,3) $"
   ]
  },
  {
   "cell_type": "code",
   "execution_count": 99,
   "id": "5c92938c",
   "metadata": {},
   "outputs": [
    {
     "name": "stdout",
     "output_type": "stream",
     "text": [
      "M =\r\n",
      "\r\n",
      "          1          1          1         -1\r\n",
      "          4          2          1          3\r\n",
      "          9          3          1          3\r\n",
      "\r\n"
     ]
    }
   ],
   "source": [
    "M = [1 1 1 -1; 4 2 1 3; 9 3 1 3]"
   ]
  },
  {
   "cell_type": "code",
   "execution_count": 100,
   "id": "80a8d2b4",
   "metadata": {},
   "outputs": [],
   "source": [
    "M(3,:) = M(3,:) + M(2,:) * -2;"
   ]
  },
  {
   "cell_type": "code",
   "execution_count": 101,
   "id": "d3fe8ebd",
   "metadata": {},
   "outputs": [],
   "source": [
    "M(3,:) = M(3,:) + M(1,:) * -1;"
   ]
  },
  {
   "cell_type": "code",
   "execution_count": 102,
   "id": "d091a139",
   "metadata": {},
   "outputs": [],
   "source": [
    "M(2,:) = M(2,:) + M(1,:) * -4;"
   ]
  },
  {
   "cell_type": "code",
   "execution_count": 103,
   "id": "85aa2a09",
   "metadata": {},
   "outputs": [],
   "source": [
    "M(3,:) = M(3,:) + M(2,:) * -1;"
   ]
  },
  {
   "cell_type": "code",
   "execution_count": 104,
   "id": "8ab14b54",
   "metadata": {},
   "outputs": [],
   "source": [
    "M(2,:) = M(2,:) + M(3,:);"
   ]
  },
  {
   "cell_type": "code",
   "execution_count": 105,
   "id": "13bd81a7",
   "metadata": {},
   "outputs": [],
   "source": [
    "M(2,:) = M(2,:) * -(1/2);"
   ]
  },
  {
   "cell_type": "code",
   "execution_count": 106,
   "id": "940a2646",
   "metadata": {},
   "outputs": [],
   "source": [
    "M(2,:) = M(2,:) + M(3,:) * -1;"
   ]
  },
  {
   "cell_type": "code",
   "execution_count": 107,
   "id": "89b742ae",
   "metadata": {},
   "outputs": [],
   "source": [
    "M(1,:) = M(1,:) + M(2,:) * -1;"
   ]
  },
  {
   "cell_type": "code",
   "execution_count": 108,
   "id": "4b4a0dc8",
   "metadata": {},
   "outputs": [
    {
     "name": "stdout",
     "output_type": "stream",
     "text": [
      "M =\r\n",
      "\r\n",
      "          1          0          0         -2\r\n",
      "         -0          1          0         10\r\n",
      "          0          0          1         -9\r\n",
      "\r\n"
     ]
    }
   ],
   "source": [
    "M(1,:) = M(1,:) + M(3,:) * -1"
   ]
  },
  {
   "cell_type": "markdown",
   "id": "d93df858",
   "metadata": {},
   "source": [
    "Another point looked harder at first but this is actually much simpler.\n",
    "\n",
    "$ f(x) = -2t^2 + 10t -9 $"
   ]
  },
  {
   "cell_type": "code",
   "execution_count": 113,
   "id": "3e63eb45",
   "metadata": {},
   "outputs": [
    {
     "data": {
      "image/png": "[encoded data removed]",
      "text/plain": [
       "<IPython.core.display.Image object>"
      ]
     },
     "metadata": {},
     "output_type": "display_data"
    }
   ],
   "source": [
    "t = linspace(-1, 4);\n",
    "f = -2*t.^2 + 10*t - 9;\n",
    "plot(t,f);\n",
    "hold on;\n",
    "plot([1,2,3], [-1, 3, 3], \"or\");\n",
    "grid on;"
   ]
  },
  {
   "cell_type": "markdown",
   "id": "cfb0dbd4",
   "metadata": {},
   "source": [
    "Intuition says that adding a 4th point might lead to an inconsistent system of equations. This means that if we try to create a system of linear equations from quadratics with two degrees and substitute in yet another set of coordinates then we might not be able to fit a quadratic function to those points. This is intuitive because if you saw the matrix for this above-mentioned system, with its extra point, then its order would be $(4x3)$. Matrices with more rows than columns often have no solution (hence the intuition). \n",
    "\n",
    "You could of course add an infinite number of other points and still have a consistent linear system but those points would have to fall precisely on this line for there to still be a unique solution.\n",
    "\n",
    "Alternatively, after adding a 4th point and finding that the system becomes inconsistent then you could make a constistent system by expaning the linear space's span to include polynomials of degree 3 or less (otherwise known as cubic equations)."
   ]
  },
  {
   "cell_type": "code",
   "execution_count": null,
   "id": "f29789b5",
   "metadata": {},
   "outputs": [],
   "source": []
  }
 ],
 "metadata": {
  "kernelspec": {
   "display_name": "Octave",
   "language": "octave",
   "name": "octave"
  },
  "language_info": {
   "file_extension": ".m",
   "help_links": [
    {
     "text": "GNU Octave",
     "url": "https://www.gnu.org/software/octave/support.html"
    },
    {
     "text": "Octave Kernel",
     "url": "https://github.com/Calysto/octave_kernel"
    },
    {
     "text": "MetaKernel Magics",
     "url": "https://metakernel.readthedocs.io/en/latest/source/README.html"
    }
   ],
   "mimetype": "text/x-octave",
   "name": "octave",
   "version": "5.2.0"
  }
 },
 "nbformat": 4,
 "nbformat_minor": 5
}
