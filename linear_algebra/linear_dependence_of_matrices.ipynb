{
 "cells": [
  {
   "attachments": {},
   "cell_type": "markdown",
   "id": "7a21c834",
   "metadata": {},
   "source": [
    "### Linear dependence and matrices\n",
    "\n",
    "To determine if a set of matrices is linearly dependent/independent, enter each matrix as a column into a larger matrix.\n",
    "\n",
    "Given this set of matrices:\n",
    "\n",
    "$ \\left( \n",
    "    \\left[ \\begin{matrix} 2 & -1 \\\\ 4 & 6 \\end{matrix} \\right], \n",
    "    \\left[ \\begin{matrix} 3 & 2 \\\\ 8 & 3 \\end{matrix} \\right],\n",
    "    \\left[ \\begin{matrix} -5 & -8 \\\\ -16 & 4 \\end{matrix} \\right],\n",
    "    \\left[ \\begin{matrix} 0 & -7 \\\\ -4 & 13 \\end{matrix} \\right]\n",
    "\\right) $\n",
    "\n",
    "And some scalars $ a,b,c,d \\in R $\n",
    "\n",
    "To assume linear indepedence means $ a,b,c,d = 0 $, such that:\n",
    "\n",
    "$\n",
    "    a\\left[ \\begin{matrix} 2 & -1 \\\\ 4 & 6 \\end{matrix} \\right] + \n",
    "    b\\left[ \\begin{matrix} 3 & 2 \\\\ 8 & 3 \\end{matrix} \\right] +\n",
    "    c\\left[ \\begin{matrix} -5 & -8 \\\\ -16 & 4 \\end{matrix} \\right] +\n",
    "    d\\left[ \\begin{matrix} 0 & -7 \\\\ -4 & 13 \\end{matrix} \\right] =\n",
    "    \\left[ \\begin{matrix} 0 & 0 \\\\ 0 & 0 \\end{matrix} \\right]\n",
    "$\n",
    "\n",
    "Then treat this as a system of equations. Consider the top left element of each matrix, then:\n",
    "\n",
    "$ 2a + 3b + -5c + 0d = 0 $\n",
    "\n",
    "Top right:\n",
    "\n",
    "$ -1a + 2b -8c -7d = 0 $\n",
    "\n",
    "Bottom left:\n",
    "\n",
    "$ 4a + 8b -16c -4d = 0 $\n",
    "\n",
    "Bottom right:\n",
    "\n",
    "$ 6a + 3b + 4c + 13d = 0 $"
   ]
  },
  {
   "cell_type": "code",
   "execution_count": 1,
   "id": "1c89bc9f",
   "metadata": {},
   "outputs": [
    {
     "name": "stdout",
     "output_type": "stream",
     "text": [
      "M_1 =\n",
      "\n",
      "   2  -1\n",
      "   4   6\n",
      "\n",
      "M_2 =\n",
      "\n",
      "   3   2\n",
      "   8   3\n",
      "\n",
      "M_3 =\n",
      "\n",
      "   -5   -8\n",
      "  -16    4\n",
      "\n",
      "M_4 =\n",
      "\n",
      "    0   -7\n",
      "   -4   13\n",
      "\n"
     ]
    }
   ],
   "source": [
    "# To do the same in Octave, starting with the same matrices:\n",
    "M_1 = [2 -1; 4 6]\n",
    "M_2 = [3 2; 8 3]\n",
    "M_3 = [-5 -8; -16 4]\n",
    "M_4 = [0 -7; -4 13]"
   ]
  },
  {
   "cell_type": "code",
   "execution_count": 2,
   "id": "84bb5225",
   "metadata": {},
   "outputs": [
    {
     "name": "stdout",
     "output_type": "stream",
     "text": [
      "M =\n",
      "\n",
      "   2\n",
      "  -1\n",
      "   4\n",
      "   6\n",
      "\n",
      "M =\n",
      "\n",
      "   2   3\n",
      "  -1   2\n",
      "   4   8\n",
      "   6   3\n",
      "\n",
      "M =\n",
      "\n",
      "    2    3   -5\n",
      "   -1    2   -8\n",
      "    4    8  -16\n",
      "    6    3    4\n",
      "\n",
      "M =\n",
      "\n",
      "    2    3   -5    0\n",
      "   -1    2   -8   -7\n",
      "    4    8  -16   -4\n",
      "    6    3    4   13\n",
      "\n"
     ]
    }
   ],
   "source": [
    "# Then enter each matrix as a row\n",
    "M = [];\n",
    "M(:,1) = M_1'(:)\n",
    "M(:,2) = M_2'(:)\n",
    "M(:,3) = M_3'(:)\n",
    "M(:,4) = M_4'(:)"
   ]
  },
  {
   "cell_type": "markdown",
   "id": "8ff2ffa0",
   "metadata": {},
   "source": [
    "For completeness, we can add the indentity matrix in there, so we need to augment the matrix with a zero vector. The definition of linear dependence requires an equality with 0. It's not strictly required to find the answer but it is helpful to remember what we're trying to do."
   ]
  },
  {
   "cell_type": "code",
   "execution_count": 3,
   "id": "b0eca88c",
   "metadata": {},
   "outputs": [
    {
     "name": "stdout",
     "output_type": "stream",
     "text": [
      "M =\r\n",
      "\r\n",
      "    2    3   -5    0    0\r\n",
      "   -1    2   -8   -7    0\r\n",
      "    4    8  -16   -4    0\r\n",
      "    6    3    4   13    0\r\n",
      "\r\n"
     ]
    }
   ],
   "source": [
    "M(:,5) = zeros(4,1)"
   ]
  },
  {
   "cell_type": "markdown",
   "id": "a3608938",
   "metadata": {},
   "source": [
    "And now we can reduce this via row operations."
   ]
  },
  {
   "cell_type": "code",
   "execution_count": 4,
   "id": "d91c6c1b",
   "metadata": {},
   "outputs": [],
   "source": [
    "M(4,:) = M(4,:) + M(3,:) *-1;"
   ]
  },
  {
   "cell_type": "code",
   "execution_count": 5,
   "id": "a6b9c42a",
   "metadata": {},
   "outputs": [],
   "source": [
    "M(4,:) = M(4,:) + M(1,:) *-1;"
   ]
  },
  {
   "cell_type": "code",
   "execution_count": 6,
   "id": "419860d7",
   "metadata": {},
   "outputs": [],
   "source": [
    "M(3,:) = M(3,:) + M(1,:) *-2;"
   ]
  },
  {
   "cell_type": "code",
   "execution_count": 7,
   "id": "feff83f4",
   "metadata": {},
   "outputs": [],
   "source": [
    "M(1,:) = M(1,:) + M(2,:);"
   ]
  },
  {
   "cell_type": "code",
   "execution_count": 8,
   "id": "181c3631",
   "metadata": {},
   "outputs": [],
   "source": [
    "M(2,:) = M(2,:) + M(1,:);"
   ]
  },
  {
   "cell_type": "code",
   "execution_count": 9,
   "id": "185ad032",
   "metadata": {},
   "outputs": [],
   "source": [
    "M(4,:) = M(4,:) + M(3,:) *4;"
   ]
  },
  {
   "cell_type": "code",
   "execution_count": 10,
   "id": "ea26d6cb",
   "metadata": {},
   "outputs": [],
   "source": [
    "M(2,:) = M(2,:) + M(3,:) *-3;"
   ]
  },
  {
   "cell_type": "code",
   "execution_count": 11,
   "id": "2bf143ef",
   "metadata": {},
   "outputs": [
    {
     "name": "stdout",
     "output_type": "stream",
     "text": [
      "M =\r\n",
      "\r\n",
      "    1    5  -13   -7    0\r\n",
      "    0    1   -3   -2    0\r\n",
      "    0    1   -3   -2    0\r\n",
      "    0    0    1    1    0\r\n",
      "\r\n"
     ]
    }
   ],
   "source": [
    "M(3,:) = M(3,:) * 1/2"
   ]
  },
  {
   "cell_type": "markdown",
   "id": "647ffbbb",
   "metadata": {},
   "source": [
    "With two rows the same, we can disregard a row. That means that the final colum, which represents the scalar $ d $ can have any value. This will require a non-trivial solution and therefore, these matrices are not linearly independent."
   ]
  }
 ],
 "metadata": {
  "kernelspec": {
   "display_name": "Octave",
   "language": "octave",
   "name": "octave"
  },
  "language_info": {
   "file_extension": ".m",
   "help_links": [
    {
     "text": "GNU Octave",
     "url": "https://www.gnu.org/software/octave/support.html"
    },
    {
     "text": "Octave Kernel",
     "url": "https://github.com/Calysto/octave_kernel"
    },
    {
     "text": "MetaKernel Magics",
     "url": "https://metakernel.readthedocs.io/en/latest/source/README.html"
    }
   ],
   "mimetype": "text/x-octave",
   "name": "octave",
   "version": "5.2.0"
  }
 },
 "nbformat": 4,
 "nbformat_minor": 5
}
