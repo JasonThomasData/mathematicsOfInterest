{
 "cells": [
  {
   "cell_type": "markdown",
   "id": "806f2177",
   "metadata": {},
   "source": [
    "### Solving systems of n*n equations with matrix inverses\n",
    "\n",
    "Suppose we have a system of $ n $ linear equations in $ n $ unknowns :\n",
    "\n",
    "$ a + 2b - c = 5 $\n",
    "\n",
    "$ 2a -b + 3c = 3 $\n",
    "\n",
    "$ a - 3b + 2c = 4 $\n",
    "\n",
    "And we can determine that this has a non-zero determinant. In other words, there is a single solution."
   ]
  },
  {
   "cell_type": "code",
   "execution_count": 1,
   "id": "01970011",
   "metadata": {},
   "outputs": [
    {
     "name": "stdout",
     "output_type": "stream",
     "text": [
      "M =\r\n",
      "\r\n",
      "   1   2  -1\r\n",
      "   2  -1   3\r\n",
      "   1  -3   2\r\n",
      "\r\n"
     ]
    }
   ],
   "source": [
    "# Then the coeffcient matrix is\n",
    "M = [1 2 -1; 2 -1 +3; 1 -3 2]"
   ]
  },
  {
   "cell_type": "code",
   "execution_count": 2,
   "id": "dd293185",
   "metadata": {},
   "outputs": [
    {
     "name": "stdout",
     "output_type": "stream",
     "text": [
      "RHS =\r\n",
      "\r\n",
      "   5\r\n",
      "   3\r\n",
      "   4\r\n",
      "\r\n"
     ]
    }
   ],
   "source": [
    "# And the RHS is\n",
    "RHS = [5;3;4]"
   ]
  },
  {
   "cell_type": "code",
   "execution_count": 6,
   "id": "a07f1f27",
   "metadata": {},
   "outputs": [
    {
     "name": "stdout",
     "output_type": "stream",
     "text": [
      "M_inv =\r\n",
      "\r\n",
      "       7/10      -1/10        1/2\r\n",
      "      -1/10       3/10       -1/2\r\n",
      "       -1/2        1/2       -1/2\r\n",
      "\r\n"
     ]
    }
   ],
   "source": [
    "# The matrix inverse is\n",
    "format rat\n",
    "M_inv = M^-1"
   ]
  },
  {
   "cell_type": "code",
   "execution_count": 8,
   "id": "ef8ee598",
   "metadata": {},
   "outputs": [
    {
     "name": "stdout",
     "output_type": "stream",
     "text": [
      "a_b_c =\n",
      "\n",
      "       26/5\n",
      "       -8/5\n",
      "         -3\n",
      "\n",
      "a = 26/5\n",
      "b = -8/5\n",
      "c = -3\n"
     ]
    }
   ],
   "source": [
    "# Then the scalars for vectors are\n",
    "a_b_c = M_inv * RHS\n",
    "a = a_b_c(1)\n",
    "b = a_b_c(2)\n",
    "c = a_b_c(3)"
   ]
  },
  {
   "cell_type": "code",
   "execution_count": 11,
   "id": "67947e85",
   "metadata": {},
   "outputs": [
    {
     "name": "stdout",
     "output_type": "stream",
     "text": [
      "ans = 1\n",
      "ans = 1\n",
      "ans = 1\n"
     ]
    }
   ],
   "source": [
    "# let's check\n",
    "a + 2*b - c == 5\n",
    "2*a -b + 3*c == 3\n",
    "a - 3*b + 2*c == 4"
   ]
  },
  {
   "cell_type": "markdown",
   "id": "29a40693",
   "metadata": {},
   "source": [
    "### Solving a system of equations with a generalised inverse\n",
    "\n",
    "We can use a generalised inverse matrix to solve a system of equations that is not a square matrix."
   ]
  },
  {
   "cell_type": "code",
   "execution_count": null,
   "id": "bb958bf2",
   "metadata": {},
   "outputs": [],
   "source": []
  }
 ],
 "metadata": {
  "kernelspec": {
   "display_name": "Octave",
   "language": "octave",
   "name": "octave"
  },
  "language_info": {
   "file_extension": ".m",
   "help_links": [
    {
     "text": "GNU Octave",
     "url": "https://www.gnu.org/software/octave/support.html"
    },
    {
     "text": "Octave Kernel",
     "url": "https://github.com/Calysto/octave_kernel"
    },
    {
     "text": "MetaKernel Magics",
     "url": "https://metakernel.readthedocs.io/en/latest/source/README.html"
    }
   ],
   "mimetype": "text/x-octave",
   "name": "octave",
   "version": "5.2.0"
  }
 },
 "nbformat": 4,
 "nbformat_minor": 5
}
