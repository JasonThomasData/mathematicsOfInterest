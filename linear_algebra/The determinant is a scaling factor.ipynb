{
 "cells": [
  {
   "cell_type": "markdown",
   "id": "93fecbb8",
   "metadata": {},
   "source": [
    "### The determinant is a scaling factor\n",
    "\n",
    "Consider the standard basis:\n",
    "\n",
    "$ B_1 = \\left[ \\begin{matrix} 1 & 0 \\\\ 0 & 1 \\end{matrix} \\right] $\n"
   ]
  },
  {
   "cell_type": "code",
   "execution_count": 1,
   "id": "a5e52baf",
   "metadata": {},
   "outputs": [
    {
     "data": {
      "image/png": "[encoded data removed]",
      "text/plain": [
       "<IPython.core.display.Image object>"
      ]
     },
     "metadata": {},
     "output_type": "display_data"
    }
   ],
   "source": [
    "axis([-2 2 -2 2]);\n",
    "xlabel(\"x\");\n",
    "ylabel(\"y\");\n",
    "axis(\"square\");\n",
    "grid on;\n",
    "set(gca, \"gridcolor\", [0.5,0.5,0.5])\n",
    "hold on;\n",
    "draw_2d_vector([1, 0])\n",
    "draw_2d_vector([0, 1])\n",
    "hold off;"
   ]
  },
  {
   "cell_type": "markdown",
   "id": "1254c84c",
   "metadata": {},
   "source": [
    "A value that describes this basis is the determinant. It's also the area of the box inside the basis vectors."
   ]
  },
  {
   "cell_type": "code",
   "execution_count": 2,
   "id": "75c7786b",
   "metadata": {},
   "outputs": [
    {
     "name": "stdout",
     "output_type": "stream",
     "text": [
      "ans = 1\n",
      "ans = 1\n"
     ]
    }
   ],
   "source": [
    "det([1,0;0,1])\n",
    "\n",
    "1*1"
   ]
  },
  {
   "cell_type": "markdown",
   "id": "018347ca",
   "metadata": {},
   "source": [
    "And then consider another basis \n",
    "\n",
    "$ B_2 = \\left[ \\begin{matrix} 4 & 0 \\\\ 0 & 3 \\end{matrix} \\right] $\n"
   ]
  },
  {
   "cell_type": "code",
   "execution_count": 3,
   "id": "522bb708",
   "metadata": {},
   "outputs": [
    {
     "data": {
      "image/png": "[encoded data removed]",
      "text/plain": [
       "<IPython.core.display.Image object>"
      ]
     },
     "metadata": {},
     "output_type": "display_data"
    }
   ],
   "source": [
    "axis([-2 5 -2 4]);\n",
    "xlabel(\"x\");\n",
    "ylabel(\"y\");\n",
    "axis(\"square\");\n",
    "grid on;\n",
    "set(gca, \"gridcolor\", [0.5,0.5,0.5])\n",
    "hold on;\n",
    "draw_2d_vector([4, 0])\n",
    "draw_2d_vector([0, 3])\n",
    "hold off;"
   ]
  },
  {
   "cell_type": "markdown",
   "id": "5084518c",
   "metadata": {},
   "source": [
    "And its determinant is the area inside the box.\n"
   ]
  },
  {
   "cell_type": "code",
   "execution_count": 4,
   "id": "872e765c",
   "metadata": {},
   "outputs": [
    {
     "name": "stdout",
     "output_type": "stream",
     "text": [
      "ans = 12\n",
      "ans = 12\n"
     ]
    }
   ],
   "source": [
    "det([4, 0; 0, 3])\n",
    "\n",
    "4*3"
   ]
  },
  {
   "cell_type": "markdown",
   "id": "84f72f2c",
   "metadata": {},
   "source": [
    "Then because the determinant is a scaling factor, any area projected in the space of basis $ B_2 $ will be 12 times larger than the same area projected in the space that has basis $ B_1 $"
   ]
  },
  {
   "cell_type": "markdown",
   "id": "4d4785ca",
   "metadata": {},
   "source": [
    "This also applies to basis vectors that are not square:\n",
    "\n",
    "$ B_3 = \\left[ \\begin{matrix} 3 & 2 \\\\ -1 & 2 \\end{matrix} \\right] $\n",
    "\n",
    "The trick is that now the $ x $ vector has moved positive along the $ y $ axis, so it no longer only describes $ x $. The $ y $ vector has moved negative along the $ x $ direction so it no longer just describes $ y $"
   ]
  },
  {
   "cell_type": "code",
   "execution_count": 5,
   "id": "bea726a4",
   "metadata": {},
   "outputs": [
    {
     "data": {
      "image/png": "[encoded data removed]",
      "text/plain": [
       "<IPython.core.display.Image object>"
      ]
     },
     "metadata": {},
     "output_type": "display_data"
    }
   ],
   "source": [
    "axis([-2 5 -2 4]);\n",
    "xlabel(\"x\");\n",
    "ylabel(\"y\");\n",
    "axis(\"square\");\n",
    "grid on;\n",
    "set(gca, \"gridcolor\", [0.5,0.5,0.5])\n",
    "hold on;\n",
    "draw_2d_vector([3, 2])\n",
    "draw_2d_vector([-1, 2])\n",
    "hold off;"
   ]
  },
  {
   "cell_type": "markdown",
   "id": "459ab8df",
   "metadata": {},
   "source": [
    "So usually you would multiply the reach of the horizontal vector by the reach of the vertical vector to find the area inside the box. But, we now need to offset that by the extra information encoded in the vectors that have moved.\n",
    "\n",
    "Then the reason why the determinant below:\n",
    "\n",
    "$ \\left[ \\begin{matrix} a & b \\\\ c & d \\end{matrix} \\right] $\n",
    "\n",
    "Is calculated as $ ad - bc $ is because $ ad $ is the area of a basis vector if both vectors were orthogonal. We then subtract $ bc $, which is the amount that those vectors are not orthogonal. "
   ]
  },
  {
   "cell_type": "code",
   "execution_count": 6,
   "id": "17393c4e",
   "metadata": {},
   "outputs": [
    {
     "name": "stdout",
     "output_type": "stream",
     "text": [
      "ans = 8\r\n"
     ]
    }
   ],
   "source": [
    "det([3 2; -1 2])"
   ]
  },
  {
   "cell_type": "code",
   "execution_count": null,
   "id": "b1d92fbe",
   "metadata": {},
   "outputs": [],
   "source": []
  }
 ],
 "metadata": {
  "kernelspec": {
   "display_name": "Octave",
   "language": "octave",
   "name": "octave"
  },
  "language_info": {
   "file_extension": ".m",
   "help_links": [
    {
     "text": "GNU Octave",
     "url": "https://www.gnu.org/software/octave/support.html"
    },
    {
     "text": "Octave Kernel",
     "url": "https://github.com/Calysto/octave_kernel"
    },
    {
     "text": "MetaKernel Magics",
     "url": "https://metakernel.readthedocs.io/en/latest/source/README.html"
    }
   ],
   "mimetype": "text/x-octave",
   "name": "octave",
   "version": "6.4.0"
  }
 },
 "nbformat": 4,
 "nbformat_minor": 5
}
