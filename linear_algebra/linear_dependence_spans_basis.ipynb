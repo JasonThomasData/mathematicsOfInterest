{
 "cells": [
  {
   "cell_type": "markdown",
   "id": "9cd030f6",
   "metadata": {},
   "source": [
    "### Linear combinations and systems of equations\n",
    "\n",
    "Assumed you remember the definitions of vectors, scalars, linear combinations and systems of equations.\n",
    "\n",
    "A linear combination, like: $ \\alpha_1 \\{-1,1,0\\} + \\alpha_2 \\{2,1,3\\} + \\alpha_3 \\{0,1,1\\} = \\{0,0,0\\} $, can be rewritten as a system of linear equations:\n",
    "\n",
    "$ \\begin{matrix} - 1 & 2 & 0 & 0 \\\\ 1 & 1 & 1 & 0\\\\ 0 & 3 & 1 & 0 \\end{matrix} $\n",
    "\n",
    "The above augmented matrix corresponds to the linear combination above it, where each column is a vector. The scalars, $ \\alpha $, in the linear combination where unknown. Now, they are the values to find in this system. We could solve this system of equations using row operations to find the values of each $ \\alpha $. The unknown $ \\alpha $ values can be thought of as silent row headers like $ \\alpha_1, \\alpha_2, \\alpha_3 $, excluding the final column because it does not have a scalar.\n",
    "\n",
    "There are several things we could do with this matrix. Firstly, does the linear combination represent a set of dependent or independent vectors?\n",
    "\n"
   ]
  },
  {
   "cell_type": "markdown",
   "id": "84927c79",
   "metadata": {},
   "source": [
    "### Is the linear combination dependent or independent?\n",
    "\n",
    "This is a theorem in linear algebra:\n",
    "\n",
    "_The set of vectors $ \\{X_1 , X_2 , ... , X_n \\} $ is linearly dependent if and only if there is a relation:\n",
    "$ \\alpha_1 X_1 + \\alpha_2 X_2 + · · · + \\alpha_n X_n = O $\n",
    "in which the scalars $ \\alpha_1, ..., \\alpha_n $ are not all zero._\n",
    "\n",
    "To show the set is linearly dependent, all we need to do here is to prove that at least one $ \\alpha \\ne 0 $\n",
    "\n",
    "Using the example matrix in the cell above, then $\\alpha_3 = -3 \\alpha_2 $ and $ \\alpha_1 = 2\\alpha_2 $, for any $ \\alpha_2 $. Then, suppose $ \\alpha_2 = 4 $. This would mean that $ \\alpha_3 = -12 $, and $ \\alpha_1 = 8 $.\n",
    "\n",
    "To see how this relates back to the linear combination, then substitute in the values for $\\alpha$. This becomes $ 8 (-1,1,0) + 4 (2,1,3) -12 (0,1,1) = (0,0,0) $ which simplifies to $ (-8,8,0) + (8,4,12) + (0,-12,-12) = (0,0,0) $\n",
    "\n",
    "We can say that $ 8 X_1 + 4 X_2 -12 X_3 $ is a non-trivial linear combination, and $ \\{ X_1, X_2, X_3 \\} $ is a linearly dependent set."
   ]
  },
  {
   "cell_type": "markdown",
   "id": "982c2b19",
   "metadata": {},
   "source": [
    "### An example of an independent set of vectors\n",
    "\n",
    "Consider the set of vectors: $ \\{X = (1, 1, 1), Y = (−1, 2, 1), Z = (1, 7, 4)\\} $.\n",
    "\n",
    "Let's first imagine this as a linear combination: $ aX + bY + cZ = (0,0,0) $\n",
    "\n",
    "Expanded: $ a(1,1,1) + b(-1,2,1) + c(1,7,4) = (0,0,0) $\n",
    "\n",
    "And converted to a matrix:"
   ]
  },
  {
   "cell_type": "code",
   "execution_count": 1,
   "id": "3bf6c7df",
   "metadata": {},
   "outputs": [
    {
     "name": "stdout",
     "output_type": "stream",
     "text": [
      "M =\r\n",
      "\r\n",
      "   1  -1   1   0\r\n",
      "   1   2   7   0\r\n",
      "   1   1   4   0\r\n",
      "\r\n"
     ]
    }
   ],
   "source": [
    "M = [1 -1 1 0; 1 2 7 0; 1 1 4 0]"
   ]
  },
  {
   "cell_type": "code",
   "execution_count": 2,
   "id": "4f2bcf82",
   "metadata": {},
   "outputs": [
    {
     "name": "stdout",
     "output_type": "stream",
     "text": [
      "M =\r\n",
      "\r\n",
      "   1  -1   1   0\r\n",
      "   1   2   7   0\r\n",
      "   0  -1  -3   0\r\n",
      "\r\n"
     ]
    }
   ],
   "source": [
    "M(3,:) = M(3,:) + M(2,:) * -1"
   ]
  },
  {
   "cell_type": "code",
   "execution_count": 3,
   "id": "96ddfc58",
   "metadata": {},
   "outputs": [
    {
     "name": "stdout",
     "output_type": "stream",
     "text": [
      "M =\r\n",
      "\r\n",
      "   1  -1   1   0\r\n",
      "   0   3   6   0\r\n",
      "   0  -1  -3   0\r\n",
      "\r\n"
     ]
    }
   ],
   "source": [
    "M(2,:) = M(2,:) + M(1,:) * -1"
   ]
  },
  {
   "cell_type": "code",
   "execution_count": 4,
   "id": "fdb504ff",
   "metadata": {},
   "outputs": [
    {
     "name": "stdout",
     "output_type": "stream",
     "text": [
      "M =\r\n",
      "\r\n",
      "   1  -1   1   0\r\n",
      "   0   1   2   0\r\n",
      "   0  -1  -3   0\r\n",
      "\r\n"
     ]
    }
   ],
   "source": [
    "M(2,:) = M(2,:) * 1/3"
   ]
  },
  {
   "cell_type": "code",
   "execution_count": 5,
   "id": "5802178a",
   "metadata": {},
   "outputs": [
    {
     "name": "stdout",
     "output_type": "stream",
     "text": [
      "M =\r\n",
      "\r\n",
      "   1  -1   1   0\r\n",
      "   0   1   2   0\r\n",
      "   0   0  -1   0\r\n",
      "\r\n"
     ]
    }
   ],
   "source": [
    "M(3,:) = M(3,:) +M(2,:)"
   ]
  },
  {
   "cell_type": "code",
   "execution_count": 6,
   "id": "2ff604f0",
   "metadata": {},
   "outputs": [
    {
     "name": "stdout",
     "output_type": "stream",
     "text": [
      "M =\r\n",
      "\r\n",
      "   1  -1   1   0\r\n",
      "   0   1   2   0\r\n",
      "  -0  -0   1  -0\r\n",
      "\r\n"
     ]
    }
   ],
   "source": [
    "M(3,:) = M(3,:) * -1"
   ]
  },
  {
   "cell_type": "code",
   "execution_count": 7,
   "id": "699d9960",
   "metadata": {},
   "outputs": [
    {
     "name": "stdout",
     "output_type": "stream",
     "text": [
      "M =\r\n",
      "\r\n",
      "   1  -1   1   0\r\n",
      "   0   1   0   0\r\n",
      "  -0  -0   1  -0\r\n",
      "\r\n"
     ]
    }
   ],
   "source": [
    "M(2,:) = M(2,:) + M(3,:) * -2"
   ]
  },
  {
   "cell_type": "code",
   "execution_count": 8,
   "id": "4d38bb61",
   "metadata": {},
   "outputs": [
    {
     "name": "stdout",
     "output_type": "stream",
     "text": [
      "M =\r\n",
      "\r\n",
      "   1   0   1   0\r\n",
      "   0   1   0   0\r\n",
      "  -0  -0   1  -0\r\n",
      "\r\n"
     ]
    }
   ],
   "source": [
    "M(1,:) = M(1,:) + M(2,:)"
   ]
  },
  {
   "cell_type": "code",
   "execution_count": 9,
   "id": "953166d8",
   "metadata": {},
   "outputs": [
    {
     "name": "stdout",
     "output_type": "stream",
     "text": [
      "M =\r\n",
      "\r\n",
      "   1   0   0   0\r\n",
      "   0   1   0   0\r\n",
      "  -0  -0   1  -0\r\n",
      "\r\n"
     ]
    }
   ],
   "source": [
    "M(1,:) = M(1,:) + M(3,:) * -1"
   ]
  },
  {
   "cell_type": "markdown",
   "id": "84204447",
   "metadata": {},
   "source": [
    "This identity matrix has defined all values of scalars here, $ a = b = c = 0 $, which means this is a trivial solution. According to the earlier-mentioned theorem, this is a linearly independent set of vectors."
   ]
  },
  {
   "cell_type": "markdown",
   "id": "f723aac2",
   "metadata": {},
   "source": [
    "### Working with polynomial systems\n",
    "\n",
    "_Show that $ \\{p_1(x) = 1 + x^2 , p_2(x) = x^2 , p_3(x) = x^2 + 3\\} $ is a linearly dependent set in $ P_2(R) $ ._\n",
    "\n",
    "First, let's assume $ x=1 $.\n",
    "\n",
    "Next, let's represent these equations as set of vectors: $ \\{ (1, 1), (1,0), (1, 3) \\} $ . Note that all $ x^2 $ have the same value of their coefficients, which is 1 and that the values are rearranged to have the $x^2$ coefficient of 1 in the first place of every ordered pair.\n",
    "\n",
    "Let's now represent this as a linear combination. : $ \\alpha_1(1, 1) + \\alpha_2(1,0) + \\alpha_3(1, 3) = (0,0) $. \n",
    "\n",
    "From this, let's make a matrix with vectors represented as columns, including the zero vector added to make the equality:"
   ]
  },
  {
   "cell_type": "code",
   "execution_count": 10,
   "id": "873ba51b",
   "metadata": {},
   "outputs": [
    {
     "name": "stdout",
     "output_type": "stream",
     "text": [
      "M =\r\n",
      "\r\n",
      "   1   1   1   0\r\n",
      "   1   0   3   0\r\n",
      "\r\n"
     ]
    }
   ],
   "source": [
    "M = [1 1 1 0; 1 0 3 0];\n",
    "M"
   ]
  },
  {
   "cell_type": "code",
   "execution_count": 11,
   "id": "3e082395",
   "metadata": {},
   "outputs": [
    {
     "name": "stdout",
     "output_type": "stream",
     "text": [
      "M =\r\n",
      "\r\n",
      "   0   1  -2   0\r\n",
      "   1   0   3   0\r\n",
      "\r\n"
     ]
    }
   ],
   "source": [
    "M(1,:) = M(1,:) + M(2,:) * -1"
   ]
  },
  {
   "cell_type": "markdown",
   "id": "7975a48a",
   "metadata": {},
   "source": [
    "We can take this to mean, for any $ \\alpha_3 $, that $ \\alpha_2 = 2\\alpha_3, \\alpha_1 = -3\\alpha_3 $\n",
    "\n",
    "Suppose $ \\alpha_3 = -1 $, then $ \\alpha_1 = 3, \\alpha_2=-2 $\n",
    "\n",
    "Then, $ 3(1,1) + -2(1,0) + -1(1,3) = (0,0) $ is a non-trivial linear combination and the set of vectors $ \\{ (1, 1), (1,0), (1, 3) \\} $ is linearly dependent."
   ]
  },
  {
   "cell_type": "markdown",
   "id": "e0afc1f4",
   "metadata": {},
   "source": [
    "### Independent vectors with new scalars can be dependent\n",
    "\n",
    "_If $ \\{ X, Y, Z \\} $ are linearly independent vectors in a vector space $ V $ prove that $ X − Y + 2Z, 2X + Y + Z, −X − 5Y + 4Z $ are linearly dependent in $ V $._\n",
    "\n",
    "For vectors to be linearly dependent, then that means their scalars must be all zero. However, we can introduce new scalars $ \\{a,b,c\\} $.\n",
    "\n",
    "Suppose: \n",
    "\n",
    "$ a(X - Y + 2Z) + b(2X + Y + Z) + c(-X - 5Y + 4Z) $, then:\n",
    "\n",
    "$ aX - aY + 2aZ + 2bX + bY + bZ - cX - 5cY + 4cZ $, then:\n",
    "\n",
    "$ (a + 2b - c)X + (-a + b - 5c)Y + (2a + b + 4c)Z $\n",
    "\n",
    "We won't be entering vectors into a matrix as columns since each of the three terms is a representation of scalars. So we can enter them as rows."
   ]
  },
  {
   "cell_type": "code",
   "execution_count": 12,
   "id": "9fd5e244",
   "metadata": {},
   "outputs": [
    {
     "name": "stdout",
     "output_type": "stream",
     "text": [
      "M =\r\n",
      "\r\n",
      "   1   2  -1   0\r\n",
      "  -1   1  -5   0\r\n",
      "   2   1   4   0\r\n",
      "\r\n"
     ]
    }
   ],
   "source": [
    "M = [1 2 -1 0; -1 1 -5 0; 2 1 4 0]"
   ]
  },
  {
   "cell_type": "code",
   "execution_count": 13,
   "id": "546ac33e",
   "metadata": {},
   "outputs": [
    {
     "name": "stdout",
     "output_type": "stream",
     "text": [
      "M =\r\n",
      "\r\n",
      "   1   2  -1   0\r\n",
      "   0   3  -6   0\r\n",
      "   2   1   4   0\r\n",
      "\r\n"
     ]
    }
   ],
   "source": [
    "M(2,:) = M(2,:) + M(1,:)"
   ]
  },
  {
   "cell_type": "code",
   "execution_count": 14,
   "id": "73d760d7",
   "metadata": {},
   "outputs": [
    {
     "name": "stdout",
     "output_type": "stream",
     "text": [
      "M =\r\n",
      "\r\n",
      "   1   2  -1   0\r\n",
      "   0   3  -6   0\r\n",
      "   0  -3   6   0\r\n",
      "\r\n"
     ]
    }
   ],
   "source": [
    "M(3,:) = M(3,:) + M(1,:) * -2"
   ]
  },
  {
   "cell_type": "code",
   "execution_count": 15,
   "id": "2eb5bcac",
   "metadata": {},
   "outputs": [
    {
     "name": "stdout",
     "output_type": "stream",
     "text": [
      "M =\r\n",
      "\r\n",
      "   1   2  -1   0\r\n",
      "   0   3  -6   0\r\n",
      "   0   0   0   0\r\n",
      "\r\n"
     ]
    }
   ],
   "source": [
    "M(3,:) = M(3,:) + M(2,:)"
   ]
  },
  {
   "cell_type": "code",
   "execution_count": 16,
   "id": "9fb6003d",
   "metadata": {},
   "outputs": [
    {
     "name": "stdout",
     "output_type": "stream",
     "text": [
      "M =\r\n",
      "\r\n",
      "   1   2  -1   0\r\n",
      "   0   1  -2   0\r\n",
      "   0   0   0   0\r\n",
      "\r\n"
     ]
    }
   ],
   "source": [
    "M(2,:) = M(2,:) * 1/3"
   ]
  },
  {
   "cell_type": "markdown",
   "id": "0703d2d8",
   "metadata": {},
   "source": [
    "The scalar $c$ can be any value, while $ b = 2c $\n",
    "\n",
    "$ a = -2b + c $ \n",
    "\n",
    "$ a = -2(2c) + c $ \n",
    "\n",
    "$ a = -3c $\n",
    "\n",
    "This implies that $ X − Y + 2Z, 2X + Y + Z, −X − 5Y + 4Z $ are linearly dependent in $ V $.\n"
   ]
  },
  {
   "cell_type": "markdown",
   "id": "d45ba399",
   "metadata": {},
   "source": [
    "### Span\n",
    "\n",
    "Given two vectors, the span is the set of all points that those two vectors may reach by applying various scalars to them.\n",
    "\n",
    "Given a linear space $ R^2 $ over the field $ R $ and the vectors: $ \\{(2, 4), (-3, 2), (-1, 2)\\} $, then if you are able to apply any $ \\alpha \\in R $ to scale the vectors, then the span is the set of all possible resulting vectors that exist by adding the vectors together.\n",
    "\n",
    "Let's see these particular vectors:"
   ]
  },
  {
   "cell_type": "code",
   "execution_count": 17,
   "id": "ffbc11f6",
   "metadata": {},
   "outputs": [
    {
     "data": {
      "image/png": "[encoded data removed]",
      "text/plain": [
       "<IPython.core.display.Image object>"
      ]
     },
     "metadata": {},
     "output_type": "display_data"
    }
   ],
   "source": [
    "draw_2d_vector([2 4])\n",
    "draw_2d_vector([-3 2], [2 4]) # then the addition equals [-1 6]\n",
    "draw_2d_vector([-1, 2], [-1 6]) # and that becomes the tail of the next vector"
   ]
  },
  {
   "cell_type": "markdown",
   "id": "bfbc6e9a",
   "metadata": {},
   "source": [
    "In the above visualisation, it is apparant that if you can use any set of $ a,b,c \\in R $ as scalars, then the span of these three vectors is the entire 2d space.\n",
    "\n",
    "Based on the definition of linear independence earlier, then if we add these to a matrix along with the zero vector for equality, we get:"
   ]
  },
  {
   "cell_type": "code",
   "execution_count": 18,
   "id": "322efe70",
   "metadata": {},
   "outputs": [
    {
     "name": "stdout",
     "output_type": "stream",
     "text": [
      "M =\r\n",
      "\r\n",
      "          1       -3/2       -1/2          0\r\n",
      "          0          2          1          0\r\n",
      "\r\n"
     ]
    }
   ],
   "source": [
    "format rat;\n",
    "M = [2 -3 -1 0; 4 2 2 0];\n",
    "M(2,:) = M(2,:) + M(1,:) * -2;\n",
    "M(2,:) = M(2,:) * 1/4;\n",
    "M(1,:) = M(1,:) * 1/2"
   ]
  },
  {
   "cell_type": "markdown",
   "id": "84270eb5",
   "metadata": {},
   "source": [
    "This means for any $ b $ :\n",
    "\n",
    "$ c = -2b $\n",
    "\n",
    "$ a = 1.5b + 0.5(-2b) = 0.5b $\n",
    "\n",
    "Suppose $ b = 1 $, then $ c = -2, a = 0.5 $\n",
    "\n",
    "Then the linear combination of $ 0.5(2,4) + (-3,2) + -2(-1,2) = (0,0) $ is non-trivial and the set of vectors $ \\{(2, 4), (-3, 2), (-1, 2)\\} $ is linearly dependent.  \n",
    "\n",
    "The term linear dependence in the visiualisation makes some sense. We can see that one of the vectors doesn't add to the span, or what is reachable in this linear space. Just two vectors with different angles are required to define the span for $ R^2 $.\n",
    "\n",
    "For this reason, we can express one vector as a linear combination of the other two, like:\n",
    "\n",
    "$ a(2,4) + b(-3,2) = (-1,2) $\n",
    "\n",
    "Let's see the if we can find the values for $a,b$\n"
   ]
  },
  {
   "cell_type": "code",
   "execution_count": 19,
   "id": "df570e53",
   "metadata": {},
   "outputs": [
    {
     "name": "stdout",
     "output_type": "stream",
     "text": [
      "M =\r\n",
      "\r\n",
      "          1       -3/2       -1/2\r\n",
      "          0          1        1/2\r\n",
      "\r\n"
     ]
    }
   ],
   "source": [
    "M = [2 -3 -1; 4 2 2];\n",
    "M(2,:) = M(2,:) + M(1,:) * -2;\n",
    "M(2,:) = M(2,:) * 1/4;\n",
    "M(1,:) = M(1,:) * 1/2;\n",
    "M(2,:) = M(2,:) * 1/2"
   ]
  },
  {
   "cell_type": "markdown",
   "id": "63bd5b52",
   "metadata": {},
   "source": [
    "The above matrix looks remarkably like the first one with three vectors plus the zero vector, except here we have the redundant vector in the zero vector's place.\n",
    "\n",
    "Then, $ b = 1/2, a = -1/2 + 3/4 = 0.25 $\n",
    "\n",
    "$ (-1,2) = 0.25(2,4) + 1/2(-3,2) $ is a non-trivial linear combination of the set of linearly dependent vectors $ \\{(2, 4), (-3, 2), (-1, 2)\\} $.\n",
    "\n",
    "This becomes clearer when visualised:"
   ]
  },
  {
   "cell_type": "code",
   "execution_count": 20,
   "id": "274204f5",
   "metadata": {},
   "outputs": [
    {
     "data": {
      "image/png": "[encoded data removed]",
      "text/plain": [
       "<IPython.core.display.Image object>"
      ]
     },
     "metadata": {},
     "output_type": "display_data"
    }
   ],
   "source": [
    "draw_2d_vector([-1 2])\n",
    "draw_2d_vector(0.25*[2 4])\n",
    "draw_2d_vector(0.5*[-3 2], 0.25*[2 4])"
   ]
  },
  {
   "cell_type": "markdown",
   "id": "4b8d6a33",
   "metadata": {},
   "source": [
    "Let's consider another case of linear dependence.\n",
    "\n",
    "Consider a new set of vectors: $ \\{(1,2), (-2,-4)\\} $. Let's visualise the addition of these vectors."
   ]
  },
  {
   "cell_type": "code",
   "execution_count": 21,
   "id": "86e7c8c5",
   "metadata": {},
   "outputs": [
    {
     "data": {
      "image/png": "[encoded data removed]",
      "text/plain": [
       "<IPython.core.display.Image object>"
      ]
     },
     "metadata": {},
     "output_type": "display_data"
    }
   ],
   "source": [
    "draw_2d_vector([-2 -4])\n",
    "draw_2d_vector([1 2], [-2 -4])"
   ]
  },
  {
   "cell_type": "markdown",
   "id": "0269bf57",
   "metadata": {},
   "source": [
    "These two vectors overlap completely, except that one is longer than the other. The span of this combination didn't change after adding one vector to the other, and the span is a single line.\n",
    "\n",
    "This is linearly dependent. It would be plain to see this by adding the vectors to a matrix:\n",
    "\n",
    "$ \\begin{matrix} 1 & -2\\\\ 2 & -4 \\end{matrix} $\n",
    "\n",
    "There is no way to reduce this further with row operations, since there are infinitely many combinations possible in the matrix. You can disregard one row and focus on the other. \n",
    "\n",
    "For any $b$, $ a = 2b $. Suppose $ b = 1 $, then the linear combination $ 2(1,2) + (-2,-4) = {0, 0} $ is linearly dependent.\n",
    "\n",
    "Put another way, $ (-2, -4) = -2(1, 2) $ is a linear combination."
   ]
  },
  {
   "cell_type": "markdown",
   "id": "95ab33e5",
   "metadata": {},
   "source": [
    "One more example is the addition of vectors in the set $ \\{(3, 2), (-1, -2)\\} $."
   ]
  },
  {
   "cell_type": "code",
   "execution_count": 22,
   "id": "bbb77d64",
   "metadata": {},
   "outputs": [
    {
     "data": {
      "image/png": "[encoded data removed]",
      "text/plain": [
       "<IPython.core.display.Image object>"
      ]
     },
     "metadata": {},
     "output_type": "display_data"
    }
   ],
   "source": [
    "draw_2d_vector([3 2])\n",
    "draw_2d_vector([-1 -2], [3 2])"
   ]
  },
  {
   "cell_type": "markdown",
   "id": "1b2a5ce1",
   "metadata": {},
   "source": [
    "As a linear combination with scalars $a,b \\in R$, then this reads:\n",
    "\n",
    "$ a(3, 2) + b(-1, 2) = (0, 0) $\n",
    "\n",
    "Represented as a matrix:"
   ]
  },
  {
   "cell_type": "code",
   "execution_count": 23,
   "id": "987c1823",
   "metadata": {},
   "outputs": [
    {
     "name": "stdout",
     "output_type": "stream",
     "text": [
      "M =\r\n",
      "\r\n",
      "          3         -1          0\r\n",
      "          2         -2          0\r\n",
      "\r\n"
     ]
    }
   ],
   "source": [
    "M = [3 -1 0; 2 -2 0]"
   ]
  },
  {
   "cell_type": "code",
   "execution_count": 24,
   "id": "bdb44002",
   "metadata": {},
   "outputs": [
    {
     "name": "stdout",
     "output_type": "stream",
     "text": [
      "M =\r\n",
      "\r\n",
      "          1          0          0\r\n",
      "         -0          1         -0\r\n",
      "\r\n"
     ]
    }
   ],
   "source": [
    "M(1,:) = M(1,:) + M(2,:) * -1;\n",
    "M(2,:) = M(2,:) + M(1,:) * -2;\n",
    "M(2,:) = M(2,:) * -1/4;\n",
    "M(1,:) = M(1,:) + M(2,:) * -1"
   ]
  },
  {
   "cell_type": "markdown",
   "id": "c8b1b1af",
   "metadata": {},
   "source": [
    "Then, this system reveals $ a,b = 0 $. According to an earlier-mentioned theorem, a linear combination with all zero vectors is a linearly independent system. If you think about the visualisation and the span, it should be obvious this is linearly independent, since removing either vector would reduce the linear combination's span."
   ]
  },
  {
   "cell_type": "markdown",
   "id": "821fff82",
   "metadata": {},
   "source": [
    "### Basis\n",
    "\n",
    "A basis of a linear space is a set of linearly independent vectors that span that space. Obviously most spaces will allow for more that one set of linearly independent vectors, so therefore a space can have more than one basis."
   ]
  },
  {
   "cell_type": "code",
   "execution_count": null,
   "id": "420c4a0d",
   "metadata": {},
   "outputs": [],
   "source": []
  }
 ],
 "metadata": {
  "kernelspec": {
   "display_name": "Octave",
   "language": "octave",
   "name": "octave"
  },
  "language_info": {
   "file_extension": ".m",
   "help_links": [
    {
     "text": "GNU Octave",
     "url": "https://www.gnu.org/software/octave/support.html"
    },
    {
     "text": "Octave Kernel",
     "url": "https://github.com/Calysto/octave_kernel"
    },
    {
     "text": "MetaKernel Magics",
     "url": "https://metakernel.readthedocs.io/en/latest/source/README.html"
    }
   ],
   "mimetype": "text/x-octave",
   "name": "octave",
   "version": "5.2.0"
  }
 },
 "nbformat": 4,
 "nbformat_minor": 5
}
