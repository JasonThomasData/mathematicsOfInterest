{
 "cells": [
  {
   "cell_type": "markdown",
   "id": "5493fa65",
   "metadata": {},
   "source": [
    "### Scalar projection\n",
    "\n",
    "This is an application of the relationship between a dot product of two vectors and the angle between them, assuming they share an origin at each tail.\n",
    "\n",
    "![scalar projection](scalarProjection.png)\n",
    "\n",
    "The intuition is that there is a light directly above $ \\vec{a} $ and $ L $ is its shadow.\n",
    "\n",
    "We know from the relationship between the dot product of two vectors and the angle between those vectors that:\n",
    "\n",
    "$ \\vec{a} \\cdot \\vec{b} = |\\vec{a}| |\\vec{b}| \\cos \\theta $\n",
    "\n",
    "What is the length of $ L $?\n",
    "\n",
    "We know from triganometry (SOH CAH TOA) that:\n",
    "\n",
    "$ H = |\\vec{a}| $\n",
    "\n",
    "$ A = L $\n",
    "\n",
    "$ \\cos \\theta = \\frac{A}{H} $\n",
    "\n",
    "$ A \\cos \\theta = L $\n",
    "\n",
    "$ |\\vec{a}|\\cos \\theta = L $\n",
    "\n",
    "$ L = |\\vec{a}|1 \\cos \\theta$\n",
    "\n",
    "This looks a lot like the relationship:\n",
    "\n",
    "$ \\vec{a} \\cdot \\vec{b} = |\\vec{a}| |\\vec{b}| \\cos \\theta $\n",
    "\n",
    "But that implies that $ |\\vec{b}| = 1 $. We can't gaurantee that's true. What we can gaurantee is:\n",
    "\n",
    "$ \\frac{|\\vec{b}|}{|\\vec{b}|} = 1 $\n",
    "\n",
    "$ L = |\\vec{a}| \\frac{|\\vec{b}|}{|\\vec{b}|} \\cos \\theta$\n",
    "\n",
    "$ L = \\frac{1}{|\\vec{b}|} \\left( |\\vec{a}| |\\vec{b}| \\cos \\theta  \\right)$\n",
    "\n",
    "$ L = \\frac{1}{|\\vec{b}|} \\left(\\vec{a} \\cdot \\vec{b} \\right) $\n",
    "\n",
    "$ L = \\left(\\vec{a} \\cdot \\frac{\\vec{b}}{|\\vec{b}|} \\right) $\n",
    "\n",
    "$ \\vec{\\hat{b}} = \\frac{\\vec{b}}{|\\vec{b}|} $ is the unit vector\n",
    "\n",
    "Without knowing the proportion of $ \\vec{b} $ covered by $ L $, we can say:\n",
    "\n",
    "$ L = \\left(\\vec{a} \\cdot \\frac{\\vec{b}}{|\\vec{b}|} \\right) $"
   ]
  },
  {
   "cell_type": "code",
   "execution_count": null,
   "id": "eb53d62f",
   "metadata": {},
   "outputs": [],
   "source": []
  },
  {
   "cell_type": "code",
   "execution_count": null,
   "id": "de0f6054",
   "metadata": {},
   "outputs": [],
   "source": []
  }
 ],
 "metadata": {
  "kernelspec": {
   "display_name": "Octave",
   "language": "octave",
   "name": "octave"
  },
  "language_info": {
   "file_extension": ".m",
   "help_links": [
    {
     "text": "GNU Octave",
     "url": "https://www.gnu.org/software/octave/support.html"
    },
    {
     "text": "Octave Kernel",
     "url": "https://github.com/Calysto/octave_kernel"
    },
    {
     "text": "MetaKernel Magics",
     "url": "https://metakernel.readthedocs.io/en/latest/source/README.html"
    }
   ],
   "mimetype": "text/x-octave",
   "name": "octave",
   "version": "5.2.0"
  }
 },
 "nbformat": 4,
 "nbformat_minor": 5
}
