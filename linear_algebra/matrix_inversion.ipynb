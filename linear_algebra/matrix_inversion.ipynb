{
 "cells": [
  {
   "cell_type": "markdown",
   "id": "d5424d39",
   "metadata": {},
   "source": [
    "### Matrix Inversion\n",
    "\n",
    "Given matrix $ A = \\begin{matrix} 2 & 1 & 4\\\\ 4 & 1 & 3\\\\ 3 & 4 & 1\\end{matrix} $\n",
    "\n",
    "And given the identity matrix $ I = \\begin{matrix} 1 & 0 & 0\\\\ 0 & 1 & 0\\\\ 0 & 0 & 1\\end{matrix} $\n",
    "\n",
    "We can find the matrix's inverse by augmenting $ AI $ and then applying elementary row operations, such that:\n",
    "\n",
    "$ AI = \\begin{matrix} 2 & 1 & 4 & 1 & 0 & 0\\\\ 4 & 1 & 3 & 0 & 1 & 0\\\\ 3 & 4 & 1 & 0 & 0 & 1\\end{matrix} $\n",
    "\n",
    "Becomes:\n",
    "\n",
    "Where B = A^-1\n",
    "\n",
    "$ IB = \\begin{matrix} 1 & 0 & 0 & B_{11} & B_{12} & B_{13} \\\\ 0 & 1 & 0 & B_{21} & B_{22} & B_{23} \\\\ 0 & 0 & 1 & B_{31} & B_{32} & B_{33}\\end{matrix} $"
   ]
  },
  {
   "cell_type": "code",
   "execution_count": 14,
   "id": "bc80eb52",
   "metadata": {},
   "outputs": [
    {
     "name": "stdout",
     "output_type": "stream",
     "text": [
      "A =\r\n",
      "\r\n",
      "          2          1          4\r\n",
      "          4          1          3\r\n",
      "          3          4          1\r\n",
      "\r\n"
     ]
    }
   ],
   "source": [
    "A = [2 1 4; 4 1 3; 3 4 1]"
   ]
  },
  {
   "cell_type": "code",
   "execution_count": 15,
   "id": "0a0d7b39",
   "metadata": {},
   "outputs": [
    {
     "name": "stdout",
     "output_type": "stream",
     "text": [
      "I =\r\n",
      "\r\n",
      "          1          0          0\r\n",
      "          0          1          0\r\n",
      "          0          0          1\r\n",
      "\r\n"
     ]
    }
   ],
   "source": [
    "I = [1 0 0; 0 1 0; 0 0 1]"
   ]
  },
  {
   "cell_type": "code",
   "execution_count": 16,
   "id": "a2ca28dd",
   "metadata": {},
   "outputs": [
    {
     "name": "stdout",
     "output_type": "stream",
     "text": [
      "AI =\r\n",
      "\r\n",
      "          2          1          4          1          0          0\r\n",
      "          4          1          3          0          1          0\r\n",
      "          3          4          1          0          0          1\r\n",
      "\r\n"
     ]
    }
   ],
   "source": [
    "AI = [A, I]"
   ]
  },
  {
   "cell_type": "code",
   "execution_count": 17,
   "id": "d9ca45cf",
   "metadata": {},
   "outputs": [],
   "source": [
    "format rat"
   ]
  },
  {
   "cell_type": "code",
   "execution_count": 18,
   "id": "5c115a99",
   "metadata": {},
   "outputs": [
    {
     "name": "stdout",
     "output_type": "stream",
     "text": [
      "AI =\r\n",
      "\r\n",
      "          2          1          4          1          0          0\r\n",
      "          0         -1         -5         -2          1          0\r\n",
      "          3          4          1          0          0          1\r\n",
      "\r\n"
     ]
    }
   ],
   "source": [
    "AI(2,:) = AI(2,:) + AI(1,:) * -2"
   ]
  },
  {
   "cell_type": "code",
   "execution_count": 19,
   "id": "1eedad3c",
   "metadata": {},
   "outputs": [
    {
     "name": "stdout",
     "output_type": "stream",
     "text": [
      "AI =\r\n",
      "\r\n",
      "          2          1          4          1          0          0\r\n",
      "          0         -1         -5         -2          1          0\r\n",
      "          1          3         -3         -1          0          1\r\n",
      "\r\n"
     ]
    }
   ],
   "source": [
    "AI(3,:) = AI(3,:) + AI(1,:) * -1"
   ]
  },
  {
   "cell_type": "code",
   "execution_count": 20,
   "id": "eba23b1c",
   "metadata": {},
   "outputs": [
    {
     "name": "stdout",
     "output_type": "stream",
     "text": [
      "AI =\r\n",
      "\r\n",
      "          2          1          4          1          0          0\r\n",
      "          0         -1         -5         -2          1          0\r\n",
      "          0        5/2         -5       -3/2          0          1\r\n",
      "\r\n"
     ]
    }
   ],
   "source": [
    "AI(3,:) = AI(3,:) + AI(1,:) * -1/2"
   ]
  },
  {
   "cell_type": "code",
   "execution_count": 21,
   "id": "a1a45b87",
   "metadata": {},
   "outputs": [
    {
     "name": "stdout",
     "output_type": "stream",
     "text": [
      "AI =\r\n",
      "\r\n",
      "          2          1          4          1          0          0\r\n",
      "         -0          1          5          2         -1         -0\r\n",
      "          0        5/2         -5       -3/2          0          1\r\n",
      "\r\n"
     ]
    }
   ],
   "source": [
    "AI(2,:) = AI(2,:) * -1"
   ]
  },
  {
   "cell_type": "code",
   "execution_count": 22,
   "id": "20b73e0a",
   "metadata": {},
   "outputs": [
    {
     "name": "stdout",
     "output_type": "stream",
     "text": [
      "AI =\r\n",
      "\r\n",
      "          2          1          4          1          0          0\r\n",
      "         -0          1          5          2         -1         -0\r\n",
      "         -0       -1/2          1       3/10         -0       -1/5\r\n",
      "\r\n"
     ]
    }
   ],
   "source": [
    "AI(3,:) = AI(3,:) * -1/5"
   ]
  },
  {
   "cell_type": "code",
   "execution_count": 23,
   "id": "511cafa9",
   "metadata": {},
   "outputs": [
    {
     "name": "stdout",
     "output_type": "stream",
     "text": [
      "AI =\r\n",
      "\r\n",
      "          2          1          4          1          0          0\r\n",
      "         -0          1          5          2         -1         -0\r\n",
      "         -0          0        7/2      13/10       -1/2       -1/5\r\n",
      "\r\n"
     ]
    }
   ],
   "source": [
    "AI(3,:) = AI(3,:) + AI(2,:) * 1/2"
   ]
  },
  {
   "cell_type": "code",
   "execution_count": 24,
   "id": "a6b5a6f3",
   "metadata": {},
   "outputs": [
    {
     "name": "stdout",
     "output_type": "stream",
     "text": [
      "AI =\r\n",
      "\r\n",
      "          2          1          4          1          0          0\r\n",
      "         -0          1          5          2         -1         -0\r\n",
      "         -0          0          1      13/35       -1/7      -2/35\r\n",
      "\r\n"
     ]
    }
   ],
   "source": [
    "AI(3,:) = AI(3,:) * 2/7"
   ]
  },
  {
   "cell_type": "code",
   "execution_count": 25,
   "id": "0357c0c0",
   "metadata": {},
   "outputs": [
    {
     "name": "stdout",
     "output_type": "stream",
     "text": [
      "AI =\r\n",
      "\r\n",
      "          2          1          4          1          0          0\r\n",
      "          0          1          0        1/7       -2/7        2/7\r\n",
      "         -0          0          1      13/35       -1/7      -2/35\r\n",
      "\r\n"
     ]
    }
   ],
   "source": [
    "AI(2,:) = AI(2,:) + AI(3,:) * -5"
   ]
  },
  {
   "cell_type": "code",
   "execution_count": 26,
   "id": "a5b66f0a",
   "metadata": {},
   "outputs": [
    {
     "name": "stdout",
     "output_type": "stream",
     "text": [
      "AI =\r\n",
      "\r\n",
      "          2          0          4        6/7        2/7       -2/7\r\n",
      "          0          1          0        1/7       -2/7        2/7\r\n",
      "         -0          0          1      13/35       -1/7      -2/35\r\n",
      "\r\n"
     ]
    }
   ],
   "source": [
    "AI(1,:) = AI(1,:) + AI(2,:) * -1"
   ]
  },
  {
   "cell_type": "code",
   "execution_count": 27,
   "id": "c6a5fe34",
   "metadata": {},
   "outputs": [
    {
     "name": "stdout",
     "output_type": "stream",
     "text": [
      "AI =\r\n",
      "\r\n",
      "          1          0          2        3/7        1/7       -1/7\r\n",
      "          0          1          0        1/7       -2/7        2/7\r\n",
      "         -0          0          1      13/35       -1/7      -2/35\r\n",
      "\r\n"
     ]
    }
   ],
   "source": [
    "AI(1,:) = AI(1,:) * 1/2"
   ]
  },
  {
   "cell_type": "code",
   "execution_count": 28,
   "id": "8ac0dc6d",
   "metadata": {},
   "outputs": [
    {
     "name": "stdout",
     "output_type": "stream",
     "text": [
      "AI =\r\n",
      "\r\n",
      "          1          0          0     -11/35        3/7      -1/35\r\n",
      "          0          1          0        1/7       -2/7        2/7\r\n",
      "         -0          0          1      13/35       -1/7      -2/35\r\n",
      "\r\n"
     ]
    }
   ],
   "source": [
    "AI(1,:) = AI(1,:) + AI(3,:) * -2"
   ]
  },
  {
   "cell_type": "code",
   "execution_count": 29,
   "id": "80d28bdd",
   "metadata": {},
   "outputs": [
    {
     "name": "stdout",
     "output_type": "stream",
     "text": [
      "B =\r\n",
      "\r\n",
      "     -11/35        3/7      -1/35\r\n",
      "        1/7       -2/7        2/7\r\n",
      "      13/35       -1/7      -2/35\r\n",
      "\r\n"
     ]
    }
   ],
   "source": [
    "B = AI(:,4:6)"
   ]
  },
  {
   "cell_type": "markdown",
   "id": "03097108",
   "metadata": {},
   "source": [
    "This should now be identical to the Octave function for finding the inverse"
   ]
  },
  {
   "cell_type": "code",
   "execution_count": 30,
   "id": "4c3b70b7",
   "metadata": {},
   "outputs": [
    {
     "name": "stdout",
     "output_type": "stream",
     "text": [
      "ans =\r\n",
      "\r\n",
      "     -11/35        3/7      -1/35\r\n",
      "        1/7       -2/7        2/7\r\n",
      "      13/35       -1/7      -2/35\r\n",
      "\r\n"
     ]
    }
   ],
   "source": [
    "A^-1"
   ]
  },
  {
   "cell_type": "markdown",
   "id": "3e814dbc",
   "metadata": {},
   "source": [
    "Interestingly, the Identity matrix, its inverse and its transpose are all equal"
   ]
  },
  {
   "cell_type": "code",
   "execution_count": 3,
   "id": "bfdd328c",
   "metadata": {},
   "outputs": [
    {
     "name": "stdout",
     "output_type": "stream",
     "text": [
      "I =\r\n",
      "\r\n",
      "   1   0   0\r\n",
      "   0   1   0\r\n",
      "   0   0   1\r\n",
      "\r\n"
     ]
    }
   ],
   "source": [
    "I"
   ]
  },
  {
   "cell_type": "code",
   "execution_count": 4,
   "id": "5082a232",
   "metadata": {},
   "outputs": [
    {
     "name": "stdout",
     "output_type": "stream",
     "text": [
      "ans =\r\n",
      "\r\n",
      "   1  -0  -0\r\n",
      "   0   1  -0\r\n",
      "   0   0   1\r\n",
      "\r\n"
     ]
    }
   ],
   "source": [
    "I^-1"
   ]
  },
  {
   "cell_type": "code",
   "execution_count": 10,
   "id": "38a9c0a5",
   "metadata": {},
   "outputs": [
    {
     "name": "stdout",
     "output_type": "stream",
     "text": [
      "M =\r\n",
      "\r\n",
      "          1          2          3\r\n",
      "          2          1          1\r\n",
      "          3          1          1\r\n",
      "\r\n"
     ]
    }
   ],
   "source": [
    "transpose(I)"
   ]
  },
  {
   "cell_type": "code",
   "execution_count": 11,
   "id": "d09503af",
   "metadata": {},
   "outputs": [
    {
     "name": "stdout",
     "output_type": "stream",
     "text": [
      "ans =\r\n",
      "\r\n",
      "          0         -1          1\r\n",
      "         -1          8         -5\r\n",
      "          1         -5          3\r\n",
      "\r\n"
     ]
    }
   ],
   "source": [
    "format rat\n",
    "M^-1"
   ]
  },
  {
   "cell_type": "code",
   "execution_count": 12,
   "id": "ead43a01",
   "metadata": {},
   "outputs": [
    {
     "name": "stdout",
     "output_type": "stream",
     "text": [
      "A =\r\n",
      "\r\n",
      "          0          0          1\r\n",
      "          0          1          0\r\n",
      "          1          0          0\r\n",
      "\r\n"
     ]
    }
   ],
   "source": [
    "A = [0 0 1; 0 1 0; 1 0 0]"
   ]
  },
  {
   "cell_type": "code",
   "execution_count": 13,
   "id": "3a18a173",
   "metadata": {},
   "outputs": [
    {
     "name": "stdout",
     "output_type": "stream",
     "text": [
      "ans =\r\n",
      "\r\n",
      "         -0         -0          1\r\n",
      "         -0          1          0\r\n",
      "          1          0          0\r\n",
      "\r\n"
     ]
    }
   ],
   "source": [
    "A^-1"
   ]
  },
  {
   "cell_type": "code",
   "execution_count": null,
   "id": "ba069078",
   "metadata": {},
   "outputs": [],
   "source": []
  }
 ],
 "metadata": {
  "kernelspec": {
   "display_name": "Octave",
   "language": "octave",
   "name": "octave"
  },
  "language_info": {
   "file_extension": ".m",
   "help_links": [
    {
     "text": "GNU Octave",
     "url": "https://www.gnu.org/software/octave/support.html"
    },
    {
     "text": "Octave Kernel",
     "url": "https://github.com/Calysto/octave_kernel"
    },
    {
     "text": "MetaKernel Magics",
     "url": "https://metakernel.readthedocs.io/en/latest/source/README.html"
    }
   ],
   "mimetype": "text/x-octave",
   "name": "octave",
   "version": "5.2.0"
  }
 },
 "nbformat": 4,
 "nbformat_minor": 5
}
