{
 "cells": [
  {
   "cell_type": "markdown",
   "id": "de0b776c",
   "metadata": {},
   "source": [
    "### Relationship between dot product and angle between vectors\n",
    "\n",
    "This is interesting enough that I should work on a full derivation.\n",
    "\n",
    "An interesting result from applying the Cosine Rule is there is an interesting relationship between the dot product and the angle between vectors.\n",
    "\n",
    "Let:\n",
    "\n",
    "$ \\vec{a}, \\vec{b} $ be vectors that share an origin\n",
    "\n",
    "$ \\theta $ is the angle between them\n",
    "\n",
    "$ \\vec{a} \\cdot \\vec{b} = |\\vec{a}| |\\vec{b}| \\cos \\theta $\n",
    "\n",
    "And there are some observations to be made about this in relation to $ \\theta $\n",
    "\n",
    "$ \\cos \\theta > 0 \\rightarrow 0 \\le \\theta < \\frac{\\pi}{2} $\n",
    "\n",
    "$ \\cos \\theta = 0 \\rightarrow \\theta = \\frac{\\pi}{2} $\n",
    "\n",
    "$ \\cos \\theta < 0 \\rightarrow \\theta > \\frac{\\pi}{2} $\n",
    "\n",
    "Eg, if your dot product (or $ \\cos \\theta $) is negative then the angle will be obtuse (aka larger than $\\frac{\\pi}{2}$).\n",
    "\n",
    "This result leads us to the scalar projection.\n",
    "\n",
    "#### Example\n",
    "\n",
    "$ \\vec{a} = 2i - 3j + 5k $\n",
    "\n",
    "$ \\vec{b} = (-1, 2, -1) $\n",
    "\n",
    "$ |\\vec{a}| = \\sqrt{2^2 + (-3)^2 + 5^2} = \\sqrt{38} $\n",
    "\n",
    "$ |\\vec{b}| = \\sqrt{(-1)^2 + 2^2 + (-1)^2} = \\sqrt{6}$\n",
    "\n",
    "$ (2, -3, 5) \\cdot (-1, 2, -1) = -2 -6 -5 = -13 $\n",
    "\n",
    "$ -13 = \\sqrt{38}\\sqrt{6} \\cos \\theta $\n",
    "\n",
    "$ -13 = \\sqrt{228} \\cos \\theta $\n",
    "\n",
    "$ \\frac{-13}{\\sqrt{6}} = \\cos \\theta $\n",
    "\n",
    "$ \\cos \\left(\\frac{-13}{\\sqrt{6}}\\right)^{-1} = \\theta $"
   ]
  },
  {
   "cell_type": "code",
   "execution_count": null,
   "id": "a8997c51",
   "metadata": {},
   "outputs": [],
   "source": []
  }
 ],
 "metadata": {
  "kernelspec": {
   "display_name": "Octave",
   "language": "octave",
   "name": "octave"
  },
  "language_info": {
   "file_extension": ".m",
   "help_links": [
    {
     "text": "GNU Octave",
     "url": "https://www.gnu.org/software/octave/support.html"
    },
    {
     "text": "Octave Kernel",
     "url": "https://github.com/Calysto/octave_kernel"
    },
    {
     "text": "MetaKernel Magics",
     "url": "https://metakernel.readthedocs.io/en/latest/source/README.html"
    }
   ],
   "mimetype": "text/x-octave",
   "name": "octave",
   "version": "5.2.0"
  }
 },
 "nbformat": 4,
 "nbformat_minor": 5
}
