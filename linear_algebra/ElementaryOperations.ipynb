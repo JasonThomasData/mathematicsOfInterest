{
 "cells": [
  {
   "cell_type": "code",
   "execution_count": 1,
   "id": "962a2695",
   "metadata": {},
   "outputs": [],
   "source": [
    "# This is merely to demonstrate that it's possible to use Octave to do elementary row operations.\n",
    "# For example, solve a system of linear equations, matrix inversion, etc"
   ]
  },
  {
   "cell_type": "code",
   "execution_count": 2,
   "id": "066634d0",
   "metadata": {},
   "outputs": [
    {
     "name": "stdout",
     "output_type": "stream",
     "text": [
      "A =\r\n",
      "\r\n",
      "    2    5    2  -38\r\n",
      "    3   -2    4   17\r\n",
      "   -6    1   -7  -12\r\n",
      "\r\n"
     ]
    }
   ],
   "source": [
    "A = [2  5  2 -38;\n",
    "     3 -2  4  17;\n",
    "    -6  1 -7 -12]"
   ]
  },
  {
   "cell_type": "code",
   "execution_count": 3,
   "id": "c72d996c",
   "metadata": {},
   "outputs": [
    {
     "name": "stdout",
     "output_type": "stream",
     "text": [
      "A =\r\n",
      "\r\n",
      "    2    5    2  -38\r\n",
      "    3   -2    4   17\r\n",
      "    0   -3    1   22\r\n",
      "\r\n"
     ]
    }
   ],
   "source": [
    "A(3,:) = A(3,:) + A(2,:) *2"
   ]
  },
  {
   "cell_type": "code",
   "execution_count": 4,
   "id": "c87986f1",
   "metadata": {},
   "outputs": [
    {
     "name": "stdout",
     "output_type": "stream",
     "text": [
      "A =\r\n",
      "\r\n",
      "    2    5    2  -38\r\n",
      "    1   -7    2   55\r\n",
      "    0   -3    1   22\r\n",
      "\r\n"
     ]
    }
   ],
   "source": [
    "A(2,:) = A(2,:) + A(1,:)*-1"
   ]
  },
  {
   "cell_type": "code",
   "execution_count": 5,
   "id": "c8e42a25",
   "metadata": {},
   "outputs": [
    {
     "name": "stdout",
     "output_type": "stream",
     "text": [
      "A =\r\n",
      "\r\n",
      "    1   12    0  -93\r\n",
      "    1   -7    2   55\r\n",
      "    0   -3    1   22\r\n",
      "\r\n"
     ]
    }
   ],
   "source": [
    "A(1,:) = A(1,:) + A(2,:)*-1"
   ]
  },
  {
   "cell_type": "code",
   "execution_count": 6,
   "id": "f1b20763",
   "metadata": {},
   "outputs": [
    {
     "name": "stdout",
     "output_type": "stream",
     "text": [
      "A =\r\n",
      "\r\n",
      "     1    12     0   -93\r\n",
      "     0   -19     2   148\r\n",
      "     0    -3     1    22\r\n",
      "\r\n"
     ]
    }
   ],
   "source": [
    "A(2,:) = A(2,:) + A(1,:)*-1"
   ]
  },
  {
   "cell_type": "code",
   "execution_count": 7,
   "id": "af8333dd",
   "metadata": {},
   "outputs": [
    {
     "name": "stdout",
     "output_type": "stream",
     "text": [
      "A =\r\n",
      "\r\n",
      "    1   12    0  -93\r\n",
      "    0   -4   -3   38\r\n",
      "    0   -3    1   22\r\n",
      "\r\n"
     ]
    }
   ],
   "source": [
    "A(2,:) = A(2,:) + A(3,:) *-5"
   ]
  },
  {
   "cell_type": "code",
   "execution_count": 8,
   "id": "f2cbcec7",
   "metadata": {},
   "outputs": [
    {
     "name": "stdout",
     "output_type": "stream",
     "text": [
      "A =\r\n",
      "\r\n",
      "    1   12    0  -93\r\n",
      "    0   -1   -4   16\r\n",
      "    0   -3    1   22\r\n",
      "\r\n"
     ]
    }
   ],
   "source": [
    "A(2,:) = A(2,:) + A(3,:) *-1"
   ]
  },
  {
   "cell_type": "code",
   "execution_count": 9,
   "id": "4e1746e2",
   "metadata": {},
   "outputs": [
    {
     "name": "stdout",
     "output_type": "stream",
     "text": [
      "A =\r\n",
      "\r\n",
      "    1   12    0  -93\r\n",
      "   -0    1    4  -16\r\n",
      "    0   -3    1   22\r\n",
      "\r\n"
     ]
    }
   ],
   "source": [
    "A(2,:) = A(2,:) *-1"
   ]
  },
  {
   "cell_type": "code",
   "execution_count": 10,
   "id": "f9f6ddd0",
   "metadata": {},
   "outputs": [
    {
     "name": "stdout",
     "output_type": "stream",
     "text": [
      "A =\r\n",
      "\r\n",
      "    1   12    0  -93\r\n",
      "   -0    1    4  -16\r\n",
      "    0    0   13  -26\r\n",
      "\r\n"
     ]
    }
   ],
   "source": [
    "A(3,:) = A(3,:) + A(2,:) *3"
   ]
  },
  {
   "cell_type": "code",
   "execution_count": 11,
   "id": "b84e04af",
   "metadata": {},
   "outputs": [
    {
     "name": "stdout",
     "output_type": "stream",
     "text": [
      "A =\r\n",
      "\r\n",
      "    1   12    0  -93\r\n",
      "   -0    1    4  -16\r\n",
      "    0    0    1   -2\r\n",
      "\r\n"
     ]
    }
   ],
   "source": [
    "A(3,:) = A(3,:) * 1/13"
   ]
  },
  {
   "cell_type": "code",
   "execution_count": 12,
   "id": "9ee33ef1",
   "metadata": {},
   "outputs": [
    {
     "name": "stdout",
     "output_type": "stream",
     "text": [
      "A =\r\n",
      "\r\n",
      "    1   12    0  -93\r\n",
      "   -0    1    0   -8\r\n",
      "    0    0    1   -2\r\n",
      "\r\n"
     ]
    }
   ],
   "source": [
    "A(2,:) = A(2,:) + A(3,:) * -4"
   ]
  },
  {
   "cell_type": "code",
   "execution_count": 13,
   "id": "6ae4c10b",
   "metadata": {},
   "outputs": [
    {
     "name": "stdout",
     "output_type": "stream",
     "text": [
      "A =\r\n",
      "\r\n",
      "   1   0   0   3\r\n",
      "  -0   1   0  -8\r\n",
      "   0   0   1  -2\r\n",
      "\r\n"
     ]
    }
   ],
   "source": [
    "A(1,:) = A(1,:) + A(2,:) * -12"
   ]
  },
  {
   "cell_type": "code",
   "execution_count": 16,
   "id": "221f97be",
   "metadata": {},
   "outputs": [
    {
     "name": "stdout",
     "output_type": "stream",
     "text": [
      "ans =\r\n",
      "\r\n",
      "   3\r\n",
      "  -8\r\n",
      "  -2\r\n",
      "\r\n"
     ]
    }
   ],
   "source": [
    "# This is completely unncessary by representing it as a linear combination\n",
    "\n",
    "M = A(:, 1:3);\n",
    "X = A(:, 4);\n",
    "M\\X"
   ]
  }
 ],
 "metadata": {
  "kernelspec": {
   "display_name": "Octave",
   "language": "octave",
   "name": "octave"
  },
  "language_info": {
   "file_extension": ".m",
   "help_links": [
    {
     "text": "GNU Octave",
     "url": "https://www.gnu.org/software/octave/support.html"
    },
    {
     "text": "Octave Kernel",
     "url": "https://github.com/Calysto/octave_kernel"
    },
    {
     "text": "MetaKernel Magics",
     "url": "https://metakernel.readthedocs.io/en/latest/source/README.html"
    }
   ],
   "mimetype": "text/x-octave",
   "name": "octave",
   "version": "5.2.0"
  }
 },
 "nbformat": 4,
 "nbformat_minor": 5
}
