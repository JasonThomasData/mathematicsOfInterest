{
 "cells": [
  {
   "cell_type": "markdown",
   "id": "9cd030f6",
   "metadata": {},
   "source": [
    "### Linear combinations and systems of equations\n",
    "\n",
    "Assumed you remember the definitions of vectors, scalars, linear combinations and systems of equations.\n",
    "\n",
    "A linear combination, like: $ \\alpha_1 \\{-1,1,0\\} + \\alpha_2 \\{2,1,3\\} + \\alpha_3 \\{0,1,1\\} = \\{0,0,0\\} $, can be rewritten as a system of linear equations:\n",
    "\n",
    "$ \\begin{matrix} - 1 & 2 & 0 & 0 \\\\ 1 & 1 & 1 & 0\\\\ 0 & 3 & 1 & 0 \\end{matrix} $\n",
    "\n",
    "The above augmented matrix corresponds to the linear combination above it, where each column is a vector. The scalars, $ \\alpha $, in the linear combination where unknown. Now, they are the values to find in this system. We could solve this system of equations using row operations to find the values of each $ \\alpha $. The unknown $ \\alpha $ values can be thought of as silent row headers like $ \\alpha_1, \\alpha_2, \\alpha_3 $, excluding the final column.\n",
    "\n",
    "There are several things we could do with this matrix. Firstly, does the linear combination represent a set of dependent or independent vectors?\n",
    "\n"
   ]
  },
  {
   "cell_type": "markdown",
   "id": "84927c79",
   "metadata": {},
   "source": [
    "### Is the linear combination dependent or independent?\n",
    "\n",
    "This is a theorem in linear algebra:\n",
    "\n",
    "_The set of vectors $ \\{X_1 , X_2 , ... , X_n \\} $ is linearly dependent if and only if there is a relation $ \\alpha_1 X_1 + \\alpha_2 X_2 + · · · + \\alpha_n X_n = O $ in which the scalars $ \\alpha $ are not all zero._\n",
    "\n",
    "All we need to do here is to prove that at least one $ \\alpha \\ne 0 $\n",
    "\n",
    "The example matrix means that $\\alpha_3 = -3 \\alpha_2 $ and $ \\alpha_1 = 2\\alpha_2 $, for any $ \\alpha_2 $. Then, suppose $ \\alpha_2 = 4 $. This would mean that $ \\alpha_3 = -12 $, and $ \\alpha_1 = 8 $.\n",
    "\n",
    "To see how this relates back to the linear combination, then substitute in the values for $\\alpha$. This becomes $ 8 (-1,1,0) + 4 (2,1,3) -12 (0,1,1) = (0,0,0) $ which simplifies to $ (-8,8,0) + (8,4,12) + (0,-12,-12) = (0,0,0) $\n",
    "\n",
    "We can say that $ 8 X_1 + 4 X_2 -12 X_3 $ is a non-trivial linear combination, and $ \\{ X_1, X_2, X_3 \\} $ is a linearly dependent set."
   ]
  },
  {
   "cell_type": "markdown",
   "id": "982c2b19",
   "metadata": {},
   "source": [
    "\n",
    "### An example of an independent set of vectors\n",
    "\n",
    "Consider the set of vectors: $ \\{X = (1, 1, 1), Y = (−1, 2, 1), Z = (1, 7, 4)\\} $.\n",
    "\n",
    "Let's first imagine this as a linear combination: $ aX + bY + cZ = (0,0,0) $\n",
    "\n",
    "Expanded: $ a(1,1,1) + b(-1,2,1) + c(1,7,4) = (0,0,0) $\n",
    "\n",
    "And converted to a matrix:"
   ]
  },
  {
   "cell_type": "code",
   "execution_count": 2,
   "id": "3bf6c7df",
   "metadata": {},
   "outputs": [
    {
     "name": "stdout",
     "output_type": "stream",
     "text": [
      "M =\r\n",
      "\r\n",
      "   1  -1   1   0\r\n",
      "   1   2   7   0\r\n",
      "   1   1   4   0\r\n",
      "\r\n"
     ]
    }
   ],
   "source": [
    "M = [1 -1 1 0; 1 2 7 0; 1 1 4 0]"
   ]
  },
  {
   "cell_type": "code",
   "execution_count": 3,
   "id": "4f2bcf82",
   "metadata": {},
   "outputs": [
    {
     "name": "stdout",
     "output_type": "stream",
     "text": [
      "M =\r\n",
      "\r\n",
      "   1  -1   1   0\r\n",
      "   1   2   7   0\r\n",
      "   0  -1  -3   0\r\n",
      "\r\n"
     ]
    }
   ],
   "source": [
    "M(3,:) = M(3,:) + M(2,:) * -1"
   ]
  },
  {
   "cell_type": "code",
   "execution_count": 4,
   "id": "96ddfc58",
   "metadata": {},
   "outputs": [
    {
     "name": "stdout",
     "output_type": "stream",
     "text": [
      "M =\r\n",
      "\r\n",
      "   1  -1   1   0\r\n",
      "   0   3   6   0\r\n",
      "   0  -1  -3   0\r\n",
      "\r\n"
     ]
    }
   ],
   "source": [
    "M(2,:) = M(2,:) + M(1,:) * -1"
   ]
  },
  {
   "cell_type": "code",
   "execution_count": 6,
   "id": "fdb504ff",
   "metadata": {},
   "outputs": [
    {
     "name": "stdout",
     "output_type": "stream",
     "text": [
      "M =\r\n",
      "\r\n",
      "   1  -1   1   0\r\n",
      "   0   1   2   0\r\n",
      "   0  -1  -3   0\r\n",
      "\r\n"
     ]
    }
   ],
   "source": [
    "M(2,:) = M(2,:) * 1/3"
   ]
  },
  {
   "cell_type": "code",
   "execution_count": 7,
   "id": "5802178a",
   "metadata": {},
   "outputs": [
    {
     "name": "stdout",
     "output_type": "stream",
     "text": [
      "M =\r\n",
      "\r\n",
      "   1  -1   1   0\r\n",
      "   0   1   2   0\r\n",
      "   0   0  -1   0\r\n",
      "\r\n"
     ]
    }
   ],
   "source": [
    "M(3,:) = M(3,:) +M(2,:)"
   ]
  },
  {
   "cell_type": "code",
   "execution_count": 8,
   "id": "2ff604f0",
   "metadata": {},
   "outputs": [
    {
     "name": "stdout",
     "output_type": "stream",
     "text": [
      "M =\r\n",
      "\r\n",
      "   1  -1   1   0\r\n",
      "   0   1   2   0\r\n",
      "  -0  -0   1  -0\r\n",
      "\r\n"
     ]
    }
   ],
   "source": [
    "M(3,:) = M(3,:) * -1"
   ]
  },
  {
   "cell_type": "code",
   "execution_count": 9,
   "id": "699d9960",
   "metadata": {},
   "outputs": [
    {
     "name": "stdout",
     "output_type": "stream",
     "text": [
      "M =\r\n",
      "\r\n",
      "   1  -1   1   0\r\n",
      "   0   1   0   0\r\n",
      "  -0  -0   1  -0\r\n",
      "\r\n"
     ]
    }
   ],
   "source": [
    "M(2,:) = M(2,:) + M(3,:) * -2"
   ]
  },
  {
   "cell_type": "code",
   "execution_count": 10,
   "id": "4d38bb61",
   "metadata": {},
   "outputs": [
    {
     "name": "stdout",
     "output_type": "stream",
     "text": [
      "M =\r\n",
      "\r\n",
      "   1   0   1   0\r\n",
      "   0   1   0   0\r\n",
      "  -0  -0   1  -0\r\n",
      "\r\n"
     ]
    }
   ],
   "source": [
    "M(1,:) = M(1,:) + M(2,:)"
   ]
  },
  {
   "cell_type": "code",
   "execution_count": 11,
   "id": "953166d8",
   "metadata": {},
   "outputs": [
    {
     "name": "stdout",
     "output_type": "stream",
     "text": [
      "M =\r\n",
      "\r\n",
      "   1   0   0   0\r\n",
      "   0   1   0   0\r\n",
      "  -0  -0   1  -0\r\n",
      "\r\n"
     ]
    }
   ],
   "source": [
    "M(1,:) = M(1,:) + M(3,:) * -1"
   ]
  },
  {
   "cell_type": "markdown",
   "id": "84204447",
   "metadata": {},
   "source": [
    "This identity matrix has defined all values of scalars here, $ a = b = c = 0 $, which means this is a trivial solution. According to the earlier-mentioned theorem, this is a linearly independent set of vectors."
   ]
  },
  {
   "cell_type": "markdown",
   "id": "f723aac2",
   "metadata": {},
   "source": [
    "### Working with polynomial systems\n",
    "\n",
    "_Show that $ \\{p_1(x) = 1 + x^2 , p_2(x) = x^2 , p_3(x) = x^2 + 3\\} $ is a linearly dependent set in $ P_2(R) $ ._\n",
    "\n",
    "First, let's assume $ x=1 $.\n",
    "\n",
    "Next, let's represent these equations as set of vectors: $ \\{ (1, 1), (1,0), (1, 3) \\} $ . Note that all $ x^2 $ have the same value of their coefficients, which is 1 and that the values are rearranged to have the $x^2$ coefficient of 1 in the first place of every ordered pair.\n",
    "\n",
    "Let's now represent this as a linear combination. : $ \\alpha_1(1, 1) + \\alpha_2(1,0) + \\alpha_3(1, 3) = (0,0) $. \n",
    "\n",
    "From this, let's make a matrix with vectors represented as columns, including the zero vector added to make the equality:"
   ]
  },
  {
   "cell_type": "code",
   "execution_count": 1,
   "id": "873ba51b",
   "metadata": {},
   "outputs": [
    {
     "name": "stdout",
     "output_type": "stream",
     "text": [
      "M =\r\n",
      "\r\n",
      "   1   1   1   0\r\n",
      "   1   0   3   0\r\n",
      "\r\n"
     ]
    }
   ],
   "source": [
    "M = [1 1 1 0; 1 0 3 0];\n",
    "M"
   ]
  },
  {
   "cell_type": "code",
   "execution_count": 2,
   "id": "3e082395",
   "metadata": {},
   "outputs": [
    {
     "name": "stdout",
     "output_type": "stream",
     "text": [
      "M =\r\n",
      "\r\n",
      "   0   1  -2   0\r\n",
      "   1   0   3   0\r\n",
      "\r\n"
     ]
    }
   ],
   "source": [
    "M(1,:) = M(1,:) + M(2,:) * -1"
   ]
  },
  {
   "cell_type": "markdown",
   "id": "7975a48a",
   "metadata": {},
   "source": [
    "We can take this to mean, for any $ \\alpha_3 $, that $ \\alpha_2 = 2\\alpha_3, \\alpha_1 = -3\\alpha_3 $\n",
    "\n",
    "Suppose $ \\alpha_3 = -1 $, then $ \\alpha_1 = 3, \\alpha_2=-2 $\n",
    "\n",
    "Then, $ 3(1,1) + -2(1,0) + -1(1,3) = (0,0) $ is a non-trivial linear combination and the set of vectors $ \\{ (1, 1), (1,0), (1, 3) \\} $ is linearly dependent."
   ]
  }
 ],
 "metadata": {
  "kernelspec": {
   "display_name": "Octave",
   "language": "octave",
   "name": "octave"
  },
  "language_info": {
   "file_extension": ".m",
   "help_links": [
    {
     "text": "GNU Octave",
     "url": "https://www.gnu.org/software/octave/support.html"
    },
    {
     "text": "Octave Kernel",
     "url": "https://github.com/Calysto/octave_kernel"
    },
    {
     "text": "MetaKernel Magics",
     "url": "https://metakernel.readthedocs.io/en/latest/source/README.html"
    }
   ],
   "mimetype": "text/x-octave",
   "name": "octave",
   "version": "5.2.0"
  }
 },
 "nbformat": 4,
 "nbformat_minor": 5
}
