{
 "cells": [
  {
   "cell_type": "markdown",
   "id": "72752470",
   "metadata": {},
   "source": [
    "### Bakhshali Manuscript problem\n",
    "\n",
    "_This is a problem taken from \"elementary linear algebra applications version\", ex 10.3, Q2 a)_\n",
    "\n",
    "B has twice as much as A\n",
    "\n",
    "C has three times as much as B and A together\n",
    "\n",
    "D has four times as much as A, B and C together\n",
    "\n",
    "A,B,C and D have 300 between them\n",
    "\n",
    "How many does A have?"
   ]
  },
  {
   "cell_type": "markdown",
   "id": "d7b550ff",
   "metadata": {},
   "source": [
    "### Extract information\n",
    "\n",
    "$ B = 2A $\n",
    "\n",
    "$ C = 3A + 3B $\n",
    "\n",
    "$ D = 4A + 4B + 4C $\n",
    "\n",
    "$ A + B + C + D = 300 $"
   ]
  },
  {
   "cell_type": "markdown",
   "id": "ab6093ed",
   "metadata": {},
   "source": [
    "### Solving with substitution\n",
    "\n",
    "$ A = ? $\n",
    "\n",
    "$ B = 2A $\n",
    "\n",
    "$ C = 3(A + 2A) = 9A $\n",
    "\n",
    "$ D = 4(A + 2A + 9A) = 48A $\n",
    "\n",
    "$ A + B + C + D = 300 $\n",
    "\n",
    "$ A + 2A + 9A + 48A = 60A $\n",
    "\n",
    "$ \\therefore 60A = 300 $\n",
    "\n",
    "$ A = \\frac{300}{60} = 5 $\n"
   ]
  },
  {
   "cell_type": "markdown",
   "id": "67b91876",
   "metadata": {},
   "source": [
    "### Solving as with row transformations\n",
    "\n",
    "This is the hard way to solve the problem, but the interesting part is to see how to make a matrix from the problem.\n",
    "\n",
    "First, arrange the linear system of equations with all variables on the same side.\n",
    "\n",
    "$ -2A + B = 0 $\n",
    "\n",
    "$ -3A - 3B + C = 0 $\n",
    "\n",
    "$ -4A -4B -4C + D = 0 $\n",
    "\n",
    "$ A + B + C + D = 300 $\n",
    "\n",
    "Then, you can treat the columns as variables:"
   ]
  },
  {
   "cell_type": "code",
   "execution_count": 1,
   "id": "cfeec7d6",
   "metadata": {},
   "outputs": [
    {
     "name": "stdout",
     "output_type": "stream",
     "text": [
      "M =\r\n",
      "\r\n",
      "         -2          1          0          0          0\r\n",
      "         -3         -3          1          0          0\r\n",
      "         -4         -4         -4          1          0\r\n",
      "          1          1          1          1        300\r\n",
      "\r\n"
     ]
    }
   ],
   "source": [
    "format rat\n",
    "M = [-2 1 0 0 0; -3 -3 1 0 0; -4 -4 -4 1 0; 1 1 1 1 300]"
   ]
  },
  {
   "cell_type": "code",
   "execution_count": 2,
   "id": "54cdb252",
   "metadata": {},
   "outputs": [],
   "source": [
    "M(3,:) = M(3,:) + M(2,:) * -1;"
   ]
  },
  {
   "cell_type": "code",
   "execution_count": 3,
   "id": "9d70b445",
   "metadata": {},
   "outputs": [],
   "source": [
    "M(3,:) = M(3,:) + M(4,:);"
   ]
  },
  {
   "cell_type": "code",
   "execution_count": 4,
   "id": "6d411c81",
   "metadata": {},
   "outputs": [],
   "source": [
    "M(2,:) = M(2,:) + M(1,:) * -1;"
   ]
  },
  {
   "cell_type": "code",
   "execution_count": 5,
   "id": "0be6b063",
   "metadata": {},
   "outputs": [],
   "source": [
    "M(1,:) = M(1,:) + M(2,:) * -1;"
   ]
  },
  {
   "cell_type": "code",
   "execution_count": 6,
   "id": "5e100c3b",
   "metadata": {},
   "outputs": [],
   "source": [
    "M(2,:) = M(2,:) + M(4,:);"
   ]
  },
  {
   "cell_type": "code",
   "execution_count": 7,
   "id": "7ee56415",
   "metadata": {},
   "outputs": [],
   "source": [
    "M(1,:) = M(1,:) + M(4,:) *2;"
   ]
  },
  {
   "cell_type": "code",
   "execution_count": 8,
   "id": "072c0675",
   "metadata": {},
   "outputs": [],
   "source": [
    "M(4,:) = M(4,:) + M(1,:) *-1;"
   ]
  },
  {
   "cell_type": "code",
   "execution_count": 9,
   "id": "df4fa9eb",
   "metadata": {},
   "outputs": [],
   "source": [
    "M(4,:) = M(4,:) + M(2,:) *-2;"
   ]
  },
  {
   "cell_type": "code",
   "execution_count": 10,
   "id": "6bea7eef",
   "metadata": {},
   "outputs": [
    {
     "name": "stdout",
     "output_type": "stream",
     "text": [
      "M =\r\n",
      "\r\n",
      "          1          7          1          2        600\r\n",
      "          0         -3          2          1        300\r\n",
      "          0          0         -4          2        300\r\n",
      "          0          0          0         -5      -1200\r\n",
      "\r\n"
     ]
    }
   ],
   "source": [
    "M(4,:) = M(4,:) + M(3,:) *-1"
   ]
  },
  {
   "cell_type": "code",
   "execution_count": 11,
   "id": "932d5168",
   "metadata": {},
   "outputs": [],
   "source": [
    "M(4,:) = M(4,:) * -1/5;"
   ]
  },
  {
   "cell_type": "code",
   "execution_count": 12,
   "id": "9140386b",
   "metadata": {},
   "outputs": [],
   "source": [
    "M(3,:) = M(3,:) + M(4,:) * -2;"
   ]
  },
  {
   "cell_type": "code",
   "execution_count": 13,
   "id": "0e7b8e1d",
   "metadata": {},
   "outputs": [],
   "source": [
    "M(3,:) = M(3,:) * -1/4;"
   ]
  },
  {
   "cell_type": "code",
   "execution_count": 14,
   "id": "14d2691f",
   "metadata": {},
   "outputs": [],
   "source": [
    "M(2,:) = M(2,:) * -1/3;"
   ]
  },
  {
   "cell_type": "code",
   "execution_count": 15,
   "id": "d3706a59",
   "metadata": {},
   "outputs": [],
   "source": [
    "M(2,:) = M(2,:) + M(3,:) * 2/3;"
   ]
  },
  {
   "cell_type": "code",
   "execution_count": 16,
   "id": "9ed56376",
   "metadata": {},
   "outputs": [],
   "source": [
    "M(2,:) = M(2,:) + M(4,:) * 1/3;"
   ]
  },
  {
   "cell_type": "code",
   "execution_count": 17,
   "id": "336f8ffd",
   "metadata": {},
   "outputs": [],
   "source": [
    "M(1,:) = M(1,:) + M(2,:) * -7;"
   ]
  },
  {
   "cell_type": "code",
   "execution_count": 18,
   "id": "1762dc24",
   "metadata": {},
   "outputs": [],
   "source": [
    "M(1,:) = M(1,:) + M(3,:) * -1;"
   ]
  },
  {
   "cell_type": "code",
   "execution_count": 19,
   "id": "d24f917c",
   "metadata": {},
   "outputs": [
    {
     "name": "stdout",
     "output_type": "stream",
     "text": [
      "M =\r\n",
      "\r\n",
      "          1          0          0          0          5\r\n",
      "         -0          1          0          0         10\r\n",
      "         -0         -0          1         -0         45\r\n",
      "         -0         -0         -0          1        240\r\n",
      "\r\n"
     ]
    }
   ],
   "source": [
    "M(1,:) = M(1,:) + M(4,:) * -2"
   ]
  }
 ],
 "metadata": {
  "kernelspec": {
   "display_name": "Octave",
   "language": "octave",
   "name": "octave"
  },
  "language_info": {
   "file_extension": ".m",
   "help_links": [
    {
     "text": "GNU Octave",
     "url": "https://www.gnu.org/software/octave/support.html"
    },
    {
     "text": "Octave Kernel",
     "url": "https://github.com/Calysto/octave_kernel"
    },
    {
     "text": "MetaKernel Magics",
     "url": "https://metakernel.readthedocs.io/en/latest/source/README.html"
    }
   ],
   "mimetype": "text/x-octave",
   "name": "octave",
   "version": "5.2.0"
  }
 },
 "nbformat": 4,
 "nbformat_minor": 5
}
